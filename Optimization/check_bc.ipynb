{
 "metadata": {
  "language_info": {
   "codemirror_mode": {
    "name": "ipython",
    "version": 3
   },
   "file_extension": ".py",
   "mimetype": "text/x-python",
   "name": "python",
   "nbconvert_exporter": "python",
   "pygments_lexer": "ipython3",
   "version": 3
  },
  "orig_nbformat": 2,
  "kernelspec": {
   "name": "julia-1.4",
   "display_name": "Julia 1.4.1",
   "language": "julia"
  }
 },
 "nbformat": 4,
 "nbformat_minor": 2,
 "cells": [
  {
   "cell_type": "code",
   "execution_count": 1,
   "metadata": {},
   "outputs": [
    {
     "output_type": "stream",
     "name": "stderr",
     "text": [
      "WARNING: using param.param in module aux_functions conflicts with an existing identifier.\nWARNING: could not import HDF5.HDF5Group into _hdf5_implementation\nWARNING: could not import HDF5.HDF5Dataset into _hdf5_implementation\n┌ Warning: Error requiring `HDF5` from `Plots`\n│   exception = (LoadError(\"/home/dimitrios/.julia/packages/Plots/uCh2y/src/backends/hdf5.jl\", 162, UndefVarError(:HDF5Group)), Union{Ptr{Nothing}, Base.InterpreterIP}[Ptr{Nothing} @0x00007f8297f00843, Ptr{Nothing} @0x00007f8297f8d17c, Ptr{Nothing} @0x00007f8297f8d73b, Ptr{Nothing} @0x00007f8297f8d389, Ptr{Nothing} @0x00007f8297f8d8f0, Ptr{Nothing} @0x00007f8297f8e9c8, Ptr{Nothing} @0x00007f8297f8f616, Base.InterpreterIP in top-level CodeInfo for Plots._hdf5_implementation at statement 4, Ptr{Nothing} @0x00007f8297fa7e08, Ptr{Nothing} @0x00007f8297fa878e, Ptr{Nothing} @0x00007f8297fa813a, Ptr{Nothing} @0x00007f8297fa83c8, Ptr{Nothing} @0x00007f8297f83105, Ptr{Nothing} @0x00007f8297fa915d, Ptr{Nothing} @0x00007f828a244fa1, Ptr{Nothing} @0x00007f8252f5bc7c, Ptr{Nothing} @0x00007f8297f8d75b, Ptr{Nothing} @0x00007f8297f8d389, Ptr{Nothing} @0x00007f8297f8d8f0, Ptr{Nothing} @0x00007f8297f8e9c8, Ptr{Nothing} @0x00007f8297f8f616, Base.InterpreterIP in top-level CodeInfo for Plots at statement 10, Ptr{Nothing} @0x00007f8297fa7e08, Ptr{Nothing} @0x00007f8297fa8f20, Ptr{Nothing} @0x00007f8252f487a1, Ptr{Nothing} @0x00007f8252f487cc, Ptr{Nothing} @0x00007f8252f48224, Ptr{Nothing} @0x00007f8252f47fa7, Ptr{Nothing} @0x00007f8252f47fbc, Ptr{Nothing} @0x00007f8252f47e12, Ptr{Nothing} @0x00007f8252f477a5, Ptr{Nothing} @0x00007f8252f477cc, Ptr{Nothing} @0x00007f8252f35d95, Ptr{Nothing} @0x00007f8252f36418, Ptr{Nothing} @0x00007f8252f36c9c, Ptr{Nothing} @0x00007f8297fa74d1, Ptr{Nothing} @0x00007f8297f9ebfc, Ptr{Nothing} @0x00007f8283fd69ce, Ptr{Nothing} @0x00007f8283fd8512, Ptr{Nothing} @0x00007f8283fdd16b, Ptr{Nothing} @0x00007f8283fdf324, Ptr{Nothing} @0x00007f8283fcba42, Ptr{Nothing} @0x00007f8297fa7113, Ptr{Nothing} @0x00007f8297fa8266, Ptr{Nothing} @0x00007f8297fa878e, Ptr{Nothing} @0x00007f8297fa813a, Ptr{Nothing} @0x00007f8297f83105, Ptr{Nothing} @0x00007f8297fa915d, Ptr{Nothing} @0x00007f828a3cc23b, Ptr{Nothing} @0x00007f8297f8d75b, Ptr{Nothing} @0x00007f8297f8d389, Ptr{Nothing} @0x00007f8297f8d8f0, Ptr{Nothing} @0x00007f8297f8e9c8, Ptr{Nothing} @0x00007f8297f8f616, Base.InterpreterIP in top-level CodeInfo for Main at statement 0, Ptr{Nothing} @0x00007f8297fa7e08, Ptr{Nothing} @0x00007f8297fa83c8, Ptr{Nothing} @0x00007f8297fa8f20, Ptr{Nothing} @0x00007f8283f6e036, Ptr{Nothing} @0x00007f8283f69d5e, Ptr{Nothing} @0x00007f8297f85df8, Ptr{Nothing} @0x00007f8297f86565, Ptr{Nothing} @0x00007f8283f5c7c2, Ptr{Nothing} @0x00007f8283f5c99e, Ptr{Nothing} @0x00007f8283f5c9bc, Ptr{Nothing} @0x00007f8297f92cbb, Ptr{Nothing} @0x0000000000000000])\n└ @ Requires /home/dimitrios/.julia/packages/Requires/035xH/src/require.jl:44\n"
     ]
    }
   ],
   "source": [
    "include(\"./param.jl\");\n",
    "include(\"./aux_functions.jl\");"
   ]
  },
  {
   "cell_type": "code",
   "execution_count": 2,
   "metadata": {},
   "outputs": [],
   "source": [
    "using Main.aux_functions\n",
    "using Main.param"
   ]
  },
  {
   "cell_type": "code",
   "execution_count": 3,
   "metadata": {},
   "outputs": [],
   "source": [
    "using ADCME\n"
   ]
  },
  {
   "cell_type": "code",
   "execution_count": 4,
   "metadata": {},
   "outputs": [],
   "source": [
    "param_model_val = param_model();"
   ]
  },
  {
   "cell_type": "code",
   "execution_count": 6,
   "metadata": {},
   "outputs": [
    {
     "output_type": "error",
     "ename": "UndefVarError",
     "evalue": "UndefVarError: model_param not defined",
     "traceback": [
      "UndefVarError: model_param not defined",
      "",
      "Stacktrace:",
      " [1] left_BC(::Int64) at /media/dimitrios/Misc/Research_git/Research_information_theory_2/Optimization/aux_functions.jl:20",
      " [2] top-level scope at In[6]:1"
     ]
    }
   ],
   "source": [
    "aux_functions.left_BC(5)"
   ]
  },
  {
   "cell_type": "code",
   "execution_count": 7,
   "metadata": {},
   "outputs": [
    {
     "output_type": "error",
     "ename": "ErrorException",
     "evalue": "cannot assign variables in other modules",
     "traceback": [
      "cannot assign variables in other modules",
      "",
      "Stacktrace:",
      " [1] setproperty!(::Module, ::Symbol, ::param_model) at ./Base.jl:27",
      " [2] top-level scope at In[7]:1"
     ]
    }
   ],
   "source": [
    "aux_functions.model_param = param_model_val"
   ]
  },
  {
   "cell_type": "code",
   "execution_count": 9,
   "metadata": {},
   "outputs": [
    {
     "output_type": "execute_result",
     "data": {
      "text/plain": [
       "64-element Array{Float64,1}:\n",
       " 0.8794543608997676\n",
       " 0.8742166600837531\n",
       " 0.8687825378715153\n",
       " 0.8631355318682201\n",
       " 0.8572582622145835\n",
       " 0.8511324793813748\n",
       " 0.8447391382716221\n",
       " 0.8380585031857886\n",
       " 0.831070288383039\n",
       " 0.8237538389790168\n",
       " 0.8160883566944677\n",
       " 0.8080531744394696\n",
       " 0.7996280828110537\n",
       " ⋮\n",
       " 0.29194682556053037\n",
       " 0.2839116433055324\n",
       " 0.27624616102098337\n",
       " 0.26892971161696105\n",
       " 0.26194149681421147\n",
       " 0.2552608617283779\n",
       " 0.24886752061862527\n",
       " 0.24274173778541655\n",
       " 0.23686446813177997\n",
       " 0.23121746212848474\n",
       " 0.22578333991624697\n",
       " 0.2205456391002325"
      ]
     },
     "metadata": {},
     "execution_count": 9
    }
   ],
   "source": [
    "H = map(aux_functions.expit,-LinRange(-31.5,31.5,64)/10) /2 .+ 0.2\n",
    "\n",
    "\n",
    "H +LinRange(0.2,0,64)"
   ]
  },
  {
   "cell_type": "code",
   "execution_count": null,
   "metadata": {},
   "outputs": [],
   "source": []
  }
 ]
}