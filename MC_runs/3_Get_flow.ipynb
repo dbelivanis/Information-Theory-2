{
 "cells": [
  {
   "source": [
    "### Libraries"
   ],
   "cell_type": "markdown",
   "metadata": {}
  },
  {
   "cell_type": "code",
   "execution_count": 1,
   "metadata": {},
   "outputs": [],
   "source": [
    "import matplotlib.pyplot as plt\n",
    "from scipy import stats\n",
    "import numpy as np\n",
    "import pandas as pd\n",
    "import time\n",
    "from tqdm.notebook import tnrange, tqdm\n",
    "import os"
   ]
  },
  {
   "source": [
    "### Inputs parameters"
   ],
   "cell_type": "markdown",
   "metadata": {}
  },
  {
   "cell_type": "code",
   "execution_count": 2,
   "metadata": {},
   "outputs": [],
   "source": [
    "Ntsteps = 1800\n",
    "Ninterfaces = 63\n",
    "Nx = 64\n",
    "Ny = Nx\n",
    "Nr = 100\n",
    "L = 1.\n",
    "dx = L/Nx\n",
    "dy = dx"
   ]
  },
  {
   "cell_type": "code",
   "execution_count": 3,
   "metadata": {},
   "outputs": [],
   "source": [
    "# run_name = 'Run_no_zero_flow_Run_1610993549'\n",
    "folder_name = 'MC_runs/Run_no_zero_flow_Run_1613752497/MC/runs/'"
   ]
  },
  {
   "source": [
    "### Create aux variables"
   ],
   "cell_type": "markdown",
   "metadata": {}
  },
  {
   "cell_type": "code",
   "execution_count": 4,
   "metadata": {},
   "outputs": [],
   "source": [
    "k=np.zeros(Nx*Ny)\n",
    "qcell = np.zeros((Ny,Ntsteps))\n",
    "q_x = np.zeros((Nr,Ntsteps))\n",
    "q_y = np.zeros((Nr,Ntsteps))\n",
    "\n",
    "HMC = np.zeros((Nr+2,Nx,Ntsteps))"
   ]
  },
  {
   "cell_type": "code",
   "execution_count": 5,
   "metadata": {},
   "outputs": [],
   "source": [
    "def harm_2(a,b):\n",
    "    \n",
    "    harm = 1/a+1/b\n",
    "    harm = 2/harm\n",
    "    \n",
    "    return harm"
   ]
  },
  {
   "cell_type": "code",
   "execution_count": 6,
   "metadata": {},
   "outputs": [
    {
     "output_type": "display_data",
     "data": {
      "text/plain": "  0%|          | 0/100 [00:00<?, ?it/s]",
      "application/vnd.jupyter.widget-view+json": {
       "version_major": 2,
       "version_minor": 0,
       "model_id": "3abc9092cee34043bfb5d0f988a1a41e"
      }
     },
     "metadata": {}
    }
   ],
   "source": [
    "q_tot_x = list()\n",
    "q_tot_y = list()\n",
    "\n",
    "for ir in tnrange(1,101):\n",
    "#     print(ir)\n",
    "    #     time.sleep(10)\n",
    "    f = open(f'./{folder_name}/{ir}/6_months_run.hed')\n",
    "    f_k = open(f'./{folder_name}/{ir}/karray_1.0.txt')\n",
    "\n",
    "    hmc = np.loadtxt(f)\n",
    "    K = np.loadtxt(f_k)\n",
    "\n",
    "    P = hmc.reshape((Ntsteps,64,64))\n",
    "    K = K.reshape((64,64)) \n",
    "\n",
    "    dP_x_u = P[:,15:3*16:16, 15:3*16:16] - P[:,15:3*16:16, 15+1:3*16+1:16]\n",
    "    k_x_u = harm_2(K[15:3*16:16,15:3*16:16],K[15:3*16:16,15+1:3*16+1:16])\n",
    "\n",
    "    dP_x_d = P[:,15+1:4*16:16, 15:3*16:16] - P[:,15+1:4*16:16, 15+1:3*16+1:16]\n",
    "    k_x_d = harm_2(K[15+1:4*16:16,15:3*16:16],K[15+1:4*16:16,15+1:3*16+1:16])\n",
    "\n",
    "\n",
    "    q_x = (dP_x_u*k_x_u+dP_x_d*k_x_d)/(2*dx)\n",
    "\n",
    "\n",
    "\n",
    "\n",
    "\n",
    "    dP_y_l = P[:,15:3*16:16, 15:3*16:16] - P[:,15+1:3*16+1:16, 15:3*16:16]\n",
    "    k_y_l = harm_2(K[15:3*16:16,15:3*16:16],K[15+1:3*16+1:16,15:3*16:16])\n",
    "\n",
    "    dP_y_r = P[:,15:3*16:16, 15+1:3*16+1:16] - P[:,15+1:4*16:16, 15+1:3*16+1:16]\n",
    "    k_y_r = harm_2(K[15:3*16:16,15+1:3*16+1:16],K[15+1:4*16:16,15+1:3*16+1:16])\n",
    "\n",
    "\n",
    "    q_y = (dP_y_l*k_y_l+dP_y_r*k_y_r)/(2*dx)\n",
    "\n",
    "    q_tot_x.append(q_x)\n",
    "    q_tot_y.append(q_y)\n"
   ]
  },
  {
   "source": [
    "### Save parameters"
   ],
   "cell_type": "markdown",
   "metadata": {}
  },
  {
   "cell_type": "code",
   "execution_count": 7,
   "metadata": {},
   "outputs": [],
   "source": [
    "q_x_list = np.reshape(np.array(q_tot_x),(100,1800,9))\n",
    "q_y_list = np.reshape(np.array(q_tot_y),(100,1800,9))"
   ]
  },
  {
   "cell_type": "code",
   "execution_count": 8,
   "metadata": {},
   "outputs": [],
   "source": [
    "os.mkdir(f'./{folder_name}/../flow')"
   ]
  },
  {
   "cell_type": "code",
   "execution_count": 9,
   "metadata": {},
   "outputs": [],
   "source": [
    "for i in range(0,9):\n",
    "    \n",
    "    np.savetxt(f'./{folder_name}/../flow/Q_x_{i+1}.txt',q_x_list[:,:,i])"
   ]
  },
  {
   "cell_type": "code",
   "execution_count": 10,
   "metadata": {},
   "outputs": [],
   "source": [
    "for i in range(0,9):\n",
    "    \n",
    "    np.savetxt(f'./{folder_name}/../flow/Q_y_{i+1}.txt',q_y_list[:,:,i])"
   ]
  },
  {
   "cell_type": "code",
   "execution_count": 11,
   "metadata": {},
   "outputs": [],
   "source": [
    "\n",
    "\n",
    "# np.savetxt(f'./{folder_name}/exitq_x_check.txt',np.reshape(np.array(q_tot_x),(1,-1)))\n",
    "# np.savetxt(f'./{folder_name}/exitq_y_check.txt',np.reshape(np.array(q_tot_y),(1,-1)))"
   ]
  },
  {
   "cell_type": "code",
   "execution_count": 13,
   "metadata": {},
   "outputs": [
    {
     "output_type": "execute_result",
     "data": {
      "text/plain": [
       "'MC_runs/Run_no_zero_flow_Run_1613752497/MC/runs/'"
      ]
     },
     "metadata": {},
     "execution_count": 13
    }
   ],
   "source": [
    "folder_name"
   ]
  },
  {
   "cell_type": "code",
   "execution_count": null,
   "metadata": {},
   "outputs": [],
   "source": []
  }
 ],
 "metadata": {
  "kernelspec": {
   "display_name": "Python 3",
   "language": "python",
   "name": "python3"
  },
  "language_info": {
   "codemirror_mode": {
    "name": "ipython",
    "version": 3
   },
   "file_extension": ".py",
   "mimetype": "text/x-python",
   "name": "python",
   "nbconvert_exporter": "python",
   "pygments_lexer": "ipython3",
   "version": "3.7.7"
  }
 },
 "nbformat": 4,
 "nbformat_minor": 4
}