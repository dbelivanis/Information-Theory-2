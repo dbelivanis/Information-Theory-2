{
 "metadata": {
  "language_info": {
   "codemirror_mode": {
    "name": "ipython",
    "version": 3
   },
   "file_extension": ".py",
   "mimetype": "text/x-python",
   "name": "python",
   "nbconvert_exporter": "python",
   "pygments_lexer": "ipython3",
   "version": "3.8.5-final"
  },
  "orig_nbformat": 2,
  "kernelspec": {
   "name": "julia-1.4",
   "display_name": "Julia 1.4.1",
   "language": "julia"
  }
 },
 "nbformat": 4,
 "nbformat_minor": 2,
 "cells": [
  {
   "cell_type": "code",
   "execution_count": 1,
   "metadata": {},
   "outputs": [
    {
     "output_type": "stream",
     "name": "stderr",
     "text": [
      "WARNING: using param.param in module aux_functions conflicts with an existing identifier.\nWARNING: could not import HDF5.HDF5Group into _hdf5_implementation\nWARNING: could not import HDF5.HDF5Dataset into _hdf5_implementation\n┌ Warning: Error requiring `HDF5` from `Plots`\n│   exception = (LoadError(\"/home/dimitrios/.julia/packages/Plots/uCh2y/src/backends/hdf5.jl\", 162, UndefVarError(:HDF5Group)), Union{Ptr{Nothing}, Base.InterpreterIP}[Ptr{Nothing} @0x00007f21ec93a843, Ptr{Nothing} @0x00007f21ec9c717c, Ptr{Nothing} @0x00007f21ec9c773b, Ptr{Nothing} @0x00007f21ec9c7389, Ptr{Nothing} @0x00007f21ec9c78f0, Ptr{Nothing} @0x00007f21ec9c89c8, Ptr{Nothing} @0x00007f21ec9c9616, Base.InterpreterIP in top-level CodeInfo for Plots._hdf5_implementation at statement 4, Ptr{Nothing} @0x00007f21ec9e1e08, Ptr{Nothing} @0x00007f21ec9e278e, Ptr{Nothing} @0x00007f21ec9e213a, Ptr{Nothing} @0x00007f21ec9e23c8, Ptr{Nothing} @0x00007f21ec9bd105, Ptr{Nothing} @0x00007f21ec9e315d, Ptr{Nothing} @0x00007f21dec7efa1, Ptr{Nothing} @0x00007f21a52e012c, Ptr{Nothing} @0x00007f21ec9c775b, Ptr{Nothing} @0x00007f21ec9c7389, Ptr{Nothing} @0x00007f21ec9c78f0, Ptr{Nothing} @0x00007f21ec9c89c8, Ptr{Nothing} @0x00007f21ec9c9616, Base.InterpreterIP in top-level CodeInfo for Plots at statement 10, Ptr{Nothing} @0x00007f21ec9e1e08, Ptr{Nothing} @0x00007f21ec9e2f20, Ptr{Nothing} @0x00007f21a52ccc51, Ptr{Nothing} @0x00007f21a52ccc7c, Ptr{Nothing} @0x00007f21a52cc6d4, Ptr{Nothing} @0x00007f21a52cc457, Ptr{Nothing} @0x00007f21a52cc46c, Ptr{Nothing} @0x00007f21a52cc2c2, Ptr{Nothing} @0x00007f21a52cbc55, Ptr{Nothing} @0x00007f21a52cbc7c, Ptr{Nothing} @0x00007f21a52ba245, Ptr{Nothing} @0x00007f21a52ba8c8, Ptr{Nothing} @0x00007f21a52bb14c, Ptr{Nothing} @0x00007f21ec9e14d1, Ptr{Nothing} @0x00007f21ec9d8bfc, Ptr{Nothing} @0x00007f21d8a1ec2e, Ptr{Nothing} @0x00007f21d8a20772, Ptr{Nothing} @0x00007f21d8a253cb, Ptr{Nothing} @0x00007f21d8a27584, Ptr{Nothing} @0x00007f21d8a13ca2, Ptr{Nothing} @0x00007f21ec9e1113, Ptr{Nothing} @0x00007f21ec9e2266, Ptr{Nothing} @0x00007f21ec9e278e, Ptr{Nothing} @0x00007f21ec9e213a, Ptr{Nothing} @0x00007f21ec9bd105, Ptr{Nothing} @0x00007f21ec9e315d, Ptr{Nothing} @0x00007f21dee0623b, Ptr{Nothing} @0x00007f21ec9c775b, Ptr{Nothing} @0x00007f21ec9c7389, Ptr{Nothing} @0x00007f21ec9c78f0, Ptr{Nothing} @0x00007f21ec9c89c8, Ptr{Nothing} @0x00007f21ec9c9616, Base.InterpreterIP in top-level CodeInfo for Main at statement 0, Ptr{Nothing} @0x00007f21ec9e1e08, Ptr{Nothing} @0x00007f21ec9e23c8, Ptr{Nothing} @0x00007f21ec9e2f20, Ptr{Nothing} @0x00007f21d89b6296, Ptr{Nothing} @0x00007f21d89b1fbe, Ptr{Nothing} @0x00007f21ec9bfdf8, Ptr{Nothing} @0x00007f21ec9c0565, Ptr{Nothing} @0x00007f21d89967c2, Ptr{Nothing} @0x00007f21d899699e, Ptr{Nothing} @0x00007f21d89969bc, Ptr{Nothing} @0x00007f21ec9cccbb, Ptr{Nothing} @0x0000000000000000])\n└ @ Requires /home/dimitrios/.julia/packages/Requires/035xH/src/require.jl:44\n"
     ]
    }
   ],
   "source": [
    "include(\"./param.jl\");\n",
    "include(\"./aux_functions.jl\");"
   ]
  },
  {
   "cell_type": "code",
   "execution_count": 2,
   "metadata": {},
   "outputs": [],
   "source": [
    "using Main.aux_functions\n",
    "using Main.param"
   ]
  },
  {
   "cell_type": "code",
   "execution_count": 3,
   "metadata": {},
   "outputs": [],
   "source": [
    "using ADCME\n",
    "using SparseArrays\n",
    "\n",
    "using DelimitedFiles\n",
    "using Dates\n",
    "using Plots"
   ]
  },
  {
   "cell_type": "code",
   "execution_count": 4,
   "metadata": {},
   "outputs": [
    {
     "output_type": "execute_result",
     "data": {
      "text/plain": [
       "\"22:31\""
      ]
     },
     "metadata": {},
     "execution_count": 4
    }
   ],
   "source": [
    "Dates.format(now(), \"HH:MM\") "
   ]
  },
  {
   "cell_type": "code",
   "execution_count": 5,
   "metadata": {},
   "outputs": [],
   "source": [
    "param_model_val = param_model(N_steps=600);\n",
    "tf_variables, h_t, q_t_x, q_t_y = Darcy_flow_solver(param_model_val);"
   ]
  },
  {
   "cell_type": "code",
   "execution_count": 6,
   "metadata": {},
   "outputs": [
    {
     "output_type": "execute_result",
     "data": {
      "text/plain": [
       "([0.04586718291384128, 0.046338397114360094, 0.04678979615026386, 0.04720903541341705, 0.047588938616224805, 0.04795865036388325, 0.04831587120378633, 0.04865358637066553, 0.04897567097529809, 0.04930382818857029  …  0.11431656523675568, 0.11431322906679736, 0.11431774976476262, 0.11431772651840164, 0.11431439031455332, 0.11432224730797826, 0.11431888782364145, 0.11431671288084448, 0.11432340867094072, 0.114320049152476], [0.006989783376535274, 0.006637092005511772, 0.006363350583205923, 0.006133691332780854, 0.00594613171015112, 0.005766743015150412, 0.005602607031459307, 0.00544582809359381, 0.005306864055674096, 0.005172828621523682  …  0.003183753932196078, 0.0031821466061349763, 0.003183841535220122, 0.003183785765278769, 0.0031821625146409975, 0.0031821784233059, 0.0031838016820590143, 0.0031821943321298676, 0.0031821943321298676, 0.003183817598998221])"
      ]
     },
     "metadata": {},
     "execution_count": 6
    }
   ],
   "source": [
    "k_x, k_y = param.load_K_s(param_model_val)"
   ]
  },
  {
   "source": [
    "loss, opt_ADAM, opt_LFGS, opt_ADAM_sum, opt_LFGS_sum, diff_eval,p_pre_soft_max, p = Info_upscale(tf_variables,param_model_val,q_t_x, q_t_y,50)"
   ],
   "cell_type": "code",
   "metadata": {},
   "execution_count": 7,
   "outputs": [
    {
     "output_type": "stream",
     "name": "stdout",
     "text": [
      "2.830469177224561e-5/home/dimitrios/.julia/adcme/lib/python3.7/site-packages/tensorflow_core/python/framework/indexed_slices.py:424: UserWarning: Converting sparse IndexedSlices to a dense Tensor of unknown shape. This may consume a large amount of memory.\n",
      "  \"Converting sparse IndexedSlices to a dense Tensor of unknown shape. \"\n",
      "/home/dimitrios/.julia/adcme/lib/python3.7/site-packages/tensorflow_core/python/framework/indexed_slices.py:424: UserWarning: Converting sparse IndexedSlices to a dense Tensor of unknown shape. This may consume a large amount of memory.\n",
      "  \"Converting sparse IndexedSlices to a dense Tensor of unknown shape. \"\n",
      "/home/dimitrios/.julia/adcme/lib/python3.7/site-packages/tensorflow_core/python/framework/indexed_slices.py:424: UserWarning: Converting sparse IndexedSlices to a dense Tensor of unknown shape. This may consume a large amount of memory.\n",
      "  \"Converting sparse IndexedSlices to a dense Tensor of unknown shape. \"\n",
      "/home/dimitrios/.julia/adcme/lib/python3.7/site-packages/tensorflow_core/python/framework/indexed_slices.py:424: UserWarning: Converting sparse IndexedSlices to a dense Tensor of unknown shape. This may consume a large amount of memory.\n",
      "  \"Converting sparse IndexedSlices to a dense Tensor of unknown shape. \"\n"
     ]
    },
    {
     "output_type": "execute_result",
     "data": {
      "text/plain": [
       "(PyObject <tf.Tensor 'add_72:0' shape=() dtype=float64>, PyObject <tf.Operation 'Adam' type=NoOp>, PyObject <tensorflow.contrib.opt.python.training.external_optimizer.ScipyOptimizerInterface object at 0x7f20f3b70d90>, PyObject <tf.Operation 'Adam_1' type=NoOp>, PyObject <tensorflow.contrib.opt.python.training.external_optimizer.ScipyOptimizerInterface object at 0x7f20f0706d50>, PyObject <tf.Tensor 'Max_1:0' shape=() dtype=float64>, PyObject <tf.Variable 'Variable_3:0' shape=(1, 64) dtype=float64_ref>, PyObject <tf.Tensor 'Softmax:0' shape=(1, 64) dtype=float64>)"
      ]
     },
     "metadata": {},
     "execution_count": 7
    }
   ]
  },
  {
   "cell_type": "code",
   "execution_count": 8,
   "metadata": {},
   "outputs": [
    {
     "output_type": "stream",
     "name": "stderr",
     "text": [
      "2021-05-13 22:31:39.146726: I tensorflow/core/platform/cpu_feature_guard.cc:142] Your CPU supports instructions that this TensorFlow binary was not compiled to use: SSE4.1 SSE4.2 AVX AVX2 FMA\n2021-05-13 22:31:39.182493: I tensorflow/core/platform/profile_utils/cpu_utils.cc:94] CPU Frequency: 2599990000 Hz\n2021-05-13 22:31:39.183016: I tensorflow/compiler/xla/service/service.cc:168] XLA service 0x55b8208de790 initialized for platform Host (this does not guarantee that XLA will be used). Devices:\n2021-05-13 22:31:39.183233: I tensorflow/compiler/xla/service/service.cc:176]   StreamExecutor device (0): Host, Default Version\n2021-05-13 22:31:39.188300: I tensorflow/stream_executor/platform/default/dso_loader.cc:44] Successfully opened dynamic library libcuda.so.1\n2021-05-13 22:31:39.271485: I tensorflow/stream_executor/cuda/cuda_gpu_executor.cc:983] successful NUMA node read from SysFS had negative value (-1), but there must be at least one NUMA node, so returning NUMA node zero\n2021-05-13 22:31:39.271834: I tensorflow/compiler/xla/service/service.cc:168] XLA service 0x55b81b16c580 initialized for platform CUDA (this does not guarantee that XLA will be used). Devices:\n2021-05-13 22:31:39.271850: I tensorflow/compiler/xla/service/service.cc:176]   StreamExecutor device (0): GeForce GTX 1650, Compute Capability 7.5\n2021-05-13 22:31:39.272224: I tensorflow/stream_executor/cuda/cuda_gpu_executor.cc:983] successful NUMA node read from SysFS had negative value (-1), but there must be at least one NUMA node, so returning NUMA node zero\n2021-05-13 22:31:39.272462: I tensorflow/core/common_runtime/gpu/gpu_device.cc:1618] Found device 0 with properties: \nname: GeForce GTX 1650 major: 7 minor: 5 memoryClockRate(GHz): 1.56\npciBusID: 0000:01:00.0\n2021-05-13 22:31:39.273572: I tensorflow/stream_executor/platform/default/dso_loader.cc:44] Successfully opened dynamic library libcudart.so.10.0\n2021-05-13 22:31:39.297691: I tensorflow/stream_executor/platform/default/dso_loader.cc:44] Successfully opened dynamic library libcublas.so.10.0\n2021-05-13 22:31:39.312634: I tensorflow/stream_executor/platform/default/dso_loader.cc:44] Successfully opened dynamic library libcufft.so.10.0\n2021-05-13 22:31:39.320217: I tensorflow/stream_executor/platform/default/dso_loader.cc:44] Successfully opened dynamic library libcurand.so.10.0\n2021-05-13 22:31:39.357176: I tensorflow/stream_executor/platform/default/dso_loader.cc:44] Successfully opened dynamic library libcusolver.so.10.0\n2021-05-13 22:31:39.378290: I tensorflow/stream_executor/platform/default/dso_loader.cc:44] Successfully opened dynamic library libcusparse.so.10.0\n2021-05-13 22:31:39.440355: I tensorflow/stream_executor/platform/default/dso_loader.cc:44] Successfully opened dynamic library libcudnn.so.7\n2021-05-13 22:31:39.440698: I tensorflow/stream_executor/cuda/cuda_gpu_executor.cc:983] successful NUMA node read from SysFS had negative value (-1), but there must be at least one NUMA node, so returning NUMA node zero\n2021-05-13 22:31:39.441751: I tensorflow/stream_executor/cuda/cuda_gpu_executor.cc:983] successful NUMA node read from SysFS had negative value (-1), but there must be at least one NUMA node, so returning NUMA node zero\n2021-05-13 22:31:39.442839: I tensorflow/core/common_runtime/gpu/gpu_device.cc:1746] Adding visible gpu devices: 0\n2021-05-13 22:31:39.443464: I tensorflow/stream_executor/platform/default/dso_loader.cc:44] Successfully opened dynamic library libcudart.so.10.0\n2021-05-13 22:31:39.445273: I tensorflow/core/common_runtime/gpu/gpu_device.cc:1159] Device interconnect StreamExecutor with strength 1 edge matrix:\n2021-05-13 22:31:39.445314: I tensorflow/core/common_runtime/gpu/gpu_device.cc:1165]      0 \n2021-05-13 22:31:39.445331: I tensorflow/core/common_runtime/gpu/gpu_device.cc:1178] 0:   N \n2021-05-13 22:31:39.446021: I tensorflow/stream_executor/cuda/cuda_gpu_executor.cc:983] successful NUMA node read from SysFS had negative value (-1), but there must be at least one NUMA node, so returning NUMA node zero\n2021-05-13 22:31:39.447255: I tensorflow/stream_executor/cuda/cuda_gpu_executor.cc:983] successful NUMA node read from SysFS had negative value (-1), but there must be at least one NUMA node, so returning NUMA node zero\n2021-05-13 22:31:39.448420: I tensorflow/core/common_runtime/gpu/gpu_device.cc:1304] Created TensorFlow device (/job:localhost/replica:0/task:0/device:GPU:0 with 2687 MB memory) -> physical GPU (device: 0, name: GeForce GTX 1650, pci bus id: 0000:01:00.0, compute capability: 7.5)\n"
     ]
    }
   ],
   "source": [
    "sess = Session(); init(sess);\n"
   ]
  },
  {
   "cell_type": "code",
   "execution_count": 9,
   "metadata": {},
   "outputs": [
    {
     "output_type": "execute_result",
     "data": {
      "text/plain": [
       "100.0"
      ]
     },
     "metadata": {},
     "execution_count": 9
    }
   ],
   "source": [
    "N_k_dis_ = 4\n",
    "T_exp = -2\n",
    "T_=  10.0 .^ -T_exp\n"
   ]
  },
  {
   "cell_type": "code",
   "execution_count": 19,
   "metadata": {},
   "outputs": [
    {
     "output_type": "execute_result",
     "data": {
      "text/plain": [
       "9-element Array{Array{Float64,3},1}:\n",
       " [6.53275521259131e-5 6.524418753250072e-5 … 6.537597542563752e-5 6.535765858325598e-5; 6.473391239377524e-5 6.467195708233635e-5 … 6.475837639818978e-5 6.471480711060614e-5; … ; 0.00013111085092139645 0.00013097352916434388 … 0.0001313411867954878 0.0001316240393290693; 0.00013142531055630085 0.0001312363937614644 … 0.00013146929774708415 0.00013165343676844]\n",
       " [6.532753350829563e-5 6.524416881170809e-5 … 6.537595673829613e-5 6.535764002912234e-5; 6.40161856057008e-5 6.395547261765673e-5 … 6.403372050060804e-5 6.399268689362863e-5; … ; 0.00013109917824367562 0.00013096175192294017 … 0.00013132915056246074 0.00013161201986134095; 0.00013141362810922526 0.00013122467418308454 … 0.00013145735022157483 0.0001316413966505879]\n",
       " [6.532751489067814e-5 6.524415009091547e-5 … 6.537593805095475e-5 6.535762147498872e-5; 6.358559209675122e-5 6.35256167673196e-5 … 6.359905113078756e-5 6.355950884070611e-5; … ; 0.0001310884632023363 0.00013095094201130643 … 0.0001313181063726864 0.00013160099065705872; 0.00013140290395411824 0.00013121391645241396 … 0.00013144638648812554 0.0001316303486601628]\n",
       " [5.965214704744344e-5 5.957602493672194e-5 … 5.969636361482239e-5 5.967963797444908e-5; 5.90024954207204e-5 5.8946356414253194e-5 … 5.902076525716425e-5 5.898227714758196e-5; … ; 0.00012540054054491917 0.00012526910144181836 … 0.0001256205328899032 0.00012589110147267837; 0.00012570131931661808 0.0001255205851272797 … 0.00012574314831290782 0.0001259192033877669]\n",
       " [5.965212149976459e-5 5.957599924746291e-5 … 5.969633797146621e-5 5.967961251388476e-5; 5.900416268134121e-5 5.894802340504621e-5 … 5.902245645547193e-5 5.898396834523526e-5; … ; 0.0001254005176874788 0.00012526907860452047 … 0.00012562053288872496 0.00012589110147259586; 0.00012570129683300472 0.0001255205626700171 … 0.0001257431483125786 0.00012591920338657925]\n",
       " [5.965209595208576e-5 5.9575973558203894e-5 … 5.969631232811003e-5 5.967958705332044e-5; 5.90051278754679e-5 5.894898836066529e-5 … 5.9023442650377535e-5 5.898495453978354e-5; … ; 0.0001254004948350452 0.00012526905577244494 … 0.00012562053288752204 0.00012589110147237083; 0.00012570127435433695 0.00012552054021768317 … 0.0001257431483125833 0.00012591920338542298]\n",
       " [5.397670038860559e-5 5.390782053014478e-5 … 5.40167100679185e-5 5.400157592705807e-5; 5.327104884441774e-5 5.32207258085908e-5 … 5.328315411520242e-5 5.324974718446665e-5; … ; 0.00011969022958193276 0.00011956467312774985 … 0.00011989987898465162 0.00012015816361652393; 0.00011997732749806725 0.00011980477591468541 … 0.00012001699888000765 0.00012018497000840192]\n",
       " [5.397668177098811e-5 5.390780180935216e-5 … 5.40166913805771e-5 5.400155737292443e-5; 5.399212130371667e-5 5.394055553100807e-5 … 5.401119240999574e-5 5.397524979648091e-5; … ; 0.00011970185631085905 0.00011957640445926107 … 0.00011991191521619626 0.00012017018308530105; 0.0001199889647507185 0.00011981645035060263 … 0.00012002894640509616 0.00012019701012505146]\n",
       " [5.3976663153370534e-5 5.3907783088559435e-5 … 5.401667269323561e-5 5.4001538818790706e-5; 5.442465456890431e-5 5.437235076716804e-5 … 5.444783417122593e-5 5.4410400237885175e-5; … ; 0.00011971252589534411 0.00011958716895629433 … 0.00011992295940259084 0.00012018121228859892; 0.00011999964419112612 0.00011982716341874906 … 0.00012003991013844227 0.00012020805811164531]"
      ]
     },
     "metadata": {},
     "execution_count": 19
    }
   ],
   "source": [
    "check = run(sess,q_t_x)"
   ]
  },
  {
   "cell_type": "code",
   "execution_count": 17,
   "metadata": {},
   "outputs": [],
   "source": [
    "run(sess,opt_ADAM_sum,feed_dict = Dict(tf_variables.lambda => ones(1)*T_,tf_variables.N_k_dis=>8))"
   ]
  },
  {
   "cell_type": "code",
   "execution_count": 20,
   "metadata": {},
   "outputs": [
    {
     "output_type": "execute_result",
     "data": {
      "image/svg+xml": "<?xml version=\"1.0\" encoding=\"utf-8\"?>\n<svg xmlns=\"http://www.w3.org/2000/svg\" xmlns:xlink=\"http://www.w3.org/1999/xlink\" width=\"600\" height=\"400\" viewBox=\"0 0 2400 1600\">\n<defs>\n  <clipPath id=\"clip960\">\n    <rect x=\"0\" y=\"0\" width=\"2400\" height=\"1600\"/>\n  </clipPath>\n</defs>\n<path clip-path=\"url(#clip960)\" d=\"\nM0 1600 L2400 1600 L2400 0 L0 0  Z\n  \" fill=\"#ffffff\" fill-rule=\"evenodd\" fill-opacity=\"1\"/>\n<defs>\n  <clipPath id=\"clip961\">\n    <rect x=\"480\" y=\"0\" width=\"1681\" height=\"1600\"/>\n  </clipPath>\n</defs>\n<path clip-path=\"url(#clip960)\" d=\"\nM279.118 1486.45 L2352.76 1486.45 L2352.76 47.2441 L279.118 47.2441  Z\n  \" fill=\"#ffffff\" fill-rule=\"evenodd\" fill-opacity=\"1\"/>\n<defs>\n  <clipPath id=\"clip962\">\n    <rect x=\"279\" y=\"47\" width=\"2075\" height=\"1440\"/>\n  </clipPath>\n</defs>\n<polyline clip-path=\"url(#clip962)\" style=\"stroke:#000000; stroke-width:2; stroke-opacity:0.1; fill:none\" points=\"\n  334.54,1486.45 334.54,47.2441 \n  \"/>\n<polyline clip-path=\"url(#clip962)\" style=\"stroke:#000000; stroke-width:2; stroke-opacity:0.1; fill:none\" points=\"\n  661.128,1486.45 661.128,47.2441 \n  \"/>\n<polyline clip-path=\"url(#clip962)\" style=\"stroke:#000000; stroke-width:2; stroke-opacity:0.1; fill:none\" points=\"\n  987.716,1486.45 987.716,47.2441 \n  \"/>\n<polyline clip-path=\"url(#clip962)\" style=\"stroke:#000000; stroke-width:2; stroke-opacity:0.1; fill:none\" points=\"\n  1314.3,1486.45 1314.3,47.2441 \n  \"/>\n<polyline clip-path=\"url(#clip962)\" style=\"stroke:#000000; stroke-width:2; stroke-opacity:0.1; fill:none\" points=\"\n  1640.89,1486.45 1640.89,47.2441 \n  \"/>\n<polyline clip-path=\"url(#clip962)\" style=\"stroke:#000000; stroke-width:2; stroke-opacity:0.1; fill:none\" points=\"\n  1967.48,1486.45 1967.48,47.2441 \n  \"/>\n<polyline clip-path=\"url(#clip962)\" style=\"stroke:#000000; stroke-width:2; stroke-opacity:0.1; fill:none\" points=\"\n  2294.07,1486.45 2294.07,47.2441 \n  \"/>\n<polyline clip-path=\"url(#clip960)\" style=\"stroke:#000000; stroke-width:4; stroke-opacity:1; fill:none\" points=\"\n  279.118,1486.45 2352.76,1486.45 \n  \"/>\n<polyline clip-path=\"url(#clip960)\" style=\"stroke:#000000; stroke-width:4; stroke-opacity:1; fill:none\" points=\"\n  334.54,1486.45 334.54,1469.18 \n  \"/>\n<polyline clip-path=\"url(#clip960)\" style=\"stroke:#000000; stroke-width:4; stroke-opacity:1; fill:none\" points=\"\n  661.128,1486.45 661.128,1469.18 \n  \"/>\n<polyline clip-path=\"url(#clip960)\" style=\"stroke:#000000; stroke-width:4; stroke-opacity:1; fill:none\" points=\"\n  987.716,1486.45 987.716,1469.18 \n  \"/>\n<polyline clip-path=\"url(#clip960)\" style=\"stroke:#000000; stroke-width:4; stroke-opacity:1; fill:none\" points=\"\n  1314.3,1486.45 1314.3,1469.18 \n  \"/>\n<polyline clip-path=\"url(#clip960)\" style=\"stroke:#000000; stroke-width:4; stroke-opacity:1; fill:none\" points=\"\n  1640.89,1486.45 1640.89,1469.18 \n  \"/>\n<polyline clip-path=\"url(#clip960)\" style=\"stroke:#000000; stroke-width:4; stroke-opacity:1; fill:none\" points=\"\n  1967.48,1486.45 1967.48,1469.18 \n  \"/>\n<polyline clip-path=\"url(#clip960)\" style=\"stroke:#000000; stroke-width:4; stroke-opacity:1; fill:none\" points=\"\n  2294.07,1486.45 2294.07,1469.18 \n  \"/>\n<path clip-path=\"url(#clip960)\" d=\"M 0 0 M334.54 1515.64 Q330.929 1515.64 329.1 1519.2 Q327.294 1522.75 327.294 1529.87 Q327.294 1536.98 329.1 1540.55 Q330.929 1544.09 334.54 1544.09 Q338.174 1544.09 339.98 1540.55 Q341.808 1536.98 341.808 1529.87 Q341.808 1522.75 339.98 1519.2 Q338.174 1515.64 334.54 1515.64 M334.54 1511.93 Q340.35 1511.93 343.406 1516.54 Q346.484 1521.12 346.484 1529.87 Q346.484 1538.6 343.406 1543.21 Q340.35 1547.79 334.54 1547.79 Q328.73 1547.79 325.651 1543.21 Q322.595 1538.6 322.595 1529.87 Q322.595 1521.12 325.651 1516.54 Q328.73 1511.93 334.54 1511.93 Z\" fill=\"#000000\" fill-rule=\"evenodd\" fill-opacity=\"1\" /><path clip-path=\"url(#clip960)\" d=\"M 0 0 M624.496 1543.18 L632.135 1543.18 L632.135 1516.82 L623.825 1518.49 L623.825 1514.23 L632.089 1512.56 L636.765 1512.56 L636.765 1543.18 L644.403 1543.18 L644.403 1547.12 L624.496 1547.12 L624.496 1543.18 Z\" fill=\"#000000\" fill-rule=\"evenodd\" fill-opacity=\"1\" /><path clip-path=\"url(#clip960)\" d=\"M 0 0 M659.473 1515.64 Q655.862 1515.64 654.033 1519.2 Q652.227 1522.75 652.227 1529.87 Q652.227 1536.98 654.033 1540.55 Q655.862 1544.09 659.473 1544.09 Q663.107 1544.09 664.913 1540.55 Q666.741 1536.98 666.741 1529.87 Q666.741 1522.75 664.913 1519.2 Q663.107 1515.64 659.473 1515.64 M659.473 1511.93 Q665.283 1511.93 668.338 1516.54 Q671.417 1521.12 671.417 1529.87 Q671.417 1538.6 668.338 1543.21 Q665.283 1547.79 659.473 1547.79 Q653.663 1547.79 650.584 1543.21 Q647.528 1538.6 647.528 1529.87 Q647.528 1521.12 650.584 1516.54 Q653.663 1511.93 659.473 1511.93 Z\" fill=\"#000000\" fill-rule=\"evenodd\" fill-opacity=\"1\" /><path clip-path=\"url(#clip960)\" d=\"M 0 0 M686.487 1515.64 Q682.875 1515.64 681.047 1519.2 Q679.241 1522.75 679.241 1529.87 Q679.241 1536.98 681.047 1540.55 Q682.875 1544.09 686.487 1544.09 Q690.121 1544.09 691.926 1540.55 Q693.755 1536.98 693.755 1529.87 Q693.755 1522.75 691.926 1519.2 Q690.121 1515.64 686.487 1515.64 M686.487 1511.93 Q692.297 1511.93 695.352 1516.54 Q698.431 1521.12 698.431 1529.87 Q698.431 1538.6 695.352 1543.21 Q692.297 1547.79 686.487 1547.79 Q680.676 1547.79 677.598 1543.21 Q674.542 1538.6 674.542 1529.87 Q674.542 1521.12 677.598 1516.54 Q680.676 1511.93 686.487 1511.93 Z\" fill=\"#000000\" fill-rule=\"evenodd\" fill-opacity=\"1\" /><path clip-path=\"url(#clip960)\" d=\"M 0 0 M955.355 1543.18 L971.674 1543.18 L971.674 1547.12 L949.73 1547.12 L949.73 1543.18 Q952.392 1540.43 956.975 1535.8 Q961.582 1531.15 962.762 1529.81 Q965.008 1527.28 965.887 1525.55 Q966.79 1523.79 966.79 1522.1 Q966.79 1519.34 964.846 1517.61 Q962.924 1515.87 959.823 1515.87 Q957.623 1515.87 955.17 1516.63 Q952.739 1517.4 949.961 1518.95 L949.961 1514.23 Q952.786 1513.09 955.239 1512.51 Q957.693 1511.93 959.73 1511.93 Q965.1 1511.93 968.295 1514.62 Q971.489 1517.31 971.489 1521.8 Q971.489 1523.93 970.679 1525.85 Q969.892 1527.74 967.785 1530.34 Q967.207 1531.01 964.105 1534.23 Q961.003 1537.42 955.355 1543.18 Z\" fill=\"#000000\" fill-rule=\"evenodd\" fill-opacity=\"1\" /><path clip-path=\"url(#clip960)\" d=\"M 0 0 M986.744 1515.64 Q983.133 1515.64 981.304 1519.2 Q979.498 1522.75 979.498 1529.87 Q979.498 1536.98 981.304 1540.55 Q983.133 1544.09 986.744 1544.09 Q990.378 1544.09 992.183 1540.55 Q994.012 1536.98 994.012 1529.87 Q994.012 1522.75 992.183 1519.2 Q990.378 1515.64 986.744 1515.64 M986.744 1511.93 Q992.554 1511.93 995.609 1516.54 Q998.688 1521.12 998.688 1529.87 Q998.688 1538.6 995.609 1543.21 Q992.554 1547.79 986.744 1547.79 Q980.934 1547.79 977.855 1543.21 Q974.799 1538.6 974.799 1529.87 Q974.799 1521.12 977.855 1516.54 Q980.934 1511.93 986.744 1511.93 Z\" fill=\"#000000\" fill-rule=\"evenodd\" fill-opacity=\"1\" /><path clip-path=\"url(#clip960)\" d=\"M 0 0 M1013.76 1515.64 Q1010.15 1515.64 1008.32 1519.2 Q1006.51 1522.75 1006.51 1529.87 Q1006.51 1536.98 1008.32 1540.55 Q1010.15 1544.09 1013.76 1544.09 Q1017.39 1544.09 1019.2 1540.55 Q1021.03 1536.98 1021.03 1529.87 Q1021.03 1522.75 1019.2 1519.2 Q1017.39 1515.64 1013.76 1515.64 M1013.76 1511.93 Q1019.57 1511.93 1022.62 1516.54 Q1025.7 1521.12 1025.7 1529.87 Q1025.7 1538.6 1022.62 1543.21 Q1019.57 1547.79 1013.76 1547.79 Q1007.95 1547.79 1004.87 1543.21 Q1001.81 1538.6 1001.81 1529.87 Q1001.81 1521.12 1004.87 1516.54 Q1007.95 1511.93 1013.76 1511.93 Z\" fill=\"#000000\" fill-rule=\"evenodd\" fill-opacity=\"1\" /><path clip-path=\"url(#clip960)\" d=\"M 0 0 M1291.54 1528.49 Q1294.89 1529.2 1296.77 1531.47 Q1298.67 1533.74 1298.67 1537.07 Q1298.67 1542.19 1295.15 1544.99 Q1291.63 1547.79 1285.15 1547.79 Q1282.97 1547.79 1280.66 1547.35 Q1278.37 1546.93 1275.91 1546.08 L1275.91 1541.56 Q1277.86 1542.7 1280.17 1543.28 Q1282.49 1543.86 1285.01 1543.86 Q1289.41 1543.86 1291.7 1542.12 Q1294.01 1540.38 1294.01 1537.07 Q1294.01 1534.02 1291.86 1532.31 Q1289.73 1530.57 1285.91 1530.57 L1281.89 1530.57 L1281.89 1526.73 L1286.1 1526.73 Q1289.55 1526.73 1291.38 1525.36 Q1293.2 1523.97 1293.2 1521.38 Q1293.2 1518.72 1291.31 1517.31 Q1289.43 1515.87 1285.91 1515.87 Q1283.99 1515.87 1281.79 1516.29 Q1279.59 1516.7 1276.95 1517.58 L1276.95 1513.42 Q1279.62 1512.68 1281.93 1512.31 Q1284.27 1511.93 1286.33 1511.93 Q1291.65 1511.93 1294.76 1514.37 Q1297.86 1516.77 1297.86 1520.89 Q1297.86 1523.76 1296.21 1525.75 Q1294.57 1527.72 1291.54 1528.49 Z\" fill=\"#000000\" fill-rule=\"evenodd\" fill-opacity=\"1\" /><path clip-path=\"url(#clip960)\" d=\"M 0 0 M1313.74 1515.64 Q1310.13 1515.64 1308.3 1519.2 Q1306.49 1522.75 1306.49 1529.87 Q1306.49 1536.98 1308.3 1540.55 Q1310.13 1544.09 1313.74 1544.09 Q1317.37 1544.09 1319.18 1540.55 Q1321.01 1536.98 1321.01 1529.87 Q1321.01 1522.75 1319.18 1519.2 Q1317.37 1515.64 1313.74 1515.64 M1313.74 1511.93 Q1319.55 1511.93 1322.6 1516.54 Q1325.68 1521.12 1325.68 1529.87 Q1325.68 1538.6 1322.6 1543.21 Q1319.55 1547.79 1313.74 1547.79 Q1307.93 1547.79 1304.85 1543.21 Q1301.79 1538.6 1301.79 1529.87 Q1301.79 1521.12 1304.85 1516.54 Q1307.93 1511.93 1313.74 1511.93 Z\" fill=\"#000000\" fill-rule=\"evenodd\" fill-opacity=\"1\" /><path clip-path=\"url(#clip960)\" d=\"M 0 0 M1340.75 1515.64 Q1337.14 1515.64 1335.31 1519.2 Q1333.51 1522.75 1333.51 1529.87 Q1333.51 1536.98 1335.31 1540.55 Q1337.14 1544.09 1340.75 1544.09 Q1344.38 1544.09 1346.19 1540.55 Q1348.02 1536.98 1348.02 1529.87 Q1348.02 1522.75 1346.19 1519.2 Q1344.38 1515.64 1340.75 1515.64 M1340.75 1511.93 Q1346.56 1511.93 1349.62 1516.54 Q1352.69 1521.12 1352.69 1529.87 Q1352.69 1538.6 1349.62 1543.21 Q1346.56 1547.79 1340.75 1547.79 Q1334.94 1547.79 1331.86 1543.21 Q1328.81 1538.6 1328.81 1529.87 Q1328.81 1521.12 1331.86 1516.54 Q1334.94 1511.93 1340.75 1511.93 Z\" fill=\"#000000\" fill-rule=\"evenodd\" fill-opacity=\"1\" /><path clip-path=\"url(#clip960)\" d=\"M 0 0 M1616.89 1516.63 L1605.08 1535.08 L1616.89 1535.08 L1616.89 1516.63 M1615.66 1512.56 L1621.54 1512.56 L1621.54 1535.08 L1626.47 1535.08 L1626.47 1538.97 L1621.54 1538.97 L1621.54 1547.12 L1616.89 1547.12 L1616.89 1538.97 L1601.29 1538.97 L1601.29 1534.46 L1615.66 1512.56 Z\" fill=\"#000000\" fill-rule=\"evenodd\" fill-opacity=\"1\" /><path clip-path=\"url(#clip960)\" d=\"M 0 0 M1641.54 1515.64 Q1637.93 1515.64 1636.1 1519.2 Q1634.29 1522.75 1634.29 1529.87 Q1634.29 1536.98 1636.1 1540.55 Q1637.93 1544.09 1641.54 1544.09 Q1645.17 1544.09 1646.98 1540.55 Q1648.81 1536.98 1648.81 1529.87 Q1648.81 1522.75 1646.98 1519.2 Q1645.17 1515.64 1641.54 1515.64 M1641.54 1511.93 Q1647.35 1511.93 1650.41 1516.54 Q1653.48 1521.12 1653.48 1529.87 Q1653.48 1538.6 1650.41 1543.21 Q1647.35 1547.79 1641.54 1547.79 Q1635.73 1547.79 1632.65 1543.21 Q1629.6 1538.6 1629.6 1529.87 Q1629.6 1521.12 1632.65 1516.54 Q1635.73 1511.93 1641.54 1511.93 Z\" fill=\"#000000\" fill-rule=\"evenodd\" fill-opacity=\"1\" /><path clip-path=\"url(#clip960)\" d=\"M 0 0 M1668.55 1515.64 Q1664.94 1515.64 1663.11 1519.2 Q1661.31 1522.75 1661.31 1529.87 Q1661.31 1536.98 1663.11 1540.55 Q1664.94 1544.09 1668.55 1544.09 Q1672.19 1544.09 1673.99 1540.55 Q1675.82 1536.98 1675.82 1529.87 Q1675.82 1522.75 1673.99 1519.2 Q1672.19 1515.64 1668.55 1515.64 M1668.55 1511.93 Q1674.36 1511.93 1677.42 1516.54 Q1680.5 1521.12 1680.5 1529.87 Q1680.5 1538.6 1677.42 1543.21 Q1674.36 1547.79 1668.55 1547.79 Q1662.74 1547.79 1659.67 1543.21 Q1656.61 1538.6 1656.61 1529.87 Q1656.61 1521.12 1659.67 1516.54 Q1662.74 1511.93 1668.55 1511.93 Z\" fill=\"#000000\" fill-rule=\"evenodd\" fill-opacity=\"1\" /><path clip-path=\"url(#clip960)\" d=\"M 0 0 M1930.74 1512.56 L1949.1 1512.56 L1949.1 1516.5 L1935.03 1516.5 L1935.03 1524.97 Q1936.04 1524.62 1937.06 1524.46 Q1938.08 1524.27 1939.1 1524.27 Q1944.89 1524.27 1948.27 1527.44 Q1951.65 1530.62 1951.65 1536.03 Q1951.65 1541.61 1948.17 1544.71 Q1944.7 1547.79 1938.38 1547.79 Q1936.21 1547.79 1933.94 1547.42 Q1931.69 1547.05 1929.29 1546.31 L1929.29 1541.61 Q1931.37 1542.74 1933.59 1543.3 Q1935.81 1543.86 1938.29 1543.86 Q1942.29 1543.86 1944.63 1541.75 Q1946.97 1539.64 1946.97 1536.03 Q1946.97 1532.42 1944.63 1530.31 Q1942.29 1528.21 1938.29 1528.21 Q1936.42 1528.21 1934.54 1528.62 Q1932.69 1529.04 1930.74 1529.92 L1930.74 1512.56 Z\" fill=\"#000000\" fill-rule=\"evenodd\" fill-opacity=\"1\" /><path clip-path=\"url(#clip960)\" d=\"M 0 0 M1966.72 1515.64 Q1963.11 1515.64 1961.28 1519.2 Q1959.47 1522.75 1959.47 1529.87 Q1959.47 1536.98 1961.28 1540.55 Q1963.11 1544.09 1966.72 1544.09 Q1970.35 1544.09 1972.16 1540.55 Q1973.98 1536.98 1973.98 1529.87 Q1973.98 1522.75 1972.16 1519.2 Q1970.35 1515.64 1966.72 1515.64 M1966.72 1511.93 Q1972.53 1511.93 1975.58 1516.54 Q1978.66 1521.12 1978.66 1529.87 Q1978.66 1538.6 1975.58 1543.21 Q1972.53 1547.79 1966.72 1547.79 Q1960.91 1547.79 1957.83 1543.21 Q1954.77 1538.6 1954.77 1529.87 Q1954.77 1521.12 1957.83 1516.54 Q1960.91 1511.93 1966.72 1511.93 Z\" fill=\"#000000\" fill-rule=\"evenodd\" fill-opacity=\"1\" /><path clip-path=\"url(#clip960)\" d=\"M 0 0 M1993.73 1515.64 Q1990.12 1515.64 1988.29 1519.2 Q1986.48 1522.75 1986.48 1529.87 Q1986.48 1536.98 1988.29 1540.55 Q1990.12 1544.09 1993.73 1544.09 Q1997.36 1544.09 1999.17 1540.55 Q2001 1536.98 2001 1529.87 Q2001 1522.75 1999.17 1519.2 Q1997.36 1515.64 1993.73 1515.64 M1993.73 1511.93 Q1999.54 1511.93 2002.6 1516.54 Q2005.67 1521.12 2005.67 1529.87 Q2005.67 1538.6 2002.6 1543.21 Q1999.54 1547.79 1993.73 1547.79 Q1987.92 1547.79 1984.84 1543.21 Q1981.79 1538.6 1981.79 1529.87 Q1981.79 1521.12 1984.84 1516.54 Q1987.92 1511.93 1993.73 1511.93 Z\" fill=\"#000000\" fill-rule=\"evenodd\" fill-opacity=\"1\" /><path clip-path=\"url(#clip960)\" d=\"M 0 0 M2267.46 1527.98 Q2264.31 1527.98 2262.46 1530.13 Q2260.63 1532.28 2260.63 1536.03 Q2260.63 1539.76 2262.46 1541.93 Q2264.31 1544.09 2267.46 1544.09 Q2270.61 1544.09 2272.44 1541.93 Q2274.29 1539.76 2274.29 1536.03 Q2274.29 1532.28 2272.44 1530.13 Q2270.61 1527.98 2267.46 1527.98 M2276.74 1513.32 L2276.74 1517.58 Q2274.98 1516.75 2273.18 1516.31 Q2271.39 1515.87 2269.64 1515.87 Q2265.01 1515.87 2262.55 1519 Q2260.12 1522.12 2259.77 1528.44 Q2261.14 1526.43 2263.2 1525.36 Q2265.26 1524.27 2267.74 1524.27 Q2272.95 1524.27 2275.95 1527.44 Q2278.99 1530.59 2278.99 1536.03 Q2278.99 1541.36 2275.84 1544.57 Q2272.69 1547.79 2267.46 1547.79 Q2261.46 1547.79 2258.29 1543.21 Q2255.12 1538.6 2255.12 1529.87 Q2255.12 1521.68 2259.01 1516.82 Q2262.9 1511.93 2269.45 1511.93 Q2271.21 1511.93 2272.99 1512.28 Q2274.8 1512.63 2276.74 1513.32 Z\" fill=\"#000000\" fill-rule=\"evenodd\" fill-opacity=\"1\" /><path clip-path=\"url(#clip960)\" d=\"M 0 0 M2294.06 1515.64 Q2290.45 1515.64 2288.62 1519.2 Q2286.81 1522.75 2286.81 1529.87 Q2286.81 1536.98 2288.62 1540.55 Q2290.45 1544.09 2294.06 1544.09 Q2297.69 1544.09 2299.5 1540.55 Q2301.32 1536.98 2301.32 1529.87 Q2301.32 1522.75 2299.5 1519.2 Q2297.69 1515.64 2294.06 1515.64 M2294.06 1511.93 Q2299.87 1511.93 2302.92 1516.54 Q2306 1521.12 2306 1529.87 Q2306 1538.6 2302.92 1543.21 Q2299.87 1547.79 2294.06 1547.79 Q2288.25 1547.79 2285.17 1543.21 Q2282.11 1538.6 2282.11 1529.87 Q2282.11 1521.12 2285.17 1516.54 Q2288.25 1511.93 2294.06 1511.93 Z\" fill=\"#000000\" fill-rule=\"evenodd\" fill-opacity=\"1\" /><path clip-path=\"url(#clip960)\" d=\"M 0 0 M2321.07 1515.64 Q2317.46 1515.64 2315.63 1519.2 Q2313.82 1522.75 2313.82 1529.87 Q2313.82 1536.98 2315.63 1540.55 Q2317.46 1544.09 2321.07 1544.09 Q2324.7 1544.09 2326.51 1540.55 Q2328.34 1536.98 2328.34 1529.87 Q2328.34 1522.75 2326.51 1519.2 Q2324.7 1515.64 2321.07 1515.64 M2321.07 1511.93 Q2326.88 1511.93 2329.94 1516.54 Q2333.01 1521.12 2333.01 1529.87 Q2333.01 1538.6 2329.94 1543.21 Q2326.88 1547.79 2321.07 1547.79 Q2315.26 1547.79 2312.18 1543.21 Q2309.13 1538.6 2309.13 1529.87 Q2309.13 1521.12 2312.18 1516.54 Q2315.26 1511.93 2321.07 1511.93 Z\" fill=\"#000000\" fill-rule=\"evenodd\" fill-opacity=\"1\" /><polyline clip-path=\"url(#clip962)\" style=\"stroke:#000000; stroke-width:2; stroke-opacity:0.1; fill:none\" points=\"\n  279.118,1378.72 2352.76,1378.72 \n  \"/>\n<polyline clip-path=\"url(#clip962)\" style=\"stroke:#000000; stroke-width:2; stroke-opacity:0.1; fill:none\" points=\"\n  279.118,1182.24 2352.76,1182.24 \n  \"/>\n<polyline clip-path=\"url(#clip962)\" style=\"stroke:#000000; stroke-width:2; stroke-opacity:0.1; fill:none\" points=\"\n  279.118,985.768 2352.76,985.768 \n  \"/>\n<polyline clip-path=\"url(#clip962)\" style=\"stroke:#000000; stroke-width:2; stroke-opacity:0.1; fill:none\" points=\"\n  279.118,789.292 2352.76,789.292 \n  \"/>\n<polyline clip-path=\"url(#clip962)\" style=\"stroke:#000000; stroke-width:2; stroke-opacity:0.1; fill:none\" points=\"\n  279.118,592.816 2352.76,592.816 \n  \"/>\n<polyline clip-path=\"url(#clip962)\" style=\"stroke:#000000; stroke-width:2; stroke-opacity:0.1; fill:none\" points=\"\n  279.118,396.339 2352.76,396.339 \n  \"/>\n<polyline clip-path=\"url(#clip962)\" style=\"stroke:#000000; stroke-width:2; stroke-opacity:0.1; fill:none\" points=\"\n  279.118,199.863 2352.76,199.863 \n  \"/>\n<polyline clip-path=\"url(#clip960)\" style=\"stroke:#000000; stroke-width:4; stroke-opacity:1; fill:none\" points=\"\n  279.118,1486.45 279.118,47.2441 \n  \"/>\n<polyline clip-path=\"url(#clip960)\" style=\"stroke:#000000; stroke-width:4; stroke-opacity:1; fill:none\" points=\"\n  279.118,1378.72 304.001,1378.72 \n  \"/>\n<polyline clip-path=\"url(#clip960)\" style=\"stroke:#000000; stroke-width:4; stroke-opacity:1; fill:none\" points=\"\n  279.118,1182.24 304.001,1182.24 \n  \"/>\n<polyline clip-path=\"url(#clip960)\" style=\"stroke:#000000; stroke-width:4; stroke-opacity:1; fill:none\" points=\"\n  279.118,985.768 304.001,985.768 \n  \"/>\n<polyline clip-path=\"url(#clip960)\" style=\"stroke:#000000; stroke-width:4; stroke-opacity:1; fill:none\" points=\"\n  279.118,789.292 304.001,789.292 \n  \"/>\n<polyline clip-path=\"url(#clip960)\" style=\"stroke:#000000; stroke-width:4; stroke-opacity:1; fill:none\" points=\"\n  279.118,592.816 304.001,592.816 \n  \"/>\n<polyline clip-path=\"url(#clip960)\" style=\"stroke:#000000; stroke-width:4; stroke-opacity:1; fill:none\" points=\"\n  279.118,396.339 304.001,396.339 \n  \"/>\n<polyline clip-path=\"url(#clip960)\" style=\"stroke:#000000; stroke-width:4; stroke-opacity:1; fill:none\" points=\"\n  279.118,199.863 304.001,199.863 \n  \"/>\n<path clip-path=\"url(#clip960)\" d=\"M 0 0 M63.33 1383.3 Q60.1819 1383.3 58.33 1385.46 Q56.5014 1387.61 56.5014 1391.36 Q56.5014 1395.09 58.33 1397.26 Q60.1819 1399.42 63.33 1399.42 Q66.4782 1399.42 68.3068 1397.26 Q70.1587 1395.09 70.1587 1391.36 Q70.1587 1387.61 68.3068 1385.46 Q66.4782 1383.3 63.33 1383.3 M72.6124 1368.65 L72.6124 1372.91 Q70.8531 1372.08 69.0476 1371.64 Q67.2652 1371.2 65.5059 1371.2 Q60.8763 1371.2 58.4226 1374.32 Q55.9921 1377.45 55.6449 1383.77 Q57.0106 1381.75 59.0708 1380.69 Q61.131 1379.6 63.6078 1379.6 Q68.8161 1379.6 71.8253 1382.77 Q74.8577 1385.92 74.8577 1391.36 Q74.8577 1396.68 71.7096 1399.9 Q68.5615 1403.12 63.33 1403.12 Q57.3347 1403.12 54.1634 1398.54 Q50.9921 1393.93 50.9921 1385.2 Q50.9921 1377.01 54.881 1372.15 Q58.7699 1367.26 65.3208 1367.26 Q67.08 1367.26 68.8624 1367.61 Q70.6679 1367.96 72.6124 1368.65 Z\" fill=\"#000000\" fill-rule=\"evenodd\" fill-opacity=\"1\" /><path clip-path=\"url(#clip960)\" d=\"M 0 0 M79.9272 1396.57 L84.8114 1396.57 L84.8114 1402.45 L79.9272 1402.45 L79.9272 1396.57 Z\" fill=\"#000000\" fill-rule=\"evenodd\" fill-opacity=\"1\" /><path clip-path=\"url(#clip960)\" d=\"M 0 0 M99.8808 1370.97 Q96.2697 1370.97 94.441 1374.53 Q92.6354 1378.07 92.6354 1385.2 Q92.6354 1392.31 94.441 1395.87 Q96.2697 1399.42 99.8808 1399.42 Q103.515 1399.42 105.321 1395.87 Q107.149 1392.31 107.149 1385.2 Q107.149 1378.07 105.321 1374.53 Q103.515 1370.97 99.8808 1370.97 M99.8808 1367.26 Q105.691 1367.26 108.746 1371.87 Q111.825 1376.45 111.825 1385.2 Q111.825 1393.93 108.746 1398.54 Q105.691 1403.12 99.8808 1403.12 Q94.0706 1403.12 90.9919 1398.54 Q87.9364 1393.93 87.9364 1385.2 Q87.9364 1376.45 90.9919 1371.87 Q94.0706 1367.26 99.8808 1367.26 Z\" fill=\"#000000\" fill-rule=\"evenodd\" fill-opacity=\"1\" /><path clip-path=\"url(#clip960)\" d=\"M 0 0 M145.066 1376.98 L134.487 1387.61 L145.066 1398.19 L142.311 1400.99 L131.686 1390.36 L121.061 1400.99 L118.33 1398.19 L128.885 1387.61 L118.33 1376.98 L121.061 1374.18 L131.686 1384.81 L142.311 1374.18 L145.066 1376.98 Z\" fill=\"#000000\" fill-rule=\"evenodd\" fill-opacity=\"1\" /><path clip-path=\"url(#clip960)\" d=\"M 0 0 M150.945 1398.51 L158.584 1398.51 L158.584 1372.15 L150.274 1373.81 L150.274 1369.55 L158.538 1367.89 L163.214 1367.89 L163.214 1398.51 L170.853 1398.51 L170.853 1402.45 L150.945 1402.45 L150.945 1398.51 Z\" fill=\"#000000\" fill-rule=\"evenodd\" fill-opacity=\"1\" /><path clip-path=\"url(#clip960)\" d=\"M 0 0 M185.922 1370.97 Q182.311 1370.97 180.482 1374.53 Q178.677 1378.07 178.677 1385.2 Q178.677 1392.31 180.482 1395.87 Q182.311 1399.42 185.922 1399.42 Q189.556 1399.42 191.362 1395.87 Q193.19 1392.31 193.19 1385.2 Q193.19 1378.07 191.362 1374.53 Q189.556 1370.97 185.922 1370.97 M185.922 1367.26 Q191.732 1367.26 194.788 1371.87 Q197.866 1376.45 197.866 1385.2 Q197.866 1393.93 194.788 1398.54 Q191.732 1403.12 185.922 1403.12 Q180.112 1403.12 177.033 1398.54 Q173.978 1393.93 173.978 1385.2 Q173.978 1376.45 177.033 1371.87 Q180.112 1367.26 185.922 1367.26 Z\" fill=\"#000000\" fill-rule=\"evenodd\" fill-opacity=\"1\" /><path clip-path=\"url(#clip960)\" d=\"M 0 0 M197.866 1361.36 L221.978 1361.36 L221.978 1364.56 L197.866 1364.56 L197.866 1361.36 Z\" fill=\"#000000\" fill-rule=\"evenodd\" fill-opacity=\"1\" /><path clip-path=\"url(#clip960)\" d=\"M 0 0 M226.134 1346.96 L241.049 1346.96 L241.049 1350.15 L229.614 1350.15 L229.614 1357.04 Q230.441 1356.76 231.269 1356.62 Q232.096 1356.47 232.924 1356.47 Q237.626 1356.47 240.372 1359.05 Q243.118 1361.63 243.118 1366.03 Q243.118 1370.56 240.297 1373.08 Q237.476 1375.58 232.341 1375.58 Q230.573 1375.58 228.73 1375.28 Q226.906 1374.98 224.95 1374.38 L224.95 1370.56 Q226.642 1371.48 228.448 1371.93 Q230.253 1372.39 232.266 1372.39 Q235.519 1372.39 237.419 1370.67 Q239.319 1368.96 239.319 1366.03 Q239.319 1363.09 237.419 1361.38 Q235.519 1359.67 232.266 1359.67 Q230.742 1359.67 229.219 1360.01 Q227.714 1360.35 226.134 1361.06 L226.134 1346.96 Z\" fill=\"#000000\" fill-rule=\"evenodd\" fill-opacity=\"1\" /><path clip-path=\"url(#clip960)\" d=\"M 0 0 M52.6356 1171.41 L74.8577 1171.41 L74.8577 1173.4 L62.3115 1205.97 L57.4273 1205.97 L69.2328 1175.35 L52.6356 1175.35 L52.6356 1171.41 Z\" fill=\"#000000\" fill-rule=\"evenodd\" fill-opacity=\"1\" /><path clip-path=\"url(#clip960)\" d=\"M 0 0 M79.9272 1200.09 L84.8114 1200.09 L84.8114 1205.97 L79.9272 1205.97 L79.9272 1200.09 Z\" fill=\"#000000\" fill-rule=\"evenodd\" fill-opacity=\"1\" /><path clip-path=\"url(#clip960)\" d=\"M 0 0 M99.8808 1174.49 Q96.2697 1174.49 94.441 1178.06 Q92.6354 1181.6 92.6354 1188.73 Q92.6354 1195.83 94.441 1199.4 Q96.2697 1202.94 99.8808 1202.94 Q103.515 1202.94 105.321 1199.4 Q107.149 1195.83 107.149 1188.73 Q107.149 1181.6 105.321 1178.06 Q103.515 1174.49 99.8808 1174.49 M99.8808 1170.79 Q105.691 1170.79 108.746 1175.39 Q111.825 1179.98 111.825 1188.73 Q111.825 1197.45 108.746 1202.06 Q105.691 1206.64 99.8808 1206.64 Q94.0706 1206.64 90.9919 1202.06 Q87.9364 1197.45 87.9364 1188.73 Q87.9364 1179.98 90.9919 1175.39 Q94.0706 1170.79 99.8808 1170.79 Z\" fill=\"#000000\" fill-rule=\"evenodd\" fill-opacity=\"1\" /><path clip-path=\"url(#clip960)\" d=\"M 0 0 M145.066 1180.51 L134.487 1191.13 L145.066 1201.71 L142.311 1204.51 L131.686 1193.89 L121.061 1204.51 L118.33 1201.71 L128.885 1191.13 L118.33 1180.51 L121.061 1177.71 L131.686 1188.33 L142.311 1177.71 L145.066 1180.51 Z\" fill=\"#000000\" fill-rule=\"evenodd\" fill-opacity=\"1\" /><path clip-path=\"url(#clip960)\" d=\"M 0 0 M150.945 1202.04 L158.584 1202.04 L158.584 1175.67 L150.274 1177.34 L150.274 1173.08 L158.538 1171.41 L163.214 1171.41 L163.214 1202.04 L170.853 1202.04 L170.853 1205.97 L150.945 1205.97 L150.945 1202.04 Z\" fill=\"#000000\" fill-rule=\"evenodd\" fill-opacity=\"1\" /><path clip-path=\"url(#clip960)\" d=\"M 0 0 M185.922 1174.49 Q182.311 1174.49 180.482 1178.06 Q178.677 1181.6 178.677 1188.73 Q178.677 1195.83 180.482 1199.4 Q182.311 1202.94 185.922 1202.94 Q189.556 1202.94 191.362 1199.4 Q193.19 1195.83 193.19 1188.73 Q193.19 1181.6 191.362 1178.06 Q189.556 1174.49 185.922 1174.49 M185.922 1170.79 Q191.732 1170.79 194.788 1175.39 Q197.866 1179.98 197.866 1188.73 Q197.866 1197.45 194.788 1202.06 Q191.732 1206.64 185.922 1206.64 Q180.112 1206.64 177.033 1202.06 Q173.978 1197.45 173.978 1188.73 Q173.978 1179.98 177.033 1175.39 Q180.112 1170.79 185.922 1170.79 Z\" fill=\"#000000\" fill-rule=\"evenodd\" fill-opacity=\"1\" /><path clip-path=\"url(#clip960)\" d=\"M 0 0 M197.866 1164.89 L221.978 1164.89 L221.978 1168.09 L197.866 1168.09 L197.866 1164.89 Z\" fill=\"#000000\" fill-rule=\"evenodd\" fill-opacity=\"1\" /><path clip-path=\"url(#clip960)\" d=\"M 0 0 M226.134 1150.48 L241.049 1150.48 L241.049 1153.68 L229.614 1153.68 L229.614 1160.56 Q230.441 1160.28 231.269 1160.15 Q232.096 1160 232.924 1160 Q237.626 1160 240.372 1162.57 Q243.118 1165.15 243.118 1169.55 Q243.118 1174.08 240.297 1176.61 Q237.476 1179.11 232.341 1179.11 Q230.573 1179.11 228.73 1178.81 Q226.906 1178.5 224.95 1177.9 L224.95 1174.08 Q226.642 1175.01 228.448 1175.46 Q230.253 1175.91 232.266 1175.91 Q235.519 1175.91 237.419 1174.2 Q239.319 1172.49 239.319 1169.55 Q239.319 1166.62 237.419 1164.91 Q235.519 1163.2 232.266 1163.2 Q230.742 1163.2 229.219 1163.53 Q227.714 1163.87 226.134 1164.59 L226.134 1150.48 Z\" fill=\"#000000\" fill-rule=\"evenodd\" fill-opacity=\"1\" /><path clip-path=\"url(#clip960)\" d=\"M 0 0 M63.006 993.083 Q59.6726 993.083 57.7513 994.866 Q55.8532 996.648 55.8532 999.773 Q55.8532 1002.9 57.7513 1004.68 Q59.6726 1006.46 63.006 1006.46 Q66.3393 1006.46 68.2606 1004.68 Q70.1818 1002.88 70.1818 999.773 Q70.1818 996.648 68.2606 994.866 Q66.3624 993.083 63.006 993.083 M58.33 991.093 Q55.3208 990.352 53.631 988.292 Q51.9643 986.232 51.9643 983.269 Q51.9643 979.125 54.9041 976.718 Q57.8671 974.31 63.006 974.31 Q68.168 974.31 71.1078 976.718 Q74.0476 979.125 74.0476 983.269 Q74.0476 986.232 72.3578 988.292 Q70.6911 990.352 67.705 991.093 Q71.0846 991.88 72.9596 994.171 Q74.8577 996.463 74.8577 999.773 Q74.8577 1004.8 71.7791 1007.48 Q68.7235 1010.17 63.006 1010.17 Q57.2884 1010.17 54.2097 1007.48 Q51.1542 1004.8 51.1542 999.773 Q51.1542 996.463 53.0523 994.171 Q54.9504 991.88 58.33 991.093 M56.6171 983.709 Q56.6171 986.394 58.2838 987.898 Q59.9736 989.403 63.006 989.403 Q66.0152 989.403 67.705 987.898 Q69.418 986.394 69.418 983.709 Q69.418 981.023 67.705 979.519 Q66.0152 978.014 63.006 978.014 Q59.9736 978.014 58.2838 979.519 Q56.6171 981.023 56.6171 983.709 Z\" fill=\"#000000\" fill-rule=\"evenodd\" fill-opacity=\"1\" /><path clip-path=\"url(#clip960)\" d=\"M 0 0 M79.9272 1003.62 L84.8114 1003.62 L84.8114 1009.5 L79.9272 1009.5 L79.9272 1003.62 Z\" fill=\"#000000\" fill-rule=\"evenodd\" fill-opacity=\"1\" /><path clip-path=\"url(#clip960)\" d=\"M 0 0 M99.8808 978.014 Q96.2697 978.014 94.441 981.579 Q92.6354 985.121 92.6354 992.25 Q92.6354 999.357 94.441 1002.92 Q96.2697 1006.46 99.8808 1006.46 Q103.515 1006.46 105.321 1002.92 Q107.149 999.357 107.149 992.25 Q107.149 985.121 105.321 981.579 Q103.515 978.014 99.8808 978.014 M99.8808 974.31 Q105.691 974.31 108.746 978.917 Q111.825 983.5 111.825 992.25 Q111.825 1000.98 108.746 1005.58 Q105.691 1010.17 99.8808 1010.17 Q94.0706 1010.17 90.9919 1005.58 Q87.9364 1000.98 87.9364 992.25 Q87.9364 983.5 90.9919 978.917 Q94.0706 974.31 99.8808 974.31 Z\" fill=\"#000000\" fill-rule=\"evenodd\" fill-opacity=\"1\" /><path clip-path=\"url(#clip960)\" d=\"M 0 0 M145.066 984.033 L134.487 994.658 L145.066 1005.24 L142.311 1008.04 L131.686 997.412 L121.061 1008.04 L118.33 1005.24 L128.885 994.658 L118.33 984.033 L121.061 981.232 L131.686 991.857 L142.311 981.232 L145.066 984.033 Z\" fill=\"#000000\" fill-rule=\"evenodd\" fill-opacity=\"1\" /><path clip-path=\"url(#clip960)\" d=\"M 0 0 M150.945 1005.56 L158.584 1005.56 L158.584 979.195 L150.274 980.861 L150.274 976.602 L158.538 974.935 L163.214 974.935 L163.214 1005.56 L170.853 1005.56 L170.853 1009.5 L150.945 1009.5 L150.945 1005.56 Z\" fill=\"#000000\" fill-rule=\"evenodd\" fill-opacity=\"1\" /><path clip-path=\"url(#clip960)\" d=\"M 0 0 M185.922 978.014 Q182.311 978.014 180.482 981.579 Q178.677 985.121 178.677 992.25 Q178.677 999.357 180.482 1002.92 Q182.311 1006.46 185.922 1006.46 Q189.556 1006.46 191.362 1002.92 Q193.19 999.357 193.19 992.25 Q193.19 985.121 191.362 981.579 Q189.556 978.014 185.922 978.014 M185.922 974.31 Q191.732 974.31 194.788 978.917 Q197.866 983.5 197.866 992.25 Q197.866 1000.98 194.788 1005.58 Q191.732 1010.17 185.922 1010.17 Q180.112 1010.17 177.033 1005.58 Q173.978 1000.98 173.978 992.25 Q173.978 983.5 177.033 978.917 Q180.112 974.31 185.922 974.31 Z\" fill=\"#000000\" fill-rule=\"evenodd\" fill-opacity=\"1\" /><path clip-path=\"url(#clip960)\" d=\"M 0 0 M197.866 968.412 L221.978 968.412 L221.978 971.609 L197.866 971.609 L197.866 968.412 Z\" fill=\"#000000\" fill-rule=\"evenodd\" fill-opacity=\"1\" /><path clip-path=\"url(#clip960)\" d=\"M 0 0 M226.134 954.005 L241.049 954.005 L241.049 957.202 L229.614 957.202 L229.614 964.086 Q230.441 963.804 231.269 963.672 Q232.096 963.522 232.924 963.522 Q237.626 963.522 240.372 966.098 Q243.118 968.675 243.118 973.076 Q243.118 977.609 240.297 980.129 Q237.476 982.63 232.341 982.63 Q230.573 982.63 228.73 982.33 Q226.906 982.029 224.95 981.427 L224.95 977.609 Q226.642 978.53 228.448 978.982 Q230.253 979.433 232.266 979.433 Q235.519 979.433 237.419 977.722 Q239.319 976.01 239.319 973.076 Q239.319 970.142 237.419 968.431 Q235.519 966.719 232.266 966.719 Q230.742 966.719 229.219 967.058 Q227.714 967.396 226.134 968.111 L226.134 954.005 Z\" fill=\"#000000\" fill-rule=\"evenodd\" fill-opacity=\"1\" /><path clip-path=\"url(#clip960)\" d=\"M 0 0 M53.2375 812.302 L53.2375 808.042 Q54.9967 808.876 56.8023 809.316 Q58.6078 809.755 60.3439 809.755 Q64.9735 809.755 67.4041 806.654 Q69.8578 803.529 70.205 797.186 Q68.8624 799.177 66.8022 800.242 Q64.7421 801.306 62.2421 801.306 Q57.0569 801.306 54.0245 798.181 Q51.0153 795.033 51.0153 789.594 Q51.0153 784.269 54.1634 781.052 Q57.3115 777.834 62.543 777.834 Q68.5383 777.834 71.6865 782.441 Q74.8577 787.024 74.8577 795.774 Q74.8577 803.945 70.9689 808.83 Q67.1032 813.691 60.5523 813.691 Q58.793 813.691 56.9875 813.343 Q55.1819 812.996 53.2375 812.302 M62.543 797.649 Q65.6911 797.649 67.5198 795.496 Q69.3717 793.343 69.3717 789.594 Q69.3717 785.867 67.5198 783.714 Q65.6911 781.538 62.543 781.538 Q59.3949 781.538 57.543 783.714 Q55.7143 785.867 55.7143 789.594 Q55.7143 793.343 57.543 795.496 Q59.3949 797.649 62.543 797.649 Z\" fill=\"#000000\" fill-rule=\"evenodd\" fill-opacity=\"1\" /><path clip-path=\"url(#clip960)\" d=\"M 0 0 M79.9272 807.14 L84.8114 807.14 L84.8114 813.019 L79.9272 813.019 L79.9272 807.14 Z\" fill=\"#000000\" fill-rule=\"evenodd\" fill-opacity=\"1\" /><path clip-path=\"url(#clip960)\" d=\"M 0 0 M99.8808 781.538 Q96.2697 781.538 94.441 785.103 Q92.6354 788.644 92.6354 795.774 Q92.6354 802.88 94.441 806.445 Q96.2697 809.987 99.8808 809.987 Q103.515 809.987 105.321 806.445 Q107.149 802.88 107.149 795.774 Q107.149 788.644 105.321 785.103 Q103.515 781.538 99.8808 781.538 M99.8808 777.834 Q105.691 777.834 108.746 782.441 Q111.825 787.024 111.825 795.774 Q111.825 804.501 108.746 809.107 Q105.691 813.691 99.8808 813.691 Q94.0706 813.691 90.9919 809.107 Q87.9364 804.501 87.9364 795.774 Q87.9364 787.024 90.9919 782.441 Q94.0706 777.834 99.8808 777.834 Z\" fill=\"#000000\" fill-rule=\"evenodd\" fill-opacity=\"1\" /><path clip-path=\"url(#clip960)\" d=\"M 0 0 M145.066 787.556 L134.487 798.181 L145.066 808.76 L142.311 811.561 L131.686 800.936 L121.061 811.561 L118.33 808.76 L128.885 798.181 L118.33 787.556 L121.061 784.756 L131.686 795.381 L142.311 784.756 L145.066 787.556 Z\" fill=\"#000000\" fill-rule=\"evenodd\" fill-opacity=\"1\" /><path clip-path=\"url(#clip960)\" d=\"M 0 0 M150.945 809.084 L158.584 809.084 L158.584 782.719 L150.274 784.385 L150.274 780.126 L158.538 778.459 L163.214 778.459 L163.214 809.084 L170.853 809.084 L170.853 813.019 L150.945 813.019 L150.945 809.084 Z\" fill=\"#000000\" fill-rule=\"evenodd\" fill-opacity=\"1\" /><path clip-path=\"url(#clip960)\" d=\"M 0 0 M185.922 781.538 Q182.311 781.538 180.482 785.103 Q178.677 788.644 178.677 795.774 Q178.677 802.88 180.482 806.445 Q182.311 809.987 185.922 809.987 Q189.556 809.987 191.362 806.445 Q193.19 802.88 193.19 795.774 Q193.19 788.644 191.362 785.103 Q189.556 781.538 185.922 781.538 M185.922 777.834 Q191.732 777.834 194.788 782.441 Q197.866 787.024 197.866 795.774 Q197.866 804.501 194.788 809.107 Q191.732 813.691 185.922 813.691 Q180.112 813.691 177.033 809.107 Q173.978 804.501 173.978 795.774 Q173.978 787.024 177.033 782.441 Q180.112 777.834 185.922 777.834 Z\" fill=\"#000000\" fill-rule=\"evenodd\" fill-opacity=\"1\" /><path clip-path=\"url(#clip960)\" d=\"M 0 0 M197.866 771.936 L221.978 771.936 L221.978 775.133 L197.866 775.133 L197.866 771.936 Z\" fill=\"#000000\" fill-rule=\"evenodd\" fill-opacity=\"1\" /><path clip-path=\"url(#clip960)\" d=\"M 0 0 M226.134 757.529 L241.049 757.529 L241.049 760.726 L229.614 760.726 L229.614 767.61 Q230.441 767.328 231.269 767.196 Q232.096 767.046 232.924 767.046 Q237.626 767.046 240.372 769.622 Q243.118 772.199 243.118 776.6 Q243.118 781.133 240.297 783.653 Q237.476 786.154 232.341 786.154 Q230.573 786.154 228.73 785.853 Q226.906 785.552 224.95 784.951 L224.95 781.133 Q226.642 782.054 228.448 782.506 Q230.253 782.957 232.266 782.957 Q235.519 782.957 237.419 781.246 Q239.319 779.534 239.319 776.6 Q239.319 773.666 237.419 771.954 Q235.519 770.243 232.266 770.243 Q230.742 770.243 229.219 770.582 Q227.714 770.92 226.134 771.635 L226.134 757.529 Z\" fill=\"#000000\" fill-rule=\"evenodd\" fill-opacity=\"1\" /><path clip-path=\"url(#clip960)\" d=\"M 0 0 M53.7467 612.608 L61.3856 612.608 L61.3856 586.242 L53.0754 587.909 L53.0754 583.65 L61.3393 581.983 L66.0152 581.983 L66.0152 612.608 L73.654 612.608 L73.654 616.543 L53.7467 616.543 L53.7467 612.608 Z\" fill=\"#000000\" fill-rule=\"evenodd\" fill-opacity=\"1\" /><path clip-path=\"url(#clip960)\" d=\"M 0 0 M78.7235 610.664 L83.6077 610.664 L83.6077 616.543 L78.7235 616.543 L78.7235 610.664 Z\" fill=\"#000000\" fill-rule=\"evenodd\" fill-opacity=\"1\" /><path clip-path=\"url(#clip960)\" d=\"M 0 0 M98.6771 585.062 Q95.066 585.062 93.2373 588.627 Q91.4317 592.168 91.4317 599.298 Q91.4317 606.404 93.2373 609.969 Q95.066 613.511 98.6771 613.511 Q102.311 613.511 104.117 609.969 Q105.946 606.404 105.946 599.298 Q105.946 592.168 104.117 588.627 Q102.311 585.062 98.6771 585.062 M98.6771 581.358 Q104.487 581.358 107.543 585.965 Q110.621 590.548 110.621 599.298 Q110.621 608.025 107.543 612.631 Q104.487 617.214 98.6771 617.214 Q92.8669 617.214 89.7882 612.631 Q86.7327 608.025 86.7327 599.298 Q86.7327 590.548 89.7882 585.965 Q92.8669 581.358 98.6771 581.358 Z\" fill=\"#000000\" fill-rule=\"evenodd\" fill-opacity=\"1\" /><path clip-path=\"url(#clip960)\" d=\"M 0 0 M143.862 591.08 L133.283 601.705 L143.862 612.284 L141.107 615.085 L130.482 604.46 L119.857 615.085 L117.126 612.284 L127.682 601.705 L117.126 591.08 L119.857 588.279 L130.482 598.904 L141.107 588.279 L143.862 591.08 Z\" fill=\"#000000\" fill-rule=\"evenodd\" fill-opacity=\"1\" /><path clip-path=\"url(#clip960)\" d=\"M 0 0 M149.742 612.608 L157.38 612.608 L157.38 586.242 L149.07 587.909 L149.07 583.65 L157.334 581.983 L162.01 581.983 L162.01 612.608 L169.649 612.608 L169.649 616.543 L149.742 616.543 L149.742 612.608 Z\" fill=\"#000000\" fill-rule=\"evenodd\" fill-opacity=\"1\" /><path clip-path=\"url(#clip960)\" d=\"M 0 0 M184.718 585.062 Q181.107 585.062 179.278 588.627 Q177.473 592.168 177.473 599.298 Q177.473 606.404 179.278 609.969 Q181.107 613.511 184.718 613.511 Q188.353 613.511 190.158 609.969 Q191.987 606.404 191.987 599.298 Q191.987 592.168 190.158 588.627 Q188.353 585.062 184.718 585.062 M184.718 581.358 Q190.528 581.358 193.584 585.965 Q196.663 590.548 196.663 599.298 Q196.663 608.025 193.584 612.631 Q190.528 617.214 184.718 617.214 Q178.908 617.214 175.829 612.631 Q172.774 608.025 172.774 599.298 Q172.774 590.548 175.829 585.965 Q178.908 581.358 184.718 581.358 Z\" fill=\"#000000\" fill-rule=\"evenodd\" fill-opacity=\"1\" /><path clip-path=\"url(#clip960)\" d=\"M 0 0 M196.663 575.46 L220.774 575.46 L220.774 578.657 L196.663 578.657 L196.663 575.46 Z\" fill=\"#000000\" fill-rule=\"evenodd\" fill-opacity=\"1\" /><path clip-path=\"url(#clip960)\" d=\"M 0 0 M235.331 564.363 L225.739 579.353 L235.331 579.353 L235.331 564.363 M234.335 561.053 L239.112 561.053 L239.112 579.353 L243.118 579.353 L243.118 582.512 L239.112 582.512 L239.112 589.133 L235.331 589.133 L235.331 582.512 L222.655 582.512 L222.655 578.845 L234.335 561.053 Z\" fill=\"#000000\" fill-rule=\"evenodd\" fill-opacity=\"1\" /><path clip-path=\"url(#clip960)\" d=\"M 0 0 M54.9736 416.132 L62.6124 416.132 L62.6124 389.766 L54.3023 391.433 L54.3023 387.174 L62.5661 385.507 L67.242 385.507 L67.242 416.132 L74.8809 416.132 L74.8809 420.067 L54.9736 420.067 L54.9736 416.132 Z\" fill=\"#000000\" fill-rule=\"evenodd\" fill-opacity=\"1\" /><path clip-path=\"url(#clip960)\" d=\"M 0 0 M79.9503 414.187 L84.8345 414.187 L84.8345 420.067 L79.9503 420.067 L79.9503 414.187 Z\" fill=\"#000000\" fill-rule=\"evenodd\" fill-opacity=\"1\" /><path clip-path=\"url(#clip960)\" d=\"M 0 0 M90.7141 416.132 L98.353 416.132 L98.353 389.766 L90.0428 391.433 L90.0428 387.174 L98.3067 385.507 L102.983 385.507 L102.983 416.132 L110.621 416.132 L110.621 420.067 L90.7141 420.067 L90.7141 416.132 Z\" fill=\"#000000\" fill-rule=\"evenodd\" fill-opacity=\"1\" /><path clip-path=\"url(#clip960)\" d=\"M 0 0 M143.862 394.604 L133.283 405.229 L143.862 415.808 L141.107 418.609 L130.482 407.984 L119.857 418.609 L117.126 415.808 L127.682 405.229 L117.126 394.604 L119.857 391.803 L130.482 402.428 L141.107 391.803 L143.862 394.604 Z\" fill=\"#000000\" fill-rule=\"evenodd\" fill-opacity=\"1\" /><path clip-path=\"url(#clip960)\" d=\"M 0 0 M149.742 416.132 L157.38 416.132 L157.38 389.766 L149.07 391.433 L149.07 387.174 L157.334 385.507 L162.01 385.507 L162.01 416.132 L169.649 416.132 L169.649 420.067 L149.742 420.067 L149.742 416.132 Z\" fill=\"#000000\" fill-rule=\"evenodd\" fill-opacity=\"1\" /><path clip-path=\"url(#clip960)\" d=\"M 0 0 M184.718 388.586 Q181.107 388.586 179.278 392.151 Q177.473 395.692 177.473 402.822 Q177.473 409.928 179.278 413.493 Q181.107 417.035 184.718 417.035 Q188.353 417.035 190.158 413.493 Q191.987 409.928 191.987 402.822 Q191.987 395.692 190.158 392.151 Q188.353 388.586 184.718 388.586 M184.718 384.882 Q190.528 384.882 193.584 389.488 Q196.663 394.072 196.663 402.822 Q196.663 411.549 193.584 416.155 Q190.528 420.738 184.718 420.738 Q178.908 420.738 175.829 416.155 Q172.774 411.549 172.774 402.822 Q172.774 394.072 175.829 389.488 Q178.908 384.882 184.718 384.882 Z\" fill=\"#000000\" fill-rule=\"evenodd\" fill-opacity=\"1\" /><path clip-path=\"url(#clip960)\" d=\"M 0 0 M196.663 378.983 L220.774 378.983 L220.774 382.181 L196.663 382.181 L196.663 378.983 Z\" fill=\"#000000\" fill-rule=\"evenodd\" fill-opacity=\"1\" /><path clip-path=\"url(#clip960)\" d=\"M 0 0 M235.331 367.887 L225.739 382.877 L235.331 382.877 L235.331 367.887 M234.335 364.577 L239.112 364.577 L239.112 382.877 L243.118 382.877 L243.118 386.036 L239.112 386.036 L239.112 392.657 L235.331 392.657 L235.331 386.036 L222.655 386.036 L222.655 382.369 L234.335 364.577 Z\" fill=\"#000000\" fill-rule=\"evenodd\" fill-opacity=\"1\" /><path clip-path=\"url(#clip960)\" d=\"M 0 0 M55.344 219.656 L62.9828 219.656 L62.9828 193.29 L54.6727 194.957 L54.6727 190.698 L62.9365 189.031 L67.6124 189.031 L67.6124 219.656 L75.2513 219.656 L75.2513 223.591 L55.344 223.591 L55.344 219.656 Z\" fill=\"#000000\" fill-rule=\"evenodd\" fill-opacity=\"1\" /><path clip-path=\"url(#clip960)\" d=\"M 0 0 M80.3207 217.711 L85.2049 217.711 L85.2049 223.591 L80.3207 223.591 L80.3207 217.711 Z\" fill=\"#000000\" fill-rule=\"evenodd\" fill-opacity=\"1\" /><path clip-path=\"url(#clip960)\" d=\"M 0 0 M94.3021 219.656 L110.621 219.656 L110.621 223.591 L88.6771 223.591 L88.6771 219.656 Q91.3391 216.901 95.9224 212.272 Q100.529 207.619 101.709 206.276 Q103.955 203.753 104.834 202.017 Q105.737 200.258 105.737 198.568 Q105.737 195.813 103.793 194.077 Q101.871 192.341 98.7696 192.341 Q96.5706 192.341 94.1169 193.105 Q91.6864 193.869 88.9086 195.42 L88.9086 190.698 Q91.7326 189.563 94.1863 188.985 Q96.64 188.406 98.6771 188.406 Q104.047 188.406 107.242 191.091 Q110.436 193.776 110.436 198.267 Q110.436 200.397 109.626 202.318 Q108.839 204.216 106.733 206.809 Q106.154 207.48 103.052 210.697 Q99.9502 213.892 94.3021 219.656 Z\" fill=\"#000000\" fill-rule=\"evenodd\" fill-opacity=\"1\" /><path clip-path=\"url(#clip960)\" d=\"M 0 0 M143.862 198.128 L133.283 208.753 L143.862 219.332 L141.107 222.133 L130.482 211.508 L119.857 222.133 L117.126 219.332 L127.682 208.753 L117.126 198.128 L119.857 195.327 L130.482 205.952 L141.107 195.327 L143.862 198.128 Z\" fill=\"#000000\" fill-rule=\"evenodd\" fill-opacity=\"1\" /><path clip-path=\"url(#clip960)\" d=\"M 0 0 M149.742 219.656 L157.38 219.656 L157.38 193.29 L149.07 194.957 L149.07 190.698 L157.334 189.031 L162.01 189.031 L162.01 219.656 L169.649 219.656 L169.649 223.591 L149.742 223.591 L149.742 219.656 Z\" fill=\"#000000\" fill-rule=\"evenodd\" fill-opacity=\"1\" /><path clip-path=\"url(#clip960)\" d=\"M 0 0 M184.718 192.11 Q181.107 192.11 179.278 195.674 Q177.473 199.216 177.473 206.346 Q177.473 213.452 179.278 217.017 Q181.107 220.559 184.718 220.559 Q188.353 220.559 190.158 217.017 Q191.987 213.452 191.987 206.346 Q191.987 199.216 190.158 195.674 Q188.353 192.11 184.718 192.11 M184.718 188.406 Q190.528 188.406 193.584 193.012 Q196.663 197.596 196.663 206.346 Q196.663 215.072 193.584 219.679 Q190.528 224.262 184.718 224.262 Q178.908 224.262 175.829 219.679 Q172.774 215.072 172.774 206.346 Q172.774 197.596 175.829 193.012 Q178.908 188.406 184.718 188.406 Z\" fill=\"#000000\" fill-rule=\"evenodd\" fill-opacity=\"1\" /><path clip-path=\"url(#clip960)\" d=\"M 0 0 M196.663 182.507 L220.774 182.507 L220.774 185.705 L196.663 185.705 L196.663 182.507 Z\" fill=\"#000000\" fill-rule=\"evenodd\" fill-opacity=\"1\" /><path clip-path=\"url(#clip960)\" d=\"M 0 0 M235.331 171.411 L225.739 186.4 L235.331 186.4 L235.331 171.411 M234.335 168.101 L239.112 168.101 L239.112 186.4 L243.118 186.4 L243.118 189.56 L239.112 189.56 L239.112 196.181 L235.331 196.181 L235.331 189.56 L222.655 189.56 L222.655 185.893 L234.335 168.101 Z\" fill=\"#000000\" fill-rule=\"evenodd\" fill-opacity=\"1\" /><polyline clip-path=\"url(#clip962)\" style=\"stroke:#009af9; stroke-width:4; stroke-opacity:1; fill:none\" points=\"\n  337.806,1384.83 341.072,1402.48 344.337,1412.12 347.603,1420.02 350.869,1426.19 354.135,1434.84 357.401,1438.19 360.667,1439.49 363.933,1444.69 367.199,1442.73 \n  370.465,1445.72 373.73,1444.91 376.996,1441.5 380.262,1440.34 383.528,1435.82 386.794,1431.99 390.06,1428.21 393.326,1425.42 396.592,1422.35 399.857,1416.26 \n  403.123,1407.38 406.389,1404.93 409.655,1398.89 412.921,1391.71 416.187,1384.79 419.453,1379.67 422.719,1370.13 425.984,1363.61 429.25,1359.08 432.516,1349.34 \n  435.782,1342.21 439.048,1335.05 442.314,1330.69 445.58,1322.89 448.846,1313.26 452.112,1304.32 455.377,1297.36 458.643,1293.04 461.909,1285.43 465.175,1274.76 \n  468.441,1268.59 471.707,1259.92 474.973,1253.55 478.239,1241.15 481.504,1236.17 484.77,1227.22 488.036,1219.17 491.302,1212.69 494.568,1203.5 497.834,1195.36 \n  501.1,1188.21 504.366,1180.14 507.631,1169.11 510.897,1161.7 514.163,1153.19 517.429,1146.42 520.695,1138.61 523.961,1126.73 527.227,1120.57 530.493,1114.64 \n  533.759,1101.69 537.024,1095.73 540.29,1085.8 543.556,1080.62 546.822,1070.46 550.088,1064.14 553.354,1056.65 556.62,1049.17 559.886,1041.39 563.151,1030.85 \n  566.417,1020.63 569.683,1012.87 572.949,1008.32 576.215,998.802 579.481,989.523 582.747,983.261 586.013,975.054 589.278,963.094 592.544,960.927 595.81,947.365 \n  599.076,942.838 602.342,936.292 605.608,923.421 608.874,921.196 612.14,908.434 615.406,904.923 618.671,897.391 621.937,887.432 625.203,878.696 628.469,872.197 \n  631.735,867.469 635.001,856.187 638.267,850.067 641.533,841.367 644.798,835.812 648.064,826.173 651.33,821.225 654.596,815.389 657.862,805.932 661.128,800.435 \n  664.394,791.41 667.66,780.907 670.925,778.303 674.191,769.191 677.457,765.754 680.723,755.223 683.989,751.65 687.255,738.822 690.521,730.91 693.787,726.249 \n  697.053,721.448 700.318,710.819 703.584,709.641 706.85,701.2 710.116,692.782 713.382,687.187 716.648,679.594 719.914,675.246 723.18,668.488 726.445,661.11 \n  729.711,653.308 732.977,649.249 736.243,644.448 739.509,638.069 742.775,630.436 746.041,621.559 749.307,621.196 752.573,610.284 755.838,609.189 759.104,602.502 \n  762.37,592.919 765.636,589.338 768.902,582.495 772.168,580.7 775.434,574.26 778.7,565.378 781.965,558.719 785.231,555.983 788.497,548.945 791.763,545.386 \n  795.029,541.416 798.295,532.421 801.561,527.703 804.827,518.636 808.092,517.036 811.358,510.122 814.624,505.378 817.89,500.498 821.156,494.581 824.422,493.412 \n  827.688,488.426 830.954,481.79 834.22,474.325 837.485,470.649 840.751,463.878 844.017,460.552 847.283,458.643 850.549,453.101 853.815,451.757 857.081,445.906 \n  860.347,438.57 863.612,434.74 866.878,427.796 870.144,425.46 873.41,426.188 876.676,422.391 879.942,415.627 883.208,409.344 886.474,405.404 889.739,402.635 \n  893.005,397.779 896.271,391.5 899.537,388.852 902.803,386.715 906.069,379.132 909.335,382.003 912.601,375.437 915.867,374.044 919.132,372.333 922.398,360.226 \n  925.664,362.664 928.93,356.082 932.196,354.458 935.462,352.297 938.728,348.789 941.994,345.442 945.259,339.477 948.525,333.661 951.791,336.097 955.057,328.677 \n  958.323,329.916 961.589,321.634 964.855,319.378 968.121,319.078 971.386,318.884 974.652,311.536 977.918,310.62 981.184,308.163 984.45,301.233 987.716,297.723 \n  990.982,293.539 994.248,290.417 997.514,288.948 1000.78,290.878 1004.05,288.86 1007.31,286.791 1010.58,281.988 1013.84,276.242 1017.11,274.539 1020.37,271.838 \n  1023.64,268.024 1026.91,268.211 1030.17,264.168 1033.44,266.027 1036.7,261.034 1039.97,261.336 1043.24,253.483 1046.5,255.018 1049.77,256.098 1053.03,251.435 \n  1056.3,247.713 1059.57,245.586 1062.83,247.44 1066.1,237.282 1069.36,236.626 1072.63,235.13 1075.89,239.145 1079.16,230.703 1082.43,228.196 1085.69,231.159 \n  1088.96,224.62 1092.22,229.682 1095.49,224.776 1098.76,223.21 1102.02,224.012 1105.29,215.881 1108.55,219.119 1111.82,211 1115.09,209.823 1118.35,209.593 \n  1121.62,206.056 1124.88,206.425 1128.15,209.813 1131.41,208.389 1134.68,198.722 1137.95,205.511 1141.21,201.223 1144.48,200.423 1147.74,192.7 1151.01,191.159 \n  1154.28,196.658 1157.54,192.815 1160.81,194.325 1164.07,188.191 1167.34,187.005 1170.61,182.79 1173.87,183.524 1177.14,180.813 1180.4,183.955 1183.67,185.991 \n  1186.93,176.992 1190.2,179.453 1193.47,174.428 1196.73,177.287 1200,173.217 1203.26,176.76 1206.53,176.703 1209.8,175.408 1213.06,168.816 1216.33,167.081 \n  1219.59,166.701 1222.86,171.742 1226.13,164.547 1229.39,168.453 1232.66,159.583 1235.92,164.977 1239.19,166.536 1242.45,164.401 1245.72,158.11 1248.99,162.632 \n  1252.25,158.377 1255.52,152.653 1258.78,155.227 1262.05,159.143 1265.32,150.866 1268.58,158.026 1271.85,151.715 1275.11,153.665 1278.38,152.047 1281.65,149.228 \n  1284.91,148.297 1288.18,146.843 1291.44,150.339 1294.71,144.758 1297.97,144.412 1301.24,150.007 1304.51,140.51 1307.77,143.291 1311.04,140.64 1314.3,139.205 \n  1317.57,138.829 1320.84,143.323 1324.1,144.848 1327.37,134.461 1330.63,134.319 1333.9,140.87 1337.17,133.432 1340.43,137.817 1343.7,134.408 1346.96,130.675 \n  1350.23,130.05 1353.49,136.808 1356.76,131.545 1360.03,133.401 1363.29,132.048 1366.56,130.15 1369.82,128.71 1373.09,133.428 1376.36,130.499 1379.62,125.472 \n  1382.89,130.365 1386.15,125.46 1389.42,126.116 1392.69,123.036 1395.95,123.046 1399.22,122.372 1402.48,121.232 1405.75,121.257 1409.01,121.051 1412.28,123.555 \n  1415.55,126.593 1418.81,123.885 1422.08,126.095 1425.34,123.485 1428.61,124.86 1431.88,117.758 1435.14,117.247 1438.41,117.137 1441.67,122.726 1444.94,123.761 \n  1448.21,117.366 1451.47,122.697 1454.74,120.389 1458,117.155 1461.27,120.722 1464.53,113.034 1467.8,112.239 1471.07,113.308 1474.33,115.218 1477.6,113.166 \n  1480.86,119.739 1484.13,111.098 1487.4,116.564 1490.66,115.727 1493.93,117.568 1497.19,110.38 1500.46,112.539 1503.72,111.328 1506.99,108.798 1510.26,115.627 \n  1513.52,116.566 1516.79,110.828 1520.05,111.04 1523.32,107.677 1526.59,108.694 1529.85,110.989 1533.12,113.428 1536.38,112.061 1539.65,114.603 1542.92,112.442 \n  1546.18,109.163 1549.45,113.498 1552.71,110.71 1555.98,112.924 1559.24,106.688 1562.51,110.154 1565.78,106.577 1569.04,105.681 1572.31,109.21 1575.57,110.537 \n  1578.84,103.971 1582.11,108.764 1585.37,106.294 1588.64,106.623 1591.9,108.138 1595.17,108.249 1598.44,103.625 1601.7,100.906 1604.97,105.224 1608.23,107.161 \n  1611.5,101.313 1614.76,108.412 1618.03,107.052 1621.3,104.392 1624.56,103.049 1627.83,102.733 1631.09,102.229 1634.36,107.432 1637.63,106.718 1640.89,101.46 \n  1644.16,101.939 1647.42,101.117 1650.69,100.654 1653.96,99.1569 1657.22,102.22 1660.49,100.292 1663.75,103.96 1667.02,98.0826 1670.28,101.558 1673.55,97.2845 \n  1676.82,103.982 1680.08,100.521 1683.35,105.697 1686.61,101.137 1689.88,100.407 1693.15,97.3618 1696.41,101.095 1699.68,102.953 1702.94,98.8258 1706.21,100.935 \n  1709.48,102.857 1712.74,104.128 1716.01,100.565 1719.27,104.706 1722.54,103.113 1725.8,96.814 1729.07,100.22 1732.34,99.8861 1735.6,97.1212 1738.87,101.921 \n  1742.13,103.066 1745.4,101.283 1748.67,98.4715 1751.93,100.461 1755.2,103.481 1758.46,96.0233 1761.73,98.4828 1765,98.5224 1768.26,98.5416 1771.53,98.891 \n  1774.79,100.601 1778.06,95.7368 1781.32,96.5962 1784.59,95.752 1787.86,95.5323 1791.12,99.3091 1794.39,100.963 1797.65,93.1399 1800.92,94.0886 1804.19,102.318 \n  1807.45,101.277 1810.72,100.091 1813.98,93.6685 1817.25,96.4805 1820.52,94.3335 1823.78,100.763 1827.05,94.5353 1830.31,92.5257 1833.58,94.2352 1836.84,96.9989 \n  1840.11,91.8296 1843.38,98.1134 1846.64,99.8924 1849.91,97.8611 1853.17,91.874 1856.44,97.3815 1859.71,95.7567 1862.97,95.8282 1866.24,95.7025 1869.5,92.3704 \n  1872.77,96.5184 1876.04,98.5105 1879.3,98.3345 1882.57,94.1071 1885.83,99.4833 1889.1,91.9426 1892.36,93.3687 1895.63,96.4089 1898.9,91.268 1902.16,100.353 \n  1905.43,98.6973 1908.69,92.3289 1911.96,96.725 1915.23,92.9378 1918.49,93.8491 1921.76,96.9554 1925.02,99.4105 1928.29,94.647 1931.56,90.2269 1934.82,98.8175 \n  1938.09,96.6695 1941.35,93.1224 1944.62,92.863 1947.88,93.0272 1951.15,92.5913 1954.42,94.2071 1957.68,96.3617 1960.95,91.8522 1964.21,97.9736 1967.48,98.3383 \n  1970.75,93.1003 1974.01,96.44 1977.28,97.5805 1980.54,98.4397 1983.81,92.1659 1987.08,97.9295 1990.34,99.0283 1993.61,96.0511 1996.87,97.7533 2000.14,94.6066 \n  2003.4,94.7157 2006.67,93.5379 2009.94,95.8465 2013.2,96.729 2016.47,90.029 2019.73,89.1685 2023,91.182 2026.27,94.1469 2029.53,90.2651 2032.8,97.9421 \n  2036.06,96.1514 2039.33,91.7736 2042.6,92.2844 2045.86,92.3121 2049.13,91.0715 2052.39,95.7237 2055.66,92.5761 2058.92,92.1652 2062.19,97.6359 2065.46,93.6645 \n  2068.72,92.6823 2071.99,96.4409 2075.25,97.4639 2078.52,94.4322 2081.79,95.9827 2085.05,96.2821 2088.32,91.6383 2091.58,93.5401 2094.85,94.1255 2098.12,95.6826 \n  2101.38,90.0896 2104.65,97.7359 2107.91,95.9037 2111.18,91.1374 2114.44,93.4686 2117.71,95.8736 2120.98,90.7279 2124.24,90.0442 2127.51,91.5121 2130.77,89.0014 \n  2134.04,97.8859 2137.31,91.7972 2140.57,92.0832 2143.84,89.5836 2147.1,89.7566 2150.37,88.7663 2153.64,97.7963 2156.9,97.2027 2160.17,92.2056 2163.43,96.9791 \n  2166.7,88.5264 2169.96,90.7864 2173.23,92.1253 2176.5,88.8909 2179.76,94.6079 2183.03,91.3528 2186.29,94.7593 2189.56,92.405 2192.83,89.4909 2196.09,88.314 \n  2199.36,90.7218 2202.62,96.4036 2205.89,91.775 2209.16,93.0424 2212.42,95.4628 2215.69,90.3489 2218.95,91.8369 2222.22,95.1094 2225.48,89.0111 2228.75,92.0634 \n  2232.02,92.508 2235.28,89.9875 2238.55,91.4723 2241.81,97.0849 2245.08,89.3088 2248.35,95.0594 2251.61,91.7911 2254.88,88.7545 2258.14,87.9763 2261.41,93.4039 \n  2264.68,90.9459 2267.94,89.3213 2271.21,88.3468 2274.47,88.9144 2277.74,95.1347 2281,89.5483 2284.27,93.449 2287.54,88.6511 2290.8,97.1613 2294.07,88.5057 \n  \n  \"/>\n<path clip-path=\"url(#clip960)\" d=\"\nM2002.21 216.178 L2283.63 216.178 L2283.63 95.2176 L2002.21 95.2176  Z\n  \" fill=\"#ffffff\" fill-rule=\"evenodd\" fill-opacity=\"1\"/>\n<polyline clip-path=\"url(#clip960)\" style=\"stroke:#000000; stroke-width:4; stroke-opacity:1; fill:none\" points=\"\n  2002.21,216.178 2283.63,216.178 2283.63,95.2176 2002.21,95.2176 2002.21,216.178 \n  \"/>\n<polyline clip-path=\"url(#clip960)\" style=\"stroke:#009af9; stroke-width:4; stroke-opacity:1; fill:none\" points=\"\n  2025.25,155.698 2163.5,155.698 \n  \"/>\n<path clip-path=\"url(#clip960)\" d=\"M 0 0 M2200.38 175.385 Q2198.57 180.015 2196.86 181.427 Q2195.15 182.839 2192.28 182.839 L2188.87 182.839 L2188.87 179.274 L2191.37 179.274 Q2193.13 179.274 2194.1 178.44 Q2195.08 177.607 2196.26 174.505 L2197.02 172.561 L2186.54 147.052 L2191.05 147.052 L2199.15 167.329 L2207.25 147.052 L2211.77 147.052 L2200.38 175.385 Z\" fill=\"#000000\" fill-rule=\"evenodd\" fill-opacity=\"1\" /><path clip-path=\"url(#clip960)\" d=\"M 0 0 M2217.65 169.042 L2225.29 169.042 L2225.29 142.677 L2216.98 144.343 L2216.98 140.084 L2225.24 138.418 L2229.91 138.418 L2229.91 169.042 L2237.55 169.042 L2237.55 172.978 L2217.65 172.978 L2217.65 169.042 Z\" fill=\"#000000\" fill-rule=\"evenodd\" fill-opacity=\"1\" /></svg>\n"
     },
     "metadata": {},
     "execution_count": 20
    }
   ],
   "source": [
    "plot(check[5][:,4,1])\n",
    "# plot(check[5][:,2,1])"
   ]
  },
  {
   "cell_type": "code",
   "execution_count": 15,
   "metadata": {},
   "outputs": [],
   "source": [
    "ScipyOptimizerMinimize(sess, opt_LFGS_sum,feed_dict = Dict(tf_variables.lambda => ones(1)*T_,tf_variables.N_k_dis=>8))\n"
   ]
  },
  {
   "cell_type": "code",
   "execution_count": 8,
   "metadata": {},
   "outputs": [
    {
     "output_type": "stream",
     "name": "stdout",
     "text": [
      "-2\t100.0\t0.009649301956094317\t5.763548660295008\t\t4\n",
      "-2\t100.0\t0.0044934808496536124\t7.693269095329374\t\t4\n"
     ]
    },
    {
     "output_type": "execute_result",
     "data": {
      "text/plain": [
       "0.0044934808496536124"
      ]
     },
     "metadata": {},
     "execution_count": 8
    }
   ],
   "source": [
    "save_values(sess,param_model_val,tf_variables,q_t_x, q_t_y,p,\"w\")\n",
    "\n",
    "print_status(sess,loss,diff_eval,T_exp,T_,N_k_dis_,tf_variables)\n",
    "ScipyOptimizerMinimize(sess, opt_LFGS_sum,feed_dict = Dict(tf_variables.lambda => ones(1)*T_,tf_variables.N_k_dis=>8))\n",
    "print_status(sess,loss,diff_eval,T_exp,T_,N_k_dis_,tf_variables)\n",
    "\n",
    "check_diff = run(sess,diff_eval,feed_dict = Dict(tf_variables.lambda => ones(1)*T_,tf_variables.N_k_dis=>N_k_dis_))"
   ]
  },
  {
   "cell_type": "code",
   "execution_count": 11,
   "metadata": {},
   "outputs": [
    {
     "output_type": "execute_result",
     "data": {
      "text/plain": [
       "600×64×1 Array{Float64,3}:\n",
       "[:, :, 1] =\n",
       " 2.75771e-6  2.75769e-6  2.75765e-6  …  2.75767e-6  2.75772e-6  2.75773e-6\n",
       " 1.11683e-6  1.11686e-6  1.11686e-6     1.11686e-6  1.11685e-6  1.11685e-6\n",
       " 1.03245e-6  1.03242e-6  1.03244e-6     1.03244e-6  1.03242e-6  1.03242e-6\n",
       " 9.62785e-7  9.62776e-7  9.62777e-7     9.62784e-7  9.62799e-7  9.6278e-7\n",
       " 9.02877e-7  9.02846e-7  9.02861e-7     9.0287e-7   9.02853e-7  9.02847e-7\n",
       " 8.51288e-7  8.5129e-7   8.51292e-7  …  8.51283e-7  8.51279e-7  8.5128e-7\n",
       " 8.06888e-7  8.06891e-7  8.06893e-7     8.06894e-7  8.06879e-7  8.06878e-7\n",
       " 7.68653e-7  7.68659e-7  7.6868e-7      7.68653e-7  7.68673e-7  7.68675e-7\n",
       " 7.35788e-7  7.35771e-7  7.35773e-7     7.35777e-7  7.35786e-7  7.3577e-7\n",
       " 7.07474e-7  7.07476e-7  7.07475e-7     7.07454e-7  7.07453e-7  7.07478e-7\n",
       " 6.83089e-7  6.83099e-7  6.83104e-7  …  6.83103e-7  6.83101e-7  6.83093e-7\n",
       " 6.62118e-7  6.62131e-7  6.62128e-7     6.62131e-7  6.62139e-7  6.62118e-7\n",
       " 6.4408e-7   6.44067e-7  6.4408e-7      6.44065e-7  6.44084e-7  6.44083e-7\n",
       " ⋮                                   ⋱                          \n",
       " 5.32529e-7  5.32542e-7  5.32538e-7     5.32539e-7  5.32537e-7  5.32542e-7\n",
       " 5.32544e-7  5.32545e-7  5.32545e-7     5.32546e-7  5.32543e-7  5.32538e-7\n",
       " 5.32546e-7  5.3254e-7   5.32529e-7  …  5.32533e-7  5.32528e-7  5.32541e-7\n",
       " 5.32542e-7  5.32529e-7  5.32547e-7     5.32544e-7  5.32535e-7  5.32538e-7\n",
       " 5.32547e-7  5.32541e-7  5.3254e-7      5.32535e-7  5.32531e-7  5.3254e-7\n",
       " 5.32532e-7  5.32538e-7  5.32546e-7     5.32541e-7  5.32537e-7  5.3253e-7\n",
       " 5.32535e-7  5.3254e-7   5.32547e-7     5.32535e-7  5.32545e-7  5.32539e-7\n",
       " 5.32535e-7  5.3253e-7   5.32545e-7  …  5.32546e-7  5.32534e-7  5.32541e-7\n",
       " 5.32529e-7  5.32535e-7  5.32538e-7     5.32534e-7  5.3254e-7   5.32537e-7\n",
       " 5.32537e-7  5.32535e-7  5.3254e-7      5.32547e-7  5.32543e-7  5.32528e-7\n",
       " 5.32531e-7  5.3253e-7   5.32537e-7     5.32529e-7  5.32543e-7  5.32531e-7\n",
       " 5.32528e-7  5.32532e-7  5.32538e-7     5.3254e-7   5.32534e-7  5.3254e-7"
      ]
     },
     "metadata": {},
     "execution_count": 11
    }
   ],
   "source": [
    "check[5]"
   ]
  },
  {
   "cell_type": "code",
   "execution_count": 9,
   "metadata": {},
   "outputs": [
    {
     "output_type": "execute_result",
     "data": {
      "text/plain": [
       "0"
      ]
     },
     "metadata": {},
     "execution_count": 9
    }
   ],
   "source": [
    "  T_exp_final =0\n",
    "\n",
    "\n"
   ]
  },
  {
   "cell_type": "code",
   "execution_count": 10,
   "metadata": {},
   "outputs": [
    {
     "output_type": "stream",
     "name": "stdout",
     "text": [
      "-2\t100.0\t0.0044934808496536124\t7.693269095329374\t\t4\n-2"
     ]
    }
   ],
   "source": [
    "\n",
    "while T_exp <= T_exp_final\n",
    "\n",
    "    T_=  10.0 ^ (-T_exp) \n",
    "\n",
    "    print_status(sess,loss,diff_eval,T_exp,T_,N_k_dis_,tf_variables)\n",
    "    check_diff_ = run(sess,diff_eval,feed_dict = Dict(tf_variables.lambda => ones(1)*T_,tf_variables.N_k_dis=>N_k_dis_))  \n",
    "    print_status(sess,loss,diff_eval,T_exp,T_,N_k_dis_,tf_variables)\n",
    "    ScipyOptimizerMinimize(sess, opt_LFGS,feed_dict = Dict(tf_variables.lambda => ones(1)*T_,tf_variables.N_k_dis=>N_k_dis_))\n",
    "    print_status(sess,loss,diff_eval,T_exp,T_,N_k_dis_,tf_variables)\n",
    "    if round(T_exp,digits=2)%1 == 0\n",
    "\n",
    "        save_values(sess,param_model_val,tf_variables,q_t_x, q_t_y,p)\n",
    "        check_diff_ = run(sess,diff_eval,feed_dict = Dict(tf_variables.lambda => ones(1)*T_,tf_variables.N_k_dis=>N_k_dis_))  \n",
    "        N_k_dis_ = update_K_p(sess,param_model_val,tf_variables,check_diff_,N_k_dis_,p_pre_soft_max)\n",
    "\n",
    "    end\n",
    "\n",
    "\n",
    "    T_exp += 0.1\n",
    "end\n"
   ]
  }
 ]
}