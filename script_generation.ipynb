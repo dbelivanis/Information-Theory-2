{
 "metadata": {
  "language_info": {
   "codemirror_mode": {
    "name": "ipython",
    "version": 3
   },
   "file_extension": ".py",
   "mimetype": "text/x-python",
   "name": "python",
   "nbconvert_exporter": "python",
   "pygments_lexer": "ipython3",
   "version": "3.8.5"
  },
  "orig_nbformat": 2,
  "kernelspec": {
   "name": "python3",
   "display_name": "Python 3.8.5 64-bit (conda)"
  },
  "metadata": {
   "interpreter": {
    "hash": "4b52351028b39e813c82a08b1f92f8b08c926f93d8b7c782ac06736618b2486c"
   }
  },
  "interpreter": {
   "hash": "f286c3a7e567b8df9b3cb2efabd19724cea25727cbd5f17685f37041d599d098"
  }
 },
 "nbformat": 4,
 "nbformat_minor": 2,
 "cells": [
  {
   "cell_type": "code",
   "execution_count": 3,
   "source": [
    "# N_steps_list = [5,10,20,50]\r\n",
    "N_steps_list = [50]\r\n",
    "Max_iter_list = [100]"
   ],
   "outputs": [],
   "metadata": {}
  },
  {
   "cell_type": "code",
   "execution_count": 5,
   "source": [
    "for N_steps in N_steps_list:\r\n",
    "\r\n",
    "    for Max_iter in Max_iter_list:\r\n",
    "            \r\n",
    "        filename = f\"run_N_steps_{N_steps}_{Max_iter}_more_qoi.sh\"\r\n",
    "        f = open(filename, \"w\")\r\n",
    "        f.write(f\"\"\"#!/bin/bash\r\n",
    "#SBATCH --job-name dbelivan_ADCME_init_200\r\n",
    "#SBATCH --ntasks=1\r\n",
    "#SBATCH --gres=gpu:v100:1\r\n",
    "#SBATCH --partition=gpu\r\n",
    "#SBATCH --mem=64GB\r\n",
    "#SBATCH --time=48:00:00\r\n",
    "#SBATCH --error=/home/dbelivan/research/{filename[:-3]}.err\r\n",
    "#SBATCH --output=/home/dbelivan/research/{filename[:-3]}.out\r\n",
    "#\r\n",
    "#\r\n",
    "echo \"start script\"\r\n",
    "module --ignore-cache load \"cuda/cuda-10.1\"\r\n",
    "nvcc --version\r\n",
    "#\r\n",
    "#\r\n",
    "cd Optimization\r\n",
    "/home/dbelivan/julia-1.5.3/bin/julia core_2.jl {Max_iter} {N_steps}\r\n",
    "#\r\n",
    "echo \"check end of script\"\r\n",
    "# end script\"\"\")\r\n",
    "        f.close()"
   ],
   "outputs": [],
   "metadata": {}
  },
  {
   "cell_type": "code",
   "execution_count": null,
   "source": [],
   "outputs": [],
   "metadata": {}
  }
 ]
}