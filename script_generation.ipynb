{
 "cells": [
  {
   "cell_type": "code",
   "execution_count": 5,
   "metadata": {},
   "outputs": [],
   "source": [
    "# N_steps_list = [5,10,20,50]\n",
    "N_steps_list = [50]\n",
    "Max_iter_list = [500]"
   ]
  },
  {
   "cell_type": "code",
   "execution_count": 6,
   "metadata": {},
   "outputs": [],
   "source": [
    "for N_steps in N_steps_list:\n",
    "\n",
    "    for Max_iter in Max_iter_list:\n",
    "            \n",
    "        filename = f\"run_N_steps_{N_steps}_{Max_iter}_fto_14.sh\"\n",
    "        f = open(filename, \"w\")\n",
    "        f.write(f\"\"\"#!/bin/bash\n",
    "#SBATCH --job-name dbelivan_ADCME_init_200\n",
    "#SBATCH --ntasks=1\n",
    "#SBATCH --gres=gpu:v100:1\n",
    "#SBATCH --partition=gpu\n",
    "#SBATCH --mem=64GB\n",
    "#SBATCH --time=48:00:00\n",
    "#SBATCH --error=/home/dbelivan/research/{filename[:-3]}.err\n",
    "#SBATCH --output=/home/dbelivan/research/{filename[:-3]}.out\n",
    "#\n",
    "#\n",
    "echo \"start script\"\n",
    "module --ignore-cache load \"cuda/cuda-10.1\"\n",
    "nvcc --version\n",
    "#\n",
    "#\n",
    "cd Optimization\n",
    "/home/dbelivan/julia-1.5.3/bin/julia core_2.jl {Max_iter} {N_steps}\n",
    "#\n",
    "echo \"check end of script\"\n",
    "# end script\"\"\")\n",
    "        f.close()"
   ]
  },
  {
   "cell_type": "code",
   "execution_count": null,
   "metadata": {},
   "outputs": [],
   "source": []
  }
 ],
 "metadata": {
  "interpreter": {
   "hash": "f286c3a7e567b8df9b3cb2efabd19724cea25727cbd5f17685f37041d599d098"
  },
  "kernelspec": {
   "display_name": "Python 3.8.5 64-bit (conda)",
   "name": "python3"
  },
  "language_info": {
   "codemirror_mode": {
    "name": "ipython",
    "version": 3
   },
   "file_extension": ".py",
   "mimetype": "text/x-python",
   "name": "python",
   "nbconvert_exporter": "python",
   "pygments_lexer": "ipython3",
   "version": "3.8.5"
  },
  "metadata": {
   "interpreter": {
    "hash": "4b52351028b39e813c82a08b1f92f8b08c926f93d8b7c782ac06736618b2486c"
   }
  },
  "orig_nbformat": 2
 },
 "nbformat": 4,
 "nbformat_minor": 2
}
