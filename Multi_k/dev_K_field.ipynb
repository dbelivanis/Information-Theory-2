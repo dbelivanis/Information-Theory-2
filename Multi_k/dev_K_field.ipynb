{
 "cells": [
  {
   "cell_type": "code",
   "execution_count": 1,
   "metadata": {},
   "outputs": [
    {
     "name": "stderr",
     "output_type": "stream",
     "text": [
      "2021-11-29 21:26:55.447827: I tensorflow/stream_executor/platform/default/dso_loader.cc:44] Successfully opened dynamic library cudart64_100.dll\n",
      "WARNING: using param.param in module aux_functions conflicts with an existing identifier.\n"
     ]
    }
   ],
   "source": [
    "include(\"./param.jl\");\n",
    "# include(\"./aux_functions.jl\");\n",
    "\n",
    "using Main.aux_functions\n",
    "using Main.param\n",
    "using ADCME\n",
    "using SparseArrays\n",
    "\n",
    "using DelimitedFiles\n",
    "using Dates\n",
    "using Plots"
   ]
  },
  {
   "cell_type": "code",
   "execution_count": null,
   "metadata": {},
   "outputs": [],
   "source": []
  },
  {
   "cell_type": "code",
   "execution_count": 2,
   "metadata": {},
   "outputs": [],
   "source": [
    "model_param = param_model(N_k=2,N_x=10,N_y=10,N_steps=50);\n"
   ]
  },
  {
   "cell_type": "code",
   "execution_count": 3,
   "metadata": {},
   "outputs": [
    {
     "data": {
      "text/plain": [
       "PyObject <tf.Tensor 'truediv_5:0' shape=(2, 10, 9) dtype=float64>"
      ]
     },
     "execution_count": 3,
     "metadata": {},
     "output_type": "execute_result"
    }
   ],
   "source": [
    "K = Variable(ones(model_param.N_k, model_param.N_x, model_param.N_y)) * 1e-5;\n",
    "\n",
    "# A = reshape(1:18, 2, 3, 3)\n",
    "# K = Variable(A)\n",
    "\n",
    "K_avg_x = 2 / (1 / K[:, 2:end, :] + 1 / K[:, 1:end-1, :])\n",
    "K_avg_y = 2 / (1 / K[:, :, 2:end] + 1 / K[:, :, 1:end-1])"
   ]
  },
  {
   "cell_type": "code",
   "execution_count": 4,
   "metadata": {},
   "outputs": [],
   "source": [
    "list_m2_x = Int64[]\n",
    "list_m2_y = Int64[]\n",
    "list_m2_v = []\n",
    "\n",
    "list_m3_x = Int64[]\n",
    "list_m3_y = Int64[]\n",
    "\n",
    "list_m4_x = Int64[]\n",
    "list_m4_y = Int64[]\n",
    "\n",
    "list_m5_x = Int64[]\n",
    "list_m5_y = Int64[]\n",
    "\n",
    "for jj = 0:model_param.N_y-1\n",
    "    for ii = 0:model_param.N_x-1\n",
    "\n",
    "        if ii + 2 < model_param.N_x #&& ii>0\n",
    "            append!(list_m2_x, jj * model_param.N_x + ii + 2)\n",
    "            append!(list_m2_y, jj * model_param.N_x + ii + 1)\n",
    "        end\n",
    "\n",
    "        if ii > 1 #&& ii  < model_param.N_x-1\n",
    "            append!(list_m3_x, jj * model_param.N_x + ii)\n",
    "            append!(list_m3_y, jj * model_param.N_x + ii + 1)\n",
    "        end\n",
    "\n",
    "        if jj + 1 < model_param.N_y && ii > 0 && ii < model_param.N_x - 1\n",
    "            append!(list_m4_x, (jj + 1) * model_param.N_x + ii + 1)\n",
    "            append!(list_m4_y, jj * model_param.N_x + ii + 1)\n",
    "        end\n",
    "\n",
    "        if jj > 0 && ii < model_param.N_x - 1 && ii > 0\n",
    "            append!(list_m5_x, (jj - 1) * model_param.N_x + ii + 1)\n",
    "            append!(list_m5_y, jj * model_param.N_x + ii + 1)\n",
    "        end\n",
    "\n",
    "\n",
    "    end\n",
    "end\n",
    "\n",
    "list_m3_v_i = [ii + 1 for ii = 0:((model_param.N_x-1)*(model_param.N_y)-1) if ii % (model_param.N_x - 1) != 0]\n",
    "list_m2_v_i = [ii + 1 for ii = 0:((model_param.N_x-1)*(model_param.N_y)-1) if ii % (model_param.N_x - 1) != (model_param.N_x - 2)]\n",
    "list_m4_v_i = [ii + 1 for ii = 0:((model_param.N_x)*(model_param.N_y-1)-1) if ii % (model_param.N_x) != (model_param.N_x - 1) && ii % (model_param.N_x) != 0];\n",
    "\n",
    "                    "
   ]
  },
  {
   "cell_type": "code",
   "execution_count": 6,
   "metadata": {},
   "outputs": [],
   "source": [
    "\n",
    "# list_A = []\n",
    "# for i = 1:model_param.N_k\n",
    "\n",
    "#     K_avg_x_i = reshape(K_avg_x[i, :], -1) * model_param.dt / (model_param.dx)^2 \n",
    "#     K_avg_y_i = reshape(K_avg_y[i, :], -1) * model_param.dt / (model_param.dy)^2 \n",
    "\n",
    "#     m2_m = SparseTensor(list_m2_x, list_m2_y, K_avg_x_i[list_m2_v_i], model_param.Ne, model_param.Ne)\n",
    "#     m3_m = SparseTensor(list_m3_x, list_m3_y, K_avg_x_i[list_m3_v_i], model_param.Ne, model_param.Ne)\n",
    "#     m4_m = SparseTensor(list_m4_x, list_m4_y, K_avg_y_i[list_m4_v_i], model_param.Ne, model_param.Ne)\n",
    "#     m5_m = SparseTensor(list_m5_x, list_m5_y, K_avg_y_i[list_m4_v_i], model_param.Ne, model_param.Ne)\n",
    "\n",
    "\n",
    "#     m2_d = SparseTensor(list_m2_x, list_m2_x, K_avg_x_i[list_m2_v_i], model_param.Ne, model_param.Ne)\n",
    "#     m3_d = SparseTensor(list_m3_x, list_m3_x, K_avg_x_i[list_m3_v_i], model_param.Ne, model_param.Ne)\n",
    "#     m4_d = SparseTensor(list_m4_x, list_m4_x, K_avg_y_i[list_m4_v_i], model_param.Ne, model_param.Ne)\n",
    "#     m5_d = SparseTensor(list_m5_x, list_m5_x, K_avg_y_i[list_m4_v_i], model_param.Ne, model_param.Ne)\n",
    "\n",
    "\n",
    "#     A = spdiag(model_param.Ne) - (m2_m + m3_m + m4_m + m5_m) + (m2_d + m3_d + m4_d + m5_d)\n",
    "#     # A = spdiag(model_param.Ne)\n",
    "\n",
    "\n",
    "#     append!(list_A, [A])\n",
    "# end"
   ]
  },
  {
   "cell_type": "code",
   "execution_count": 7,
   "metadata": {},
   "outputs": [],
   "source": [
    "# sess = Session(); init(sess);\n"
   ]
  },
  {
   "cell_type": "code",
   "execution_count": null,
   "metadata": {},
   "outputs": [
    {
     "data": {
      "text/plain": [
       "9×9 SparseMatrixCSC{Float64, Int64} with 24 stored entries:\n",
       "  1.0       ⋅        ⋅        ⋅      …    ⋅        ⋅        ⋅        ⋅ \n",
       " -0.2916   1.8748  -0.2916    ⋅           ⋅        ⋅        ⋅        ⋅ \n",
       "   ⋅      -0.2916   1.8748  -0.2916       ⋅        ⋅        ⋅        ⋅ \n",
       "   ⋅        ⋅      -0.2916   1.8748       ⋅        ⋅        ⋅        ⋅ \n",
       "   ⋅        ⋅        ⋅      -0.2916     -0.2916    ⋅        ⋅        ⋅ \n",
       "   ⋅        ⋅        ⋅        ⋅      …   1.8748  -0.2916    ⋅        ⋅ \n",
       "   ⋅        ⋅        ⋅        ⋅         -0.2916   1.8748  -0.2916    ⋅ \n",
       "   ⋅        ⋅        ⋅        ⋅           ⋅      -0.2916   1.8748  -0.2916\n",
       "   ⋅        ⋅        ⋅        ⋅           ⋅        ⋅      -0.2916   1.8748"
      ]
     },
     "execution_count": 233,
     "metadata": {},
     "output_type": "execute_result"
    }
   ],
   "source": [
    "# run(sess, list_A[1][1:9,1:9])"
   ]
  },
  {
   "cell_type": "code",
   "execution_count": null,
   "metadata": {},
   "outputs": [],
   "source": []
  },
  {
   "cell_type": "code",
   "execution_count": 8,
   "metadata": {},
   "outputs": [
    {
     "data": {
      "text/plain": [
       "IC (generic function with 1 method)"
      ]
     },
     "execution_count": 8,
     "metadata": {},
     "output_type": "execute_result"
    }
   ],
   "source": [
    "#Building matrices for applying BC\n",
    "ii_l = [i for i = 1:model_param.N_x:model_param.Ne]\n",
    "jj_l = [1 for i = 1:model_param.N_x:model_param.Ne]\n",
    "vv_l = [1.0 for i = 1:model_param.N_x:model_param.Ne]\n",
    "# B\n",
    "A_l_m = SparseTensor(ii_l, jj_l, vv_l, model_param.Ne, 1)\n",
    "\n",
    "ii_r = [i for i = model_param.N_x:model_param.N_x:model_param.Ne]\n",
    "jj_r = [1 for i = 1:model_param.N_x:model_param.Ne]\n",
    "vv_r = [1.0 for i = 1:model_param.N_x:model_param.Ne]\n",
    "A_r_m = SparseTensor(ii_r, jj_r, vv_r, model_param.Ne, 1)\n",
    "A_m = 1 - Array(A_l_m) - Array(A_r_m)\n",
    "\n",
    "x = LinRange(0, 1, model_param.N_x)\n",
    "\n",
    "function left_BC(t)\n",
    "\n",
    "    Dh = 1e-1\n",
    "    A = 1e-4\n",
    "    B = 1\n",
    "    H = B + (Dh * exp(-A * t))\n",
    "\n",
    "end;\n",
    "\n",
    "function BC(t)\n",
    "\n",
    "    BC_right_ = zeros(model_param.N_y)\n",
    "\n",
    "    BC_left_ = ones(model_param.N_y) * constant(left_BC(t))\n",
    "    #     BC_left_ = ones(N_y) + constant(t*1e-2)\n",
    "\n",
    "    BC_left = SparseTensor(ii_l, jj_l, BC_left_, model_param.Ne, 1)\n",
    "    BC_right = SparseTensor(ii_r, jj_r, BC_right_, model_param.Ne, 1)\n",
    "\n",
    "\n",
    "    #     constant(ones(N_y) ) + constant(1e-4 * t )\n",
    "    return BC_left, BC_right, BC_left_, BC_right_\n",
    "end\n",
    "\n",
    "\n",
    "function IC()\n",
    "\n",
    "    _, _, BC_left, Bc_right = BC(0)\n",
    "\n",
    "    h_0 = reshape((reshape(BC_left, (model_param.N_y, 1)) .- reshape(BC_left, (model_param.N_y, 1)) * reshape(constant(x), (1, model_param.N_x))), (1, model_param.Ne)) .* ones(model_param.N_k, 1)\n",
    "    return h_0\n",
    "end"
   ]
  },
  {
   "cell_type": "code",
   "execution_count": 9,
   "metadata": {},
   "outputs": [
    {
     "data": {
      "text/plain": [
       "advance_time (generic function with 1 method)"
      ]
     },
     "execution_count": 9,
     "metadata": {},
     "output_type": "execute_result"
    }
   ],
   "source": [
    "function advance_time(h_rhs)\n",
    "    h_n = TensorArray(model_param.N_k)\n",
    "    j = constant(1, dtype = Int32)\n",
    "\n",
    "    function condition(j, h_n)\n",
    "        j <= model_param.N_k\n",
    "    end\n",
    "\n",
    "    function body(j, h_n)\n",
    "    \n",
    "        K_avg_x_i = reshape(K_avg_x[j, :], -1) * model_param.dt / (model_param.dx)^2 / S\n",
    "        K_avg_y_i = reshape(K_avg_y[j, :], -1) * model_param.dt / (model_param.dy)^2 / S\n",
    "    \n",
    "        m2_m = SparseTensor(list_m2_x, list_m2_y, K_avg_x_i[list_m2_v_i], model_param.Ne, model_param.Ne)\n",
    "        m3_m = SparseTensor(list_m3_x, list_m3_y, K_avg_x_i[list_m3_v_i], model_param.Ne, model_param.Ne)\n",
    "        m4_m = SparseTensor(list_m4_x, list_m4_y, K_avg_y_i[list_m4_v_i], model_param.Ne, model_param.Ne)\n",
    "        m5_m = SparseTensor(list_m5_x, list_m5_y, K_avg_y_i[list_m4_v_i], model_param.Ne, model_param.Ne)\n",
    "    \n",
    "    \n",
    "        m2_d = SparseTensor(list_m2_x, list_m2_x, K_avg_x_i[list_m2_v_i], model_param.Ne, model_param.Ne)\n",
    "        m3_d = SparseTensor(list_m3_x, list_m3_x, K_avg_x_i[list_m3_v_i], model_param.Ne, model_param.Ne)\n",
    "        m4_d = SparseTensor(list_m4_x, list_m4_x, K_avg_y_i[list_m4_v_i], model_param.Ne, model_param.Ne)\n",
    "        m5_d = SparseTensor(list_m5_x, list_m5_x, K_avg_y_i[list_m4_v_i], model_param.Ne, model_param.Ne)\n",
    "    \n",
    "    \n",
    "        A = spdiag(model_param.Ne) - (m2_m + m3_m + m4_m + m5_m) + (m2_d + m3_d + m4_d + m5_d)\n",
    "    \n",
    "        h_j = A \\ h_rhs[j]\n",
    "    \n",
    "        # # update head\n",
    "    \n",
    "        h_n = write(h_n, j, h_j)\n",
    "    \n",
    "        # h_n = write(h_n, j, h_rhs[j])\n",
    "    \n",
    "        j + 1, h_n\n",
    "    end\n",
    "\n",
    "    _, out = while_loop(condition, body, [j, h_n])\n",
    "\n",
    "\n",
    "    h_n = stack(out)\n",
    "\n",
    "end"
   ]
  },
  {
   "cell_type": "code",
   "execution_count": null,
   "metadata": {},
   "outputs": [
    {
     "data": {
      "text/plain": [
       "PyObject <tf.Tensor 'TensorArrayStack_22/TensorArrayGatherV3:0' shape=(?, 100) dtype=float64>"
      ]
     },
     "execution_count": 236,
     "metadata": {},
     "output_type": "execute_result"
    }
   ],
   "source": [
    "# # initialize the head with initial condition\n",
    "# h_IC = IC()\n",
    "# # Initialize the tensor of head for all time steps\n",
    "# h_t = TensorArray(model_param.N_steps)\n",
    "# h_t = write(h_t, 1, constant(h_IC))\n",
    "\n",
    "\n",
    "# h_rhs = read(h_t, 1)\n",
    "# BC_left, BC_right = BC(1 * model_param.dt)\n",
    "# h_rhs = h_rhs .* A_m[:, 1] + Array(BC_left)[:, 1] + Array(BC_right)[:, 1]\n",
    "\n",
    "# h_next = advance_time(h_rhs)\n",
    "\n",
    "\n",
    "# # h_t = TensorArray(model_param.N_steps)\n",
    "# # h_t = write(h_t, 1, constant(h_IC))\n",
    "# # h_t = stack(h_t)\n"
   ]
  },
  {
   "cell_type": "code",
   "execution_count": 10,
   "metadata": {},
   "outputs": [],
   "source": [
    "# run(sess, h_rhs)"
   ]
  },
  {
   "cell_type": "code",
   "execution_count": 11,
   "metadata": {},
   "outputs": [
    {
     "data": {
      "text/plain": [
       "PyObject <tf.Tensor 'TensorArrayStack/TensorArrayGatherV3:0' shape=(50, 2, 100) dtype=float64>"
      ]
     },
     "execution_count": 11,
     "metadata": {},
     "output_type": "execute_result"
    }
   ],
   "source": [
    "# Main function to solve the Darcy flow problem - forward problem\n",
    "\n",
    "# initialize the head with initial condition\n",
    "h_IC = IC()\n",
    "# Initialize the tensor of head for all time steps\n",
    "h_t = TensorArray(model_param.N_steps)\n",
    "\n",
    "\n",
    "# Initial state out of the Loop \n",
    "# Initial condition\n",
    "\n",
    "# write the first head value in the tensor\n",
    "h_t = write(h_t, 1, constant(h_IC))\n",
    "# next step\n",
    "i = constant(2, dtype = Int32)\n",
    "\n",
    "\n",
    "S = 1e-6 # Storativity\n",
    "\n",
    "function condition(i, h_t_loop)\n",
    "    # for loop until last time step\n",
    "    i <= model_param.N_steps\n",
    "end\n",
    "\n",
    "function body(i, h_t_loop)\n",
    "\n",
    "    # calculate time\n",
    "    t = cast(i - 1, Float64) * model_param.dt\n",
    "\n",
    "    # build rhs\n",
    "    h_rhs = read(h_t_loop, i - 1)\n",
    "    BC_left, BC_right = BC(t)\n",
    "    h_rhs = h_rhs .* A_m[:, 1] + Array(BC_left)[:, 1] + Array(BC_right)[:, 1]\n",
    "\n",
    "    # advance time\n",
    "    h_next = advance_time(h_rhs)\n",
    "\n",
    "    # # # update hydraulic head\n",
    "    h_t_loop = write(h_t_loop, i, h_next)\n",
    "\n",
    "    # return head and flow\n",
    "    i + 1, h_t_loop\n",
    "\n",
    "end\n",
    "\n",
    "# # Define the tensor flow loop\n",
    "_, out = while_loop(condition, body, [i, h_t])\n",
    "\n",
    "h_t = stack(out)\n",
    "\n",
    "set_shape(h_t, (model_param.N_steps, model_param.N_k, model_param.Ne))"
   ]
  },
  {
   "cell_type": "code",
   "execution_count": 25,
   "metadata": {},
   "outputs": [
    {
     "data": {
      "text/plain": [
       "PyObject <tf.Tensor 'truediv_7:0' shape=(50, 2) dtype=float64>"
      ]
     },
     "execution_count": 25,
     "metadata": {},
     "output_type": "execute_result"
    }
   ],
   "source": [
    "i_qoi = model_param.N_x ÷ 2\n",
    "j_qoi = model_param.N_y ÷ 2\n",
    "ij_qoi = (j_qoi - 1 + 1) * model_param.N_x + i_qoi\n",
    "\n",
    "q_t_x = reshape(K_avg_x[:, i_qoi, j_qoi], (1, model_param.N_k)) .* (h_t[:, :, ij_qoi] - h_t[:, :, ij_qoi+1])/model_param.dx\n",
    "# q_t_x = (h_t[:, :, ij_qoi] - h_t[:, :, ij_qoi]) "
   ]
  },
  {
   "cell_type": "markdown",
   "metadata": {},
   "source": []
  },
  {
   "cell_type": "code",
   "execution_count": null,
   "metadata": {},
   "outputs": [],
   "source": []
  },
  {
   "cell_type": "code",
   "execution_count": 26,
   "metadata": {},
   "outputs": [
    {
     "name": "stderr",
     "output_type": "stream",
     "text": [
      "2021-11-29 21:31:52.662917: I tensorflow/core/common_runtime/gpu/gpu_device.cc:1618] Found device 0 with properties: \n",
      "name: GeForce GTX 1650 major: 7 minor: 5 memoryClockRate(GHz): 1.56\n",
      "pciBusID: 0000:01:00.0\n",
      "2021-11-29 21:31:52.662963: I tensorflow/stream_executor/platform/default/dso_loader.cc:44] Successfully opened dynamic library cudart64_100.dll\n",
      "2021-11-29 21:31:52.662973: I tensorflow/stream_executor/platform/default/dso_loader.cc:44] Successfully opened dynamic library cublas64_100.dll\n",
      "2021-11-29 21:31:52.662981: I tensorflow/stream_executor/platform/default/dso_loader.cc:44] Successfully opened dynamic library cufft64_100.dll\n",
      "2021-11-29 21:31:52.662990: I tensorflow/stream_executor/platform/default/dso_loader.cc:44] Successfully opened dynamic library curand64_100.dll\n",
      "2021-11-29 21:31:52.662996: I tensorflow/stream_executor/platform/default/dso_loader.cc:44] Successfully opened dynamic library cusolver64_100.dll\n",
      "2021-11-29 21:31:52.663005: I tensorflow/stream_executor/platform/default/dso_loader.cc:44] Successfully opened dynamic library cusparse64_100.dll\n",
      "2021-11-29 21:31:52.663013: I tensorflow/stream_executor/platform/default/dso_loader.cc:44] Successfully opened dynamic library cudnn64_7.dll\n",
      "2021-11-29 21:31:52.663054: I tensorflow/core/common_runtime/gpu/gpu_device.cc:1746] Adding visible gpu devices: 0\n",
      "2021-11-29 21:31:52.663112: I tensorflow/core/common_runtime/gpu/gpu_device.cc:1159] Device interconnect StreamExecutor with strength 1 edge matrix:\n",
      "2021-11-29 21:31:52.663117: I tensorflow/core/common_runtime/gpu/gpu_device.cc:1165]      0 \n",
      "2021-11-29 21:31:52.663121: I tensorflow/core/common_runtime/gpu/gpu_device.cc:1178] 0:   N \n",
      "2021-11-29 21:31:52.663209: I tensorflow/core/common_runtime/gpu/gpu_device.cc:1304] Created TensorFlow device (/job:localhost/replica:0/task:0/device:GPU:0 with 2919 MB memory) -> physical GPU (device: 0, name: GeForce GTX 1650, pci bus id: 0000:01:00.0, compute capability: 7.5)\n"
     ]
    }
   ],
   "source": [
    "sess = Session(); init(sess);\n"
   ]
  },
  {
   "cell_type": "code",
   "execution_count": 27,
   "metadata": {},
   "outputs": [
    {
     "data": {
      "text/plain": [
       "50×2 Matrix{Float64}:\n",
       " 1.1e-8      1.1e-8\n",
       " 1.09997e-8  1.09997e-8\n",
       " 1.09985e-8  1.09985e-8\n",
       " 1.09959e-8  1.09959e-8\n",
       " 1.09915e-8  1.09915e-8\n",
       " 1.09852e-8  1.09852e-8\n",
       " 1.09768e-8  1.09768e-8\n",
       " 1.09663e-8  1.09663e-8\n",
       " 1.09539e-8  1.09539e-8\n",
       " 1.09397e-8  1.09397e-8\n",
       " 1.0924e-8   1.0924e-8\n",
       " 1.09069e-8  1.09069e-8\n",
       " 1.08887e-8  1.08887e-8\n",
       " ⋮           \n",
       " 1.04011e-8  1.04011e-8\n",
       " 1.03874e-8  1.03874e-8\n",
       " 1.03741e-8  1.03741e-8\n",
       " 1.03612e-8  1.03612e-8\n",
       " 1.03487e-8  1.03487e-8\n",
       " 1.03367e-8  1.03367e-8\n",
       " 1.0325e-8   1.0325e-8\n",
       " 1.03137e-8  1.03137e-8\n",
       " 1.03028e-8  1.03028e-8\n",
       " 1.02923e-8  1.02923e-8\n",
       " 1.02821e-8  1.02821e-8\n",
       " 1.02722e-8  1.02722e-8"
      ]
     },
     "execution_count": 27,
     "metadata": {},
     "output_type": "execute_result"
    }
   ],
   "source": [
    "run(sess,q_t_x)"
   ]
  },
  {
   "cell_type": "markdown",
   "metadata": {},
   "source": [
    "To DO\n",
    "\n"
   ]
  },
  {
   "cell_type": "code",
   "execution_count": null,
   "metadata": {},
   "outputs": [],
   "source": []
  }
 ],
 "metadata": {
  "interpreter": {
   "hash": "48fdaef39db0d403f1b596fa2f6e595a4cabdd2040b33d548e7350b44efa854f"
  },
  "kernelspec": {
   "display_name": "Julia 1.6.1",
   "language": "julia",
   "name": "julia-1.6"
  },
  "language_info": {
   "file_extension": ".jl",
   "mimetype": "application/julia",
   "name": "julia",
   "version": "1.6.1"
  },
  "orig_nbformat": 4
 },
 "nbformat": 4,
 "nbformat_minor": 2
}
