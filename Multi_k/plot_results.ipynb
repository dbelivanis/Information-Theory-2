{
 "cells": [
  {
   "cell_type": "code",
   "execution_count": 1,
   "metadata": {},
   "outputs": [],
   "source": [
    "import pandas as pd\n",
    "import numpy as np\n",
    "import math\n",
    "from scipy import special\n",
    "import matplotlib.pyplot as plt\n",
    "import statsmodels.stats.weightstats as sm\n",
    "from matplotlib import cm"
   ]
  },
  {
   "cell_type": "code",
   "execution_count": 7,
   "metadata": {},
   "outputs": [],
   "source": [
    "# N_steps = 10\n",
    "N_steps_orig = 1600 \n",
    "N_k = 2\n",
    "T_h = 54 * 1600\n",
    "N_x = 10\n",
    "N_y = 10"
   ]
  },
  {
   "cell_type": "code",
   "execution_count": 30,
   "metadata": {},
   "outputs": [],
   "source": [
    "result_loc = \"./../results/\"\n",
    "run_name = \"experiment01_12_16_51_12\"\n",
    "\n",
    "train_loc = \"exitq_mean_50.txt\"\n"
   ]
  },
  {
   "cell_type": "code",
   "execution_count": 25,
   "metadata": {},
   "outputs": [],
   "source": [
    "p = np.loadtxt(f\"{result_loc}{run_name}p.txt\")\n",
    "p = p.reshape([-1,N_k])\n",
    "\n",
    "N_epoch = p.shape[0]\n",
    "\n",
    "q_x = np.loadtxt(f\"{result_loc}{run_name}q_x.txt\")\n",
    "q_x = q_x.reshape([N_epoch,-1,N_k])\n",
    "# k_x = np.loadtxt(f\"{result_loc}{run_name}k.txt\")\n",
    "# k_x = k_x.reshape([N_epoch,N_k,-1])"
   ]
  },
  {
   "cell_type": "code",
   "execution_count": 32,
   "metadata": {},
   "outputs": [],
   "source": [
    "y_t = np.loadtxt(f\"{train_loc}\")"
   ]
  },
  {
   "cell_type": "code",
   "execution_count": 36,
   "metadata": {},
   "outputs": [
    {
     "data": {
      "text/plain": [
       "(1600,)"
      ]
     },
     "execution_count": 36,
     "metadata": {},
     "output_type": "execute_result"
    }
   ],
   "source": [
    "y_t.mean(axis=0)"
   ]
  },
  {
   "cell_type": "code",
   "execution_count": 26,
   "metadata": {},
   "outputs": [
    {
     "data": {
      "text/plain": [
       "(1, 50, 2)"
      ]
     },
     "execution_count": 26,
     "metadata": {},
     "output_type": "execute_result"
    }
   ],
   "source": [
    "q_x.shape"
   ]
  },
  {
   "cell_type": "code",
   "execution_count": 19,
   "metadata": {},
   "outputs": [
    {
     "data": {
      "text/plain": [
       "array([1.e-05, 1.e-05])"
      ]
     },
     "execution_count": 19,
     "metadata": {},
     "output_type": "execute_result"
    }
   ],
   "source": [
    "k_x[0,:,1]"
   ]
  },
  {
   "cell_type": "code",
   "execution_count": 47,
   "metadata": {},
   "outputs": [
    {
     "data": {
      "text/plain": [
       "[<matplotlib.lines.Line2D at 0x1f8d59a9c88>]"
      ]
     },
     "execution_count": 47,
     "metadata": {},
     "output_type": "execute_result"
    },
    {
     "data": {
      "image/png": "[encoded data removed]",
      "text/plain": [
       "<Figure size 432x288 with 1 Axes>"
      ]
     },
     "metadata": {
      "needs_background": "light"
     },
     "output_type": "display_data"
    }
   ],
   "source": [
    "plt.plot(q_x[0,:,1])\n",
    "# plt.plot(q_x[0,:,0])\n",
    "plt.plot(y_t.mean(axis=0)[1::32])"
   ]
  },
  {
   "cell_type": "code",
   "execution_count": 20,
   "metadata": {},
   "outputs": [
    {
     "data": {
      "text/plain": [
       "array([1.00220589e-08, 1.00220589e-08, 1.00185589e-08, 1.00185589e-08,\n",
       "       1.00156141e-08, 1.00156141e-08, 1.00131364e-08, 1.00131364e-08,\n",
       "       1.00110519e-08, 1.00110519e-08, 1.00092981e-08, 1.00092981e-08,\n",
       "       1.00078226e-08, 1.00078226e-08, 1.00065812e-08, 1.00065812e-08,\n",
       "       1.00055368e-08, 1.00055368e-08, 1.00046582e-08, 1.00046582e-08,\n",
       "       1.00039190e-08, 1.00039190e-08, 1.00032971e-08, 1.00032971e-08,\n",
       "       1.00027738e-08, 1.00027738e-08, 1.00023336e-08, 1.00023336e-08,\n",
       "       1.00019633e-08, 1.00019633e-08, 1.00016517e-08, 1.00016517e-08,\n",
       "       1.00013896e-08, 1.00013896e-08, 1.00011691e-08, 1.00011691e-08,\n",
       "       1.00009836e-08, 1.00009836e-08, 1.00008275e-08, 1.00008275e-08,\n",
       "       1.00006962e-08, 1.00006962e-08, 1.00005857e-08, 1.00005857e-08,\n",
       "       1.00004927e-08, 1.00004927e-08, 1.00004145e-08, 1.00004145e-08,\n",
       "       1.00003488e-08, 1.00003488e-08])"
      ]
     },
     "execution_count": 20,
     "metadata": {},
     "output_type": "execute_result"
    }
   ],
   "source": [
    "q_x[0,1,:]"
   ]
  },
  {
   "cell_type": "code",
   "execution_count": null,
   "metadata": {},
   "outputs": [],
   "source": []
  }
 ],
 "metadata": {
  "interpreter": {
   "hash": "20f7963641347b5b0f89ee34a62aa3cbfa3478e5b0bceec5777dd19f814e2f1a"
  },
  "kernelspec": {
   "display_name": "Python 3.7.7 64-bit (conda)",
   "language": "python",
   "name": "python3"
  },
  "language_info": {
   "codemirror_mode": {
    "name": "ipython",
    "version": 3
   },
   "file_extension": ".py",
   "mimetype": "text/x-python",
   "name": "python",
   "nbconvert_exporter": "python",
   "pygments_lexer": "ipython3",
   "version": "3.7.7"
  },
  "orig_nbformat": 4
 },
 "nbformat": 4,
 "nbformat_minor": 2
}
