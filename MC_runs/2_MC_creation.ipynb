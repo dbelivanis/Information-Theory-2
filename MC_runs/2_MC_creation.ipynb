{
 "cells": [
  {
   "cell_type": "code",
   "execution_count": 1,
   "metadata": {},
   "outputs": [],
   "source": [
    "import numpy as np\n",
    "import pandas as pd\n",
    "import os\n",
    "import shutil\n",
    "import time\n",
    "from tqdm.notebook import tnrange, tqdm\n",
    "from subprocess import Popen"
   ]
  },
  {
   "cell_type": "code",
   "execution_count": 2,
   "metadata": {},
   "outputs": [],
   "source": [
    "# int(time.time()%1e5)"
   ]
  },
  {
   "cell_type": "code",
   "execution_count": 3,
   "metadata": {},
   "outputs": [],
   "source": [
    "uniq_id = f'Run_{int(time.time())}'\n",
    "Name_run_src = 'Run_1613665367' "
   ]
  },
  {
   "cell_type": "code",
   "execution_count": 4,
   "metadata": {},
   "outputs": [],
   "source": [
    "Name_run = 'Run_no_zero_flow'"
   ]
  },
  {
   "cell_type": "code",
   "execution_count": 5,
   "metadata": {},
   "outputs": [],
   "source": [
    "\n",
    "Name_uniq = f'{Name_run}_{uniq_id}'\n",
    "folder_uniq = f'MC_runs/{Name_uniq}'\n",
    "os.mkdir(f'{folder_uniq}')\n",
    "# os.mkdir(f'{folder_uniq}/MC')\n",
    "os.mkdir(f'{folder_uniq}/runs')"
   ]
  },
  {
   "cell_type": "code",
   "execution_count": 7,
   "metadata": {},
   "outputs": [],
   "source": [
    "del_files = [\"fort.740\"\n",
    ",\"mf2k_h5.exe\"\n",
    ",\"6_months_run.asp\"\n",
    ",\"6_months_run.ba6\"\n",
    ",\"6_months_run.chd\"\n",
    ",\"6_months_run.dis\"\n",
    ",\"6_months_run.h5\"\n",
    ",\"6_months_run.lpf\"\n",
    ",\"6_months_run.mfn\"\n",
    ",\"6_months_run.oc\"\n",
    ",\"6_months_run.out\"\n",
    ",\"6_months_run.pcg\"]"
   ]
  },
  {
   "cell_type": "code",
   "execution_count": 10,
   "metadata": {},
   "outputs": [
    {
     "output_type": "display_data",
     "data": {
      "text/plain": "  0%|          | 0/100 [00:00<?, ?it/s]",
      "application/vnd.jupyter.widget-view+json": {
       "version_major": 2,
       "version_minor": 0,
       "model_id": "534d1f1860834c988b47d3079c9c0ad8"
      }
     },
     "metadata": {}
    }
   ],
   "source": [
    "# shutil.copyfile('files/MC_Batch.bat', f'{folder_uniq}/MC/MC_Batch.bat')\n",
    "src = f'files/BC_IC_files/{Name_run_src}'\n",
    "\n",
    "for i in tnrange(1,101):\n",
    "    dst = f'{folder_uniq}/MC/runs/{i}'\n",
    "    shutil.copytree(src, dst)\n",
    "\n",
    "    src_K = f'files/K_s/K_{i}.txt'\n",
    "    dst_K = f'{folder_uniq}/MC/runs/{i}/karray_1.0.txt'\n",
    "    shutil.copyfile(src_K, dst_K)\n",
    "\n",
    "    p = Popen(['mf2k_h5','6_months_run.mfn'], cwd=f'{folder_uniq}/MC/runs/{i}',shell=True)\n",
    "    p.communicate()\n",
    "    for file in del_files:\n",
    "        os.remove(f'{folder_uniq}/MC/runs/{i}/{file}')"
   ]
  },
  {
   "cell_type": "code",
   "execution_count": 11,
   "metadata": {},
   "outputs": [
    {
     "output_type": "execute_result",
     "data": {
      "text/plain": [
       "'MC_runs/Run_no_zero_flow_Run_1613665530/MC/original_files'"
      ]
     },
     "metadata": {},
     "execution_count": 11
    }
   ],
   "source": [
    "dst = f'{folder_uniq}/MC/original_files'\n",
    "shutil.copytree(src, dst)"
   ]
  },
  {
   "cell_type": "code",
   "execution_count": 12,
   "metadata": {},
   "outputs": [
    {
     "output_type": "stream",
     "name": "stdout",
     "text": [
      "MC_runs/Run_no_zero_flow_Run_1613665530/MC/runs/\n"
     ]
    }
   ],
   "source": [
    "print(f'{folder_uniq}/MC/runs/')"
   ]
  },
  {
   "cell_type": "code",
   "execution_count": null,
   "metadata": {},
   "outputs": [],
   "source": []
  }
 ],
 "metadata": {
  "kernelspec": {
   "display_name": "Python 3",
   "language": "python",
   "name": "python3"
  },
  "language_info": {
   "codemirror_mode": {
    "name": "ipython",
    "version": 3
   },
   "file_extension": ".py",
   "mimetype": "text/x-python",
   "name": "python",
   "nbconvert_exporter": "python",
   "pygments_lexer": "ipython3",
   "version": "3.7.7"
  }
 },
 "nbformat": 4,
 "nbformat_minor": 4
}