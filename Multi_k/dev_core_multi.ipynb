{
 "cells": [
  {
   "cell_type": "code",
   "execution_count": 1,
   "metadata": {},
   "outputs": [
    {
     "name": "stderr",
     "output_type": "stream",
     "text": [
      "2021-12-08 19:45:30.766406: I tensorflow/stream_executor/platform/default/dso_loader.cc:44] Successfully opened dynamic library cudart64_100.dll\n",
      "WARNING: using param.param in module multi_k_solver conflicts with an existing identifier.\n"
     ]
    }
   ],
   "source": [
    "include(\"./param.jl\");\n",
    "include(\"./multi_k_solver.jl\");\n",
    "\n",
    "using Main.multi_k_solver\n",
    "using Main.param\n",
    "using ADCME\n",
    "using SparseArrays\n",
    "\n",
    "using DelimitedFiles\n",
    "using Dates\n",
    "using Plots"
   ]
  },
  {
   "cell_type": "code",
   "execution_count": 2,
   "metadata": {},
   "outputs": [
    {
     "name": "stdout",
     "output_type": "stream",
     "text": [
      "maximum iteration: 200\tNumber of steps: 50\n"
     ]
    },
    {
     "data": {
      "text/plain": [
       "-3.0"
      ]
     },
     "execution_count": 2,
     "metadata": {},
     "output_type": "execute_result"
    }
   ],
   "source": [
    "# definition of the parameters from the shell file\n",
    "maxiter = 200\n",
    "N_steps = 50\n",
    "print(\"maximum iteration: \",maxiter,\"\\t\",\"Number of steps: \",N_steps,\"\\n\")\n",
    "\n",
    "# Definition of the parameters of initial descrite probabilities and initial lambda\n",
    "global N_k_dis_ = 2\n",
    "global T_exp = -3.0"
   ]
  },
  {
   "cell_type": "code",
   "execution_count": 3,
   "metadata": {},
   "outputs": [],
   "source": [
    "\n",
    "model_param = param_model(N_k = 64, N_x = 10, N_y = 10, N_steps = 50);\n"
   ]
  },
  {
   "cell_type": "code",
   "execution_count": 4,
   "metadata": {},
   "outputs": [
    {
     "data": {
      "text/plain": [
       "PyObject <tf.Tensor 'Const_1:0' shape=() dtype=int64>"
      ]
     },
     "execution_count": 4,
     "metadata": {},
     "output_type": "execute_result"
    }
   ],
   "source": [
    "constant(0)"
   ]
  },
  {
   "cell_type": "code",
   "execution_count": 5,
   "metadata": {},
   "outputs": [
    {
     "data": {
      "text/plain": [
       "(Main.multi_k_solver.tf_variables_definition(PyObject <tf.Tensor 'PlaceholderWithDefault_2:0' shape=(1,) dtype=float64>, PyObject <tf.Tensor 'PlaceholderWithDefault_1:0' shape=() dtype=int32>, PyObject <tf.Tensor 'stack_4:0' shape=(2, 50, 1, 1, 1) dtype=float64>, PyObject <tf.Tensor 'Exp:0' shape=(50, 64, 10, 10) dtype=float64>, PyObject <tf.Variable 'Variable:0' shape=(50, 1, 1, 1) dtype=float64_ref>, PyObject <tf.Variable 'Variable_1:0' shape=(50, 1, 1, 1) dtype=float64_ref>), PyObject <tf.Tensor 'TensorArrayStack/TensorArrayGatherV3:0' shape=(50, 64, 100) dtype=float64>, PyObject <tf.Tensor 'truediv_6:0' shape=(50, 64) dtype=float64>)"
      ]
     },
     "execution_count": 5,
     "metadata": {},
     "output_type": "execute_result"
    }
   ],
   "source": [
    "tf_variables, check_h, q_t = solver_multi_k(model_param)\n"
   ]
  },
  {
   "cell_type": "code",
   "execution_count": 6,
   "metadata": {},
   "outputs": [
    {
     "name": "stderr",
     "output_type": "stream",
     "text": [
      "C:\\Users\\dbeli\\.julia\\adcme\\lib\\site-packages\\tensorflow_core\\python\\framework\\indexed_slices.py:424: UserWarning: Converting sparse IndexedSlices to a dense Tensor of unknown shape. This may consume a large amount of memory.\n",
      "  \"Converting sparse IndexedSlices to a dense Tensor of unknown shape. \"\n",
      "C:\\Users\\dbeli\\.julia\\adcme\\lib\\site-packages\\tensorflow_core\\python\\framework\\indexed_slices.py:424: UserWarning: Converting sparse IndexedSlices to a dense Tensor of unknown shape. This may consume a large amount of memory.\n",
      "  \"Converting sparse IndexedSlices to a dense Tensor of unknown shape. \"\n",
      "C:\\Users\\dbeli\\.julia\\adcme\\lib\\site-packages\\tensorflow_core\\python\\framework\\indexed_slices.py:424: UserWarning: Converting sparse IndexedSlices to a dense Tensor of unknown shape. This may consume a large amount of memory.\n",
      "  \"Converting sparse IndexedSlices to a dense Tensor of unknown shape. \"\n",
      "C:\\Users\\dbeli\\.julia\\adcme\\lib\\site-packages\\tensorflow_core\\python\\framework\\indexed_slices.py:424: UserWarning: Converting sparse IndexedSlices to a dense Tensor of unknown shape. This may consume a large amount of memory.\n",
      "  \"Converting sparse IndexedSlices to a dense Tensor of unknown shape. \"\n",
      "C:\\Users\\dbeli\\.julia\\adcme\\lib\\site-packages\\tensorflow_core\\python\\framework\\indexed_slices.py:424: UserWarning: Converting sparse IndexedSlices to a dense Tensor of unknown shape. This may consume a large amount of memory.\n",
      "  \"Converting sparse IndexedSlices to a dense Tensor of unknown shape. \"\n",
      "C:\\Users\\dbeli\\.julia\\adcme\\lib\\site-packages\\tensorflow_core\\python\\framework\\indexed_slices.py:424: UserWarning: Converting sparse IndexedSlices to a dense Tensor of unknown shape. This may consume a large amount of memory.\n",
      "  \"Converting sparse IndexedSlices to a dense Tensor of unknown shape. \"\n",
      "C:\\Users\\dbeli\\.julia\\adcme\\lib\\site-packages\\tensorflow_core\\python\\framework\\indexed_slices.py:424: UserWarning: Converting sparse IndexedSlices to a dense Tensor of unknown shape. This may consume a large amount of memory.\n",
      "  \"Converting sparse IndexedSlices to a dense Tensor of unknown shape. \"\n",
      "C:\\Users\\dbeli\\.julia\\adcme\\lib\\site-packages\\tensorflow_core\\python\\framework\\indexed_slices.py:424: UserWarning: Converting sparse IndexedSlices to a dense Tensor of unknown shape. This may consume a large amount of memory.\n",
      "  \"Converting sparse IndexedSlices to a dense Tensor of unknown shape. \"\n"
     ]
    },
    {
     "data": {
      "text/plain": [
       "(PyObject <tf.Tensor 'truediv_11:0' shape=() dtype=float64>, PyObject <tf.Tensor 'Mul_6:0' shape=() dtype=float64>, PyObject <tf.Operation 'Adam' type=NoOp>, PyObject <tensorflow.contrib.opt.python.training.external_optimizer.ScipyOptimizerInterface object at 0x000000009966D588>, PyObject <tf.Operation 'Adam_1' type=NoOp>, PyObject <tensorflow.contrib.opt.python.training.external_optimizer.ScipyOptimizerInterface object at 0x000000009D5869C8>, PyObject <tf.Tensor 'Max_1:0' shape=() dtype=float64>, PyObject <tf.Variable 'Variable_2:0' shape=(1, 64) dtype=float64_ref>, PyObject <tf.Tensor 'Softmax:0' shape=(1, 64) dtype=float64>)"
      ]
     },
     "execution_count": 6,
     "metadata": {},
     "output_type": "execute_result"
    }
   ],
   "source": [
    "loss, dw_2_sum, opt_ADAM, opt_LFGS, opt_ADAM_sum, opt_LFGS_sum, diff_eval, p_pre_soft_max, p = Info_upscale(tf_variables, model_param, q_t)"
   ]
  },
  {
   "cell_type": "code",
   "execution_count": 11,
   "metadata": {},
   "outputs": [
    {
     "ename": "LoadError",
     "evalue": "UndefVarError: q_t not defined",
     "output_type": "error",
     "traceback": [
      "UndefVarError: q_t not defined",
      "",
      "Stacktrace:",
      " [1] top-level scope",
      "   @ :0",
      " [2] eval",
      "   @ .\\boot.jl:360 [inlined]",
      " [3] include_string(mapexpr::typeof(REPL.softscope), mod::Module, code::String, filename::String)",
      "   @ Base .\\loading.jl:1094"
     ]
    }
   ],
   "source": [
    "q_t"
   ]
  },
  {
   "cell_type": "code",
   "execution_count": 6,
   "metadata": {},
   "outputs": [
    {
     "name": "stderr",
     "output_type": "stream",
     "text": [
      "2021-12-02 19:11:34.776814: I tensorflow/core/platform/cpu_feature_guard.cc:142] Your CPU supports instructions that this TensorFlow binary was not compiled to use: AVX2\n",
      "2021-12-02 19:11:34.781286: I tensorflow/stream_executor/platform/default/dso_loader.cc:44] Successfully opened dynamic library nvcuda.dll\n",
      "2021-12-02 19:11:34.805910: I tensorflow/core/common_runtime/gpu/gpu_device.cc:1618] Found device 0 with properties: \n",
      "name: GeForce GTX 1650 major: 7 minor: 5 memoryClockRate(GHz): 1.56\n",
      "pciBusID: 0000:01:00.0\n",
      "2021-12-02 19:11:34.805933: I tensorflow/stream_executor/platform/default/dso_loader.cc:44] Successfully opened dynamic library cudart64_100.dll\n",
      "2021-12-02 19:11:34.808546: I tensorflow/stream_executor/platform/default/dso_loader.cc:44] Successfully opened dynamic library cublas64_100.dll\n",
      "2021-12-02 19:11:34.810940: I tensorflow/stream_executor/platform/default/dso_loader.cc:44] Successfully opened dynamic library cufft64_100.dll\n",
      "2021-12-02 19:11:34.811913: I tensorflow/stream_executor/platform/default/dso_loader.cc:44] Successfully opened dynamic library curand64_100.dll\n",
      "2021-12-02 19:11:34.815429: I tensorflow/stream_executor/platform/default/dso_loader.cc:44] Successfully opened dynamic library cusolver64_100.dll\n",
      "2021-12-02 19:11:34.818022: I tensorflow/stream_executor/platform/default/dso_loader.cc:44] Successfully opened dynamic library cusparse64_100.dll\n",
      "2021-12-02 19:11:34.826080: I tensorflow/stream_executor/platform/default/dso_loader.cc:44] Successfully opened dynamic library cudnn64_7.dll\n",
      "2021-12-02 19:11:34.826177: I tensorflow/core/common_runtime/gpu/gpu_device.cc:1746] Adding visible gpu devices: 0\n",
      "2021-12-02 19:11:35.296425: I tensorflow/core/common_runtime/gpu/gpu_device.cc:1159] Device interconnect StreamExecutor with strength 1 edge matrix:\n",
      "2021-12-02 19:11:35.296442: I tensorflow/core/common_runtime/gpu/gpu_device.cc:1165]      0 \n",
      "2021-12-02 19:11:35.296446: I tensorflow/core/common_runtime/gpu/gpu_device.cc:1178] 0:   N \n",
      "2021-12-02 19:11:35.296577: I tensorflow/core/common_runtime/gpu/gpu_device.cc:1304] Created TensorFlow device (/job:localhost/replica:0/task:0/device:GPU:0 with 2919 MB memory) -> physical GPU (device: 0, name: GeForce GTX 1650, pci bus id: 0000:01:00.0, compute capability: 7.5)\n"
     ]
    },
    {
     "data": {
      "text/plain": [
       "1000.0"
      ]
     },
     "execution_count": 6,
     "metadata": {},
     "output_type": "execute_result"
    }
   ],
   "source": [
    "# Initialization of the session\n",
    "sess = Session();\n",
    "init(sess);\n",
    "\n",
    "\n",
    "# Initial lambda\n",
    "T_ = 10.0 .^ -T_exp\n",
    "\n",
    "\n",
    "\n"
   ]
  },
  {
   "cell_type": "code",
   "execution_count": 10,
   "metadata": {},
   "outputs": [
    {
     "data": {
      "text/plain": [
       "PyObject <tf.Tensor 'Softmax:0' shape=(1, 64) dtype=float64>"
      ]
     },
     "execution_count": 10,
     "metadata": {},
     "output_type": "execute_result"
    }
   ],
   "source": [
    "p"
   ]
  },
  {
   "cell_type": "code",
   "execution_count": 8,
   "metadata": {},
   "outputs": [
    {
     "data": {
      "text/plain": [
       "64×10×10 Array{Float64, 3}:\n",
       "[:, :, 1] =\n",
       " 1.0e-5  1.0e-5  1.0e-5  1.0e-5  1.0e-5  …  1.0e-5  1.0e-5  1.0e-5  1.0e-5\n",
       " 1.0e-5  1.0e-5  1.0e-5  1.0e-5  1.0e-5     1.0e-5  1.0e-5  1.0e-5  1.0e-5\n",
       " 1.0e-5  1.0e-5  1.0e-5  1.0e-5  1.0e-5     1.0e-5  1.0e-5  1.0e-5  1.0e-5\n",
       " 1.0e-5  1.0e-5  1.0e-5  1.0e-5  1.0e-5     1.0e-5  1.0e-5  1.0e-5  1.0e-5\n",
       " 1.0e-5  1.0e-5  1.0e-5  1.0e-5  1.0e-5     1.0e-5  1.0e-5  1.0e-5  1.0e-5\n",
       " 1.0e-5  1.0e-5  1.0e-5  1.0e-5  1.0e-5  …  1.0e-5  1.0e-5  1.0e-5  1.0e-5\n",
       " 1.0e-5  1.0e-5  1.0e-5  1.0e-5  1.0e-5     1.0e-5  1.0e-5  1.0e-5  1.0e-5\n",
       " 1.0e-5  1.0e-5  1.0e-5  1.0e-5  1.0e-5     1.0e-5  1.0e-5  1.0e-5  1.0e-5\n",
       " 1.0e-5  1.0e-5  1.0e-5  1.0e-5  1.0e-5     1.0e-5  1.0e-5  1.0e-5  1.0e-5\n",
       " 1.0e-5  1.0e-5  1.0e-5  1.0e-5  1.0e-5     1.0e-5  1.0e-5  1.0e-5  1.0e-5\n",
       " 1.0e-5  1.0e-5  1.0e-5  1.0e-5  1.0e-5  …  1.0e-5  1.0e-5  1.0e-5  1.0e-5\n",
       " 1.0e-5  1.0e-5  1.0e-5  1.0e-5  1.0e-5     1.0e-5  1.0e-5  1.0e-5  1.0e-5\n",
       " 1.0e-5  1.0e-5  1.0e-5  1.0e-5  1.0e-5     1.0e-5  1.0e-5  1.0e-5  1.0e-5\n",
       " ⋮                                       ⋱                          \n",
       " 1.0e-5  1.0e-5  1.0e-5  1.0e-5  1.0e-5     1.0e-5  1.0e-5  1.0e-5  1.0e-5\n",
       " 1.0e-5  1.0e-5  1.0e-5  1.0e-5  1.0e-5     1.0e-5  1.0e-5  1.0e-5  1.0e-5\n",
       " 1.0e-5  1.0e-5  1.0e-5  1.0e-5  1.0e-5     1.0e-5  1.0e-5  1.0e-5  1.0e-5\n",
       " 1.0e-5  1.0e-5  1.0e-5  1.0e-5  1.0e-5  …  1.0e-5  1.0e-5  1.0e-5  1.0e-5\n",
       " 1.0e-5  1.0e-5  1.0e-5  1.0e-5  1.0e-5     1.0e-5  1.0e-5  1.0e-5  1.0e-5\n",
       " 1.0e-5  1.0e-5  1.0e-5  1.0e-5  1.0e-5     1.0e-5  1.0e-5  1.0e-5  1.0e-5\n",
       " 1.0e-5  1.0e-5  1.0e-5  1.0e-5  1.0e-5     1.0e-5  1.0e-5  1.0e-5  1.0e-5\n",
       " 1.0e-5  1.0e-5  1.0e-5  1.0e-5  1.0e-5     1.0e-5  1.0e-5  1.0e-5  1.0e-5\n",
       " 1.0e-5  1.0e-5  1.0e-5  1.0e-5  1.0e-5  …  1.0e-5  1.0e-5  1.0e-5  1.0e-5\n",
       " 1.0e-5  1.0e-5  1.0e-5  1.0e-5  1.0e-5     1.0e-5  1.0e-5  1.0e-5  1.0e-5\n",
       " 1.0e-5  1.0e-5  1.0e-5  1.0e-5  1.0e-5     1.0e-5  1.0e-5  1.0e-5  1.0e-5\n",
       " 1.0e-5  1.0e-5  1.0e-5  1.0e-5  1.0e-5     1.0e-5  1.0e-5  1.0e-5  1.0e-5\n",
       "\n",
       "[:, :, 2] =\n",
       " 1.0e-5  1.0e-5  1.0e-5  1.0e-5  1.0e-5  …  1.0e-5  1.0e-5  1.0e-5  1.0e-5\n",
       " 1.0e-5  1.0e-5  1.0e-5  1.0e-5  1.0e-5     1.0e-5  1.0e-5  1.0e-5  1.0e-5\n",
       " 1.0e-5  1.0e-5  1.0e-5  1.0e-5  1.0e-5     1.0e-5  1.0e-5  1.0e-5  1.0e-5\n",
       " 1.0e-5  1.0e-5  1.0e-5  1.0e-5  1.0e-5     1.0e-5  1.0e-5  1.0e-5  1.0e-5\n",
       " 1.0e-5  1.0e-5  1.0e-5  1.0e-5  1.0e-5     1.0e-5  1.0e-5  1.0e-5  1.0e-5\n",
       " 1.0e-5  1.0e-5  1.0e-5  1.0e-5  1.0e-5  …  1.0e-5  1.0e-5  1.0e-5  1.0e-5\n",
       " 1.0e-5  1.0e-5  1.0e-5  1.0e-5  1.0e-5     1.0e-5  1.0e-5  1.0e-5  1.0e-5\n",
       " 1.0e-5  1.0e-5  1.0e-5  1.0e-5  1.0e-5     1.0e-5  1.0e-5  1.0e-5  1.0e-5\n",
       " 1.0e-5  1.0e-5  1.0e-5  1.0e-5  1.0e-5     1.0e-5  1.0e-5  1.0e-5  1.0e-5\n",
       " 1.0e-5  1.0e-5  1.0e-5  1.0e-5  1.0e-5     1.0e-5  1.0e-5  1.0e-5  1.0e-5\n",
       " 1.0e-5  1.0e-5  1.0e-5  1.0e-5  1.0e-5  …  1.0e-5  1.0e-5  1.0e-5  1.0e-5\n",
       " 1.0e-5  1.0e-5  1.0e-5  1.0e-5  1.0e-5     1.0e-5  1.0e-5  1.0e-5  1.0e-5\n",
       " 1.0e-5  1.0e-5  1.0e-5  1.0e-5  1.0e-5     1.0e-5  1.0e-5  1.0e-5  1.0e-5\n",
       " ⋮                                       ⋱                          \n",
       " 1.0e-5  1.0e-5  1.0e-5  1.0e-5  1.0e-5     1.0e-5  1.0e-5  1.0e-5  1.0e-5\n",
       " 1.0e-5  1.0e-5  1.0e-5  1.0e-5  1.0e-5     1.0e-5  1.0e-5  1.0e-5  1.0e-5\n",
       " 1.0e-5  1.0e-5  1.0e-5  1.0e-5  1.0e-5     1.0e-5  1.0e-5  1.0e-5  1.0e-5\n",
       " 1.0e-5  1.0e-5  1.0e-5  1.0e-5  1.0e-5  …  1.0e-5  1.0e-5  1.0e-5  1.0e-5\n",
       " 1.0e-5  1.0e-5  1.0e-5  1.0e-5  1.0e-5     1.0e-5  1.0e-5  1.0e-5  1.0e-5\n",
       " 1.0e-5  1.0e-5  1.0e-5  1.0e-5  1.0e-5     1.0e-5  1.0e-5  1.0e-5  1.0e-5\n",
       " 1.0e-5  1.0e-5  1.0e-5  1.0e-5  1.0e-5     1.0e-5  1.0e-5  1.0e-5  1.0e-5\n",
       " 1.0e-5  1.0e-5  1.0e-5  1.0e-5  1.0e-5     1.0e-5  1.0e-5  1.0e-5  1.0e-5\n",
       " 1.0e-5  1.0e-5  1.0e-5  1.0e-5  1.0e-5  …  1.0e-5  1.0e-5  1.0e-5  1.0e-5\n",
       " 1.0e-5  1.0e-5  1.0e-5  1.0e-5  1.0e-5     1.0e-5  1.0e-5  1.0e-5  1.0e-5\n",
       " 1.0e-5  1.0e-5  1.0e-5  1.0e-5  1.0e-5     1.0e-5  1.0e-5  1.0e-5  1.0e-5\n",
       " 1.0e-5  1.0e-5  1.0e-5  1.0e-5  1.0e-5     1.0e-5  1.0e-5  1.0e-5  1.0e-5\n",
       "\n",
       "[:, :, 3] =\n",
       " 1.0e-5  1.0e-5  1.0e-5  1.0e-5  1.0e-5  …  1.0e-5  1.0e-5  1.0e-5  1.0e-5\n",
       " 1.0e-5  1.0e-5  1.0e-5  1.0e-5  1.0e-5     1.0e-5  1.0e-5  1.0e-5  1.0e-5\n",
       " 1.0e-5  1.0e-5  1.0e-5  1.0e-5  1.0e-5     1.0e-5  1.0e-5  1.0e-5  1.0e-5\n",
       " 1.0e-5  1.0e-5  1.0e-5  1.0e-5  1.0e-5     1.0e-5  1.0e-5  1.0e-5  1.0e-5\n",
       " 1.0e-5  1.0e-5  1.0e-5  1.0e-5  1.0e-5     1.0e-5  1.0e-5  1.0e-5  1.0e-5\n",
       " 1.0e-5  1.0e-5  1.0e-5  1.0e-5  1.0e-5  …  1.0e-5  1.0e-5  1.0e-5  1.0e-5\n",
       " 1.0e-5  1.0e-5  1.0e-5  1.0e-5  1.0e-5     1.0e-5  1.0e-5  1.0e-5  1.0e-5\n",
       " 1.0e-5  1.0e-5  1.0e-5  1.0e-5  1.0e-5     1.0e-5  1.0e-5  1.0e-5  1.0e-5\n",
       " 1.0e-5  1.0e-5  1.0e-5  1.0e-5  1.0e-5     1.0e-5  1.0e-5  1.0e-5  1.0e-5\n",
       " 1.0e-5  1.0e-5  1.0e-5  1.0e-5  1.0e-5     1.0e-5  1.0e-5  1.0e-5  1.0e-5\n",
       " 1.0e-5  1.0e-5  1.0e-5  1.0e-5  1.0e-5  …  1.0e-5  1.0e-5  1.0e-5  1.0e-5\n",
       " 1.0e-5  1.0e-5  1.0e-5  1.0e-5  1.0e-5     1.0e-5  1.0e-5  1.0e-5  1.0e-5\n",
       " 1.0e-5  1.0e-5  1.0e-5  1.0e-5  1.0e-5     1.0e-5  1.0e-5  1.0e-5  1.0e-5\n",
       " ⋮                                       ⋱                          \n",
       " 1.0e-5  1.0e-5  1.0e-5  1.0e-5  1.0e-5     1.0e-5  1.0e-5  1.0e-5  1.0e-5\n",
       " 1.0e-5  1.0e-5  1.0e-5  1.0e-5  1.0e-5     1.0e-5  1.0e-5  1.0e-5  1.0e-5\n",
       " 1.0e-5  1.0e-5  1.0e-5  1.0e-5  1.0e-5     1.0e-5  1.0e-5  1.0e-5  1.0e-5\n",
       " 1.0e-5  1.0e-5  1.0e-5  1.0e-5  1.0e-5  …  1.0e-5  1.0e-5  1.0e-5  1.0e-5\n",
       " 1.0e-5  1.0e-5  1.0e-5  1.0e-5  1.0e-5     1.0e-5  1.0e-5  1.0e-5  1.0e-5\n",
       " 1.0e-5  1.0e-5  1.0e-5  1.0e-5  1.0e-5     1.0e-5  1.0e-5  1.0e-5  1.0e-5\n",
       " 1.0e-5  1.0e-5  1.0e-5  1.0e-5  1.0e-5     1.0e-5  1.0e-5  1.0e-5  1.0e-5\n",
       " 1.0e-5  1.0e-5  1.0e-5  1.0e-5  1.0e-5     1.0e-5  1.0e-5  1.0e-5  1.0e-5\n",
       " 1.0e-5  1.0e-5  1.0e-5  1.0e-5  1.0e-5  …  1.0e-5  1.0e-5  1.0e-5  1.0e-5\n",
       " 1.0e-5  1.0e-5  1.0e-5  1.0e-5  1.0e-5     1.0e-5  1.0e-5  1.0e-5  1.0e-5\n",
       " 1.0e-5  1.0e-5  1.0e-5  1.0e-5  1.0e-5     1.0e-5  1.0e-5  1.0e-5  1.0e-5\n",
       " 1.0e-5  1.0e-5  1.0e-5  1.0e-5  1.0e-5     1.0e-5  1.0e-5  1.0e-5  1.0e-5\n",
       "\n",
       "[:, :, 4] =\n",
       " 1.0e-5  1.0e-5  1.0e-5  1.0e-5  1.0e-5  …  1.0e-5  1.0e-5  1.0e-5  1.0e-5\n",
       " 1.0e-5  1.0e-5  1.0e-5  1.0e-5  1.0e-5     1.0e-5  1.0e-5  1.0e-5  1.0e-5\n",
       " 1.0e-5  1.0e-5  1.0e-5  1.0e-5  1.0e-5     1.0e-5  1.0e-5  1.0e-5  1.0e-5\n",
       " 1.0e-5  1.0e-5  1.0e-5  1.0e-5  1.0e-5     1.0e-5  1.0e-5  1.0e-5  1.0e-5\n",
       " 1.0e-5  1.0e-5  1.0e-5  1.0e-5  1.0e-5     1.0e-5  1.0e-5  1.0e-5  1.0e-5\n",
       " 1.0e-5  1.0e-5  1.0e-5  1.0e-5  1.0e-5  …  1.0e-5  1.0e-5  1.0e-5  1.0e-5\n",
       " 1.0e-5  1.0e-5  1.0e-5  1.0e-5  1.0e-5     1.0e-5  1.0e-5  1.0e-5  1.0e-5\n",
       " 1.0e-5  1.0e-5  1.0e-5  1.0e-5  1.0e-5     1.0e-5  1.0e-5  1.0e-5  1.0e-5\n",
       " 1.0e-5  1.0e-5  1.0e-5  1.0e-5  1.0e-5     1.0e-5  1.0e-5  1.0e-5  1.0e-5\n",
       " 1.0e-5  1.0e-5  1.0e-5  1.0e-5  1.0e-5     1.0e-5  1.0e-5  1.0e-5  1.0e-5\n",
       " 1.0e-5  1.0e-5  1.0e-5  1.0e-5  1.0e-5  …  1.0e-5  1.0e-5  1.0e-5  1.0e-5\n",
       " 1.0e-5  1.0e-5  1.0e-5  1.0e-5  1.0e-5     1.0e-5  1.0e-5  1.0e-5  1.0e-5\n",
       " 1.0e-5  1.0e-5  1.0e-5  1.0e-5  1.0e-5     1.0e-5  1.0e-5  1.0e-5  1.0e-5\n",
       " ⋮                                       ⋱                          \n",
       " 1.0e-5  1.0e-5  1.0e-5  1.0e-5  1.0e-5     1.0e-5  1.0e-5  1.0e-5  1.0e-5\n",
       " 1.0e-5  1.0e-5  1.0e-5  1.0e-5  1.0e-5     1.0e-5  1.0e-5  1.0e-5  1.0e-5\n",
       " 1.0e-5  1.0e-5  1.0e-5  1.0e-5  1.0e-5     1.0e-5  1.0e-5  1.0e-5  1.0e-5\n",
       " 1.0e-5  1.0e-5  1.0e-5  1.0e-5  1.0e-5  …  1.0e-5  1.0e-5  1.0e-5  1.0e-5\n",
       " 1.0e-5  1.0e-5  1.0e-5  1.0e-5  1.0e-5     1.0e-5  1.0e-5  1.0e-5  1.0e-5\n",
       " 1.0e-5  1.0e-5  1.0e-5  1.0e-5  1.0e-5     1.0e-5  1.0e-5  1.0e-5  1.0e-5\n",
       " 1.0e-5  1.0e-5  1.0e-5  1.0e-5  1.0e-5     1.0e-5  1.0e-5  1.0e-5  1.0e-5\n",
       " 1.0e-5  1.0e-5  1.0e-5  1.0e-5  1.0e-5     1.0e-5  1.0e-5  1.0e-5  1.0e-5\n",
       " 1.0e-5  1.0e-5  1.0e-5  1.0e-5  1.0e-5  …  1.0e-5  1.0e-5  1.0e-5  1.0e-5\n",
       " 1.0e-5  1.0e-5  1.0e-5  1.0e-5  1.0e-5     1.0e-5  1.0e-5  1.0e-5  1.0e-5\n",
       " 1.0e-5  1.0e-5  1.0e-5  1.0e-5  1.0e-5     1.0e-5  1.0e-5  1.0e-5  1.0e-5\n",
       " 1.0e-5  1.0e-5  1.0e-5  1.0e-5  1.0e-5     1.0e-5  1.0e-5  1.0e-5  1.0e-5\n",
       "\n",
       "[:, :, 5] =\n",
       " 1.0e-5  1.0e-5  1.0e-5  1.0e-5  1.0e-5  …  1.0e-5  1.0e-5  1.0e-5  1.0e-5\n",
       " 1.0e-5  1.0e-5  1.0e-5  1.0e-5  1.0e-5     1.0e-5  1.0e-5  1.0e-5  1.0e-5\n",
       " 1.0e-5  1.0e-5  1.0e-5  1.0e-5  1.0e-5     1.0e-5  1.0e-5  1.0e-5  1.0e-5\n",
       " 1.0e-5  1.0e-5  1.0e-5  1.0e-5  1.0e-5     1.0e-5  1.0e-5  1.0e-5  1.0e-5\n",
       " 1.0e-5  1.0e-5  1.0e-5  1.0e-5  1.0e-5     1.0e-5  1.0e-5  1.0e-5  1.0e-5\n",
       " 1.0e-5  1.0e-5  1.0e-5  1.0e-5  1.0e-5  …  1.0e-5  1.0e-5  1.0e-5  1.0e-5\n",
       " 1.0e-5  1.0e-5  1.0e-5  1.0e-5  1.0e-5     1.0e-5  1.0e-5  1.0e-5  1.0e-5\n",
       " 1.0e-5  1.0e-5  1.0e-5  1.0e-5  1.0e-5     1.0e-5  1.0e-5  1.0e-5  1.0e-5\n",
       " 1.0e-5  1.0e-5  1.0e-5  1.0e-5  1.0e-5     1.0e-5  1.0e-5  1.0e-5  1.0e-5\n",
       " 1.0e-5  1.0e-5  1.0e-5  1.0e-5  1.0e-5     1.0e-5  1.0e-5  1.0e-5  1.0e-5\n",
       " 1.0e-5  1.0e-5  1.0e-5  1.0e-5  1.0e-5  …  1.0e-5  1.0e-5  1.0e-5  1.0e-5\n",
       " 1.0e-5  1.0e-5  1.0e-5  1.0e-5  1.0e-5     1.0e-5  1.0e-5  1.0e-5  1.0e-5\n",
       " 1.0e-5  1.0e-5  1.0e-5  1.0e-5  1.0e-5     1.0e-5  1.0e-5  1.0e-5  1.0e-5\n",
       " ⋮                                       ⋱                          \n",
       " 1.0e-5  1.0e-5  1.0e-5  1.0e-5  1.0e-5     1.0e-5  1.0e-5  1.0e-5  1.0e-5\n",
       " 1.0e-5  1.0e-5  1.0e-5  1.0e-5  1.0e-5     1.0e-5  1.0e-5  1.0e-5  1.0e-5\n",
       " 1.0e-5  1.0e-5  1.0e-5  1.0e-5  1.0e-5     1.0e-5  1.0e-5  1.0e-5  1.0e-5\n",
       " 1.0e-5  1.0e-5  1.0e-5  1.0e-5  1.0e-5  …  1.0e-5  1.0e-5  1.0e-5  1.0e-5\n",
       " 1.0e-5  1.0e-5  1.0e-5  1.0e-5  1.0e-5     1.0e-5  1.0e-5  1.0e-5  1.0e-5\n",
       " 1.0e-5  1.0e-5  1.0e-5  1.0e-5  1.0e-5     1.0e-5  1.0e-5  1.0e-5  1.0e-5\n",
       " 1.0e-5  1.0e-5  1.0e-5  1.0e-5  1.0e-5     1.0e-5  1.0e-5  1.0e-5  1.0e-5\n",
       " 1.0e-5  1.0e-5  1.0e-5  1.0e-5  1.0e-5     1.0e-5  1.0e-5  1.0e-5  1.0e-5\n",
       " 1.0e-5  1.0e-5  1.0e-5  1.0e-5  1.0e-5  …  1.0e-5  1.0e-5  1.0e-5  1.0e-5\n",
       " 1.0e-5  1.0e-5  1.0e-5  1.0e-5  1.0e-5     1.0e-5  1.0e-5  1.0e-5  1.0e-5\n",
       " 1.0e-5  1.0e-5  1.0e-5  1.0e-5  1.0e-5     1.0e-5  1.0e-5  1.0e-5  1.0e-5\n",
       " 1.0e-5  1.0e-5  1.0e-5  1.0e-5  1.0e-5     1.0e-5  1.0e-5  1.0e-5  1.0e-5\n",
       "\n",
       "[:, :, 6] =\n",
       " 1.0e-5  1.0e-5  1.0e-5  1.0e-5  1.0e-5  …  1.0e-5  1.0e-5  1.0e-5  1.0e-5\n",
       " 1.0e-5  1.0e-5  1.0e-5  1.0e-5  1.0e-5     1.0e-5  1.0e-5  1.0e-5  1.0e-5\n",
       " 1.0e-5  1.0e-5  1.0e-5  1.0e-5  1.0e-5     1.0e-5  1.0e-5  1.0e-5  1.0e-5\n",
       " 1.0e-5  1.0e-5  1.0e-5  1.0e-5  1.0e-5     1.0e-5  1.0e-5  1.0e-5  1.0e-5\n",
       " 1.0e-5  1.0e-5  1.0e-5  1.0e-5  1.0e-5     1.0e-5  1.0e-5  1.0e-5  1.0e-5\n",
       " 1.0e-5  1.0e-5  1.0e-5  1.0e-5  1.0e-5  …  1.0e-5  1.0e-5  1.0e-5  1.0e-5\n",
       " 1.0e-5  1.0e-5  1.0e-5  1.0e-5  1.0e-5     1.0e-5  1.0e-5  1.0e-5  1.0e-5\n",
       " 1.0e-5  1.0e-5  1.0e-5  1.0e-5  1.0e-5     1.0e-5  1.0e-5  1.0e-5  1.0e-5\n",
       " 1.0e-5  1.0e-5  1.0e-5  1.0e-5  1.0e-5     1.0e-5  1.0e-5  1.0e-5  1.0e-5\n",
       " 1.0e-5  1.0e-5  1.0e-5  1.0e-5  1.0e-5     1.0e-5  1.0e-5  1.0e-5  1.0e-5\n",
       " 1.0e-5  1.0e-5  1.0e-5  1.0e-5  1.0e-5  …  1.0e-5  1.0e-5  1.0e-5  1.0e-5\n",
       " 1.0e-5  1.0e-5  1.0e-5  1.0e-5  1.0e-5     1.0e-5  1.0e-5  1.0e-5  1.0e-5\n",
       " 1.0e-5  1.0e-5  1.0e-5  1.0e-5  1.0e-5     1.0e-5  1.0e-5  1.0e-5  1.0e-5\n",
       " ⋮                                       ⋱                          \n",
       " 1.0e-5  1.0e-5  1.0e-5  1.0e-5  1.0e-5     1.0e-5  1.0e-5  1.0e-5  1.0e-5\n",
       " 1.0e-5  1.0e-5  1.0e-5  1.0e-5  1.0e-5     1.0e-5  1.0e-5  1.0e-5  1.0e-5\n",
       " 1.0e-5  1.0e-5  1.0e-5  1.0e-5  1.0e-5     1.0e-5  1.0e-5  1.0e-5  1.0e-5\n",
       " 1.0e-5  1.0e-5  1.0e-5  1.0e-5  1.0e-5  …  1.0e-5  1.0e-5  1.0e-5  1.0e-5\n",
       " 1.0e-5  1.0e-5  1.0e-5  1.0e-5  1.0e-5     1.0e-5  1.0e-5  1.0e-5  1.0e-5\n",
       " 1.0e-5  1.0e-5  1.0e-5  1.0e-5  1.0e-5     1.0e-5  1.0e-5  1.0e-5  1.0e-5\n",
       " 1.0e-5  1.0e-5  1.0e-5  1.0e-5  1.0e-5     1.0e-5  1.0e-5  1.0e-5  1.0e-5\n",
       " 1.0e-5  1.0e-5  1.0e-5  1.0e-5  1.0e-5     1.0e-5  1.0e-5  1.0e-5  1.0e-5\n",
       " 1.0e-5  1.0e-5  1.0e-5  1.0e-5  1.0e-5  …  1.0e-5  1.0e-5  1.0e-5  1.0e-5\n",
       " 1.0e-5  1.0e-5  1.0e-5  1.0e-5  1.0e-5     1.0e-5  1.0e-5  1.0e-5  1.0e-5\n",
       " 1.0e-5  1.0e-5  1.0e-5  1.0e-5  1.0e-5     1.0e-5  1.0e-5  1.0e-5  1.0e-5\n",
       " 1.0e-5  1.0e-5  1.0e-5  1.0e-5  1.0e-5     1.0e-5  1.0e-5  1.0e-5  1.0e-5\n",
       "\n",
       "[:, :, 7] =\n",
       " 1.0e-5  1.0e-5  1.0e-5  1.0e-5  1.0e-5  …  1.0e-5  1.0e-5  1.0e-5  1.0e-5\n",
       " 1.0e-5  1.0e-5  1.0e-5  1.0e-5  1.0e-5     1.0e-5  1.0e-5  1.0e-5  1.0e-5\n",
       " 1.0e-5  1.0e-5  1.0e-5  1.0e-5  1.0e-5     1.0e-5  1.0e-5  1.0e-5  1.0e-5\n",
       " 1.0e-5  1.0e-5  1.0e-5  1.0e-5  1.0e-5     1.0e-5  1.0e-5  1.0e-5  1.0e-5\n",
       " 1.0e-5  1.0e-5  1.0e-5  1.0e-5  1.0e-5     1.0e-5  1.0e-5  1.0e-5  1.0e-5\n",
       " 1.0e-5  1.0e-5  1.0e-5  1.0e-5  1.0e-5  …  1.0e-5  1.0e-5  1.0e-5  1.0e-5\n",
       " 1.0e-5  1.0e-5  1.0e-5  1.0e-5  1.0e-5     1.0e-5  1.0e-5  1.0e-5  1.0e-5\n",
       " 1.0e-5  1.0e-5  1.0e-5  1.0e-5  1.0e-5     1.0e-5  1.0e-5  1.0e-5  1.0e-5\n",
       " 1.0e-5  1.0e-5  1.0e-5  1.0e-5  1.0e-5     1.0e-5  1.0e-5  1.0e-5  1.0e-5\n",
       " 1.0e-5  1.0e-5  1.0e-5  1.0e-5  1.0e-5     1.0e-5  1.0e-5  1.0e-5  1.0e-5\n",
       " 1.0e-5  1.0e-5  1.0e-5  1.0e-5  1.0e-5  …  1.0e-5  1.0e-5  1.0e-5  1.0e-5\n",
       " 1.0e-5  1.0e-5  1.0e-5  1.0e-5  1.0e-5     1.0e-5  1.0e-5  1.0e-5  1.0e-5\n",
       " 1.0e-5  1.0e-5  1.0e-5  1.0e-5  1.0e-5     1.0e-5  1.0e-5  1.0e-5  1.0e-5\n",
       " ⋮                                       ⋱                          \n",
       " 1.0e-5  1.0e-5  1.0e-5  1.0e-5  1.0e-5     1.0e-5  1.0e-5  1.0e-5  1.0e-5\n",
       " 1.0e-5  1.0e-5  1.0e-5  1.0e-5  1.0e-5     1.0e-5  1.0e-5  1.0e-5  1.0e-5\n",
       " 1.0e-5  1.0e-5  1.0e-5  1.0e-5  1.0e-5     1.0e-5  1.0e-5  1.0e-5  1.0e-5\n",
       " 1.0e-5  1.0e-5  1.0e-5  1.0e-5  1.0e-5  …  1.0e-5  1.0e-5  1.0e-5  1.0e-5\n",
       " 1.0e-5  1.0e-5  1.0e-5  1.0e-5  1.0e-5     1.0e-5  1.0e-5  1.0e-5  1.0e-5\n",
       " 1.0e-5  1.0e-5  1.0e-5  1.0e-5  1.0e-5     1.0e-5  1.0e-5  1.0e-5  1.0e-5\n",
       " 1.0e-5  1.0e-5  1.0e-5  1.0e-5  1.0e-5     1.0e-5  1.0e-5  1.0e-5  1.0e-5\n",
       " 1.0e-5  1.0e-5  1.0e-5  1.0e-5  1.0e-5     1.0e-5  1.0e-5  1.0e-5  1.0e-5\n",
       " 1.0e-5  1.0e-5  1.0e-5  1.0e-5  1.0e-5  …  1.0e-5  1.0e-5  1.0e-5  1.0e-5\n",
       " 1.0e-5  1.0e-5  1.0e-5  1.0e-5  1.0e-5     1.0e-5  1.0e-5  1.0e-5  1.0e-5\n",
       " 1.0e-5  1.0e-5  1.0e-5  1.0e-5  1.0e-5     1.0e-5  1.0e-5  1.0e-5  1.0e-5\n",
       " 1.0e-5  1.0e-5  1.0e-5  1.0e-5  1.0e-5     1.0e-5  1.0e-5  1.0e-5  1.0e-5\n",
       "\n",
       "[:, :, 8] =\n",
       " 1.0e-5  1.0e-5  1.0e-5  1.0e-5  1.0e-5  …  1.0e-5  1.0e-5  1.0e-5  1.0e-5\n",
       " 1.0e-5  1.0e-5  1.0e-5  1.0e-5  1.0e-5     1.0e-5  1.0e-5  1.0e-5  1.0e-5\n",
       " 1.0e-5  1.0e-5  1.0e-5  1.0e-5  1.0e-5     1.0e-5  1.0e-5  1.0e-5  1.0e-5\n",
       " 1.0e-5  1.0e-5  1.0e-5  1.0e-5  1.0e-5     1.0e-5  1.0e-5  1.0e-5  1.0e-5\n",
       " 1.0e-5  1.0e-5  1.0e-5  1.0e-5  1.0e-5     1.0e-5  1.0e-5  1.0e-5  1.0e-5\n",
       " 1.0e-5  1.0e-5  1.0e-5  1.0e-5  1.0e-5  …  1.0e-5  1.0e-5  1.0e-5  1.0e-5\n",
       " 1.0e-5  1.0e-5  1.0e-5  1.0e-5  1.0e-5     1.0e-5  1.0e-5  1.0e-5  1.0e-5\n",
       " 1.0e-5  1.0e-5  1.0e-5  1.0e-5  1.0e-5     1.0e-5  1.0e-5  1.0e-5  1.0e-5\n",
       " 1.0e-5  1.0e-5  1.0e-5  1.0e-5  1.0e-5     1.0e-5  1.0e-5  1.0e-5  1.0e-5\n",
       " 1.0e-5  1.0e-5  1.0e-5  1.0e-5  1.0e-5     1.0e-5  1.0e-5  1.0e-5  1.0e-5\n",
       " 1.0e-5  1.0e-5  1.0e-5  1.0e-5  1.0e-5  …  1.0e-5  1.0e-5  1.0e-5  1.0e-5\n",
       " 1.0e-5  1.0e-5  1.0e-5  1.0e-5  1.0e-5     1.0e-5  1.0e-5  1.0e-5  1.0e-5\n",
       " 1.0e-5  1.0e-5  1.0e-5  1.0e-5  1.0e-5     1.0e-5  1.0e-5  1.0e-5  1.0e-5\n",
       " ⋮                                       ⋱                          \n",
       " 1.0e-5  1.0e-5  1.0e-5  1.0e-5  1.0e-5     1.0e-5  1.0e-5  1.0e-5  1.0e-5\n",
       " 1.0e-5  1.0e-5  1.0e-5  1.0e-5  1.0e-5     1.0e-5  1.0e-5  1.0e-5  1.0e-5\n",
       " 1.0e-5  1.0e-5  1.0e-5  1.0e-5  1.0e-5     1.0e-5  1.0e-5  1.0e-5  1.0e-5\n",
       " 1.0e-5  1.0e-5  1.0e-5  1.0e-5  1.0e-5  …  1.0e-5  1.0e-5  1.0e-5  1.0e-5\n",
       " 1.0e-5  1.0e-5  1.0e-5  1.0e-5  1.0e-5     1.0e-5  1.0e-5  1.0e-5  1.0e-5\n",
       " 1.0e-5  1.0e-5  1.0e-5  1.0e-5  1.0e-5     1.0e-5  1.0e-5  1.0e-5  1.0e-5\n",
       " 1.0e-5  1.0e-5  1.0e-5  1.0e-5  1.0e-5     1.0e-5  1.0e-5  1.0e-5  1.0e-5\n",
       " 1.0e-5  1.0e-5  1.0e-5  1.0e-5  1.0e-5     1.0e-5  1.0e-5  1.0e-5  1.0e-5\n",
       " 1.0e-5  1.0e-5  1.0e-5  1.0e-5  1.0e-5  …  1.0e-5  1.0e-5  1.0e-5  1.0e-5\n",
       " 1.0e-5  1.0e-5  1.0e-5  1.0e-5  1.0e-5     1.0e-5  1.0e-5  1.0e-5  1.0e-5\n",
       " 1.0e-5  1.0e-5  1.0e-5  1.0e-5  1.0e-5     1.0e-5  1.0e-5  1.0e-5  1.0e-5\n",
       " 1.0e-5  1.0e-5  1.0e-5  1.0e-5  1.0e-5     1.0e-5  1.0e-5  1.0e-5  1.0e-5\n",
       "\n",
       "[:, :, 9] =\n",
       " 1.0e-5  1.0e-5  1.0e-5  1.0e-5  1.0e-5  …  1.0e-5  1.0e-5  1.0e-5  1.0e-5\n",
       " 1.0e-5  1.0e-5  1.0e-5  1.0e-5  1.0e-5     1.0e-5  1.0e-5  1.0e-5  1.0e-5\n",
       " 1.0e-5  1.0e-5  1.0e-5  1.0e-5  1.0e-5     1.0e-5  1.0e-5  1.0e-5  1.0e-5\n",
       " 1.0e-5  1.0e-5  1.0e-5  1.0e-5  1.0e-5     1.0e-5  1.0e-5  1.0e-5  1.0e-5\n",
       " 1.0e-5  1.0e-5  1.0e-5  1.0e-5  1.0e-5     1.0e-5  1.0e-5  1.0e-5  1.0e-5\n",
       " 1.0e-5  1.0e-5  1.0e-5  1.0e-5  1.0e-5  …  1.0e-5  1.0e-5  1.0e-5  1.0e-5\n",
       " 1.0e-5  1.0e-5  1.0e-5  1.0e-5  1.0e-5     1.0e-5  1.0e-5  1.0e-5  1.0e-5\n",
       " 1.0e-5  1.0e-5  1.0e-5  1.0e-5  1.0e-5     1.0e-5  1.0e-5  1.0e-5  1.0e-5\n",
       " 1.0e-5  1.0e-5  1.0e-5  1.0e-5  1.0e-5     1.0e-5  1.0e-5  1.0e-5  1.0e-5\n",
       " 1.0e-5  1.0e-5  1.0e-5  1.0e-5  1.0e-5     1.0e-5  1.0e-5  1.0e-5  1.0e-5\n",
       " 1.0e-5  1.0e-5  1.0e-5  1.0e-5  1.0e-5  …  1.0e-5  1.0e-5  1.0e-5  1.0e-5\n",
       " 1.0e-5  1.0e-5  1.0e-5  1.0e-5  1.0e-5     1.0e-5  1.0e-5  1.0e-5  1.0e-5\n",
       " 1.0e-5  1.0e-5  1.0e-5  1.0e-5  1.0e-5     1.0e-5  1.0e-5  1.0e-5  1.0e-5\n",
       " ⋮                                       ⋱                          \n",
       " 1.0e-5  1.0e-5  1.0e-5  1.0e-5  1.0e-5     1.0e-5  1.0e-5  1.0e-5  1.0e-5\n",
       " 1.0e-5  1.0e-5  1.0e-5  1.0e-5  1.0e-5     1.0e-5  1.0e-5  1.0e-5  1.0e-5\n",
       " 1.0e-5  1.0e-5  1.0e-5  1.0e-5  1.0e-5     1.0e-5  1.0e-5  1.0e-5  1.0e-5\n",
       " 1.0e-5  1.0e-5  1.0e-5  1.0e-5  1.0e-5  …  1.0e-5  1.0e-5  1.0e-5  1.0e-5\n",
       " 1.0e-5  1.0e-5  1.0e-5  1.0e-5  1.0e-5     1.0e-5  1.0e-5  1.0e-5  1.0e-5\n",
       " 1.0e-5  1.0e-5  1.0e-5  1.0e-5  1.0e-5     1.0e-5  1.0e-5  1.0e-5  1.0e-5\n",
       " 1.0e-5  1.0e-5  1.0e-5  1.0e-5  1.0e-5     1.0e-5  1.0e-5  1.0e-5  1.0e-5\n",
       " 1.0e-5  1.0e-5  1.0e-5  1.0e-5  1.0e-5     1.0e-5  1.0e-5  1.0e-5  1.0e-5\n",
       " 1.0e-5  1.0e-5  1.0e-5  1.0e-5  1.0e-5  …  1.0e-5  1.0e-5  1.0e-5  1.0e-5\n",
       " 1.0e-5  1.0e-5  1.0e-5  1.0e-5  1.0e-5     1.0e-5  1.0e-5  1.0e-5  1.0e-5\n",
       " 1.0e-5  1.0e-5  1.0e-5  1.0e-5  1.0e-5     1.0e-5  1.0e-5  1.0e-5  1.0e-5\n",
       " 1.0e-5  1.0e-5  1.0e-5  1.0e-5  1.0e-5     1.0e-5  1.0e-5  1.0e-5  1.0e-5\n",
       "\n",
       "[:, :, 10] =\n",
       " 1.0e-5  1.0e-5  1.0e-5  1.0e-5  1.0e-5  …  1.0e-5  1.0e-5  1.0e-5  1.0e-5\n",
       " 1.0e-5  1.0e-5  1.0e-5  1.0e-5  1.0e-5     1.0e-5  1.0e-5  1.0e-5  1.0e-5\n",
       " 1.0e-5  1.0e-5  1.0e-5  1.0e-5  1.0e-5     1.0e-5  1.0e-5  1.0e-5  1.0e-5\n",
       " 1.0e-5  1.0e-5  1.0e-5  1.0e-5  1.0e-5     1.0e-5  1.0e-5  1.0e-5  1.0e-5\n",
       " 1.0e-5  1.0e-5  1.0e-5  1.0e-5  1.0e-5     1.0e-5  1.0e-5  1.0e-5  1.0e-5\n",
       " 1.0e-5  1.0e-5  1.0e-5  1.0e-5  1.0e-5  …  1.0e-5  1.0e-5  1.0e-5  1.0e-5\n",
       " 1.0e-5  1.0e-5  1.0e-5  1.0e-5  1.0e-5     1.0e-5  1.0e-5  1.0e-5  1.0e-5\n",
       " 1.0e-5  1.0e-5  1.0e-5  1.0e-5  1.0e-5     1.0e-5  1.0e-5  1.0e-5  1.0e-5\n",
       " 1.0e-5  1.0e-5  1.0e-5  1.0e-5  1.0e-5     1.0e-5  1.0e-5  1.0e-5  1.0e-5\n",
       " 1.0e-5  1.0e-5  1.0e-5  1.0e-5  1.0e-5     1.0e-5  1.0e-5  1.0e-5  1.0e-5\n",
       " 1.0e-5  1.0e-5  1.0e-5  1.0e-5  1.0e-5  …  1.0e-5  1.0e-5  1.0e-5  1.0e-5\n",
       " 1.0e-5  1.0e-5  1.0e-5  1.0e-5  1.0e-5     1.0e-5  1.0e-5  1.0e-5  1.0e-5\n",
       " 1.0e-5  1.0e-5  1.0e-5  1.0e-5  1.0e-5     1.0e-5  1.0e-5  1.0e-5  1.0e-5\n",
       " ⋮                                       ⋱                          \n",
       " 1.0e-5  1.0e-5  1.0e-5  1.0e-5  1.0e-5     1.0e-5  1.0e-5  1.0e-5  1.0e-5\n",
       " 1.0e-5  1.0e-5  1.0e-5  1.0e-5  1.0e-5     1.0e-5  1.0e-5  1.0e-5  1.0e-5\n",
       " 1.0e-5  1.0e-5  1.0e-5  1.0e-5  1.0e-5     1.0e-5  1.0e-5  1.0e-5  1.0e-5\n",
       " 1.0e-5  1.0e-5  1.0e-5  1.0e-5  1.0e-5  …  1.0e-5  1.0e-5  1.0e-5  1.0e-5\n",
       " 1.0e-5  1.0e-5  1.0e-5  1.0e-5  1.0e-5     1.0e-5  1.0e-5  1.0e-5  1.0e-5\n",
       " 1.0e-5  1.0e-5  1.0e-5  1.0e-5  1.0e-5     1.0e-5  1.0e-5  1.0e-5  1.0e-5\n",
       " 1.0e-5  1.0e-5  1.0e-5  1.0e-5  1.0e-5     1.0e-5  1.0e-5  1.0e-5  1.0e-5\n",
       " 1.0e-5  1.0e-5  1.0e-5  1.0e-5  1.0e-5     1.0e-5  1.0e-5  1.0e-5  1.0e-5\n",
       " 1.0e-5  1.0e-5  1.0e-5  1.0e-5  1.0e-5  …  1.0e-5  1.0e-5  1.0e-5  1.0e-5\n",
       " 1.0e-5  1.0e-5  1.0e-5  1.0e-5  1.0e-5     1.0e-5  1.0e-5  1.0e-5  1.0e-5\n",
       " 1.0e-5  1.0e-5  1.0e-5  1.0e-5  1.0e-5     1.0e-5  1.0e-5  1.0e-5  1.0e-5\n",
       " 1.0e-5  1.0e-5  1.0e-5  1.0e-5  1.0e-5     1.0e-5  1.0e-5  1.0e-5  1.0e-5"
      ]
     },
     "execution_count": 8,
     "metadata": {},
     "output_type": "execute_result"
    }
   ],
   "source": [
    "run(sess,tf_variables.K)"
   ]
  },
  {
   "cell_type": "code",
   "execution_count": 12,
   "metadata": {},
   "outputs": [
    {
     "name": "stdout",
     "output_type": "stream",
     "text": [
      "Saving Values at: 19:14-3.0\t1000.0\t0.0\t0.05018787902574411\t\t5\n"
     ]
    }
   ],
   "source": [
    "# Save values of the initial guess\n",
    "# save_values(sess, model_param, tf_variables, q_t, p, T_exp)\n",
    "print_status(sess, model_param, loss, diff_eval, T_exp, T_, 5, tf_variables, \"w\")"
   ]
  },
  {
   "cell_type": "code",
   "execution_count": 13,
   "metadata": {},
   "outputs": [
    {
     "data": {
      "text/plain": [
       "0.0"
      ]
     },
     "execution_count": 13,
     "metadata": {},
     "output_type": "execute_result"
    }
   ],
   "source": [
    "run(sess, diff_eval, feed_dict = Dict(tf_variables.lambda => ones(1) * 1, tf_variables.N_k_dis => 4))"
   ]
  },
  {
   "cell_type": "code",
   "execution_count": 13,
   "metadata": {},
   "outputs": [
    {
     "data": {
      "text/plain": [
       "0.0"
      ]
     },
     "execution_count": 13,
     "metadata": {},
     "output_type": "execute_result"
    }
   ],
   "source": [
    "run(sess, diff_eval, feed_dict = Dict(tf_variables.lambda => ones(1) * 1, tf_variables.N_k_dis => 64))"
   ]
  },
  {
   "cell_type": "code",
   "execution_count": 21,
   "metadata": {},
   "outputs": [
    {
     "data": {
      "text/plain": [
       "PyObject <tf.Tensor 'sort_2/Neg_1:0' shape=(50, 64) dtype=float64>"
      ]
     },
     "execution_count": 21,
     "metadata": {},
     "output_type": "execute_result"
    }
   ],
   "source": [
    "sort_list = tf.sort(q_t, axis = 1)"
   ]
  },
  {
   "cell_type": "code",
   "execution_count": 35,
   "metadata": {},
   "outputs": [
    {
     "data": {
      "text/plain": [
       "PyObject <tf.Tensor 'PlaceholderWithDefault_1:0' shape=() dtype=int32>"
      ]
     },
     "execution_count": 35,
     "metadata": {},
     "output_type": "execute_result"
    }
   ],
   "source": [
    "tf_variables.N_k_dis"
   ]
  },
  {
   "cell_type": "code",
   "execution_count": 19,
   "metadata": {},
   "outputs": [
    {
     "data": {
      "text/plain": [
       "PyObject <tf.Tensor 'Slice_4:0' shape=(?, ?) dtype=float64>"
      ]
     },
     "execution_count": 19,
     "metadata": {},
     "output_type": "execute_result"
    }
   ],
   "source": [
    "check = tf.slice(sort_list[1], [0, 0], [-1, tf_variables.N_k_dis - 1])"
   ]
  },
  {
   "cell_type": "code",
   "execution_count": 16,
   "metadata": {},
   "outputs": [
    {
     "data": {
      "text/plain": [
       "0-dimensional Array{PyCall.PyObject, 0}:\n",
       "PyObject <tf.Tensor 'Max_2:0' shape=() dtype=float64>"
      ]
     },
     "execution_count": 16,
     "metadata": {},
     "output_type": "execute_result"
    }
   ],
   "source": [
    "    sort_list = [tf.sort(q_t, axis = 1)]\n",
    "    diff_list = [tf.reduce_max(tf.reduce_min((tf.slice(sort_list[ii], [0, 1], [-1, -1]) -\n",
    "                                              (tf.slice(sort_list[ii], [0, 0], [-1, tf_variables.N_k_dis - 1]))) ./ tf.reduce_mean(sort_list[ii], axis = 1, keep_dims = true), axis = 1)) for ii in 1]\n",
    "    # diff_eval = tf.reduce_max(tf.stack(diff_list))"
   ]
  },
  {
   "cell_type": "code",
   "execution_count": 24,
   "metadata": {},
   "outputs": [
    {
     "data": {
      "text/plain": [
       "50×63 Matrix{Float64}:\n",
       " 1.1e-8      1.1e-8      1.1e-8      …  1.1e-8      1.1e-8      1.1e-8\n",
       " 1.09701e-8  1.09701e-8  1.09701e-8     1.09701e-8  1.09701e-8  1.09701e-8\n",
       " 1.09074e-8  1.09074e-8  1.09074e-8     1.09074e-8  1.09074e-8  1.09074e-8\n",
       " 1.08235e-8  1.08235e-8  1.08235e-8     1.08235e-8  1.08235e-8  1.08235e-8\n",
       " 1.07307e-8  1.07307e-8  1.07307e-8     1.07307e-8  1.07307e-8  1.07307e-8\n",
       " 1.06382e-8  1.06382e-8  1.06382e-8  …  1.06382e-8  1.06382e-8  1.06382e-8\n",
       " 1.05513e-8  1.05513e-8  1.05513e-8     1.05513e-8  1.05513e-8  1.05513e-8\n",
       " 1.04725e-8  1.04725e-8  1.04725e-8     1.04725e-8  1.04725e-8  1.04725e-8\n",
       " 1.04028e-8  1.04028e-8  1.04028e-8     1.04028e-8  1.04028e-8  1.04028e-8\n",
       " 1.03421e-8  1.03421e-8  1.03421e-8     1.03421e-8  1.03421e-8  1.03421e-8\n",
       " 1.02897e-8  1.02897e-8  1.02897e-8  …  1.02897e-8  1.02897e-8  1.02897e-8\n",
       " 1.02449e-8  1.02449e-8  1.02449e-8     1.02449e-8  1.02449e-8  1.02449e-8\n",
       " 1.02068e-8  1.02068e-8  1.02068e-8     1.02068e-8  1.02068e-8  1.02068e-8\n",
       " ⋮                                   ⋱  ⋮                       \n",
       " 1.00023e-8  1.00023e-8  1.00023e-8     1.00023e-8  1.00023e-8  1.00023e-8\n",
       " 1.0002e-8   1.0002e-8   1.0002e-8      1.0002e-8   1.0002e-8   1.0002e-8\n",
       " 1.00017e-8  1.00017e-8  1.00017e-8  …  1.00017e-8  1.00017e-8  1.00017e-8\n",
       " 1.00014e-8  1.00014e-8  1.00014e-8     1.00014e-8  1.00014e-8  1.00014e-8\n",
       " 1.00012e-8  1.00012e-8  1.00012e-8     1.00012e-8  1.00012e-8  1.00012e-8\n",
       " 1.0001e-8   1.0001e-8   1.0001e-8      1.0001e-8   1.0001e-8   1.0001e-8\n",
       " 1.00008e-8  1.00008e-8  1.00008e-8     1.00008e-8  1.00008e-8  1.00008e-8\n",
       " 1.00007e-8  1.00007e-8  1.00007e-8  …  1.00007e-8  1.00007e-8  1.00007e-8\n",
       " 1.00006e-8  1.00006e-8  1.00006e-8     1.00006e-8  1.00006e-8  1.00006e-8\n",
       " 1.00005e-8  1.00005e-8  1.00005e-8     1.00005e-8  1.00005e-8  1.00005e-8\n",
       " 1.00004e-8  1.00004e-8  1.00004e-8     1.00004e-8  1.00004e-8  1.00004e-8\n",
       " 1.00003e-8  1.00003e-8  1.00003e-8     1.00003e-8  1.00003e-8  1.00003e-8"
      ]
     },
     "execution_count": 24,
     "metadata": {},
     "output_type": "execute_result"
    }
   ],
   "source": [
    "diff_ = run(sess, check, feed_dict = Dict(tf_variables.N_k_dis => 64))\n"
   ]
  },
  {
   "cell_type": "code",
   "execution_count": 31,
   "metadata": {},
   "outputs": [
    {
     "data": {
      "text/plain": [
       "50×64 Matrix{Float64}:\n",
       " 1.1e-8  1.1e-8  1.1e-8  1.1e-8  …  1.1e-8      1.1e-8      1.1e-8\n",
       " 0.0     0.0     0.0     0.0        1.09701e-8  1.09701e-8  1.09701e-8\n",
       " 0.0     0.0     0.0     0.0        1.09074e-8  1.09074e-8  1.09074e-8\n",
       " 0.0     0.0     0.0     0.0        1.08235e-8  1.08235e-8  1.08235e-8\n",
       " 0.0     0.0     0.0     0.0        1.07307e-8  1.07307e-8  1.07307e-8\n",
       " 0.0     0.0     0.0     0.0     …  1.06382e-8  1.06382e-8  1.06382e-8\n",
       " 0.0     0.0     0.0     0.0        1.05513e-8  1.05513e-8  1.05513e-8\n",
       " 0.0     0.0     0.0     0.0        1.04725e-8  1.04725e-8  1.04725e-8\n",
       " 0.0     0.0     0.0     0.0        1.04028e-8  1.04028e-8  1.04028e-8\n",
       " 0.0     0.0     0.0     0.0        1.03421e-8  1.03421e-8  1.03421e-8\n",
       " 0.0     0.0     0.0     0.0     …  1.02897e-8  1.02897e-8  1.02897e-8\n",
       " 0.0     0.0     0.0     0.0        1.02449e-8  1.02449e-8  1.02449e-8\n",
       " 0.0     0.0     0.0     0.0        1.02068e-8  1.02068e-8  1.02068e-8\n",
       " ⋮                               ⋱                          \n",
       " 0.0     0.0     0.0     0.0        1.00023e-8  1.00023e-8  1.00023e-8\n",
       " 0.0     0.0     0.0     0.0        1.0002e-8   1.0002e-8   1.0002e-8\n",
       " 0.0     0.0     0.0     0.0     …  1.00017e-8  1.00017e-8  1.00017e-8\n",
       " 0.0     0.0     0.0     0.0        1.00014e-8  1.00014e-8  1.00014e-8\n",
       " 0.0     0.0     0.0     0.0        1.00012e-8  1.00012e-8  1.00012e-8\n",
       " 0.0     0.0     0.0     0.0        1.0001e-8   1.0001e-8   1.0001e-8\n",
       " 0.0     0.0     0.0     0.0        1.00008e-8  1.00008e-8  1.00008e-8\n",
       " 0.0     0.0     0.0     0.0     …  1.00007e-8  1.00007e-8  1.00007e-8\n",
       " 0.0     0.0     0.0     0.0        1.00006e-8  1.00006e-8  1.00006e-8\n",
       " 0.0     0.0     0.0     0.0        1.00005e-8  1.00005e-8  1.00005e-8\n",
       " 0.0     0.0     0.0     0.0        1.00004e-8  1.00004e-8  1.00004e-8\n",
       " 0.0     0.0     0.0     0.0        1.00003e-8  1.00003e-8  1.00003e-8"
      ]
     },
     "execution_count": 31,
     "metadata": {},
     "output_type": "execute_result"
    }
   ],
   "source": [
    "diff_[1]"
   ]
  },
  {
   "cell_type": "code",
   "execution_count": 13,
   "metadata": {},
   "outputs": [],
   "source": [
    "ScipyOptimizerMinimize(sess, opt_LFGS_sum, feed_dict = Dict(tf_variables.lambda => ones(1) * T_, tf_variables.N_k_dis => 4))\n"
   ]
  },
  {
   "cell_type": "code",
   "execution_count": 11,
   "metadata": {},
   "outputs": [
    {
     "data": {
      "text/plain": [
       "PyObject <tf.Tensor 'Mul_4:0' shape=(2, 10, 10) dtype=float64>"
      ]
     },
     "execution_count": 11,
     "metadata": {},
     "output_type": "execute_result"
    }
   ],
   "source": [
    "K_log = Variable(ones(model_param.N_k, 1, 1) * 1e-5)\n",
    "K_log_field = K_log .* ones(1, model_param.N_x, model_param.N_y)"
   ]
  },
  {
   "cell_type": "code",
   "execution_count": null,
   "metadata": {},
   "outputs": [],
   "source": [
    "\n",
    "\n",
    "K_log = Variable(log.(ones(model_param.N_k, model_param.N_x, model_param.N_y) * 1e-5))\n"
   ]
  },
  {
   "cell_type": "code",
   "execution_count": null,
   "metadata": {},
   "outputs": [],
   "source": []
  },
  {
   "cell_type": "code",
   "execution_count": 15,
   "metadata": {},
   "outputs": [
    {
     "name": "stderr",
     "output_type": "stream",
     "text": [
      "2021-11-30 22:38:36.492174: I tensorflow/core/common_runtime/gpu/gpu_device.cc:1618] Found device 0 with properties: \n",
      "name: GeForce GTX 1650 major: 7 minor: 5 memoryClockRate(GHz): 1.56\n",
      "pciBusID: 0000:01:00.0\n",
      "2021-11-30 22:38:36.492203: I tensorflow/stream_executor/platform/default/dso_loader.cc:44] Successfully opened dynamic library cudart64_100.dll\n",
      "2021-11-30 22:38:36.492249: I tensorflow/stream_executor/platform/default/dso_loader.cc:44] Successfully opened dynamic library cublas64_100.dll\n",
      "2021-11-30 22:38:36.492256: I tensorflow/stream_executor/platform/default/dso_loader.cc:44] Successfully opened dynamic library cufft64_100.dll\n",
      "2021-11-30 22:38:36.492263: I tensorflow/stream_executor/platform/default/dso_loader.cc:44] Successfully opened dynamic library curand64_100.dll\n",
      "2021-11-30 22:38:36.492269: I tensorflow/stream_executor/platform/default/dso_loader.cc:44] Successfully opened dynamic library cusolver64_100.dll\n",
      "2021-11-30 22:38:36.492275: I tensorflow/stream_executor/platform/default/dso_loader.cc:44] Successfully opened dynamic library cusparse64_100.dll\n",
      "2021-11-30 22:38:36.492282: I tensorflow/stream_executor/platform/default/dso_loader.cc:44] Successfully opened dynamic library cudnn64_7.dll\n",
      "2021-11-30 22:38:36.492329: I tensorflow/core/common_runtime/gpu/gpu_device.cc:1746] Adding visible gpu devices: 0\n",
      "2021-11-30 22:38:36.492393: I tensorflow/core/common_runtime/gpu/gpu_device.cc:1159] Device interconnect StreamExecutor with strength 1 edge matrix:\n",
      "2021-11-30 22:38:36.492398: I tensorflow/core/common_runtime/gpu/gpu_device.cc:1165]      0 \n",
      "2021-11-30 22:38:36.492403: I tensorflow/core/common_runtime/gpu/gpu_device.cc:1178] 0:   N \n",
      "2021-11-30 22:38:36.492479: I tensorflow/core/common_runtime/gpu/gpu_device.cc:1304] Created TensorFlow device (/job:localhost/replica:0/task:0/device:GPU:0 with 2919 MB memory) -> physical GPU (device: 0, name: GeForce GTX 1650, pci bus id: 0000:01:00.0, compute capability: 7.5)\n"
     ]
    }
   ],
   "source": [
    "sess = Session(); init(sess);\n"
   ]
  },
  {
   "cell_type": "code",
   "execution_count": 18,
   "metadata": {},
   "outputs": [
    {
     "data": {
      "text/plain": [
       "5.01878790257441e6"
      ]
     },
     "execution_count": 18,
     "metadata": {},
     "output_type": "execute_result"
    }
   ],
   "source": [
    "run(sess, dw_2_sum)"
   ]
  },
  {
   "cell_type": "code",
   "execution_count": 13,
   "metadata": {},
   "outputs": [
    {
     "data": {
      "text/plain": [
       "PyObject <tf.Tensor 'truediv_6:0' shape=(50, 2) dtype=float64>"
      ]
     },
     "execution_count": 13,
     "metadata": {},
     "output_type": "execute_result"
    }
   ],
   "source": [
    "check_q"
   ]
  },
  {
   "cell_type": "code",
   "execution_count": 16,
   "metadata": {},
   "outputs": [
    {
     "data": {
      "text/plain": [
       "PyObject <tf.Tensor 'Exp_2:0' shape=(2, 10, 10) dtype=float64>"
      ]
     },
     "execution_count": 16,
     "metadata": {},
     "output_type": "execute_result"
    }
   ],
   "source": [
    "K_log = Variable(log.(ones(model_param.N_k, 1, 1) * 1e-5))\n",
    "K_log_field = K_log .* ones(1, model_param.N_x, model_param.N_y)\n",
    "K = tf.exp(K_log_field)"
   ]
  },
  {
   "cell_type": "code",
   "execution_count": null,
   "metadata": {},
   "outputs": [],
   "source": []
  }
 ],
 "metadata": {
  "interpreter": {
   "hash": "4caecb3fc9c99a4061eb813073d44d9c0de142fde245e44c7f8c7752a70bf50f"
  },
  "kernelspec": {
   "display_name": "Julia 1.6.1",
   "language": "julia",
   "name": "julia-1.6"
  },
  "language_info": {
   "file_extension": ".jl",
   "mimetype": "application/julia",
   "name": "julia",
   "version": "1.6.1"
  },
  "orig_nbformat": 4
 },
 "nbformat": 4,
 "nbformat_minor": 2
}
