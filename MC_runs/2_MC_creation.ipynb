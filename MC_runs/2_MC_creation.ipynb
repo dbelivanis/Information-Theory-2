{
 "cells": [
  {
   "cell_type": "code",
   "execution_count": 2,
   "source": [
    "import numpy as np\r\n",
    "import pandas as pd\r\n",
    "import os\r\n",
    "import shutil\r\n",
    "import time\r\n",
    "from tqdm.notebook import tnrange, tqdm\r\n",
    "from subprocess import Popen"
   ],
   "outputs": [],
   "metadata": {}
  },
  {
   "cell_type": "code",
   "execution_count": null,
   "source": [],
   "outputs": [],
   "metadata": {}
  },
  {
   "cell_type": "code",
   "execution_count": 3,
   "source": [
    "# int(time.time()%1e5)"
   ],
   "outputs": [],
   "metadata": {}
  },
  {
   "cell_type": "code",
   "execution_count": 4,
   "source": [
    "# ./../../files/BC_IC_files/Run_1620833187"
   ],
   "outputs": [],
   "metadata": {}
  },
  {
   "cell_type": "code",
   "execution_count": 12,
   "source": [
    "uniq_id = f'Run_{int(time.time())}'\r\n",
    "Name_run_src = './../../../files/BC_IC_files/Run_1623326552' "
   ],
   "outputs": [],
   "metadata": {}
  },
  {
   "cell_type": "code",
   "execution_count": 7,
   "source": [
    "Name_run = 'Run_no_zero_flow_no_oscilations_Run'"
   ],
   "outputs": [],
   "metadata": {}
  },
  {
   "cell_type": "code",
   "execution_count": 9,
   "source": [
    "\r\n",
    "Name_uniq = f'{Name_run}_{uniq_id}'\r\n",
    "folder_uniq = f'./../../../MC_runs/{Name_uniq}'\r\n",
    "os.mkdir(f'{folder_uniq}')\r\n",
    "# os.mkdir(f'{folder_uniq}/MC')\r\n",
    "os.mkdir(f'{folder_uniq}/runs')"
   ],
   "outputs": [],
   "metadata": {}
  },
  {
   "cell_type": "code",
   "execution_count": 10,
   "source": [
    "del_files = [\"fort.740\"\r\n",
    ",\"mf2k_h5.exe\"\r\n",
    ",\"6_months_run.asp\"\r\n",
    ",\"6_months_run.ba6\"\r\n",
    ",\"6_months_run.chd\"\r\n",
    ",\"6_months_run.dis\"\r\n",
    ",\"6_months_run.h5\"\r\n",
    ",\"6_months_run.lpf\"\r\n",
    ",\"6_months_run.mfn\"\r\n",
    ",\"6_months_run.oc\"\r\n",
    ",\"6_months_run.out\"\r\n",
    ",\"6_months_run.pcg\"]"
   ],
   "outputs": [],
   "metadata": {}
  },
  {
   "cell_type": "code",
   "execution_count": 13,
   "source": [
    "# shutil.copyfile('files/MC_Batch.bat', f'{folder_uniq}/MC/MC_Batch.bat')\r\n",
    "src = f'{Name_run_src}'\r\n",
    "\r\n",
    "for i in tnrange(1,101):\r\n",
    "    dst = f'{folder_uniq}/MC/runs/{i}'\r\n",
    "    shutil.copytree(src, dst)\r\n",
    "\r\n",
    "    src_K = f'files/K_s/K_{i}.txt'\r\n",
    "    dst_K = f'{folder_uniq}/MC/runs/{i}/karray_1.0.txt'\r\n",
    "    shutil.copyfile(src_K, dst_K)\r\n",
    "\r\n",
    "    p = Popen(['mf2k_h5','6_months_run.mfn'], cwd=f'{folder_uniq}/MC/runs/{i}',shell=True)\r\n",
    "    p.communicate()\r\n",
    "    for file in del_files:\r\n",
    "        os.remove(f'{folder_uniq}/MC/runs/{i}/{file}')"
   ],
   "outputs": [
    {
     "output_type": "display_data",
     "data": {
      "application/vnd.jupyter.widget-view+json": {
       "version_major": 2,
       "version_minor": 0,
       "model_id": "893c46a419af40bb8e70db1365a0c8f4"
      },
      "text/plain": [
       "  0%|          | 0/100 [00:00<?, ?it/s]"
      ]
     },
     "metadata": {}
    }
   ],
   "metadata": {}
  },
  {
   "cell_type": "code",
   "execution_count": 9,
   "source": [
    "dst = f'{folder_uniq}/MC/original_files'\r\n",
    "shutil.copytree(src, dst)"
   ],
   "outputs": [
    {
     "output_type": "execute_result",
     "data": {
      "text/plain": [
       "'./../../MC_runs/Run_no_zero_flow_no_oscilations_Run_Run_1623326650/MC/original_files'"
      ]
     },
     "metadata": {},
     "execution_count": 9
    }
   ],
   "metadata": {}
  },
  {
   "cell_type": "code",
   "execution_count": 14,
   "source": [
    "print(f'{folder_uniq}/MC/runs/')"
   ],
   "outputs": [
    {
     "output_type": "stream",
     "name": "stdout",
     "text": [
      "./../../../MC_runs/Run_no_zero_flow_no_oscilations_Run_Run_1633466607/MC/runs/\n"
     ]
    }
   ],
   "metadata": {}
  },
  {
   "cell_type": "code",
   "execution_count": null,
   "source": [
    "./../../MC_runs/Run_no_zero_flow_no_oscilations_Run_Run_1623326650/MC/runs/\r\n"
   ],
   "outputs": [],
   "metadata": {}
  }
 ],
 "metadata": {
  "kernelspec": {
   "name": "python3",
   "display_name": "Python 3.7.7 64-bit (conda)"
  },
  "language_info": {
   "codemirror_mode": {
    "name": "ipython",
    "version": 3
   },
   "file_extension": ".py",
   "mimetype": "text/x-python",
   "name": "python",
   "nbconvert_exporter": "python",
   "pygments_lexer": "ipython3",
   "version": "3.7.7"
  },
  "interpreter": {
   "hash": "20f7963641347b5b0f89ee34a62aa3cbfa3478e5b0bceec5777dd19f814e2f1a"
  }
 },
 "nbformat": 4,
 "nbformat_minor": 4
}