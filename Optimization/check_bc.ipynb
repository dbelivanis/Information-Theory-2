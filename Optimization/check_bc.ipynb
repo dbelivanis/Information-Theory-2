{
 "metadata": {
  "language_info": {
   "file_extension": ".jl",
   "name": "julia",
   "mimetype": "application/julia",
   "version": "1.6.1"
  },
  "orig_nbformat": 2,
  "kernelspec": {
   "name": "julia-1.6",
   "display_name": "Julia 1.6.1",
   "language": "julia"
  }
 },
 "nbformat": 4,
 "nbformat_minor": 2,
 "cells": [
  {
   "cell_type": "code",
   "execution_count": 2,
   "source": [
    "include(\"./param.jl\");\r\n",
    "include(\"./aux_functions.jl\");"
   ],
   "outputs": [
    {
     "output_type": "stream",
     "name": "stderr",
     "text": [
      "2021-10-01 01:56:45.085606: I tensorflow/stream_executor/platform/default/dso_loader.cc:44] Successfully opened dynamic library cudart64_100.dll\n",
      "WARNING: using param.param in module aux_functions conflicts with an existing identifier.\n"
     ]
    }
   ],
   "metadata": {}
  },
  {
   "cell_type": "code",
   "execution_count": 3,
   "source": [
    "using Main.aux_functions\r\n",
    "using Main.param"
   ],
   "outputs": [],
   "metadata": {}
  },
  {
   "cell_type": "code",
   "execution_count": 4,
   "source": [
    "using ADCME\r\n"
   ],
   "outputs": [],
   "metadata": {}
  },
  {
   "cell_type": "code",
   "execution_count": 5,
   "source": [
    "param_model_val = param_model();"
   ],
   "outputs": [],
   "metadata": {}
  },
  {
   "cell_type": "code",
   "execution_count": 6,
   "source": [
    "aux_functions.left_BC(5)"
   ],
   "outputs": [
    {
     "output_type": "error",
     "ename": "LoadError",
     "evalue": "UndefVarError: model_param not defined",
     "traceback": [
      "UndefVarError: model_param not defined",
      "",
      "Stacktrace:",
      " [1] left_BC(t::Int64)",
      "   @ Main.aux_functions d:\\Research_git\\Research_information_theory_3\\Information-Theory-2\\Optimization\\aux_functions.jl:24",
      " [2] top-level scope",
      "   @ In[6]:1",
      " [3] eval",
      "   @ .\\boot.jl:360 [inlined]",
      " [4] include_string(mapexpr::typeof(REPL.softscope), mod::Module, code::String, filename::String)",
      "   @ Base .\\loading.jl:1094"
     ]
    }
   ],
   "metadata": {}
  },
  {
   "cell_type": "code",
   "execution_count": 7,
   "source": [
    "aux_functions.model_param = param_model_val"
   ],
   "outputs": [
    {
     "output_type": "error",
     "ename": "LoadError",
     "evalue": "cannot assign variables in other modules",
     "traceback": [
      "cannot assign variables in other modules",
      "",
      "Stacktrace:",
      " [1] setproperty!(x::Module, f::Symbol, v::param_model)",
      "   @ Base .\\Base.jl:27",
      " [2] top-level scope",
      "   @ In[7]:1",
      " [3] eval",
      "   @ .\\boot.jl:360 [inlined]",
      " [4] include_string(mapexpr::typeof(REPL.softscope), mod::Module, code::String, filename::String)",
      "   @ Base .\\loading.jl:1094"
     ]
    }
   ],
   "metadata": {}
  },
  {
   "cell_type": "code",
   "execution_count": 8,
   "source": [
    "H = map(aux_functions.expit,-LinRange(-31.5,31.5,64)/10) /2 .+ 0.2\r\n",
    "\r\n",
    "\r\n",
    "H +LinRange(0.2,0,64)"
   ],
   "outputs": [
    {
     "output_type": "execute_result",
     "data": {
      "text/plain": [
       "64-element Vector{Float64}:\n",
       " 0.8794543608997676\n",
       " 0.8742166600837531\n",
       " 0.8687825378715153\n",
       " 0.8631355318682201\n",
       " 0.8572582622145835\n",
       " 0.8511324793813748\n",
       " 0.8447391382716221\n",
       " 0.8380585031857886\n",
       " 0.831070288383039\n",
       " 0.8237538389790168\n",
       " 0.8160883566944677\n",
       " 0.8080531744394696\n",
       " 0.7996280828110537\n",
       " ⋮\n",
       " 0.29194682556053037\n",
       " 0.2839116433055324\n",
       " 0.27624616102098337\n",
       " 0.26892971161696105\n",
       " 0.26194149681421147\n",
       " 0.2552608617283779\n",
       " 0.24886752061862527\n",
       " 0.24274173778541655\n",
       " 0.23686446813177997\n",
       " 0.23121746212848474\n",
       " 0.22578333991624697\n",
       " 0.2205456391002325"
      ]
     },
     "metadata": {},
     "execution_count": 8
    }
   ],
   "metadata": {}
  },
  {
   "cell_type": "code",
   "execution_count": null,
   "source": [],
   "outputs": [],
   "metadata": {}
  },
  {
   "cell_type": "code",
   "execution_count": null,
   "source": [],
   "outputs": [],
   "metadata": {}
  }
 ]
}