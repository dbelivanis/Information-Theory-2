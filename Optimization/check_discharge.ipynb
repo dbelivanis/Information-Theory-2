{
 "cells": [
  {
   "cell_type": "code",
   "execution_count": 1,
   "metadata": {},
   "outputs": [
    {
     "name": "stdout",
     "output_type": "stream",
     "text": [
      "maximum iteration: 100\tNumber of steps: 50\n"
     ]
    },
    {
     "name": "stderr",
     "output_type": "stream",
     "text": [
      "2022-05-11 16:08:25.475962: I tensorflow/stream_executor/platform/default/dso_loader.cc:44] Successfully opened dynamic library cudart64_100.dll\n",
      "WARNING: using param.param in module aux_functions conflicts with an existing identifier.\n"
     ]
    },
    {
     "data": {
      "text/plain": [
       "-3.0"
      ]
     },
     "execution_count": 1,
     "metadata": {},
     "output_type": "execute_result"
    }
   ],
   "source": [
    "include(\"./param_discharge.jl\");\n",
    "include(\"./aux_functions_discharge.jl\");\n",
    "\n",
    "using Main.aux_functions\n",
    "using Main.param\n",
    "using ADCME\n",
    "using SparseArrays\n",
    "\n",
    "using DelimitedFiles\n",
    "using Dates\n",
    "using Plots\n",
    "\n",
    "# definition of the parameters from the shell file\n",
    "maxiter = 100\n",
    "N_steps = 50\n",
    "print(\"maximum iteration: \", maxiter, \"\\t\", \"Number of steps: \", N_steps, \"\\n\")\n",
    "\n",
    "# Definition of the parameters of initial descrite probabilities and initial lambda\n",
    "global N_k_dis_ = 2\n",
    "global T_exp = -3.0\n",
    "\n",
    "# Initialization of the model and the optimization process\n"
   ]
  },
  {
   "cell_type": "code",
   "execution_count": 2,
   "metadata": {},
   "outputs": [],
   "source": [
    "param_model_val = param_model(N_steps = N_steps);\n"
   ]
  },
  {
   "cell_type": "code",
   "execution_count": 3,
   "metadata": {},
   "outputs": [],
   "source": [
    "tf_variables, h_t, q_t_x, q_t_y = Darcy_flow_solver(param_model_val);"
   ]
  },
  {
   "cell_type": "code",
   "execution_count": 4,
   "metadata": {},
   "outputs": [
    {
     "data": {
      "text/plain": [
       "param_model\n",
       "  exp_name: String \"experiment11_05_16_09_2\"\n",
       "  run_name: String \"Run_no_zero_flow_no_oscilations_Run_Run_1646968123\"\n",
       "  N_points: Int64 9\n",
       "  Lx: Int64 1000\n",
       "  Ly: Int64 1000\n",
       "  T_h: Int64 18000\n",
       "  T: Int64 18000\n",
       "  N_steps_orig: Int64 1800\n",
       "  N_steps: Int64 50\n",
       "  N_k: Int64 64\n",
       "  N_x: Int64 22\n",
       "  N_y: Int64 22\n",
       "  Ne: Int64 484\n",
       "  N_steps_fine: Int64 50\n",
       "  N_k_fine: Int64 100\n",
       "  n_step_skip: Int64 36\n",
       "  dt: Float64 360.0\n",
       "  dx: Float64 47.61904761904762\n",
       "  dy: Float64 47.61904761904762\n",
       "  loc_x_list: Array{Int64}((9,)) [6, 11, 16, 6, 11, 16, 6, 11, 16]\n",
       "  loc_y_list: Array{Int64}((9,)) [6, 6, 6, 11, 11, 11, 16, 16, 16]\n",
       "  K_mupltiplier: Float64 1.0\n"
      ]
     },
     "execution_count": 4,
     "metadata": {},
     "output_type": "execute_result"
    }
   ],
   "source": [
    "global model_param = param_model_val\n",
    "\n",
    "# function P(h_, i, j)\n",
    "#     # get the head for specifi i and j\n",
    "#     tf.strided_slice(h_, [0, i + (j + 1) * model_param.N_y], [model_param.N_k, (j - 1) * model_param.N_y - 1], [1, model_param.N_y])\n",
    "# end\n",
    "\n",
    "# function P_y(h_, i, j)\n",
    "#     # get the head for specifi i and j\n",
    "#     tf.strided_slice(h_, [0, (i - 1) * model_param.N_x + 1 + j] , [model_param.N_k, i * model_param.N_x + j - 1], [1, 1])\n",
    "# end"
   ]
  },
  {
   "cell_type": "code",
   "execution_count": 5,
   "metadata": {},
   "outputs": [
    {
     "name": "stderr",
     "output_type": "stream",
     "text": [
      "C:\\Users\\dbeli\\.julia\\adcme\\lib\\site-packages\\tensorflow_core\\python\\framework\\indexed_slices.py:424: UserWarning: Converting sparse IndexedSlices to a dense Tensor of unknown shape. This may consume a large amount of memory.\n",
      "  \"Converting sparse IndexedSlices to a dense Tensor of unknown shape. \"\n",
      "C:\\Users\\dbeli\\.julia\\adcme\\lib\\site-packages\\tensorflow_core\\python\\framework\\indexed_slices.py:424: UserWarning: Converting sparse IndexedSlices to a dense Tensor of unknown shape. This may consume a large amount of memory.\n",
      "  \"Converting sparse IndexedSlices to a dense Tensor of unknown shape. \"\n",
      "C:\\Users\\dbeli\\.julia\\adcme\\lib\\site-packages\\tensorflow_core\\python\\framework\\indexed_slices.py:424: UserWarning: Converting sparse IndexedSlices to a dense Tensor of unknown shape. This may consume a large amount of memory.\n",
      "  \"Converting sparse IndexedSlices to a dense Tensor of unknown shape. \"\n",
      "C:\\Users\\dbeli\\.julia\\adcme\\lib\\site-packages\\tensorflow_core\\python\\framework\\indexed_slices.py:424: UserWarning: Converting sparse IndexedSlices to a dense Tensor of unknown shape. This may consume a large amount of memory.\n",
      "  \"Converting sparse IndexedSlices to a dense Tensor of unknown shape. \"\n",
      "C:\\Users\\dbeli\\.julia\\adcme\\lib\\site-packages\\tensorflow_core\\python\\framework\\indexed_slices.py:424: UserWarning: Converting sparse IndexedSlices to a dense Tensor of unknown shape. This may consume a large amount of memory.\n",
      "  \"Converting sparse IndexedSlices to a dense Tensor of unknown shape. \"\n"
     ]
    },
    {
     "data": {
      "text/plain": [
       "(PyObject <tf.Tensor 'add_8:0' shape=() dtype=float64>, PyObject <tf.Tensor 'Mul_17:0' shape=() dtype=float64>, PyObject <tf.Operation 'Adam' type=NoOp>, PyObject <tensorflow.contrib.opt.python.training.external_optimizer.ScipyOptimizerInterface object at 0x00000000016F6788>, PyObject <tf.Operation 'Adam_1' type=NoOp>, PyObject <tensorflow.contrib.opt.python.training.external_optimizer.ScipyOptimizerInterface object at 0x00000000A4F0AC88>, PyObject <tf.Tensor 'Max_1:0' shape=() dtype=float64>, PyObject <tf.Variable 'Variable_3:0' shape=(1, 64) dtype=float64_ref>, PyObject <tf.Tensor 'Softmax:0' shape=(1, 64) dtype=float64>, PyObject <tensorflow.contrib.opt.python.training.external_optimizer.ScipyOptimizerInterface object at 0x00000000A5110B88>)"
      ]
     },
     "execution_count": 5,
     "metadata": {},
     "output_type": "execute_result"
    }
   ],
   "source": [
    "loss, dw_2, opt_ADAM, opt_LFGS, opt_ADAM_sum, opt_LFGS_sum, diff_eval, p_pre_soft_max, p, opt_LFGS_x = Info_upscale(tf_variables, param_model_val, q_t_x, q_t_y, N_k_dis_, maxiter)\n"
   ]
  },
  {
   "cell_type": "code",
   "execution_count": 6,
   "metadata": {},
   "outputs": [
    {
     "name": "stderr",
     "output_type": "stream",
     "text": [
      "2022-05-11 16:10:00.933108: I tensorflow/core/platform/cpu_feature_guard.cc:142] Your CPU supports instructions that this TensorFlow binary was not compiled to use: AVX2\n",
      "2022-05-11 16:10:00.940355: I tensorflow/stream_executor/platform/default/dso_loader.cc:44] Successfully opened dynamic library nvcuda.dll\n",
      "2022-05-11 16:10:00.984633: I tensorflow/core/common_runtime/gpu/gpu_device.cc:1618] Found device 0 with properties: \n",
      "name: GeForce GTX 1650 major: 7 minor: 5 memoryClockRate(GHz): 1.56\n",
      "pciBusID: 0000:01:00.0\n",
      "2022-05-11 16:10:00.984674: I tensorflow/stream_executor/platform/default/dso_loader.cc:44] Successfully opened dynamic library cudart64_100.dll\n",
      "2022-05-11 16:10:00.989538: I tensorflow/stream_executor/platform/default/dso_loader.cc:44] Successfully opened dynamic library cublas64_100.dll\n",
      "2022-05-11 16:10:00.994831: I tensorflow/stream_executor/platform/default/dso_loader.cc:44] Successfully opened dynamic library cufft64_100.dll\n",
      "2022-05-11 16:10:00.997410: I tensorflow/stream_executor/platform/default/dso_loader.cc:44] Successfully opened dynamic library curand64_100.dll\n",
      "2022-05-11 16:10:01.004647: I tensorflow/stream_executor/platform/default/dso_loader.cc:44] Successfully opened dynamic library cusolver64_100.dll\n",
      "2022-05-11 16:10:01.009983: I tensorflow/stream_executor/platform/default/dso_loader.cc:44] Successfully opened dynamic library cusparse64_100.dll\n",
      "2022-05-11 16:10:01.044441: I tensorflow/stream_executor/platform/default/dso_loader.cc:44] Successfully opened dynamic library cudnn64_7.dll\n",
      "2022-05-11 16:10:01.044646: I tensorflow/core/common_runtime/gpu/gpu_device.cc:1746] Adding visible gpu devices: 0\n",
      "2022-05-11 16:10:02.563416: I tensorflow/core/common_runtime/gpu/gpu_device.cc:1159] Device interconnect StreamExecutor with strength 1 edge matrix:\n",
      "2022-05-11 16:10:02.563461: I tensorflow/core/common_runtime/gpu/gpu_device.cc:1165]      0 \n",
      "2022-05-11 16:10:02.563472: I tensorflow/core/common_runtime/gpu/gpu_device.cc:1178] 0:   N \n",
      "2022-05-11 16:10:02.563730: I tensorflow/core/common_runtime/gpu/gpu_device.cc:1304] Created TensorFlow device (/job:localhost/replica:0/task:0/device:GPU:0 with 2919 MB memory) -> physical GPU (device: 0, name: GeForce GTX 1650, pci bus id: 0000:01:00.0, compute capability: 7.5)\n"
     ]
    }
   ],
   "source": [
    "sess = Session();\n",
    "init(sess);\n"
   ]
  },
  {
   "cell_type": "code",
   "execution_count": 7,
   "metadata": {},
   "outputs": [
    {
     "data": {
      "text/plain": [
       "PyObject <tf.Tensor 'Mul_26:0' shape=(64, 484) dtype=float64>"
      ]
     },
     "execution_count": 7,
     "metadata": {},
     "output_type": "execute_result"
    }
   ],
   "source": [
    "check = aux_functions.IC()"
   ]
  },
  {
   "cell_type": "code",
   "execution_count": 12,
   "metadata": {},
   "outputs": [
    {
     "data": {
      "text/plain": [
       "P_y (generic function with 1 method)"
      ]
     },
     "execution_count": 12,
     "metadata": {},
     "output_type": "execute_result"
    }
   ],
   "source": [
    "function P(h_, i, j)\n",
    "    # get the head for specifi i and j\n",
    "    tf.strided_slice(h_, [0, i - 1 + (j + 1) * model_param.N_y], [model_param.N_k, (j - 1) * model_param.N_y - 1], [1, model_param.N_y])\n",
    "end\n",
    "\n",
    "function P_y(h_, i, j)\n",
    "    # get the head for specifi i and j\n",
    "    tf.strided_slice(h_, [0, (i - 1) * model_param.N_x + 1 + j], [model_param.N_k, i * model_param.N_x + j - 1], [1, 1])\n",
    "end\n"
   ]
  },
  {
   "cell_type": "code",
   "execution_count": 18,
   "metadata": {},
   "outputs": [
    {
     "data": {
      "text/plain": [
       "22-element Vector{Float64}:\n",
       " 1.3370153117200534\n",
       " 1.326121253111723\n",
       " 1.3148082433966222\n",
       " 1.3029731681222065\n",
       " 1.2905048042820204\n",
       " 1.2772951874122507\n",
       " 1.2632581974807224\n",
       " 1.248354766271721\n",
       " 1.2326203684947719\n",
       " 1.2161858989373335\n",
       " 1.1992805728777187\n",
       " 1.1822088510546698\n",
       " 1.165303524995055\n",
       " 1.1488690554376166\n",
       " 1.1331346576606676\n",
       " 1.118231226451666\n",
       " 1.1041942365201376\n",
       " 1.090984619650368\n",
       " 1.078516255810182\n",
       " 1.066681180535766\n",
       " 1.0553681708206655\n",
       " 1.044474112212335"
      ]
     },
     "execution_count": 18,
     "metadata": {},
     "output_type": "execute_result"
    }
   ],
   "source": [
    "reshape(run(sess, check[1]), (22, 22))[1,:]"
   ]
  },
  {
   "cell_type": "code",
   "execution_count": 92,
   "metadata": {},
   "outputs": [
    {
     "data": {
      "text/plain": [
       "4×21 Matrix{Float64}:\n",
       " 0.802209  0.79534   0.78819   0.780688  …  0.640704  0.633554  0.626684\n",
       " 0.735358  0.729061  0.722508  0.71563      0.587312  0.580758  0.574461\n",
       " 0.668508  0.662783  0.656825  0.650573     0.53392   0.527962  0.522237\n",
       " 0.601657  0.596505  0.591143  0.585516     0.480528  0.475165  0.470013"
      ]
     },
     "execution_count": 92,
     "metadata": {},
     "output_type": "execute_result"
    }
   ],
   "source": [
    "reshape(run(sess, check[1]), (21, 21))[ 9:12,:]"
   ]
  },
  {
   "cell_type": "code",
   "execution_count": 46,
   "metadata": {},
   "outputs": [
    {
     "data": {
      "text/plain": [
       "1.1907447119661942"
      ]
     },
     "execution_count": 46,
     "metadata": {},
     "output_type": "execute_result"
    }
   ],
   "source": [
    "reshape(run(sess,check[1]),(21,21))[1,:][11]"
   ]
  },
  {
   "cell_type": "code",
   "execution_count": 19,
   "metadata": {},
   "outputs": [
    {
     "data": {
      "text/plain": [
       "20-element Vector{Float64}:\n",
       " 1.1822088510546698\n",
       " 1.125913191480638\n",
       " 1.069617531906606\n",
       " 1.013321872332574\n",
       " 0.9570262127585423\n",
       " 0.9007305531845103\n",
       " 0.8444348936104784\n",
       " 0.7881392340364466\n",
       " 0.7318435744624147\n",
       " 0.6755479148883827\n",
       " 0.6192522553143509\n",
       " 0.5629565957403189\n",
       " 0.506660936166287\n",
       " 0.4503652765922551\n",
       " 0.3940696170182233\n",
       " 0.33777395744419136\n",
       " 0.28147829787015954\n",
       " 0.2251826382961276\n",
       " 0.16888697872209568\n",
       " 0.11259131914806386"
      ]
     },
     "execution_count": 19,
     "metadata": {},
     "output_type": "execute_result"
    }
   ],
   "source": [
    "run(sess, P_y(check, 12, -1)[0])"
   ]
  },
  {
   "cell_type": "code",
   "execution_count": 7,
   "metadata": {},
   "outputs": [
    {
     "data": {
      "text/plain": [
       "50×64×441 Array{Float64, 3}:\n",
       "[:, :, 1] =\n",
       " 1.33702  1.33702  1.33702  1.33702  …  1.33702  1.33702  1.33702  1.33702\n",
       " 1.26669  1.26669  1.26669  1.26669     0.0      0.0      0.0      0.0\n",
       " 1.23246  1.23246  1.23246  1.23246     0.0      0.0      0.0      0.0\n",
       " 1.2158   1.2158   1.2158   1.2158      0.0      0.0      0.0      0.0\n",
       " 1.20769  1.20769  1.20769  1.20769     0.0      0.0      0.0      0.0\n",
       " 1.20374  1.20374  1.20374  1.20374  …  0.0      0.0      0.0      0.0\n",
       " 1.20182  1.20182  1.20182  1.20182     0.0      0.0      0.0      0.0\n",
       " 1.20089  1.20089  1.20089  1.20089     0.0      0.0      0.0      0.0\n",
       " 1.20043  1.20043  1.20043  1.20043     0.0      0.0      0.0      0.0\n",
       " 1.20021  1.20021  1.20021  1.20021     0.0      0.0      0.0      0.0\n",
       " 1.2001   1.2001   1.2001   1.2001   …  0.0      0.0      0.0      0.0\n",
       " 1.20005  1.20005  1.20005  1.20005     0.0      0.0      0.0      0.0\n",
       " 1.20002  1.20002  1.20002  1.20002     0.0      0.0      0.0      0.0\n",
       " ⋮                                   ⋱  ⋮                          \n",
       " 1.2      1.2      1.2      1.2         0.0      0.0      0.0      0.0\n",
       " 1.2      1.2      1.2      1.2         0.0      0.0      0.0      0.0\n",
       " 1.2      1.2      1.2      1.2      …  0.0      0.0      0.0      0.0\n",
       " 1.2      1.2      1.2      1.2         0.0      0.0      0.0      0.0\n",
       " 1.2      1.2      1.2      1.2         0.0      0.0      0.0      0.0\n",
       " 1.2      1.2      1.2      1.2         0.0      0.0      0.0      0.0\n",
       " 1.2      1.2      1.2      1.2         0.0      0.0      0.0      0.0\n",
       " 1.2      1.2      1.2      1.2      …  0.0      0.0      0.0      0.0\n",
       " 1.2      1.2      1.2      1.2         0.0      0.0      0.0      0.0\n",
       " 1.2      1.2      1.2      1.2         0.0      0.0      0.0      0.0\n",
       " 1.2      1.2      1.2      1.2         0.0      0.0      0.0      0.0\n",
       " 1.2      1.2      1.2      1.2         0.0      0.0      0.0      0.0\n",
       "\n",
       "[:, :, 2] =\n",
       " 1.27016  1.27016  1.27016  1.27016  …  1.27016  1.27016  1.27016  1.27016\n",
       " 1.20829  1.2083   1.20829  1.20829     0.0      0.0      0.0      0.0\n",
       " 1.1729   1.1729   1.17289  1.17289     0.0      0.0      0.0      0.0\n",
       " 1.15328  1.15328  1.15329  1.15329     0.0      0.0      0.0      0.0\n",
       " 1.14244  1.14244  1.14245  1.14245     0.0      0.0      0.0      0.0\n",
       " 1.13634  1.13635  1.13634  1.13636  …  0.0      0.0      0.0      0.0\n",
       " 1.13284  1.13283  1.13284  1.13283     0.0      0.0      0.0      0.0\n",
       " 1.13073  1.13073  1.13074  1.13073     0.0      0.0      0.0      0.0\n",
       " 1.12944  1.12943  1.12941  1.12942     0.0      0.0      0.0      0.0\n",
       " 1.12857  1.12857  1.12857  1.12858     0.0      0.0      0.0      0.0\n",
       " 1.128    1.128    1.128    1.12802  …  0.0      0.0      0.0      0.0\n",
       " 1.12758  1.12759  1.12759  1.1276      0.0      0.0      0.0      0.0\n",
       " 1.1273   1.12731  1.12731  1.12731     0.0      0.0      0.0      0.0\n",
       " ⋮                                   ⋱  ⋮                          \n",
       " 1.12633  1.12633  1.12633  1.12632     0.0      0.0      0.0      0.0\n",
       " 1.12632  1.12631  1.12631  1.12632     0.0      0.0      0.0      0.0\n",
       " 1.12632  1.12631  1.1263   1.12631  …  0.0      0.0      0.0      0.0\n",
       " 1.12632  1.12632  1.1263   1.12633     0.0      0.0      0.0      0.0\n",
       " 1.12631  1.12633  1.12633  1.12632     0.0      0.0      0.0      0.0\n",
       " 1.12632  1.12631  1.12631  1.1263      0.0      0.0      0.0      0.0\n",
       " 1.12633  1.12632  1.12631  1.12633     0.0      0.0      0.0      0.0\n",
       " 1.1263   1.12633  1.12631  1.12632  …  0.0      0.0      0.0      0.0\n",
       " 1.12631  1.12632  1.12633  1.12631     0.0      0.0      0.0      0.0\n",
       " 1.12632  1.12633  1.12631  1.12633     0.0      0.0      0.0      0.0\n",
       " 1.12631  1.12633  1.1263   1.12633     0.0      0.0      0.0      0.0\n",
       " 1.12631  1.12632  1.1263   1.12633     0.0      0.0      0.0      0.0\n",
       "\n",
       "[:, :, 3] =\n",
       " 1.20331  1.20331  1.20331  1.20331  …  1.20331  1.20331  1.20331  1.20331\n",
       " 1.14969  1.1497   1.14969  1.14968     0.0      0.0      0.0      0.0\n",
       " 1.11519  1.11518  1.11518  1.11518     0.0      0.0      0.0      0.0\n",
       " 1.094    1.094    1.09402  1.09401     0.0      0.0      0.0      0.0\n",
       " 1.08121  1.0812   1.08122  1.08122     0.0      0.0      0.0      0.0\n",
       " 1.07338  1.07339  1.07338  1.07341  …  0.0      0.0      0.0      0.0\n",
       " 1.06852  1.06851  1.06852  1.06851     0.0      0.0      0.0      0.0\n",
       " 1.06536  1.06536  1.06537  1.06537     0.0      0.0      0.0      0.0\n",
       " 1.06329  1.06328  1.06326  1.06327     0.0      0.0      0.0      0.0\n",
       " 1.06184  1.06183  1.06183  1.06185     0.0      0.0      0.0      0.0\n",
       " 1.06082  1.06082  1.06081  1.06084  …  0.0      0.0      0.0      0.0\n",
       " 1.06007  1.06007  1.06008  1.06008     0.0      0.0      0.0      0.0\n",
       " 1.05952  1.05953  1.05954  1.05953     0.0      0.0      0.0      0.0\n",
       " ⋮                                   ⋱  ⋮                          \n",
       " 1.05763  1.05763  1.05763  1.05762     0.0      0.0      0.0      0.0\n",
       " 1.05761  1.05761  1.05761  1.05762     0.0      0.0      0.0      0.0\n",
       " 1.05761  1.0576   1.05759  1.0576   …  0.0      0.0      0.0      0.0\n",
       " 1.05761  1.05761  1.05759  1.05762     0.0      0.0      0.0      0.0\n",
       " 1.0576   1.05762  1.05763  1.05761     0.0      0.0      0.0      0.0\n",
       " 1.05761  1.05761  1.05761  1.05759     0.0      0.0      0.0      0.0\n",
       " 1.05762  1.05761  1.05761  1.05762     0.0      0.0      0.0      0.0\n",
       " 1.05759  1.05762  1.0576   1.05761  …  0.0      0.0      0.0      0.0\n",
       " 1.05761  1.05762  1.05762  1.0576      0.0      0.0      0.0      0.0\n",
       " 1.05761  1.05763  1.0576   1.05762     0.0      0.0      0.0      0.0\n",
       " 1.0576   1.05762  1.05759  1.05763     0.0      0.0      0.0      0.0\n",
       " 1.0576   1.05762  1.05758  1.05763     0.0      0.0      0.0      0.0\n",
       "\n",
       "...\n",
       "\n",
       "[:, :, 439] =\n",
       " 0.104447  0.104447  0.104447  0.104447  …  0.104447  0.104447  0.104447\n",
       " 0.107844  0.107845  0.107845  0.107847     0.0       0.0       0.0\n",
       " 0.109687  0.10969   0.109692  0.109692     0.0       0.0       0.0\n",
       " 0.110713  0.110714  0.110712  0.110711     0.0       0.0       0.0\n",
       " 0.111153  0.111154  0.11115   0.111149     0.0       0.0       0.0\n",
       " 0.111196  0.111193  0.111193  0.111188  …  0.0       0.0       0.0\n",
       " 0.110986  0.110985  0.110982  0.11098      0.0       0.0       0.0\n",
       " 0.110644  0.110643  0.110638  0.110636     0.0       0.0       0.0\n",
       " 0.110243  0.110244  0.110243  0.110239     0.0       0.0       0.0\n",
       " 0.109842  0.109844  0.109842  0.109837     0.0       0.0       0.0\n",
       " 0.109465  0.109465  0.109464  0.109458  …  0.0       0.0       0.0\n",
       " 0.109127  0.109126  0.109125  0.109119     0.0       0.0       0.0\n",
       " 0.108832  0.108829  0.108826  0.108824     0.0       0.0       0.0\n",
       " ⋮                                       ⋱                      \n",
       " 0.107403  0.107401  0.107402  0.1074       0.0       0.0       0.0\n",
       " 0.107402  0.107401  0.107402  0.1074       0.0       0.0       0.0\n",
       " 0.107401  0.107401  0.107403  0.107401  …  0.0       0.0       0.0\n",
       " 0.1074    0.107401  0.107403  0.107399     0.0       0.0       0.0\n",
       " 0.1074    0.107399  0.1074    0.107399     0.0       0.0       0.0\n",
       " 0.107399  0.107399  0.1074    0.107401     0.0       0.0       0.0\n",
       " 0.107398  0.107399  0.1074    0.107399     0.0       0.0       0.0\n",
       " 0.107399  0.107397  0.1074    0.107399  …  0.0       0.0       0.0\n",
       " 0.107399  0.107397  0.107398  0.107399     0.0       0.0       0.0\n",
       " 0.107399  0.107396  0.107399  0.107397     0.0       0.0       0.0\n",
       " 0.107399  0.107396  0.1074    0.107396     0.0       0.0       0.0\n",
       " 0.1074    0.107396  0.107402  0.107396     0.0       0.0       0.0\n",
       "\n",
       "[:, :, 440] =\n",
       " 0.0522237  0.0522237  0.0522237  …  0.0522237  0.0522237  0.0522237\n",
       " 0.0539248  0.0539253  0.0539251     0.0        0.0        0.0\n",
       " 0.0548526  0.0548537  0.0548549     0.0        0.0        0.0\n",
       " 0.0553727  0.0553732  0.0553725     0.0        0.0        0.0\n",
       " 0.0555995  0.0555998  0.0555981     0.0        0.0        0.0\n",
       " 0.0556253  0.0556241  0.0556236  …  0.0        0.0        0.0\n",
       " 0.0555226  0.0555222  0.0555205     0.0        0.0        0.0\n",
       " 0.0553519  0.0553514  0.0553491     0.0        0.0        0.0\n",
       " 0.055151   0.0551515  0.0551511     0.0        0.0        0.0\n",
       " 0.0549489  0.05495    0.054949      0.0        0.0        0.0\n",
       " 0.0547591  0.054759   0.0547584  …  0.0        0.0        0.0\n",
       " 0.0545884  0.0545877  0.054587      0.0        0.0        0.0\n",
       " 0.0544389  0.0544375  0.0544363     0.0        0.0        0.0\n",
       " ⋮                                ⋱                        \n",
       " 0.0537159  0.0537149  0.0537156     0.0        0.0        0.0\n",
       " 0.0537156  0.0537151  0.0537154     0.0        0.0        0.0\n",
       " 0.053715   0.0537152  0.0537158  …  0.0        0.0        0.0\n",
       " 0.0537146  0.0537149  0.0537159     0.0        0.0        0.0\n",
       " 0.0537146  0.053714   0.0537146     0.0        0.0        0.0\n",
       " 0.0537141  0.0537141  0.0537145     0.0        0.0        0.0\n",
       " 0.0537135  0.0537138  0.0537143     0.0        0.0        0.0\n",
       " 0.0537142  0.0537132  0.0537143  …  0.0        0.0        0.0\n",
       " 0.0537141  0.0537131  0.0537135     0.0        0.0        0.0\n",
       " 0.0537139  0.0537125  0.0537141     0.0        0.0        0.0\n",
       " 0.0537142  0.0537123  0.0537147     0.0        0.0        0.0\n",
       " 0.0537142  0.0537123  0.0537154     0.0        0.0        0.0\n",
       "\n",
       "[:, :, 441] =\n",
       "  0.0           0.0          …  0.0  0.0  0.0  0.0  0.0  0.0  0.0\n",
       " -2.17189e-15   9.99064e-16     0.0  0.0  0.0  0.0  0.0  0.0  0.0\n",
       " -1.77637e-15   3.32785e-16     0.0  0.0  0.0  0.0  0.0  0.0  0.0\n",
       "  1.00107e-15   7.33585e-16     0.0  0.0  0.0  0.0  0.0  0.0  0.0\n",
       " -6.45075e-16   1.28955e-15     0.0  0.0  0.0  0.0  0.0  0.0  0.0\n",
       " -9.78609e-16   1.55244e-22  …  0.0  0.0  0.0  0.0  0.0  0.0  0.0\n",
       " -5.77755e-16   7.55705e-16     0.0  0.0  0.0  0.0  0.0  0.0  0.0\n",
       "  3.99995e-16   2.22156e-16     0.0  0.0  0.0  0.0  0.0  0.0  0.0\n",
       "  1.10839e-16  -8.88699e-17     0.0  0.0  0.0  0.0  0.0  0.0  0.0\n",
       "  5.77333e-16   7.77628e-16     0.0  0.0  0.0  0.0  0.0  0.0  0.0\n",
       " -1.15689e-15  -3.77386e-16  …  0.0  0.0  0.0  0.0  0.0  0.0  0.0\n",
       "  6.66906e-16   2.21847e-17     0.0  0.0  0.0  0.0  0.0  0.0  0.0\n",
       " -8.2292e-16   -6.43421e-16     0.0  0.0  0.0  0.0  0.0  0.0  0.0\n",
       "  ⋮                          ⋱                 ⋮              \n",
       " -3.32761e-16   1.77411e-16     0.0  0.0  0.0  0.0  0.0  0.0  0.0\n",
       "  1.51056e-15  -7.11649e-16     0.0  0.0  0.0  0.0  0.0  0.0  0.0\n",
       "  9.54811e-16  -1.06618e-15  …  0.0  0.0  0.0  0.0  0.0  0.0  0.0\n",
       " -8.6742e-16   -5.32824e-16     0.0  0.0  0.0  0.0  0.0  0.0  0.0\n",
       "  7.54906e-16   6.65598e-16     0.0  0.0  0.0  0.0  0.0  0.0  0.0\n",
       " -6.65046e-16   2.44225e-16     0.0  0.0  0.0  0.0  0.0  0.0  0.0\n",
       "  6.88159e-16   3.32801e-16     0.0  0.0  0.0  0.0  0.0  0.0  0.0\n",
       " -6.67443e-16  -1.11061e-16  …  0.0  0.0  0.0  0.0  0.0  0.0  0.0\n",
       " -1.33358e-15   9.30765e-16     0.0  0.0  0.0  0.0  0.0  0.0  0.0\n",
       "  1.99746e-16   5.54258e-16     0.0  0.0  0.0  0.0  0.0  0.0  0.0\n",
       "  3.11459e-16   1.06411e-15     0.0  0.0  0.0  0.0  0.0  0.0  0.0\n",
       " -1.17775e-15  -4.88728e-16     0.0  0.0  0.0  0.0  0.0  0.0  0.0"
      ]
     },
     "execution_count": 7,
     "metadata": {},
     "output_type": "execute_result"
    }
   ],
   "source": [
    "run(sess, h_t, feed_dict=Dict( tf_variables.N_k_dis => 4))"
   ]
  },
  {
   "cell_type": "code",
   "execution_count": 9,
   "metadata": {},
   "outputs": [
    {
     "data": {
      "text/plain": [
       "50×64×1 Array{Float64, 3}:\n",
       "[:, :, 1] =\n",
       " 1.78446e-9   1.78886e-9   1.78672e-9   …  1.7896e-9    1.78526e-9\n",
       " 1.49676e-9   1.49714e-9   1.49712e-9      1.50081e-9   1.49766e-9\n",
       " 1.26821e-9   1.26926e-9   1.27041e-9      1.26941e-9   1.27005e-9\n",
       " 1.09517e-9   1.09504e-9   1.09264e-9      1.09418e-9   1.09342e-9\n",
       " 9.65679e-10  9.65896e-10  9.65179e-10     9.6657e-10   9.66359e-10\n",
       " 8.77985e-10  8.76135e-10  8.78389e-10  …  8.75583e-10  8.78554e-10\n",
       " 8.14132e-10  8.15459e-10  8.14342e-10     8.14065e-10  8.1502e-10\n",
       " 7.73214e-10  7.7307e-10   7.73864e-10     7.72271e-10  7.71931e-10\n",
       " 7.43292e-10  7.42837e-10  7.44792e-10     7.43082e-10  7.42776e-10\n",
       " 7.24654e-10  7.25112e-10  7.23751e-10     7.25066e-10  7.23491e-10\n",
       " 7.09857e-10  7.09883e-10  7.11603e-10  …  7.11277e-10  7.10745e-10\n",
       " 7.01673e-10  7.02509e-10  7.01026e-10     7.00794e-10  7.01733e-10\n",
       " 6.93937e-10  6.94667e-10  6.94319e-10     6.9557e-10   6.94856e-10\n",
       " ⋮                                      ⋱               \n",
       " 6.80771e-10  6.81679e-10  6.81838e-10     6.82385e-10  6.82104e-10\n",
       " 6.82126e-10  6.82084e-10  6.81954e-10     6.81345e-10  6.81004e-10\n",
       " 6.81421e-10  6.82412e-10  6.82281e-10  …  6.80993e-10  6.81319e-10\n",
       " 6.80481e-10  6.81788e-10  6.82148e-10     6.80792e-10  6.81958e-10\n",
       " 6.82552e-10  6.80909e-10  6.80167e-10     6.81117e-10  6.80488e-10\n",
       " 6.8226e-10   6.82497e-10  6.82654e-10     6.82039e-10  6.80535e-10\n",
       " 6.80893e-10  6.81987e-10  6.81614e-10     6.82498e-10  6.81396e-10\n",
       " 6.82397e-10  6.80583e-10  6.8142e-10   …  6.82664e-10  6.8225e-10\n",
       " 6.80948e-10  6.82961e-10  6.81276e-10     6.8087e-10   6.82042e-10\n",
       " 6.81994e-10  6.81533e-10  6.82668e-10     6.80392e-10  6.81999e-10\n",
       " 6.81308e-10  6.82264e-10  6.8253e-10      6.80982e-10  6.82317e-10\n",
       " 6.8156e-10   6.81316e-10  6.823e-10       6.80793e-10  6.82201e-10"
      ]
     },
     "execution_count": 9,
     "metadata": {},
     "output_type": "execute_result"
    }
   ],
   "source": [
    "run(sess, q_t_y, feed_dict=Dict( tf_variables.N_k_dis => 64))"
   ]
  },
  {
   "cell_type": "code",
   "execution_count": null,
   "metadata": {},
   "outputs": [],
   "source": []
  },
  {
   "cell_type": "code",
   "execution_count": null,
   "metadata": {},
   "outputs": [],
   "source": []
  },
  {
   "cell_type": "code",
   "execution_count": 21,
   "metadata": {},
   "outputs": [
    {
     "data": {
      "text/plain": [
       "(PyObject <tf.Tensor 'Mul_23:0' shape=() dtype=float64>, PyObject <tf.Tensor 'Mul_21:0' shape=() dtype=float64>, PyObject <tf.Operation 'Adam' type=NoOp>, PyObject <tensorflow.contrib.opt.python.training.external_optimizer.ScipyOptimizerInterface object at 0x00000000A2514748>, PyObject <tf.Operation 'Adam_1' type=NoOp>, PyObject <tensorflow.contrib.opt.python.training.external_optimizer.ScipyOptimizerInterface object at 0x000000018E65E308>, PyObject <tf.Tensor 'Max_1:0' shape=() dtype=float64>, PyObject <tf.Variable 'Variable_6:0' shape=(1, 64) dtype=float64_ref>, PyObject <tf.Tensor 'Softmax:0' shape=(1, 64) dtype=float64>, PyObject <tensorflow.contrib.opt.python.training.external_optimizer.ScipyOptimizerInterface object at 0x000000018E6D11C8>)"
      ]
     },
     "execution_count": 21,
     "metadata": {},
     "output_type": "execute_result"
    }
   ],
   "source": [
    "loss, dw_2, opt_ADAM, opt_LFGS, opt_ADAM_sum, opt_LFGS_sum, diff_eval, p_pre_soft_max, p, opt_LFGS_x = Info_upscale(tf_variables, param_model_val, q_t_x, N_k_dis_, maxiter)\n"
   ]
  },
  {
   "cell_type": "code",
   "execution_count": null,
   "metadata": {},
   "outputs": [],
   "source": []
  }
 ],
 "metadata": {
  "kernelspec": {
   "display_name": "Julia 1.6.1",
   "language": "julia",
   "name": "julia-1.6"
  },
  "language_info": {
   "file_extension": ".jl",
   "mimetype": "application/julia",
   "name": "julia",
   "version": "1.6.1"
  },
  "orig_nbformat": 4
 },
 "nbformat": 4,
 "nbformat_minor": 2
}
