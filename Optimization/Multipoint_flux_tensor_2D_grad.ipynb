{
 "cells": [
  {
   "cell_type": "markdown",
   "metadata": {},
   "source": [
    "## Load Libraries\n",
    "\n"
   ]
  },
  {
   "cell_type": "code",
   "execution_count": 2,
   "metadata": {},
   "outputs": [
    {
     "name": "stderr",
     "output_type": "stream",
     "text": [
      "┌ Info: Precompiling Plots [91a5bcdd-55d7-5caf-9e0b-520d859cae80]\n",
      "└ @ Base loading.jl:1260\n"
     ]
    }
   ],
   "source": [
    "using ADCME\n",
    "using SparseArrays\n",
    "# using ADCMEKit\n",
    "\n",
    "using DelimitedFiles\n",
    "\n",
    "using Dates\n",
    "using Plots\n"
   ]
  },
  {
   "cell_type": "code",
   "execution_count": 3,
   "metadata": {},
   "outputs": [
    {
     "data": {
      "text/plain": [
       "10.0"
      ]
     },
     "execution_count": 3,
     "metadata": {},
     "output_type": "execute_result"
    }
   ],
   "source": [
    "1800 /180"
   ]
  },
  {
   "cell_type": "markdown",
   "metadata": {},
   "source": [
    "## Discretization Options\n"
   ]
  },
  {
   "cell_type": "code",
   "execution_count": 4,
   "metadata": {},
   "outputs": [],
   "source": [
    "exp_name = string(\"EXP_\" , Dates.format(now(), \"yyyy_mm_dd_HHMMSS\"),'_')\n",
    "\n",
    "###################### Inputs ######################\n",
    "\n",
    "Lx = 1000\n",
    "Ly = 1000\n",
    "\n",
    "T_h = 18000\n",
    "\n",
    "N_x = 21\n",
    "N_y = 21\n",
    "\n",
    "N_steps = 10\n",
    "\n",
    "N_k = 64\n",
    "\n",
    "#################### calculations ####################\n",
    "\n",
    "Ne = N_x * N_y\n",
    "\n",
    "T = T_h \n",
    "dt = T / N_steps\n",
    "\n",
    "dx = Lx / (N_x-1)\n",
    "dy = Ly / (N_y-1)\n",
    "\n",
    "x = LinRange(0,1,N_x)\n",
    "y = LinRange(0,1,N_y);\n",
    "\n",
    "## Fine scale Inputs\n",
    "\n",
    "N_steps_fine = 10\n",
    "N_k_fine = 100\n",
    "N_y_fine = 1\n",
    "\n",
    "\n",
    "\n",
    "files_x = [string(\"./data/exitq_x_\",string(ii),\".txt\") for ii =1:9]\n",
    "\n",
    "y_x_list = [readdlm(files_x[ii], ' ', Float64) for ii =1:9];\n",
    "\n",
    "files_y = [string(\"./data/exitq_y_\",string(ii),\".txt\") for ii =1:9]\n",
    "\n",
    "y_y_list = [readdlm(files_y[ii], ' ', Float64) for ii =1:9];\n",
    "\n",
    "momment2 = maximum([maximum(std(y_x_list)),maximum(std(y_y_list))])\n",
    "\n",
    "y_x_list = [y_x_list[ii][:,1:180:1800] for ii =1:9];\n",
    "y_y_list = [y_y_list[ii][:,1:180:1800] for ii =1:9];\n"
   ]
  },
  {
   "cell_type": "markdown",
   "metadata": {},
   "source": [
    "## Building matrices for applying BC\n"
   ]
  },
  {
   "cell_type": "code",
   "execution_count": 5,
   "metadata": {},
   "outputs": [],
   "source": [
    "ii_l = [i for i in 1:N_x:Ne]\n",
    "jj_l = [1 for i in 1:N_x:Ne]\n",
    "vv_l = [1. for i in 1:N_x:Ne]\n",
    "# B\n",
    "A_l_m = SparseTensor(ii_l, jj_l, vv_l, Ne, 1) \n",
    "\n",
    "ii_r = [i for i in N_x:N_x:Ne]\n",
    "jj_r = [1 for i in 1:N_x:Ne]\n",
    "vv_r = [1. for i in 1:N_x:Ne]\n",
    "A_r_m = SparseTensor(ii_r, jj_r, vv_r, Ne, 1) \n",
    "\n",
    "\n",
    "A_m = 1-Array(A_l_m)-Array(A_r_m)\n",
    "\n",
    "\n",
    "\n",
    "Vector_1 = Array(float([i%N_x!=0 && i%N_x!=N_x-1   for i in 1:Ne-1]))\n",
    "Vector_N_y = Array(float([i%N_x!=0 && i%N_x!=1   for i in 1:Ne-N_x]))\n",
    "\n",
    "Vector_0_x = [Vector_1[end:-1:1];0]+[0;Vector_1]\n",
    "Vector_0_y = [Vector_N_y;zeros(N_x)] + [zeros(N_x);Vector_N_y]\n",
    ";\n"
   ]
  },
  {
   "cell_type": "markdown",
   "metadata": {},
   "source": [
    "### Multi point flux aux matrix\n"
   ]
  },
  {
   "cell_type": "code",
   "execution_count": 6,
   "metadata": {},
   "outputs": [],
   "source": [
    "list_m2_x =Int64[]\n",
    "list_m2_y = Int64[]\n",
    "list_m2_v = Int64[]\n",
    "\n",
    "list_m3_x =Int64[]\n",
    "list_m3_y = Int64[]\n",
    "\n",
    "list_m4_x =Int64[]\n",
    "list_m4_y = Int64[]\n",
    "\n",
    "list_m5_x =Int64[]\n",
    "list_m5_y = Int64[]\n",
    " \n",
    "for jj in 0:N_y-1\n",
    "    for ii in 0:N_x-1\n",
    "        \n",
    "        \n",
    "        \n",
    "        if ii !=0 && ii !=N_x-1\n",
    "            \n",
    "            if ii+1 < N_x\n",
    "                append!(list_m2_x,Int(jj*N_x+ii+1))\n",
    "                append!(list_m2_y,(jj)*N_x+(ii+1)+1)\n",
    "                append!(list_m2_v,1)\n",
    "\n",
    "            end\n",
    "            \n",
    "            if ii >0\n",
    "                append!(list_m2_x,jj*N_x+ii+1)\n",
    "                append!(list_m2_y,(jj)*N_x+(ii-1)+1)\n",
    "            end\n",
    "            \n",
    "            \n",
    "            if jj+1 < N_y && ii+1 < N_x\n",
    "                append!(list_m3_x,jj*N_x+ii+1)\n",
    "                append!(list_m3_y,(jj+1)*N_x+(ii+1)+1)\n",
    "            end\n",
    "            \n",
    "            if jj > 0 && ii > 0\n",
    "                append!(list_m3_x,jj*N_x+ii+1)\n",
    "                append!(list_m3_y,(jj-1)*N_x+(ii-1)+1)\n",
    "            end\n",
    "            \n",
    "            \n",
    "            if jj+1 < N_y\n",
    "                append!(list_m4_x,jj*N_x+ii+1)\n",
    "                append!(list_m4_y,(jj+1)*N_x+ii+1)\n",
    "            end\n",
    "            \n",
    "            if jj >0\n",
    "                append!(list_m4_x,jj*N_x+ii+1)\n",
    "                append!(list_m4_y,(jj-1)*N_x+ii+1)\n",
    "            end\n",
    "            \n",
    "            if jj+1 < N_y && ii > 0\n",
    "                append!(list_m5_x,jj*N_x+ii+1)\n",
    "                append!(list_m5_y,(jj+1)*N_x+(ii-1)+1)\n",
    "            end\n",
    "            \n",
    "            if jj > 0 && ii+1 < N_x\n",
    "                append!(list_m5_x,jj*N_x+ii+1)\n",
    "                append!(list_m5_y,(jj-1)*N_x+(ii+1)+1)\n",
    "            end\n",
    "\n",
    "        end\n",
    "    end\n",
    "end\n",
    "\n",
    "m2_m = SparseTensor(list_m2_x,list_m2_y,ones(size(list_m2_y)),Ne,Ne)\n",
    "m3_m = SparseTensor(list_m3_x,list_m3_y,ones(size(list_m3_y)),Ne,Ne)\n",
    "m4_m = SparseTensor(list_m4_x,list_m4_y,ones(size(list_m4_y)),Ne,Ne)\n",
    "m5_m = SparseTensor(list_m5_x,list_m5_y,ones(size(list_m5_y)),Ne,Ne);\n",
    "\n",
    "\n",
    "m2_m_1 = SparseTensor(list_m2_x,list_m2_x,ones(size(list_m2_x)),Ne,Ne)\n",
    "m3_m_1 = SparseTensor(list_m3_x,list_m3_x,ones(size(list_m3_x)),Ne,Ne)\n",
    "m4_m_1 = SparseTensor(list_m4_x,list_m4_x,ones(size(list_m4_x)),Ne,Ne)\n",
    "m5_m_1 = SparseTensor(list_m5_x,list_m5_x,ones(size(list_m5_x)),Ne,Ne);"
   ]
  },
  {
   "cell_type": "markdown",
   "metadata": {},
   "source": [
    "## Functions for applying BC & IC, building matrix A\n"
   ]
  },
  {
   "cell_type": "code",
   "execution_count": 7,
   "metadata": {},
   "outputs": [],
   "source": [
    "function left_BC(t)\n",
    "    \n",
    "    t_norm = (t/T-0.5)*180\n",
    "    \n",
    "    tanh(-t_norm/500)\n",
    "    \n",
    "    end;\n",
    "\n",
    "function BC(t)\n",
    "\n",
    "    BC_right_ = zeros(N_y)\n",
    "    \n",
    "    BC_left_ = (map(tanh,LinRange(-31.5,31.5,N_y)/50) * left_BC(t))*5  .+ 1\n",
    "\n",
    "    \n",
    "    BC_left = SparseTensor(ii_l, jj_l, BC_left_, Ne, 1) \n",
    "    BC_right = SparseTensor(ii_r, jj_r, BC_right_, Ne, 1)\n",
    "    \n",
    "    \n",
    "#     constant(ones(N_y) ) + constant(1e-4 * t )\n",
    "return BC_left, BC_right, BC_left_, BC_right_\n",
    "    \n",
    "end\n",
    "\n",
    "\n",
    "function IC()\n",
    "    \n",
    "    _,_ , BC_left, Bc_right = BC(0)\n",
    "    \n",
    "    h_0 = reshape((reshape(BC_left,(N_y,1)) .- reshape(BC_left,(N_y,1)) * reshape(constant(x),(1,N_x))),(1,Ne)).* ones(N_k,1)\n",
    "return h_0\n",
    "end\n",
    "\n",
    ";"
   ]
  },
  {
   "cell_type": "markdown",
   "metadata": {},
   "source": [
    "## Basic time-loop definition\n"
   ]
  },
  {
   "cell_type": "code",
   "execution_count": 8,
   "metadata": {},
   "outputs": [],
   "source": [
    "N_k_dis = placeholder(N_k,dtype=Int32)\n",
    "\n",
    "\n",
    "N_x_ = constant(N_x,dtype=Int32)\n",
    "N_y_ = constant(N_y,dtype=Int32)\n",
    "Ne_ = constant(Ne,dtype=Int32)\n",
    "\n",
    "N_points = 9\n",
    "\n",
    "# function get_grad(h_,loc_x_p,loc_x_m,loc_y_p,loc_y_m)\n",
    "    \n",
    "  \n",
    "#     DL = sqrt(((loc_x_p-loc_x_m)*dx)^2+((loc_y_p-loc_y_m)*dy)^2)\n",
    "#     (tf.slice(h_,constant([0,(loc_y_p-1)*N_x+loc_x_p-1], dtype=Int32),[-1,1])-tf.slice(h_,constant([0,(loc_y_m-1)*N_x + (loc_x_m-1)], dtype=Int32),[-1,1]))/DL     \n",
    "    \n",
    "# end\n",
    "\n",
    "\n",
    "loc_x_list = [6,11,16, 6,11,16, 6,11,16]\n",
    "\n",
    "loc_y_list = [6, 6, 6,11,11,11,16,16,16];\n",
    "\n",
    "\n",
    "# loc_x_p_list_x = loc_x_list\n",
    "# loc_x_m_list_x = loc_x_list\n",
    "# loc_y_p_list_x = loc_y_list\n",
    "# loc_y_m_list_x = loc_y_list;\n",
    "\n",
    "\n",
    "# loc_x_p_list_y = loc_x_list\n",
    "# loc_x_m_list_y = loc_x_list\n",
    "# loc_y_p_list_y = loc_y_list\n",
    "# loc_y_m_list_y = loc_y_list;\n"
   ]
  },
  {
   "cell_type": "code",
   "execution_count": 9,
   "metadata": {},
   "outputs": [
    {
     "data": {
      "text/plain": [
       "get_ver_flux (generic function with 1 method)"
      ]
     },
     "execution_count": 9,
     "metadata": {},
     "output_type": "execute_result"
    }
   ],
   "source": [
    "function P(h_,i,j)\n",
    "    tf.slice(h_,constant([0,(j-1)*N_x+i-1], dtype=Int32),[-1,1])\n",
    "end\n",
    "    \n",
    "\n",
    "function get_hor_flux(a,b,c,h_,i,j)\n",
    "    \n",
    "    ((a    .- tf.square(c) ./(2*b)) .* (P(h_,i,j)-P(h_,i+1,j)) +\n",
    "    (c./4 .+ tf.square(c) ./(4*b)) .* (P(h_,i-1,j-1)-P(h_,i+1,j+1)) +\n",
    "    (c./4 .- tf.square(c) ./(4*b)) .* (P(h_,i-1,j+1)-P(h_,i+1,j-1)) )/dx\n",
    "end\n",
    "\n",
    "function get_ver_flux(a,b,c,h_,i,j)\n",
    "    \n",
    "    ((b    .- tf.square(c) ./(2*a)) .* (P(h_,i,j)-P(h_,i,j+1)) +\n",
    "    (c./4 .+ tf.square(c) ./(4*a)) .* (P(h_,i+1,j-1)-P(h_,i-1,j+1)) +\n",
    "    (c./4 .- tf.square(c) ./(4*a)) .* (P(h_,i-1,j-1)-P(h_,i+1,j+1)) )/dy\n",
    "\n",
    "end"
   ]
  },
  {
   "cell_type": "code",
   "execution_count": 10,
   "metadata": {},
   "outputs": [
    {
     "data": {
      "text/plain": [
       "advance_time (generic function with 1 method)"
      ]
     },
     "execution_count": 10,
     "metadata": {},
     "output_type": "execute_result"
    }
   ],
   "source": [
    "function advance_time(a,b,c,h_)\n",
    "      \n",
    "\n",
    "    h_n = TensorArray(N_k)\n",
    "    j = constant(1,dtype=Int32)\n",
    "    \n",
    "    \n",
    "    aa = tf.slice(a,[j-1,0],[1,1])[1,1]\n",
    "    bb = tf.slice(b,[j-1,0],[1,1])[1,1]\n",
    "    cc = tf.slice(c,[j-1,0],[1,1])[1,1]\n",
    "\n",
    "    dd = (2 * aa * bb) / (aa+bb) \n",
    "\n",
    "    m2 = -aa + cc^2 / dd\n",
    "    m3 = -cc/2 - cc^2 / (2 * dd)\n",
    "    m4 = -bb + cc^2 / dd\n",
    "    m5 = -cc/2 - cc^2 / (2 * dd)\n",
    "\n",
    "    A = m2 * m2_m + m3 * m3_m + m4 * m4_m + \n",
    "    m5 * m5_m + m2 * m2_m_1 + m3 * m3_m_1 +\n",
    "    m4 * m4_m_1 + m5 * m5_m_1 + spdiag(Ne)\n",
    "\n",
    "\n",
    "    function condition(j,h_n)\n",
    "        j <= N_k_dis\n",
    "    end\n",
    "\n",
    "    function body(j,h_n)   \n",
    "#         # build lhs\n",
    "        aa = tf.slice(a,[j-1,0],[1,1])[1,1]\n",
    "        bb = tf.slice(b,[j-1,0],[1,1])[1,1]\n",
    "        cc = tf.slice(c,[j-1,0],[1,1])[1,1]\n",
    "        \n",
    "        dd = (2 * aa * bb) / (aa+bb) \n",
    "        \n",
    "        m2 = -aa + cc^2 / dd\n",
    "        m3 = -cc/2 - cc^2 / (2 * dd)\n",
    "        m4 = -bb + cc^2 / dd\n",
    "        m5 = -cc/2 - cc^2 / (2 * dd)\n",
    "        \n",
    "    \n",
    "        A = m2 * m2_m + m3 * m3_m + m4 * m4_m + \n",
    "        m5 * m5_m - (m2 * m2_m_1 + m3 * m3_m_1 +\n",
    "        m4 * m4_m_1 + m5 * m5_m_1 - spdiag(Ne))      \n",
    "        \n",
    "        # solve system\n",
    "        \n",
    "        h_j = A\\h_[j]\n",
    "        \n",
    "        # update head\n",
    "        h_n = write(h_n,j,h_j)\n",
    "\n",
    "        j+1, h_n\n",
    "    end\n",
    "\n",
    "    _, out = while_loop(condition, body, [j, h_n])\n",
    "\n",
    "\n",
    "    return stack(out)\n",
    "\n",
    "end\n"
   ]
  },
  {
   "cell_type": "markdown",
   "metadata": {},
   "source": [
    "### Time loop change calculation of flux to multipoint"
   ]
  },
  {
   "cell_type": "markdown",
   "metadata": {},
   "source": [
    "### Initialization of the problem\n"
   ]
  },
  {
   "cell_type": "code",
   "execution_count": 11,
   "metadata": {},
   "outputs": [],
   "source": [
    "h_IC = IC()\n",
    "\n",
    "\n",
    "h_t = TensorArray(N_steps)\n",
    "h_t = write(h_t, 1,constant(h_IC))\n",
    "\n",
    "k_x_t_log = Variable(ones(N_k,N_steps)*log(1e-2).+ 0.0.*(0.0 .+ 5e-4 .* (0.5 .- rand(N_k,N_steps))))\n",
    "k_x_t = tf.exp(k_x_t_log)\n",
    "\n",
    "k_y_t_log = Variable(ones(N_k,N_steps)*log(1e-2).+ 0.0.*(0.0 .+ 5e-4 .* (0.5 .- rand(N_k,N_steps))))\n",
    "k_y_t = tf.exp(k_y_t_log)\n",
    "\n",
    "# make it tanh\n",
    "k_xy_t_log = Variable(zeros(N_k,N_steps)  .+ 4e-2.*(0.5 .- rand(N_k,N_steps)))\n",
    "k_xy_t = tf.tanh(k_xy_t_log) .* k_x_t^0.5 .* k_y_t^0.5\n",
    "# k_xy_t = k_xy_t_log .* k_x_t^0.5 .* k_y_t^0.5\n",
    "\n",
    "k_x = tf.slice(k_x_t,constant([0,0],dtype=Int32),[-1,1]) \n",
    "k_y = tf.slice(k_y_t,constant([0,0],dtype=Int32),[-1,1]) \n",
    "k_xy = tf.slice(k_xy_t,constant([0,0],dtype=Int32),[-1,1]) \n",
    "\n",
    "\n",
    "    \n",
    "q_t_x = [TensorArray(N_steps) for ii = 1:N_points]\n",
    "q_t_y = [TensorArray(N_steps) for ii = 1:N_points];\n"
   ]
  },
  {
   "cell_type": "code",
   "execution_count": 12,
   "metadata": {},
   "outputs": [],
   "source": [
    "q_x = [get_hor_flux(k_x,k_y,k_xy,h_IC,loc_x_list[ii],loc_y_list[ii]) for ii in 1:length(loc_x_list)]\n",
    "q_y = [get_ver_flux(k_x,k_y,k_xy,h_IC,loc_x_list[ii],loc_y_list[ii]) for ii in 1:length(loc_x_list)]\n",
    "\n",
    "q_t_x = [write(q_t_x[ii],1,q_x[ii]) for ii = 1:N_points];\n",
    "q_t_y = [write(q_t_y[ii],1,q_y[ii]) for ii = 1:N_points];\n",
    "    "
   ]
  },
  {
   "cell_type": "code",
   "execution_count": 13,
   "metadata": {},
   "outputs": [
    {
     "data": {
      "text/plain": [
       "PyObject <tensorflow.python.ops.tensor_array_ops.TensorArray object at 0x7f8f37786b10>"
      ]
     },
     "execution_count": 13,
     "metadata": {},
     "output_type": "execute_result"
    }
   ],
   "source": [
    "check_qt = TensorArray(N_steps)"
   ]
  },
  {
   "cell_type": "code",
   "execution_count": 14,
   "metadata": {},
   "outputs": [
    {
     "data": {
      "text/plain": [
       "PyObject <tensorflow.python.ops.tensor_array_ops.TensorArray object at 0x7f8f1a9a1cd0>"
      ]
     },
     "execution_count": 14,
     "metadata": {},
     "output_type": "execute_result"
    }
   ],
   "source": [
    "q_check = get_hor_flux(k_x,k_y,k_xy,h_IC,11,11)/(dx*dy)-get_hor_flux(k_x,k_y,k_xy,h_IC,12,11)/(dx*dy)+\n",
    "          get_ver_flux(k_x,k_y,k_xy,h_IC,11,11)/(dx*dy)-get_ver_flux(k_x,k_y,k_xy,h_IC,11,12)/(dx*dy)\n",
    "\n",
    "check_qt = write(check_qt,1,q_check)"
   ]
  },
  {
   "cell_type": "code",
   "execution_count": 15,
   "metadata": {},
   "outputs": [],
   "source": [
    "i = constant(2, dtype=Int32)\n",
    "\n",
    "S = 1e-6\n",
    "\n",
    "function condition(i, h_t, q_t_x, q_t_y,check_qt)\n",
    "    i<= N_steps\n",
    "end\n",
    "\n",
    "function body(i, h_t, q_t_x, q_t_y, check_qt)\n",
    "    \n",
    "    \n",
    "    \n",
    "    # calculate time\n",
    "    t = cast(i-1,Float64)*dt\n",
    "\n",
    "    # build rhs\n",
    "    h_rhs = read(h_t, i-1)\n",
    "    BC_left, BC_right = BC(t)\n",
    "    h_rhs = h_rhs .* A_m[:,1] + Array(BC_left)[:,1] + Array(BC_right)[:,1]\n",
    "\n",
    "    #extract permiabillityh\n",
    "    k_x = tf.slice(k_x_t,[0,i-1],[-1,1]) \n",
    "    k_y = tf.slice(k_y_t,[0,i-1],[-1,1])\n",
    "    k_xy = tf.slice(k_xy_t,[0,i-1],[-1,1])\n",
    "\n",
    "    # advance time\n",
    "    h_next = advance_time(k_x/S,k_y/S,k_xy/S,h_rhs)\n",
    "\n",
    "    # # # update hydraulic head\n",
    "    h_t = write(h_t, i, h_next)\n",
    "\n",
    "    q_x = [get_hor_flux(k_x,k_y,k_xy,h_next,loc_x_list[ii],loc_y_list[ii]) for ii in 1:length(loc_x_list)]\n",
    "    q_y = [get_ver_flux(k_x,k_y,k_xy,h_next,loc_x_list[ii],loc_y_list[ii]) for ii in 1:length(loc_x_list)]\n",
    "    \n",
    "    \n",
    "    q_t_x = [write(q_t_x[ii],i,q_x[ii]) for ii = 1:N_points];\n",
    "    q_t_y = [write(q_t_y[ii],i,q_y[ii]) for ii = 1:N_points];\n",
    "    \n",
    "    \n",
    "    q_check = get_hor_flux(k_x,k_y,k_xy,h_next,11,11)/(dx*dy)-get_hor_flux(k_x,k_y,k_xy,h_next,12,11)/(dx*dy)+\n",
    "              get_ver_flux(k_x,k_y,k_xy,h_next,11,11)/(dx*dy)-get_ver_flux(k_x,k_y,k_xy,h_next,11,12)/(dx*dy)\n",
    "\n",
    "    check_qt = write(check_qt,i,q_check)\n",
    "        \n",
    "    i+1, h_t, q_t_x, q_t_y, check_qt\n",
    "    \n",
    "end\n",
    "\n",
    "_, out, outx, outy, outcheck = while_loop(condition, body, [i, h_t,q_t_x, q_t_y, check_qt])\n",
    "\n",
    "h_t = stack(out)\n",
    "\n",
    "q_t_x = [stack(outx[i]) for i=1:N_points]\n",
    "q_t_y = [stack(outy[i]) for i=1:N_points];\n"
   ]
  },
  {
   "cell_type": "markdown",
   "metadata": {},
   "source": [
    "### Initiilze Descrite Probabilities\n"
   ]
  },
  {
   "cell_type": "code",
   "execution_count": 16,
   "metadata": {},
   "outputs": [
    {
     "data": {
      "text/plain": [
       "PyObject <tf.Tensor 'PlaceholderWithDefault_2:0' shape=(1,) dtype=float64>"
      ]
     },
     "execution_count": 16,
     "metadata": {},
     "output_type": "execute_result"
    }
   ],
   "source": [
    "N_k_dis_ = 4\n",
    "\n",
    "p_pre_soft_max_values = ones(1,N_k) .+ (1e0 .* rand(1,N_k)) ;\n",
    "\n",
    "for i = 1:N_k_dis_\n",
    "\n",
    "p_pre_soft_max_values[1,i] +=100\n",
    "end\n",
    "\n",
    "p_pre_soft_max = tf.Variable(p_pre_soft_max_values)\n",
    "p = tf.nn.softmax(p_pre_soft_max,1)\n",
    "\n",
    "\n",
    "lambda = placeholder(ones(1))"
   ]
  },
  {
   "cell_type": "markdown",
   "metadata": {},
   "source": [
    "### Loss Function Definition\n"
   ]
  },
  {
   "cell_type": "code",
   "execution_count": 17,
   "metadata": {},
   "outputs": [
    {
     "data": {
      "text/plain": [
       "loss_function (generic function with 1 method)"
      ]
     },
     "execution_count": 17,
     "metadata": {},
     "output_type": "execute_result"
    }
   ],
   "source": [
    "function loss_function(y_t,q_t)\n",
    "    \n",
    "    \n",
    "    q_t = tf.slice(q_t,constant([0,0,0],dtype=Int32),constant([-1,-1,1],dtype=Int32))\n",
    "\n",
    "    dw = tf.squared_difference(constant(reshape(y_t,(N_steps,N_k_fine,1))),constant(reshape(q_t,(N_steps,1,N_k))))\n",
    "\n",
    "\n",
    "    dw_2_sum = tf.reduce_mean(dw) * 1e20\n",
    "\n",
    "\n",
    "    dw_2_mean = tf.reduce_sum(tf.reduce_mean(dw,axis=0).*p)/N_k_fine\n",
    "    momment2 = reshape(std(y_t,dims=1),(N_steps,1,1)).^2;\n",
    "\n",
    "\n",
    "    dw = tf.reduce_sum(dw ./ momment2,axis=0)\n",
    "#     dw = tf.reduce_sum(dw ,axis=0)\n",
    "\n",
    "\n",
    "    dw_min = tf.reduce_min(dw,1,keepdims=true)\n",
    "    dw_m_min = -dw + dw_min\n",
    "\n",
    "\n",
    "\n",
    "    F = p .* tf.exp(dw_m_min/lambda)\n",
    "\n",
    "    F = tf.reduce_sum(F,1,keep_dims=true)\n",
    "\n",
    "    F = tf.log(F)- dw_min/lambda\n",
    "\n",
    "    loss = - tf.reduce_sum(F)/N_k_fine\n",
    "\n",
    "\n",
    "    return loss , dw_2_sum\n",
    "end\n",
    "\n",
    "\n"
   ]
  },
  {
   "cell_type": "code",
   "execution_count": 18,
   "metadata": {},
   "outputs": [
    {
     "data": {
      "text/plain": [
       "PyObject <tf.Tensor 'add_86:0' shape=() dtype=float64>"
      ]
     },
     "execution_count": 18,
     "metadata": {},
     "output_type": "execute_result"
    }
   ],
   "source": [
    "loss_x_list = [loss_function(y_x_list[ii],q_t_x[ii]) for ii = 1:N_points]\n",
    "loss_y_list = [loss_function(y_y_list[ii],q_t_y[ii]) for ii = 1:N_points];\n",
    "\n",
    "loss_x = loss_x_list[5][1] #+ loss_x_list[4][1] \n",
    "loss_y = loss_y_list[5][1] #+ loss_y_list[4][1] \n",
    "\n",
    "\n",
    "loss = loss_x + loss_y \n",
    "# loss = loss_y\n",
    "\n",
    "dw_x = loss_x_list[5][2]# + loss_x_list[4][2] \n",
    "dw_y = loss_y_list[5][2]# + loss_x_list[4][2] \n",
    "\n",
    "\n",
    "dw_2_sum = dw_x + dw_y"
   ]
  },
  {
   "cell_type": "markdown",
   "metadata": {},
   "source": [
    "## Metric for CDF spreading\n"
   ]
  },
  {
   "cell_type": "code",
   "execution_count": 19,
   "metadata": {},
   "outputs": [
    {
     "data": {
      "text/plain": [
       "PyObject <tf.Tensor 'Max_1:0' shape=() dtype=float64>"
      ]
     },
     "execution_count": 19,
     "metadata": {},
     "output_type": "execute_result"
    }
   ],
   "source": [
    "sort_list = [tf.sort(tf.slice(q_t_x[ii],[0,0,0],[N_steps,N_k_dis,1]),axis=1) for ii=5]\n",
    "\n",
    "diff_list = [tf.reduce_max(tf.reduce_min((tf.slice(sort_list[ii],[0,1,0],[-1,-1,-1])-(tf.slice(sort_list[ii],[0,0,0],[-1,N_k_dis-1,-1])))./tf.reduce_mean(sort_list[ii],axis=1,keep_dims=true),axis=1)) for ii =1]\n",
    "\n",
    "\n",
    "\n",
    "diff_eval =  tf.reduce_max(tf.stack(diff_list))\n",
    "\n",
    "\n",
    "# sort = tf.sort(tf.slice(q_t_x[5],[0,0,0],[N_steps,N_k_dis,1]),axis=1)\n",
    "# diff = tf.reduce_max(tf.reduce_min((tf.slice(sort,[0,1,0],[-1,-1,-1])-(tf.slice(sort,[0,0,0],[-1,N_k_dis-1,-1])))./tf.reduce_mean(sort,axis=1,keep_dims=true),axis=1))\n"
   ]
  },
  {
   "cell_type": "markdown",
   "metadata": {},
   "source": [
    "## Loss function optimization"
   ]
  },
  {
   "cell_type": "code",
   "execution_count": 20,
   "metadata": {},
   "outputs": [
    {
     "data": {
      "text/plain": [
       "PyObject <tensorflow.contrib.opt.python.training.external_optimizer.ScipyOptimizerInterface object at 0x7f8e81d4fe90>"
      ]
     },
     "execution_count": 20,
     "metadata": {},
     "output_type": "execute_result"
    }
   ],
   "source": [
    "opt_ADAM = tf.train.AdamOptimizer(learning_rate=0.001).minimize(loss* 1e5) \n",
    "\n",
    "opt_LFGS = ScipyOptimizerInterface(loss; method=\"L-BFGS-B\", options=Dict(\"maxiter\"=> 400, \"ftol\"=>1e-10, \"gtol\"=>1e-8))\n",
    "\n",
    "opt_ADAM_sum = tf.train.AdamOptimizer(learning_rate=0.001).minimize(dw_2_sum)\n",
    "\n",
    "opt_LFGS_sum = ScipyOptimizerInterface(dw_2_sum * 1e5; method=\"L-BFGS-B\", options=Dict(\"maxiter\"=> 200, \"ftol\"=>1e-12, \"gtol\"=>1e-16))\n"
   ]
  },
  {
   "cell_type": "code",
   "execution_count": 21,
   "metadata": {},
   "outputs": [],
   "source": [
    "# opt_LFGS._packed_var\n",
    "\n",
    "# opt_LFGS._packed_loss_grad\n",
    "# opt = tf.train.AdamOptimizer(learning_rate=0.001)\n",
    "# grads_and_vars = opt.compute_gradients(loss,k_x_t_log)\n",
    "# opt_check = opt.apply_gradients(grads_and_vars)\n",
    "\n",
    "# opt = GradientDescentOptimizer(learning_rate=0.1)\n",
    "\n",
    "# # Compute the gradients for a list of variables.\n",
    "# grads_and_vars = opt.compute_gradients(loss, <list of variables>)\n",
    "\n",
    "# # grads_and_vars is a list of tuples (gradient, variable).  Do whatever you\n",
    "# # need to the 'gradient' part, for example cap them, etc.\n",
    "# capped_grads_and_vars = [(MyCapper(gv[0]), gv[1]) for gv in grads_and_vars]\n",
    "\n",
    "# # Ask the optimizer to apply the capped gradients.\n",
    "# opt.apply_gradients(capped_grads_and_vars)\n",
    "\n",
    "# run(sess,opt_check,feed_dict = Dict(lambda => ones(1)*T_,N_k_dis=>4))\n"
   ]
  },
  {
   "cell_type": "markdown",
   "metadata": {},
   "source": [
    "## Session Initialization\n"
   ]
  },
  {
   "cell_type": "code",
   "execution_count": 22,
   "metadata": {
    "scrolled": true
   },
   "outputs": [
    {
     "name": "stderr",
     "output_type": "stream",
     "text": [
      "2021-01-12 19:07:51.344170: I tensorflow/core/platform/cpu_feature_guard.cc:142] Your CPU supports instructions that this TensorFlow binary was not compiled to use: SSE4.1 SSE4.2 AVX AVX2 FMA\n",
      "2021-01-12 19:07:51.367409: I tensorflow/core/platform/profile_utils/cpu_utils.cc:94] CPU Frequency: 2599990000 Hz\n",
      "2021-01-12 19:07:51.368055: I tensorflow/compiler/xla/service/service.cc:168] XLA service 0x55b5dbc249e0 initialized for platform Host (this does not guarantee that XLA will be used). Devices:\n",
      "2021-01-12 19:07:51.368068: I tensorflow/compiler/xla/service/service.cc:176]   StreamExecutor device (0): Host, Default Version\n",
      "2021-01-12 19:07:51.369634: I tensorflow/stream_executor/platform/default/dso_loader.cc:44] Successfully opened dynamic library libcuda.so.1\n",
      "2021-01-12 19:07:51.462131: I tensorflow/stream_executor/cuda/cuda_gpu_executor.cc:983] successful NUMA node read from SysFS had negative value (-1), but there must be at least one NUMA node, so returning NUMA node zero\n",
      "2021-01-12 19:07:51.462467: I tensorflow/compiler/xla/service/service.cc:168] XLA service 0x55b5db072620 initialized for platform CUDA (this does not guarantee that XLA will be used). Devices:\n",
      "2021-01-12 19:07:51.462479: I tensorflow/compiler/xla/service/service.cc:176]   StreamExecutor device (0): GeForce GTX 1650, Compute Capability 7.5\n",
      "2021-01-12 19:07:51.462601: I tensorflow/stream_executor/cuda/cuda_gpu_executor.cc:983] successful NUMA node read from SysFS had negative value (-1), but there must be at least one NUMA node, so returning NUMA node zero\n",
      "2021-01-12 19:07:51.462837: I tensorflow/core/common_runtime/gpu/gpu_device.cc:1618] Found device 0 with properties: \n",
      "name: GeForce GTX 1650 major: 7 minor: 5 memoryClockRate(GHz): 1.56\n",
      "pciBusID: 0000:01:00.0\n",
      "2021-01-12 19:07:51.462985: I tensorflow/stream_executor/platform/default/dso_loader.cc:44] Successfully opened dynamic library libcudart.so.10.0\n",
      "2021-01-12 19:07:51.463796: I tensorflow/stream_executor/platform/default/dso_loader.cc:44] Successfully opened dynamic library libcublas.so.10.0\n",
      "2021-01-12 19:07:51.464536: I tensorflow/stream_executor/platform/default/dso_loader.cc:44] Successfully opened dynamic library libcufft.so.10.0\n",
      "2021-01-12 19:07:51.464708: I tensorflow/stream_executor/platform/default/dso_loader.cc:44] Successfully opened dynamic library libcurand.so.10.0\n",
      "2021-01-12 19:07:51.465717: I tensorflow/stream_executor/platform/default/dso_loader.cc:44] Successfully opened dynamic library libcusolver.so.10.0\n",
      "2021-01-12 19:07:51.466494: I tensorflow/stream_executor/platform/default/dso_loader.cc:44] Successfully opened dynamic library libcusparse.so.10.0\n",
      "2021-01-12 19:07:51.468710: I tensorflow/stream_executor/platform/default/dso_loader.cc:44] Successfully opened dynamic library libcudnn.so.7\n",
      "2021-01-12 19:07:51.468792: I tensorflow/stream_executor/cuda/cuda_gpu_executor.cc:983] successful NUMA node read from SysFS had negative value (-1), but there must be at least one NUMA node, so returning NUMA node zero\n",
      "2021-01-12 19:07:51.469082: I tensorflow/stream_executor/cuda/cuda_gpu_executor.cc:983] successful NUMA node read from SysFS had negative value (-1), but there must be at least one NUMA node, so returning NUMA node zero\n",
      "2021-01-12 19:07:51.469300: I tensorflow/core/common_runtime/gpu/gpu_device.cc:1746] Adding visible gpu devices: 0\n",
      "2021-01-12 19:07:51.469328: I tensorflow/stream_executor/platform/default/dso_loader.cc:44] Successfully opened dynamic library libcudart.so.10.0\n",
      "2021-01-12 19:07:51.469664: I tensorflow/core/common_runtime/gpu/gpu_device.cc:1159] Device interconnect StreamExecutor with strength 1 edge matrix:\n",
      "2021-01-12 19:07:51.469671: I tensorflow/core/common_runtime/gpu/gpu_device.cc:1165]      0 \n",
      "2021-01-12 19:07:51.469675: I tensorflow/core/common_runtime/gpu/gpu_device.cc:1178] 0:   N \n",
      "2021-01-12 19:07:51.469744: I tensorflow/stream_executor/cuda/cuda_gpu_executor.cc:983] successful NUMA node read from SysFS had negative value (-1), but there must be at least one NUMA node, so returning NUMA node zero\n",
      "2021-01-12 19:07:51.469999: I tensorflow/stream_executor/cuda/cuda_gpu_executor.cc:983] successful NUMA node read from SysFS had negative value (-1), but there must be at least one NUMA node, so returning NUMA node zero\n",
      "2021-01-12 19:07:51.470234: I tensorflow/core/common_runtime/gpu/gpu_device.cc:1304] Created TensorFlow device (/job:localhost/replica:0/task:0/device:GPU:0 with 3141 MB memory) -> physical GPU (device: 0, name: GeForce GTX 1650, pci bus id: 0000:01:00.0, compute capability: 7.5)\n"
     ]
    }
   ],
   "source": [
    "sess = Session(); init(sess)"
   ]
  },
  {
   "cell_type": "markdown",
   "metadata": {},
   "source": [
    "## Function for storing & updating variables\n"
   ]
  },
  {
   "cell_type": "code",
   "execution_count": 23,
   "metadata": {},
   "outputs": [
    {
     "data": {
      "text/plain": [
       "plot_cdf (generic function with 1 method)"
      ]
     },
     "execution_count": 23,
     "metadata": {},
     "output_type": "execute_result"
    }
   ],
   "source": [
    "function update_K_p(check_diff,N_k_dis_)\n",
    "\n",
    "    \n",
    "print(\"function for update K:\",check_diff,\"\\t\",N_k_dis_,\"\\n\")\n",
    "if check_diff > 5e-2 && N_k_dis_ < N_k\n",
    "        \n",
    "        \n",
    "    k_x_t_update = run(sess,k_x_t_log) \n",
    "    k_x_t_update[N_k_dis_+1:N_k_dis_*2,:] = k_x_t_update[1:N_k_dis_,:] \n",
    "    k_x_t_update = k_x_t_update .+ (0.0 .+ 5e-4 .* (0.5 .- rand(N_k,N_steps)))\n",
    "    run(sess,tf.assign(k_x_t_log,k_x_t_update));\n",
    "    \n",
    "    k_y_t_update = run(sess,k_y_t_log) \n",
    "    k_y_t_update[N_k_dis_+1:N_k_dis_*2,:] = k_y_t_update[1:N_k_dis_,:] \n",
    "    k_y_t_update = k_y_t_update .+ (0.0 .+ 5e-4.* (0.5 .- rand(N_k,N_steps)))\n",
    "    run(sess,tf.assign(k_y_t_log,k_y_t_update));   \n",
    "        \n",
    "    k_xy_t_update = run(sess,k_xy_t_log) \n",
    "    k_xy_t_update[N_k_dis_+1:N_k_dis_*2,:] = k_xy_t_update[1:N_k_dis_,:] \n",
    "    k_xy_t_update = k_xy_t_update .+ (0.0 .+ 5e-4 .* (0.5 .- rand(N_k,N_steps)))\n",
    "    run(sess,tf.assign(k_x_t_log,k_x_t_update));\n",
    "\n",
    "    p_pre_soft_max_update = run(sess,p_pre_soft_max) \n",
    "    p_pre_soft_max_update[:,N_k_dis_+1:N_k_dis_*2] = p_pre_soft_max_update[:,1:N_k_dis_] \n",
    "    p_pre_soft_max_update = p_pre_soft_max_update .* (1.0 .+ 5e-3 *  (rand(1,N_k).-0.5))\n",
    "    run(sess,tf.assign(p_pre_soft_max,p_pre_soft_max_update));\n",
    "    \n",
    "    N_k_dis_ *=2\n",
    "else\n",
    "    k_x_t_update = run(sess,k_x_t_log) .+ (0.0 .+5e-3 *  (rand(N_k,N_steps).-0.5));\n",
    "    run(sess,tf.assign(k_x_t_log,k_x_t_update));\n",
    "        \n",
    "    k_y_t_update = run(sess,k_y_t_log) .+ (0.0 .+5e-3 *  (rand(N_k,N_steps).-0.5));\n",
    "    run(sess,tf.assign(k_y_t_log,k_y_t_update));\n",
    "        \n",
    "    k_xy_t_update = run(sess,k_xy_t_log) .+ (0.0 .+5e-4 *  (rand(N_k,N_steps).-0.5));\n",
    "    run(sess,tf.assign(k_xy_t_log,k_xy_t_update));\n",
    "        \n",
    "    p_pre_soft_max_update = run(sess,p_pre_soft_max) .* (1 .+5e-3 *  (rand(1,N_k).-0.5));\n",
    "    run(sess,tf.assign(p_pre_soft_max,p_pre_soft_max_update));\n",
    "end\n",
    "    \n",
    "    \n",
    "    \n",
    "return N_k_dis_\n",
    "end\n",
    "\n",
    "\n",
    "\n",
    "function plot_cdf()\n",
    "\n",
    "q_t_ = run(sess,q_t,feed_dict = Dict(lambda => ones(1)*T_,N_k_dis=>64.0))\n",
    "p_ = run(sess,p,feed_dict = Dict(lambda => ones(1)*T_,N_k_dis=>64.0))\n",
    "\n",
    "\n",
    "ind  = sortperm(q_t_[time_step,:,1])\n",
    "\n",
    "plot!(q_t_[time_step,ind,1],cumsum(p_[1,ind]))\n",
    "\n",
    "\n",
    "    \n",
    "end"
   ]
  },
  {
   "cell_type": "code",
   "execution_count": 24,
   "metadata": {},
   "outputs": [
    {
     "data": {
      "text/plain": [
       "1.0e10"
      ]
     },
     "execution_count": 24,
     "metadata": {},
     "output_type": "execute_result"
    }
   ],
   "source": [
    "N_k_dis_ = 4\n",
    "\n",
    "T_exp = -10\n",
    "\n",
    "\n",
    "T_=  10.0 .^ -T_exp"
   ]
  },
  {
   "cell_type": "markdown",
   "metadata": {},
   "source": [
    "## Initialization with average\n"
   ]
  },
  {
   "cell_type": "code",
   "execution_count": 25,
   "metadata": {},
   "outputs": [],
   "source": [
    "\n",
    "ScipyOptimizerMinimize(sess, opt_LFGS_sum,feed_dict = Dict(lambda => ones(1)*T_,N_k_dis=>16))\n",
    "\n"
   ]
  },
  {
   "cell_type": "code",
   "execution_count": 26,
   "metadata": {},
   "outputs": [
    {
     "data": {
      "text/plain": [
       "0.0012278904332035762"
      ]
     },
     "execution_count": 26,
     "metadata": {},
     "output_type": "execute_result"
    }
   ],
   "source": [
    "check_diff = run(sess,diff_eval,feed_dict = Dict(lambda => ones(1)*T_,N_k_dis=>N_k_dis_))"
   ]
  },
  {
   "cell_type": "markdown",
   "metadata": {},
   "source": [
    "## Initialize cdf\n"
   ]
  },
  {
   "cell_type": "code",
   "execution_count": 27,
   "metadata": {},
   "outputs": [],
   "source": [
    "# time_step = 5\n",
    "\n",
    "# ind  = sortperm(y_t_list[5][time_step,:])\n",
    "\n",
    "# plot(y_t[time_step,ind],LinRange(0,1,N_k_fine))\n",
    "\n",
    "# plot_cdf()\n"
   ]
  },
  {
   "cell_type": "markdown",
   "metadata": {},
   "source": [
    "## Initialize Save txt\n"
   ]
  },
  {
   "cell_type": "code",
   "execution_count": 28,
   "metadata": {},
   "outputs": [],
   "source": [
    "k_x_save = run(sess,k_x_t)\n",
    "\n",
    "k_y_save = run(sess,k_y_t)\n",
    "\n",
    "p_save = run(sess,p)\n",
    "\n",
    "q_x_save = run(sess,q_t_x[5])\n",
    "\n",
    "q_y_save = run(sess,q_t_y[5])\n",
    "\n",
    "\n",
    "open(string(exp_name,\"k_x.txt\"), \"w\") do io\n",
    "           writedlm(io, k_x_save)\n",
    "end\n",
    "\n",
    "\n",
    "open(string(exp_name,\"k_y.txt\"), \"w\") do io\n",
    "           writedlm(io, k_y_save)\n",
    "end\n",
    "\n",
    "open(string(exp_name,\"p.txt\"), \"w\") do io\n",
    "           writedlm(io, p_save)\n",
    "end\n",
    "\n",
    "\n",
    "open(string(exp_name,\"q_x.txt\"), \"w\") do io\n",
    "           writedlm(io, q_x_save)\n",
    "end\n",
    "\n",
    "open(string(exp_name,\"q_y.txt\"), \"w\") do io\n",
    "           writedlm(io, q_y_save)\n",
    "end\n"
   ]
  },
  {
   "cell_type": "code",
   "execution_count": 29,
   "metadata": {},
   "outputs": [
    {
     "data": {
      "text/plain": [
       "0"
      ]
     },
     "execution_count": 29,
     "metadata": {},
     "output_type": "execute_result"
    }
   ],
   "source": [
    "T_exp_final = 0"
   ]
  },
  {
   "cell_type": "code",
   "execution_count": 30,
   "metadata": {},
   "outputs": [
    {
     "data": {
      "text/plain": [
       "-4"
      ]
     },
     "execution_count": 30,
     "metadata": {},
     "output_type": "execute_result"
    }
   ],
   "source": [
    "T_exp_final = T_exp+6"
   ]
  },
  {
   "cell_type": "code",
   "execution_count": 31,
   "metadata": {
    "scrolled": true
   },
   "outputs": [
    {
     "name": "stdout",
     "output_type": "stream",
     "text": [
      "-10\t1.0e10\t0.0012278904332035762\t2.4995779161257317e-9\t\t4\n",
      "function for update K:0.0012278904332035762\t4\n",
      "-10\t1.0e10\t0.0007342783293975189\t2.500053746839446e-9\t\t4\n",
      "-10\t1.0e10\t0.0007342783293975189\t2.500053746839446e-9\t\t4\n",
      "-9.9\t7.943282347242822e9\t0.0007342783293975189\t3.147381272995797e-9\t\t4\n",
      "function for update K:0.0007342783293975189\t4\n",
      "-9.9\t7.943282347242822e9\t0.001884286194683399\t3.147244199750968e-9\t\t4\n",
      "-9.9\t7.943282347242822e9\t0.001884286194683399\t3.147244199750968e-9\t\t4\n",
      "-9.8\t6.309573444801943e9\t0.001884286194683399\t3.962145738876757e-9\t\t4\n",
      "function for update K:0.001884286194683399\t4\n",
      "-9.8\t6.309573444801943e9\t0.0020642885002024997\t3.962202167556645e-9\t\t4\n",
      "-9.8\t6.309573444801943e9\t0.0020642885002024997\t3.962202167556645e-9\t\t4\n",
      "-9.700000000000001\t5.011872336272736e9\t0.0020642885002024997\t4.988117000695314e-9\t\t4\n",
      "function for update K:0.0020642885002024997\t4\n",
      "-9.700000000000001\t5.011872336272736e9\t0.0019480574075711806\t4.988588917166872e-9\t\t4\n",
      "-9.700000000000001\t5.011872336272736e9\t0.0019480574075711806\t4.988588917166872e-9\t\t4\n",
      "-9.600000000000001\t3.9810717055349855e9\t0.0019480574075711806\t6.280261339602866e-9\t\t4\n",
      "function for update K:0.0019480574075711806\t4\n",
      "-9.600000000000001\t3.9810717055349855e9\t0.0023932760819497423\t6.280253063094063e-9\t\t4\n",
      "-9.600000000000001\t3.9810717055349855e9\t0.0023932760819497423\t6.280253063094063e-9\t\t4\n",
      "-9.500000000000002\t3.162277660168392e9\t0.0023932760819497423\t7.906370237850346e-9\t\t4\n",
      "function for update K:0.0023932760819497423\t4\n",
      "-9.500000000000002\t3.162277660168392e9\t0.0040521990916647065\t7.906910166078505e-9\t\t4\n",
      "-9.500000000000002\t3.162277660168392e9\t0.0040521990916647065\t7.906910166078505e-9\t\t4\n",
      "-9.400000000000002\t2.5118864315095925e9\t0.0040521990916647065\t9.954210168410186e-9\t\t4\n",
      "function for update K:0.0040521990916647065\t4\n",
      "-9.400000000000002\t2.5118864315095925e9\t0.003760842492932507\t9.954286003087779e-9\t\t4\n",
      "-9.400000000000002\t2.5118864315095925e9\t0.003760842492932507\t9.954286003087779e-9\t\t4\n",
      "-9.300000000000002\t1.9952623149688911e9\t0.003760842492932507\t1.2531703587793737e-8\t\t4\n",
      "function for update K:0.003760842492932507\t4\n",
      "-9.300000000000002\t1.9952623149688911e9\t0.003764179411540777\t1.2531050208353936e-8\t\t4\n",
      "-9.300000000000002\t1.9952623149688911e9\t0.003764179411540777\t1.2531050208353936e-8\t\t4\n",
      "-9.200000000000003\t1.584893192461124e9\t0.003764179411540777\t1.5775657546477648e-8\t\t4\n",
      "function for update K:0.003764179411540777\t4\n",
      "-9.200000000000003\t1.584893192461124e9\t0.004483215139239754\t1.5775785058128274e-8\t\t4\n",
      "-9.200000000000003\t1.584893192461124e9\t0.004483215139239754\t1.5775785058128274e-8\t\t4\n",
      "-9.100000000000003\t1.2589254117941766e9\t0.004483215139239754\t1.9860536652121083e-8\t\t4\n",
      "function for update K:0.004483215139239754\t4\n",
      "-9.100000000000003\t1.2589254117941766e9\t0.004220158685623566\t1.9862112202774316e-8\t\t4\n",
      "-9.100000000000003\t1.2589254117941766e9\t0.004220158685623566\t1.9862112202774316e-8\t\t4\n",
      "-9.000000000000004\t1.0000000000000082e9\t0.004220158685623566\t2.500491775446322e-8\t\t4\n",
      "function for update K:0.004220158685623566\t4\n",
      "-9.000000000000004\t1.0000000000000082e9\t0.005044368446290348\t2.5005136604737083e-8\t\t4\n",
      "-9.000000000000004\t1.0000000000000082e9\t0.005044368446290348\t2.5005136604737083e-8\t\t4\n",
      "-8.900000000000004\t7.943282347242887e8\t0.005044368446290348\t3.147960190666544e-8\t\t4\n",
      "function for update K:0.005044368446290348\t4\n",
      "-8.900000000000004\t7.943282347242887e8\t0.0056049167972137695\t3.148098743327806e-8\t\t4\n",
      "-8.900000000000004\t7.943282347242887e8\t0.0056049167972137695\t3.148098743327806e-8\t\t4\n",
      "-8.800000000000004\t6.309573444801995e8\t0.0056049167972137695\t3.9632215104494265e-8\t\t4\n",
      "function for update K:0.0056049167972137695\t4\n",
      "-8.800000000000004\t6.309573444801995e8\t0.0077027747497536905\t3.963356562773075e-8\t\t4\n",
      "-8.800000000000004\t6.309573444801995e8\t0.0077027747497536905\t3.963356562773075e-8\t\t4\n",
      "-8.700000000000005\t5.011872336272776e8\t0.0077027747497536905\t4.989570294646365e-8\t\t4\n",
      "function for update K:0.0077027747497536905\t4\n",
      "-8.700000000000005\t5.011872336272776e8\t0.008892365232062356\t4.9897881433600487e-8\t\t4\n",
      "-8.700000000000005\t5.011872336272776e8\t0.008821546237580188\t4.989625678564901e-8\t\t4\n",
      "-8.600000000000005\t3.981071705535018e8\t0.008821546237580188\t6.281566560337655e-8\t\t4\n",
      "function for update K:0.008821546237580188\t4\n",
      "-8.600000000000005\t3.981071705535018e8\t0.007826101001899616\t6.281226303346443e-8\t\t4\n",
      "-8.600000000000005\t3.981071705535018e8\t0.007826101001899616\t6.281226303346443e-8\t\t4\n",
      "-8.500000000000005\t3.162277660168418e8\t0.007826101001899616\t7.90759540495184e-8\t\t4\n",
      "function for update K:0.007826101001899616\t4\n",
      "-8.500000000000005\t3.162277660168418e8\t0.006604866509768137\t7.907459234726622e-8\t\t4\n",
      "-8.500000000000005\t3.162277660168418e8\t0.006604866509768137\t7.907459234726622e-8\t\t4\n",
      "-8.400000000000006\t2.511886431509613e8\t0.006604866509768137\t9.954901371509624e-8\t\t4\n",
      "function for update K:0.006604866509768137\t4\n",
      "-8.400000000000006\t2.511886431509613e8\t0.0029672439596861206\t9.955101274497317e-8\t\t4\n",
      "-8.400000000000006\t2.511886431509613e8\t0.0029672439596861206\t9.955101274497317e-8\t\t4\n",
      "-8.300000000000006\t1.9952623149689072e8\t0.0029672439596861206\t1.2532729969582536e-7\t\t4\n",
      "function for update K:0.0029672439596861206\t4\n",
      "-8.300000000000006\t1.9952623149689072e8\t0.00421805833317943\t1.2533450841178432e-7\t\t4\n",
      "-8.300000000000006\t1.9952623149689072e8\t0.00421805833317943\t1.2533450841178432e-7\t\t4\n",
      "-8.200000000000006\t1.584893192461137e8\t0.00421805833317943\t1.5778679754141521e-7\t\t4\n",
      "function for update K:0.00421805833317943\t4\n",
      "-8.200000000000006\t1.584893192461137e8\t0.007557440764831069\t1.5778769840157438e-7\t\t4\n",
      "-8.200000000000006\t1.584893192461137e8\t0.007557440764831069\t1.5778769840157438e-7\t\t4\n",
      "-8.100000000000007\t1.2589254117941868e8\t0.007557440764831069\t1.9864294316004552e-7\t\t4\n",
      "function for update K:0.007557440764831069\t4\n",
      "-8.100000000000007\t1.2589254117941868e8\t0.0060541370486992055\t1.9864778516659265e-7\t\t4\n",
      "-8.100000000000007\t1.2589254117941868e8\t0.0060541370486992055\t1.9864778516659265e-7\t\t4\n",
      "-8.000000000000007\t1.0000000000000164e8\t0.0060541370486992055\t2.500827447239075e-7\t\t4\n",
      "function for update K:0.0060541370486992055\t4\n",
      "-8.000000000000007\t1.0000000000000164e8\t0.00979856268688081\t2.500799757870592e-7\t\t4\n",
      "-8.000000000000007\t1.0000000000000164e8\t0.00979856268688081\t2.500799757870592e-7\t\t4\n",
      "-7.9000000000000075\t7.943282347242951e7\t0.00979856268688081\t3.148320365577819e-7\t\t4\n",
      "function for update K:0.00979856268688081\t4\n",
      "-7.9000000000000075\t7.943282347242951e7\t0.00982433157501338\t3.148504952633788e-7\t\t4\n",
      "-7.9000000000000075\t7.943282347242951e7\t0.00982433157501338\t3.148504952633788e-7\t\t4\n",
      "-7.800000000000008\t6.309573444802046e7\t0.00982433157501338\t3.963732893565161e-7\t\t4\n",
      "function for update K:0.00982433157501338\t4\n",
      "-7.800000000000008\t6.309573444802046e7\t0.009967903092356989\t3.9633936718060965e-7\t\t4\n",
      "-7.800000000000008\t6.309573444802046e7\t0.009967903092356989\t3.9633936718060965e-7\t\t4\n",
      "-7.700000000000008\t5.011872336272817e7\t0.009967903092356989\t4.989617010612786e-7\t\t4\n",
      "function for update K:0.009967903092356989\t4\n",
      "-7.700000000000008\t5.011872336272817e7\t0.008066838853165057\t4.989591002584176e-7\t\t4\n",
      "-7.700000000000008\t5.011872336272817e7\t0.008066838853165057\t4.989591002584176e-7\t\t4\n",
      "-7.6000000000000085\t3.9810717055350505e7\t0.008066838853165057\t6.28152290721053e-7\t\t4\n",
      "function for update K:0.008066838853165057\t4\n",
      "-7.6000000000000085\t3.9810717055350505e7\t0.008143076789108047\t6.281955940682984e-7\t\t4\n",
      "-7.6000000000000085\t3.9810717055350505e7\t0.008216760154179947\t6.281830656798833e-7\t\t4\n",
      "-7.500000000000009\t3.162277660168444e7\t0.008216760154179947\t7.908356246757753e-7\t\t4\n",
      "function for update K:0.008216760154179947\t4\n",
      "-7.500000000000009\t3.162277660168444e7\t0.00788180269894542\t7.9091965671864e-7\t\t4\n",
      "-7.500000000000009\t3.162277660168444e7\t0.0025511666754140473\t7.90246917208085e-7\t\t4\n",
      "-7.400000000000009\t2.5118864315096334e7\t0.0025511666754140473\t9.948619256926216e-7\t\t4\n",
      "function for update K:0.0025511666754140473\t4\n",
      "-7.400000000000009\t2.5118864315096334e7\t0.002061934003615153\t9.95257950627113e-7\t\t4\n",
      "-7.400000000000009\t2.5118864315096334e7\t0.0020623217197058142\t9.948812051505719e-7\t\t4\n",
      "-7.30000000000001\t1.995262314968924e7\t0.0020623217197058142\t1.2524812308634238e-6\t\t4\n",
      "function for update K:0.0020623217197058142\t4\n",
      "-7.30000000000001\t1.995262314968924e7\t0.002608444366354144\t1.2525298147368977e-6\t\t4\n",
      "-7.30000000000001\t1.995262314968924e7\t0.002608444366354144\t1.2525298147368977e-6\t\t4\n",
      "-7.20000000000001\t1.5848931924611498e7\t0.002608444366354144\t1.5768416128201096e-6\t\t4\n",
      "function for update K:0.002608444366354144\t4\n",
      "-7.20000000000001\t1.5848931924611498e7\t0.0023439989298594233\t1.5767683039734685e-6\t\t4\n",
      "-7.20000000000001\t1.5848931924611498e7\t0.001844963860822538\t1.5764754180203202e-6\t\t4\n",
      "-7.10000000000001\t1.258925411794197e7\t0.001844963860822538\t1.9846649647780266e-6\t\t4\n",
      "function for update K:0.001844963860822538\t4\n",
      "-7.10000000000001\t1.258925411794197e7\t0.0027972252011692128\t1.984659559685648e-6\t\t4\n",
      "-7.10000000000001\t1.258925411794197e7\t0.0027972252011692128\t1.984659559685648e-6\t\t4\n",
      "-7.000000000000011\t1.0000000000000246e7\t0.0027972252011692128\t2.4985383533772558e-6\t\t4\n",
      "function for update K:0.0027972252011692128\t4\n",
      "-7.000000000000011\t1.0000000000000246e7\t0.001857461207974771\t2.498509923035774e-6\t\t4\n",
      "-7.000000000000011\t1.0000000000000246e7\t0.0012330018177407487\t2.4959318932004644e-6\t\t4\n",
      "-6.900000000000011\t7.943282347243017e6\t0.0012330018177407487\t3.1421920864221083e-6\t\t4\n",
      "function for update K:0.0012330018177407487\t4\n",
      "-6.900000000000011\t7.943282347243017e6\t0.0013441166242010763\t3.1422622346140375e-6\t\t4\n",
      "-6.900000000000011\t7.943282347243017e6\t0.00042294686792215586\t3.1419834006550687e-6\t\t4\n",
      "-6.800000000000011\t6.309573444802098e6\t0.00042294686792215586\t3.955522746489322e-6\t\t4\n",
      "function for update K:0.00042294686792215586\t4\n",
      "-6.800000000000011\t6.309573444802098e6\t0.0023425409491656755\t3.955567000376789e-6\t\t4\n",
      "-6.800000000000011\t6.309573444802098e6\t0.0010344650054474231\t3.95542558154658e-6\t\t4\n",
      "-6.700000000000012\t5.011872336272858e6\t0.0010344650054474231\t4.979585778959136e-6\t\t4\n",
      "function for update K:0.0010344650054474231\t4\n",
      "-6.700000000000012\t5.011872336272858e6\t0.0018148662841181334\t4.97957110942476e-6\t\t4\n",
      "-6.700000000000012\t5.011872336272858e6\t0.00280816242168693\t4.978299717951775e-6\t\t4\n",
      "-6.600000000000012\t3.981071705535083e6\t0.00280816242168693\t6.2673080224155414e-6\t\t4\n",
      "function for update K:0.00280816242168693\t4\n",
      "-6.600000000000012\t3.981071705535083e6\t0.0028474835945619865\t6.2673650068133835e-6\t\t4\n",
      "-6.600000000000012\t3.981071705535083e6\t0.0005894073892711714\t6.266760124582788e-6\t\t4\n",
      "-6.500000000000012\t3.16227766016847e6\t0.0005894073892711714\t7.889383570331827e-6\t\t4\n",
      "function for update K:0.0005894073892711714\t4\n",
      "-6.500000000000012\t3.16227766016847e6\t0.001791675286708509\t7.889624243663165e-6\t\t4\n",
      "-6.500000000000012\t3.16227766016847e6\t0.000779130410508846\t7.88275759874625e-6\t\t4\n",
      "-6.400000000000013\t2.511886431509654e6\t0.000779130410508846\t9.923803855785752e-6\t\t4\n",
      "function for update K:0.000779130410508846\t4\n",
      "-6.400000000000013\t2.511886431509654e6\t0.0015743973951337338\t9.924142649869697e-6\t\t4\n",
      "-6.400000000000013\t2.511886431509654e6\t0.0006624576928025121\t9.923332355873549e-6\t\t4\n",
      "-6.300000000000013\t1.99526231496894e6\t0.0006624576928025121\t1.2492735272248997e-5\t\t4\n",
      "function for update K:0.0006624576928025121\t4\n",
      "-6.300000000000013\t1.99526231496894e6\t0.0012410514120024991\t1.2492862654517784e-5\t\t4\n",
      "-6.300000000000013\t1.99526231496894e6\t0.0004838248396913457\t1.2492710165068108e-5\t\t4\n",
      "-6.2000000000000135\t1.5848931924611628e6\t0.0004838248396913457\t1.5727390288611563e-5\t\t4\n",
      "function for update K:0.0004838248396913457\t4\n",
      "-6.2000000000000135\t1.5848931924611628e6\t0.0007556486284284043\t1.572790695950167e-5\t\t4\n",
      "-6.2000000000000135\t1.5848931924611628e6\t0.000533009018616682\t1.572772859445701e-5\t\t4\n",
      "-6.100000000000014\t1.2589254117942073e6\t0.000533009018616682\t1.9800037196730166e-5\t\t4\n",
      "function for update K:0.000533009018616682\t4\n",
      "-6.100000000000014\t1.2589254117942073e6\t0.0014646198122165454\t1.9800672214177466e-5\t\t4\n",
      "-6.100000000000014\t1.2589254117942073e6\t0.00039440859761466973\t1.980031270910402e-5\t\t4\n",
      "-6.000000000000014\t1.0000000000000327e6\t0.00039440859761466973\t2.492711682979699e-5\t\t4\n",
      "function for update K:0.00039440859761466973\t4\n",
      "-6.000000000000014\t1.0000000000000327e6\t0.0008764621516549948\t2.492752682352936e-5\t\t4\n",
      "-6.000000000000014\t1.0000000000000327e6\t0.0005588347907886854\t2.4927222125849612e-5\t\t4\n",
      "-5.900000000000015\t794328.2347243081\t0.0005588347907886854\t3.1381513378030486e-5\t\t4\n",
      "function for update K:0.0005588347907886854\t4\n",
      "-5.900000000000015\t794328.2347243081\t0.0013910372502253718\t3.138155322102321e-5\t\t4\n",
      "-5.900000000000015\t794328.2347243081\t0.0002541484709948683\t3.137674567252383e-5\t\t4\n",
      "-5.800000000000015\t630957.3444802149\t0.0002541484709948683\t3.95009824660413e-5\t\t4\n",
      "function for update K:0.0002541484709948683\t4\n",
      "-5.800000000000015\t630957.3444802149\t0.0008393317694096728\t3.9501339205515855e-5\t\t4\n",
      "-5.800000000000015\t630957.3444802149\t0.00018232887794397972\t3.950097724623527e-5\t\t4\n",
      "-5.700000000000015\t501187.23362728994\t0.00018232887794397972\t4.972878404511873e-5\t\t4\n",
      "function for update K:0.00018232887794397972\t4\n",
      "-5.700000000000015\t501187.23362728994\t0.0006670411537673498\t4.972928483292374e-5\t\t4\n",
      "-5.700000000000015\t501187.23362728994\t0.00022972194886516922\t4.97288193769586e-5\t\t4\n",
      "-5.600000000000016\t398107.1705535116\t0.00022972194886516922\t6.260487441097994e-5\t\t4\n",
      "function for update K:0.00022972194886516922\t4\n",
      "-5.600000000000016\t398107.1705535116\t0.0008999652645491626\t6.260553740382858e-5\t\t4\n",
      "-5.600000000000016\t398107.1705535116\t0.0002581481880582279\t6.26049367731604e-5\t\t4\n",
      "-5.500000000000016\t316227.76601684955\t0.0002581481880582279\t7.881494580527814e-5\t\t4\n",
      "function for update K:0.0002581481880582279\t4\n",
      "-5.500000000000016\t316227.76601684955\t0.001376559286867247\t7.881597861742086e-5\t\t4\n",
      "-5.500000000000016\t316227.76601684955\t0.00012146145154997387\t7.88149803771083e-5\t\t4\n",
      "-5.400000000000016\t251188.64315096746\t0.00012146145154997387\t9.92221816231082e-5\t\t4\n",
      "function for update K:0.00012146145154997387\t4\n",
      "-5.400000000000016\t251188.64315096746\t0.000842716055021424\t9.922293579707342e-5\t\t4\n",
      "-5.400000000000016\t251188.64315096746\t0.000391386130691069\t9.922200085489124e-5\t\t4\n",
      "-5.300000000000017\t199526.23149689563\t0.000391386130691069\t0.00012491309827936472\t\t4\n",
      "function for update K:0.000391386130691069\t4\n",
      "-5.300000000000017\t199526.23149689563\t0.0014869386352529962\t0.00012491418355889934\t\t4\n",
      "-5.300000000000017\t199526.23149689563\t0.00017947903099872347\t0.00012491301060943912\t\t4\n",
      "-5.200000000000017\t158489.31924611758\t0.00017947903099872347\t0.0001572561633119219\t\t4\n",
      "function for update K:0.00017947903099872347\t4\n",
      "-5.200000000000017\t158489.31924611758\t0.0007427887806109273\t0.00015725729752788747\t\t4\n",
      "-5.200000000000017\t158489.31924611758\t9.34396838189338e-5\t0.000157256180044508\t\t4\n",
      "-5.100000000000017\t125892.54117942177\t9.34396838189338e-5\t0.00019797380120833348\t\t4\n",
      "function for update K:9.34396838189338e-5\t4\n",
      "-5.100000000000017\t125892.54117942177\t0.0017801967996378218\t0.00019797541020635117\t\t4\n",
      "-5.100000000000017\t125892.54117942177\t0.0002458531111799266\t0.00019797349097729902\t\t4\n",
      "-5.000000000000018\t100000.00000000409\t0.0002458531111799266\t0.00024923385863846736\t\t4\n",
      "function for update K:0.0002458531111799266\t4\n",
      "-5.000000000000018\t100000.00000000409\t0.0011430846866853442\t0.00024923587860219924\t\t4\n",
      "-5.000000000000018\t100000.00000000409\t0.00013507230701480211\t0.00024923358137900014\t\t4\n",
      "-4.900000000000018\t79432.82347243147\t0.00013507230701480211\t0.00031376648905002974\t\t4\n",
      "function for update K:0.00013507230701480211\t4\n",
      "-4.900000000000018\t79432.82347243147\t0.0007902073650422848\t0.0003137686323516334\t\t4\n",
      "-4.900000000000018\t79432.82347243147\t9.98935462591145e-5\t0.00031376597159358025\t\t4\n",
      "-4.8000000000000185\t63095.734448022005\t9.98935462591145e-5\t0.0003950079549690709\t\t4\n",
      "function for update K:9.98935462591145e-5\t4\n",
      "-4.8000000000000185\t63095.734448022005\t0.0007030222478839009\t0.0003950121763813699\t\t4\n",
      "-4.8000000000000185\t63095.734448022005\t5.723050501197229e-5\t0.00039500594587797477\t\t4\n",
      "-4.700000000000019\t50118.723362729404\t5.723050501197229e-5\t0.0004972830230622105\t\t4\n",
      "function for update K:5.723050501197229e-5\t4\n",
      "-4.700000000000019\t50118.723362729404\t0.0008221266428189723\t0.0004972863804801697\t\t4\n",
      "-4.700000000000019\t50118.723362729404\t0.00013850427416986388\t0.0004972830615372732\t\t4\n",
      "-4.600000000000019\t39810.71705535148\t0.00013850427416986388\t0.0006260422829976122\t\t4\n",
      "function for update K:0.00013850427416986388\t4\n",
      "-4.600000000000019\t39810.71705535148\t0.0010652646340284801\t0.0006260477660954591\t\t4\n",
      "-4.600000000000019\t39810.71705535148\t0.00018139400880705237\t0.000626042159070409\t\t4\n",
      "-4.5000000000000195\t31622.776601685215\t0.00018139400880705237\t0.0007881403828724799\t\t4\n",
      "function for update K:0.00018139400880705237\t4\n",
      "-4.5000000000000195\t31622.776601685215\t0.000650210832244621\t0.0007881474978629816\t\t4\n",
      "-4.5000000000000195\t31622.776601685215\t9.472327992856758e-5\t0.0007881400854869046\t\t4\n",
      "-4.40000000000002\t25118.86431509695\t9.472327992856758e-5\t0.0009922095816234059\t\t4\n",
      "function for update K:9.472327992856758e-5\t4\n",
      "-4.40000000000002\t25118.86431509695\t0.001822850416146328\t0.0009922192012926001\t\t4\n",
      "-4.40000000000002\t25118.86431509695\t0.0001107050030307668\t0.000992209321382914\t\t4\n",
      "-4.30000000000002\t19952.623149689727\t0.0001107050030307668\t0.0012491175284410317\t\t4\n",
      "function for update K:0.0001107050030307668\t4\n",
      "-4.30000000000002\t19952.623149689727\t0.0006010906054059173\t0.001249129993573255\t\t4\n",
      "-4.30000000000002\t19952.623149689727\t0.00012691462452248342\t0.0012491172760631705\t\t4\n",
      "-4.200000000000021\t15848.931924611887\t0.00012691462452248342\t0.0015725454810466086\t\t4\n",
      "function for update K:0.00012691462452248342\t4\n",
      "-4.200000000000021\t15848.931924611887\t0.0007172131960963085\t0.0015725580878349302\t\t4\n",
      "-4.200000000000021\t15848.931924611887\t0.0002101232310210797\t0.0015725456352593033\t\t4\n",
      "-4.100000000000021\t12589.25411794228\t0.0002101232310210797\t0.00197971766128686\t\t4\n",
      "function for update K:0.0002101232310210797\t4\n",
      "-4.100000000000021\t12589.25411794228\t0.00039412910351340895\t0.001979729479976728\t\t4\n",
      "-4.100000000000021\t12589.25411794228\t5.4138676788717275e-5\t0.00197971691941162\t\t4\n",
      "-4.000000000000021\t10000.000000000491\t5.4138676788717275e-5\t0.002492315937805664\t\t4\n",
      "function for update K:5.4138676788717275e-5\t4\n",
      "-4.000000000000021\t10000.000000000491\t0.0007835450512033169\t0.0024923403109281092\t\t4\n",
      "-4.000000000000021\t10000.000000000491\t0.000168477102194637\t0.002492315960443757\t\t4\n"
     ]
    }
   ],
   "source": [
    "\n",
    "while T_exp <= T_exp_final\n",
    "\n",
    "    T_=  10.0 ^ (-T_exp) \n",
    "\n",
    "    diff_,loss_ = run(sess,[diff_eval,loss],feed_dict = Dict(lambda => ones(1)*T_,N_k_dis=>N_k_dis_))\n",
    "\n",
    "    print(T_exp,\"\\t\",T_,\"\\t\",diff_,\"\\t\",loss_,\"\\t\",\"\\t\",N_k_dis_,\"\\n\")    \n",
    "    \n",
    "    check_diff_ = run(sess,diff_eval,feed_dict = Dict(lambda => ones(1)*T_,N_k_dis=>N_k_dis_))  \n",
    "    N_k_dis_ = update_K_p(check_diff_,N_k_dis_)  \n",
    "    \n",
    "    diff_,loss_ = run(sess,[diff_eval,loss],feed_dict = Dict(lambda => ones(1)*T_,N_k_dis=>N_k_dis_))\n",
    "\n",
    "    \n",
    "    print(T_exp,\"\\t\",T_,\"\\t\",diff_,\"\\t\",loss_,\"\\t\",\"\\t\",N_k_dis_,\"\\n\") \n",
    "    ScipyOptimizerMinimize(sess, opt_LFGS,feed_dict = Dict(lambda => ones(1)*T_,N_k_dis=>N_k_dis_))\n",
    "\n",
    "    diff_,loss_ = run(sess,[diff_eval,loss],feed_dict = Dict(lambda => ones(1)*T_,N_k_dis=>N_k_dis_))\n",
    "\n",
    "    print(T_exp,\"\\t\",T_,\"\\t\",diff_,\"\\t\",loss_,\"\\t\",\"\\t\",N_k_dis_,\"\\n\")\n",
    "\n",
    "\n",
    "\n",
    "    if round(T_exp,digits=2)%1 == 0\n",
    "\n",
    "        k_x_save = run(sess,k_x_t)\n",
    "\n",
    "        k_y_save = run(sess,k_y_t)\n",
    "\n",
    "        p_save = run(sess,p)\n",
    "\n",
    "        q_x_save = run(sess,q_t_x[5])\n",
    "\n",
    "        q_y_save = run(sess,q_t_y[5])\n",
    "\n",
    "\n",
    "            open(string(exp_name,\"k_x.txt\"), \"a\") do io\n",
    "                       writedlm(io, k_x_save)\n",
    "            end\n",
    "\n",
    "\n",
    "            open(string(exp_name,\"k_y.txt\"), \"a\") do io\n",
    "                       writedlm(io, k_y_save)\n",
    "            end\n",
    "\n",
    "            open(string(exp_name,\"p.txt\"), \"a\") do io\n",
    "                       writedlm(io, p_save)\n",
    "            end\n",
    "\n",
    "\n",
    "            open(string(exp_name,\"q_x.txt\"), \"a\") do io\n",
    "                       writedlm(io, q_x_save)\n",
    "            end\n",
    "\n",
    "            open(string(exp_name,\"q_y.txt\"), \"a\") do io\n",
    "                       writedlm(io, q_y_save)\n",
    "            end\n",
    "\n",
    "\n",
    "        check_diff_ = run(sess,diff_eval,feed_dict = Dict(lambda => ones(1)*T_,N_k_dis=>N_k_dis_))  \n",
    "\n",
    "#         N_k_dis_ = update_K_p(check_diff_,N_k_dis_)  \n",
    "\n",
    "          \n",
    "\n",
    "    end\n",
    "\n",
    "\n",
    "    T_exp += 0.1\n",
    "end\n"
   ]
  },
  {
   "cell_type": "code",
   "execution_count": 110,
   "metadata": {},
   "outputs": [],
   "source": [
    "# opt_LFGS_2 = ScipyOptimizerInterface(loss * 1e5; method=\"L-BFGS-B\", options=Dict(\"maxiter\"=> 200, \"ftol\"=>1e-15, \"gtol\"=>1e-18))\n"
   ]
  },
  {
   "cell_type": "code",
   "execution_count": 111,
   "metadata": {},
   "outputs": [],
   "source": [
    "# ScipyOptimizerMinimize(sess, opt_LFGS_2,feed_dict = Dict(lambda => ones(1)*T_,N_k_dis=>N_k_dis_))\n"
   ]
  },
  {
   "cell_type": "code",
   "execution_count": 112,
   "metadata": {},
   "outputs": [
    {
     "data": {
      "text/plain": [
       "5"
      ]
     },
     "execution_count": 112,
     "metadata": {},
     "output_type": "execute_result"
    }
   ],
   "source": [
    "# N_k_dis_ = update_K_p(10,N_k_dis_)\n",
    "\n",
    "ii = 5\n",
    "\n",
    "# i_y = (ii-1) ÷ 3 + 1\n",
    "# i_y = (ii-1) ÷ 3 + 1\n",
    "\n",
    "# y_y_list[ii]\n",
    "\n",
    "time_step = 5"
   ]
  },
  {
   "cell_type": "code",
   "execution_count": 113,
   "metadata": {},
   "outputs": [
    {
     "data": {
      "image/svg+xml": [
       "<?xml version=\"1.0\" encoding=\"utf-8\"?>\n",
       "<svg xmlns=\"http://www.w3.org/2000/svg\" xmlns:xlink=\"http://www.w3.org/1999/xlink\" width=\"600\" height=\"400\" viewBox=\"0 0 2400 1600\">\n",
       "<defs>\n",
       "  <clipPath id=\"clip790\">\n",
       "    <rect x=\"0\" y=\"0\" width=\"2400\" height=\"1600\"/>\n",
       "  </clipPath>\n",
       "</defs>\n",
       "<path clip-path=\"url(#clip790)\" d=\"\n",
       "M0 1600 L2400 1600 L2400 0 L0 0  Z\n",
       "  \" fill=\"#ffffff\" fill-rule=\"evenodd\" fill-opacity=\"1\"/>\n",
       "<defs>\n",
       "  <clipPath id=\"clip791\">\n",
       "    <rect x=\"480\" y=\"0\" width=\"1681\" height=\"1600\"/>\n",
       "  </clipPath>\n",
       "</defs>\n",
       "<path clip-path=\"url(#clip790)\" d=\"\n",
       "M174.862 1486.45 L2352.76 1486.45 L2352.76 47.2441 L174.862 47.2441  Z\n",
       "  \" fill=\"#ffffff\" fill-rule=\"evenodd\" fill-opacity=\"1\"/>\n",
       "<defs>\n",
       "  <clipPath id=\"clip792\">\n",
       "    <rect x=\"174\" y=\"47\" width=\"2179\" height=\"1440\"/>\n",
       "  </clipPath>\n",
       "</defs>\n",
       "<polyline clip-path=\"url(#clip792)\" style=\"stroke:#000000; stroke-width:2; stroke-opacity:0.1; fill:none\" points=\"\n",
       "  325.79,1486.45 325.79,47.2441 \n",
       "  \"/>\n",
       "<polyline clip-path=\"url(#clip792)\" style=\"stroke:#000000; stroke-width:2; stroke-opacity:0.1; fill:none\" points=\"\n",
       "  749.454,1486.45 749.454,47.2441 \n",
       "  \"/>\n",
       "<polyline clip-path=\"url(#clip792)\" style=\"stroke:#000000; stroke-width:2; stroke-opacity:0.1; fill:none\" points=\"\n",
       "  1173.12,1486.45 1173.12,47.2441 \n",
       "  \"/>\n",
       "<polyline clip-path=\"url(#clip792)\" style=\"stroke:#000000; stroke-width:2; stroke-opacity:0.1; fill:none\" points=\"\n",
       "  1596.78,1486.45 1596.78,47.2441 \n",
       "  \"/>\n",
       "<polyline clip-path=\"url(#clip792)\" style=\"stroke:#000000; stroke-width:2; stroke-opacity:0.1; fill:none\" points=\"\n",
       "  2020.45,1486.45 2020.45,47.2441 \n",
       "  \"/>\n",
       "<polyline clip-path=\"url(#clip792)\" style=\"stroke:#000000; stroke-width:2; stroke-opacity:0.1; fill:none\" points=\"\n",
       "  174.862,1445.72 2352.76,1445.72 \n",
       "  \"/>\n",
       "<polyline clip-path=\"url(#clip792)\" style=\"stroke:#000000; stroke-width:2; stroke-opacity:0.1; fill:none\" points=\"\n",
       "  174.862,1106.28 2352.76,1106.28 \n",
       "  \"/>\n",
       "<polyline clip-path=\"url(#clip792)\" style=\"stroke:#000000; stroke-width:2; stroke-opacity:0.1; fill:none\" points=\"\n",
       "  174.862,766.846 2352.76,766.846 \n",
       "  \"/>\n",
       "<polyline clip-path=\"url(#clip792)\" style=\"stroke:#000000; stroke-width:2; stroke-opacity:0.1; fill:none\" points=\"\n",
       "  174.862,427.411 2352.76,427.411 \n",
       "  \"/>\n",
       "<polyline clip-path=\"url(#clip792)\" style=\"stroke:#000000; stroke-width:2; stroke-opacity:0.1; fill:none\" points=\"\n",
       "  174.862,87.9763 2352.76,87.9763 \n",
       "  \"/>\n",
       "<polyline clip-path=\"url(#clip790)\" style=\"stroke:#000000; stroke-width:4; stroke-opacity:1; fill:none\" points=\"\n",
       "  174.862,1486.45 2352.76,1486.45 \n",
       "  \"/>\n",
       "<polyline clip-path=\"url(#clip790)\" style=\"stroke:#000000; stroke-width:4; stroke-opacity:1; fill:none\" points=\"\n",
       "  174.862,1486.45 174.862,47.2441 \n",
       "  \"/>\n",
       "<polyline clip-path=\"url(#clip790)\" style=\"stroke:#000000; stroke-width:4; stroke-opacity:1; fill:none\" points=\"\n",
       "  325.79,1486.45 325.79,1469.18 \n",
       "  \"/>\n",
       "<polyline clip-path=\"url(#clip790)\" style=\"stroke:#000000; stroke-width:4; stroke-opacity:1; fill:none\" points=\"\n",
       "  749.454,1486.45 749.454,1469.18 \n",
       "  \"/>\n",
       "<polyline clip-path=\"url(#clip790)\" style=\"stroke:#000000; stroke-width:4; stroke-opacity:1; fill:none\" points=\"\n",
       "  1173.12,1486.45 1173.12,1469.18 \n",
       "  \"/>\n",
       "<polyline clip-path=\"url(#clip790)\" style=\"stroke:#000000; stroke-width:4; stroke-opacity:1; fill:none\" points=\"\n",
       "  1596.78,1486.45 1596.78,1469.18 \n",
       "  \"/>\n",
       "<polyline clip-path=\"url(#clip790)\" style=\"stroke:#000000; stroke-width:4; stroke-opacity:1; fill:none\" points=\"\n",
       "  2020.45,1486.45 2020.45,1469.18 \n",
       "  \"/>\n",
       "<polyline clip-path=\"url(#clip790)\" style=\"stroke:#000000; stroke-width:4; stroke-opacity:1; fill:none\" points=\"\n",
       "  174.862,1445.72 200.997,1445.72 \n",
       "  \"/>\n",
       "<polyline clip-path=\"url(#clip790)\" style=\"stroke:#000000; stroke-width:4; stroke-opacity:1; fill:none\" points=\"\n",
       "  174.862,1106.28 200.997,1106.28 \n",
       "  \"/>\n",
       "<polyline clip-path=\"url(#clip790)\" style=\"stroke:#000000; stroke-width:4; stroke-opacity:1; fill:none\" points=\"\n",
       "  174.862,766.846 200.997,766.846 \n",
       "  \"/>\n",
       "<polyline clip-path=\"url(#clip790)\" style=\"stroke:#000000; stroke-width:4; stroke-opacity:1; fill:none\" points=\"\n",
       "  174.862,427.411 200.997,427.411 \n",
       "  \"/>\n",
       "<polyline clip-path=\"url(#clip790)\" style=\"stroke:#000000; stroke-width:4; stroke-opacity:1; fill:none\" points=\"\n",
       "  174.862,87.9763 200.997,87.9763 \n",
       "  \"/>\n",
       "<path clip-path=\"url(#clip790)\" d=\"M 0 0 M216.516 1546.57 L228.993 1546.57 L228.993 1550.37 L216.516 1550.37 L216.516 1546.57 Z\" fill=\"#000000\" fill-rule=\"evenodd\" fill-opacity=\"1\" /><path clip-path=\"url(#clip790)\" d=\"M 0 0 M247.65 1526.9 L266.007 1526.9 L266.007 1530.83 L251.933 1530.83 L251.933 1539.3 Q252.951 1538.96 253.97 1538.79 Q254.988 1538.61 256.007 1538.61 Q261.794 1538.61 265.173 1541.78 Q268.553 1544.95 268.553 1550.37 Q268.553 1555.95 265.081 1559.05 Q261.609 1562.13 255.289 1562.13 Q253.113 1562.13 250.845 1561.76 Q248.599 1561.39 246.192 1560.64 L246.192 1555.95 Q248.275 1557.08 250.498 1557.64 Q252.72 1558.19 255.197 1558.19 Q259.201 1558.19 261.539 1556.08 Q263.877 1553.98 263.877 1550.37 Q263.877 1546.76 261.539 1544.65 Q259.201 1542.54 255.197 1542.54 Q253.322 1542.54 251.447 1542.96 Q249.595 1543.38 247.65 1544.26 L247.65 1526.9 Z\" fill=\"#000000\" fill-rule=\"evenodd\" fill-opacity=\"1\" /><path clip-path=\"url(#clip790)\" d=\"M 0 0 M273.622 1555.58 L278.507 1555.58 L278.507 1561.46 L273.622 1561.46 L273.622 1555.58 Z\" fill=\"#000000\" fill-rule=\"evenodd\" fill-opacity=\"1\" /><path clip-path=\"url(#clip790)\" d=\"M 0 0 M293.576 1529.97 Q289.965 1529.97 288.136 1533.54 Q286.331 1537.08 286.331 1544.21 Q286.331 1551.32 288.136 1554.88 Q289.965 1558.42 293.576 1558.42 Q297.21 1558.42 299.016 1554.88 Q300.844 1551.32 300.844 1544.21 Q300.844 1537.08 299.016 1533.54 Q297.21 1529.97 293.576 1529.97 M293.576 1526.27 Q299.386 1526.27 302.442 1530.88 Q305.52 1535.46 305.52 1544.21 Q305.52 1552.94 302.442 1557.54 Q299.386 1562.13 293.576 1562.13 Q287.766 1562.13 284.687 1557.54 Q281.632 1552.94 281.632 1544.21 Q281.632 1535.46 284.687 1530.88 Q287.766 1526.27 293.576 1526.27 Z\" fill=\"#000000\" fill-rule=\"evenodd\" fill-opacity=\"1\" /><path clip-path=\"url(#clip790)\" d=\"M 0 0 M338.761 1535.99 L328.182 1546.62 L338.761 1557.2 L336.006 1560 L325.381 1549.37 L314.756 1560 L312.025 1557.2 L322.58 1546.62 L312.025 1535.99 L314.756 1533.19 L325.381 1543.82 L336.006 1533.19 L338.761 1535.99 Z\" fill=\"#000000\" fill-rule=\"evenodd\" fill-opacity=\"1\" /><path clip-path=\"url(#clip790)\" d=\"M 0 0 M344.641 1557.52 L352.279 1557.52 L352.279 1531.15 L343.969 1532.82 L343.969 1528.56 L352.233 1526.9 L356.909 1526.9 L356.909 1557.52 L364.548 1557.52 L364.548 1561.46 L344.641 1561.46 L344.641 1557.52 Z\" fill=\"#000000\" fill-rule=\"evenodd\" fill-opacity=\"1\" /><path clip-path=\"url(#clip790)\" d=\"M 0 0 M379.617 1529.97 Q376.006 1529.97 374.177 1533.54 Q372.372 1537.08 372.372 1544.21 Q372.372 1551.32 374.177 1554.88 Q376.006 1558.42 379.617 1558.42 Q383.251 1558.42 385.057 1554.88 Q386.886 1551.32 386.886 1544.21 Q386.886 1537.08 385.057 1533.54 Q383.251 1529.97 379.617 1529.97 M379.617 1526.27 Q385.427 1526.27 388.483 1530.88 Q391.562 1535.46 391.562 1544.21 Q391.562 1552.94 388.483 1557.54 Q385.427 1562.13 379.617 1562.13 Q373.807 1562.13 370.728 1557.54 Q367.673 1552.94 367.673 1544.21 Q367.673 1535.46 370.728 1530.88 Q373.807 1526.27 379.617 1526.27 Z\" fill=\"#000000\" fill-rule=\"evenodd\" fill-opacity=\"1\" /><path clip-path=\"url(#clip790)\" d=\"M 0 0 M391.562 1521.95 L401.699 1521.95 L401.699 1525.04 L391.562 1525.04 L391.562 1521.95 Z\" fill=\"#000000\" fill-rule=\"evenodd\" fill-opacity=\"1\" /><path clip-path=\"url(#clip790)\" d=\"M 0 0 M425.698 1518.49 Q423.14 1518.49 421.635 1520.24 Q420.149 1521.99 420.149 1525.04 Q420.149 1528.06 421.635 1529.83 Q423.14 1531.58 425.698 1531.58 Q428.256 1531.58 429.741 1529.83 Q431.246 1528.06 431.246 1525.04 Q431.246 1521.99 429.741 1520.24 Q428.256 1518.49 425.698 1518.49 M433.24 1506.59 L433.24 1510.05 Q431.81 1509.37 430.343 1509.01 Q428.895 1508.65 427.466 1508.65 Q423.704 1508.65 421.71 1511.19 Q419.736 1513.73 419.453 1518.87 Q420.563 1517.23 422.237 1516.37 Q423.911 1515.48 425.923 1515.48 Q430.155 1515.48 432.6 1518.06 Q435.064 1520.62 435.064 1525.04 Q435.064 1529.36 432.506 1531.98 Q429.948 1534.59 425.698 1534.59 Q420.826 1534.59 418.25 1530.87 Q415.673 1527.12 415.673 1520.03 Q415.673 1513.37 418.833 1509.43 Q421.993 1505.46 427.315 1505.46 Q428.745 1505.46 430.193 1505.74 Q431.66 1506.02 433.24 1506.59 Z\" fill=\"#000000\" fill-rule=\"evenodd\" fill-opacity=\"1\" /><path clip-path=\"url(#clip790)\" d=\"M 0 0 M640.886 1546.57 L653.363 1546.57 L653.363 1550.37 L640.886 1550.37 L640.886 1546.57 Z\" fill=\"#000000\" fill-rule=\"evenodd\" fill-opacity=\"1\" /><path clip-path=\"url(#clip790)\" d=\"M 0 0 M676.187 1557.52 L692.506 1557.52 L692.506 1561.46 L670.562 1561.46 L670.562 1557.52 Q673.224 1554.77 677.807 1550.14 Q682.414 1545.48 683.594 1544.14 Q685.839 1541.62 686.719 1539.88 Q687.622 1538.12 687.622 1536.43 Q687.622 1533.68 685.677 1531.94 Q683.756 1530.21 680.654 1530.21 Q678.455 1530.21 676.002 1530.97 Q673.571 1531.73 670.793 1533.28 L670.793 1528.56 Q673.617 1527.43 676.071 1526.85 Q678.525 1526.27 680.562 1526.27 Q685.932 1526.27 689.126 1528.96 Q692.321 1531.64 692.321 1536.13 Q692.321 1538.26 691.511 1540.18 Q690.724 1542.08 688.617 1544.67 Q688.039 1545.34 684.937 1548.56 Q681.835 1551.76 676.187 1557.52 Z\" fill=\"#000000\" fill-rule=\"evenodd\" fill-opacity=\"1\" /><path clip-path=\"url(#clip790)\" d=\"M 0 0 M697.576 1555.58 L702.46 1555.58 L702.46 1561.46 L697.576 1561.46 L697.576 1555.58 Z\" fill=\"#000000\" fill-rule=\"evenodd\" fill-opacity=\"1\" /><path clip-path=\"url(#clip790)\" d=\"M 0 0 M707.575 1526.9 L725.932 1526.9 L725.932 1530.83 L711.858 1530.83 L711.858 1539.3 Q712.876 1538.96 713.895 1538.79 Q714.913 1538.61 715.932 1538.61 Q721.719 1538.61 725.099 1541.78 Q728.478 1544.95 728.478 1550.37 Q728.478 1555.95 725.006 1559.05 Q721.534 1562.13 715.214 1562.13 Q713.038 1562.13 710.77 1561.76 Q708.525 1561.39 706.117 1560.64 L706.117 1555.95 Q708.2 1557.08 710.423 1557.64 Q712.645 1558.19 715.122 1558.19 Q719.126 1558.19 721.464 1556.08 Q723.802 1553.98 723.802 1550.37 Q723.802 1546.76 721.464 1544.65 Q719.126 1542.54 715.122 1542.54 Q713.247 1542.54 711.372 1542.96 Q709.52 1543.38 707.575 1544.26 L707.575 1526.9 Z\" fill=\"#000000\" fill-rule=\"evenodd\" fill-opacity=\"1\" /><path clip-path=\"url(#clip790)\" d=\"M 0 0 M761.719 1535.99 L751.14 1546.62 L761.719 1557.2 L758.964 1560 L748.339 1549.37 L737.714 1560 L734.983 1557.2 L745.538 1546.62 L734.983 1535.99 L737.714 1533.19 L748.339 1543.82 L758.964 1533.19 L761.719 1535.99 Z\" fill=\"#000000\" fill-rule=\"evenodd\" fill-opacity=\"1\" /><path clip-path=\"url(#clip790)\" d=\"M 0 0 M767.598 1557.52 L775.237 1557.52 L775.237 1531.15 L766.927 1532.82 L766.927 1528.56 L775.191 1526.9 L779.867 1526.9 L779.867 1557.52 L787.506 1557.52 L787.506 1561.46 L767.598 1561.46 L767.598 1557.52 Z\" fill=\"#000000\" fill-rule=\"evenodd\" fill-opacity=\"1\" /><path clip-path=\"url(#clip790)\" d=\"M 0 0 M802.575 1529.97 Q798.964 1529.97 797.135 1533.54 Q795.33 1537.08 795.33 1544.21 Q795.33 1551.32 797.135 1554.88 Q798.964 1558.42 802.575 1558.42 Q806.209 1558.42 808.015 1554.88 Q809.843 1551.32 809.843 1544.21 Q809.843 1537.08 808.015 1533.54 Q806.209 1529.97 802.575 1529.97 M802.575 1526.27 Q808.385 1526.27 811.441 1530.88 Q814.519 1535.46 814.519 1544.21 Q814.519 1552.94 811.441 1557.54 Q808.385 1562.13 802.575 1562.13 Q796.765 1562.13 793.686 1557.54 Q790.631 1552.94 790.631 1544.21 Q790.631 1535.46 793.686 1530.88 Q796.765 1526.27 802.575 1526.27 Z\" fill=\"#000000\" fill-rule=\"evenodd\" fill-opacity=\"1\" /><path clip-path=\"url(#clip790)\" d=\"M 0 0 M814.519 1521.95 L824.657 1521.95 L824.657 1525.04 L814.519 1525.04 L814.519 1521.95 Z\" fill=\"#000000\" fill-rule=\"evenodd\" fill-opacity=\"1\" /><path clip-path=\"url(#clip790)\" d=\"M 0 0 M848.655 1518.49 Q846.098 1518.49 844.593 1520.24 Q843.107 1521.99 843.107 1525.04 Q843.107 1528.06 844.593 1529.83 Q846.098 1531.58 848.655 1531.58 Q851.213 1531.58 852.699 1529.83 Q854.204 1528.06 854.204 1525.04 Q854.204 1521.99 852.699 1520.24 Q851.213 1518.49 848.655 1518.49 M856.197 1506.59 L856.197 1510.05 Q854.768 1509.37 853.301 1509.01 Q851.853 1508.65 850.423 1508.65 Q846.662 1508.65 844.668 1511.19 Q842.693 1513.73 842.411 1518.87 Q843.521 1517.23 845.195 1516.37 Q846.869 1515.48 848.881 1515.48 Q853.113 1515.48 855.558 1518.06 Q858.022 1520.62 858.022 1525.04 Q858.022 1529.36 855.464 1531.98 Q852.906 1534.59 848.655 1534.59 Q843.784 1534.59 841.208 1530.87 Q838.631 1527.12 838.631 1520.03 Q838.631 1513.37 841.791 1509.43 Q844.95 1505.46 850.273 1505.46 Q851.702 1505.46 853.15 1505.74 Q854.617 1506.02 856.197 1506.59 Z\" fill=\"#000000\" fill-rule=\"evenodd\" fill-opacity=\"1\" /><path clip-path=\"url(#clip790)\" d=\"M 0 0 M1173.12 1508.44 Q1169.51 1508.44 1167.68 1512 Q1165.87 1515.55 1165.87 1522.67 Q1165.87 1529.78 1167.68 1533.35 Q1169.51 1536.89 1173.12 1536.89 Q1176.75 1536.89 1178.56 1533.35 Q1180.39 1529.78 1180.39 1522.67 Q1180.39 1515.55 1178.56 1512 Q1176.75 1508.44 1173.12 1508.44 M1173.12 1504.73 Q1178.93 1504.73 1181.98 1509.34 Q1185.06 1513.92 1185.06 1522.67 Q1185.06 1531.4 1181.98 1536.01 Q1178.93 1540.59 1173.12 1540.59 Q1167.31 1540.59 1164.23 1536.01 Q1161.17 1531.4 1161.17 1522.67 Q1161.17 1513.92 1164.23 1509.34 Q1167.31 1504.73 1173.12 1504.73 Z\" fill=\"#000000\" fill-rule=\"evenodd\" fill-opacity=\"1\" /><path clip-path=\"url(#clip790)\" d=\"M 0 0 M1508.68 1557.52 L1525 1557.52 L1525 1561.46 L1503.05 1561.46 L1503.05 1557.52 Q1505.71 1554.77 1510.3 1550.14 Q1514.9 1545.48 1516.08 1544.14 Q1518.33 1541.62 1519.21 1539.88 Q1520.11 1538.12 1520.11 1536.43 Q1520.11 1533.68 1518.17 1531.94 Q1516.25 1530.21 1513.14 1530.21 Q1510.94 1530.21 1508.49 1530.97 Q1506.06 1531.73 1503.28 1533.28 L1503.28 1528.56 Q1506.11 1527.43 1508.56 1526.85 Q1511.01 1526.27 1513.05 1526.27 Q1518.42 1526.27 1521.62 1528.96 Q1524.81 1531.64 1524.81 1536.13 Q1524.81 1538.26 1524 1540.18 Q1523.21 1542.08 1521.11 1544.67 Q1520.53 1545.34 1517.43 1548.56 Q1514.32 1551.76 1508.68 1557.52 Z\" fill=\"#000000\" fill-rule=\"evenodd\" fill-opacity=\"1\" /><path clip-path=\"url(#clip790)\" d=\"M 0 0 M1530.07 1555.58 L1534.95 1555.58 L1534.95 1561.46 L1530.07 1561.46 L1530.07 1555.58 Z\" fill=\"#000000\" fill-rule=\"evenodd\" fill-opacity=\"1\" /><path clip-path=\"url(#clip790)\" d=\"M 0 0 M1540.07 1526.9 L1558.42 1526.9 L1558.42 1530.83 L1544.35 1530.83 L1544.35 1539.3 Q1545.37 1538.96 1546.38 1538.79 Q1547.4 1538.61 1548.42 1538.61 Q1554.21 1538.61 1557.59 1541.78 Q1560.97 1544.95 1560.97 1550.37 Q1560.97 1555.95 1557.5 1559.05 Q1554.02 1562.13 1547.7 1562.13 Q1545.53 1562.13 1543.26 1561.76 Q1541.01 1561.39 1538.61 1560.64 L1538.61 1555.95 Q1540.69 1557.08 1542.91 1557.64 Q1545.13 1558.19 1547.61 1558.19 Q1551.62 1558.19 1553.95 1556.08 Q1556.29 1553.98 1556.29 1550.37 Q1556.29 1546.76 1553.95 1544.65 Q1551.62 1542.54 1547.61 1542.54 Q1545.74 1542.54 1543.86 1542.96 Q1542.01 1543.38 1540.07 1544.26 L1540.07 1526.9 Z\" fill=\"#000000\" fill-rule=\"evenodd\" fill-opacity=\"1\" /><path clip-path=\"url(#clip790)\" d=\"M 0 0 M1594.21 1535.99 L1583.63 1546.62 L1594.21 1557.2 L1591.45 1560 L1580.83 1549.37 L1570.2 1560 L1567.47 1557.2 L1578.03 1546.62 L1567.47 1535.99 L1570.2 1533.19 L1580.83 1543.82 L1591.45 1533.19 L1594.21 1535.99 Z\" fill=\"#000000\" fill-rule=\"evenodd\" fill-opacity=\"1\" /><path clip-path=\"url(#clip790)\" d=\"M 0 0 M1600.09 1557.52 L1607.73 1557.52 L1607.73 1531.15 L1599.42 1532.82 L1599.42 1528.56 L1607.68 1526.9 L1612.36 1526.9 L1612.36 1557.52 L1620 1557.52 L1620 1561.46 L1600.09 1561.46 L1600.09 1557.52 Z\" fill=\"#000000\" fill-rule=\"evenodd\" fill-opacity=\"1\" /><path clip-path=\"url(#clip790)\" d=\"M 0 0 M1635.06 1529.97 Q1631.45 1529.97 1629.62 1533.54 Q1627.82 1537.08 1627.82 1544.21 Q1627.82 1551.32 1629.62 1554.88 Q1631.45 1558.42 1635.06 1558.42 Q1638.7 1558.42 1640.5 1554.88 Q1642.33 1551.32 1642.33 1544.21 Q1642.33 1537.08 1640.5 1533.54 Q1638.7 1529.97 1635.06 1529.97 M1635.06 1526.27 Q1640.87 1526.27 1643.93 1530.88 Q1647.01 1535.46 1647.01 1544.21 Q1647.01 1552.94 1643.93 1557.54 Q1640.87 1562.13 1635.06 1562.13 Q1629.25 1562.13 1626.18 1557.54 Q1623.12 1552.94 1623.12 1544.21 Q1623.12 1535.46 1626.18 1530.88 Q1629.25 1526.27 1635.06 1526.27 Z\" fill=\"#000000\" fill-rule=\"evenodd\" fill-opacity=\"1\" /><path clip-path=\"url(#clip790)\" d=\"M 0 0 M1647.01 1521.95 L1657.15 1521.95 L1657.15 1525.04 L1647.01 1525.04 L1647.01 1521.95 Z\" fill=\"#000000\" fill-rule=\"evenodd\" fill-opacity=\"1\" /><path clip-path=\"url(#clip790)\" d=\"M 0 0 M1681.15 1518.49 Q1678.59 1518.49 1677.08 1520.24 Q1675.6 1521.99 1675.6 1525.04 Q1675.6 1528.06 1677.08 1529.83 Q1678.59 1531.58 1681.15 1531.58 Q1683.7 1531.58 1685.19 1529.83 Q1686.69 1528.06 1686.69 1525.04 Q1686.69 1521.99 1685.19 1520.24 Q1683.7 1518.49 1681.15 1518.49 M1688.69 1506.59 L1688.69 1510.05 Q1687.26 1509.37 1685.79 1509.01 Q1684.34 1508.65 1682.91 1508.65 Q1679.15 1508.65 1677.16 1511.19 Q1675.18 1513.73 1674.9 1518.87 Q1676.01 1517.23 1677.68 1516.37 Q1679.36 1515.48 1681.37 1515.48 Q1685.6 1515.48 1688.05 1518.06 Q1690.51 1520.62 1690.51 1525.04 Q1690.51 1529.36 1687.95 1531.98 Q1685.4 1534.59 1681.15 1534.59 Q1676.27 1534.59 1673.7 1530.87 Q1671.12 1527.12 1671.12 1520.03 Q1671.12 1513.37 1674.28 1509.43 Q1677.44 1505.46 1682.76 1505.46 Q1684.19 1505.46 1685.64 1505.74 Q1687.11 1506.02 1688.69 1506.59 Z\" fill=\"#000000\" fill-rule=\"evenodd\" fill-opacity=\"1\" /><path clip-path=\"url(#clip790)\" d=\"M 0 0 M1927.47 1526.9 L1945.82 1526.9 L1945.82 1530.83 L1931.75 1530.83 L1931.75 1539.3 Q1932.77 1538.96 1933.79 1538.79 Q1934.81 1538.61 1935.82 1538.61 Q1941.61 1538.61 1944.99 1541.78 Q1948.37 1544.95 1948.37 1550.37 Q1948.37 1555.95 1944.9 1559.05 Q1941.43 1562.13 1935.11 1562.13 Q1932.93 1562.13 1930.66 1561.76 Q1928.42 1561.39 1926.01 1560.64 L1926.01 1555.95 Q1928.09 1557.08 1930.31 1557.64 Q1932.54 1558.19 1935.01 1558.19 Q1939.02 1558.19 1941.36 1556.08 Q1943.69 1553.98 1943.69 1550.37 Q1943.69 1546.76 1941.36 1544.65 Q1939.02 1542.54 1935.01 1542.54 Q1933.14 1542.54 1931.26 1542.96 Q1929.41 1543.38 1927.47 1544.26 L1927.47 1526.9 Z\" fill=\"#000000\" fill-rule=\"evenodd\" fill-opacity=\"1\" /><path clip-path=\"url(#clip790)\" d=\"M 0 0 M1953.44 1555.58 L1958.32 1555.58 L1958.32 1561.46 L1953.44 1561.46 L1953.44 1555.58 Z\" fill=\"#000000\" fill-rule=\"evenodd\" fill-opacity=\"1\" /><path clip-path=\"url(#clip790)\" d=\"M 0 0 M1973.39 1529.97 Q1969.78 1529.97 1967.95 1533.54 Q1966.15 1537.08 1966.15 1544.21 Q1966.15 1551.32 1967.95 1554.88 Q1969.78 1558.42 1973.39 1558.42 Q1977.03 1558.42 1978.83 1554.88 Q1980.66 1551.32 1980.66 1544.21 Q1980.66 1537.08 1978.83 1533.54 Q1977.03 1529.97 1973.39 1529.97 M1973.39 1526.27 Q1979.2 1526.27 1982.26 1530.88 Q1985.34 1535.46 1985.34 1544.21 Q1985.34 1552.94 1982.26 1557.54 Q1979.2 1562.13 1973.39 1562.13 Q1967.58 1562.13 1964.5 1557.54 Q1961.45 1552.94 1961.45 1544.21 Q1961.45 1535.46 1964.5 1530.88 Q1967.58 1526.27 1973.39 1526.27 Z\" fill=\"#000000\" fill-rule=\"evenodd\" fill-opacity=\"1\" /><path clip-path=\"url(#clip790)\" d=\"M 0 0 M2018.58 1535.99 L2008 1546.62 L2018.58 1557.2 L2015.82 1560 L2005.2 1549.37 L1994.57 1560 L1991.84 1557.2 L2002.4 1546.62 L1991.84 1535.99 L1994.57 1533.19 L2005.2 1543.82 L2015.82 1533.19 L2018.58 1535.99 Z\" fill=\"#000000\" fill-rule=\"evenodd\" fill-opacity=\"1\" /><path clip-path=\"url(#clip790)\" d=\"M 0 0 M2024.46 1557.52 L2032.1 1557.52 L2032.1 1531.15 L2023.79 1532.82 L2023.79 1528.56 L2032.05 1526.9 L2036.73 1526.9 L2036.73 1557.52 L2044.36 1557.52 L2044.36 1561.46 L2024.46 1561.46 L2024.46 1557.52 Z\" fill=\"#000000\" fill-rule=\"evenodd\" fill-opacity=\"1\" /><path clip-path=\"url(#clip790)\" d=\"M 0 0 M2059.43 1529.97 Q2055.82 1529.97 2053.99 1533.54 Q2052.19 1537.08 2052.19 1544.21 Q2052.19 1551.32 2053.99 1554.88 Q2055.82 1558.42 2059.43 1558.42 Q2063.07 1558.42 2064.87 1554.88 Q2066.7 1551.32 2066.7 1544.21 Q2066.7 1537.08 2064.87 1533.54 Q2063.07 1529.97 2059.43 1529.97 M2059.43 1526.27 Q2065.24 1526.27 2068.3 1530.88 Q2071.38 1535.46 2071.38 1544.21 Q2071.38 1552.94 2068.3 1557.54 Q2065.24 1562.13 2059.43 1562.13 Q2053.62 1562.13 2050.55 1557.54 Q2047.49 1552.94 2047.49 1544.21 Q2047.49 1535.46 2050.55 1530.88 Q2053.62 1526.27 2059.43 1526.27 Z\" fill=\"#000000\" fill-rule=\"evenodd\" fill-opacity=\"1\" /><path clip-path=\"url(#clip790)\" d=\"M 0 0 M2071.38 1521.95 L2081.52 1521.95 L2081.52 1525.04 L2071.38 1525.04 L2071.38 1521.95 Z\" fill=\"#000000\" fill-rule=\"evenodd\" fill-opacity=\"1\" /><path clip-path=\"url(#clip790)\" d=\"M 0 0 M2105.51 1518.49 Q2102.96 1518.49 2101.45 1520.24 Q2099.97 1521.99 2099.97 1525.04 Q2099.97 1528.06 2101.45 1529.83 Q2102.96 1531.58 2105.51 1531.58 Q2108.07 1531.58 2109.56 1529.83 Q2111.06 1528.06 2111.06 1525.04 Q2111.06 1521.99 2109.56 1520.24 Q2108.07 1518.49 2105.51 1518.49 M2113.06 1506.59 L2113.06 1510.05 Q2111.63 1509.37 2110.16 1509.01 Q2108.71 1508.65 2107.28 1508.65 Q2103.52 1508.65 2101.53 1511.19 Q2099.55 1513.73 2099.27 1518.87 Q2100.38 1517.23 2102.05 1516.37 Q2103.73 1515.48 2105.74 1515.48 Q2109.97 1515.48 2112.42 1518.06 Q2114.88 1520.62 2114.88 1525.04 Q2114.88 1529.36 2112.32 1531.98 Q2109.77 1534.59 2105.51 1534.59 Q2100.64 1534.59 2098.07 1530.87 Q2095.49 1527.12 2095.49 1520.03 Q2095.49 1513.37 2098.65 1509.43 Q2101.81 1505.46 2107.13 1505.46 Q2108.56 1505.46 2110.01 1505.74 Q2111.48 1506.02 2113.06 1506.59 Z\" fill=\"#000000\" fill-rule=\"evenodd\" fill-opacity=\"1\" /><path clip-path=\"url(#clip790)\" d=\"M 0 0 M74.9365 1431.51 Q71.3254 1431.51 69.4967 1435.08 Q67.6912 1438.62 67.6912 1445.75 Q67.6912 1452.86 69.4967 1456.42 Q71.3254 1459.96 74.9365 1459.96 Q78.5707 1459.96 80.3763 1456.42 Q82.205 1452.86 82.205 1445.75 Q82.205 1438.62 80.3763 1435.08 Q78.5707 1431.51 74.9365 1431.51 M74.9365 1427.81 Q80.7467 1427.81 83.8022 1432.42 Q86.8809 1437 86.8809 1445.75 Q86.8809 1454.48 83.8022 1459.08 Q80.7467 1463.67 74.9365 1463.67 Q69.1264 1463.67 66.0477 1459.08 Q62.9921 1454.48 62.9921 1445.75 Q62.9921 1437 66.0477 1432.42 Q69.1264 1427.81 74.9365 1427.81 Z\" fill=\"#000000\" fill-rule=\"evenodd\" fill-opacity=\"1\" /><path clip-path=\"url(#clip790)\" d=\"M 0 0 M91.9503 1457.12 L96.8345 1457.12 L96.8345 1463 L91.9503 1463 L91.9503 1457.12 Z\" fill=\"#000000\" fill-rule=\"evenodd\" fill-opacity=\"1\" /><path clip-path=\"url(#clip790)\" d=\"M 0 0 M111.904 1431.51 Q108.293 1431.51 106.464 1435.08 Q104.659 1438.62 104.659 1445.75 Q104.659 1452.86 106.464 1456.42 Q108.293 1459.96 111.904 1459.96 Q115.538 1459.96 117.344 1456.42 Q119.172 1452.86 119.172 1445.75 Q119.172 1438.62 117.344 1435.08 Q115.538 1431.51 111.904 1431.51 M111.904 1427.81 Q117.714 1427.81 120.77 1432.42 Q123.848 1437 123.848 1445.75 Q123.848 1454.48 120.77 1459.08 Q117.714 1463.67 111.904 1463.67 Q106.094 1463.67 103.015 1459.08 Q99.9595 1454.48 99.9595 1445.75 Q99.9595 1437 103.015 1432.42 Q106.094 1427.81 111.904 1427.81 Z\" fill=\"#000000\" fill-rule=\"evenodd\" fill-opacity=\"1\" /><path clip-path=\"url(#clip790)\" d=\"M 0 0 M138.918 1431.51 Q135.307 1431.51 133.478 1435.08 Q131.672 1438.62 131.672 1445.75 Q131.672 1452.86 133.478 1456.42 Q135.307 1459.96 138.918 1459.96 Q142.552 1459.96 144.357 1456.42 Q146.186 1452.86 146.186 1445.75 Q146.186 1438.62 144.357 1435.08 Q142.552 1431.51 138.918 1431.51 M138.918 1427.81 Q144.728 1427.81 147.783 1432.42 Q150.862 1437 150.862 1445.75 Q150.862 1454.48 147.783 1459.08 Q144.728 1463.67 138.918 1463.67 Q133.107 1463.67 130.029 1459.08 Q126.973 1454.48 126.973 1445.75 Q126.973 1437 130.029 1432.42 Q133.107 1427.81 138.918 1427.81 Z\" fill=\"#000000\" fill-rule=\"evenodd\" fill-opacity=\"1\" /><path clip-path=\"url(#clip790)\" d=\"M 0 0 M77.5291 1092.08 Q73.918 1092.08 72.0893 1095.64 Q70.2838 1099.19 70.2838 1106.32 Q70.2838 1113.42 72.0893 1116.99 Q73.918 1120.53 77.5291 1120.53 Q81.1633 1120.53 82.9689 1116.99 Q84.7976 1113.42 84.7976 1106.32 Q84.7976 1099.19 82.9689 1095.64 Q81.1633 1092.08 77.5291 1092.08 M77.5291 1088.38 Q83.3392 1088.38 86.3948 1092.98 Q89.4735 1097.57 89.4735 1106.32 Q89.4735 1115.04 86.3948 1119.65 Q83.3392 1124.23 77.5291 1124.23 Q71.7189 1124.23 68.6402 1119.65 Q65.5847 1115.04 65.5847 1106.32 Q65.5847 1097.57 68.6402 1092.98 Q71.7189 1088.38 77.5291 1088.38 Z\" fill=\"#000000\" fill-rule=\"evenodd\" fill-opacity=\"1\" /><path clip-path=\"url(#clip790)\" d=\"M 0 0 M94.5429 1117.68 L99.4271 1117.68 L99.4271 1123.56 L94.5429 1123.56 L94.5429 1117.68 Z\" fill=\"#000000\" fill-rule=\"evenodd\" fill-opacity=\"1\" /><path clip-path=\"url(#clip790)\" d=\"M 0 0 M108.524 1119.63 L124.844 1119.63 L124.844 1123.56 L102.899 1123.56 L102.899 1119.63 Q105.561 1116.87 110.145 1112.24 Q114.751 1107.59 115.932 1106.25 Q118.177 1103.72 119.057 1101.99 Q119.959 1100.23 119.959 1098.54 Q119.959 1095.78 118.015 1094.05 Q116.094 1092.31 112.992 1092.31 Q110.793 1092.31 108.339 1093.07 Q105.909 1093.84 103.131 1095.39 L103.131 1090.67 Q105.955 1089.53 108.409 1088.95 Q110.862 1088.38 112.899 1088.38 Q118.27 1088.38 121.464 1091.06 Q124.658 1093.75 124.658 1098.24 Q124.658 1100.37 123.848 1102.29 Q123.061 1104.19 120.955 1106.78 Q120.376 1107.45 117.274 1110.67 Q114.172 1113.86 108.524 1119.63 Z\" fill=\"#000000\" fill-rule=\"evenodd\" fill-opacity=\"1\" /><path clip-path=\"url(#clip790)\" d=\"M 0 0 M129.959 1089 L148.316 1089 L148.316 1092.94 L134.242 1092.94 L134.242 1101.41 Q135.26 1101.06 136.279 1100.9 Q137.297 1100.71 138.316 1100.71 Q144.103 1100.71 147.482 1103.89 Q150.862 1107.06 150.862 1112.47 Q150.862 1118.05 147.39 1121.15 Q143.918 1124.23 137.598 1124.23 Q135.422 1124.23 133.154 1123.86 Q130.908 1123.49 128.501 1122.75 L128.501 1118.05 Q130.584 1119.19 132.807 1119.74 Q135.029 1120.3 137.506 1120.3 Q141.51 1120.3 143.848 1118.19 Q146.186 1116.08 146.186 1112.47 Q146.186 1108.86 143.848 1106.76 Q141.51 1104.65 137.506 1104.65 Q135.631 1104.65 133.756 1105.07 Q131.904 1105.48 129.959 1106.36 L129.959 1089 Z\" fill=\"#000000\" fill-rule=\"evenodd\" fill-opacity=\"1\" /><path clip-path=\"url(#clip790)\" d=\"M 0 0 M75.9319 752.645 Q72.3208 752.645 70.4921 756.209 Q68.6865 759.751 68.6865 766.881 Q68.6865 773.987 70.4921 777.552 Q72.3208 781.094 75.9319 781.094 Q79.5661 781.094 81.3717 777.552 Q83.2004 773.987 83.2004 766.881 Q83.2004 759.751 81.3717 756.209 Q79.5661 752.645 75.9319 752.645 M75.9319 748.941 Q81.742 748.941 84.7976 753.547 Q87.8763 758.131 87.8763 766.881 Q87.8763 775.608 84.7976 780.214 Q81.742 784.797 75.9319 784.797 Q70.1217 784.797 67.043 780.214 Q63.9875 775.608 63.9875 766.881 Q63.9875 758.131 67.043 753.547 Q70.1217 748.941 75.9319 748.941 Z\" fill=\"#000000\" fill-rule=\"evenodd\" fill-opacity=\"1\" /><path clip-path=\"url(#clip790)\" d=\"M 0 0 M92.9457 778.246 L97.8299 778.246 L97.8299 784.126 L92.9457 784.126 L92.9457 778.246 Z\" fill=\"#000000\" fill-rule=\"evenodd\" fill-opacity=\"1\" /><path clip-path=\"url(#clip790)\" d=\"M 0 0 M102.946 749.566 L121.302 749.566 L121.302 753.501 L107.228 753.501 L107.228 761.973 Q108.247 761.626 109.265 761.464 Q110.284 761.279 111.302 761.279 Q117.089 761.279 120.469 764.45 Q123.848 767.621 123.848 773.038 Q123.848 778.617 120.376 781.719 Q116.904 784.797 110.584 784.797 Q108.409 784.797 106.14 784.427 Q103.895 784.057 101.487 783.316 L101.487 778.617 Q103.571 779.751 105.793 780.307 Q108.015 780.862 110.492 780.862 Q114.496 780.862 116.834 778.756 Q119.172 776.649 119.172 773.038 Q119.172 769.427 116.834 767.321 Q114.496 765.214 110.492 765.214 Q108.617 765.214 106.742 765.631 Q104.89 766.047 102.946 766.927 L102.946 749.566 Z\" fill=\"#000000\" fill-rule=\"evenodd\" fill-opacity=\"1\" /><path clip-path=\"url(#clip790)\" d=\"M 0 0 M138.918 752.645 Q135.307 752.645 133.478 756.209 Q131.672 759.751 131.672 766.881 Q131.672 773.987 133.478 777.552 Q135.307 781.094 138.918 781.094 Q142.552 781.094 144.357 777.552 Q146.186 773.987 146.186 766.881 Q146.186 759.751 144.357 756.209 Q142.552 752.645 138.918 752.645 M138.918 748.941 Q144.728 748.941 147.783 753.547 Q150.862 758.131 150.862 766.881 Q150.862 775.608 147.783 780.214 Q144.728 784.797 138.918 784.797 Q133.107 784.797 130.029 780.214 Q126.973 775.608 126.973 766.881 Q126.973 758.131 130.029 753.547 Q133.107 748.941 138.918 748.941 Z\" fill=\"#000000\" fill-rule=\"evenodd\" fill-opacity=\"1\" /><path clip-path=\"url(#clip790)\" d=\"M 0 0 M76.8346 413.21 Q73.2236 413.21 71.3949 416.775 Q69.5893 420.316 69.5893 427.446 Q69.5893 434.552 71.3949 438.117 Q73.2236 441.659 76.8346 441.659 Q80.4689 441.659 82.2744 438.117 Q84.1031 434.552 84.1031 427.446 Q84.1031 420.316 82.2744 416.775 Q80.4689 413.21 76.8346 413.21 M76.8346 409.506 Q82.6448 409.506 85.7003 414.113 Q88.779 418.696 88.779 427.446 Q88.779 436.173 85.7003 440.779 Q82.6448 445.362 76.8346 445.362 Q71.0245 445.362 67.9458 440.779 Q64.8903 436.173 64.8903 427.446 Q64.8903 418.696 67.9458 414.113 Q71.0245 409.506 76.8346 409.506 Z\" fill=\"#000000\" fill-rule=\"evenodd\" fill-opacity=\"1\" /><path clip-path=\"url(#clip790)\" d=\"M 0 0 M93.8484 438.812 L98.7327 438.812 L98.7327 444.691 L93.8484 444.691 L93.8484 438.812 Z\" fill=\"#000000\" fill-rule=\"evenodd\" fill-opacity=\"1\" /><path clip-path=\"url(#clip790)\" d=\"M 0 0 M102.622 410.131 L124.844 410.131 L124.844 412.122 L112.297 444.691 L107.413 444.691 L119.219 414.066 L102.622 414.066 L102.622 410.131 Z\" fill=\"#000000\" fill-rule=\"evenodd\" fill-opacity=\"1\" /><path clip-path=\"url(#clip790)\" d=\"M 0 0 M129.959 410.131 L148.316 410.131 L148.316 414.066 L134.242 414.066 L134.242 422.538 Q135.26 422.191 136.279 422.029 Q137.297 421.844 138.316 421.844 Q144.103 421.844 147.482 425.015 Q150.862 428.187 150.862 433.603 Q150.862 439.182 147.39 442.284 Q143.918 445.362 137.598 445.362 Q135.422 445.362 133.154 444.992 Q130.908 444.622 128.501 443.881 L128.501 439.182 Q130.584 440.316 132.807 440.872 Q135.029 441.427 137.506 441.427 Q141.51 441.427 143.848 439.321 Q146.186 437.214 146.186 433.603 Q146.186 429.992 143.848 427.886 Q141.51 425.779 137.506 425.779 Q135.631 425.779 133.756 426.196 Q131.904 426.613 129.959 427.492 L129.959 410.131 Z\" fill=\"#000000\" fill-rule=\"evenodd\" fill-opacity=\"1\" /><path clip-path=\"url(#clip790)\" d=\"M 0 0 M66.9736 101.321 L74.6124 101.321 L74.6124 74.9555 L66.3023 76.6222 L66.3023 72.3629 L74.5661 70.6963 L79.242 70.6963 L79.242 101.321 L86.8809 101.321 L86.8809 105.256 L66.9736 105.256 L66.9736 101.321 Z\" fill=\"#000000\" fill-rule=\"evenodd\" fill-opacity=\"1\" /><path clip-path=\"url(#clip790)\" d=\"M 0 0 M91.9503 99.3767 L96.8345 99.3767 L96.8345 105.256 L91.9503 105.256 L91.9503 99.3767 Z\" fill=\"#000000\" fill-rule=\"evenodd\" fill-opacity=\"1\" /><path clip-path=\"url(#clip790)\" d=\"M 0 0 M111.904 73.775 Q108.293 73.775 106.464 77.3398 Q104.659 80.8814 104.659 88.011 Q104.659 95.1174 106.464 98.6822 Q108.293 102.224 111.904 102.224 Q115.538 102.224 117.344 98.6822 Q119.172 95.1174 119.172 88.011 Q119.172 80.8814 117.344 77.3398 Q115.538 73.775 111.904 73.775 M111.904 70.0713 Q117.714 70.0713 120.77 74.6777 Q123.848 79.261 123.848 88.011 Q123.848 96.7378 120.77 101.344 Q117.714 105.928 111.904 105.928 Q106.094 105.928 103.015 101.344 Q99.9595 96.7378 99.9595 88.011 Q99.9595 79.261 103.015 74.6777 Q106.094 70.0713 111.904 70.0713 Z\" fill=\"#000000\" fill-rule=\"evenodd\" fill-opacity=\"1\" /><path clip-path=\"url(#clip790)\" d=\"M 0 0 M138.918 73.775 Q135.307 73.775 133.478 77.3398 Q131.672 80.8814 131.672 88.011 Q131.672 95.1174 133.478 98.6822 Q135.307 102.224 138.918 102.224 Q142.552 102.224 144.357 98.6822 Q146.186 95.1174 146.186 88.011 Q146.186 80.8814 144.357 77.3398 Q142.552 73.775 138.918 73.775 M138.918 70.0713 Q144.728 70.0713 147.783 74.6777 Q150.862 79.261 150.862 88.011 Q150.862 96.7378 147.783 101.344 Q144.728 105.928 138.918 105.928 Q133.107 105.928 130.029 101.344 Q126.973 96.7378 126.973 88.011 Q126.973 79.261 130.029 74.6777 Q133.107 70.0713 138.918 70.0713 Z\" fill=\"#000000\" fill-rule=\"evenodd\" fill-opacity=\"1\" /><polyline clip-path=\"url(#clip792)\" style=\"stroke:#009af9; stroke-width:4; stroke-opacity:1; fill:none\" points=\"\n",
       "  236.501,1445.72 317.445,1432 339.18,1418.29 395.096,1404.57 398.484,1390.86 457.006,1377.14 554.786,1363.43 608.486,1349.71 620.463,1336 649.001,1322.28 \n",
       "  670.062,1308.57 685.476,1294.86 722.237,1281.14 760.562,1267.43 780.599,1253.71 792.148,1240 797.551,1226.28 813.947,1212.57 848.702,1198.85 863.904,1185.14 \n",
       "  864.065,1171.42 870.197,1157.71 870.467,1144 881.787,1130.28 893.704,1116.57 897.736,1102.85 930.241,1089.14 938.938,1075.42 951.09,1061.71 952.188,1047.99 \n",
       "  955.228,1034.28 957.07,1020.56 959.357,1006.85 962.334,993.136 966.663,979.421 973.449,965.707 974.168,951.992 985.547,938.278 1001.64,924.563 1003.28,910.849 \n",
       "  1010.91,897.134 1025.83,883.42 1042.78,869.705 1048.95,855.99 1050.19,842.276 1052.74,828.561 1061.05,814.847 1063.15,801.132 1064.14,787.418 1067.33,773.703 \n",
       "  1077.23,759.989 1081.67,746.274 1083.99,732.56 1103.18,718.845 1114.37,705.131 1124.55,691.416 1126.68,677.701 1131.51,663.987 1134.26,650.272 1141.99,636.558 \n",
       "  1146.52,622.843 1157.7,609.129 1162.37,595.414 1168.02,581.7 1181.6,567.985 1193.23,554.271 1193.92,540.556 1198.34,526.842 1200.28,513.127 1202.82,499.412 \n",
       "  1210.56,485.698 1215.22,471.983 1218.61,458.269 1222.16,444.554 1223.36,430.84 1225.68,417.125 1239.15,403.411 1267.62,389.696 1268.62,375.982 1273.82,362.267 \n",
       "  1274.52,348.553 1345.35,334.838 1345.81,321.123 1360.93,307.409 1383.89,293.694 1405.21,279.98 1452.94,266.265 1464.87,252.551 1542.67,238.836 1553.42,225.122 \n",
       "  1575.27,211.407 1581.11,197.693 1584.58,183.978 1591.63,170.264 1601.96,156.549 1618.55,142.834 1723.79,129.12 1783.26,115.405 1812.71,101.691 2291.12,87.9763 \n",
       "  \n",
       "  \"/>\n",
       "<polyline clip-path=\"url(#clip792)\" style=\"stroke:#e26f46; stroke-width:4; stroke-opacity:1; fill:none\" points=\"\n",
       "  1010.13,1445.72 1011.81,1445.72 1012.42,1445.72 1014.96,87.9763 1016.03,87.9763 1024.72,87.9763 1025.58,87.9763 1028.5,87.9763 1064.81,87.9763 1064.93,87.9763 \n",
       "  1070.47,87.9763 1073.84,87.9763 1074.12,87.9763 1074.32,87.9763 1074.72,87.9763 1074.85,87.9763 1075.42,87.9763 1075.71,87.9763 1075.79,87.9763 1075.8,87.9763 \n",
       "  1075.84,87.9763 1075.95,87.9763 1076,87.9763 1076.12,87.9763 1076.19,87.9763 1076.32,87.9763 1076.4,87.9763 1076.45,87.9763 1076.6,87.9763 1076.64,87.9763 \n",
       "  1076.72,87.9763 1076.81,87.9763 1076.93,87.9763 1076.95,87.9763 1077.03,87.9763 1077.05,87.9763 1077.16,87.9763 1077.18,87.9763 1077.19,87.9763 1077.21,87.9763 \n",
       "  1077.22,87.9763 1077.52,87.9763 1077.66,87.9763 1077.8,87.9763 1077.92,87.9763 1078.05,87.9763 1078.14,87.9763 1078.17,87.9763 1078.25,87.9763 1078.37,87.9763 \n",
       "  1078.44,87.9763 1078.53,87.9763 1078.68,87.9763 1078.72,87.9763 1078.89,87.9763 1078.94,87.9763 1079.07,87.9763 1079.23,87.9763 1079.25,87.9763 1079.31,87.9763 \n",
       "  1134.79,87.9763 1149.92,87.9763 1156.4,87.9763 1162.83,87.9763 1162.83,87.9763 \n",
       "  \"/>\n",
       "<path clip-path=\"url(#clip790)\" d=\"\n",
       "M1989.74 312.204 L2280.76 312.204 L2280.76 130.764 L1989.74 130.764  Z\n",
       "  \" fill=\"#ffffff\" fill-rule=\"evenodd\" fill-opacity=\"1\"/>\n",
       "<polyline clip-path=\"url(#clip790)\" style=\"stroke:#000000; stroke-width:4; stroke-opacity:1; fill:none\" points=\"\n",
       "  1989.74,312.204 2280.76,312.204 2280.76,130.764 1989.74,130.764 1989.74,312.204 \n",
       "  \"/>\n",
       "<polyline clip-path=\"url(#clip790)\" style=\"stroke:#009af9; stroke-width:4; stroke-opacity:1; fill:none\" points=\"\n",
       "  2013.74,191.244 2157.74,191.244 \n",
       "  \"/>\n",
       "<path clip-path=\"url(#clip790)\" d=\"M 0 0 M2195.58 210.931 Q2193.77 215.561 2192.06 216.973 Q2190.35 218.385 2187.48 218.385 L2184.08 218.385 L2184.08 214.82 L2186.58 214.82 Q2188.33 214.82 2189.31 213.987 Q2190.28 213.154 2191.46 210.052 L2192.22 208.107 L2181.74 182.598 L2186.25 182.598 L2194.35 202.876 L2202.46 182.598 L2206.97 182.598 L2195.58 210.931 Z\" fill=\"#000000\" fill-rule=\"evenodd\" fill-opacity=\"1\" /><path clip-path=\"url(#clip790)\" d=\"M 0 0 M2212.85 204.589 L2220.49 204.589 L2220.49 178.223 L2212.18 179.89 L2212.18 175.631 L2220.44 173.964 L2225.12 173.964 L2225.12 204.589 L2232.76 204.589 L2232.76 208.524 L2212.85 208.524 L2212.85 204.589 Z\" fill=\"#000000\" fill-rule=\"evenodd\" fill-opacity=\"1\" /><polyline clip-path=\"url(#clip790)\" style=\"stroke:#e26f46; stroke-width:4; stroke-opacity:1; fill:none\" points=\"\n",
       "  2013.74,251.724 2157.74,251.724 \n",
       "  \"/>\n",
       "<path clip-path=\"url(#clip790)\" d=\"M 0 0 M2195.58 271.411 Q2193.77 276.041 2192.06 277.453 Q2190.35 278.865 2187.48 278.865 L2184.08 278.865 L2184.08 275.3 L2186.58 275.3 Q2188.33 275.3 2189.31 274.467 Q2190.28 273.634 2191.46 270.532 L2192.22 268.587 L2181.74 243.078 L2186.25 243.078 L2194.35 263.356 L2202.46 243.078 L2206.97 243.078 L2195.58 271.411 Z\" fill=\"#000000\" fill-rule=\"evenodd\" fill-opacity=\"1\" /><path clip-path=\"url(#clip790)\" d=\"M 0 0 M2216.07 265.069 L2232.39 265.069 L2232.39 269.004 L2210.44 269.004 L2210.44 265.069 Q2213.1 262.314 2217.69 257.685 Q2222.29 253.032 2223.47 251.689 Q2225.72 249.166 2226.6 247.43 Q2227.5 245.671 2227.5 243.981 Q2227.5 241.226 2225.56 239.49 Q2223.64 237.754 2220.53 237.754 Q2218.33 237.754 2215.88 238.518 Q2213.45 239.282 2210.67 240.833 L2210.67 236.111 Q2213.5 234.976 2215.95 234.398 Q2218.4 233.819 2220.44 233.819 Q2225.81 233.819 2229.01 236.504 Q2232.2 239.189 2232.2 243.68 Q2232.2 245.81 2231.39 247.731 Q2230.6 249.629 2228.5 252.222 Q2227.92 252.893 2224.82 256.111 Q2221.71 259.305 2216.07 265.069 Z\" fill=\"#000000\" fill-rule=\"evenodd\" fill-opacity=\"1\" /></svg>\n"
      ]
     },
     "execution_count": 113,
     "metadata": {},
     "output_type": "execute_result"
    }
   ],
   "source": [
    "\n",
    "\n",
    "ind  = sortperm(y_y_list[ii][:,time_step])\n",
    "\n",
    "plot(y_y_list[ii][ind,time_step],LinRange(0,1,N_k_fine))\n",
    "\n",
    "q_t_ = run(sess,q_t_y[ii],feed_dict = Dict(lambda => ones(1)*T_,N_k_dis=>64.0))\n",
    "p_ = run(sess,p,feed_dict = Dict(lambda => ones(1)*T_,N_k_dis=>64.0))\n",
    "\n",
    "\n",
    "ind  = sortperm(q_t_[time_step,:,1])\n",
    "\n",
    "# plot!(q_t_[time_step,ind,1],cumsum(p_[1,ind]))\n",
    "plot!([q_t_[time_step,ind,1];q_t_[time_step,ind[end],1]],[0;cumsum(p_[1,ind])])\n",
    "\n",
    "\n",
    "# ind  = sortperm(y_y_list[ii][:,time_step])\n",
    "\n",
    "# plot!(y_y_list[ii][ind,time_step],LinRange(0,1,N_k_fine))\n"
   ]
  },
  {
   "cell_type": "code",
   "execution_count": 114,
   "metadata": {},
   "outputs": [
    {
     "data": {
      "image/svg+xml": [
       "<?xml version=\"1.0\" encoding=\"utf-8\"?>\n",
       "<svg xmlns=\"http://www.w3.org/2000/svg\" xmlns:xlink=\"http://www.w3.org/1999/xlink\" width=\"600\" height=\"400\" viewBox=\"0 0 2400 1600\">\n",
       "<defs>\n",
       "  <clipPath id=\"clip830\">\n",
       "    <rect x=\"0\" y=\"0\" width=\"2400\" height=\"1600\"/>\n",
       "  </clipPath>\n",
       "</defs>\n",
       "<path clip-path=\"url(#clip830)\" d=\"\n",
       "M0 1600 L2400 1600 L2400 0 L0 0  Z\n",
       "  \" fill=\"#ffffff\" fill-rule=\"evenodd\" fill-opacity=\"1\"/>\n",
       "<defs>\n",
       "  <clipPath id=\"clip831\">\n",
       "    <rect x=\"480\" y=\"0\" width=\"1681\" height=\"1600\"/>\n",
       "  </clipPath>\n",
       "</defs>\n",
       "<path clip-path=\"url(#clip830)\" d=\"\n",
       "M250.626 1486.45 L2352.76 1486.45 L2352.76 47.2441 L250.626 47.2441  Z\n",
       "  \" fill=\"#ffffff\" fill-rule=\"evenodd\" fill-opacity=\"1\"/>\n",
       "<defs>\n",
       "  <clipPath id=\"clip832\">\n",
       "    <rect x=\"250\" y=\"47\" width=\"2103\" height=\"1440\"/>\n",
       "  </clipPath>\n",
       "</defs>\n",
       "<polyline clip-path=\"url(#clip832)\" style=\"stroke:#000000; stroke-width:2; stroke-opacity:0.1; fill:none\" points=\"\n",
       "  530.469,1486.45 530.469,47.2441 \n",
       "  \"/>\n",
       "<polyline clip-path=\"url(#clip832)\" style=\"stroke:#000000; stroke-width:2; stroke-opacity:0.1; fill:none\" points=\"\n",
       "  971.167,1486.45 971.167,47.2441 \n",
       "  \"/>\n",
       "<polyline clip-path=\"url(#clip832)\" style=\"stroke:#000000; stroke-width:2; stroke-opacity:0.1; fill:none\" points=\"\n",
       "  1411.87,1486.45 1411.87,47.2441 \n",
       "  \"/>\n",
       "<polyline clip-path=\"url(#clip832)\" style=\"stroke:#000000; stroke-width:2; stroke-opacity:0.1; fill:none\" points=\"\n",
       "  1852.56,1486.45 1852.56,47.2441 \n",
       "  \"/>\n",
       "<polyline clip-path=\"url(#clip832)\" style=\"stroke:#000000; stroke-width:2; stroke-opacity:0.1; fill:none\" points=\"\n",
       "  2293.26,1486.45 2293.26,47.2441 \n",
       "  \"/>\n",
       "<polyline clip-path=\"url(#clip832)\" style=\"stroke:#000000; stroke-width:2; stroke-opacity:0.1; fill:none\" points=\"\n",
       "  250.626,1233.16 2352.76,1233.16 \n",
       "  \"/>\n",
       "<polyline clip-path=\"url(#clip832)\" style=\"stroke:#000000; stroke-width:2; stroke-opacity:0.1; fill:none\" points=\"\n",
       "  250.626,971.982 2352.76,971.982 \n",
       "  \"/>\n",
       "<polyline clip-path=\"url(#clip832)\" style=\"stroke:#000000; stroke-width:2; stroke-opacity:0.1; fill:none\" points=\"\n",
       "  250.626,710.8 2352.76,710.8 \n",
       "  \"/>\n",
       "<polyline clip-path=\"url(#clip832)\" style=\"stroke:#000000; stroke-width:2; stroke-opacity:0.1; fill:none\" points=\"\n",
       "  250.626,449.619 2352.76,449.619 \n",
       "  \"/>\n",
       "<polyline clip-path=\"url(#clip832)\" style=\"stroke:#000000; stroke-width:2; stroke-opacity:0.1; fill:none\" points=\"\n",
       "  250.626,188.437 2352.76,188.437 \n",
       "  \"/>\n",
       "<polyline clip-path=\"url(#clip830)\" style=\"stroke:#000000; stroke-width:4; stroke-opacity:1; fill:none\" points=\"\n",
       "  250.626,1486.45 2352.76,1486.45 \n",
       "  \"/>\n",
       "<polyline clip-path=\"url(#clip830)\" style=\"stroke:#000000; stroke-width:4; stroke-opacity:1; fill:none\" points=\"\n",
       "  250.626,1486.45 250.626,47.2441 \n",
       "  \"/>\n",
       "<polyline clip-path=\"url(#clip830)\" style=\"stroke:#000000; stroke-width:4; stroke-opacity:1; fill:none\" points=\"\n",
       "  530.469,1486.45 530.469,1469.18 \n",
       "  \"/>\n",
       "<polyline clip-path=\"url(#clip830)\" style=\"stroke:#000000; stroke-width:4; stroke-opacity:1; fill:none\" points=\"\n",
       "  971.167,1486.45 971.167,1469.18 \n",
       "  \"/>\n",
       "<polyline clip-path=\"url(#clip830)\" style=\"stroke:#000000; stroke-width:4; stroke-opacity:1; fill:none\" points=\"\n",
       "  1411.87,1486.45 1411.87,1469.18 \n",
       "  \"/>\n",
       "<polyline clip-path=\"url(#clip830)\" style=\"stroke:#000000; stroke-width:4; stroke-opacity:1; fill:none\" points=\"\n",
       "  1852.56,1486.45 1852.56,1469.18 \n",
       "  \"/>\n",
       "<polyline clip-path=\"url(#clip830)\" style=\"stroke:#000000; stroke-width:4; stroke-opacity:1; fill:none\" points=\"\n",
       "  2293.26,1486.45 2293.26,1469.18 \n",
       "  \"/>\n",
       "<polyline clip-path=\"url(#clip830)\" style=\"stroke:#000000; stroke-width:4; stroke-opacity:1; fill:none\" points=\"\n",
       "  250.626,1233.16 275.851,1233.16 \n",
       "  \"/>\n",
       "<polyline clip-path=\"url(#clip830)\" style=\"stroke:#000000; stroke-width:4; stroke-opacity:1; fill:none\" points=\"\n",
       "  250.626,971.982 275.851,971.982 \n",
       "  \"/>\n",
       "<polyline clip-path=\"url(#clip830)\" style=\"stroke:#000000; stroke-width:4; stroke-opacity:1; fill:none\" points=\"\n",
       "  250.626,710.8 275.851,710.8 \n",
       "  \"/>\n",
       "<polyline clip-path=\"url(#clip830)\" style=\"stroke:#000000; stroke-width:4; stroke-opacity:1; fill:none\" points=\"\n",
       "  250.626,449.619 275.851,449.619 \n",
       "  \"/>\n",
       "<polyline clip-path=\"url(#clip830)\" style=\"stroke:#000000; stroke-width:4; stroke-opacity:1; fill:none\" points=\"\n",
       "  250.626,188.437 275.851,188.437 \n",
       "  \"/>\n",
       "<path clip-path=\"url(#clip830)\" d=\"M 0 0 M525.122 1535.98 L541.441 1535.98 L541.441 1539.92 L519.497 1539.92 L519.497 1535.98 Q522.159 1533.23 526.742 1528.6 Q531.348 1523.95 532.529 1522.61 Q534.774 1520.08 535.654 1518.35 Q536.557 1516.59 536.557 1514.9 Q536.557 1512.14 534.612 1510.41 Q532.691 1508.67 529.589 1508.67 Q527.39 1508.67 524.936 1509.43 Q522.506 1510.2 519.728 1511.75 L519.728 1507.03 Q522.552 1505.89 525.006 1505.31 Q527.46 1504.73 529.497 1504.73 Q534.867 1504.73 538.061 1507.42 Q541.256 1510.11 541.256 1514.6 Q541.256 1516.73 540.446 1518.65 Q539.659 1520.54 537.552 1523.14 Q536.973 1523.81 533.872 1527.03 Q530.77 1530.22 525.122 1535.98 Z\" fill=\"#000000\" fill-rule=\"evenodd\" fill-opacity=\"1\" /><path clip-path=\"url(#clip830)\" d=\"M 0 0 M974.176 1509.43 L962.371 1527.88 L974.176 1527.88 L974.176 1509.43 M972.949 1505.36 L978.829 1505.36 L978.829 1527.88 L983.76 1527.88 L983.76 1531.77 L978.829 1531.77 L978.829 1539.92 L974.176 1539.92 L974.176 1531.77 L958.575 1531.77 L958.575 1527.26 L972.949 1505.36 Z\" fill=\"#000000\" fill-rule=\"evenodd\" fill-opacity=\"1\" /><path clip-path=\"url(#clip830)\" d=\"M 0 0 M1412.27 1520.78 Q1409.12 1520.78 1407.27 1522.93 Q1405.44 1525.08 1405.44 1528.83 Q1405.44 1532.56 1407.27 1534.73 Q1409.12 1536.89 1412.27 1536.89 Q1415.42 1536.89 1417.25 1534.73 Q1419.1 1532.56 1419.1 1528.83 Q1419.1 1525.08 1417.25 1522.93 Q1415.42 1520.78 1412.27 1520.78 M1421.55 1506.12 L1421.55 1510.38 Q1419.79 1509.55 1417.99 1509.11 Q1416.21 1508.67 1414.45 1508.67 Q1409.82 1508.67 1407.36 1511.8 Q1404.93 1514.92 1404.59 1521.24 Q1405.95 1519.23 1408.01 1518.16 Q1410.07 1517.07 1412.55 1517.07 Q1417.76 1517.07 1420.77 1520.24 Q1423.8 1523.39 1423.8 1528.83 Q1423.8 1534.16 1420.65 1537.37 Q1417.5 1540.59 1412.27 1540.59 Q1406.28 1540.59 1403.1 1536.01 Q1399.93 1531.4 1399.93 1522.67 Q1399.93 1514.48 1403.82 1509.62 Q1407.71 1504.73 1414.26 1504.73 Q1416.02 1504.73 1417.8 1505.08 Q1419.61 1505.43 1421.55 1506.12 Z\" fill=\"#000000\" fill-rule=\"evenodd\" fill-opacity=\"1\" /><path clip-path=\"url(#clip830)\" d=\"M 0 0 M1852.56 1523.51 Q1849.23 1523.51 1847.31 1525.29 Q1845.41 1527.07 1845.41 1530.2 Q1845.41 1533.32 1847.31 1535.11 Q1849.23 1536.89 1852.56 1536.89 Q1855.9 1536.89 1857.82 1535.11 Q1859.74 1533.3 1859.74 1530.2 Q1859.74 1527.07 1857.82 1525.29 Q1855.92 1523.51 1852.56 1523.51 M1847.89 1521.52 Q1844.88 1520.78 1843.19 1518.72 Q1841.52 1516.66 1841.52 1513.69 Q1841.52 1509.55 1844.46 1507.14 Q1847.42 1504.73 1852.56 1504.73 Q1857.73 1504.73 1860.67 1507.14 Q1863.61 1509.55 1863.61 1513.69 Q1863.61 1516.66 1861.92 1518.72 Q1860.25 1520.78 1857.26 1521.52 Q1860.64 1522.3 1862.52 1524.6 Q1864.42 1526.89 1864.42 1530.2 Q1864.42 1535.22 1861.34 1537.91 Q1858.28 1540.59 1852.56 1540.59 Q1846.85 1540.59 1843.77 1537.91 Q1840.71 1535.22 1840.71 1530.2 Q1840.71 1526.89 1842.61 1524.6 Q1844.51 1522.3 1847.89 1521.52 M1846.17 1514.13 Q1846.17 1516.82 1847.84 1518.32 Q1849.53 1519.83 1852.56 1519.83 Q1855.57 1519.83 1857.26 1518.32 Q1858.98 1516.82 1858.98 1514.13 Q1858.98 1511.45 1857.26 1509.94 Q1855.57 1508.44 1852.56 1508.44 Q1849.53 1508.44 1847.84 1509.94 Q1846.17 1511.45 1846.17 1514.13 Z\" fill=\"#000000\" fill-rule=\"evenodd\" fill-opacity=\"1\" /><path clip-path=\"url(#clip830)\" d=\"M 0 0 M2270.14 1535.98 L2277.78 1535.98 L2277.78 1509.62 L2269.47 1511.29 L2269.47 1507.03 L2277.73 1505.36 L2282.41 1505.36 L2282.41 1535.98 L2290.04 1535.98 L2290.04 1539.92 L2270.14 1539.92 L2270.14 1535.98 Z\" fill=\"#000000\" fill-rule=\"evenodd\" fill-opacity=\"1\" /><path clip-path=\"url(#clip830)\" d=\"M 0 0 M2305.11 1508.44 Q2301.5 1508.44 2299.67 1512 Q2297.87 1515.55 2297.87 1522.67 Q2297.87 1529.78 2299.67 1533.35 Q2301.5 1536.89 2305.11 1536.89 Q2308.75 1536.89 2310.55 1533.35 Q2312.38 1529.78 2312.38 1522.67 Q2312.38 1515.55 2310.55 1512 Q2308.75 1508.44 2305.11 1508.44 M2305.11 1504.73 Q2310.92 1504.73 2313.98 1509.34 Q2317.06 1513.92 2317.06 1522.67 Q2317.06 1531.4 2313.98 1536.01 Q2310.92 1540.59 2305.11 1540.59 Q2299.3 1540.59 2296.22 1536.01 Q2293.17 1531.4 2293.17 1522.67 Q2293.17 1513.92 2296.22 1509.34 Q2299.3 1504.73 2305.11 1504.73 Z\" fill=\"#000000\" fill-rule=\"evenodd\" fill-opacity=\"1\" /><path clip-path=\"url(#clip830)\" d=\"M 0 0 M45.4618 1242.01 L57.9386 1242.01 L57.9386 1245.8 L45.4618 1245.8 L45.4618 1242.01 Z\" fill=\"#000000\" fill-rule=\"evenodd\" fill-opacity=\"1\" /><path clip-path=\"url(#clip830)\" d=\"M 0 0 M80.7626 1252.96 L97.0819 1252.96 L97.0819 1256.89 L75.1376 1256.89 L75.1376 1252.96 Q77.7996 1250.2 82.3829 1245.57 Q86.9894 1240.92 88.1699 1239.58 Q90.4153 1237.05 91.2949 1235.32 Q92.1977 1233.56 92.1977 1231.87 Q92.1977 1229.11 90.2533 1227.38 Q88.332 1225.64 85.2301 1225.64 Q83.0311 1225.64 80.5774 1226.41 Q78.1468 1227.17 75.3691 1228.72 L75.3691 1224 Q78.1931 1222.86 80.6468 1222.29 Q83.1005 1221.71 85.1376 1221.71 Q90.5079 1221.71 93.7023 1224.39 Q96.8967 1227.08 96.8967 1231.57 Q96.8967 1233.7 96.0866 1235.62 Q95.2995 1237.52 93.1931 1240.11 Q92.6144 1240.78 89.5125 1244 Q86.4107 1247.19 80.7626 1252.96 Z\" fill=\"#000000\" fill-rule=\"evenodd\" fill-opacity=\"1\" /><path clip-path=\"url(#clip830)\" d=\"M 0 0 M130.322 1231.43 L119.744 1242.05 L130.322 1252.63 L127.568 1255.43 L116.943 1244.81 L106.318 1255.43 L103.587 1252.63 L114.142 1242.05 L103.587 1231.43 L106.318 1228.63 L116.943 1239.25 L127.568 1228.63 L130.322 1231.43 Z\" fill=\"#000000\" fill-rule=\"evenodd\" fill-opacity=\"1\" /><path clip-path=\"url(#clip830)\" d=\"M 0 0 M136.202 1252.96 L143.841 1252.96 L143.841 1226.59 L135.531 1228.26 L135.531 1224 L143.795 1222.33 L148.471 1222.33 L148.471 1252.96 L156.109 1252.96 L156.109 1256.89 L136.202 1256.89 L136.202 1252.96 Z\" fill=\"#000000\" fill-rule=\"evenodd\" fill-opacity=\"1\" /><path clip-path=\"url(#clip830)\" d=\"M 0 0 M171.179 1225.41 Q167.568 1225.41 165.739 1228.98 Q163.933 1232.52 163.933 1239.65 Q163.933 1246.75 165.739 1250.32 Q167.568 1253.86 171.179 1253.86 Q174.813 1253.86 176.619 1250.32 Q178.447 1246.75 178.447 1239.65 Q178.447 1232.52 176.619 1228.98 Q174.813 1225.41 171.179 1225.41 M171.179 1221.71 Q176.989 1221.71 180.044 1226.31 Q183.123 1230.9 183.123 1239.65 Q183.123 1248.37 180.044 1252.98 Q176.989 1257.56 171.179 1257.56 Q165.369 1257.56 162.29 1252.98 Q159.234 1248.37 159.234 1239.65 Q159.234 1230.9 162.29 1226.31 Q165.369 1221.71 171.179 1221.71 Z\" fill=\"#000000\" fill-rule=\"evenodd\" fill-opacity=\"1\" /><path clip-path=\"url(#clip830)\" d=\"M 0 0 M183.123 1217.39 L193.261 1217.39 L193.261 1220.47 L183.123 1220.47 L183.123 1217.39 Z\" fill=\"#000000\" fill-rule=\"evenodd\" fill-opacity=\"1\" /><path clip-path=\"url(#clip830)\" d=\"M 0 0 M217.259 1213.93 Q214.701 1213.93 213.197 1215.68 Q211.711 1217.43 211.711 1220.47 Q211.711 1223.5 213.197 1225.27 Q214.701 1227.02 217.259 1227.02 Q219.817 1227.02 221.303 1225.27 Q222.808 1223.5 222.808 1220.47 Q222.808 1217.43 221.303 1215.68 Q219.817 1213.93 217.259 1213.93 M224.801 1202.02 L224.801 1205.48 Q223.372 1204.81 221.905 1204.45 Q220.457 1204.09 219.027 1204.09 Q215.266 1204.09 213.272 1206.63 Q211.297 1209.17 211.015 1214.3 Q212.125 1212.67 213.799 1211.8 Q215.473 1210.92 217.485 1210.92 Q221.717 1210.92 224.162 1213.49 Q226.626 1216.05 226.626 1220.47 Q226.626 1224.8 224.068 1227.41 Q221.51 1230.03 217.259 1230.03 Q212.388 1230.03 209.811 1226.3 Q207.235 1222.56 207.235 1215.47 Q207.235 1208.81 210.394 1204.86 Q213.554 1200.89 218.877 1200.89 Q220.306 1200.89 221.754 1201.18 Q223.221 1201.46 224.801 1202.02 Z\" fill=\"#000000\" fill-rule=\"evenodd\" fill-opacity=\"1\" /><path clip-path=\"url(#clip830)\" d=\"M 0 0 M46.8276 980.826 L59.3044 980.826 L59.3044 984.622 L46.8276 984.622 L46.8276 980.826 Z\" fill=\"#000000\" fill-rule=\"evenodd\" fill-opacity=\"1\" /><path clip-path=\"url(#clip830)\" d=\"M 0 0 M77.1746 991.775 L84.8135 991.775 L84.8135 965.409 L76.5033 967.076 L76.5033 962.817 L84.7672 961.15 L89.4431 961.15 L89.4431 991.775 L97.0819 991.775 L97.0819 995.71 L77.1746 995.71 L77.1746 991.775 Z\" fill=\"#000000\" fill-rule=\"evenodd\" fill-opacity=\"1\" /><path clip-path=\"url(#clip830)\" d=\"M 0 0 M130.322 970.247 L119.744 980.872 L130.322 991.451 L127.568 994.252 L116.943 983.627 L106.318 994.252 L103.587 991.451 L114.142 980.872 L103.587 970.247 L106.318 967.446 L116.943 978.071 L127.568 967.446 L130.322 970.247 Z\" fill=\"#000000\" fill-rule=\"evenodd\" fill-opacity=\"1\" /><path clip-path=\"url(#clip830)\" d=\"M 0 0 M136.202 991.775 L143.841 991.775 L143.841 965.409 L135.531 967.076 L135.531 962.817 L143.795 961.15 L148.471 961.15 L148.471 991.775 L156.109 991.775 L156.109 995.71 L136.202 995.71 L136.202 991.775 Z\" fill=\"#000000\" fill-rule=\"evenodd\" fill-opacity=\"1\" /><path clip-path=\"url(#clip830)\" d=\"M 0 0 M171.179 964.229 Q167.568 964.229 165.739 967.793 Q163.933 971.335 163.933 978.465 Q163.933 985.571 165.739 989.136 Q167.568 992.678 171.179 992.678 Q174.813 992.678 176.619 989.136 Q178.447 985.571 178.447 978.465 Q178.447 971.335 176.619 967.793 Q174.813 964.229 171.179 964.229 M171.179 960.525 Q176.989 960.525 180.044 965.131 Q183.123 969.715 183.123 978.465 Q183.123 987.191 180.044 991.798 Q176.989 996.381 171.179 996.381 Q165.369 996.381 162.29 991.798 Q159.234 987.191 159.234 978.465 Q159.234 969.715 162.29 965.131 Q165.369 960.525 171.179 960.525 Z\" fill=\"#000000\" fill-rule=\"evenodd\" fill-opacity=\"1\" /><path clip-path=\"url(#clip830)\" d=\"M 0 0 M183.123 956.206 L193.261 956.206 L193.261 959.291 L183.123 959.291 L183.123 956.206 Z\" fill=\"#000000\" fill-rule=\"evenodd\" fill-opacity=\"1\" /><path clip-path=\"url(#clip830)\" d=\"M 0 0 M217.259 952.746 Q214.701 952.746 213.197 954.495 Q211.711 956.244 211.711 959.291 Q211.711 962.319 213.197 964.087 Q214.701 965.836 217.259 965.836 Q219.817 965.836 221.303 964.087 Q222.808 962.319 222.808 959.291 Q222.808 956.244 221.303 954.495 Q219.817 952.746 217.259 952.746 M224.801 940.84 L224.801 944.301 Q223.372 943.624 221.905 943.266 Q220.457 942.909 219.027 942.909 Q215.266 942.909 213.272 945.448 Q211.297 947.987 211.015 953.122 Q212.125 951.485 213.799 950.62 Q215.473 949.736 217.485 949.736 Q221.717 949.736 224.162 952.313 Q226.626 954.871 226.626 959.291 Q226.626 963.616 224.068 966.231 Q221.51 968.845 217.259 968.845 Q212.388 968.845 209.811 965.121 Q207.235 961.378 207.235 954.288 Q207.235 947.63 210.394 943.68 Q213.554 939.712 218.877 939.712 Q220.306 939.712 221.754 939.994 Q223.221 940.276 224.801 940.84 Z\" fill=\"#000000\" fill-rule=\"evenodd\" fill-opacity=\"1\" /><path clip-path=\"url(#clip830)\" d=\"M 0 0 M214.681 696.599 Q211.07 696.599 209.241 700.164 Q207.436 703.706 207.436 710.835 Q207.436 717.942 209.241 721.506 Q211.07 725.048 214.681 725.048 Q218.315 725.048 220.121 721.506 Q221.95 717.942 221.95 710.835 Q221.95 703.706 220.121 700.164 Q218.315 696.599 214.681 696.599 M214.681 692.895 Q220.491 692.895 223.547 697.502 Q226.626 702.085 226.626 710.835 Q226.626 719.562 223.547 724.168 Q220.491 728.752 214.681 728.752 Q208.871 728.752 205.792 724.168 Q202.737 719.562 202.737 710.835 Q202.737 702.085 205.792 697.502 Q208.871 692.895 214.681 692.895 Z\" fill=\"#000000\" fill-rule=\"evenodd\" fill-opacity=\"1\" /><path clip-path=\"url(#clip830)\" d=\"M 0 0 M77.1746 469.411 L84.8135 469.411 L84.8135 443.045 L76.5033 444.712 L76.5033 440.453 L84.7672 438.786 L89.4431 438.786 L89.4431 469.411 L97.0819 469.411 L97.0819 473.346 L77.1746 473.346 L77.1746 469.411 Z\" fill=\"#000000\" fill-rule=\"evenodd\" fill-opacity=\"1\" /><path clip-path=\"url(#clip830)\" d=\"M 0 0 M130.322 447.883 L119.744 458.508 L130.322 469.087 L127.568 471.888 L116.943 461.263 L106.318 471.888 L103.587 469.087 L114.142 458.508 L103.587 447.883 L106.318 445.082 L116.943 455.707 L127.568 445.082 L130.322 447.883 Z\" fill=\"#000000\" fill-rule=\"evenodd\" fill-opacity=\"1\" /><path clip-path=\"url(#clip830)\" d=\"M 0 0 M136.202 469.411 L143.841 469.411 L143.841 443.045 L135.531 444.712 L135.531 440.453 L143.795 438.786 L148.471 438.786 L148.471 469.411 L156.109 469.411 L156.109 473.346 L136.202 473.346 L136.202 469.411 Z\" fill=\"#000000\" fill-rule=\"evenodd\" fill-opacity=\"1\" /><path clip-path=\"url(#clip830)\" d=\"M 0 0 M171.179 441.865 Q167.568 441.865 165.739 445.43 Q163.933 448.971 163.933 456.101 Q163.933 463.207 165.739 466.772 Q167.568 470.314 171.179 470.314 Q174.813 470.314 176.619 466.772 Q178.447 463.207 178.447 456.101 Q178.447 448.971 176.619 445.43 Q174.813 441.865 171.179 441.865 M171.179 438.161 Q176.989 438.161 180.044 442.768 Q183.123 447.351 183.123 456.101 Q183.123 464.828 180.044 469.434 Q176.989 474.017 171.179 474.017 Q165.369 474.017 162.29 469.434 Q159.234 464.828 159.234 456.101 Q159.234 447.351 162.29 442.768 Q165.369 438.161 171.179 438.161 Z\" fill=\"#000000\" fill-rule=\"evenodd\" fill-opacity=\"1\" /><path clip-path=\"url(#clip830)\" d=\"M 0 0 M183.123 433.842 L193.261 433.842 L193.261 436.927 L183.123 436.927 L183.123 433.842 Z\" fill=\"#000000\" fill-rule=\"evenodd\" fill-opacity=\"1\" /><path clip-path=\"url(#clip830)\" d=\"M 0 0 M217.259 430.382 Q214.701 430.382 213.197 432.131 Q211.711 433.88 211.711 436.927 Q211.711 439.955 213.197 441.723 Q214.701 443.472 217.259 443.472 Q219.817 443.472 221.303 441.723 Q222.808 439.955 222.808 436.927 Q222.808 433.88 221.303 432.131 Q219.817 430.382 217.259 430.382 M224.801 418.476 L224.801 421.937 Q223.372 421.26 221.905 420.903 Q220.457 420.545 219.027 420.545 Q215.266 420.545 213.272 423.084 Q211.297 425.623 211.015 430.758 Q212.125 429.122 213.799 428.256 Q215.473 427.372 217.485 427.372 Q221.717 427.372 224.162 429.949 Q226.626 432.507 226.626 436.927 Q226.626 441.253 224.068 443.867 Q221.51 446.481 217.259 446.481 Q212.388 446.481 209.811 442.757 Q207.235 439.014 207.235 431.924 Q207.235 425.266 210.394 421.316 Q213.554 417.348 218.877 417.348 Q220.306 417.348 221.754 417.63 Q223.221 417.912 224.801 418.476 Z\" fill=\"#000000\" fill-rule=\"evenodd\" fill-opacity=\"1\" /><path clip-path=\"url(#clip830)\" d=\"M 0 0 M80.7626 208.229 L97.0819 208.229 L97.0819 212.164 L75.1376 212.164 L75.1376 208.229 Q77.7996 205.474 82.3829 200.845 Q86.9894 196.192 88.1699 194.849 Q90.4153 192.326 91.2949 190.59 Q92.1977 188.831 92.1977 187.141 Q92.1977 184.387 90.2533 182.65 Q88.332 180.914 85.2301 180.914 Q83.0311 180.914 80.5774 181.678 Q78.1468 182.442 75.3691 183.993 L75.3691 179.271 Q78.1931 178.137 80.6468 177.558 Q83.1005 176.979 85.1376 176.979 Q90.5079 176.979 93.7023 179.664 Q96.8967 182.35 96.8967 186.84 Q96.8967 188.97 96.0866 190.891 Q95.2995 192.789 93.1931 195.382 Q92.6144 196.053 89.5125 199.271 Q86.4107 202.465 80.7626 208.229 Z\" fill=\"#000000\" fill-rule=\"evenodd\" fill-opacity=\"1\" /><path clip-path=\"url(#clip830)\" d=\"M 0 0 M130.322 186.701 L119.744 197.326 L130.322 207.905 L127.568 210.706 L116.943 200.081 L106.318 210.706 L103.587 207.905 L114.142 197.326 L103.587 186.701 L106.318 183.9 L116.943 194.525 L127.568 183.9 L130.322 186.701 Z\" fill=\"#000000\" fill-rule=\"evenodd\" fill-opacity=\"1\" /><path clip-path=\"url(#clip830)\" d=\"M 0 0 M136.202 208.229 L143.841 208.229 L143.841 181.863 L135.531 183.53 L135.531 179.271 L143.795 177.604 L148.471 177.604 L148.471 208.229 L156.109 208.229 L156.109 212.164 L136.202 212.164 L136.202 208.229 Z\" fill=\"#000000\" fill-rule=\"evenodd\" fill-opacity=\"1\" /><path clip-path=\"url(#clip830)\" d=\"M 0 0 M171.179 180.683 Q167.568 180.683 165.739 184.248 Q163.933 187.789 163.933 194.919 Q163.933 202.025 165.739 205.59 Q167.568 209.132 171.179 209.132 Q174.813 209.132 176.619 205.59 Q178.447 202.025 178.447 194.919 Q178.447 187.789 176.619 184.248 Q174.813 180.683 171.179 180.683 M171.179 176.979 Q176.989 176.979 180.044 181.586 Q183.123 186.169 183.123 194.919 Q183.123 203.646 180.044 208.252 Q176.989 212.836 171.179 212.836 Q165.369 212.836 162.29 208.252 Q159.234 203.646 159.234 194.919 Q159.234 186.169 162.29 181.586 Q165.369 176.979 171.179 176.979 Z\" fill=\"#000000\" fill-rule=\"evenodd\" fill-opacity=\"1\" /><path clip-path=\"url(#clip830)\" d=\"M 0 0 M183.123 172.66 L193.261 172.66 L193.261 175.745 L183.123 175.745 L183.123 172.66 Z\" fill=\"#000000\" fill-rule=\"evenodd\" fill-opacity=\"1\" /><path clip-path=\"url(#clip830)\" d=\"M 0 0 M217.259 169.2 Q214.701 169.2 213.197 170.949 Q211.711 172.698 211.711 175.745 Q211.711 178.773 213.197 180.541 Q214.701 182.29 217.259 182.29 Q219.817 182.29 221.303 180.541 Q222.808 178.773 222.808 175.745 Q222.808 172.698 221.303 170.949 Q219.817 169.2 217.259 169.2 M224.801 157.294 L224.801 160.755 Q223.372 160.078 221.905 159.721 Q220.457 159.363 219.027 159.363 Q215.266 159.363 213.272 161.902 Q211.297 164.441 211.015 169.576 Q212.125 167.94 213.799 167.075 Q215.473 166.191 217.485 166.191 Q221.717 166.191 224.162 168.767 Q226.626 171.325 226.626 175.745 Q226.626 180.071 224.068 182.685 Q221.51 185.299 217.259 185.299 Q212.388 185.299 209.811 181.575 Q207.235 177.833 207.235 170.742 Q207.235 164.084 210.394 160.134 Q213.554 156.166 218.877 156.166 Q220.306 156.166 221.754 156.448 Q223.221 156.73 224.801 157.294 Z\" fill=\"#000000\" fill-rule=\"evenodd\" fill-opacity=\"1\" /><polyline clip-path=\"url(#clip832)\" style=\"stroke:#009af9; stroke-width:4; stroke-opacity:1; fill:none\" points=\"\n",
       "  310.12,1445.72 530.469,1306.25 750.818,1156.24 971.167,1004.61 1191.52,851.687 1411.87,698.134 1632.21,544.472 1852.56,391.51 2072.91,239.139 2293.26,87.9763 \n",
       "  \n",
       "  \"/>\n",
       "<polyline clip-path=\"url(#clip832)\" style=\"stroke:#e26f46; stroke-width:4; stroke-opacity:1; fill:none\" points=\"\n",
       "  310.12,684.573 530.469,780.953 750.818,825.632 971.167,1006.68 1191.52,958.465 1411.87,730.652 1632.21,743.585 1852.56,424.362 2072.91,834.482 2293.26,736.397 \n",
       "  \n",
       "  \"/>\n",
       "<path clip-path=\"url(#clip830)\" d=\"\n",
       "M1989.74 312.204 L2280.76 312.204 L2280.76 130.764 L1989.74 130.764  Z\n",
       "  \" fill=\"#ffffff\" fill-rule=\"evenodd\" fill-opacity=\"1\"/>\n",
       "<polyline clip-path=\"url(#clip830)\" style=\"stroke:#000000; stroke-width:4; stroke-opacity:1; fill:none\" points=\"\n",
       "  1989.74,312.204 2280.76,312.204 2280.76,130.764 1989.74,130.764 1989.74,312.204 \n",
       "  \"/>\n",
       "<polyline clip-path=\"url(#clip830)\" style=\"stroke:#009af9; stroke-width:4; stroke-opacity:1; fill:none\" points=\"\n",
       "  2013.74,191.244 2157.74,191.244 \n",
       "  \"/>\n",
       "<path clip-path=\"url(#clip830)\" d=\"M 0 0 M2195.58 210.931 Q2193.77 215.561 2192.06 216.973 Q2190.35 218.385 2187.48 218.385 L2184.08 218.385 L2184.08 214.82 L2186.58 214.82 Q2188.33 214.82 2189.31 213.987 Q2190.28 213.154 2191.46 210.052 L2192.22 208.107 L2181.74 182.598 L2186.25 182.598 L2194.35 202.876 L2202.46 182.598 L2206.97 182.598 L2195.58 210.931 Z\" fill=\"#000000\" fill-rule=\"evenodd\" fill-opacity=\"1\" /><path clip-path=\"url(#clip830)\" d=\"M 0 0 M2212.85 204.589 L2220.49 204.589 L2220.49 178.223 L2212.18 179.89 L2212.18 175.631 L2220.44 173.964 L2225.12 173.964 L2225.12 204.589 L2232.76 204.589 L2232.76 208.524 L2212.85 208.524 L2212.85 204.589 Z\" fill=\"#000000\" fill-rule=\"evenodd\" fill-opacity=\"1\" /><polyline clip-path=\"url(#clip830)\" style=\"stroke:#e26f46; stroke-width:4; stroke-opacity:1; fill:none\" points=\"\n",
       "  2013.74,251.724 2157.74,251.724 \n",
       "  \"/>\n",
       "<path clip-path=\"url(#clip830)\" d=\"M 0 0 M2195.58 271.411 Q2193.77 276.041 2192.06 277.453 Q2190.35 278.865 2187.48 278.865 L2184.08 278.865 L2184.08 275.3 L2186.58 275.3 Q2188.33 275.3 2189.31 274.467 Q2190.28 273.634 2191.46 270.532 L2192.22 268.587 L2181.74 243.078 L2186.25 243.078 L2194.35 263.356 L2202.46 243.078 L2206.97 243.078 L2195.58 271.411 Z\" fill=\"#000000\" fill-rule=\"evenodd\" fill-opacity=\"1\" /><path clip-path=\"url(#clip830)\" d=\"M 0 0 M2216.07 265.069 L2232.39 265.069 L2232.39 269.004 L2210.44 269.004 L2210.44 265.069 Q2213.1 262.314 2217.69 257.685 Q2222.29 253.032 2223.47 251.689 Q2225.72 249.166 2226.6 247.43 Q2227.5 245.671 2227.5 243.981 Q2227.5 241.226 2225.56 239.49 Q2223.64 237.754 2220.53 237.754 Q2218.33 237.754 2215.88 238.518 Q2213.45 239.282 2210.67 240.833 L2210.67 236.111 Q2213.5 234.976 2215.95 234.398 Q2218.4 233.819 2220.44 233.819 Q2225.81 233.819 2229.01 236.504 Q2232.2 239.189 2232.2 243.68 Q2232.2 245.81 2231.39 247.731 Q2230.6 249.629 2228.5 252.222 Q2227.92 252.893 2224.82 256.111 Q2221.71 259.305 2216.07 265.069 Z\" fill=\"#000000\" fill-rule=\"evenodd\" fill-opacity=\"1\" /></svg>\n"
      ]
     },
     "execution_count": 114,
     "metadata": {},
     "output_type": "execute_result"
    }
   ],
   "source": [
    "plot(mean(y_y_list[ii],dims=1)[1,:])\n",
    "plot!(sum(q_t_[:,:,1] .* p_,dims=2))"
   ]
  },
  {
   "cell_type": "code",
   "execution_count": 115,
   "metadata": {},
   "outputs": [
    {
     "data": {
      "image/svg+xml": [
       "<?xml version=\"1.0\" encoding=\"utf-8\"?>\n",
       "<svg xmlns=\"http://www.w3.org/2000/svg\" xmlns:xlink=\"http://www.w3.org/1999/xlink\" width=\"600\" height=\"400\" viewBox=\"0 0 2400 1600\">\n",
       "<defs>\n",
       "  <clipPath id=\"clip870\">\n",
       "    <rect x=\"0\" y=\"0\" width=\"2400\" height=\"1600\"/>\n",
       "  </clipPath>\n",
       "</defs>\n",
       "<path clip-path=\"url(#clip870)\" d=\"\n",
       "M0 1600 L2400 1600 L2400 0 L0 0  Z\n",
       "  \" fill=\"#ffffff\" fill-rule=\"evenodd\" fill-opacity=\"1\"/>\n",
       "<defs>\n",
       "  <clipPath id=\"clip871\">\n",
       "    <rect x=\"480\" y=\"0\" width=\"1681\" height=\"1600\"/>\n",
       "  </clipPath>\n",
       "</defs>\n",
       "<path clip-path=\"url(#clip870)\" d=\"\n",
       "M174.862 1486.45 L2352.76 1486.45 L2352.76 47.2441 L174.862 47.2441  Z\n",
       "  \" fill=\"#ffffff\" fill-rule=\"evenodd\" fill-opacity=\"1\"/>\n",
       "<defs>\n",
       "  <clipPath id=\"clip872\">\n",
       "    <rect x=\"174\" y=\"47\" width=\"2179\" height=\"1440\"/>\n",
       "  </clipPath>\n",
       "</defs>\n",
       "<polyline clip-path=\"url(#clip872)\" style=\"stroke:#000000; stroke-width:2; stroke-opacity:0.1; fill:none\" points=\"\n",
       "  449.579,1486.45 449.579,47.2441 \n",
       "  \"/>\n",
       "<polyline clip-path=\"url(#clip872)\" style=\"stroke:#000000; stroke-width:2; stroke-opacity:0.1; fill:none\" points=\"\n",
       "  847.277,1486.45 847.277,47.2441 \n",
       "  \"/>\n",
       "<polyline clip-path=\"url(#clip872)\" style=\"stroke:#000000; stroke-width:2; stroke-opacity:0.1; fill:none\" points=\"\n",
       "  1244.98,1486.45 1244.98,47.2441 \n",
       "  \"/>\n",
       "<polyline clip-path=\"url(#clip872)\" style=\"stroke:#000000; stroke-width:2; stroke-opacity:0.1; fill:none\" points=\"\n",
       "  1642.67,1486.45 1642.67,47.2441 \n",
       "  \"/>\n",
       "<polyline clip-path=\"url(#clip872)\" style=\"stroke:#000000; stroke-width:2; stroke-opacity:0.1; fill:none\" points=\"\n",
       "  2040.37,1486.45 2040.37,47.2441 \n",
       "  \"/>\n",
       "<polyline clip-path=\"url(#clip872)\" style=\"stroke:#000000; stroke-width:2; stroke-opacity:0.1; fill:none\" points=\"\n",
       "  174.862,1445.72 2352.76,1445.72 \n",
       "  \"/>\n",
       "<polyline clip-path=\"url(#clip872)\" style=\"stroke:#000000; stroke-width:2; stroke-opacity:0.1; fill:none\" points=\"\n",
       "  174.862,1106.28 2352.76,1106.28 \n",
       "  \"/>\n",
       "<polyline clip-path=\"url(#clip872)\" style=\"stroke:#000000; stroke-width:2; stroke-opacity:0.1; fill:none\" points=\"\n",
       "  174.862,766.846 2352.76,766.846 \n",
       "  \"/>\n",
       "<polyline clip-path=\"url(#clip872)\" style=\"stroke:#000000; stroke-width:2; stroke-opacity:0.1; fill:none\" points=\"\n",
       "  174.862,427.411 2352.76,427.411 \n",
       "  \"/>\n",
       "<polyline clip-path=\"url(#clip872)\" style=\"stroke:#000000; stroke-width:2; stroke-opacity:0.1; fill:none\" points=\"\n",
       "  174.862,87.9763 2352.76,87.9763 \n",
       "  \"/>\n",
       "<polyline clip-path=\"url(#clip870)\" style=\"stroke:#000000; stroke-width:4; stroke-opacity:1; fill:none\" points=\"\n",
       "  174.862,1486.45 2352.76,1486.45 \n",
       "  \"/>\n",
       "<polyline clip-path=\"url(#clip870)\" style=\"stroke:#000000; stroke-width:4; stroke-opacity:1; fill:none\" points=\"\n",
       "  174.862,1486.45 174.862,47.2441 \n",
       "  \"/>\n",
       "<polyline clip-path=\"url(#clip870)\" style=\"stroke:#000000; stroke-width:4; stroke-opacity:1; fill:none\" points=\"\n",
       "  449.579,1486.45 449.579,1469.18 \n",
       "  \"/>\n",
       "<polyline clip-path=\"url(#clip870)\" style=\"stroke:#000000; stroke-width:4; stroke-opacity:1; fill:none\" points=\"\n",
       "  847.277,1486.45 847.277,1469.18 \n",
       "  \"/>\n",
       "<polyline clip-path=\"url(#clip870)\" style=\"stroke:#000000; stroke-width:4; stroke-opacity:1; fill:none\" points=\"\n",
       "  1244.98,1486.45 1244.98,1469.18 \n",
       "  \"/>\n",
       "<polyline clip-path=\"url(#clip870)\" style=\"stroke:#000000; stroke-width:4; stroke-opacity:1; fill:none\" points=\"\n",
       "  1642.67,1486.45 1642.67,1469.18 \n",
       "  \"/>\n",
       "<polyline clip-path=\"url(#clip870)\" style=\"stroke:#000000; stroke-width:4; stroke-opacity:1; fill:none\" points=\"\n",
       "  2040.37,1486.45 2040.37,1469.18 \n",
       "  \"/>\n",
       "<polyline clip-path=\"url(#clip870)\" style=\"stroke:#000000; stroke-width:4; stroke-opacity:1; fill:none\" points=\"\n",
       "  174.862,1445.72 200.997,1445.72 \n",
       "  \"/>\n",
       "<polyline clip-path=\"url(#clip870)\" style=\"stroke:#000000; stroke-width:4; stroke-opacity:1; fill:none\" points=\"\n",
       "  174.862,1106.28 200.997,1106.28 \n",
       "  \"/>\n",
       "<polyline clip-path=\"url(#clip870)\" style=\"stroke:#000000; stroke-width:4; stroke-opacity:1; fill:none\" points=\"\n",
       "  174.862,766.846 200.997,766.846 \n",
       "  \"/>\n",
       "<polyline clip-path=\"url(#clip870)\" style=\"stroke:#000000; stroke-width:4; stroke-opacity:1; fill:none\" points=\"\n",
       "  174.862,427.411 200.997,427.411 \n",
       "  \"/>\n",
       "<polyline clip-path=\"url(#clip870)\" style=\"stroke:#000000; stroke-width:4; stroke-opacity:1; fill:none\" points=\"\n",
       "  174.862,87.9763 200.997,87.9763 \n",
       "  \"/>\n",
       "<path clip-path=\"url(#clip870)\" d=\"M 0 0 M366.728 1542.31 Q363.58 1542.31 361.728 1544.46 Q359.9 1546.62 359.9 1550.37 Q359.9 1554.09 361.728 1556.27 Q363.58 1558.42 366.728 1558.42 Q369.876 1558.42 371.705 1556.27 Q373.557 1554.09 373.557 1550.37 Q373.557 1546.62 371.705 1544.46 Q369.876 1542.31 366.728 1542.31 M376.011 1527.66 L376.011 1531.92 Q374.251 1531.08 372.446 1530.65 Q370.663 1530.21 368.904 1530.21 Q364.275 1530.21 361.821 1533.33 Q359.39 1536.46 359.043 1542.77 Q360.409 1540.76 362.469 1539.7 Q364.529 1538.61 367.006 1538.61 Q372.214 1538.61 375.224 1541.78 Q378.256 1544.93 378.256 1550.37 Q378.256 1555.69 375.108 1558.91 Q371.96 1562.13 366.728 1562.13 Q360.733 1562.13 357.562 1557.54 Q354.39 1552.94 354.39 1544.21 Q354.39 1536.02 358.279 1531.15 Q362.168 1526.27 368.719 1526.27 Q370.478 1526.27 372.261 1526.62 Q374.066 1526.96 376.011 1527.66 Z\" fill=\"#000000\" fill-rule=\"evenodd\" fill-opacity=\"1\" /><path clip-path=\"url(#clip870)\" d=\"M 0 0 M383.325 1555.58 L388.21 1555.58 L388.21 1561.46 L383.325 1561.46 L383.325 1555.58 Z\" fill=\"#000000\" fill-rule=\"evenodd\" fill-opacity=\"1\" /><path clip-path=\"url(#clip870)\" d=\"M 0 0 M403.279 1529.97 Q399.668 1529.97 397.839 1533.54 Q396.034 1537.08 396.034 1544.21 Q396.034 1551.32 397.839 1554.88 Q399.668 1558.42 403.279 1558.42 Q406.913 1558.42 408.719 1554.88 Q410.547 1551.32 410.547 1544.21 Q410.547 1537.08 408.719 1533.54 Q406.913 1529.97 403.279 1529.97 M403.279 1526.27 Q409.089 1526.27 412.145 1530.88 Q415.223 1535.46 415.223 1544.21 Q415.223 1552.94 412.145 1557.54 Q409.089 1562.13 403.279 1562.13 Q397.469 1562.13 394.39 1557.54 Q391.335 1552.94 391.335 1544.21 Q391.335 1535.46 394.39 1530.88 Q397.469 1526.27 403.279 1526.27 Z\" fill=\"#000000\" fill-rule=\"evenodd\" fill-opacity=\"1\" /><path clip-path=\"url(#clip870)\" d=\"M 0 0 M448.464 1535.99 L437.885 1546.62 L448.464 1557.2 L445.709 1560 L435.084 1549.37 L424.459 1560 L421.728 1557.2 L432.283 1546.62 L421.728 1535.99 L424.459 1533.19 L435.084 1543.82 L445.709 1533.19 L448.464 1535.99 Z\" fill=\"#000000\" fill-rule=\"evenodd\" fill-opacity=\"1\" /><path clip-path=\"url(#clip870)\" d=\"M 0 0 M454.343 1557.52 L461.982 1557.52 L461.982 1531.15 L453.672 1532.82 L453.672 1528.56 L461.936 1526.9 L466.612 1526.9 L466.612 1557.52 L474.251 1557.52 L474.251 1561.46 L454.343 1561.46 L454.343 1557.52 Z\" fill=\"#000000\" fill-rule=\"evenodd\" fill-opacity=\"1\" /><path clip-path=\"url(#clip870)\" d=\"M 0 0 M489.32 1529.97 Q485.709 1529.97 483.88 1533.54 Q482.075 1537.08 482.075 1544.21 Q482.075 1551.32 483.88 1554.88 Q485.709 1558.42 489.32 1558.42 Q492.954 1558.42 494.76 1554.88 Q496.589 1551.32 496.589 1544.21 Q496.589 1537.08 494.76 1533.54 Q492.954 1529.97 489.32 1529.97 M489.32 1526.27 Q495.13 1526.27 498.186 1530.88 Q501.265 1535.46 501.265 1544.21 Q501.265 1552.94 498.186 1557.54 Q495.13 1562.13 489.32 1562.13 Q483.51 1562.13 480.431 1557.54 Q477.376 1552.94 477.376 1544.21 Q477.376 1535.46 480.431 1530.88 Q483.51 1526.27 489.32 1526.27 Z\" fill=\"#000000\" fill-rule=\"evenodd\" fill-opacity=\"1\" /><path clip-path=\"url(#clip870)\" d=\"M 0 0 M501.265 1521.95 L511.402 1521.95 L511.402 1525.04 L501.265 1525.04 L501.265 1521.95 Z\" fill=\"#000000\" fill-rule=\"evenodd\" fill-opacity=\"1\" /><path clip-path=\"url(#clip870)\" d=\"M 0 0 M535.401 1518.49 Q532.843 1518.49 531.338 1520.24 Q529.852 1521.99 529.852 1525.04 Q529.852 1528.06 531.338 1529.83 Q532.843 1531.58 535.401 1531.58 Q537.959 1531.58 539.444 1529.83 Q540.949 1528.06 540.949 1525.04 Q540.949 1521.99 539.444 1520.24 Q537.959 1518.49 535.401 1518.49 M542.943 1506.59 L542.943 1510.05 Q541.513 1509.37 540.046 1509.01 Q538.598 1508.65 537.169 1508.65 Q533.407 1508.65 531.413 1511.19 Q529.439 1513.73 529.156 1518.87 Q530.266 1517.23 531.94 1516.37 Q533.614 1515.48 535.626 1515.48 Q539.858 1515.48 542.303 1518.06 Q544.767 1520.62 544.767 1525.04 Q544.767 1529.36 542.209 1531.98 Q539.651 1534.59 535.401 1534.59 Q530.529 1534.59 527.953 1530.87 Q525.376 1527.12 525.376 1520.03 Q525.376 1513.37 528.536 1509.43 Q531.696 1505.46 537.018 1505.46 Q538.448 1505.46 539.896 1505.74 Q541.363 1506.02 542.943 1506.59 Z\" fill=\"#000000\" fill-rule=\"evenodd\" fill-opacity=\"1\" /><path clip-path=\"url(#clip870)\" d=\"M 0 0 M754.322 1560.74 L754.322 1556.48 Q756.082 1557.31 757.887 1557.75 Q759.693 1558.19 761.429 1558.19 Q766.058 1558.19 768.489 1555.09 Q770.943 1551.96 771.29 1545.62 Q769.947 1547.61 767.887 1548.68 Q765.827 1549.74 763.327 1549.74 Q758.142 1549.74 755.109 1546.62 Q752.1 1543.47 752.1 1538.03 Q752.1 1532.71 755.248 1529.49 Q758.396 1526.27 763.628 1526.27 Q769.623 1526.27 772.771 1530.88 Q775.943 1535.46 775.943 1544.21 Q775.943 1552.38 772.054 1557.27 Q768.188 1562.13 761.637 1562.13 Q759.878 1562.13 758.072 1561.78 Q756.267 1561.43 754.322 1560.74 M763.628 1546.08 Q766.776 1546.08 768.605 1543.93 Q770.457 1541.78 770.457 1538.03 Q770.457 1534.3 768.605 1532.15 Q766.776 1529.97 763.628 1529.97 Q760.48 1529.97 758.628 1532.15 Q756.799 1534.3 756.799 1538.03 Q756.799 1541.78 758.628 1543.93 Q760.48 1546.08 763.628 1546.08 Z\" fill=\"#000000\" fill-rule=\"evenodd\" fill-opacity=\"1\" /><path clip-path=\"url(#clip870)\" d=\"M 0 0 M781.012 1555.58 L785.896 1555.58 L785.896 1561.46 L781.012 1561.46 L781.012 1555.58 Z\" fill=\"#000000\" fill-rule=\"evenodd\" fill-opacity=\"1\" /><path clip-path=\"url(#clip870)\" d=\"M 0 0 M800.966 1529.97 Q797.355 1529.97 795.526 1533.54 Q793.72 1537.08 793.72 1544.21 Q793.72 1551.32 795.526 1554.88 Q797.355 1558.42 800.966 1558.42 Q804.6 1558.42 806.405 1554.88 Q808.234 1551.32 808.234 1544.21 Q808.234 1537.08 806.405 1533.54 Q804.6 1529.97 800.966 1529.97 M800.966 1526.27 Q806.776 1526.27 809.831 1530.88 Q812.91 1535.46 812.91 1544.21 Q812.91 1552.94 809.831 1557.54 Q806.776 1562.13 800.966 1562.13 Q795.155 1562.13 792.077 1557.54 Q789.021 1552.94 789.021 1544.21 Q789.021 1535.46 792.077 1530.88 Q795.155 1526.27 800.966 1526.27 Z\" fill=\"#000000\" fill-rule=\"evenodd\" fill-opacity=\"1\" /><path clip-path=\"url(#clip870)\" d=\"M 0 0 M846.151 1535.99 L835.572 1546.62 L846.151 1557.2 L843.396 1560 L832.771 1549.37 L822.146 1560 L819.415 1557.2 L829.97 1546.62 L819.415 1535.99 L822.146 1533.19 L832.771 1543.82 L843.396 1533.19 L846.151 1535.99 Z\" fill=\"#000000\" fill-rule=\"evenodd\" fill-opacity=\"1\" /><path clip-path=\"url(#clip870)\" d=\"M 0 0 M852.03 1557.52 L859.669 1557.52 L859.669 1531.15 L851.359 1532.82 L851.359 1528.56 L859.623 1526.9 L864.299 1526.9 L864.299 1557.52 L871.937 1557.52 L871.937 1561.46 L852.03 1561.46 L852.03 1557.52 Z\" fill=\"#000000\" fill-rule=\"evenodd\" fill-opacity=\"1\" /><path clip-path=\"url(#clip870)\" d=\"M 0 0 M887.007 1529.97 Q883.396 1529.97 881.567 1533.54 Q879.762 1537.08 879.762 1544.21 Q879.762 1551.32 881.567 1554.88 Q883.396 1558.42 887.007 1558.42 Q890.641 1558.42 892.447 1554.88 Q894.275 1551.32 894.275 1544.21 Q894.275 1537.08 892.447 1533.54 Q890.641 1529.97 887.007 1529.97 M887.007 1526.27 Q892.817 1526.27 895.873 1530.88 Q898.951 1535.46 898.951 1544.21 Q898.951 1552.94 895.873 1557.54 Q892.817 1562.13 887.007 1562.13 Q881.197 1562.13 878.118 1557.54 Q875.062 1552.94 875.062 1544.21 Q875.062 1535.46 878.118 1530.88 Q881.197 1526.27 887.007 1526.27 Z\" fill=\"#000000\" fill-rule=\"evenodd\" fill-opacity=\"1\" /><path clip-path=\"url(#clip870)\" d=\"M 0 0 M898.951 1521.95 L909.089 1521.95 L909.089 1525.04 L898.951 1525.04 L898.951 1521.95 Z\" fill=\"#000000\" fill-rule=\"evenodd\" fill-opacity=\"1\" /><path clip-path=\"url(#clip870)\" d=\"M 0 0 M933.087 1518.49 Q930.529 1518.49 929.025 1520.24 Q927.539 1521.99 927.539 1525.04 Q927.539 1528.06 929.025 1529.83 Q930.529 1531.58 933.087 1531.58 Q935.645 1531.58 937.131 1529.83 Q938.636 1528.06 938.636 1525.04 Q938.636 1521.99 937.131 1520.24 Q935.645 1518.49 933.087 1518.49 M940.629 1506.59 L940.629 1510.05 Q939.2 1509.37 937.733 1509.01 Q936.285 1508.65 934.855 1508.65 Q931.094 1508.65 929.1 1511.19 Q927.125 1513.73 926.843 1518.87 Q927.953 1517.23 929.627 1516.37 Q931.301 1515.48 933.313 1515.48 Q937.545 1515.48 939.99 1518.06 Q942.454 1520.62 942.454 1525.04 Q942.454 1529.36 939.896 1531.98 Q937.338 1534.59 933.087 1534.59 Q928.216 1534.59 925.639 1530.87 Q923.063 1527.12 923.063 1520.03 Q923.063 1513.37 926.223 1509.43 Q929.382 1505.46 934.705 1505.46 Q936.134 1505.46 937.582 1505.74 Q939.049 1506.02 940.629 1506.59 Z\" fill=\"#000000\" fill-rule=\"evenodd\" fill-opacity=\"1\" /><path clip-path=\"url(#clip870)\" d=\"M 0 0 M1153.51 1557.52 L1161.15 1557.52 L1161.15 1531.15 L1152.84 1532.82 L1152.84 1528.56 L1161.1 1526.9 L1165.78 1526.9 L1165.78 1557.52 L1173.42 1557.52 L1173.42 1561.46 L1153.51 1561.46 L1153.51 1557.52 Z\" fill=\"#000000\" fill-rule=\"evenodd\" fill-opacity=\"1\" /><path clip-path=\"url(#clip870)\" d=\"M 0 0 M1178.49 1555.58 L1183.37 1555.58 L1183.37 1561.46 L1178.49 1561.46 L1178.49 1555.58 Z\" fill=\"#000000\" fill-rule=\"evenodd\" fill-opacity=\"1\" /><path clip-path=\"url(#clip870)\" d=\"M 0 0 M1192.47 1557.52 L1208.79 1557.52 L1208.79 1561.46 L1186.84 1561.46 L1186.84 1557.52 Q1189.51 1554.77 1194.09 1550.14 Q1198.7 1545.48 1199.88 1544.14 Q1202.12 1541.62 1203 1539.88 Q1203.9 1538.12 1203.9 1536.43 Q1203.9 1533.68 1201.96 1531.94 Q1200.04 1530.21 1196.94 1530.21 Q1194.74 1530.21 1192.28 1530.97 Q1189.85 1531.73 1187.08 1533.28 L1187.08 1528.56 Q1189.9 1527.43 1192.35 1526.85 Q1194.81 1526.27 1196.84 1526.27 Q1202.21 1526.27 1205.41 1528.96 Q1208.6 1531.64 1208.6 1536.13 Q1208.6 1538.26 1207.79 1540.18 Q1207.01 1542.08 1204.9 1544.67 Q1204.32 1545.34 1201.22 1548.56 Q1198.12 1551.76 1192.47 1557.52 Z\" fill=\"#000000\" fill-rule=\"evenodd\" fill-opacity=\"1\" /><path clip-path=\"url(#clip870)\" d=\"M 0 0 M1242.03 1535.99 L1231.45 1546.62 L1242.03 1557.2 L1239.27 1560 L1228.65 1549.37 L1218.03 1560 L1215.29 1557.2 L1225.85 1546.62 L1215.29 1535.99 L1218.03 1533.19 L1228.65 1543.82 L1239.27 1533.19 L1242.03 1535.99 Z\" fill=\"#000000\" fill-rule=\"evenodd\" fill-opacity=\"1\" /><path clip-path=\"url(#clip870)\" d=\"M 0 0 M1247.91 1557.52 L1255.55 1557.52 L1255.55 1531.15 L1247.24 1532.82 L1247.24 1528.56 L1255.5 1526.9 L1260.18 1526.9 L1260.18 1557.52 L1267.82 1557.52 L1267.82 1561.46 L1247.91 1561.46 L1247.91 1557.52 Z\" fill=\"#000000\" fill-rule=\"evenodd\" fill-opacity=\"1\" /><path clip-path=\"url(#clip870)\" d=\"M 0 0 M1282.89 1529.97 Q1279.27 1529.97 1277.45 1533.54 Q1275.64 1537.08 1275.64 1544.21 Q1275.64 1551.32 1277.45 1554.88 Q1279.27 1558.42 1282.89 1558.42 Q1286.52 1558.42 1288.33 1554.88 Q1290.15 1551.32 1290.15 1544.21 Q1290.15 1537.08 1288.33 1533.54 Q1286.52 1529.97 1282.89 1529.97 M1282.89 1526.27 Q1288.7 1526.27 1291.75 1530.88 Q1294.83 1535.46 1294.83 1544.21 Q1294.83 1552.94 1291.75 1557.54 Q1288.7 1562.13 1282.89 1562.13 Q1277.08 1562.13 1274 1557.54 Q1270.94 1552.94 1270.94 1544.21 Q1270.94 1535.46 1274 1530.88 Q1277.08 1526.27 1282.89 1526.27 Z\" fill=\"#000000\" fill-rule=\"evenodd\" fill-opacity=\"1\" /><path clip-path=\"url(#clip870)\" d=\"M 0 0 M1294.83 1521.95 L1304.97 1521.95 L1304.97 1525.04 L1294.83 1525.04 L1294.83 1521.95 Z\" fill=\"#000000\" fill-rule=\"evenodd\" fill-opacity=\"1\" /><path clip-path=\"url(#clip870)\" d=\"M 0 0 M1320.13 1505.96 L1335.04 1505.96 L1335.04 1509.16 L1323.61 1509.16 L1323.61 1516.05 Q1324.43 1515.76 1325.26 1515.63 Q1326.09 1515.48 1326.92 1515.48 Q1331.62 1515.48 1334.36 1518.06 Q1337.11 1520.63 1337.11 1525.04 Q1337.11 1529.57 1334.29 1532.09 Q1331.47 1534.59 1326.33 1534.59 Q1324.57 1534.59 1322.72 1534.29 Q1320.9 1533.99 1318.94 1533.39 L1318.94 1529.57 Q1320.63 1530.49 1322.44 1530.94 Q1324.25 1531.39 1326.26 1531.39 Q1329.51 1531.39 1331.41 1529.68 Q1333.31 1527.97 1333.31 1525.04 Q1333.31 1522.1 1331.41 1520.39 Q1329.51 1518.68 1326.26 1518.68 Q1324.73 1518.68 1323.21 1519.02 Q1321.71 1519.36 1320.13 1520.07 L1320.13 1505.96 Z\" fill=\"#000000\" fill-rule=\"evenodd\" fill-opacity=\"1\" /><path clip-path=\"url(#clip870)\" d=\"M 0 0 M1550.91 1557.52 L1558.55 1557.52 L1558.55 1531.15 L1550.24 1532.82 L1550.24 1528.56 L1558.5 1526.9 L1563.18 1526.9 L1563.18 1557.52 L1570.82 1557.52 L1570.82 1561.46 L1550.91 1561.46 L1550.91 1557.52 Z\" fill=\"#000000\" fill-rule=\"evenodd\" fill-opacity=\"1\" /><path clip-path=\"url(#clip870)\" d=\"M 0 0 M1575.89 1555.58 L1580.77 1555.58 L1580.77 1561.46 L1575.89 1561.46 L1575.89 1555.58 Z\" fill=\"#000000\" fill-rule=\"evenodd\" fill-opacity=\"1\" /><path clip-path=\"url(#clip870)\" d=\"M 0 0 M1585.89 1526.9 L1604.24 1526.9 L1604.24 1530.83 L1590.17 1530.83 L1590.17 1539.3 Q1591.19 1538.96 1592.2 1538.79 Q1593.22 1538.61 1594.24 1538.61 Q1600.03 1538.61 1603.41 1541.78 Q1606.79 1544.95 1606.79 1550.37 Q1606.79 1555.95 1603.32 1559.05 Q1599.84 1562.13 1593.52 1562.13 Q1591.35 1562.13 1589.08 1561.76 Q1586.83 1561.39 1584.43 1560.64 L1584.43 1555.95 Q1586.51 1557.08 1588.73 1557.64 Q1590.95 1558.19 1593.43 1558.19 Q1597.44 1558.19 1599.77 1556.08 Q1602.11 1553.98 1602.11 1550.37 Q1602.11 1546.76 1599.77 1544.65 Q1597.44 1542.54 1593.43 1542.54 Q1591.56 1542.54 1589.68 1542.96 Q1587.83 1543.38 1585.89 1544.26 L1585.89 1526.9 Z\" fill=\"#000000\" fill-rule=\"evenodd\" fill-opacity=\"1\" /><path clip-path=\"url(#clip870)\" d=\"M 0 0 M1640.03 1535.99 L1629.45 1546.62 L1640.03 1557.2 L1637.27 1560 L1626.65 1549.37 L1616.02 1560 L1613.29 1557.2 L1623.85 1546.62 L1613.29 1535.99 L1616.02 1533.19 L1626.65 1543.82 L1637.27 1533.19 L1640.03 1535.99 Z\" fill=\"#000000\" fill-rule=\"evenodd\" fill-opacity=\"1\" /><path clip-path=\"url(#clip870)\" d=\"M 0 0 M1645.91 1557.52 L1653.55 1557.52 L1653.55 1531.15 L1645.24 1532.82 L1645.24 1528.56 L1653.5 1526.9 L1658.18 1526.9 L1658.18 1557.52 L1665.82 1557.52 L1665.82 1561.46 L1645.91 1561.46 L1645.91 1557.52 Z\" fill=\"#000000\" fill-rule=\"evenodd\" fill-opacity=\"1\" /><path clip-path=\"url(#clip870)\" d=\"M 0 0 M1680.89 1529.97 Q1677.27 1529.97 1675.45 1533.54 Q1673.64 1537.08 1673.64 1544.21 Q1673.64 1551.32 1675.45 1554.88 Q1677.27 1558.42 1680.89 1558.42 Q1684.52 1558.42 1686.32 1554.88 Q1688.15 1551.32 1688.15 1544.21 Q1688.15 1537.08 1686.32 1533.54 Q1684.52 1529.97 1680.89 1529.97 M1680.89 1526.27 Q1686.7 1526.27 1689.75 1530.88 Q1692.83 1535.46 1692.83 1544.21 Q1692.83 1552.94 1689.75 1557.54 Q1686.7 1562.13 1680.89 1562.13 Q1675.07 1562.13 1672 1557.54 Q1668.94 1552.94 1668.94 1544.21 Q1668.94 1535.46 1672 1530.88 Q1675.07 1526.27 1680.89 1526.27 Z\" fill=\"#000000\" fill-rule=\"evenodd\" fill-opacity=\"1\" /><path clip-path=\"url(#clip870)\" d=\"M 0 0 M1692.83 1521.95 L1702.97 1521.95 L1702.97 1525.04 L1692.83 1525.04 L1692.83 1521.95 Z\" fill=\"#000000\" fill-rule=\"evenodd\" fill-opacity=\"1\" /><path clip-path=\"url(#clip870)\" d=\"M 0 0 M1718.13 1505.96 L1733.04 1505.96 L1733.04 1509.16 L1721.61 1509.16 L1721.61 1516.05 Q1722.43 1515.76 1723.26 1515.63 Q1724.09 1515.48 1724.92 1515.48 Q1729.62 1515.48 1732.36 1518.06 Q1735.11 1520.63 1735.11 1525.04 Q1735.11 1529.57 1732.29 1532.09 Q1729.47 1534.59 1724.33 1534.59 Q1722.56 1534.59 1720.72 1534.29 Q1718.9 1533.99 1716.94 1533.39 L1716.94 1529.57 Q1718.63 1530.49 1720.44 1530.94 Q1722.24 1531.39 1724.26 1531.39 Q1727.51 1531.39 1729.41 1529.68 Q1731.31 1527.97 1731.31 1525.04 Q1731.31 1522.1 1729.41 1520.39 Q1727.51 1518.68 1724.26 1518.68 Q1722.73 1518.68 1721.21 1519.02 Q1719.71 1519.36 1718.13 1520.07 L1718.13 1505.96 Z\" fill=\"#000000\" fill-rule=\"evenodd\" fill-opacity=\"1\" /><path clip-path=\"url(#clip870)\" d=\"M 0 0 M1948.16 1557.52 L1955.79 1557.52 L1955.79 1531.15 L1947.48 1532.82 L1947.48 1528.56 L1955.75 1526.9 L1960.42 1526.9 L1960.42 1557.52 L1968.06 1557.52 L1968.06 1561.46 L1948.16 1561.46 L1948.16 1557.52 Z\" fill=\"#000000\" fill-rule=\"evenodd\" fill-opacity=\"1\" /><path clip-path=\"url(#clip870)\" d=\"M 0 0 M1973.13 1555.58 L1978.02 1555.58 L1978.02 1561.46 L1973.13 1561.46 L1973.13 1555.58 Z\" fill=\"#000000\" fill-rule=\"evenodd\" fill-opacity=\"1\" /><path clip-path=\"url(#clip870)\" d=\"M 0 0 M1993.09 1545.04 Q1989.75 1545.04 1987.83 1546.83 Q1985.93 1548.61 1985.93 1551.73 Q1985.93 1554.86 1987.83 1556.64 Q1989.75 1558.42 1993.09 1558.42 Q1996.42 1558.42 1998.34 1556.64 Q2000.26 1554.83 2000.26 1551.73 Q2000.26 1548.61 1998.34 1546.83 Q1996.44 1545.04 1993.09 1545.04 M1988.41 1543.05 Q1985.4 1542.31 1983.71 1540.25 Q1982.04 1538.19 1982.04 1535.23 Q1982.04 1531.08 1984.98 1528.68 Q1987.95 1526.27 1993.09 1526.27 Q1998.25 1526.27 2001.19 1528.68 Q2004.13 1531.08 2004.13 1535.23 Q2004.13 1538.19 2002.44 1540.25 Q2000.77 1542.31 1997.79 1543.05 Q2001.16 1543.84 2003.04 1546.13 Q2004.94 1548.42 2004.94 1551.73 Q2004.94 1556.76 2001.86 1559.44 Q1998.8 1562.13 1993.09 1562.13 Q1987.37 1562.13 1984.29 1559.44 Q1981.23 1556.76 1981.23 1551.73 Q1981.23 1548.42 1983.13 1546.13 Q1985.03 1543.84 1988.41 1543.05 M1986.7 1535.67 Q1986.7 1538.35 1988.36 1539.86 Q1990.05 1541.36 1993.09 1541.36 Q1996.1 1541.36 1997.79 1539.86 Q1999.5 1538.35 1999.5 1535.67 Q1999.5 1532.98 1997.79 1531.48 Q1996.1 1529.97 1993.09 1529.97 Q1990.05 1529.97 1988.36 1531.48 Q1986.7 1532.98 1986.7 1535.67 Z\" fill=\"#000000\" fill-rule=\"evenodd\" fill-opacity=\"1\" /><path clip-path=\"url(#clip870)\" d=\"M 0 0 M2038.18 1535.99 L2027.6 1546.62 L2038.18 1557.2 L2035.42 1560 L2024.8 1549.37 L2014.17 1560 L2011.44 1557.2 L2022 1546.62 L2011.44 1535.99 L2014.17 1533.19 L2024.8 1543.82 L2035.42 1533.19 L2038.18 1535.99 Z\" fill=\"#000000\" fill-rule=\"evenodd\" fill-opacity=\"1\" /><path clip-path=\"url(#clip870)\" d=\"M 0 0 M2044.06 1557.52 L2051.7 1557.52 L2051.7 1531.15 L2043.39 1532.82 L2043.39 1528.56 L2051.65 1526.9 L2056.33 1526.9 L2056.33 1557.52 L2063.97 1557.52 L2063.97 1561.46 L2044.06 1561.46 L2044.06 1557.52 Z\" fill=\"#000000\" fill-rule=\"evenodd\" fill-opacity=\"1\" /><path clip-path=\"url(#clip870)\" d=\"M 0 0 M2079.03 1529.97 Q2075.42 1529.97 2073.59 1533.54 Q2071.79 1537.08 2071.79 1544.21 Q2071.79 1551.32 2073.59 1554.88 Q2075.42 1558.42 2079.03 1558.42 Q2082.67 1558.42 2084.47 1554.88 Q2086.3 1551.32 2086.3 1544.21 Q2086.3 1537.08 2084.47 1533.54 Q2082.67 1529.97 2079.03 1529.97 M2079.03 1526.27 Q2084.84 1526.27 2087.9 1530.88 Q2090.98 1535.46 2090.98 1544.21 Q2090.98 1552.94 2087.9 1557.54 Q2084.84 1562.13 2079.03 1562.13 Q2073.22 1562.13 2070.15 1557.54 Q2067.09 1552.94 2067.09 1544.21 Q2067.09 1535.46 2070.15 1530.88 Q2073.22 1526.27 2079.03 1526.27 Z\" fill=\"#000000\" fill-rule=\"evenodd\" fill-opacity=\"1\" /><path clip-path=\"url(#clip870)\" d=\"M 0 0 M2090.98 1521.95 L2101.12 1521.95 L2101.12 1525.04 L2090.98 1525.04 L2090.98 1521.95 Z\" fill=\"#000000\" fill-rule=\"evenodd\" fill-opacity=\"1\" /><path clip-path=\"url(#clip870)\" d=\"M 0 0 M2116.28 1505.96 L2131.19 1505.96 L2131.19 1509.16 L2119.75 1509.16 L2119.75 1516.05 Q2120.58 1515.76 2121.41 1515.63 Q2122.24 1515.48 2123.07 1515.48 Q2127.77 1515.48 2130.51 1518.06 Q2133.26 1520.63 2133.26 1525.04 Q2133.26 1529.57 2130.44 1532.09 Q2127.62 1534.59 2122.48 1534.59 Q2120.71 1534.59 2118.87 1534.29 Q2117.05 1533.99 2115.09 1533.39 L2115.09 1529.57 Q2116.78 1530.49 2118.59 1530.94 Q2120.39 1531.39 2122.41 1531.39 Q2125.66 1531.39 2127.56 1529.68 Q2129.46 1527.97 2129.46 1525.04 Q2129.46 1522.1 2127.56 1520.39 Q2125.66 1518.68 2122.41 1518.68 Q2120.88 1518.68 2119.36 1519.02 Q2117.86 1519.36 2116.28 1520.07 L2116.28 1505.96 Z\" fill=\"#000000\" fill-rule=\"evenodd\" fill-opacity=\"1\" /><path clip-path=\"url(#clip870)\" d=\"M 0 0 M74.9365 1431.51 Q71.3254 1431.51 69.4967 1435.08 Q67.6912 1438.62 67.6912 1445.75 Q67.6912 1452.86 69.4967 1456.42 Q71.3254 1459.96 74.9365 1459.96 Q78.5707 1459.96 80.3763 1456.42 Q82.205 1452.86 82.205 1445.75 Q82.205 1438.62 80.3763 1435.08 Q78.5707 1431.51 74.9365 1431.51 M74.9365 1427.81 Q80.7467 1427.81 83.8022 1432.42 Q86.8809 1437 86.8809 1445.75 Q86.8809 1454.48 83.8022 1459.08 Q80.7467 1463.67 74.9365 1463.67 Q69.1264 1463.67 66.0477 1459.08 Q62.9921 1454.48 62.9921 1445.75 Q62.9921 1437 66.0477 1432.42 Q69.1264 1427.81 74.9365 1427.81 Z\" fill=\"#000000\" fill-rule=\"evenodd\" fill-opacity=\"1\" /><path clip-path=\"url(#clip870)\" d=\"M 0 0 M91.9503 1457.12 L96.8345 1457.12 L96.8345 1463 L91.9503 1463 L91.9503 1457.12 Z\" fill=\"#000000\" fill-rule=\"evenodd\" fill-opacity=\"1\" /><path clip-path=\"url(#clip870)\" d=\"M 0 0 M111.904 1431.51 Q108.293 1431.51 106.464 1435.08 Q104.659 1438.62 104.659 1445.75 Q104.659 1452.86 106.464 1456.42 Q108.293 1459.96 111.904 1459.96 Q115.538 1459.96 117.344 1456.42 Q119.172 1452.86 119.172 1445.75 Q119.172 1438.62 117.344 1435.08 Q115.538 1431.51 111.904 1431.51 M111.904 1427.81 Q117.714 1427.81 120.77 1432.42 Q123.848 1437 123.848 1445.75 Q123.848 1454.48 120.77 1459.08 Q117.714 1463.67 111.904 1463.67 Q106.094 1463.67 103.015 1459.08 Q99.9595 1454.48 99.9595 1445.75 Q99.9595 1437 103.015 1432.42 Q106.094 1427.81 111.904 1427.81 Z\" fill=\"#000000\" fill-rule=\"evenodd\" fill-opacity=\"1\" /><path clip-path=\"url(#clip870)\" d=\"M 0 0 M138.918 1431.51 Q135.307 1431.51 133.478 1435.08 Q131.672 1438.62 131.672 1445.75 Q131.672 1452.86 133.478 1456.42 Q135.307 1459.96 138.918 1459.96 Q142.552 1459.96 144.357 1456.42 Q146.186 1452.86 146.186 1445.75 Q146.186 1438.62 144.357 1435.08 Q142.552 1431.51 138.918 1431.51 M138.918 1427.81 Q144.728 1427.81 147.783 1432.42 Q150.862 1437 150.862 1445.75 Q150.862 1454.48 147.783 1459.08 Q144.728 1463.67 138.918 1463.67 Q133.107 1463.67 130.029 1459.08 Q126.973 1454.48 126.973 1445.75 Q126.973 1437 130.029 1432.42 Q133.107 1427.81 138.918 1427.81 Z\" fill=\"#000000\" fill-rule=\"evenodd\" fill-opacity=\"1\" /><path clip-path=\"url(#clip870)\" d=\"M 0 0 M77.5291 1092.08 Q73.918 1092.08 72.0893 1095.64 Q70.2838 1099.19 70.2838 1106.32 Q70.2838 1113.42 72.0893 1116.99 Q73.918 1120.53 77.5291 1120.53 Q81.1633 1120.53 82.9689 1116.99 Q84.7976 1113.42 84.7976 1106.32 Q84.7976 1099.19 82.9689 1095.64 Q81.1633 1092.08 77.5291 1092.08 M77.5291 1088.38 Q83.3392 1088.38 86.3948 1092.98 Q89.4735 1097.57 89.4735 1106.32 Q89.4735 1115.04 86.3948 1119.65 Q83.3392 1124.23 77.5291 1124.23 Q71.7189 1124.23 68.6402 1119.65 Q65.5847 1115.04 65.5847 1106.32 Q65.5847 1097.57 68.6402 1092.98 Q71.7189 1088.38 77.5291 1088.38 Z\" fill=\"#000000\" fill-rule=\"evenodd\" fill-opacity=\"1\" /><path clip-path=\"url(#clip870)\" d=\"M 0 0 M94.5429 1117.68 L99.4271 1117.68 L99.4271 1123.56 L94.5429 1123.56 L94.5429 1117.68 Z\" fill=\"#000000\" fill-rule=\"evenodd\" fill-opacity=\"1\" /><path clip-path=\"url(#clip870)\" d=\"M 0 0 M108.524 1119.63 L124.844 1119.63 L124.844 1123.56 L102.899 1123.56 L102.899 1119.63 Q105.561 1116.87 110.145 1112.24 Q114.751 1107.59 115.932 1106.25 Q118.177 1103.72 119.057 1101.99 Q119.959 1100.23 119.959 1098.54 Q119.959 1095.78 118.015 1094.05 Q116.094 1092.31 112.992 1092.31 Q110.793 1092.31 108.339 1093.07 Q105.909 1093.84 103.131 1095.39 L103.131 1090.67 Q105.955 1089.53 108.409 1088.95 Q110.862 1088.38 112.899 1088.38 Q118.27 1088.38 121.464 1091.06 Q124.658 1093.75 124.658 1098.24 Q124.658 1100.37 123.848 1102.29 Q123.061 1104.19 120.955 1106.78 Q120.376 1107.45 117.274 1110.67 Q114.172 1113.86 108.524 1119.63 Z\" fill=\"#000000\" fill-rule=\"evenodd\" fill-opacity=\"1\" /><path clip-path=\"url(#clip870)\" d=\"M 0 0 M129.959 1089 L148.316 1089 L148.316 1092.94 L134.242 1092.94 L134.242 1101.41 Q135.26 1101.06 136.279 1100.9 Q137.297 1100.71 138.316 1100.71 Q144.103 1100.71 147.482 1103.89 Q150.862 1107.06 150.862 1112.47 Q150.862 1118.05 147.39 1121.15 Q143.918 1124.23 137.598 1124.23 Q135.422 1124.23 133.154 1123.86 Q130.908 1123.49 128.501 1122.75 L128.501 1118.05 Q130.584 1119.19 132.807 1119.74 Q135.029 1120.3 137.506 1120.3 Q141.51 1120.3 143.848 1118.19 Q146.186 1116.08 146.186 1112.47 Q146.186 1108.86 143.848 1106.76 Q141.51 1104.65 137.506 1104.65 Q135.631 1104.65 133.756 1105.07 Q131.904 1105.48 129.959 1106.36 L129.959 1089 Z\" fill=\"#000000\" fill-rule=\"evenodd\" fill-opacity=\"1\" /><path clip-path=\"url(#clip870)\" d=\"M 0 0 M75.9319 752.645 Q72.3208 752.645 70.4921 756.209 Q68.6865 759.751 68.6865 766.881 Q68.6865 773.987 70.4921 777.552 Q72.3208 781.094 75.9319 781.094 Q79.5661 781.094 81.3717 777.552 Q83.2004 773.987 83.2004 766.881 Q83.2004 759.751 81.3717 756.209 Q79.5661 752.645 75.9319 752.645 M75.9319 748.941 Q81.742 748.941 84.7976 753.547 Q87.8763 758.131 87.8763 766.881 Q87.8763 775.608 84.7976 780.214 Q81.742 784.797 75.9319 784.797 Q70.1217 784.797 67.043 780.214 Q63.9875 775.608 63.9875 766.881 Q63.9875 758.131 67.043 753.547 Q70.1217 748.941 75.9319 748.941 Z\" fill=\"#000000\" fill-rule=\"evenodd\" fill-opacity=\"1\" /><path clip-path=\"url(#clip870)\" d=\"M 0 0 M92.9457 778.246 L97.8299 778.246 L97.8299 784.126 L92.9457 784.126 L92.9457 778.246 Z\" fill=\"#000000\" fill-rule=\"evenodd\" fill-opacity=\"1\" /><path clip-path=\"url(#clip870)\" d=\"M 0 0 M102.946 749.566 L121.302 749.566 L121.302 753.501 L107.228 753.501 L107.228 761.973 Q108.247 761.626 109.265 761.464 Q110.284 761.279 111.302 761.279 Q117.089 761.279 120.469 764.45 Q123.848 767.621 123.848 773.038 Q123.848 778.617 120.376 781.719 Q116.904 784.797 110.584 784.797 Q108.409 784.797 106.14 784.427 Q103.895 784.057 101.487 783.316 L101.487 778.617 Q103.571 779.751 105.793 780.307 Q108.015 780.862 110.492 780.862 Q114.496 780.862 116.834 778.756 Q119.172 776.649 119.172 773.038 Q119.172 769.427 116.834 767.321 Q114.496 765.214 110.492 765.214 Q108.617 765.214 106.742 765.631 Q104.89 766.047 102.946 766.927 L102.946 749.566 Z\" fill=\"#000000\" fill-rule=\"evenodd\" fill-opacity=\"1\" /><path clip-path=\"url(#clip870)\" d=\"M 0 0 M138.918 752.645 Q135.307 752.645 133.478 756.209 Q131.672 759.751 131.672 766.881 Q131.672 773.987 133.478 777.552 Q135.307 781.094 138.918 781.094 Q142.552 781.094 144.357 777.552 Q146.186 773.987 146.186 766.881 Q146.186 759.751 144.357 756.209 Q142.552 752.645 138.918 752.645 M138.918 748.941 Q144.728 748.941 147.783 753.547 Q150.862 758.131 150.862 766.881 Q150.862 775.608 147.783 780.214 Q144.728 784.797 138.918 784.797 Q133.107 784.797 130.029 780.214 Q126.973 775.608 126.973 766.881 Q126.973 758.131 130.029 753.547 Q133.107 748.941 138.918 748.941 Z\" fill=\"#000000\" fill-rule=\"evenodd\" fill-opacity=\"1\" /><path clip-path=\"url(#clip870)\" d=\"M 0 0 M76.8346 413.21 Q73.2236 413.21 71.3949 416.775 Q69.5893 420.316 69.5893 427.446 Q69.5893 434.552 71.3949 438.117 Q73.2236 441.659 76.8346 441.659 Q80.4689 441.659 82.2744 438.117 Q84.1031 434.552 84.1031 427.446 Q84.1031 420.316 82.2744 416.775 Q80.4689 413.21 76.8346 413.21 M76.8346 409.506 Q82.6448 409.506 85.7003 414.113 Q88.779 418.696 88.779 427.446 Q88.779 436.173 85.7003 440.779 Q82.6448 445.362 76.8346 445.362 Q71.0245 445.362 67.9458 440.779 Q64.8903 436.173 64.8903 427.446 Q64.8903 418.696 67.9458 414.113 Q71.0245 409.506 76.8346 409.506 Z\" fill=\"#000000\" fill-rule=\"evenodd\" fill-opacity=\"1\" /><path clip-path=\"url(#clip870)\" d=\"M 0 0 M93.8484 438.812 L98.7327 438.812 L98.7327 444.691 L93.8484 444.691 L93.8484 438.812 Z\" fill=\"#000000\" fill-rule=\"evenodd\" fill-opacity=\"1\" /><path clip-path=\"url(#clip870)\" d=\"M 0 0 M102.622 410.131 L124.844 410.131 L124.844 412.122 L112.297 444.691 L107.413 444.691 L119.219 414.066 L102.622 414.066 L102.622 410.131 Z\" fill=\"#000000\" fill-rule=\"evenodd\" fill-opacity=\"1\" /><path clip-path=\"url(#clip870)\" d=\"M 0 0 M129.959 410.131 L148.316 410.131 L148.316 414.066 L134.242 414.066 L134.242 422.538 Q135.26 422.191 136.279 422.029 Q137.297 421.844 138.316 421.844 Q144.103 421.844 147.482 425.015 Q150.862 428.187 150.862 433.603 Q150.862 439.182 147.39 442.284 Q143.918 445.362 137.598 445.362 Q135.422 445.362 133.154 444.992 Q130.908 444.622 128.501 443.881 L128.501 439.182 Q130.584 440.316 132.807 440.872 Q135.029 441.427 137.506 441.427 Q141.51 441.427 143.848 439.321 Q146.186 437.214 146.186 433.603 Q146.186 429.992 143.848 427.886 Q141.51 425.779 137.506 425.779 Q135.631 425.779 133.756 426.196 Q131.904 426.613 129.959 427.492 L129.959 410.131 Z\" fill=\"#000000\" fill-rule=\"evenodd\" fill-opacity=\"1\" /><path clip-path=\"url(#clip870)\" d=\"M 0 0 M66.9736 101.321 L74.6124 101.321 L74.6124 74.9555 L66.3023 76.6222 L66.3023 72.3629 L74.5661 70.6963 L79.242 70.6963 L79.242 101.321 L86.8809 101.321 L86.8809 105.256 L66.9736 105.256 L66.9736 101.321 Z\" fill=\"#000000\" fill-rule=\"evenodd\" fill-opacity=\"1\" /><path clip-path=\"url(#clip870)\" d=\"M 0 0 M91.9503 99.3767 L96.8345 99.3767 L96.8345 105.256 L91.9503 105.256 L91.9503 99.3767 Z\" fill=\"#000000\" fill-rule=\"evenodd\" fill-opacity=\"1\" /><path clip-path=\"url(#clip870)\" d=\"M 0 0 M111.904 73.775 Q108.293 73.775 106.464 77.3398 Q104.659 80.8814 104.659 88.011 Q104.659 95.1174 106.464 98.6822 Q108.293 102.224 111.904 102.224 Q115.538 102.224 117.344 98.6822 Q119.172 95.1174 119.172 88.011 Q119.172 80.8814 117.344 77.3398 Q115.538 73.775 111.904 73.775 M111.904 70.0713 Q117.714 70.0713 120.77 74.6777 Q123.848 79.261 123.848 88.011 Q123.848 96.7378 120.77 101.344 Q117.714 105.928 111.904 105.928 Q106.094 105.928 103.015 101.344 Q99.9595 96.7378 99.9595 88.011 Q99.9595 79.261 103.015 74.6777 Q106.094 70.0713 111.904 70.0713 Z\" fill=\"#000000\" fill-rule=\"evenodd\" fill-opacity=\"1\" /><path clip-path=\"url(#clip870)\" d=\"M 0 0 M138.918 73.775 Q135.307 73.775 133.478 77.3398 Q131.672 80.8814 131.672 88.011 Q131.672 95.1174 133.478 98.6822 Q135.307 102.224 138.918 102.224 Q142.552 102.224 144.357 98.6822 Q146.186 95.1174 146.186 88.011 Q146.186 80.8814 144.357 77.3398 Q142.552 73.775 138.918 73.775 M138.918 70.0713 Q144.728 70.0713 147.783 74.6777 Q150.862 79.261 150.862 88.011 Q150.862 96.7378 147.783 101.344 Q144.728 105.928 138.918 105.928 Q133.107 105.928 130.029 101.344 Q126.973 96.7378 126.973 88.011 Q126.973 79.261 130.029 74.6777 Q133.107 70.0713 138.918 70.0713 Z\" fill=\"#000000\" fill-rule=\"evenodd\" fill-opacity=\"1\" /><polyline clip-path=\"url(#clip872)\" style=\"stroke:#009af9; stroke-width:4; stroke-opacity:1; fill:none\" points=\"\n",
       "  236.501,1445.72 258.664,1432 288.774,1418.29 296.161,1404.57 319.647,1390.86 327.456,1377.14 338.067,1363.43 380.607,1349.71 387.523,1336 420.907,1322.28 \n",
       "  439.779,1308.57 445.91,1294.86 454.098,1281.14 478.753,1267.43 480.178,1253.71 484.627,1240 486.767,1226.28 493.747,1212.57 513.408,1198.85 514.828,1185.14 \n",
       "  525.938,1171.42 531.19,1157.71 546.605,1144 547.128,1130.28 573.152,1116.57 593.675,1102.85 622.57,1089.14 625.614,1075.42 626.401,1061.71 639.237,1047.99 \n",
       "  659.013,1034.28 666.728,1020.56 672.519,1006.85 710.247,993.136 711.066,979.421 720.693,965.707 725.407,951.992 728.205,938.278 737.48,924.563 743.618,910.849 \n",
       "  757.226,897.134 768.679,883.42 785.443,869.705 786.104,855.99 789.571,842.276 804.896,828.561 828.594,814.847 835.147,801.132 842.922,787.418 852.808,773.703 \n",
       "  857.164,759.989 865.538,746.274 886.226,732.56 895.108,718.845 907.22,705.131 909.835,691.416 959.853,677.701 968.105,663.987 1002.84,650.272 1004.31,636.558 \n",
       "  1005.45,622.843 1009.11,609.129 1012.24,595.414 1041.93,581.7 1054.83,567.985 1079.59,554.271 1084.93,540.556 1088.34,526.842 1090,513.127 1103.4,499.412 \n",
       "  1104.06,485.698 1144.37,471.983 1166.93,458.269 1168.56,444.554 1182.22,430.84 1203.6,417.125 1228.42,403.411 1233.94,389.696 1243.1,375.982 1260.91,362.267 \n",
       "  1268.65,348.553 1298.48,334.838 1309.68,321.123 1314.63,307.409 1326.5,293.694 1328.68,279.98 1349.18,266.265 1362.88,252.551 1456.19,238.836 1458.65,225.122 \n",
       "  1536.56,211.407 1555.22,197.693 1612.13,183.978 1637.53,170.264 1735.99,156.549 1763.56,142.834 2049.44,129.12 2089.6,115.405 2142.91,101.691 2291.12,87.9763 \n",
       "  \n",
       "  \"/>\n",
       "<polyline clip-path=\"url(#clip872)\" style=\"stroke:#e26f46; stroke-width:4; stroke-opacity:1; fill:none\" points=\"\n",
       "  864.234,1445.72 927.885,1445.72 944.58,1445.72 946.357,1445.72 948.467,1445.72 950.204,1445.72 951.686,1445.72 954.428,1445.72 954.864,1445.72 954.924,1445.72 \n",
       "  955.23,1445.72 955.25,1445.72 956.085,1445.72 956.145,1445.72 957.446,1445.72 960.159,87.9763 963.303,87.9763 963.891,87.9763 965.582,87.9763 966.621,87.9763 \n",
       "  968.864,87.9763 969.175,87.9763 969.903,87.9763 971.492,87.9763 971.824,87.9763 973.987,87.9763 974.811,87.9763 974.881,87.9763 977.336,87.9763 978.389,87.9763 \n",
       "  978.745,87.9763 980.039,87.9763 980.226,87.9763 981.495,87.9763 981.703,87.9763 981.951,87.9763 983.419,87.9763 984.992,87.9763 985.778,87.9763 986.267,87.9763 \n",
       "  987.561,87.9763 987.948,87.9763 989.077,87.9763 989.843,87.9763 989.945,87.9763 992.679,87.9763 992.792,87.9763 994.035,87.9763 995.836,87.9763 997.168,87.9763 \n",
       "  997.572,87.9763 1000.69,87.9763 1003.28,87.9763 1003.86,87.9763 1003.99,87.9763 1006.17,87.9763 1010.15,87.9763 1010.63,87.9763 1014.83,87.9763 1016.29,87.9763 \n",
       "  1016.31,87.9763 1016.41,87.9763 1028.09,87.9763 1031.17,87.9763 \n",
       "  \"/>\n",
       "<path clip-path=\"url(#clip870)\" d=\"\n",
       "M1989.74 312.204 L2280.76 312.204 L2280.76 130.764 L1989.74 130.764  Z\n",
       "  \" fill=\"#ffffff\" fill-rule=\"evenodd\" fill-opacity=\"1\"/>\n",
       "<polyline clip-path=\"url(#clip870)\" style=\"stroke:#000000; stroke-width:4; stroke-opacity:1; fill:none\" points=\"\n",
       "  1989.74,312.204 2280.76,312.204 2280.76,130.764 1989.74,130.764 1989.74,312.204 \n",
       "  \"/>\n",
       "<polyline clip-path=\"url(#clip870)\" style=\"stroke:#009af9; stroke-width:4; stroke-opacity:1; fill:none\" points=\"\n",
       "  2013.74,191.244 2157.74,191.244 \n",
       "  \"/>\n",
       "<path clip-path=\"url(#clip870)\" d=\"M 0 0 M2195.58 210.931 Q2193.77 215.561 2192.06 216.973 Q2190.35 218.385 2187.48 218.385 L2184.08 218.385 L2184.08 214.82 L2186.58 214.82 Q2188.33 214.82 2189.31 213.987 Q2190.28 213.154 2191.46 210.052 L2192.22 208.107 L2181.74 182.598 L2186.25 182.598 L2194.35 202.876 L2202.46 182.598 L2206.97 182.598 L2195.58 210.931 Z\" fill=\"#000000\" fill-rule=\"evenodd\" fill-opacity=\"1\" /><path clip-path=\"url(#clip870)\" d=\"M 0 0 M2212.85 204.589 L2220.49 204.589 L2220.49 178.223 L2212.18 179.89 L2212.18 175.631 L2220.44 173.964 L2225.12 173.964 L2225.12 204.589 L2232.76 204.589 L2232.76 208.524 L2212.85 208.524 L2212.85 204.589 Z\" fill=\"#000000\" fill-rule=\"evenodd\" fill-opacity=\"1\" /><polyline clip-path=\"url(#clip870)\" style=\"stroke:#e26f46; stroke-width:4; stroke-opacity:1; fill:none\" points=\"\n",
       "  2013.74,251.724 2157.74,251.724 \n",
       "  \"/>\n",
       "<path clip-path=\"url(#clip870)\" d=\"M 0 0 M2195.58 271.411 Q2193.77 276.041 2192.06 277.453 Q2190.35 278.865 2187.48 278.865 L2184.08 278.865 L2184.08 275.3 L2186.58 275.3 Q2188.33 275.3 2189.31 274.467 Q2190.28 273.634 2191.46 270.532 L2192.22 268.587 L2181.74 243.078 L2186.25 243.078 L2194.35 263.356 L2202.46 243.078 L2206.97 243.078 L2195.58 271.411 Z\" fill=\"#000000\" fill-rule=\"evenodd\" fill-opacity=\"1\" /><path clip-path=\"url(#clip870)\" d=\"M 0 0 M2216.07 265.069 L2232.39 265.069 L2232.39 269.004 L2210.44 269.004 L2210.44 265.069 Q2213.1 262.314 2217.69 257.685 Q2222.29 253.032 2223.47 251.689 Q2225.72 249.166 2226.6 247.43 Q2227.5 245.671 2227.5 243.981 Q2227.5 241.226 2225.56 239.49 Q2223.64 237.754 2220.53 237.754 Q2218.33 237.754 2215.88 238.518 Q2213.45 239.282 2210.67 240.833 L2210.67 236.111 Q2213.5 234.976 2215.95 234.398 Q2218.4 233.819 2220.44 233.819 Q2225.81 233.819 2229.01 236.504 Q2232.2 239.189 2232.2 243.68 Q2232.2 245.81 2231.39 247.731 Q2230.6 249.629 2228.5 252.222 Q2227.92 252.893 2224.82 256.111 Q2221.71 259.305 2216.07 265.069 Z\" fill=\"#000000\" fill-rule=\"evenodd\" fill-opacity=\"1\" /></svg>\n"
      ]
     },
     "execution_count": 115,
     "metadata": {},
     "output_type": "execute_result"
    }
   ],
   "source": [
    "\n",
    "\n",
    "# i_y = (ii-1) ÷ 3 + 1\n",
    "# i_y = (ii-1) ÷ 3 + 1\n",
    "\n",
    "# y_y_list[ii]\n",
    "\n",
    "# time_step = 5\n",
    "\n",
    "ind  = sortperm(y_x_list[ii][:,time_step])\n",
    "\n",
    "plot(y_x_list[ii][ind,time_step],LinRange(0,1,N_k_fine))\n",
    "\n",
    "q_t_ = run(sess,q_t_x[ii],feed_dict = Dict(lambda => ones(1)*T_,N_k_dis=>64.0))\n",
    "p_ = run(sess,p,feed_dict = Dict(lambda => ones(1)*T_,N_k_dis=>64.0))\n",
    "\n",
    "\n",
    "ind  = sortperm(q_t_[time_step,:,1])\n",
    "\n",
    "# plot!(q_t_[time_step,ind,1],cumsum(p_[1,ind]))\n",
    "plot!([q_t_[time_step,ind,1];q_t_[time_step,ind[end],1]],[0;cumsum(p_[1,ind])])\n",
    "\n",
    "\n",
    "# ind  = sortperm(y_y_list[ii][:,time_step])\n",
    "\n",
    "# plot!(y_y_list[ii][ind,time_step],LinRange(0,1,N_k_fine))\n"
   ]
  },
  {
   "cell_type": "code",
   "execution_count": 116,
   "metadata": {},
   "outputs": [
    {
     "data": {
      "image/svg+xml": [
       "<?xml version=\"1.0\" encoding=\"utf-8\"?>\n",
       "<svg xmlns=\"http://www.w3.org/2000/svg\" xmlns:xlink=\"http://www.w3.org/1999/xlink\" width=\"600\" height=\"400\" viewBox=\"0 0 2400 1600\">\n",
       "<defs>\n",
       "  <clipPath id=\"clip910\">\n",
       "    <rect x=\"0\" y=\"0\" width=\"2400\" height=\"1600\"/>\n",
       "  </clipPath>\n",
       "</defs>\n",
       "<path clip-path=\"url(#clip910)\" d=\"\n",
       "M0 1600 L2400 1600 L2400 0 L0 0  Z\n",
       "  \" fill=\"#ffffff\" fill-rule=\"evenodd\" fill-opacity=\"1\"/>\n",
       "<defs>\n",
       "  <clipPath id=\"clip911\">\n",
       "    <rect x=\"480\" y=\"0\" width=\"1681\" height=\"1600\"/>\n",
       "  </clipPath>\n",
       "</defs>\n",
       "<path clip-path=\"url(#clip910)\" d=\"\n",
       "M273.172 1486.45 L2352.76 1486.45 L2352.76 47.2441 L273.172 47.2441  Z\n",
       "  \" fill=\"#ffffff\" fill-rule=\"evenodd\" fill-opacity=\"1\"/>\n",
       "<defs>\n",
       "  <clipPath id=\"clip912\">\n",
       "    <rect x=\"273\" y=\"47\" width=\"2081\" height=\"1440\"/>\n",
       "  </clipPath>\n",
       "</defs>\n",
       "<polyline clip-path=\"url(#clip912)\" style=\"stroke:#000000; stroke-width:2; stroke-opacity:0.1; fill:none\" points=\"\n",
       "  550.014,1486.45 550.014,47.2441 \n",
       "  \"/>\n",
       "<polyline clip-path=\"url(#clip912)\" style=\"stroke:#000000; stroke-width:2; stroke-opacity:0.1; fill:none\" points=\"\n",
       "  985.985,1486.45 985.985,47.2441 \n",
       "  \"/>\n",
       "<polyline clip-path=\"url(#clip912)\" style=\"stroke:#000000; stroke-width:2; stroke-opacity:0.1; fill:none\" points=\"\n",
       "  1421.96,1486.45 1421.96,47.2441 \n",
       "  \"/>\n",
       "<polyline clip-path=\"url(#clip912)\" style=\"stroke:#000000; stroke-width:2; stroke-opacity:0.1; fill:none\" points=\"\n",
       "  1857.93,1486.45 1857.93,47.2441 \n",
       "  \"/>\n",
       "<polyline clip-path=\"url(#clip912)\" style=\"stroke:#000000; stroke-width:2; stroke-opacity:0.1; fill:none\" points=\"\n",
       "  2293.9,1486.45 2293.9,47.2441 \n",
       "  \"/>\n",
       "<polyline clip-path=\"url(#clip912)\" style=\"stroke:#000000; stroke-width:2; stroke-opacity:0.1; fill:none\" points=\"\n",
       "  273.172,1402.79 2352.76,1402.79 \n",
       "  \"/>\n",
       "<polyline clip-path=\"url(#clip912)\" style=\"stroke:#000000; stroke-width:2; stroke-opacity:0.1; fill:none\" points=\"\n",
       "  273.172,1051.54 2352.76,1051.54 \n",
       "  \"/>\n",
       "<polyline clip-path=\"url(#clip912)\" style=\"stroke:#000000; stroke-width:2; stroke-opacity:0.1; fill:none\" points=\"\n",
       "  273.172,700.294 2352.76,700.294 \n",
       "  \"/>\n",
       "<polyline clip-path=\"url(#clip912)\" style=\"stroke:#000000; stroke-width:2; stroke-opacity:0.1; fill:none\" points=\"\n",
       "  273.172,349.045 2352.76,349.045 \n",
       "  \"/>\n",
       "<polyline clip-path=\"url(#clip910)\" style=\"stroke:#000000; stroke-width:4; stroke-opacity:1; fill:none\" points=\"\n",
       "  273.172,1486.45 2352.76,1486.45 \n",
       "  \"/>\n",
       "<polyline clip-path=\"url(#clip910)\" style=\"stroke:#000000; stroke-width:4; stroke-opacity:1; fill:none\" points=\"\n",
       "  273.172,1486.45 273.172,47.2441 \n",
       "  \"/>\n",
       "<polyline clip-path=\"url(#clip910)\" style=\"stroke:#000000; stroke-width:4; stroke-opacity:1; fill:none\" points=\"\n",
       "  550.014,1486.45 550.014,1469.18 \n",
       "  \"/>\n",
       "<polyline clip-path=\"url(#clip910)\" style=\"stroke:#000000; stroke-width:4; stroke-opacity:1; fill:none\" points=\"\n",
       "  985.985,1486.45 985.985,1469.18 \n",
       "  \"/>\n",
       "<polyline clip-path=\"url(#clip910)\" style=\"stroke:#000000; stroke-width:4; stroke-opacity:1; fill:none\" points=\"\n",
       "  1421.96,1486.45 1421.96,1469.18 \n",
       "  \"/>\n",
       "<polyline clip-path=\"url(#clip910)\" style=\"stroke:#000000; stroke-width:4; stroke-opacity:1; fill:none\" points=\"\n",
       "  1857.93,1486.45 1857.93,1469.18 \n",
       "  \"/>\n",
       "<polyline clip-path=\"url(#clip910)\" style=\"stroke:#000000; stroke-width:4; stroke-opacity:1; fill:none\" points=\"\n",
       "  2293.9,1486.45 2293.9,1469.18 \n",
       "  \"/>\n",
       "<polyline clip-path=\"url(#clip910)\" style=\"stroke:#000000; stroke-width:4; stroke-opacity:1; fill:none\" points=\"\n",
       "  273.172,1402.79 298.127,1402.79 \n",
       "  \"/>\n",
       "<polyline clip-path=\"url(#clip910)\" style=\"stroke:#000000; stroke-width:4; stroke-opacity:1; fill:none\" points=\"\n",
       "  273.172,1051.54 298.127,1051.54 \n",
       "  \"/>\n",
       "<polyline clip-path=\"url(#clip910)\" style=\"stroke:#000000; stroke-width:4; stroke-opacity:1; fill:none\" points=\"\n",
       "  273.172,700.294 298.127,700.294 \n",
       "  \"/>\n",
       "<polyline clip-path=\"url(#clip910)\" style=\"stroke:#000000; stroke-width:4; stroke-opacity:1; fill:none\" points=\"\n",
       "  273.172,349.045 298.127,349.045 \n",
       "  \"/>\n",
       "<path clip-path=\"url(#clip910)\" d=\"M 0 0 M544.666 1535.98 L560.986 1535.98 L560.986 1539.92 L539.041 1539.92 L539.041 1535.98 Q541.703 1533.23 546.287 1528.6 Q550.893 1523.95 552.074 1522.61 Q554.319 1520.08 555.199 1518.35 Q556.102 1516.59 556.102 1514.9 Q556.102 1512.14 554.157 1510.41 Q552.236 1508.67 549.134 1508.67 Q546.935 1508.67 544.481 1509.43 Q542.051 1510.2 539.273 1511.75 L539.273 1507.03 Q542.097 1505.89 544.551 1505.31 Q547.004 1504.73 549.041 1504.73 Q554.412 1504.73 557.606 1507.42 Q560.801 1510.11 560.801 1514.6 Q560.801 1516.73 559.99 1518.65 Q559.203 1520.54 557.097 1523.14 Q556.518 1523.81 553.416 1527.03 Q550.315 1530.22 544.666 1535.98 Z\" fill=\"#000000\" fill-rule=\"evenodd\" fill-opacity=\"1\" /><path clip-path=\"url(#clip910)\" d=\"M 0 0 M988.994 1509.43 L977.189 1527.88 L988.994 1527.88 L988.994 1509.43 M987.768 1505.36 L993.647 1505.36 L993.647 1527.88 L998.578 1527.88 L998.578 1531.77 L993.647 1531.77 L993.647 1539.92 L988.994 1539.92 L988.994 1531.77 L973.393 1531.77 L973.393 1527.26 L987.768 1505.36 Z\" fill=\"#000000\" fill-rule=\"evenodd\" fill-opacity=\"1\" /><path clip-path=\"url(#clip910)\" d=\"M 0 0 M1422.36 1520.78 Q1419.21 1520.78 1417.36 1522.93 Q1415.53 1525.08 1415.53 1528.83 Q1415.53 1532.56 1417.36 1534.73 Q1419.21 1536.89 1422.36 1536.89 Q1425.51 1536.89 1427.34 1534.73 Q1429.19 1532.56 1429.19 1528.83 Q1429.19 1525.08 1427.34 1522.93 Q1425.51 1520.78 1422.36 1520.78 M1431.64 1506.12 L1431.64 1510.38 Q1429.88 1509.55 1428.08 1509.11 Q1426.3 1508.67 1424.54 1508.67 Q1419.91 1508.67 1417.45 1511.8 Q1415.02 1514.92 1414.68 1521.24 Q1416.04 1519.23 1418.1 1518.16 Q1420.16 1517.07 1422.64 1517.07 Q1427.85 1517.07 1430.86 1520.24 Q1433.89 1523.39 1433.89 1528.83 Q1433.89 1534.16 1430.74 1537.37 Q1427.59 1540.59 1422.36 1540.59 Q1416.37 1540.59 1413.2 1536.01 Q1410.02 1531.4 1410.02 1522.67 Q1410.02 1514.48 1413.91 1509.62 Q1417.8 1504.73 1424.35 1504.73 Q1426.11 1504.73 1427.89 1505.08 Q1429.7 1505.43 1431.64 1506.12 Z\" fill=\"#000000\" fill-rule=\"evenodd\" fill-opacity=\"1\" /><path clip-path=\"url(#clip910)\" d=\"M 0 0 M1857.93 1523.51 Q1854.59 1523.51 1852.67 1525.29 Q1850.78 1527.07 1850.78 1530.2 Q1850.78 1533.32 1852.67 1535.11 Q1854.59 1536.89 1857.93 1536.89 Q1861.26 1536.89 1863.18 1535.11 Q1865.1 1533.3 1865.1 1530.2 Q1865.1 1527.07 1863.18 1525.29 Q1861.28 1523.51 1857.93 1523.51 M1853.25 1521.52 Q1850.24 1520.78 1848.55 1518.72 Q1846.89 1516.66 1846.89 1513.69 Q1846.89 1509.55 1849.83 1507.14 Q1852.79 1504.73 1857.93 1504.73 Q1863.09 1504.73 1866.03 1507.14 Q1868.97 1509.55 1868.97 1513.69 Q1868.97 1516.66 1867.28 1518.72 Q1865.61 1520.78 1862.63 1521.52 Q1866.01 1522.3 1867.88 1524.6 Q1869.78 1526.89 1869.78 1530.2 Q1869.78 1535.22 1866.7 1537.91 Q1863.65 1540.59 1857.93 1540.59 Q1852.21 1540.59 1849.13 1537.91 Q1846.08 1535.22 1846.08 1530.2 Q1846.08 1526.89 1847.97 1524.6 Q1849.87 1522.3 1853.25 1521.52 M1851.54 1514.13 Q1851.54 1516.82 1853.21 1518.32 Q1854.9 1519.83 1857.93 1519.83 Q1860.94 1519.83 1862.63 1518.32 Q1864.34 1516.82 1864.34 1514.13 Q1864.34 1511.45 1862.63 1509.94 Q1860.94 1508.44 1857.93 1508.44 Q1854.9 1508.44 1853.21 1509.94 Q1851.54 1511.45 1851.54 1514.13 Z\" fill=\"#000000\" fill-rule=\"evenodd\" fill-opacity=\"1\" /><path clip-path=\"url(#clip910)\" d=\"M 0 0 M2270.77 1535.98 L2278.41 1535.98 L2278.41 1509.62 L2270.1 1511.29 L2270.1 1507.03 L2278.37 1505.36 L2283.04 1505.36 L2283.04 1535.98 L2290.68 1535.98 L2290.68 1539.92 L2270.77 1539.92 L2270.77 1535.98 Z\" fill=\"#000000\" fill-rule=\"evenodd\" fill-opacity=\"1\" /><path clip-path=\"url(#clip910)\" d=\"M 0 0 M2305.75 1508.44 Q2302.14 1508.44 2300.31 1512 Q2298.51 1515.55 2298.51 1522.67 Q2298.51 1529.78 2300.31 1533.35 Q2302.14 1536.89 2305.75 1536.89 Q2309.39 1536.89 2311.19 1533.35 Q2313.02 1529.78 2313.02 1522.67 Q2313.02 1515.55 2311.19 1512 Q2309.39 1508.44 2305.75 1508.44 M2305.75 1504.73 Q2311.56 1504.73 2314.62 1509.34 Q2317.7 1513.92 2317.7 1522.67 Q2317.7 1531.4 2314.62 1536.01 Q2311.56 1540.59 2305.75 1540.59 Q2299.94 1540.59 2296.86 1536.01 Q2293.81 1531.4 2293.81 1522.67 Q2293.81 1513.92 2296.86 1509.34 Q2299.94 1504.73 2305.75 1504.73 Z\" fill=\"#000000\" fill-rule=\"evenodd\" fill-opacity=\"1\" /><path clip-path=\"url(#clip910)\" d=\"M 0 0 M71.8043 1410.11 Q68.471 1410.11 66.5497 1411.89 Q64.6515 1413.67 64.6515 1416.8 Q64.6515 1419.92 66.5497 1421.7 Q68.471 1423.49 71.8043 1423.49 Q75.1376 1423.49 77.0589 1421.7 Q78.9802 1419.9 78.9802 1416.8 Q78.9802 1413.67 77.0589 1411.89 Q75.1608 1410.11 71.8043 1410.11 M67.1284 1408.12 Q64.1191 1407.38 62.4293 1405.32 Q60.7627 1403.26 60.7627 1400.29 Q60.7627 1396.15 63.7025 1393.74 Q66.6654 1391.33 71.8043 1391.33 Q76.9663 1391.33 79.9061 1393.74 Q82.8459 1396.15 82.8459 1400.29 Q82.8459 1403.26 81.1561 1405.32 Q79.4894 1407.38 76.5033 1408.12 Q79.8829 1408.9 81.7579 1411.2 Q83.6561 1413.49 83.6561 1416.8 Q83.6561 1421.82 80.5774 1424.51 Q77.5219 1427.19 71.8043 1427.19 Q66.0867 1427.19 63.008 1424.51 Q59.9525 1421.82 59.9525 1416.8 Q59.9525 1413.49 61.8506 1411.2 Q63.7488 1408.9 67.1284 1408.12 M65.4154 1400.73 Q65.4154 1403.42 67.0821 1404.92 Q68.7719 1406.43 71.8043 1406.43 Q74.8135 1406.43 76.5033 1404.92 Q78.2163 1403.42 78.2163 1400.73 Q78.2163 1398.05 76.5033 1396.54 Q74.8135 1395.04 71.8043 1395.04 Q68.7719 1395.04 67.0821 1396.54 Q65.4154 1398.05 65.4154 1400.73 Z\" fill=\"#000000\" fill-rule=\"evenodd\" fill-opacity=\"1\" /><path clip-path=\"url(#clip910)\" d=\"M 0 0 M88.7255 1420.64 L93.6097 1420.64 L93.6097 1426.52 L88.7255 1426.52 L88.7255 1420.64 Z\" fill=\"#000000\" fill-rule=\"evenodd\" fill-opacity=\"1\" /><path clip-path=\"url(#clip910)\" d=\"M 0 0 M98.7254 1391.96 L117.082 1391.96 L117.082 1395.89 L103.008 1395.89 L103.008 1404.37 Q104.026 1404.02 105.045 1403.86 Q106.063 1403.67 107.082 1403.67 Q112.869 1403.67 116.248 1406.84 Q119.628 1410.01 119.628 1415.43 Q119.628 1421.01 116.156 1424.11 Q112.684 1427.19 106.364 1427.19 Q104.188 1427.19 101.92 1426.82 Q99.6745 1426.45 97.2671 1425.71 L97.2671 1421.01 Q99.3504 1422.14 101.573 1422.7 Q103.795 1423.26 106.272 1423.26 Q110.276 1423.26 112.614 1421.15 Q114.952 1419.04 114.952 1415.43 Q114.952 1411.82 112.614 1409.71 Q110.276 1407.61 106.272 1407.61 Q104.397 1407.61 102.522 1408.02 Q100.67 1408.44 98.7254 1409.32 L98.7254 1391.96 Z\" fill=\"#000000\" fill-rule=\"evenodd\" fill-opacity=\"1\" /><path clip-path=\"url(#clip910)\" d=\"M 0 0 M152.869 1401.06 L142.29 1411.68 L152.869 1422.26 L150.114 1425.06 L139.489 1414.44 L128.864 1425.06 L126.133 1422.26 L136.688 1411.68 L126.133 1401.06 L128.864 1398.26 L139.489 1408.88 L150.114 1398.26 L152.869 1401.06 Z\" fill=\"#000000\" fill-rule=\"evenodd\" fill-opacity=\"1\" /><path clip-path=\"url(#clip910)\" d=\"M 0 0 M158.748 1422.58 L166.387 1422.58 L166.387 1396.22 L158.077 1397.89 L158.077 1393.63 L166.341 1391.96 L171.017 1391.96 L171.017 1422.58 L178.656 1422.58 L178.656 1426.52 L158.748 1426.52 L158.748 1422.58 Z\" fill=\"#000000\" fill-rule=\"evenodd\" fill-opacity=\"1\" /><path clip-path=\"url(#clip910)\" d=\"M 0 0 M193.725 1395.04 Q190.114 1395.04 188.285 1398.6 Q186.48 1402.14 186.48 1409.27 Q186.48 1416.38 188.285 1419.95 Q190.114 1423.49 193.725 1423.49 Q197.359 1423.49 199.165 1419.95 Q200.993 1416.38 200.993 1409.27 Q200.993 1402.14 199.165 1398.6 Q197.359 1395.04 193.725 1395.04 M193.725 1391.33 Q199.535 1391.33 202.591 1395.94 Q205.669 1400.52 205.669 1409.27 Q205.669 1418 202.591 1422.61 Q199.535 1427.19 193.725 1427.19 Q187.915 1427.19 184.836 1422.61 Q181.781 1418 181.781 1409.27 Q181.781 1400.52 184.836 1395.94 Q187.915 1391.33 193.725 1391.33 Z\" fill=\"#000000\" fill-rule=\"evenodd\" fill-opacity=\"1\" /><path clip-path=\"url(#clip910)\" d=\"M 0 0 M205.669 1387.02 L215.807 1387.02 L215.807 1390.1 L205.669 1390.1 L205.669 1387.02 Z\" fill=\"#000000\" fill-rule=\"evenodd\" fill-opacity=\"1\" /><path clip-path=\"url(#clip910)\" d=\"M 0 0 M239.805 1383.55 Q237.248 1383.55 235.743 1385.3 Q234.257 1387.05 234.257 1390.1 Q234.257 1393.13 235.743 1394.9 Q237.248 1396.65 239.805 1396.65 Q242.363 1396.65 243.849 1394.9 Q245.354 1393.13 245.354 1390.1 Q245.354 1387.05 243.849 1385.3 Q242.363 1383.55 239.805 1383.55 M247.347 1371.65 L247.347 1375.11 Q245.918 1374.43 244.451 1374.08 Q243.003 1373.72 241.573 1373.72 Q237.812 1373.72 235.818 1376.26 Q233.843 1378.8 233.561 1383.93 Q234.671 1382.29 236.345 1381.43 Q238.019 1380.55 240.031 1380.55 Q244.263 1380.55 246.708 1383.12 Q249.172 1385.68 249.172 1390.1 Q249.172 1394.43 246.614 1397.04 Q244.056 1399.65 239.805 1399.65 Q234.934 1399.65 232.358 1395.93 Q229.781 1392.19 229.781 1385.1 Q229.781 1378.44 232.941 1374.49 Q236.1 1370.52 241.423 1370.52 Q242.852 1370.52 244.3 1370.8 Q245.767 1371.09 247.347 1371.65 Z\" fill=\"#000000\" fill-rule=\"evenodd\" fill-opacity=\"1\" /><path clip-path=\"url(#clip910)\" d=\"M 0 0 M61.0405 1074.55 L61.0405 1070.29 Q62.7997 1071.13 64.6053 1071.57 Q66.4108 1072.01 68.1469 1072.01 Q72.7765 1072.01 75.207 1068.9 Q77.6607 1065.78 78.008 1059.44 Q76.6654 1061.43 74.6052 1062.49 Q72.545 1063.56 70.045 1063.56 Q64.8599 1063.56 61.8275 1060.43 Q58.8182 1057.28 58.8182 1051.84 Q58.8182 1046.52 61.9664 1043.3 Q65.1145 1040.09 70.346 1040.09 Q76.3413 1040.09 79.4894 1044.69 Q82.6607 1049.28 82.6607 1058.03 Q82.6607 1066.2 78.7718 1071.08 Q74.9061 1075.94 68.3552 1075.94 Q66.596 1075.94 64.7904 1075.59 Q62.9849 1075.25 61.0405 1074.55 M70.346 1059.9 Q73.4941 1059.9 75.3228 1057.75 Q77.1746 1055.59 77.1746 1051.84 Q77.1746 1048.12 75.3228 1045.97 Q73.4941 1043.79 70.346 1043.79 Q67.1978 1043.79 65.346 1045.97 Q63.5173 1048.12 63.5173 1051.84 Q63.5173 1055.59 65.346 1057.75 Q67.1978 1059.9 70.346 1059.9 Z\" fill=\"#000000\" fill-rule=\"evenodd\" fill-opacity=\"1\" /><path clip-path=\"url(#clip910)\" d=\"M 0 0 M87.7301 1069.39 L92.6144 1069.39 L92.6144 1075.27 L87.7301 1075.27 L87.7301 1069.39 Z\" fill=\"#000000\" fill-rule=\"evenodd\" fill-opacity=\"1\" /><path clip-path=\"url(#clip910)\" d=\"M 0 0 M107.684 1043.79 Q104.073 1043.79 102.244 1047.35 Q100.438 1050.9 100.438 1058.03 Q100.438 1065.13 102.244 1068.7 Q104.073 1072.24 107.684 1072.24 Q111.318 1072.24 113.124 1068.7 Q114.952 1065.13 114.952 1058.03 Q114.952 1050.9 113.124 1047.35 Q111.318 1043.79 107.684 1043.79 M107.684 1040.09 Q113.494 1040.09 116.549 1044.69 Q119.628 1049.28 119.628 1058.03 Q119.628 1066.75 116.549 1071.36 Q113.494 1075.94 107.684 1075.94 Q101.874 1075.94 98.7949 1071.36 Q95.7393 1066.75 95.7393 1058.03 Q95.7393 1049.28 98.7949 1044.69 Q101.874 1040.09 107.684 1040.09 Z\" fill=\"#000000\" fill-rule=\"evenodd\" fill-opacity=\"1\" /><path clip-path=\"url(#clip910)\" d=\"M 0 0 M152.869 1049.81 L142.29 1060.43 L152.869 1071.01 L150.114 1073.81 L139.489 1063.19 L128.864 1073.81 L126.133 1071.01 L136.688 1060.43 L126.133 1049.81 L128.864 1047.01 L139.489 1057.63 L150.114 1047.01 L152.869 1049.81 Z\" fill=\"#000000\" fill-rule=\"evenodd\" fill-opacity=\"1\" /><path clip-path=\"url(#clip910)\" d=\"M 0 0 M158.748 1071.34 L166.387 1071.34 L166.387 1044.97 L158.077 1046.64 L158.077 1042.38 L166.341 1040.71 L171.017 1040.71 L171.017 1071.34 L178.656 1071.34 L178.656 1075.27 L158.748 1075.27 L158.748 1071.34 Z\" fill=\"#000000\" fill-rule=\"evenodd\" fill-opacity=\"1\" /><path clip-path=\"url(#clip910)\" d=\"M 0 0 M193.725 1043.79 Q190.114 1043.79 188.285 1047.35 Q186.48 1050.9 186.48 1058.03 Q186.48 1065.13 188.285 1068.7 Q190.114 1072.24 193.725 1072.24 Q197.359 1072.24 199.165 1068.7 Q200.993 1065.13 200.993 1058.03 Q200.993 1050.9 199.165 1047.35 Q197.359 1043.79 193.725 1043.79 M193.725 1040.09 Q199.535 1040.09 202.591 1044.69 Q205.669 1049.28 205.669 1058.03 Q205.669 1066.75 202.591 1071.36 Q199.535 1075.94 193.725 1075.94 Q187.915 1075.94 184.836 1071.36 Q181.781 1066.75 181.781 1058.03 Q181.781 1049.28 184.836 1044.69 Q187.915 1040.09 193.725 1040.09 Z\" fill=\"#000000\" fill-rule=\"evenodd\" fill-opacity=\"1\" /><path clip-path=\"url(#clip910)\" d=\"M 0 0 M205.669 1035.77 L215.807 1035.77 L215.807 1038.85 L205.669 1038.85 L205.669 1035.77 Z\" fill=\"#000000\" fill-rule=\"evenodd\" fill-opacity=\"1\" /><path clip-path=\"url(#clip910)\" d=\"M 0 0 M239.805 1032.31 Q237.248 1032.31 235.743 1034.06 Q234.257 1035.8 234.257 1038.85 Q234.257 1041.88 235.743 1043.65 Q237.248 1045.4 239.805 1045.4 Q242.363 1045.4 243.849 1043.65 Q245.354 1041.88 245.354 1038.85 Q245.354 1035.8 243.849 1034.06 Q242.363 1032.31 239.805 1032.31 M247.347 1020.4 L247.347 1023.86 Q245.918 1023.18 244.451 1022.83 Q243.003 1022.47 241.573 1022.47 Q237.812 1022.47 235.818 1025.01 Q233.843 1027.55 233.561 1032.68 Q234.671 1031.05 236.345 1030.18 Q238.019 1029.3 240.031 1029.3 Q244.263 1029.3 246.708 1031.87 Q249.172 1034.43 249.172 1038.85 Q249.172 1043.18 246.614 1045.79 Q244.056 1048.41 239.805 1048.41 Q234.934 1048.41 232.358 1044.68 Q229.781 1040.94 229.781 1033.85 Q229.781 1027.19 232.941 1023.24 Q236.1 1019.27 241.423 1019.27 Q242.852 1019.27 244.3 1019.55 Q245.767 1019.84 247.347 1020.4 Z\" fill=\"#000000\" fill-rule=\"evenodd\" fill-opacity=\"1\" /><path clip-path=\"url(#clip910)\" d=\"M 0 0 M62.0358 723.304 L62.0358 719.045 Q63.7951 719.878 65.6006 720.318 Q67.4062 720.758 69.1423 720.758 Q73.7719 720.758 76.2024 717.656 Q78.6561 714.531 79.0033 708.188 Q77.6607 710.179 75.6006 711.244 Q73.5404 712.309 71.0404 712.309 Q65.8552 712.309 62.8229 709.184 Q59.8136 706.036 59.8136 700.596 Q59.8136 695.272 62.9617 692.054 Q66.1099 688.837 71.3413 688.837 Q77.3367 688.837 80.4848 693.443 Q83.6561 698.026 83.6561 706.776 Q83.6561 714.948 79.7672 719.832 Q75.9015 724.693 69.3506 724.693 Q67.5913 724.693 65.7858 724.346 Q63.9803 723.999 62.0358 723.304 M71.3413 708.651 Q74.4895 708.651 76.3182 706.499 Q78.17 704.346 78.17 700.596 Q78.17 696.869 76.3182 694.716 Q74.4895 692.54 71.3413 692.54 Q68.1932 692.54 66.3414 694.716 Q64.5127 696.869 64.5127 700.596 Q64.5127 704.346 66.3414 706.499 Q68.1932 708.651 71.3413 708.651 Z\" fill=\"#000000\" fill-rule=\"evenodd\" fill-opacity=\"1\" /><path clip-path=\"url(#clip910)\" d=\"M 0 0 M88.7255 718.142 L93.6097 718.142 L93.6097 724.022 L88.7255 724.022 L88.7255 718.142 Z\" fill=\"#000000\" fill-rule=\"evenodd\" fill-opacity=\"1\" /><path clip-path=\"url(#clip910)\" d=\"M 0 0 M98.7254 689.462 L117.082 689.462 L117.082 693.397 L103.008 693.397 L103.008 701.869 Q104.026 701.522 105.045 701.36 Q106.063 701.175 107.082 701.175 Q112.869 701.175 116.248 704.346 Q119.628 707.517 119.628 712.934 Q119.628 718.512 116.156 721.614 Q112.684 724.693 106.364 724.693 Q104.188 724.693 101.92 724.323 Q99.6745 723.952 97.2671 723.211 L97.2671 718.512 Q99.3504 719.647 101.573 720.202 Q103.795 720.758 106.272 720.758 Q110.276 720.758 112.614 718.651 Q114.952 716.545 114.952 712.934 Q114.952 709.323 112.614 707.216 Q110.276 705.11 106.272 705.11 Q104.397 705.11 102.522 705.526 Q100.67 705.943 98.7254 706.823 L98.7254 689.462 Z\" fill=\"#000000\" fill-rule=\"evenodd\" fill-opacity=\"1\" /><path clip-path=\"url(#clip910)\" d=\"M 0 0 M152.869 698.559 L142.29 709.184 L152.869 719.762 L150.114 722.563 L139.489 711.938 L128.864 722.563 L126.133 719.762 L136.688 709.184 L126.133 698.559 L128.864 695.758 L139.489 706.383 L150.114 695.758 L152.869 698.559 Z\" fill=\"#000000\" fill-rule=\"evenodd\" fill-opacity=\"1\" /><path clip-path=\"url(#clip910)\" d=\"M 0 0 M158.748 720.087 L166.387 720.087 L166.387 693.721 L158.077 695.388 L158.077 691.128 L166.341 689.462 L171.017 689.462 L171.017 720.087 L178.656 720.087 L178.656 724.022 L158.748 724.022 L158.748 720.087 Z\" fill=\"#000000\" fill-rule=\"evenodd\" fill-opacity=\"1\" /><path clip-path=\"url(#clip910)\" d=\"M 0 0 M193.725 692.54 Q190.114 692.54 188.285 696.105 Q186.48 699.647 186.48 706.776 Q186.48 713.883 188.285 717.448 Q190.114 720.989 193.725 720.989 Q197.359 720.989 199.165 717.448 Q200.993 713.883 200.993 706.776 Q200.993 699.647 199.165 696.105 Q197.359 692.54 193.725 692.54 M193.725 688.837 Q199.535 688.837 202.591 693.443 Q205.669 698.026 205.669 706.776 Q205.669 715.503 202.591 720.11 Q199.535 724.693 193.725 724.693 Q187.915 724.693 184.836 720.11 Q181.781 715.503 181.781 706.776 Q181.781 698.026 184.836 693.443 Q187.915 688.837 193.725 688.837 Z\" fill=\"#000000\" fill-rule=\"evenodd\" fill-opacity=\"1\" /><path clip-path=\"url(#clip910)\" d=\"M 0 0 M205.669 684.518 L215.807 684.518 L215.807 687.602 L205.669 687.602 L205.669 684.518 Z\" fill=\"#000000\" fill-rule=\"evenodd\" fill-opacity=\"1\" /><path clip-path=\"url(#clip910)\" d=\"M 0 0 M239.805 681.057 Q237.248 681.057 235.743 682.806 Q234.257 684.555 234.257 687.602 Q234.257 690.63 235.743 692.398 Q237.248 694.147 239.805 694.147 Q242.363 694.147 243.849 692.398 Q245.354 690.63 245.354 687.602 Q245.354 684.555 243.849 682.806 Q242.363 681.057 239.805 681.057 M247.347 669.152 L247.347 672.613 Q245.918 671.935 244.451 671.578 Q243.003 671.221 241.573 671.221 Q237.812 671.221 235.818 673.76 Q233.843 676.299 233.561 681.433 Q234.671 679.797 236.345 678.932 Q238.019 678.048 240.031 678.048 Q244.263 678.048 246.708 680.625 Q249.172 683.183 249.172 687.602 Q249.172 691.928 246.614 694.542 Q244.056 697.157 239.805 697.157 Q234.934 697.157 232.358 693.433 Q229.781 689.69 229.781 682.599 Q229.781 675.942 232.941 671.992 Q236.1 668.023 241.423 668.023 Q242.852 668.023 244.3 668.306 Q245.767 668.588 247.347 669.152 Z\" fill=\"#000000\" fill-rule=\"evenodd\" fill-opacity=\"1\" /><path clip-path=\"url(#clip910)\" d=\"M 0 0 M63.9759 368.838 L71.6148 368.838 L71.6148 342.472 L63.3046 344.139 L63.3046 339.88 L71.5685 338.213 L76.2444 338.213 L76.2444 368.838 L83.8832 368.838 L83.8832 372.773 L63.9759 372.773 L63.9759 368.838 Z\" fill=\"#000000\" fill-rule=\"evenodd\" fill-opacity=\"1\" /><path clip-path=\"url(#clip910)\" d=\"M 0 0 M88.9526 366.893 L93.8369 366.893 L93.8369 372.773 L88.9526 372.773 L88.9526 366.893 Z\" fill=\"#000000\" fill-rule=\"evenodd\" fill-opacity=\"1\" /><path clip-path=\"url(#clip910)\" d=\"M 0 0 M108.906 341.292 Q105.295 341.292 103.466 344.856 Q101.661 348.398 101.661 355.528 Q101.661 362.634 103.466 366.199 Q105.295 369.741 108.906 369.741 Q112.54 369.741 114.346 366.199 Q116.175 362.634 116.175 355.528 Q116.175 348.398 114.346 344.856 Q112.54 341.292 108.906 341.292 M108.906 337.588 Q114.716 337.588 117.772 342.194 Q120.851 346.778 120.851 355.528 Q120.851 364.254 117.772 368.861 Q114.716 373.444 108.906 373.444 Q103.096 373.444 100.017 368.861 Q96.9619 364.254 96.9619 355.528 Q96.9619 346.778 100.017 342.194 Q103.096 337.588 108.906 337.588 Z\" fill=\"#000000\" fill-rule=\"evenodd\" fill-opacity=\"1\" /><path clip-path=\"url(#clip910)\" d=\"M 0 0 M154.091 347.31 L143.513 357.935 L154.091 368.514 L151.337 371.315 L140.712 360.69 L130.087 371.315 L127.355 368.514 L137.911 357.935 L127.355 347.31 L130.087 344.509 L140.712 355.134 L151.337 344.509 L154.091 347.31 Z\" fill=\"#000000\" fill-rule=\"evenodd\" fill-opacity=\"1\" /><path clip-path=\"url(#clip910)\" d=\"M 0 0 M159.971 368.838 L167.61 368.838 L167.61 342.472 L159.299 344.139 L159.299 339.88 L167.563 338.213 L172.239 338.213 L172.239 368.838 L179.878 368.838 L179.878 372.773 L159.971 372.773 L159.971 368.838 Z\" fill=\"#000000\" fill-rule=\"evenodd\" fill-opacity=\"1\" /><path clip-path=\"url(#clip910)\" d=\"M 0 0 M194.947 341.292 Q191.336 341.292 189.508 344.856 Q187.702 348.398 187.702 355.528 Q187.702 362.634 189.508 366.199 Q191.336 369.741 194.947 369.741 Q198.582 369.741 200.387 366.199 Q202.216 362.634 202.216 355.528 Q202.216 348.398 200.387 344.856 Q198.582 341.292 194.947 341.292 M194.947 337.588 Q200.758 337.588 203.813 342.194 Q206.892 346.778 206.892 355.528 Q206.892 364.254 203.813 368.861 Q200.758 373.444 194.947 373.444 Q189.137 373.444 186.059 368.861 Q183.003 364.254 183.003 355.528 Q183.003 346.778 186.059 342.194 Q189.137 337.588 194.947 337.588 Z\" fill=\"#000000\" fill-rule=\"evenodd\" fill-opacity=\"1\" /><path clip-path=\"url(#clip910)\" d=\"M 0 0 M206.892 333.269 L217.029 333.269 L217.029 336.354 L206.892 336.354 L206.892 333.269 Z\" fill=\"#000000\" fill-rule=\"evenodd\" fill-opacity=\"1\" /><path clip-path=\"url(#clip910)\" d=\"M 0 0 M232.188 317.282 L247.103 317.282 L247.103 320.48 L235.668 320.48 L235.668 327.363 Q236.495 327.081 237.323 326.95 Q238.15 326.799 238.978 326.799 Q243.68 326.799 246.426 329.376 Q249.172 331.953 249.172 336.354 Q249.172 340.886 246.351 343.406 Q243.529 345.908 238.395 345.908 Q236.627 345.908 234.784 345.607 Q232.959 345.306 231.003 344.704 L231.003 340.886 Q232.696 341.808 234.502 342.259 Q236.307 342.711 238.32 342.711 Q241.573 342.711 243.473 340.999 Q245.373 339.288 245.373 336.354 Q245.373 333.42 243.473 331.708 Q241.573 329.997 238.32 329.997 Q236.796 329.997 235.273 330.335 Q233.768 330.674 232.188 331.388 L232.188 317.282 Z\" fill=\"#000000\" fill-rule=\"evenodd\" fill-opacity=\"1\" /><polyline clip-path=\"url(#clip912)\" style=\"stroke:#009af9; stroke-width:4; stroke-opacity:1; fill:none\" points=\"\n",
       "  332.028,614.867 550.014,590.339 767.999,609.185 985.985,622.558 1203.97,631.51 1421.96,635.511 1639.94,634.595 1857.93,627.338 2075.91,616.601 2293.9,601.483 \n",
       "  \n",
       "  \"/>\n",
       "<polyline clip-path=\"url(#clip912)\" style=\"stroke:#e26f46; stroke-width:4; stroke-opacity:1; fill:none\" points=\"\n",
       "  332.028,490.183 550.014,161.544 767.999,877.229 985.985,423.34 1203.97,467.734 1421.96,1309.53 1639.94,569.516 1857.93,351.186 2075.91,1445.72 2293.9,87.9763 \n",
       "  \n",
       "  \"/>\n",
       "<path clip-path=\"url(#clip910)\" d=\"\n",
       "M1989.74 312.204 L2280.76 312.204 L2280.76 130.764 L1989.74 130.764  Z\n",
       "  \" fill=\"#ffffff\" fill-rule=\"evenodd\" fill-opacity=\"1\"/>\n",
       "<polyline clip-path=\"url(#clip910)\" style=\"stroke:#000000; stroke-width:4; stroke-opacity:1; fill:none\" points=\"\n",
       "  1989.74,312.204 2280.76,312.204 2280.76,130.764 1989.74,130.764 1989.74,312.204 \n",
       "  \"/>\n",
       "<polyline clip-path=\"url(#clip910)\" style=\"stroke:#009af9; stroke-width:4; stroke-opacity:1; fill:none\" points=\"\n",
       "  2013.74,191.244 2157.74,191.244 \n",
       "  \"/>\n",
       "<path clip-path=\"url(#clip910)\" d=\"M 0 0 M2195.58 210.931 Q2193.77 215.561 2192.06 216.973 Q2190.35 218.385 2187.48 218.385 L2184.08 218.385 L2184.08 214.82 L2186.58 214.82 Q2188.33 214.82 2189.31 213.987 Q2190.28 213.154 2191.46 210.052 L2192.22 208.107 L2181.74 182.598 L2186.25 182.598 L2194.35 202.876 L2202.46 182.598 L2206.97 182.598 L2195.58 210.931 Z\" fill=\"#000000\" fill-rule=\"evenodd\" fill-opacity=\"1\" /><path clip-path=\"url(#clip910)\" d=\"M 0 0 M2212.85 204.589 L2220.49 204.589 L2220.49 178.223 L2212.18 179.89 L2212.18 175.631 L2220.44 173.964 L2225.12 173.964 L2225.12 204.589 L2232.76 204.589 L2232.76 208.524 L2212.85 208.524 L2212.85 204.589 Z\" fill=\"#000000\" fill-rule=\"evenodd\" fill-opacity=\"1\" /><polyline clip-path=\"url(#clip910)\" style=\"stroke:#e26f46; stroke-width:4; stroke-opacity:1; fill:none\" points=\"\n",
       "  2013.74,251.724 2157.74,251.724 \n",
       "  \"/>\n",
       "<path clip-path=\"url(#clip910)\" d=\"M 0 0 M2195.58 271.411 Q2193.77 276.041 2192.06 277.453 Q2190.35 278.865 2187.48 278.865 L2184.08 278.865 L2184.08 275.3 L2186.58 275.3 Q2188.33 275.3 2189.31 274.467 Q2190.28 273.634 2191.46 270.532 L2192.22 268.587 L2181.74 243.078 L2186.25 243.078 L2194.35 263.356 L2202.46 243.078 L2206.97 243.078 L2195.58 271.411 Z\" fill=\"#000000\" fill-rule=\"evenodd\" fill-opacity=\"1\" /><path clip-path=\"url(#clip910)\" d=\"M 0 0 M2216.07 265.069 L2232.39 265.069 L2232.39 269.004 L2210.44 269.004 L2210.44 265.069 Q2213.1 262.314 2217.69 257.685 Q2222.29 253.032 2223.47 251.689 Q2225.72 249.166 2226.6 247.43 Q2227.5 245.671 2227.5 243.981 Q2227.5 241.226 2225.56 239.49 Q2223.64 237.754 2220.53 237.754 Q2218.33 237.754 2215.88 238.518 Q2213.45 239.282 2210.67 240.833 L2210.67 236.111 Q2213.5 234.976 2215.95 234.398 Q2218.4 233.819 2220.44 233.819 Q2225.81 233.819 2229.01 236.504 Q2232.2 239.189 2232.2 243.68 Q2232.2 245.81 2231.39 247.731 Q2230.6 249.629 2228.5 252.222 Q2227.92 252.893 2224.82 256.111 Q2221.71 259.305 2216.07 265.069 Z\" fill=\"#000000\" fill-rule=\"evenodd\" fill-opacity=\"1\" /></svg>\n"
      ]
     },
     "execution_count": 116,
     "metadata": {},
     "output_type": "execute_result"
    }
   ],
   "source": [
    "plot(mean(y_x_list[ii],dims=1)[1,:])\n",
    "plot!(sum(q_t_[:,:,1] .* p_,dims=2))"
   ]
  },
  {
   "cell_type": "code",
   "execution_count": 80,
   "metadata": {},
   "outputs": [
    {
     "data": {
      "text/plain": [
       "0.015796071122980586"
      ]
     },
     "execution_count": 80,
     "metadata": {},
     "output_type": "execute_result"
    }
   ],
   "source": [
    "check_diff_ = run(sess,diff_eval,feed_dict = Dict(lambda => ones(1)*T_,N_k_dis=>N_k_dis_)) "
   ]
  },
  {
   "cell_type": "code",
   "execution_count": 45,
   "metadata": {
    "scrolled": true
   },
   "outputs": [
    {
     "data": {
      "text/plain": [
       "1.215539423140234e11"
      ]
     },
     "execution_count": 45,
     "metadata": {},
     "output_type": "execute_result"
    }
   ],
   "source": [
    "run(sess,loss_x,feed_dict = Dict(lambda => ones(1)*T_,N_k_dis=>64.0))"
   ]
  },
  {
   "cell_type": "code",
   "execution_count": 46,
   "metadata": {},
   "outputs": [
    {
     "data": {
      "text/plain": [
       "1.7579586853385095e11"
      ]
     },
     "execution_count": 46,
     "metadata": {},
     "output_type": "execute_result"
    }
   ],
   "source": [
    "run(sess,loss_y,feed_dict = Dict(lambda => ones(1)*T_,N_k_dis=>64.0))"
   ]
  },
  {
   "cell_type": "code",
   "execution_count": 45,
   "metadata": {},
   "outputs": [
    {
     "data": {
      "text/plain": [
       "64×10 Array{Float64,2}:\n",
       " 0.0175976   0.00873785  0.00853511  …  0.00917998  0.0139304   0.00795707\n",
       " 0.00734641  0.0115521   0.011014       0.00704244  0.0110451   0.0137559\n",
       " 0.00820512  0.00591146  0.00796514     0.00604525  0.0196216   0.00796805\n",
       " 0.00786103  0.00949342  0.00557904     0.00638253  0.0102941   0.0125132\n",
       " 0.00822766  0.00128245  0.00553509     0.00754807  0.0128364   0.00684118\n",
       " 0.0122452   0.00932687  0.00732185  …  0.00716809  0.00902998  0.00849908\n",
       " 0.0104153   0.010122    0.00974651     0.0112695   0.00639716  0.00705946\n",
       " 0.0112518   0.00723797  0.00573228     0.00412745  0.0141439   0.00689986\n",
       " 0.0179302   0.00883348  0.00882129     0.00898989  0.0140631   0.00812677\n",
       " 0.00710226  0.0116339   0.0105907      0.00711727  0.0113165   0.0132701\n",
       " 0.00804071  0.00577316  0.00796578  …  0.00606063  0.0191419   0.00757474\n",
       " 0.00773197  0.00942695  0.00580074     0.00621436  0.0102698   0.0128628\n",
       " 0.00830504  0.00130512  0.00557109     0.00761741  0.0127594   0.00690124\n",
       " ⋮                                   ⋱                          \n",
       " 0.00956237  0.00994343  0.00996732     0.010021    0.010149    0.0104459\n",
       " 0.00970238  0.00975625  0.00999593     0.00958579  0.0102622   0.0100471\n",
       " 0.0101906   0.0100656   0.00997636     0.0101472   0.0101143   0.00994459\n",
       " 0.0101016   0.00971286  0.0103305   …  0.0100208   0.00976451  0.00967319\n",
       " 0.00977053  0.0103088   0.00997205     0.0100942   0.0100115   0.0101\n",
       " 0.0100762   0.0105805   0.00997653     0.0102539   0.010004    0.0102532\n",
       " 0.0100878   0.00997975  0.0101547      0.00968575  0.00998946  0.00975873\n",
       " 0.0104527   0.00979644  0.0102103      0.0101771   0.00985768  0.0095397\n",
       " 0.0102905   0.010077    0.00998364  …  0.00972576  0.010442    0.0104872\n",
       " 0.0100152   0.0100825   0.00996886     0.0102646   0.0101223   0.0101961\n",
       " 0.0102921   0.00991731  0.0102364      0.0100251   0.00997989  0.00971473\n",
       " 0.0101794   0.0102451   0.00995908     0.0101899   0.00982809  0.0100635"
      ]
     },
     "execution_count": 45,
     "metadata": {},
     "output_type": "execute_result"
    }
   ],
   "source": [
    "check = run(sess,k_x_t,feed_dict = Dict(lambda => ones(1)*T_,N_k_dis=>64.0))\n"
   ]
  },
  {
   "cell_type": "code",
   "execution_count": 46,
   "metadata": {},
   "outputs": [
    {
     "data": {
      "text/plain": [
       "10-element Array{Float64,1}:\n",
       " 0.009926811959270435\n",
       " 0.010125774945549941\n",
       " 0.009812900376303524\n",
       " 0.009703492240174019\n",
       " 0.009983717612824013\n",
       " 0.009674747583100562\n",
       " 0.010072881169505596\n",
       " 0.010275190948230687\n",
       " 0.009848803850838214\n",
       " 0.010469007391334743"
      ]
     },
     "execution_count": 46,
     "metadata": {},
     "output_type": "execute_result"
    }
   ],
   "source": [
    "check[50,:]"
   ]
  },
  {
   "cell_type": "code",
   "execution_count": 47,
   "metadata": {},
   "outputs": [
    {
     "data": {
      "text/plain": [
       "10-element Array{Float64,1}:\n",
       " 0.00822766471869104\n",
       " 0.0012824538879645914\n",
       " 0.005535087887744081\n",
       " 0.010815475772204826\n",
       " 0.007778921580876297\n",
       " 0.007028380828413854\n",
       " 0.013277655411184952\n",
       " 0.007548065867028431\n",
       " 0.012836448345618957\n",
       " 0.006841175189286863"
      ]
     },
     "execution_count": 47,
     "metadata": {},
     "output_type": "execute_result"
    }
   ],
   "source": [
    "check[5,:]"
   ]
  },
  {
   "cell_type": "code",
   "execution_count": 40,
   "metadata": {},
   "outputs": [
    {
     "data": {
      "image/svg+xml": [
       "<?xml version=\"1.0\" encoding=\"utf-8\"?>\n",
       "<svg xmlns=\"http://www.w3.org/2000/svg\" xmlns:xlink=\"http://www.w3.org/1999/xlink\" width=\"600\" height=\"400\" viewBox=\"0 0 2400 1600\">\n",
       "<defs>\n",
       "  <clipPath id=\"clip570\">\n",
       "    <rect x=\"0\" y=\"0\" width=\"2400\" height=\"1600\"/>\n",
       "  </clipPath>\n",
       "</defs>\n",
       "<path clip-path=\"url(#clip570)\" d=\"\n",
       "M0 1600 L2400 1600 L2400 0 L0 0  Z\n",
       "  \" fill=\"#ffffff\" fill-rule=\"evenodd\" fill-opacity=\"1\"/>\n",
       "<defs>\n",
       "  <clipPath id=\"clip571\">\n",
       "    <rect x=\"480\" y=\"0\" width=\"1681\" height=\"1600\"/>\n",
       "  </clipPath>\n",
       "</defs>\n",
       "<path clip-path=\"url(#clip570)\" d=\"\n",
       "M228.704 1486.45 L2352.76 1486.45 L2352.76 47.2441 L228.704 47.2441  Z\n",
       "  \" fill=\"#ffffff\" fill-rule=\"evenodd\" fill-opacity=\"1\"/>\n",
       "<defs>\n",
       "  <clipPath id=\"clip572\">\n",
       "    <rect x=\"228\" y=\"47\" width=\"2125\" height=\"1440\"/>\n",
       "  </clipPath>\n",
       "</defs>\n",
       "<polyline clip-path=\"url(#clip572)\" style=\"stroke:#000000; stroke-width:2; stroke-opacity:0.1; fill:none\" points=\"\n",
       "  511.466,1486.45 511.466,47.2441 \n",
       "  \"/>\n",
       "<polyline clip-path=\"url(#clip572)\" style=\"stroke:#000000; stroke-width:2; stroke-opacity:0.1; fill:none\" points=\"\n",
       "  956.76,1486.45 956.76,47.2441 \n",
       "  \"/>\n",
       "<polyline clip-path=\"url(#clip572)\" style=\"stroke:#000000; stroke-width:2; stroke-opacity:0.1; fill:none\" points=\"\n",
       "  1402.05,1486.45 1402.05,47.2441 \n",
       "  \"/>\n",
       "<polyline clip-path=\"url(#clip572)\" style=\"stroke:#000000; stroke-width:2; stroke-opacity:0.1; fill:none\" points=\"\n",
       "  1847.35,1486.45 1847.35,47.2441 \n",
       "  \"/>\n",
       "<polyline clip-path=\"url(#clip572)\" style=\"stroke:#000000; stroke-width:2; stroke-opacity:0.1; fill:none\" points=\"\n",
       "  2292.64,1486.45 2292.64,47.2441 \n",
       "  \"/>\n",
       "<polyline clip-path=\"url(#clip572)\" style=\"stroke:#000000; stroke-width:2; stroke-opacity:0.1; fill:none\" points=\"\n",
       "  228.704,1250.11 2352.76,1250.11 \n",
       "  \"/>\n",
       "<polyline clip-path=\"url(#clip572)\" style=\"stroke:#000000; stroke-width:2; stroke-opacity:0.1; fill:none\" points=\"\n",
       "  228.704,1003.24 2352.76,1003.24 \n",
       "  \"/>\n",
       "<polyline clip-path=\"url(#clip572)\" style=\"stroke:#000000; stroke-width:2; stroke-opacity:0.1; fill:none\" points=\"\n",
       "  228.704,756.372 2352.76,756.372 \n",
       "  \"/>\n",
       "<polyline clip-path=\"url(#clip572)\" style=\"stroke:#000000; stroke-width:2; stroke-opacity:0.1; fill:none\" points=\"\n",
       "  228.704,509.502 2352.76,509.502 \n",
       "  \"/>\n",
       "<polyline clip-path=\"url(#clip572)\" style=\"stroke:#000000; stroke-width:2; stroke-opacity:0.1; fill:none\" points=\"\n",
       "  228.704,262.632 2352.76,262.632 \n",
       "  \"/>\n",
       "<polyline clip-path=\"url(#clip570)\" style=\"stroke:#000000; stroke-width:4; stroke-opacity:1; fill:none\" points=\"\n",
       "  228.704,1486.45 2352.76,1486.45 \n",
       "  \"/>\n",
       "<polyline clip-path=\"url(#clip570)\" style=\"stroke:#000000; stroke-width:4; stroke-opacity:1; fill:none\" points=\"\n",
       "  228.704,1486.45 228.704,47.2441 \n",
       "  \"/>\n",
       "<polyline clip-path=\"url(#clip570)\" style=\"stroke:#000000; stroke-width:4; stroke-opacity:1; fill:none\" points=\"\n",
       "  511.466,1486.45 511.466,1469.18 \n",
       "  \"/>\n",
       "<polyline clip-path=\"url(#clip570)\" style=\"stroke:#000000; stroke-width:4; stroke-opacity:1; fill:none\" points=\"\n",
       "  956.76,1486.45 956.76,1469.18 \n",
       "  \"/>\n",
       "<polyline clip-path=\"url(#clip570)\" style=\"stroke:#000000; stroke-width:4; stroke-opacity:1; fill:none\" points=\"\n",
       "  1402.05,1486.45 1402.05,1469.18 \n",
       "  \"/>\n",
       "<polyline clip-path=\"url(#clip570)\" style=\"stroke:#000000; stroke-width:4; stroke-opacity:1; fill:none\" points=\"\n",
       "  1847.35,1486.45 1847.35,1469.18 \n",
       "  \"/>\n",
       "<polyline clip-path=\"url(#clip570)\" style=\"stroke:#000000; stroke-width:4; stroke-opacity:1; fill:none\" points=\"\n",
       "  2292.64,1486.45 2292.64,1469.18 \n",
       "  \"/>\n",
       "<polyline clip-path=\"url(#clip570)\" style=\"stroke:#000000; stroke-width:4; stroke-opacity:1; fill:none\" points=\"\n",
       "  228.704,1250.11 254.193,1250.11 \n",
       "  \"/>\n",
       "<polyline clip-path=\"url(#clip570)\" style=\"stroke:#000000; stroke-width:4; stroke-opacity:1; fill:none\" points=\"\n",
       "  228.704,1003.24 254.193,1003.24 \n",
       "  \"/>\n",
       "<polyline clip-path=\"url(#clip570)\" style=\"stroke:#000000; stroke-width:4; stroke-opacity:1; fill:none\" points=\"\n",
       "  228.704,756.372 254.193,756.372 \n",
       "  \"/>\n",
       "<polyline clip-path=\"url(#clip570)\" style=\"stroke:#000000; stroke-width:4; stroke-opacity:1; fill:none\" points=\"\n",
       "  228.704,509.502 254.193,509.502 \n",
       "  \"/>\n",
       "<polyline clip-path=\"url(#clip570)\" style=\"stroke:#000000; stroke-width:4; stroke-opacity:1; fill:none\" points=\"\n",
       "  228.704,262.632 254.193,262.632 \n",
       "  \"/>\n",
       "<path clip-path=\"url(#clip570)\" d=\"M 0 0 M506.119 1535.98 L522.438 1535.98 L522.438 1539.92 L500.494 1539.92 L500.494 1535.98 Q503.156 1533.23 507.739 1528.6 Q512.346 1523.95 513.526 1522.61 Q515.771 1520.08 516.651 1518.35 Q517.554 1516.59 517.554 1514.9 Q517.554 1512.14 515.609 1510.41 Q513.688 1508.67 510.586 1508.67 Q508.387 1508.67 505.934 1509.43 Q503.503 1510.2 500.725 1511.75 L500.725 1507.03 Q503.549 1505.89 506.003 1505.31 Q508.457 1504.73 510.494 1504.73 Q515.864 1504.73 519.058 1507.42 Q522.253 1510.11 522.253 1514.6 Q522.253 1516.73 521.443 1518.65 Q520.656 1520.54 518.549 1523.14 Q517.971 1523.81 514.869 1527.03 Q511.767 1530.22 506.119 1535.98 Z\" fill=\"#000000\" fill-rule=\"evenodd\" fill-opacity=\"1\" /><path clip-path=\"url(#clip570)\" d=\"M 0 0 M959.769 1509.43 L947.963 1527.88 L959.769 1527.88 L959.769 1509.43 M958.542 1505.36 L964.422 1505.36 L964.422 1527.88 L969.352 1527.88 L969.352 1531.77 L964.422 1531.77 L964.422 1539.92 L959.769 1539.92 L959.769 1531.77 L944.167 1531.77 L944.167 1527.26 L958.542 1505.36 Z\" fill=\"#000000\" fill-rule=\"evenodd\" fill-opacity=\"1\" /><path clip-path=\"url(#clip570)\" d=\"M 0 0 M1402.46 1520.78 Q1399.31 1520.78 1397.46 1522.93 Q1395.63 1525.08 1395.63 1528.83 Q1395.63 1532.56 1397.46 1534.73 Q1399.31 1536.89 1402.46 1536.89 Q1405.61 1536.89 1407.44 1534.73 Q1409.29 1532.56 1409.29 1528.83 Q1409.29 1525.08 1407.44 1522.93 Q1405.61 1520.78 1402.46 1520.78 M1411.74 1506.12 L1411.74 1510.38 Q1409.98 1509.55 1408.18 1509.11 Q1406.39 1508.67 1404.63 1508.67 Q1400 1508.67 1397.55 1511.8 Q1395.12 1514.92 1394.77 1521.24 Q1396.14 1519.23 1398.2 1518.16 Q1400.26 1517.07 1402.74 1517.07 Q1407.94 1517.07 1410.95 1520.24 Q1413.99 1523.39 1413.99 1528.83 Q1413.99 1534.16 1410.84 1537.37 Q1407.69 1540.59 1402.46 1540.59 Q1396.46 1540.59 1393.29 1536.01 Q1390.12 1531.4 1390.12 1522.67 Q1390.12 1514.48 1394.01 1509.62 Q1397.9 1504.73 1404.45 1504.73 Q1406.21 1504.73 1407.99 1505.08 Q1409.8 1505.43 1411.74 1506.12 Z\" fill=\"#000000\" fill-rule=\"evenodd\" fill-opacity=\"1\" /><path clip-path=\"url(#clip570)\" d=\"M 0 0 M1847.35 1523.51 Q1844.01 1523.51 1842.09 1525.29 Q1840.19 1527.07 1840.19 1530.2 Q1840.19 1533.32 1842.09 1535.11 Q1844.01 1536.89 1847.35 1536.89 Q1850.68 1536.89 1852.6 1535.11 Q1854.52 1533.3 1854.52 1530.2 Q1854.52 1527.07 1852.6 1525.29 Q1850.7 1523.51 1847.35 1523.51 M1842.67 1521.52 Q1839.66 1520.78 1837.97 1518.72 Q1836.31 1516.66 1836.31 1513.69 Q1836.31 1509.55 1839.25 1507.14 Q1842.21 1504.73 1847.35 1504.73 Q1852.51 1504.73 1855.45 1507.14 Q1858.39 1509.55 1858.39 1513.69 Q1858.39 1516.66 1856.7 1518.72 Q1855.03 1520.78 1852.05 1521.52 Q1855.43 1522.3 1857.3 1524.6 Q1859.2 1526.89 1859.2 1530.2 Q1859.2 1535.22 1856.12 1537.91 Q1853.06 1540.59 1847.35 1540.59 Q1841.63 1540.59 1838.55 1537.91 Q1835.5 1535.22 1835.5 1530.2 Q1835.5 1526.89 1837.39 1524.6 Q1839.29 1522.3 1842.67 1521.52 M1840.96 1514.13 Q1840.96 1516.82 1842.63 1518.32 Q1844.32 1519.83 1847.35 1519.83 Q1850.36 1519.83 1852.05 1518.32 Q1853.76 1516.82 1853.76 1514.13 Q1853.76 1511.45 1852.05 1509.94 Q1850.36 1508.44 1847.35 1508.44 Q1844.32 1508.44 1842.63 1509.94 Q1840.96 1511.45 1840.96 1514.13 Z\" fill=\"#000000\" fill-rule=\"evenodd\" fill-opacity=\"1\" /><path clip-path=\"url(#clip570)\" d=\"M 0 0 M2269.52 1535.98 L2277.16 1535.98 L2277.16 1509.62 L2268.85 1511.29 L2268.85 1507.03 L2277.11 1505.36 L2281.78 1505.36 L2281.78 1535.98 L2289.42 1535.98 L2289.42 1539.92 L2269.52 1539.92 L2269.52 1535.98 Z\" fill=\"#000000\" fill-rule=\"evenodd\" fill-opacity=\"1\" /><path clip-path=\"url(#clip570)\" d=\"M 0 0 M2304.49 1508.44 Q2300.88 1508.44 2299.05 1512 Q2297.25 1515.55 2297.25 1522.67 Q2297.25 1529.78 2299.05 1533.35 Q2300.88 1536.89 2304.49 1536.89 Q2308.13 1536.89 2309.93 1533.35 Q2311.76 1529.78 2311.76 1522.67 Q2311.76 1515.55 2309.93 1512 Q2308.13 1508.44 2304.49 1508.44 M2304.49 1504.73 Q2310.3 1504.73 2313.36 1509.34 Q2316.44 1513.92 2316.44 1522.67 Q2316.44 1531.4 2313.36 1536.01 Q2310.3 1540.59 2304.49 1540.59 Q2298.68 1540.59 2295.6 1536.01 Q2292.55 1531.4 2292.55 1522.67 Q2292.55 1513.92 2295.6 1509.34 Q2298.68 1504.73 2304.49 1504.73 Z\" fill=\"#000000\" fill-rule=\"evenodd\" fill-opacity=\"1\" /><path clip-path=\"url(#clip570)\" d=\"M 0 0 M75.8393 1235.91 Q72.2282 1235.91 70.3995 1239.48 Q68.5939 1243.02 68.5939 1250.15 Q68.5939 1257.25 70.3995 1260.82 Q72.2282 1264.36 75.8393 1264.36 Q79.4735 1264.36 81.2791 1260.82 Q83.1078 1257.25 83.1078 1250.15 Q83.1078 1243.02 81.2791 1239.48 Q79.4735 1235.91 75.8393 1235.91 M75.8393 1232.21 Q81.6494 1232.21 84.705 1236.81 Q87.7837 1241.4 87.7837 1250.15 Q87.7837 1258.87 84.705 1263.48 Q81.6494 1268.06 75.8393 1268.06 Q70.0291 1268.06 66.9504 1263.48 Q63.8949 1258.87 63.8949 1250.15 Q63.8949 1241.4 66.9504 1236.81 Q70.0291 1232.21 75.8393 1232.21 Z\" fill=\"#000000\" fill-rule=\"evenodd\" fill-opacity=\"1\" /><path clip-path=\"url(#clip570)\" d=\"M 0 0 M92.8531 1261.51 L97.7373 1261.51 L97.7373 1267.39 L92.8531 1267.39 L92.8531 1261.51 Z\" fill=\"#000000\" fill-rule=\"evenodd\" fill-opacity=\"1\" /><path clip-path=\"url(#clip570)\" d=\"M 0 0 M112.807 1235.91 Q109.196 1235.91 107.367 1239.48 Q105.561 1243.02 105.561 1250.15 Q105.561 1257.25 107.367 1260.82 Q109.196 1264.36 112.807 1264.36 Q116.441 1264.36 118.246 1260.82 Q120.075 1257.25 120.075 1250.15 Q120.075 1243.02 118.246 1239.48 Q116.441 1235.91 112.807 1235.91 M112.807 1232.21 Q118.617 1232.21 121.672 1236.81 Q124.751 1241.4 124.751 1250.15 Q124.751 1258.87 121.672 1263.48 Q118.617 1268.06 112.807 1268.06 Q106.997 1268.06 103.918 1263.48 Q100.862 1258.87 100.862 1250.15 Q100.862 1241.4 103.918 1236.81 Q106.997 1232.21 112.807 1232.21 Z\" fill=\"#000000\" fill-rule=\"evenodd\" fill-opacity=\"1\" /><path clip-path=\"url(#clip570)\" d=\"M 0 0 M139.82 1235.91 Q136.209 1235.91 134.381 1239.48 Q132.575 1243.02 132.575 1250.15 Q132.575 1257.25 134.381 1260.82 Q136.209 1264.36 139.82 1264.36 Q143.455 1264.36 145.26 1260.82 Q147.089 1257.25 147.089 1250.15 Q147.089 1243.02 145.26 1239.48 Q143.455 1235.91 139.82 1235.91 M139.82 1232.21 Q145.631 1232.21 148.686 1236.81 Q151.765 1241.4 151.765 1250.15 Q151.765 1258.87 148.686 1263.48 Q145.631 1268.06 139.82 1268.06 Q134.01 1268.06 130.932 1263.48 Q127.876 1258.87 127.876 1250.15 Q127.876 1241.4 130.932 1236.81 Q134.01 1232.21 139.82 1232.21 Z\" fill=\"#000000\" fill-rule=\"evenodd\" fill-opacity=\"1\" /><path clip-path=\"url(#clip570)\" d=\"M 0 0 M166.834 1250.98 Q163.501 1250.98 161.58 1252.76 Q159.681 1254.55 159.681 1257.67 Q159.681 1260.8 161.58 1262.58 Q163.501 1264.36 166.834 1264.36 Q170.167 1264.36 172.089 1262.58 Q174.01 1260.77 174.01 1257.67 Q174.01 1254.55 172.089 1252.76 Q170.191 1250.98 166.834 1250.98 M162.158 1248.99 Q159.149 1248.25 157.459 1246.19 Q155.793 1244.13 155.793 1241.17 Q155.793 1237.02 158.732 1234.62 Q161.695 1232.21 166.834 1232.21 Q171.996 1232.21 174.936 1234.62 Q177.876 1237.02 177.876 1241.17 Q177.876 1244.13 176.186 1246.19 Q174.519 1248.25 171.533 1248.99 Q174.913 1249.78 176.788 1252.07 Q178.686 1254.36 178.686 1257.67 Q178.686 1262.69 175.607 1265.38 Q172.552 1268.06 166.834 1268.06 Q161.117 1268.06 158.038 1265.38 Q154.982 1262.69 154.982 1257.67 Q154.982 1254.36 156.881 1252.07 Q158.779 1249.78 162.158 1248.99 M160.445 1241.61 Q160.445 1244.29 162.112 1245.8 Q163.802 1247.3 166.834 1247.3 Q169.843 1247.3 171.533 1245.8 Q173.246 1244.29 173.246 1241.61 Q173.246 1238.92 171.533 1237.42 Q169.843 1235.91 166.834 1235.91 Q163.802 1235.91 162.112 1237.42 Q160.445 1238.92 160.445 1241.61 Z\" fill=\"#000000\" fill-rule=\"evenodd\" fill-opacity=\"1\" /><path clip-path=\"url(#clip570)\" d=\"M 0 0 M183.802 1232.83 L202.158 1232.83 L202.158 1236.77 L188.084 1236.77 L188.084 1245.24 Q189.103 1244.89 190.121 1244.73 Q191.14 1244.55 192.158 1244.55 Q197.945 1244.55 201.325 1247.72 Q204.704 1250.89 204.704 1256.31 Q204.704 1261.88 201.232 1264.99 Q197.76 1268.06 191.441 1268.06 Q189.265 1268.06 186.996 1267.69 Q184.751 1267.32 182.343 1266.58 L182.343 1261.88 Q184.427 1263.02 186.649 1263.57 Q188.871 1264.13 191.348 1264.13 Q195.353 1264.13 197.69 1262.02 Q200.028 1259.92 200.028 1256.31 Q200.028 1252.69 197.69 1250.59 Q195.353 1248.48 191.348 1248.48 Q189.473 1248.48 187.598 1248.9 Q185.746 1249.31 183.802 1250.19 L183.802 1232.83 Z\" fill=\"#000000\" fill-rule=\"evenodd\" fill-opacity=\"1\" /><path clip-path=\"url(#clip570)\" d=\"M 0 0 M74.9365 989.041 Q71.3254 989.041 69.4967 992.606 Q67.6912 996.148 67.6912 1003.28 Q67.6912 1010.38 69.4967 1013.95 Q71.3254 1017.49 74.9365 1017.49 Q78.5707 1017.49 80.3763 1013.95 Q82.205 1010.38 82.205 1003.28 Q82.205 996.148 80.3763 992.606 Q78.5707 989.041 74.9365 989.041 M74.9365 985.338 Q80.7467 985.338 83.8022 989.944 Q86.8809 994.528 86.8809 1003.28 Q86.8809 1012 83.8022 1016.61 Q80.7467 1021.19 74.9365 1021.19 Q69.1264 1021.19 66.0477 1016.61 Q62.9921 1012 62.9921 1003.28 Q62.9921 994.528 66.0477 989.944 Q69.1264 985.338 74.9365 985.338 Z\" fill=\"#000000\" fill-rule=\"evenodd\" fill-opacity=\"1\" /><path clip-path=\"url(#clip570)\" d=\"M 0 0 M91.9503 1014.64 L96.8345 1014.64 L96.8345 1020.52 L91.9503 1020.52 L91.9503 1014.64 Z\" fill=\"#000000\" fill-rule=\"evenodd\" fill-opacity=\"1\" /><path clip-path=\"url(#clip570)\" d=\"M 0 0 M111.904 989.041 Q108.293 989.041 106.464 992.606 Q104.659 996.148 104.659 1003.28 Q104.659 1010.38 106.464 1013.95 Q108.293 1017.49 111.904 1017.49 Q115.538 1017.49 117.344 1013.95 Q119.172 1010.38 119.172 1003.28 Q119.172 996.148 117.344 992.606 Q115.538 989.041 111.904 989.041 M111.904 985.338 Q117.714 985.338 120.77 989.944 Q123.848 994.528 123.848 1003.28 Q123.848 1012 120.77 1016.61 Q117.714 1021.19 111.904 1021.19 Q106.094 1021.19 103.015 1016.61 Q99.9595 1012 99.9595 1003.28 Q99.9595 994.528 103.015 989.944 Q106.094 985.338 111.904 985.338 Z\" fill=\"#000000\" fill-rule=\"evenodd\" fill-opacity=\"1\" /><path clip-path=\"url(#clip570)\" d=\"M 0 0 M138.918 989.041 Q135.307 989.041 133.478 992.606 Q131.672 996.148 131.672 1003.28 Q131.672 1010.38 133.478 1013.95 Q135.307 1017.49 138.918 1017.49 Q142.552 1017.49 144.357 1013.95 Q146.186 1010.38 146.186 1003.28 Q146.186 996.148 144.357 992.606 Q142.552 989.041 138.918 989.041 M138.918 985.338 Q144.728 985.338 147.783 989.944 Q150.862 994.528 150.862 1003.28 Q150.862 1012 147.783 1016.61 Q144.728 1021.19 138.918 1021.19 Q133.107 1021.19 130.029 1016.61 Q126.973 1012 126.973 1003.28 Q126.973 994.528 130.029 989.944 Q133.107 985.338 138.918 985.338 Z\" fill=\"#000000\" fill-rule=\"evenodd\" fill-opacity=\"1\" /><path clip-path=\"url(#clip570)\" d=\"M 0 0 M156.07 1019.81 L156.07 1015.55 Q157.83 1016.38 159.635 1016.82 Q161.441 1017.26 163.177 1017.26 Q167.806 1017.26 170.237 1014.16 Q172.691 1011.03 173.038 1004.69 Q171.695 1006.68 169.635 1007.75 Q167.575 1008.81 165.075 1008.81 Q159.89 1008.81 156.857 1005.68 Q153.848 1002.54 153.848 997.097 Q153.848 991.773 156.996 988.555 Q160.144 985.338 165.376 985.338 Q171.371 985.338 174.519 989.944 Q177.691 994.528 177.691 1003.28 Q177.691 1011.45 173.802 1016.33 Q169.936 1021.19 163.385 1021.19 Q161.626 1021.19 159.82 1020.85 Q158.015 1020.5 156.07 1019.81 M165.376 1005.15 Q168.524 1005.15 170.353 1003 Q172.205 1000.85 172.205 997.097 Q172.205 993.37 170.353 991.217 Q168.524 989.041 165.376 989.041 Q162.228 989.041 160.376 991.217 Q158.547 993.37 158.547 997.097 Q158.547 1000.85 160.376 1003 Q162.228 1005.15 165.376 1005.15 Z\" fill=\"#000000\" fill-rule=\"evenodd\" fill-opacity=\"1\" /><path clip-path=\"url(#clip570)\" d=\"M 0 0 M192.76 989.041 Q189.149 989.041 187.32 992.606 Q185.515 996.148 185.515 1003.28 Q185.515 1010.38 187.32 1013.95 Q189.149 1017.49 192.76 1017.49 Q196.394 1017.49 198.2 1013.95 Q200.028 1010.38 200.028 1003.28 Q200.028 996.148 198.2 992.606 Q196.394 989.041 192.76 989.041 M192.76 985.338 Q198.57 985.338 201.626 989.944 Q204.704 994.528 204.704 1003.28 Q204.704 1012 201.626 1016.61 Q198.57 1021.19 192.76 1021.19 Q186.95 1021.19 183.871 1016.61 Q180.816 1012 180.816 1003.28 Q180.816 994.528 183.871 989.944 Q186.95 985.338 192.76 985.338 Z\" fill=\"#000000\" fill-rule=\"evenodd\" fill-opacity=\"1\" /><path clip-path=\"url(#clip570)\" d=\"M 0 0 M75.9319 742.171 Q72.3208 742.171 70.4921 745.736 Q68.6865 749.278 68.6865 756.407 Q68.6865 763.514 70.4921 767.078 Q72.3208 770.62 75.9319 770.62 Q79.5661 770.62 81.3717 767.078 Q83.2004 763.514 83.2004 756.407 Q83.2004 749.278 81.3717 745.736 Q79.5661 742.171 75.9319 742.171 M75.9319 738.467 Q81.742 738.467 84.7976 743.074 Q87.8763 747.657 87.8763 756.407 Q87.8763 765.134 84.7976 769.74 Q81.742 774.324 75.9319 774.324 Q70.1217 774.324 67.043 769.74 Q63.9875 765.134 63.9875 756.407 Q63.9875 747.657 67.043 743.074 Q70.1217 738.467 75.9319 738.467 Z\" fill=\"#000000\" fill-rule=\"evenodd\" fill-opacity=\"1\" /><path clip-path=\"url(#clip570)\" d=\"M 0 0 M92.9457 767.773 L97.8299 767.773 L97.8299 773.652 L92.9457 773.652 L92.9457 767.773 Z\" fill=\"#000000\" fill-rule=\"evenodd\" fill-opacity=\"1\" /><path clip-path=\"url(#clip570)\" d=\"M 0 0 M112.899 742.171 Q109.288 742.171 107.459 745.736 Q105.654 749.278 105.654 756.407 Q105.654 763.514 107.459 767.078 Q109.288 770.62 112.899 770.62 Q116.534 770.62 118.339 767.078 Q120.168 763.514 120.168 756.407 Q120.168 749.278 118.339 745.736 Q116.534 742.171 112.899 742.171 M112.899 738.467 Q118.709 738.467 121.765 743.074 Q124.844 747.657 124.844 756.407 Q124.844 765.134 121.765 769.74 Q118.709 774.324 112.899 774.324 Q107.089 774.324 104.01 769.74 Q100.955 765.134 100.955 756.407 Q100.955 747.657 104.01 743.074 Q107.089 738.467 112.899 738.467 Z\" fill=\"#000000\" fill-rule=\"evenodd\" fill-opacity=\"1\" /><path clip-path=\"url(#clip570)\" d=\"M 0 0 M139.913 742.171 Q136.302 742.171 134.473 745.736 Q132.668 749.278 132.668 756.407 Q132.668 763.514 134.473 767.078 Q136.302 770.62 139.913 770.62 Q143.547 770.62 145.353 767.078 Q147.181 763.514 147.181 756.407 Q147.181 749.278 145.353 745.736 Q143.547 742.171 139.913 742.171 M139.913 738.467 Q145.723 738.467 148.779 743.074 Q151.857 747.657 151.857 756.407 Q151.857 765.134 148.779 769.74 Q145.723 774.324 139.913 774.324 Q134.103 774.324 131.024 769.74 Q127.969 765.134 127.969 756.407 Q127.969 747.657 131.024 743.074 Q134.103 738.467 139.913 738.467 Z\" fill=\"#000000\" fill-rule=\"evenodd\" fill-opacity=\"1\" /><path clip-path=\"url(#clip570)\" d=\"M 0 0 M157.066 772.935 L157.066 768.676 Q158.825 769.509 160.63 769.949 Q162.436 770.389 164.172 770.389 Q168.802 770.389 171.232 767.287 Q173.686 764.162 174.033 757.819 Q172.691 759.81 170.63 760.875 Q168.57 761.939 166.07 761.939 Q160.885 761.939 157.853 758.814 Q154.843 755.666 154.843 750.227 Q154.843 744.903 157.992 741.685 Q161.14 738.467 166.371 738.467 Q172.367 738.467 175.515 743.074 Q178.686 747.657 178.686 756.407 Q178.686 764.578 174.797 769.463 Q170.931 774.324 164.38 774.324 Q162.621 774.324 160.816 773.976 Q159.01 773.629 157.066 772.935 M166.371 758.282 Q169.519 758.282 171.348 756.129 Q173.2 753.977 173.2 750.227 Q173.2 746.5 171.348 744.347 Q169.519 742.171 166.371 742.171 Q163.223 742.171 161.371 744.347 Q159.543 746.5 159.543 750.227 Q159.543 753.977 161.371 756.129 Q163.223 758.282 166.371 758.282 Z\" fill=\"#000000\" fill-rule=\"evenodd\" fill-opacity=\"1\" /><path clip-path=\"url(#clip570)\" d=\"M 0 0 M183.802 739.092 L202.158 739.092 L202.158 743.028 L188.084 743.028 L188.084 751.5 Q189.103 751.152 190.121 750.99 Q191.14 750.805 192.158 750.805 Q197.945 750.805 201.325 753.977 Q204.704 757.148 204.704 762.564 Q204.704 768.143 201.232 771.245 Q197.76 774.324 191.441 774.324 Q189.265 774.324 186.996 773.953 Q184.751 773.583 182.343 772.842 L182.343 768.143 Q184.427 769.277 186.649 769.833 Q188.871 770.389 191.348 770.389 Q195.353 770.389 197.69 768.282 Q200.028 766.176 200.028 762.564 Q200.028 758.953 197.69 756.847 Q195.353 754.74 191.348 754.74 Q189.473 754.74 187.598 755.157 Q185.746 755.574 183.802 756.453 L183.802 739.092 Z\" fill=\"#000000\" fill-rule=\"evenodd\" fill-opacity=\"1\" /><path clip-path=\"url(#clip570)\" d=\"M 0 0 M75.9782 495.301 Q72.3671 495.301 70.5384 498.865 Q68.7328 502.407 68.7328 509.537 Q68.7328 516.643 70.5384 520.208 Q72.3671 523.75 75.9782 523.75 Q79.6124 523.75 81.418 520.208 Q83.2466 516.643 83.2466 509.537 Q83.2466 502.407 81.418 498.865 Q79.6124 495.301 75.9782 495.301 M75.9782 491.597 Q81.7883 491.597 84.8439 496.203 Q87.9225 500.787 87.9225 509.537 Q87.9225 518.264 84.8439 522.87 Q81.7883 527.453 75.9782 527.453 Q70.168 527.453 67.0893 522.87 Q64.0338 518.264 64.0338 509.537 Q64.0338 500.787 67.0893 496.203 Q70.168 491.597 75.9782 491.597 Z\" fill=\"#000000\" fill-rule=\"evenodd\" fill-opacity=\"1\" /><path clip-path=\"url(#clip570)\" d=\"M 0 0 M92.992 520.902 L97.8762 520.902 L97.8762 526.782 L92.992 526.782 L92.992 520.902 Z\" fill=\"#000000\" fill-rule=\"evenodd\" fill-opacity=\"1\" /><path clip-path=\"url(#clip570)\" d=\"M 0 0 M112.946 495.301 Q109.334 495.301 107.506 498.865 Q105.7 502.407 105.7 509.537 Q105.7 516.643 107.506 520.208 Q109.334 523.75 112.946 523.75 Q116.58 523.75 118.385 520.208 Q120.214 516.643 120.214 509.537 Q120.214 502.407 118.385 498.865 Q116.58 495.301 112.946 495.301 M112.946 491.597 Q118.756 491.597 121.811 496.203 Q124.89 500.787 124.89 509.537 Q124.89 518.264 121.811 522.87 Q118.756 527.453 112.946 527.453 Q107.135 527.453 104.057 522.87 Q101.001 518.264 101.001 509.537 Q101.001 500.787 104.057 496.203 Q107.135 491.597 112.946 491.597 Z\" fill=\"#000000\" fill-rule=\"evenodd\" fill-opacity=\"1\" /><path clip-path=\"url(#clip570)\" d=\"M 0 0 M130.77 522.847 L138.408 522.847 L138.408 496.481 L130.098 498.148 L130.098 493.889 L138.362 492.222 L143.038 492.222 L143.038 522.847 L150.677 522.847 L150.677 526.782 L130.77 526.782 L130.77 522.847 Z\" fill=\"#000000\" fill-rule=\"evenodd\" fill-opacity=\"1\" /><path clip-path=\"url(#clip570)\" d=\"M 0 0 M165.746 495.301 Q162.135 495.301 160.306 498.865 Q158.501 502.407 158.501 509.537 Q158.501 516.643 160.306 520.208 Q162.135 523.75 165.746 523.75 Q169.38 523.75 171.186 520.208 Q173.015 516.643 173.015 509.537 Q173.015 502.407 171.186 498.865 Q169.38 495.301 165.746 495.301 M165.746 491.597 Q171.556 491.597 174.612 496.203 Q177.691 500.787 177.691 509.537 Q177.691 518.264 174.612 522.87 Q171.556 527.453 165.746 527.453 Q159.936 527.453 156.857 522.87 Q153.802 518.264 153.802 509.537 Q153.802 500.787 156.857 496.203 Q159.936 491.597 165.746 491.597 Z\" fill=\"#000000\" fill-rule=\"evenodd\" fill-opacity=\"1\" /><path clip-path=\"url(#clip570)\" d=\"M 0 0 M192.76 495.301 Q189.149 495.301 187.32 498.865 Q185.515 502.407 185.515 509.537 Q185.515 516.643 187.32 520.208 Q189.149 523.75 192.76 523.75 Q196.394 523.75 198.2 520.208 Q200.028 516.643 200.028 509.537 Q200.028 502.407 198.2 498.865 Q196.394 495.301 192.76 495.301 M192.76 491.597 Q198.57 491.597 201.626 496.203 Q204.704 500.787 204.704 509.537 Q204.704 518.264 201.626 522.87 Q198.57 527.453 192.76 527.453 Q186.95 527.453 183.871 522.87 Q180.816 518.264 180.816 509.537 Q180.816 500.787 183.871 496.203 Q186.95 491.597 192.76 491.597 Z\" fill=\"#000000\" fill-rule=\"evenodd\" fill-opacity=\"1\" /><path clip-path=\"url(#clip570)\" d=\"M 0 0 M76.9735 248.43 Q73.3624 248.43 71.5337 251.995 Q69.7282 255.537 69.7282 262.666 Q69.7282 269.773 71.5337 273.338 Q73.3624 276.879 76.9735 276.879 Q80.6078 276.879 82.4133 273.338 Q84.242 269.773 84.242 262.666 Q84.242 255.537 82.4133 251.995 Q80.6078 248.43 76.9735 248.43 M76.9735 244.727 Q82.7837 244.727 85.8392 249.333 Q88.9179 253.916 88.9179 262.666 Q88.9179 271.393 85.8392 276 Q82.7837 280.583 76.9735 280.583 Q71.1634 280.583 68.0847 276 Q65.0292 271.393 65.0292 262.666 Q65.0292 253.916 68.0847 249.333 Q71.1634 244.727 76.9735 244.727 Z\" fill=\"#000000\" fill-rule=\"evenodd\" fill-opacity=\"1\" /><path clip-path=\"url(#clip570)\" d=\"M 0 0 M93.9873 274.032 L98.8716 274.032 L98.8716 279.912 L93.9873 279.912 L93.9873 274.032 Z\" fill=\"#000000\" fill-rule=\"evenodd\" fill-opacity=\"1\" /><path clip-path=\"url(#clip570)\" d=\"M 0 0 M113.941 248.43 Q110.33 248.43 108.501 251.995 Q106.696 255.537 106.696 262.666 Q106.696 269.773 108.501 273.338 Q110.33 276.879 113.941 276.879 Q117.575 276.879 119.381 273.338 Q121.209 269.773 121.209 262.666 Q121.209 255.537 119.381 251.995 Q117.575 248.43 113.941 248.43 M113.941 244.727 Q119.751 244.727 122.807 249.333 Q125.885 253.916 125.885 262.666 Q125.885 271.393 122.807 276 Q119.751 280.583 113.941 280.583 Q108.131 280.583 105.052 276 Q101.997 271.393 101.997 262.666 Q101.997 253.916 105.052 249.333 Q108.131 244.727 113.941 244.727 Z\" fill=\"#000000\" fill-rule=\"evenodd\" fill-opacity=\"1\" /><path clip-path=\"url(#clip570)\" d=\"M 0 0 M131.765 275.976 L139.404 275.976 L139.404 249.611 L131.094 251.277 L131.094 247.018 L139.357 245.352 L144.033 245.352 L144.033 275.976 L151.672 275.976 L151.672 279.912 L131.765 279.912 L131.765 275.976 Z\" fill=\"#000000\" fill-rule=\"evenodd\" fill-opacity=\"1\" /><path clip-path=\"url(#clip570)\" d=\"M 0 0 M166.742 248.43 Q163.13 248.43 161.302 251.995 Q159.496 255.537 159.496 262.666 Q159.496 269.773 161.302 273.338 Q163.13 276.879 166.742 276.879 Q170.376 276.879 172.181 273.338 Q174.01 269.773 174.01 262.666 Q174.01 255.537 172.181 251.995 Q170.376 248.43 166.742 248.43 M166.742 244.727 Q172.552 244.727 175.607 249.333 Q178.686 253.916 178.686 262.666 Q178.686 271.393 175.607 276 Q172.552 280.583 166.742 280.583 Q160.931 280.583 157.853 276 Q154.797 271.393 154.797 262.666 Q154.797 253.916 157.853 249.333 Q160.931 244.727 166.742 244.727 Z\" fill=\"#000000\" fill-rule=\"evenodd\" fill-opacity=\"1\" /><path clip-path=\"url(#clip570)\" d=\"M 0 0 M183.802 245.352 L202.158 245.352 L202.158 249.287 L188.084 249.287 L188.084 257.759 Q189.103 257.412 190.121 257.25 Q191.14 257.064 192.158 257.064 Q197.945 257.064 201.325 260.236 Q204.704 263.407 204.704 268.824 Q204.704 274.402 201.232 277.504 Q197.76 280.583 191.441 280.583 Q189.265 280.583 186.996 280.213 Q184.751 279.842 182.343 279.101 L182.343 274.402 Q184.427 275.537 186.649 276.092 Q188.871 276.648 191.348 276.648 Q195.353 276.648 197.69 274.541 Q200.028 272.435 200.028 268.824 Q200.028 265.213 197.69 263.106 Q195.353 261 191.348 261 Q189.473 261 187.598 261.416 Q185.746 261.833 183.802 262.713 L183.802 245.352 Z\" fill=\"#000000\" fill-rule=\"evenodd\" fill-opacity=\"1\" /><polyline clip-path=\"url(#clip572)\" style=\"stroke:#009af9; stroke-width:4; stroke-opacity:1; fill:none\" points=\"\n",
       "  288.819,1445.72 511.466,844.48 734.113,1346.09 956.76,87.9763 1179.41,1166.36 1402.05,1186.16 1624.7,1342.38 1847.35,1105.96 2069.99,939.697 2292.64,1011.52 \n",
       "  \n",
       "  \"/>\n",
       "<path clip-path=\"url(#clip570)\" d=\"\n",
       "M1989.74 251.724 L2280.76 251.724 L2280.76 130.764 L1989.74 130.764  Z\n",
       "  \" fill=\"#ffffff\" fill-rule=\"evenodd\" fill-opacity=\"1\"/>\n",
       "<polyline clip-path=\"url(#clip570)\" style=\"stroke:#000000; stroke-width:4; stroke-opacity:1; fill:none\" points=\"\n",
       "  1989.74,251.724 2280.76,251.724 2280.76,130.764 1989.74,130.764 1989.74,251.724 \n",
       "  \"/>\n",
       "<polyline clip-path=\"url(#clip570)\" style=\"stroke:#009af9; stroke-width:4; stroke-opacity:1; fill:none\" points=\"\n",
       "  2013.74,191.244 2157.74,191.244 \n",
       "  \"/>\n",
       "<path clip-path=\"url(#clip570)\" d=\"M 0 0 M2195.58 210.931 Q2193.77 215.561 2192.06 216.973 Q2190.35 218.385 2187.48 218.385 L2184.08 218.385 L2184.08 214.82 L2186.58 214.82 Q2188.33 214.82 2189.31 213.987 Q2190.28 213.154 2191.46 210.052 L2192.22 208.107 L2181.74 182.598 L2186.25 182.598 L2194.35 202.876 L2202.46 182.598 L2206.97 182.598 L2195.58 210.931 Z\" fill=\"#000000\" fill-rule=\"evenodd\" fill-opacity=\"1\" /><path clip-path=\"url(#clip570)\" d=\"M 0 0 M2212.85 204.589 L2220.49 204.589 L2220.49 178.223 L2212.18 179.89 L2212.18 175.631 L2220.44 173.964 L2225.12 173.964 L2225.12 204.589 L2232.76 204.589 L2232.76 208.524 L2212.85 208.524 L2212.85 204.589 Z\" fill=\"#000000\" fill-rule=\"evenodd\" fill-opacity=\"1\" /></svg>\n"
      ]
     },
     "execution_count": 40,
     "metadata": {},
     "output_type": "execute_result"
    }
   ],
   "source": [
    "plot(mean(check,dims=1)[1,:])"
   ]
  },
  {
   "cell_type": "code",
   "execution_count": null,
   "metadata": {},
   "outputs": [],
   "source": [
    "plot_check = run(sess,stack(outcheck))"
   ]
  },
  {
   "cell_type": "code",
   "execution_count": null,
   "metadata": {},
   "outputs": [],
   "source": [
    "# using DelimitedFiles"
   ]
  },
  {
   "cell_type": "code",
   "execution_count": null,
   "metadata": {},
   "outputs": [],
   "source": [
    "# writedlm(\"conservation_check.csv\",plot_check,\",\")"
   ]
  },
  {
   "cell_type": "code",
   "execution_count": null,
   "metadata": {},
   "outputs": [],
   "source": [
    "plot(Array(mean(y_x_list[ii],dims=1))[1,:])\n",
    "plot!(Array(mean(q_t_[:,:,1],dims=2)))"
   ]
  },
  {
   "cell_type": "code",
   "execution_count": null,
   "metadata": {},
   "outputs": [],
   "source": [
    "q_t_"
   ]
  },
  {
   "cell_type": "code",
   "execution_count": null,
   "metadata": {},
   "outputs": [],
   "source": [
    "\n",
    "q_t_ = run(sess,q_t_y[ii],feed_dict = Dict(lambda => ones(1)*T_,N_k_dis=>64.0))\n",
    "p_ = run(sess,p,feed_dict = Dict(lambda => ones(1)*T_,N_k_dis=>64.0))\n",
    "\n",
    "\n",
    "ind  = sortperm(q_t_[time_step,:,1])\n",
    "\n",
    "plot!(q_t_[time_step,ind,1],cumsum(p_[1,ind]))\n",
    "\n",
    "\n",
    "ii = 5\n",
    "ind  = sortperm(y_x_list[ii][:,time_step])\n",
    "\n",
    "plot(y_x_list[ii][ind,time_step],LinRange(0,1,N_k_fine))\n",
    "\n",
    "q_t_ = run(sess,q_t_x[ii],feed_dict = Dict(lambda => ones(1)*T_,N_k_dis=>64.0))\n",
    "p_ = run(sess,p,feed_dict = Dict(lambda => ones(1)*T_,N_k_dis=>64.0))\n",
    "\n",
    "\n",
    "ind  = sortperm(q_t_[time_step,:,1])\n",
    "\n",
    "plot!(q_t_[time_step,ind,1],cumsum(p_[1,ind]))\n",
    "\n",
    "ind  = sortperm(y_y_list[ii][:,time_step])\n",
    "\n",
    "plot(y_y_list[ii][ind,time_step],LinRange(0,1,N_k_fine))\n",
    "\n",
    "q_t_ = run(sess,q_t_y[ii],feed_dict = Dict(lambda => ones(1)*T_,N_k_dis=>64.0))\n",
    "p_ = run(sess,p,feed_dict = Dict(lambda => ones(1)*T_,N_k_dis=>64.0))\n",
    "\n",
    "\n",
    "ind  = sortperm(q_t_[time_step,:,1])\n",
    "\n",
    "plot!(q_t_[time_step,ind,1],cumsum(p_[1,ind]))\n",
    "\n",
    "loss_y_list\n",
    "\n",
    "run(sess,loss_x_list[5])\n",
    "\n",
    "run(sess,loss_y_list[5])\n",
    "\n",
    "run(sess,loss)\n",
    "\n",
    "q_t_[time_step,ind,1]\n",
    "\n",
    "plot(transpose(p_save  * k_x_save))\n",
    "\n",
    "\n",
    "plot(transpose(p_save  * k_y_save))\n",
    "\n",
    "\n",
    "transpose(p_save  * k_x_save)\n",
    "\n",
    "check = run(sess,h_t)\n",
    "\n",
    "reshape(check[1,1,:],(21,21))\n",
    "\n",
    "# h_t\n",
    "\n"
   ]
  },
  {
   "cell_type": "code",
   "execution_count": null,
   "metadata": {},
   "outputs": [],
   "source": [
    "check = run(sess,h_t)"
   ]
  },
  {
   "cell_type": "code",
   "execution_count": null,
   "metadata": {},
   "outputs": [],
   "source": [
    "reshape(check[1,:],21,21)[11,11]-reshape(check[1,:],21,21)[11,12]"
   ]
  },
  {
   "cell_type": "code",
   "execution_count": null,
   "metadata": {},
   "outputs": [],
   "source": [
    "tt = 10\n",
    "reshape(check[tt,10,:],21,21)[11,11]-reshape(check[tt,10,:],21,21)[11,12]"
   ]
  },
  {
   "cell_type": "code",
   "execution_count": null,
   "metadata": {},
   "outputs": [],
   "source": [
    "Array(mean((y_y_list[5][:,:]),dims=1))"
   ]
  },
  {
   "cell_type": "code",
   "execution_count": null,
   "metadata": {},
   "outputs": [],
   "source": [
    "plot(Array(mean((y_y_list[4][:,:]),dims=1))[1,:])"
   ]
  },
  {
   "cell_type": "code",
   "execution_count": null,
   "metadata": {},
   "outputs": [],
   "source": [
    "y_y_list[5]"
   ]
  },
  {
   "cell_type": "code",
   "execution_count": null,
   "metadata": {},
   "outputs": [],
   "source": [
    "plot(run(sess,k_xy_t)[1,:])"
   ]
  },
  {
   "cell_type": "code",
   "execution_count": null,
   "metadata": {},
   "outputs": [],
   "source": [
    "plot(std(y_y_list[5],dims=1)[1,:])"
   ]
  },
  {
   "cell_type": "code",
   "execution_count": null,
   "metadata": {},
   "outputs": [],
   "source": [
    "plot(mean(q_t_[:,:,1],dims=2))\n",
    "plot!(maximum(q_t_[:,:,1],dims=2))"
   ]
  },
  {
   "cell_type": "code",
   "execution_count": null,
   "metadata": {},
   "outputs": [],
   "source": [
    "plot(mean(y_y_list[5],dims=1)[1,:])"
   ]
  },
  {
   "cell_type": "code",
   "execution_count": null,
   "metadata": {},
   "outputs": [],
   "source": [
    "mean(y_y_list[5],dims=1)[1,:]"
   ]
  },
  {
   "cell_type": "code",
   "execution_count": null,
   "metadata": {},
   "outputs": [],
   "source": []
  }
 ],
 "metadata": {
  "kernelspec": {
   "display_name": "Julia 1.4.1",
   "language": "julia",
   "name": "julia-1.4"
  },
  "language_info": {
   "file_extension": ".jl",
   "mimetype": "application/julia",
   "name": "julia",
   "version": "1.4.1"
  }
 },
 "nbformat": 4,
 "nbformat_minor": 4
}