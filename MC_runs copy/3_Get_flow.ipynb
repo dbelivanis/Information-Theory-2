{
 "cells": [
  {
   "cell_type": "markdown",
   "metadata": {},
   "source": [
    "### Libraries"
   ]
  },
  {
   "cell_type": "code",
   "execution_count": 1,
   "metadata": {},
   "outputs": [],
   "source": [
    "import matplotlib.pyplot as plt\n",
    "from scipy import stats\n",
    "import numpy as np\n",
    "import pandas as pd\n",
    "import time\n",
    "from tqdm.notebook import tnrange, tqdm\n",
    "import os"
   ]
  },
  {
   "cell_type": "markdown",
   "metadata": {},
   "source": [
    "### Inputs parameters"
   ]
  },
  {
   "cell_type": "code",
   "execution_count": 2,
   "metadata": {},
   "outputs": [],
   "source": [
    "Ntsteps = 1800\n",
    "Ninterfaces = 63\n",
    "Nx = 64\n",
    "Ny = Nx\n",
    "Nr = 100\n",
    "L = 1000.\n",
    "dx = L/Nx\n",
    "dy = dx"
   ]
  },
  {
   "cell_type": "code",
   "execution_count": 3,
   "metadata": {},
   "outputs": [],
   "source": [
    "# run_name = 'Run_no_zero_flow_Run_1610993549'./../../MC_runs/Run_no_zero_flow_no_oscilations_Run_Run_1620834677/MC/runs/\n",
    "folder_name = './../../../MC_runs/Run_no_zero_flow_no_oscilations_Run_Run_1646968123/MC/runs/'"
   ]
  },
  {
   "cell_type": "markdown",
   "metadata": {},
   "source": [
    "### Create aux variables"
   ]
  },
  {
   "cell_type": "code",
   "execution_count": 4,
   "metadata": {},
   "outputs": [],
   "source": [
    "k=np.zeros(Nx*Ny)\n",
    "qcell = np.zeros((Ny,Ntsteps))\n",
    "q_x = np.zeros((Nr,Ntsteps))\n",
    "q_y = np.zeros((Nr,Ntsteps))\n",
    "\n",
    "HMC = np.zeros((Nr+2,Nx,Ntsteps))"
   ]
  },
  {
   "cell_type": "code",
   "execution_count": 5,
   "metadata": {},
   "outputs": [],
   "source": [
    "def harm_2(a,b):\n",
    "    \n",
    "    harm = 1/a+1/b\n",
    "    harm = 2/harm\n",
    "    \n",
    "    return harm"
   ]
  },
  {
   "cell_type": "code",
   "execution_count": 6,
   "metadata": {},
   "outputs": [],
   "source": [
    "ir =1"
   ]
  },
  {
   "cell_type": "code",
   "execution_count": 7,
   "metadata": {},
   "outputs": [],
   "source": [
    "f = open(f'./{folder_name}/{ir}/6_months_run.hed')\n",
    "f_k = open(f'./{folder_name}/{ir}/karray_1.0.txt')\n",
    "\n",
    "hmc = np.loadtxt(f)\n",
    "K = np.loadtxt(f_k)\n",
    "\n",
    "P = hmc.reshape((Ntsteps,64,64))\n",
    "K = K.reshape((64,64)) "
   ]
  },
  {
   "cell_type": "code",
   "execution_count": null,
   "metadata": {},
   "outputs": [],
   "source": []
  },
  {
   "cell_type": "code",
   "execution_count": null,
   "metadata": {},
   "outputs": [],
   "source": []
  },
  {
   "cell_type": "code",
   "execution_count": null,
   "metadata": {},
   "outputs": [],
   "source": []
  },
  {
   "cell_type": "code",
   "execution_count": 9,
   "metadata": {},
   "outputs": [
    {
     "data": {
      "application/vnd.jupyter.widget-view+json": {
       "model_id": "e65d26d96f4343fcbb7278161409916c",
       "version_major": 2,
       "version_minor": 0
      },
      "text/plain": [
       "  0%|          | 0/100 [00:00<?, ?it/s]"
      ]
     },
     "metadata": {},
     "output_type": "display_data"
    }
   ],
   "source": [
    "q_tot_start = list()\n",
    "q_tot_mid = list()\n",
    "q_tot_end = list()\n",
    "\n",
    "for ir in tnrange(1,101):\n",
    "#     print(ir)\n",
    "    #     time.sleep(10)\n",
    "    f = open(f'./{folder_name}/{ir}/6_months_run.hed')\n",
    "    f_k = open(f'./{folder_name}/{ir}/karray_1.0.txt')\n",
    "\n",
    "    hmc = np.loadtxt(f)\n",
    "    K = np.loadtxt(f_k)\n",
    "\n",
    "    P = hmc.reshape((Ntsteps,64,64))\n",
    "    K = K.reshape((64,64)) \n",
    "\n",
    "    dP_x_start = P[:,:,0]-P[:,:,1]\n",
    "    k_x_start = harm_2(K[:,0],K[:,1])\n",
    "    q_x_start = dP_x_start*k_x_start/dx\n",
    "    q_x_start = np.mean(q_x_start,axis=1)\n",
    "\n",
    "    dP_x_mid = P[:,:,31]-P[:,:,32]\n",
    "    k_x_mid = harm_2(K[:,31],K[:,32])\n",
    "    q_x_mid = dP_x_mid*k_x_mid/dx\n",
    "    q_x_mid = np.mean(q_x_mid,axis=1)\n",
    "\n",
    "    dP_x_end = P[:,:,62]-P[:,:,63]\n",
    "    k_x_end = harm_2(K[:,62],K[:,63])\n",
    "    q_x_end = dP_x_end*k_x_end/dx\n",
    "    q_x_end = np.mean(q_x_end,axis=1)\n",
    "\n",
    "    q_tot_start.append(q_x_start)\n",
    "    q_tot_mid.append(q_x_mid)\n",
    "    q_tot_end.append(q_x_end)"
   ]
  },
  {
   "cell_type": "markdown",
   "metadata": {},
   "source": [
    "### Save parameters"
   ]
  },
  {
   "cell_type": "code",
   "execution_count": 15,
   "metadata": {},
   "outputs": [],
   "source": [
    "np.savetxt(f'./{folder_name}/../flow/Q_x_start.txt',np.array(q_tot_start))\n",
    "np.savetxt(f'./{folder_name}/../flow/Q_x_mid.txt',np.array(q_tot_mid))\n",
    "np.savetxt(f'./{folder_name}/../flow/Q_x_end.txt',np.array(q_tot_end))"
   ]
  },
  {
   "cell_type": "code",
   "execution_count": 14,
   "metadata": {},
   "outputs": [],
   "source": [
    "os.mkdir(f'./{folder_name}/../flow')"
   ]
  },
  {
   "cell_type": "code",
   "execution_count": 17,
   "metadata": {},
   "outputs": [
    {
     "data": {
      "text/plain": [
       "'./../../../MC_runs/Run_no_zero_flow_no_oscilations_Run_Run_1646968123/MC/runs/'"
      ]
     },
     "execution_count": 17,
     "metadata": {},
     "output_type": "execute_result"
    }
   ],
   "source": [
    "folder_name"
   ]
  },
  {
   "cell_type": "code",
   "execution_count": 24,
   "metadata": {},
   "outputs": [
    {
     "data": {
      "text/plain": [
       "[<matplotlib.lines.Line2D at 0x16d857ebe88>]"
      ]
     },
     "execution_count": 24,
     "metadata": {},
     "output_type": "execute_result"
    },
    {
     "data": {
      "image/png": "[encoded data removed]",
      "text/plain": [
       "<Figure size 432x288 with 1 Axes>"
      ]
     },
     "metadata": {
      "needs_background": "light"
     },
     "output_type": "display_data"
    }
   ],
   "source": [
    "plt.plot(np.mean(np.array(q_tot_mid),axis=0))\n",
    "plt.plot(np.mean(np.array(q_tot_start),axis=0))"
   ]
  },
  {
   "cell_type": "code",
   "execution_count": 16,
   "metadata": {},
   "outputs": [
    {
     "ename": "NameError",
     "evalue": "name 'q_x_list' is not defined",
     "output_type": "error",
     "traceback": [
      "\u001b[1;31m---------------------------------------------------------------------------\u001b[0m",
      "\u001b[1;31mNameError\u001b[0m                                 Traceback (most recent call last)",
      "\u001b[1;32m<ipython-input-16-53a2b1532d56>\u001b[0m in \u001b[0;36m<module>\u001b[1;34m\u001b[0m\n\u001b[1;32m----> 1\u001b[1;33m \u001b[0mplt\u001b[0m\u001b[1;33m.\u001b[0m\u001b[0mplot\u001b[0m\u001b[1;33m(\u001b[0m\u001b[0mnp\u001b[0m\u001b[1;33m.\u001b[0m\u001b[0mmin\u001b[0m\u001b[1;33m(\u001b[0m\u001b[0mq_x_list\u001b[0m\u001b[1;33m,\u001b[0m\u001b[0maxis\u001b[0m\u001b[1;33m=\u001b[0m\u001b[1;36m0\u001b[0m\u001b[1;33m)\u001b[0m\u001b[1;33m[\u001b[0m\u001b[1;33m:\u001b[0m\u001b[1;33m,\u001b[0m\u001b[1;36m4\u001b[0m\u001b[1;33m]\u001b[0m\u001b[1;33m/\u001b[0m\u001b[1;33m(\u001b[0m\u001b[1;33m(\u001b[0m\u001b[0mP\u001b[0m\u001b[1;33m[\u001b[0m\u001b[1;33m:\u001b[0m\u001b[1;33m,\u001b[0m\u001b[1;36m0\u001b[0m\u001b[1;33m,\u001b[0m\u001b[1;36m0\u001b[0m\u001b[1;33m]\u001b[0m\u001b[1;33m-\u001b[0m\u001b[1;36m1\u001b[0m\u001b[1;33m)\u001b[0m\u001b[1;33m/\u001b[0m\u001b[1;36m1000\u001b[0m\u001b[1;33m)\u001b[0m\u001b[1;33m)\u001b[0m\u001b[1;33m\u001b[0m\u001b[1;33m\u001b[0m\u001b[0m\n\u001b[0m",
      "\u001b[1;31mNameError\u001b[0m: name 'q_x_list' is not defined"
     ]
    }
   ],
   "source": [
    "plt.plot(np.min(q_x_list,axis=0)[:,4]/((P[:,0,0]-1)/1000))"
   ]
  },
  {
   "cell_type": "code",
   "execution_count": 19,
   "metadata": {},
   "outputs": [
    {
     "data": {
      "text/plain": [
       "[<matplotlib.lines.Line2D at 0x20aeab94220>]"
      ]
     },
     "execution_count": 19,
     "metadata": {},
     "output_type": "execute_result"
    },
    {
     "data": {
      "image/png": "[encoded data removed]",
      "text/plain": [
       "<Figure size 432x288 with 1 Axes>"
      ]
     },
     "metadata": {
      "needs_background": "light"
     },
     "output_type": "display_data"
    }
   ],
   "source": [
    "plt.plot(np.min(q_y_list,axis=0)[:,4]/((P[:,0,0]-P[:,-1,0])/1000))"
   ]
  },
  {
   "cell_type": "code",
   "execution_count": 23,
   "metadata": {},
   "outputs": [
    {
     "data": {
      "text/plain": [
       "[<matplotlib.lines.Line2D at 0x20ae9b47520>]"
      ]
     },
     "execution_count": 23,
     "metadata": {},
     "output_type": "execute_result"
    },
    {
     "data": {
      "image/png": "[encoded data removed]",
      "text/plain": [
       "<Figure size 432x288 with 1 Axes>"
      ]
     },
     "metadata": {
      "needs_background": "light"
     },
     "output_type": "display_data"
    }
   ],
   "source": [
    "plt.plot(np.mean(q_x_list,axis=0)[:,4])"
   ]
  },
  {
   "cell_type": "code",
   "execution_count": 24,
   "metadata": {},
   "outputs": [],
   "source": [
    "K_X = np.mean(q_x_list,axis=0)[:,4]/((P[:,32,0]-1)/1000)"
   ]
  },
  {
   "cell_type": "code",
   "execution_count": 25,
   "metadata": {},
   "outputs": [],
   "source": [
    "np.savetxt(f'./{folder_name}/../flow/K_X.txt',K_X)"
   ]
  },
  {
   "cell_type": "code",
   "execution_count": 26,
   "metadata": {},
   "outputs": [],
   "source": [
    "K_Y = np.mean(q_y_list,axis=0)[:,4]/((P[:,0,0]-P[:,-1,0])/1000)\n",
    "np.savetxt(f'./{folder_name}/../flow/K_Y.txt',K_Y)"
   ]
  },
  {
   "cell_type": "code",
   "execution_count": 27,
   "metadata": {},
   "outputs": [
    {
     "data": {
      "text/plain": [
       "[<matplotlib.lines.Line2D at 0x20aebd5d9d0>]"
      ]
     },
     "execution_count": 27,
     "metadata": {},
     "output_type": "execute_result"
    },
    {
     "data": {
      "image/png": "[encoded data removed]",
      "text/plain": [
       "<Figure size 432x288 with 1 Axes>"
      ]
     },
     "metadata": {
      "needs_background": "light"
     },
     "output_type": "display_data"
    }
   ],
   "source": [
    "plt.plot(np.mean(q_y_list,axis=0)[:,4])"
   ]
  },
  {
   "cell_type": "code",
   "execution_count": 32,
   "metadata": {},
   "outputs": [
    {
     "data": {
      "text/plain": [
       "[<matplotlib.lines.Line2D at 0x20ad18f5430>]"
      ]
     },
     "execution_count": 32,
     "metadata": {},
     "output_type": "execute_result"
    },
    {
     "data": {
      "image/png": "[encoded data removed]",
      "text/plain": [
       "<Figure size 432x288 with 1 Axes>"
      ]
     },
     "metadata": {
      "needs_background": "light"
     },
     "output_type": "display_data"
    }
   ],
   "source": [
    "plt.plot(np.mean(q_x_list,axis=0)[:,4])"
   ]
  },
  {
   "cell_type": "code",
   "execution_count": 28,
   "metadata": {},
   "outputs": [
    {
     "data": {
      "text/plain": [
       "[<matplotlib.lines.Line2D at 0x20ad4b00d60>]"
      ]
     },
     "execution_count": 28,
     "metadata": {},
     "output_type": "execute_result"
    },
    {
     "data": {
      "image/png": "[encoded data removed]",
      "text/plain": [
       "<Figure size 432x288 with 1 Axes>"
      ]
     },
     "metadata": {
      "needs_background": "light"
     },
     "output_type": "display_data"
    }
   ],
   "source": [
    "plt.plot((P[:,0,0]-1)/1000)\n",
    "plt.plot((P[:,32,0]-1)/1000)"
   ]
  },
  {
   "cell_type": "code",
   "execution_count": null,
   "metadata": {},
   "outputs": [],
   "source": []
  }
 ],
 "metadata": {
  "interpreter": {
   "hash": "48fdaef39db0d403f1b596fa2f6e595a4cabdd2040b33d548e7350b44efa854f"
  },
  "kernelspec": {
   "display_name": "Python 3.8.3 64-bit (conda)",
   "name": "python3"
  },
  "language_info": {
   "codemirror_mode": {
    "name": "ipython",
    "version": 3
   },
   "file_extension": ".py",
   "mimetype": "text/x-python",
   "name": "python",
   "nbconvert_exporter": "python",
   "pygments_lexer": "ipython3",
   "version": "3.7.7"
  },
  "metadata": {
   "interpreter": {
    "hash": "7c064f03fa71180975df69d190232b6514895e24ca57203e9c57b5522809105e"
   }
  }
 },
 "nbformat": 4,
 "nbformat_minor": 4
}
