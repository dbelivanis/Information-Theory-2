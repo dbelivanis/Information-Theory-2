{
 "cells": [
  {
   "cell_type": "code",
   "execution_count": 1,
   "metadata": {},
   "outputs": [],
   "source": [
    "import numpy as np\n",
    "import pandas as pd\n",
    "import os\n",
    "import shutil\n",
    "import time\n",
    "from tqdm.notebook import tnrange, tqdm\n",
    "from subprocess import Popen"
   ]
  },
  {
   "cell_type": "code",
   "execution_count": null,
   "metadata": {},
   "outputs": [],
   "source": []
  },
  {
   "cell_type": "code",
   "execution_count": 2,
   "metadata": {},
   "outputs": [],
   "source": [
    "# int(time.time()%1e5)"
   ]
  },
  {
   "cell_type": "code",
   "execution_count": 3,
   "metadata": {},
   "outputs": [],
   "source": [
    "# ./../../files/BC_IC_files/Run_1620833187"
   ]
  },
  {
   "cell_type": "code",
   "execution_count": 4,
   "metadata": {},
   "outputs": [],
   "source": [
    "uniq_id = f'Run_{int(time.time())}'\n",
    "Name_run_src = './../../../files/BC_IC_files/Run_1623326552_1' "
   ]
  },
  {
   "cell_type": "code",
   "execution_count": 5,
   "metadata": {},
   "outputs": [],
   "source": [
    "Name_run = 'Run_no_zero_flow_no_oscilations_Run'"
   ]
  },
  {
   "cell_type": "code",
   "execution_count": 6,
   "metadata": {},
   "outputs": [],
   "source": [
    "\n",
    "Name_uniq = f'{Name_run}_{uniq_id}'\n",
    "folder_uniq = f'./../../../MC_runs/{Name_uniq}'\n",
    "os.mkdir(f'{folder_uniq}')\n",
    "# os.mkdir(f'{folder_uniq}/MC')\n",
    "os.mkdir(f'{folder_uniq}/runs')"
   ]
  },
  {
   "cell_type": "code",
   "execution_count": 7,
   "metadata": {},
   "outputs": [],
   "source": [
    "del_files = [\"fort.740\"\n",
    ",\"mf2k_h5.exe\"\n",
    ",\"6_months_run.asp\"\n",
    ",\"6_months_run.ba6\"\n",
    ",\"6_months_run.chd\"\n",
    ",\"6_months_run.dis\"\n",
    ",\"6_months_run.h5\"\n",
    ",\"6_months_run.lpf\"\n",
    ",\"6_months_run.mfn\"\n",
    ",\"6_months_run.oc\"\n",
    ",\"6_months_run.out\"\n",
    ",\"6_months_run.pcg\"]"
   ]
  },
  {
   "cell_type": "code",
   "execution_count": 8,
   "metadata": {},
   "outputs": [
    {
     "data": {
      "application/vnd.jupyter.widget-view+json": {
       "model_id": "f20c7d571bc5420e8117a877f03d7fbc",
       "version_major": 2,
       "version_minor": 0
      },
      "text/plain": [
       "  0%|          | 0/100 [00:00<?, ?it/s]"
      ]
     },
     "metadata": {},
     "output_type": "display_data"
    }
   ],
   "source": [
    "# shutil.copyfile('files/MC_Batch.bat', f'{folder_uniq}/MC/MC_Batch.bat')\n",
    "src = f'{Name_run_src}'\n",
    "\n",
    "for i in tnrange(1,101):\n",
    "    dst = f'{folder_uniq}/MC/runs/{i}'\n",
    "    shutil.copytree(src, dst)\n",
    "\n",
    "    src_K = f'files/K_s/K_{i}.txt'\n",
    "    dst_K = f'{folder_uniq}/MC/runs/{i}/karray_1.0.txt'\n",
    "    shutil.copyfile(src_K, dst_K)\n",
    "\n",
    "    p = Popen(['mf2k_h5','6_months_run.mfn'], cwd=f'{folder_uniq}/MC/runs/{i}',shell=True)\n",
    "    p.communicate()\n",
    "    for file in del_files:\n",
    "        os.remove(f'{folder_uniq}/MC/runs/{i}/{file}')"
   ]
  },
  {
   "cell_type": "code",
   "execution_count": 9,
   "metadata": {},
   "outputs": [
    {
     "data": {
      "text/plain": [
       "'./../../../MC_runs/Run_no_zero_flow_no_oscilations_Run_Run_1646968123/MC/original_files'"
      ]
     },
     "execution_count": 9,
     "metadata": {},
     "output_type": "execute_result"
    }
   ],
   "source": [
    "dst = f'{folder_uniq}/MC/original_files'\n",
    "shutil.copytree(src, dst)"
   ]
  },
  {
   "cell_type": "code",
   "execution_count": 11,
   "metadata": {},
   "outputs": [
    {
     "name": "stdout",
     "output_type": "stream",
     "text": [
      "./../../../MC_runs/Run_no_zero_flow_no_oscilations_Run_Run_1646968123/MC/runs/\n"
     ]
    }
   ],
   "source": [
    "print(f'{folder_uniq}/MC/runs/')"
   ]
  },
  {
   "cell_type": "code",
   "execution_count": null,
   "metadata": {},
   "outputs": [],
   "source": [
    "./../../MC_runs/Run_no_zero_flow_no_oscilations_Run_Run_1623326650/MC/runs/\n"
   ]
  }
 ],
 "metadata": {
  "interpreter": {
   "hash": "20f7963641347b5b0f89ee34a62aa3cbfa3478e5b0bceec5777dd19f814e2f1a"
  },
  "kernelspec": {
   "display_name": "Python 3.7.7 64-bit (conda)",
   "name": "python3"
  },
  "language_info": {
   "codemirror_mode": {
    "name": "ipython",
    "version": 3
   },
   "file_extension": ".py",
   "mimetype": "text/x-python",
   "name": "python",
   "nbconvert_exporter": "python",
   "pygments_lexer": "ipython3",
   "version": "3.7.7"
  }
 },
 "nbformat": 4,
 "nbformat_minor": 4
}
