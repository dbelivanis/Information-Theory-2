{
 "metadata": {
  "language_info": {
   "codemirror_mode": {
    "name": "ipython",
    "version": 3
   },
   "file_extension": ".py",
   "mimetype": "text/x-python",
   "name": "python",
   "nbconvert_exporter": "python",
   "pygments_lexer": "ipython3",
   "version": "3.8.5-final"
  },
  "orig_nbformat": 2,
  "kernelspec": {
   "name": "julia-1.4",
   "display_name": "Julia 1.4.1",
   "language": "julia"
  }
 },
 "nbformat": 4,
 "nbformat_minor": 2,
 "cells": [
  {
   "cell_type": "code",
   "execution_count": 1,
   "metadata": {},
   "outputs": [
    {
     "output_type": "stream",
     "name": "stderr",
     "text": [
      "WARNING: using param.param in module aux_functions conflicts with an existing identifier.\nWARNING: could not import HDF5.HDF5Group into _hdf5_implementation\nWARNING: could not import HDF5.HDF5Dataset into _hdf5_implementation\n┌ Warning: Error requiring `HDF5` from `Plots`\n│   exception = (LoadError(\"/home/dimitrios/.julia/packages/Plots/uCh2y/src/backends/hdf5.jl\", 162, UndefVarError(:HDF5Group)), Union{Ptr{Nothing}, Base.InterpreterIP}[Ptr{Nothing} @0x00007f9e66d2a843, Ptr{Nothing} @0x00007f9e66db717c, Ptr{Nothing} @0x00007f9e66db773b, Ptr{Nothing} @0x00007f9e66db7389, Ptr{Nothing} @0x00007f9e66db78f0, Ptr{Nothing} @0x00007f9e66db89c8, Ptr{Nothing} @0x00007f9e66db9616, Base.InterpreterIP in top-level CodeInfo for Plots._hdf5_implementation at statement 4, Ptr{Nothing} @0x00007f9e66dd1e08, Ptr{Nothing} @0x00007f9e66dd278e, Ptr{Nothing} @0x00007f9e66dd213a, Ptr{Nothing} @0x00007f9e66dd23c8, Ptr{Nothing} @0x00007f9e66dad105, Ptr{Nothing} @0x00007f9e66dd315d, Ptr{Nothing} @0x00007f9e5906efa1, Ptr{Nothing} @0x00007f9e1fe03c6c, Ptr{Nothing} @0x00007f9e66db775b, Ptr{Nothing} @0x00007f9e66db7389, Ptr{Nothing} @0x00007f9e66db78f0, Ptr{Nothing} @0x00007f9e66db89c8, Ptr{Nothing} @0x00007f9e66db9616, Base.InterpreterIP in top-level CodeInfo for Plots at statement 10, Ptr{Nothing} @0x00007f9e66dd1e08, Ptr{Nothing} @0x00007f9e66dd2f20, Ptr{Nothing} @0x00007f9e1fdf0791, Ptr{Nothing} @0x00007f9e1fdf07bc, Ptr{Nothing} @0x00007f9e1fdf0214, Ptr{Nothing} @0x00007f9e1fdeff97, Ptr{Nothing} @0x00007f9e1fdeffac, Ptr{Nothing} @0x00007f9e1fdefe02, Ptr{Nothing} @0x00007f9e1fdef795, Ptr{Nothing} @0x00007f9e1fdef7bc, Ptr{Nothing} @0x00007f9e1fdddd85, Ptr{Nothing} @0x00007f9e1fdde408, Ptr{Nothing} @0x00007f9e1fddec8c, Ptr{Nothing} @0x00007f9e66dd14d1, Ptr{Nothing} @0x00007f9e66dc8bfc, Ptr{Nothing} @0x00007f9e52e009de, Ptr{Nothing} @0x00007f9e52e02522, Ptr{Nothing} @0x00007f9e52e0717b, Ptr{Nothing} @0x00007f9e52e09334, Ptr{Nothing} @0x00007f9e52df5a52, Ptr{Nothing} @0x00007f9e66dd1113, Ptr{Nothing} @0x00007f9e66dd2266, Ptr{Nothing} @0x00007f9e66dd278e, Ptr{Nothing} @0x00007f9e66dd213a, Ptr{Nothing} @0x00007f9e66dad105, Ptr{Nothing} @0x00007f9e66dd315d, Ptr{Nothing} @0x00007f9e591f623b, Ptr{Nothing} @0x00007f9e66db775b, Ptr{Nothing} @0x00007f9e66db7389, Ptr{Nothing} @0x00007f9e66db78f0, Ptr{Nothing} @0x00007f9e66db89c8, Ptr{Nothing} @0x00007f9e66db9616, Base.InterpreterIP in top-level CodeInfo for Main at statement 0, Ptr{Nothing} @0x00007f9e66dd1e08, Ptr{Nothing} @0x00007f9e66dd23c8, Ptr{Nothing} @0x00007f9e66dd2f20, Ptr{Nothing} @0x00007f9e52d98036, Ptr{Nothing} @0x00007f9e52d93d5e, Ptr{Nothing} @0x00007f9e66dafdf8, Ptr{Nothing} @0x00007f9e66db0565, Ptr{Nothing} @0x00007f9e52d867c2, Ptr{Nothing} @0x00007f9e52d8699e, Ptr{Nothing} @0x00007f9e52d869bc, Ptr{Nothing} @0x00007f9e66dbccbb, Ptr{Nothing} @0x0000000000000000])\n└ @ Requires /home/dimitrios/.julia/packages/Requires/035xH/src/require.jl:44\n"
     ]
    }
   ],
   "source": [
    "include(\"./param.jl\");\n",
    "include(\"./aux_functions.jl\");"
   ]
  },
  {
   "cell_type": "code",
   "execution_count": 2,
   "metadata": {},
   "outputs": [],
   "source": [
    "using Main.aux_functions\n",
    "using Main.param"
   ]
  },
  {
   "cell_type": "code",
   "execution_count": 9,
   "metadata": {},
   "outputs": [],
   "source": [
    "using ADCME\n",
    "using SparseArrays\n",
    "\n",
    "using DelimitedFiles\n",
    "using Dates\n",
    "using Plots"
   ]
  },
  {
   "cell_type": "code",
   "execution_count": null,
   "metadata": {},
   "outputs": [],
   "source": [
    "Dates.format(now(), \"HH:MM\") "
   ]
  },
  {
   "cell_type": "code",
   "execution_count": 3,
   "metadata": {},
   "outputs": [],
   "source": [
    "param_model_val = param_model();\n",
    "tf_variables, h_t, q_t_x, q_t_y = Darcy_flow_solver(param_model_val);"
   ]
  },
  {
   "source": [
    "loss, opt_ADAM, opt_LFGS, opt_ADAM_sum, opt_LFGS_sum, diff_eval,p_pre_soft_max, p = Info_upscale(tf_variables,param_model_val,q_t_x, q_t_y)"
   ],
   "cell_type": "code",
   "metadata": {},
   "execution_count": 4,
   "outputs": [
    {
     "output_type": "stream",
     "name": "stdout",
     "text": [
      "2.7023538147856286e-5/home/dimitrios/.julia/adcme/lib/python3.7/site-packages/tensorflow_core/python/framework/indexed_slices.py:424: UserWarning: Converting sparse IndexedSlices to a dense Tensor of unknown shape. This may consume a large amount of memory.\n",
      "  \"Converting sparse IndexedSlices to a dense Tensor of unknown shape. \"\n",
      "/home/dimitrios/.julia/adcme/lib/python3.7/site-packages/tensorflow_core/python/framework/indexed_slices.py:424: UserWarning: Converting sparse IndexedSlices to a dense Tensor of unknown shape. This may consume a large amount of memory.\n",
      "  \"Converting sparse IndexedSlices to a dense Tensor of unknown shape. \"\n",
      "/home/dimitrios/.julia/adcme/lib/python3.7/site-packages/tensorflow_core/python/framework/indexed_slices.py:424: UserWarning: Converting sparse IndexedSlices to a dense Tensor of unknown shape. This may consume a large amount of memory.\n",
      "  \"Converting sparse IndexedSlices to a dense Tensor of unknown shape. \"\n",
      "/home/dimitrios/.julia/adcme/lib/python3.7/site-packages/tensorflow_core/python/framework/indexed_slices.py:424: UserWarning: Converting sparse IndexedSlices to a dense Tensor of unknown shape. This may consume a large amount of memory.\n",
      "  \"Converting sparse IndexedSlices to a dense Tensor of unknown shape. \"\n"
     ]
    },
    {
     "output_type": "execute_result",
     "data": {
      "text/plain": [
       "(PyObject <tf.Tensor 'add_72:0' shape=() dtype=float64>, PyObject <tf.Operation 'Adam' type=NoOp>, PyObject <tensorflow.contrib.opt.python.training.external_optimizer.ScipyOptimizerInterface object at 0x7f9d7236afd0>, PyObject <tf.Operation 'Adam_1' type=NoOp>, PyObject <tensorflow.contrib.opt.python.training.external_optimizer.ScipyOptimizerInterface object at 0x7f9d6ec3ae10>, PyObject <tf.Tensor 'Max_1:0' shape=() dtype=float64>, PyObject <tf.Variable 'Variable_3:0' shape=(1, 64) dtype=float64_ref>, PyObject <tf.Tensor 'Softmax:0' shape=(1, 64) dtype=float64>)"
      ]
     },
     "metadata": {},
     "execution_count": 4
    }
   ]
  },
  {
   "cell_type": "code",
   "execution_count": 10,
   "metadata": {},
   "outputs": [
    {
     "output_type": "stream",
     "name": "stderr",
     "text": [
      "2021-05-13 02:40:53.476507: I tensorflow/core/platform/cpu_feature_guard.cc:142] Your CPU supports instructions that this TensorFlow binary was not compiled to use: SSE4.1 SSE4.2 AVX AVX2 FMA\n",
      "2021-05-13 02:40:53.524950: I tensorflow/core/platform/profile_utils/cpu_utils.cc:94] CPU Frequency: 2599990000 Hz\n",
      "2021-05-13 02:40:53.525445: I tensorflow/compiler/xla/service/service.cc:168] XLA service 0x55f4ab3aad70 initialized for platform Host (this does not guarantee that XLA will be used). Devices:\n",
      "2021-05-13 02:40:53.525748: I tensorflow/compiler/xla/service/service.cc:176]   StreamExecutor device (0): Host, Default Version\n",
      "2021-05-13 02:40:53.528059: I tensorflow/stream_executor/platform/default/dso_loader.cc:44] Successfully opened dynamic library libcuda.so.1\n",
      "2021-05-13 02:40:53.617434: I tensorflow/stream_executor/cuda/cuda_gpu_executor.cc:983] successful NUMA node read from SysFS had negative value (-1), but there must be at least one NUMA node, so returning NUMA node zero\n",
      "2021-05-13 02:40:53.617777: I tensorflow/compiler/xla/service/service.cc:168] XLA service 0x55f4a9a75d80 initialized for platform CUDA (this does not guarantee that XLA will be used). Devices:\n",
      "2021-05-13 02:40:53.617792: I tensorflow/compiler/xla/service/service.cc:176]   StreamExecutor device (0): GeForce GTX 1650, Compute Capability 7.5\n",
      "2021-05-13 02:40:53.618182: I tensorflow/stream_executor/cuda/cuda_gpu_executor.cc:983] successful NUMA node read from SysFS had negative value (-1), but there must be at least one NUMA node, so returning NUMA node zero\n",
      "2021-05-13 02:40:53.618418: I tensorflow/core/common_runtime/gpu/gpu_device.cc:1618] Found device 0 with properties: \n",
      "name: GeForce GTX 1650 major: 7 minor: 5 memoryClockRate(GHz): 1.56\n",
      "pciBusID: 0000:01:00.0\n",
      "2021-05-13 02:40:53.619534: I tensorflow/stream_executor/platform/default/dso_loader.cc:44] Successfully opened dynamic library libcudart.so.10.0\n",
      "2021-05-13 02:40:53.649445: I tensorflow/stream_executor/platform/default/dso_loader.cc:44] Successfully opened dynamic library libcublas.so.10.0\n",
      "2021-05-13 02:40:53.663917: I tensorflow/stream_executor/platform/default/dso_loader.cc:44] Successfully opened dynamic library libcufft.so.10.0\n",
      "2021-05-13 02:40:53.668262: I tensorflow/stream_executor/platform/default/dso_loader.cc:44] Successfully opened dynamic library libcurand.so.10.0\n",
      "2021-05-13 02:40:53.702473: I tensorflow/stream_executor/platform/default/dso_loader.cc:44] Successfully opened dynamic library libcusolver.so.10.0\n",
      "2021-05-13 02:40:53.723552: I tensorflow/stream_executor/platform/default/dso_loader.cc:44] Successfully opened dynamic library libcusparse.so.10.0\n",
      "2021-05-13 02:40:53.781286: I tensorflow/stream_executor/platform/default/dso_loader.cc:44] Successfully opened dynamic library libcudnn.so.7\n",
      "2021-05-13 02:40:53.781439: I tensorflow/stream_executor/cuda/cuda_gpu_executor.cc:983] successful NUMA node read from SysFS had negative value (-1), but there must be at least one NUMA node, so returning NUMA node zero\n",
      "2021-05-13 02:40:53.782114: I tensorflow/stream_executor/cuda/cuda_gpu_executor.cc:983] successful NUMA node read from SysFS had negative value (-1), but there must be at least one NUMA node, so returning NUMA node zero\n",
      "2021-05-13 02:40:53.782684: I tensorflow/core/common_runtime/gpu/gpu_device.cc:1746] Adding visible gpu devices: 0\n",
      "2021-05-13 02:40:53.783067: I tensorflow/stream_executor/platform/default/dso_loader.cc:44] Successfully opened dynamic library libcudart.so.10.0\n",
      "2021-05-13 02:40:53.783929: I tensorflow/core/common_runtime/gpu/gpu_device.cc:1159] Device interconnect StreamExecutor with strength 1 edge matrix:\n",
      "2021-05-13 02:40:53.783943: I tensorflow/core/common_runtime/gpu/gpu_device.cc:1165]      0 \n",
      "2021-05-13 02:40:53.783949: I tensorflow/core/common_runtime/gpu/gpu_device.cc:1178] 0:   N \n",
      "2021-05-13 02:40:53.784389: I tensorflow/stream_executor/cuda/cuda_gpu_executor.cc:983] successful NUMA node read from SysFS had negative value (-1), but there must be at least one NUMA node, so returning NUMA node zero\n",
      "2021-05-13 02:40:53.784845: I tensorflow/stream_executor/cuda/cuda_gpu_executor.cc:983] successful NUMA node read from SysFS had negative value (-1), but there must be at least one NUMA node, so returning NUMA node zero\n",
      "2021-05-13 02:40:53.785322: I tensorflow/core/common_runtime/gpu/gpu_device.cc:1304] Created TensorFlow device (/job:localhost/replica:0/task:0/device:GPU:0 with 2899 MB memory) -> physical GPU (device: 0, name: GeForce GTX 1650, pci bus id: 0000:01:00.0, compute capability: 7.5)\n",
      "WARNING: both Plots and ADCME export \"cvec\"; uses of it in module Main must be qualified\n"
     ]
    }
   ],
   "source": [
    "sess = Session(); init(sess);\n"
   ]
  },
  {
   "cell_type": "code",
   "execution_count": null,
   "metadata": {},
   "outputs": [],
   "source": [
    "N_k_dis_ = 4\n",
    "T_exp = -2\n",
    "T_=  10.0 .^ -T_exp\n"
   ]
  },
  {
   "cell_type": "code",
   "execution_count": 13,
   "metadata": {},
   "outputs": [
    {
     "output_type": "execute_result",
     "data": {
      "text/plain": [
       "9-element Array{Array{Float64,3},1}:\n",
       " [1.4264917863036221e-5 1.4264442484274042e-5 … 1.4264525159756567e-5 1.4264752242287933e-5; 1.2924739466796388e-5 1.2924562159209376e-5 … 1.2924619992597018e-5 1.2924514701772936e-5; … ; 1.1710902442144673e-5 1.1711162245828936e-5 … 1.1711240047828405e-5 1.1710991135331737e-5; 1.1711090899174483e-5 1.1710980437865812e-5 … 1.171105752751462e-5 1.1710808362866531e-5]\n",
       " [1.4264917862655522e-5 1.426444248408031e-5 … 1.4264525159690878e-5 1.4264752242226083e-5; 1.2396515386806074e-5 1.239634636346658e-5 … 1.2396401494758512e-5 1.2396301123338246e-5; … ; 1.1375931534649718e-5 1.1376182912380283e-5 … 1.137625819106289e-5 1.1376017349947812e-5; 1.1376113880121998e-5 1.1376007000013134e-5 … 1.1376081588939954e-5 1.1375840506784515e-5]\n",
       " [1.4264917862274825e-5 1.4264442483886575e-5 … 1.4264525159625189e-5 1.4264752242164234e-5; 1.2156696183207217e-5 1.2156530890616677e-5 … 1.2156584805036877e-5 1.2156486649070478e-5; … ; 1.1215105692614674e-5 1.1215353099767551e-5 … 1.1215427189305287e-5 1.1215190151754504e-5; 1.1215285158057139e-5 1.121517996559089e-5 … 1.12152533760582e-5 1.1215016102633577e-5]\n",
       " [1.302563898745014e-5 1.3025204591890528e-5 … 1.3025280139559082e-5 1.3025487644794966e-5; 1.1818897526253989e-5 1.1818736471699058e-5 … 1.1818789003641953e-5 1.181869336453794e-5; … ; 1.0999875762239097e-5 1.1000118651239182e-5 … 1.1000191387865391e-5 1.099995868000026e-5; 1.1000051949834684e-5 1.0999948679377525e-5 … 1.100002074969361e-5 1.0999787808337088e-5]\n",
       " [1.3025638986927735e-5 1.3025204591624681e-5 … 1.3025280139468943e-5 1.3025487644710095e-5; 1.1826079149271657e-5 1.1825918086872504e-5 … 1.1825970621469875e-5 1.1825874977533216e-5; … ; 1.0999875762144274e-5 1.1000118651117214e-5 … 1.1000191387709427e-5 1.0999958680013166e-5; 1.1000051949851806e-5 1.0999948679371848e-5 … 1.1000020749704683e-5 1.0999787808113554e-5]\n",
       " [1.3025638986405327e-5 1.3025204591358835e-5 … 1.3025280139378803e-5 1.3025487644625223e-5; 1.1830261806444214e-5 1.1830100737270319e-5 … 1.1830153274085873e-5 1.1830057626065597e-5; … ; 1.0999875762069938e-5 1.1000118651057158e-5 … 1.1000191387633207e-5 1.099995867999684e-5; 1.1000051949868364e-5 1.0999948679322058e-5 … 1.1000020749668698e-5 1.0999787807979277e-5]\n",
       " [1.1786360111013815e-5 1.1785966699074334e-5 … 1.1786035119214893e-5 1.1786223047163869e-5; 1.0713055585446387e-5 1.0712910784880774e-5 … 1.0712958015273035e-5 1.0712872028144195e-5; … ; 1.0288849082265921e-5 1.02890750564603e-5 … 1.028914272786526e-5 1.0288926224727973e-5; 1.028901300055635e-5 1.0288916920913871e-5 … 1.0288983971933669e-5 1.028876725365025e-5]\n",
       " [1.1786360110633118e-5 1.1785966698880602e-5 … 1.1786035119149205e-5 1.178622304710202e-5; 1.1255642912016757e-5 1.1255489809368303e-5 … 1.125553974770768e-5 1.1255448830476955e-5; … ; 1.0623819989596995e-5 1.062405438980454e-5 … 1.0624124584288251e-5 1.0623900010083151e-5; 1.0623990019579746e-5 1.0623890358742398e-5 … 1.0623959910491952e-5 1.062373510932454e-5]\n",
       " [1.1786360110252399e-5 1.1785966698686845e-5 … 1.1786035119083496e-5 1.178622304704015e-5; 1.150382743017598e-5 1.150367058251619e-5 … 1.1503721742409113e-5 1.1503628601140888e-5; … ; 1.0784645831589593e-5 1.0784884202407026e-5 … 1.0784955585808169e-5 1.0784727208333106e-5; 1.0784818741589053e-5 1.0784717393205352e-5 … 1.0784788123345904e-5 1.0784559513315108e-5]"
      ]
     },
     "metadata": {},
     "execution_count": 13
    }
   ],
   "source": [
    "check = run(sess,q_t_x)"
   ]
  },
  {
   "cell_type": "code",
   "execution_count": 14,
   "metadata": {},
   "outputs": [
    {
     "output_type": "execute_result",
     "data": {
      "image/svg+xml": "<?xml version=\"1.0\" encoding=\"utf-8\"?>\n<svg xmlns=\"http://www.w3.org/2000/svg\" xmlns:xlink=\"http://www.w3.org/1999/xlink\" width=\"600\" height=\"400\" viewBox=\"0 0 2400 1600\">\n<defs>\n  <clipPath id=\"clip200\">\n    <rect x=\"0\" y=\"0\" width=\"2400\" height=\"1600\"/>\n  </clipPath>\n</defs>\n<path clip-path=\"url(#clip200)\" d=\"\nM0 1600 L2400 1600 L2400 0 L0 0  Z\n  \" fill=\"#ffffff\" fill-rule=\"evenodd\" fill-opacity=\"1\"/>\n<defs>\n  <clipPath id=\"clip201\">\n    <rect x=\"480\" y=\"0\" width=\"1681\" height=\"1600\"/>\n  </clipPath>\n</defs>\n<path clip-path=\"url(#clip200)\" d=\"\nM302.196 1486.45 L2352.76 1486.45 L2352.76 47.2441 L302.196 47.2441  Z\n  \" fill=\"#ffffff\" fill-rule=\"evenodd\" fill-opacity=\"1\"/>\n<defs>\n  <clipPath id=\"clip202\">\n    <rect x=\"302\" y=\"47\" width=\"2052\" height=\"1440\"/>\n  </clipPath>\n</defs>\n<polyline clip-path=\"url(#clip202)\" style=\"stroke:#000000; stroke-width:2; stroke-opacity:0.1; fill:none\" points=\"\n  340.691,1486.45 340.691,47.2441 \n  \"/>\n<polyline clip-path=\"url(#clip202)\" style=\"stroke:#000000; stroke-width:2; stroke-opacity:0.1; fill:none\" points=\"\n  829.198,1486.45 829.198,47.2441 \n  \"/>\n<polyline clip-path=\"url(#clip202)\" style=\"stroke:#000000; stroke-width:2; stroke-opacity:0.1; fill:none\" points=\"\n  1317.71,1486.45 1317.71,47.2441 \n  \"/>\n<polyline clip-path=\"url(#clip202)\" style=\"stroke:#000000; stroke-width:2; stroke-opacity:0.1; fill:none\" points=\"\n  1806.21,1486.45 1806.21,47.2441 \n  \"/>\n<polyline clip-path=\"url(#clip202)\" style=\"stroke:#000000; stroke-width:2; stroke-opacity:0.1; fill:none\" points=\"\n  2294.72,1486.45 2294.72,47.2441 \n  \"/>\n<polyline clip-path=\"url(#clip200)\" style=\"stroke:#000000; stroke-width:4; stroke-opacity:1; fill:none\" points=\"\n  302.196,1486.45 2352.76,1486.45 \n  \"/>\n<polyline clip-path=\"url(#clip200)\" style=\"stroke:#000000; stroke-width:4; stroke-opacity:1; fill:none\" points=\"\n  340.691,1486.45 340.691,1469.18 \n  \"/>\n<polyline clip-path=\"url(#clip200)\" style=\"stroke:#000000; stroke-width:4; stroke-opacity:1; fill:none\" points=\"\n  829.198,1486.45 829.198,1469.18 \n  \"/>\n<polyline clip-path=\"url(#clip200)\" style=\"stroke:#000000; stroke-width:4; stroke-opacity:1; fill:none\" points=\"\n  1317.71,1486.45 1317.71,1469.18 \n  \"/>\n<polyline clip-path=\"url(#clip200)\" style=\"stroke:#000000; stroke-width:4; stroke-opacity:1; fill:none\" points=\"\n  1806.21,1486.45 1806.21,1469.18 \n  \"/>\n<polyline clip-path=\"url(#clip200)\" style=\"stroke:#000000; stroke-width:4; stroke-opacity:1; fill:none\" points=\"\n  2294.72,1486.45 2294.72,1469.18 \n  \"/>\n<path clip-path=\"url(#clip200)\" d=\"M 0 0 M340.691 1515.64 Q337.08 1515.64 335.251 1519.2 Q333.445 1522.75 333.445 1529.87 Q333.445 1536.98 335.251 1540.55 Q337.08 1544.09 340.691 1544.09 Q344.325 1544.09 346.131 1540.55 Q347.959 1536.98 347.959 1529.87 Q347.959 1522.75 346.131 1519.2 Q344.325 1515.64 340.691 1515.64 M340.691 1511.93 Q346.501 1511.93 349.557 1516.54 Q352.635 1521.12 352.635 1529.87 Q352.635 1538.6 349.557 1543.21 Q346.501 1547.79 340.691 1547.79 Q334.881 1547.79 331.802 1543.21 Q328.746 1538.6 328.746 1529.87 Q328.746 1521.12 331.802 1516.54 Q334.881 1511.93 340.691 1511.93 Z\" fill=\"#000000\" fill-rule=\"evenodd\" fill-opacity=\"1\" /><path clip-path=\"url(#clip200)\" d=\"M 0 0 M810.842 1543.18 L827.161 1543.18 L827.161 1547.12 L805.217 1547.12 L805.217 1543.18 Q807.879 1540.43 812.462 1535.8 Q817.069 1531.15 818.249 1529.81 Q820.495 1527.28 821.374 1525.55 Q822.277 1523.79 822.277 1522.1 Q822.277 1519.34 820.333 1517.61 Q818.411 1515.87 815.31 1515.87 Q813.111 1515.87 810.657 1516.63 Q808.226 1517.4 805.449 1518.95 L805.449 1514.23 Q808.273 1513.09 810.726 1512.51 Q813.18 1511.93 815.217 1511.93 Q820.587 1511.93 823.782 1514.62 Q826.976 1517.31 826.976 1521.8 Q826.976 1523.93 826.166 1525.85 Q825.379 1527.74 823.273 1530.34 Q822.694 1531.01 819.592 1534.23 Q816.49 1537.42 810.842 1543.18 Z\" fill=\"#000000\" fill-rule=\"evenodd\" fill-opacity=\"1\" /><path clip-path=\"url(#clip200)\" d=\"M 0 0 M832.277 1512.56 L850.633 1512.56 L850.633 1516.5 L836.559 1516.5 L836.559 1524.97 Q837.578 1524.62 838.597 1524.46 Q839.615 1524.27 840.634 1524.27 Q846.421 1524.27 849.8 1527.44 Q853.18 1530.62 853.18 1536.03 Q853.18 1541.61 849.708 1544.71 Q846.235 1547.79 839.916 1547.79 Q837.74 1547.79 835.472 1547.42 Q833.226 1547.05 830.819 1546.31 L830.819 1541.61 Q832.902 1542.74 835.124 1543.3 Q837.347 1543.86 839.823 1543.86 Q843.828 1543.86 846.166 1541.75 Q848.504 1539.64 848.504 1536.03 Q848.504 1532.42 846.166 1530.31 Q843.828 1528.21 839.823 1528.21 Q837.948 1528.21 836.073 1528.62 Q834.222 1529.04 832.277 1529.92 L832.277 1512.56 Z\" fill=\"#000000\" fill-rule=\"evenodd\" fill-opacity=\"1\" /><path clip-path=\"url(#clip200)\" d=\"M 0 0 M1294.48 1512.56 L1312.83 1512.56 L1312.83 1516.5 L1298.76 1516.5 L1298.76 1524.97 Q1299.78 1524.62 1300.8 1524.46 Q1301.81 1524.27 1302.83 1524.27 Q1308.62 1524.27 1312 1527.44 Q1315.38 1530.62 1315.38 1536.03 Q1315.38 1541.61 1311.91 1544.71 Q1308.44 1547.79 1302.12 1547.79 Q1299.94 1547.79 1297.67 1547.42 Q1295.43 1547.05 1293.02 1546.31 L1293.02 1541.61 Q1295.1 1542.74 1297.32 1543.3 Q1299.55 1543.86 1302.02 1543.86 Q1306.03 1543.86 1308.37 1541.75 Q1310.7 1539.64 1310.7 1536.03 Q1310.7 1532.42 1308.37 1530.31 Q1306.03 1528.21 1302.02 1528.21 Q1300.15 1528.21 1298.27 1528.62 Q1296.42 1529.04 1294.48 1529.92 L1294.48 1512.56 Z\" fill=\"#000000\" fill-rule=\"evenodd\" fill-opacity=\"1\" /><path clip-path=\"url(#clip200)\" d=\"M 0 0 M1330.45 1515.64 Q1326.84 1515.64 1325.01 1519.2 Q1323.2 1522.75 1323.2 1529.87 Q1323.2 1536.98 1325.01 1540.55 Q1326.84 1544.09 1330.45 1544.09 Q1334.08 1544.09 1335.89 1540.55 Q1337.72 1536.98 1337.72 1529.87 Q1337.72 1522.75 1335.89 1519.2 Q1334.08 1515.64 1330.45 1515.64 M1330.45 1511.93 Q1336.26 1511.93 1339.31 1516.54 Q1342.39 1521.12 1342.39 1529.87 Q1342.39 1538.6 1339.31 1543.21 Q1336.26 1547.79 1330.45 1547.79 Q1324.64 1547.79 1321.56 1543.21 Q1318.5 1538.6 1318.5 1529.87 Q1318.5 1521.12 1321.56 1516.54 Q1324.64 1511.93 1330.45 1511.93 Z\" fill=\"#000000\" fill-rule=\"evenodd\" fill-opacity=\"1\" /><path clip-path=\"url(#clip200)\" d=\"M 0 0 M1782.09 1512.56 L1804.32 1512.56 L1804.32 1514.55 L1791.77 1547.12 L1786.89 1547.12 L1798.69 1516.5 L1782.09 1516.5 L1782.09 1512.56 Z\" fill=\"#000000\" fill-rule=\"evenodd\" fill-opacity=\"1\" /><path clip-path=\"url(#clip200)\" d=\"M 0 0 M1809.43 1512.56 L1827.79 1512.56 L1827.79 1516.5 L1813.71 1516.5 L1813.71 1524.97 Q1814.73 1524.62 1815.75 1524.46 Q1816.77 1524.27 1817.79 1524.27 Q1823.57 1524.27 1826.95 1527.44 Q1830.33 1530.62 1830.33 1536.03 Q1830.33 1541.61 1826.86 1544.71 Q1823.39 1547.79 1817.07 1547.79 Q1814.89 1547.79 1812.63 1547.42 Q1810.38 1547.05 1807.97 1546.31 L1807.97 1541.61 Q1810.06 1542.74 1812.28 1543.3 Q1814.5 1543.86 1816.98 1543.86 Q1820.98 1543.86 1823.32 1541.75 Q1825.66 1539.64 1825.66 1536.03 Q1825.66 1532.42 1823.32 1530.31 Q1820.98 1528.21 1816.98 1528.21 Q1815.1 1528.21 1813.23 1528.62 Q1811.38 1529.04 1809.43 1529.92 L1809.43 1512.56 Z\" fill=\"#000000\" fill-rule=\"evenodd\" fill-opacity=\"1\" /><path clip-path=\"url(#clip200)\" d=\"M 0 0 M2258.09 1543.18 L2265.73 1543.18 L2265.73 1516.82 L2257.42 1518.49 L2257.42 1514.23 L2265.68 1512.56 L2270.36 1512.56 L2270.36 1543.18 L2278 1543.18 L2278 1547.12 L2258.09 1547.12 L2258.09 1543.18 Z\" fill=\"#000000\" fill-rule=\"evenodd\" fill-opacity=\"1\" /><path clip-path=\"url(#clip200)\" d=\"M 0 0 M2293.07 1515.64 Q2289.46 1515.64 2287.63 1519.2 Q2285.82 1522.75 2285.82 1529.87 Q2285.82 1536.98 2287.63 1540.55 Q2289.46 1544.09 2293.07 1544.09 Q2296.7 1544.09 2298.51 1540.55 Q2300.33 1536.98 2300.33 1529.87 Q2300.33 1522.75 2298.51 1519.2 Q2296.7 1515.64 2293.07 1515.64 M2293.07 1511.93 Q2298.88 1511.93 2301.93 1516.54 Q2305.01 1521.12 2305.01 1529.87 Q2305.01 1538.6 2301.93 1543.21 Q2298.88 1547.79 2293.07 1547.79 Q2287.26 1547.79 2284.18 1543.21 Q2281.12 1538.6 2281.12 1529.87 Q2281.12 1521.12 2284.18 1516.54 Q2287.26 1511.93 2293.07 1511.93 Z\" fill=\"#000000\" fill-rule=\"evenodd\" fill-opacity=\"1\" /><path clip-path=\"url(#clip200)\" d=\"M 0 0 M2320.08 1515.64 Q2316.47 1515.64 2314.64 1519.2 Q2312.83 1522.75 2312.83 1529.87 Q2312.83 1536.98 2314.64 1540.55 Q2316.47 1544.09 2320.08 1544.09 Q2323.71 1544.09 2325.52 1540.55 Q2327.35 1536.98 2327.35 1529.87 Q2327.35 1522.75 2325.52 1519.2 Q2323.71 1515.64 2320.08 1515.64 M2320.08 1511.93 Q2325.89 1511.93 2328.95 1516.54 Q2332.02 1521.12 2332.02 1529.87 Q2332.02 1538.6 2328.95 1543.21 Q2325.89 1547.79 2320.08 1547.79 Q2314.27 1547.79 2311.19 1543.21 Q2308.14 1538.6 2308.14 1529.87 Q2308.14 1521.12 2311.19 1516.54 Q2314.27 1511.93 2320.08 1511.93 Z\" fill=\"#000000\" fill-rule=\"evenodd\" fill-opacity=\"1\" /><polyline clip-path=\"url(#clip202)\" style=\"stroke:#000000; stroke-width:2; stroke-opacity:0.1; fill:none\" points=\"\n  302.196,1445.57 2352.76,1445.57 \n  \"/>\n<polyline clip-path=\"url(#clip202)\" style=\"stroke:#000000; stroke-width:2; stroke-opacity:0.1; fill:none\" points=\"\n  302.196,1110.47 2352.76,1110.47 \n  \"/>\n<polyline clip-path=\"url(#clip202)\" style=\"stroke:#000000; stroke-width:2; stroke-opacity:0.1; fill:none\" points=\"\n  302.196,775.367 2352.76,775.367 \n  \"/>\n<polyline clip-path=\"url(#clip202)\" style=\"stroke:#000000; stroke-width:2; stroke-opacity:0.1; fill:none\" points=\"\n  302.196,440.263 2352.76,440.263 \n  \"/>\n<polyline clip-path=\"url(#clip202)\" style=\"stroke:#000000; stroke-width:2; stroke-opacity:0.1; fill:none\" points=\"\n  302.196,105.16 2352.76,105.16 \n  \"/>\n<polyline clip-path=\"url(#clip200)\" style=\"stroke:#000000; stroke-width:4; stroke-opacity:1; fill:none\" points=\"\n  302.196,1486.45 302.196,47.2441 \n  \"/>\n<polyline clip-path=\"url(#clip200)\" style=\"stroke:#000000; stroke-width:4; stroke-opacity:1; fill:none\" points=\"\n  302.196,1445.57 326.803,1445.57 \n  \"/>\n<polyline clip-path=\"url(#clip200)\" style=\"stroke:#000000; stroke-width:4; stroke-opacity:1; fill:none\" points=\"\n  302.196,1110.47 326.803,1110.47 \n  \"/>\n<polyline clip-path=\"url(#clip200)\" style=\"stroke:#000000; stroke-width:4; stroke-opacity:1; fill:none\" points=\"\n  302.196,775.367 326.803,775.367 \n  \"/>\n<polyline clip-path=\"url(#clip200)\" style=\"stroke:#000000; stroke-width:4; stroke-opacity:1; fill:none\" points=\"\n  302.196,440.263 326.803,440.263 \n  \"/>\n<polyline clip-path=\"url(#clip200)\" style=\"stroke:#000000; stroke-width:4; stroke-opacity:1; fill:none\" points=\"\n  302.196,105.16 326.803,105.16 \n  \"/>\n<path clip-path=\"url(#clip200)\" d=\"M 0 0 M52.2421 1465.37 L59.881 1465.37 L59.881 1439 L51.5708 1440.67 L51.5708 1436.41 L59.8347 1434.74 L64.5106 1434.74 L64.5106 1465.37 L72.1494 1465.37 L72.1494 1469.3 L52.2421 1469.3 L52.2421 1465.37 Z\" fill=\"#000000\" fill-rule=\"evenodd\" fill-opacity=\"1\" /><path clip-path=\"url(#clip200)\" d=\"M 0 0 M77.2188 1463.42 L82.1031 1463.42 L82.1031 1469.3 L77.2188 1469.3 L77.2188 1463.42 Z\" fill=\"#000000\" fill-rule=\"evenodd\" fill-opacity=\"1\" /><path clip-path=\"url(#clip200)\" d=\"M 0 0 M87.9827 1465.37 L95.6215 1465.37 L95.6215 1439 L87.3114 1440.67 L87.3114 1436.41 L95.5752 1434.74 L100.251 1434.74 L100.251 1465.37 L107.89 1465.37 L107.89 1469.3 L87.9827 1469.3 L87.9827 1465.37 Z\" fill=\"#000000\" fill-rule=\"evenodd\" fill-opacity=\"1\" /><path clip-path=\"url(#clip200)\" d=\"M 0 0 M122.959 1437.82 Q119.348 1437.82 117.52 1441.39 Q115.714 1444.93 115.714 1452.06 Q115.714 1459.16 117.52 1462.73 Q119.348 1466.27 122.959 1466.27 Q126.594 1466.27 128.399 1462.73 Q130.228 1459.16 130.228 1452.06 Q130.228 1444.93 128.399 1441.39 Q126.594 1437.82 122.959 1437.82 M122.959 1434.12 Q128.769 1434.12 131.825 1438.72 Q134.904 1443.31 134.904 1452.06 Q134.904 1460.78 131.825 1465.39 Q128.769 1469.97 122.959 1469.97 Q117.149 1469.97 114.07 1465.39 Q111.015 1460.78 111.015 1452.06 Q111.015 1443.31 114.07 1438.72 Q117.149 1434.12 122.959 1434.12 Z\" fill=\"#000000\" fill-rule=\"evenodd\" fill-opacity=\"1\" /><path clip-path=\"url(#clip200)\" d=\"M 0 0 M168.144 1443.84 L157.566 1454.46 L168.144 1465.04 L165.39 1467.84 L154.765 1457.22 L144.14 1467.84 L141.408 1465.04 L151.964 1454.46 L141.408 1443.84 L144.14 1441.04 L154.765 1451.66 L165.39 1441.04 L168.144 1443.84 Z\" fill=\"#000000\" fill-rule=\"evenodd\" fill-opacity=\"1\" /><path clip-path=\"url(#clip200)\" d=\"M 0 0 M174.024 1465.37 L181.663 1465.37 L181.663 1439 L173.353 1440.67 L173.353 1436.41 L181.616 1434.74 L186.292 1434.74 L186.292 1465.37 L193.931 1465.37 L193.931 1469.3 L174.024 1469.3 L174.024 1465.37 Z\" fill=\"#000000\" fill-rule=\"evenodd\" fill-opacity=\"1\" /><path clip-path=\"url(#clip200)\" d=\"M 0 0 M209.001 1437.82 Q205.389 1437.82 203.561 1441.39 Q201.755 1444.93 201.755 1452.06 Q201.755 1459.16 203.561 1462.73 Q205.389 1466.27 209.001 1466.27 Q212.635 1466.27 214.44 1462.73 Q216.269 1459.16 216.269 1452.06 Q216.269 1444.93 214.44 1441.39 Q212.635 1437.82 209.001 1437.82 M209.001 1434.12 Q214.811 1434.12 217.866 1438.72 Q220.945 1443.31 220.945 1452.06 Q220.945 1460.78 217.866 1465.39 Q214.811 1469.97 209.001 1469.97 Q203.19 1469.97 200.112 1465.39 Q197.056 1460.78 197.056 1452.06 Q197.056 1443.31 200.112 1438.72 Q203.19 1434.12 209.001 1434.12 Z\" fill=\"#000000\" fill-rule=\"evenodd\" fill-opacity=\"1\" /><path clip-path=\"url(#clip200)\" d=\"M 0 0 M220.945 1428.22 L245.056 1428.22 L245.056 1431.42 L220.945 1431.42 L220.945 1428.22 Z\" fill=\"#000000\" fill-rule=\"evenodd\" fill-opacity=\"1\" /><path clip-path=\"url(#clip200)\" d=\"M 0 0 M249.213 1413.81 L264.128 1413.81 L264.128 1417.01 L252.692 1417.01 L252.692 1423.89 Q253.52 1423.61 254.348 1423.48 Q255.175 1423.33 256.003 1423.33 Q260.705 1423.33 263.45 1425.9 Q266.196 1428.48 266.196 1432.88 Q266.196 1437.42 263.375 1439.94 Q260.554 1442.44 255.42 1442.44 Q253.652 1442.44 251.808 1442.14 Q249.984 1441.84 248.028 1441.23 L248.028 1437.42 Q249.721 1438.34 251.526 1438.79 Q253.332 1439.24 255.344 1439.24 Q258.598 1439.24 260.498 1437.53 Q262.397 1435.82 262.397 1432.88 Q262.397 1429.95 260.498 1428.24 Q258.598 1426.53 255.344 1426.53 Q253.821 1426.53 252.297 1426.86 Q250.793 1427.2 249.213 1427.92 L249.213 1413.81 Z\" fill=\"#000000\" fill-rule=\"evenodd\" fill-opacity=\"1\" /><path clip-path=\"url(#clip200)\" d=\"M 0 0 M53.2375 1130.26 L60.8763 1130.26 L60.8763 1103.9 L52.5662 1105.56 L52.5662 1101.3 L60.83 1099.64 L65.5059 1099.64 L65.5059 1130.26 L73.1448 1130.26 L73.1448 1134.2 L53.2375 1134.2 L53.2375 1130.26 Z\" fill=\"#000000\" fill-rule=\"evenodd\" fill-opacity=\"1\" /><path clip-path=\"url(#clip200)\" d=\"M 0 0 M78.2142 1128.32 L83.0984 1128.32 L83.0984 1134.2 L78.2142 1134.2 L78.2142 1128.32 Z\" fill=\"#000000\" fill-rule=\"evenodd\" fill-opacity=\"1\" /><path clip-path=\"url(#clip200)\" d=\"M 0 0 M88.978 1130.26 L96.6169 1130.26 L96.6169 1103.9 L88.3067 1105.56 L88.3067 1101.3 L96.5706 1099.64 L101.246 1099.64 L101.246 1130.26 L108.885 1130.26 L108.885 1134.2 L88.978 1134.2 L88.978 1130.26 Z\" fill=\"#000000\" fill-rule=\"evenodd\" fill-opacity=\"1\" /><path clip-path=\"url(#clip200)\" d=\"M 0 0 M114.001 1099.64 L132.357 1099.64 L132.357 1103.57 L118.283 1103.57 L118.283 1112.05 Q119.302 1111.7 120.32 1111.54 Q121.339 1111.35 122.357 1111.35 Q128.144 1111.35 131.524 1114.52 Q134.904 1117.69 134.904 1123.11 Q134.904 1128.69 131.432 1131.79 Q127.959 1134.87 121.64 1134.87 Q119.464 1134.87 117.195 1134.5 Q114.95 1134.13 112.543 1133.39 L112.543 1128.69 Q114.626 1129.82 116.848 1130.38 Q119.07 1130.93 121.547 1130.93 Q125.552 1130.93 127.89 1128.83 Q130.228 1126.72 130.228 1123.11 Q130.228 1119.5 127.89 1117.39 Q125.552 1115.29 121.547 1115.29 Q119.672 1115.29 117.797 1115.7 Q115.945 1116.12 114.001 1117 L114.001 1099.64 Z\" fill=\"#000000\" fill-rule=\"evenodd\" fill-opacity=\"1\" /><path clip-path=\"url(#clip200)\" d=\"M 0 0 M168.144 1108.74 L157.566 1119.36 L168.144 1129.94 L165.39 1132.74 L154.765 1122.12 L144.14 1132.74 L141.408 1129.94 L151.964 1119.36 L141.408 1108.74 L144.14 1105.93 L154.765 1116.56 L165.39 1105.93 L168.144 1108.74 Z\" fill=\"#000000\" fill-rule=\"evenodd\" fill-opacity=\"1\" /><path clip-path=\"url(#clip200)\" d=\"M 0 0 M174.024 1130.26 L181.663 1130.26 L181.663 1103.9 L173.353 1105.56 L173.353 1101.3 L181.616 1099.64 L186.292 1099.64 L186.292 1130.26 L193.931 1130.26 L193.931 1134.2 L174.024 1134.2 L174.024 1130.26 Z\" fill=\"#000000\" fill-rule=\"evenodd\" fill-opacity=\"1\" /><path clip-path=\"url(#clip200)\" d=\"M 0 0 M209.001 1102.72 Q205.389 1102.72 203.561 1106.28 Q201.755 1109.82 201.755 1116.95 Q201.755 1124.06 203.561 1127.62 Q205.389 1131.17 209.001 1131.17 Q212.635 1131.17 214.44 1127.62 Q216.269 1124.06 216.269 1116.95 Q216.269 1109.82 214.44 1106.28 Q212.635 1102.72 209.001 1102.72 M209.001 1099.01 Q214.811 1099.01 217.866 1103.62 Q220.945 1108.2 220.945 1116.95 Q220.945 1125.68 217.866 1130.29 Q214.811 1134.87 209.001 1134.87 Q203.19 1134.87 200.112 1130.29 Q197.056 1125.68 197.056 1116.95 Q197.056 1108.2 200.112 1103.62 Q203.19 1099.01 209.001 1099.01 Z\" fill=\"#000000\" fill-rule=\"evenodd\" fill-opacity=\"1\" /><path clip-path=\"url(#clip200)\" d=\"M 0 0 M220.945 1093.11 L245.056 1093.11 L245.056 1096.31 L220.945 1096.31 L220.945 1093.11 Z\" fill=\"#000000\" fill-rule=\"evenodd\" fill-opacity=\"1\" /><path clip-path=\"url(#clip200)\" d=\"M 0 0 M249.213 1078.71 L264.128 1078.71 L264.128 1081.91 L252.692 1081.91 L252.692 1088.79 Q253.52 1088.51 254.348 1088.38 Q255.175 1088.22 256.003 1088.22 Q260.705 1088.22 263.45 1090.8 Q266.196 1093.38 266.196 1097.78 Q266.196 1102.31 263.375 1104.83 Q260.554 1107.33 255.42 1107.33 Q253.652 1107.33 251.808 1107.03 Q249.984 1106.73 248.028 1106.13 L248.028 1102.31 Q249.721 1103.23 251.526 1103.68 Q253.332 1104.14 255.344 1104.14 Q258.598 1104.14 260.498 1102.42 Q262.397 1100.71 262.397 1097.78 Q262.397 1094.84 260.498 1093.13 Q258.598 1091.42 255.344 1091.42 Q253.821 1091.42 252.297 1091.76 Q250.793 1092.1 249.213 1092.81 L249.213 1078.71 Z\" fill=\"#000000\" fill-rule=\"evenodd\" fill-opacity=\"1\" /><path clip-path=\"url(#clip200)\" d=\"M 0 0 M52.6125 795.159 L60.2513 795.159 L60.2513 768.794 L51.9412 770.461 L51.9412 766.201 L60.205 764.535 L64.8809 764.535 L64.8809 795.159 L72.5198 795.159 L72.5198 799.095 L52.6125 799.095 L52.6125 795.159 Z\" fill=\"#000000\" fill-rule=\"evenodd\" fill-opacity=\"1\" /><path clip-path=\"url(#clip200)\" d=\"M 0 0 M77.5892 793.215 L82.4734 793.215 L82.4734 799.095 L77.5892 799.095 L77.5892 793.215 Z\" fill=\"#000000\" fill-rule=\"evenodd\" fill-opacity=\"1\" /><path clip-path=\"url(#clip200)\" d=\"M 0 0 M91.5706 795.159 L107.89 795.159 L107.89 799.095 L85.9456 799.095 L85.9456 795.159 Q88.6077 792.405 93.191 787.775 Q97.7974 783.122 98.978 781.78 Q101.223 779.257 102.103 777.521 Q103.006 775.761 103.006 774.072 Q103.006 771.317 101.061 769.581 Q99.14 767.845 96.0382 767.845 Q93.8391 767.845 91.3854 768.609 Q88.9549 769.373 86.1771 770.923 L86.1771 766.201 Q89.0012 765.067 91.4549 764.488 Q93.9086 763.91 95.9456 763.91 Q101.316 763.91 104.51 766.595 Q107.705 769.28 107.705 773.771 Q107.705 775.9 106.895 777.822 Q106.108 779.72 104.001 782.312 Q103.422 782.984 100.321 786.201 Q97.2187 789.396 91.5706 795.159 Z\" fill=\"#000000\" fill-rule=\"evenodd\" fill-opacity=\"1\" /><path clip-path=\"url(#clip200)\" d=\"M 0 0 M122.959 767.613 Q119.348 767.613 117.52 771.178 Q115.714 774.72 115.714 781.849 Q115.714 788.956 117.52 792.521 Q119.348 796.062 122.959 796.062 Q126.594 796.062 128.399 792.521 Q130.228 788.956 130.228 781.849 Q130.228 774.72 128.399 771.178 Q126.594 767.613 122.959 767.613 M122.959 763.91 Q128.769 763.91 131.825 768.516 Q134.904 773.099 134.904 781.849 Q134.904 790.576 131.825 795.183 Q128.769 799.766 122.959 799.766 Q117.149 799.766 114.07 795.183 Q111.015 790.576 111.015 781.849 Q111.015 773.099 114.07 768.516 Q117.149 763.91 122.959 763.91 Z\" fill=\"#000000\" fill-rule=\"evenodd\" fill-opacity=\"1\" /><path clip-path=\"url(#clip200)\" d=\"M 0 0 M168.144 773.632 L157.566 784.257 L168.144 794.835 L165.39 797.636 L154.765 787.011 L144.14 797.636 L141.408 794.835 L151.964 784.257 L141.408 773.632 L144.14 770.831 L154.765 781.456 L165.39 770.831 L168.144 773.632 Z\" fill=\"#000000\" fill-rule=\"evenodd\" fill-opacity=\"1\" /><path clip-path=\"url(#clip200)\" d=\"M 0 0 M174.024 795.159 L181.663 795.159 L181.663 768.794 L173.353 770.461 L173.353 766.201 L181.616 764.535 L186.292 764.535 L186.292 795.159 L193.931 795.159 L193.931 799.095 L174.024 799.095 L174.024 795.159 Z\" fill=\"#000000\" fill-rule=\"evenodd\" fill-opacity=\"1\" /><path clip-path=\"url(#clip200)\" d=\"M 0 0 M209.001 767.613 Q205.389 767.613 203.561 771.178 Q201.755 774.72 201.755 781.849 Q201.755 788.956 203.561 792.521 Q205.389 796.062 209.001 796.062 Q212.635 796.062 214.44 792.521 Q216.269 788.956 216.269 781.849 Q216.269 774.72 214.44 771.178 Q212.635 767.613 209.001 767.613 M209.001 763.91 Q214.811 763.91 217.866 768.516 Q220.945 773.099 220.945 781.849 Q220.945 790.576 217.866 795.183 Q214.811 799.766 209.001 799.766 Q203.19 799.766 200.112 795.183 Q197.056 790.576 197.056 781.849 Q197.056 773.099 200.112 768.516 Q203.19 763.91 209.001 763.91 Z\" fill=\"#000000\" fill-rule=\"evenodd\" fill-opacity=\"1\" /><path clip-path=\"url(#clip200)\" d=\"M 0 0 M220.945 758.011 L245.056 758.011 L245.056 761.208 L220.945 761.208 L220.945 758.011 Z\" fill=\"#000000\" fill-rule=\"evenodd\" fill-opacity=\"1\" /><path clip-path=\"url(#clip200)\" d=\"M 0 0 M249.213 743.604 L264.128 743.604 L264.128 746.802 L252.692 746.802 L252.692 753.685 Q253.52 753.403 254.348 753.271 Q255.175 753.121 256.003 753.121 Q260.705 753.121 263.45 755.698 Q266.196 758.274 266.196 762.675 Q266.196 767.208 263.375 769.728 Q260.554 772.23 255.42 772.23 Q253.652 772.23 251.808 771.929 Q249.984 771.628 248.028 771.026 L248.028 767.208 Q249.721 768.13 251.526 768.581 Q253.332 769.032 255.344 769.032 Q258.598 769.032 260.498 767.321 Q262.397 765.609 262.397 762.675 Q262.397 759.741 260.498 758.03 Q258.598 756.318 255.344 756.318 Q253.821 756.318 252.297 756.657 Q250.793 756.995 249.213 757.71 L249.213 743.604 Z\" fill=\"#000000\" fill-rule=\"evenodd\" fill-opacity=\"1\" /><path clip-path=\"url(#clip200)\" d=\"M 0 0 M53.6079 460.056 L61.2467 460.056 L61.2467 433.69 L52.9366 435.357 L52.9366 431.098 L61.2004 429.431 L65.8763 429.431 L65.8763 460.056 L73.5152 460.056 L73.5152 463.991 L53.6079 463.991 L53.6079 460.056 Z\" fill=\"#000000\" fill-rule=\"evenodd\" fill-opacity=\"1\" /><path clip-path=\"url(#clip200)\" d=\"M 0 0 M78.5846 458.111 L83.4688 458.111 L83.4688 463.991 L78.5846 463.991 L78.5846 458.111 Z\" fill=\"#000000\" fill-rule=\"evenodd\" fill-opacity=\"1\" /><path clip-path=\"url(#clip200)\" d=\"M 0 0 M92.566 460.056 L108.885 460.056 L108.885 463.991 L86.941 463.991 L86.941 460.056 Q89.603 457.301 94.1863 452.672 Q98.7928 448.019 99.9733 446.676 Q102.219 444.153 103.098 442.417 Q104.001 440.658 104.001 438.968 Q104.001 436.213 102.057 434.477 Q100.135 432.741 97.0335 432.741 Q94.8345 432.741 92.3808 433.505 Q89.9503 434.269 87.1725 435.82 L87.1725 431.098 Q89.9965 429.963 92.4502 429.385 Q94.9039 428.806 96.941 428.806 Q102.311 428.806 105.506 431.491 Q108.7 434.176 108.7 438.667 Q108.7 440.797 107.89 442.718 Q107.103 444.616 104.996 447.209 Q104.418 447.88 101.316 451.098 Q98.2141 454.292 92.566 460.056 Z\" fill=\"#000000\" fill-rule=\"evenodd\" fill-opacity=\"1\" /><path clip-path=\"url(#clip200)\" d=\"M 0 0 M114.001 429.431 L132.357 429.431 L132.357 433.366 L118.283 433.366 L118.283 441.838 Q119.302 441.491 120.32 441.329 Q121.339 441.144 122.357 441.144 Q128.144 441.144 131.524 444.315 Q134.904 447.486 134.904 452.903 Q134.904 458.482 131.432 461.584 Q127.959 464.662 121.64 464.662 Q119.464 464.662 117.195 464.292 Q114.95 463.922 112.543 463.181 L112.543 458.482 Q114.626 459.616 116.848 460.172 Q119.07 460.727 121.547 460.727 Q125.552 460.727 127.89 458.621 Q130.228 456.514 130.228 452.903 Q130.228 449.292 127.89 447.186 Q125.552 445.079 121.547 445.079 Q119.672 445.079 117.797 445.496 Q115.945 445.912 114.001 446.792 L114.001 429.431 Z\" fill=\"#000000\" fill-rule=\"evenodd\" fill-opacity=\"1\" /><path clip-path=\"url(#clip200)\" d=\"M 0 0 M168.144 438.528 L157.566 449.153 L168.144 459.732 L165.39 462.533 L154.765 451.908 L144.14 462.533 L141.408 459.732 L151.964 449.153 L141.408 438.528 L144.14 435.727 L154.765 446.352 L165.39 435.727 L168.144 438.528 Z\" fill=\"#000000\" fill-rule=\"evenodd\" fill-opacity=\"1\" /><path clip-path=\"url(#clip200)\" d=\"M 0 0 M174.024 460.056 L181.663 460.056 L181.663 433.69 L173.353 435.357 L173.353 431.098 L181.616 429.431 L186.292 429.431 L186.292 460.056 L193.931 460.056 L193.931 463.991 L174.024 463.991 L174.024 460.056 Z\" fill=\"#000000\" fill-rule=\"evenodd\" fill-opacity=\"1\" /><path clip-path=\"url(#clip200)\" d=\"M 0 0 M209.001 432.51 Q205.389 432.51 203.561 436.074 Q201.755 439.616 201.755 446.746 Q201.755 453.852 203.561 457.417 Q205.389 460.959 209.001 460.959 Q212.635 460.959 214.44 457.417 Q216.269 453.852 216.269 446.746 Q216.269 439.616 214.44 436.074 Q212.635 432.51 209.001 432.51 M209.001 428.806 Q214.811 428.806 217.866 433.412 Q220.945 437.996 220.945 446.746 Q220.945 455.472 217.866 460.079 Q214.811 464.662 209.001 464.662 Q203.19 464.662 200.112 460.079 Q197.056 455.472 197.056 446.746 Q197.056 437.996 200.112 433.412 Q203.19 428.806 209.001 428.806 Z\" fill=\"#000000\" fill-rule=\"evenodd\" fill-opacity=\"1\" /><path clip-path=\"url(#clip200)\" d=\"M 0 0 M220.945 422.907 L245.056 422.907 L245.056 426.105 L220.945 426.105 L220.945 422.907 Z\" fill=\"#000000\" fill-rule=\"evenodd\" fill-opacity=\"1\" /><path clip-path=\"url(#clip200)\" d=\"M 0 0 M249.213 408.501 L264.128 408.501 L264.128 411.698 L252.692 411.698 L252.692 418.582 Q253.52 418.299 254.348 418.168 Q255.175 418.017 256.003 418.017 Q260.705 418.017 263.45 420.594 Q266.196 423.171 266.196 427.572 Q266.196 432.104 263.375 434.625 Q260.554 437.126 255.42 437.126 Q253.652 437.126 251.808 436.825 Q249.984 436.524 248.028 435.922 L248.028 432.104 Q249.721 433.026 251.526 433.477 Q253.332 433.929 255.344 433.929 Q258.598 433.929 260.498 432.217 Q262.397 430.506 262.397 427.572 Q262.397 424.638 260.498 422.926 Q258.598 421.215 255.344 421.215 Q253.821 421.215 252.297 421.553 Q250.793 421.892 249.213 422.606 L249.213 408.501 Z\" fill=\"#000000\" fill-rule=\"evenodd\" fill-opacity=\"1\" /><path clip-path=\"url(#clip200)\" d=\"M 0 0 M51.6634 124.952 L59.3023 124.952 L59.3023 98.5866 L50.9921 100.253 L50.9921 95.994 L59.256 94.3273 L63.9319 94.3273 L63.9319 124.952 L71.5707 124.952 L71.5707 128.887 L51.6634 128.887 L51.6634 124.952 Z\" fill=\"#000000\" fill-rule=\"evenodd\" fill-opacity=\"1\" /><path clip-path=\"url(#clip200)\" d=\"M 0 0 M76.6401 123.008 L81.5244 123.008 L81.5244 128.887 L76.6401 128.887 L76.6401 123.008 Z\" fill=\"#000000\" fill-rule=\"evenodd\" fill-opacity=\"1\" /><path clip-path=\"url(#clip200)\" d=\"M 0 0 M100.76 110.253 Q104.117 110.971 105.992 113.239 Q107.89 115.508 107.89 118.841 Q107.89 123.957 104.371 126.758 Q100.853 129.559 94.3715 129.559 Q92.1956 129.559 89.8808 129.119 Q87.5892 128.702 85.1355 127.846 L85.1355 123.332 Q87.0799 124.466 89.3947 125.045 Q91.7095 125.623 94.2326 125.623 Q98.6308 125.623 100.922 123.887 Q103.237 122.151 103.237 118.841 Q103.237 115.786 101.084 114.073 Q98.9548 112.336 95.1354 112.336 L91.1077 112.336 L91.1077 108.494 L95.3206 108.494 Q98.7696 108.494 100.598 107.128 Q102.427 105.739 102.427 103.147 Q102.427 100.485 100.529 99.0727 Q98.6539 97.6375 95.1354 97.6375 Q93.2141 97.6375 91.0151 98.0541 Q88.816 98.4708 86.1771 99.3504 L86.1771 95.1838 Q88.8391 94.4431 91.1539 94.0727 Q93.4919 93.7023 95.5521 93.7023 Q100.876 93.7023 103.978 96.1329 Q107.08 98.5403 107.08 102.661 Q107.08 105.531 105.436 107.522 Q103.793 109.489 100.76 110.253 Z\" fill=\"#000000\" fill-rule=\"evenodd\" fill-opacity=\"1\" /><path clip-path=\"url(#clip200)\" d=\"M 0 0 M122.959 97.406 Q119.348 97.406 117.52 100.971 Q115.714 104.512 115.714 111.642 Q115.714 118.748 117.52 122.313 Q119.348 125.855 122.959 125.855 Q126.594 125.855 128.399 122.313 Q130.228 118.748 130.228 111.642 Q130.228 104.512 128.399 100.971 Q126.594 97.406 122.959 97.406 M122.959 93.7023 Q128.769 93.7023 131.825 98.3088 Q134.904 102.892 134.904 111.642 Q134.904 120.369 131.825 124.975 Q128.769 129.559 122.959 129.559 Q117.149 129.559 114.07 124.975 Q111.015 120.369 111.015 111.642 Q111.015 102.892 114.07 98.3088 Q117.149 93.7023 122.959 93.7023 Z\" fill=\"#000000\" fill-rule=\"evenodd\" fill-opacity=\"1\" /><path clip-path=\"url(#clip200)\" d=\"M 0 0 M168.144 103.424 L157.566 114.049 L168.144 124.628 L165.39 127.429 L154.765 116.804 L144.14 127.429 L141.408 124.628 L151.964 114.049 L141.408 103.424 L144.14 100.624 L154.765 111.249 L165.39 100.624 L168.144 103.424 Z\" fill=\"#000000\" fill-rule=\"evenodd\" fill-opacity=\"1\" /><path clip-path=\"url(#clip200)\" d=\"M 0 0 M174.024 124.952 L181.663 124.952 L181.663 98.5866 L173.353 100.253 L173.353 95.994 L181.616 94.3273 L186.292 94.3273 L186.292 124.952 L193.931 124.952 L193.931 128.887 L174.024 128.887 L174.024 124.952 Z\" fill=\"#000000\" fill-rule=\"evenodd\" fill-opacity=\"1\" /><path clip-path=\"url(#clip200)\" d=\"M 0 0 M209.001 97.406 Q205.389 97.406 203.561 100.971 Q201.755 104.512 201.755 111.642 Q201.755 118.748 203.561 122.313 Q205.389 125.855 209.001 125.855 Q212.635 125.855 214.44 122.313 Q216.269 118.748 216.269 111.642 Q216.269 104.512 214.44 100.971 Q212.635 97.406 209.001 97.406 M209.001 93.7023 Q214.811 93.7023 217.866 98.3088 Q220.945 102.892 220.945 111.642 Q220.945 120.369 217.866 124.975 Q214.811 129.559 209.001 129.559 Q203.19 129.559 200.112 124.975 Q197.056 120.369 197.056 111.642 Q197.056 102.892 200.112 98.3088 Q203.19 93.7023 209.001 93.7023 Z\" fill=\"#000000\" fill-rule=\"evenodd\" fill-opacity=\"1\" /><path clip-path=\"url(#clip200)\" d=\"M 0 0 M220.945 87.8037 L245.056 87.8037 L245.056 91.001 L220.945 91.001 L220.945 87.8037 Z\" fill=\"#000000\" fill-rule=\"evenodd\" fill-opacity=\"1\" /><path clip-path=\"url(#clip200)\" d=\"M 0 0 M249.213 73.3969 L264.128 73.3969 L264.128 76.5942 L252.692 76.5942 L252.692 83.4779 Q253.52 83.1958 254.348 83.0641 Q255.175 82.9136 256.003 82.9136 Q260.705 82.9136 263.45 85.4903 Q266.196 88.067 266.196 92.468 Q266.196 97.0007 263.375 99.5209 Q260.554 102.022 255.42 102.022 Q253.652 102.022 251.808 101.721 Q249.984 101.42 248.028 100.819 L248.028 97.0007 Q249.721 97.9222 251.526 98.3736 Q253.332 98.825 255.344 98.825 Q258.598 98.825 260.498 97.1135 Q262.397 95.402 262.397 92.468 Q262.397 89.534 260.498 87.8225 Q258.598 86.111 255.344 86.111 Q253.821 86.111 252.297 86.4495 Q250.793 86.788 249.213 87.5027 L249.213 73.3969 Z\" fill=\"#000000\" fill-rule=\"evenodd\" fill-opacity=\"1\" /><polyline clip-path=\"url(#clip202)\" style=\"stroke:#009af9; stroke-width:4; stroke-opacity:1; fill:none\" points=\"\n  360.231,87.9763 379.771,891.93 399.312,1220.46 418.852,1354.2 438.392,1408.47 457.933,1430.46 477.473,1439.29 497.013,1443.2 516.554,1444.53 536.094,1445.08 \n  555.634,1445.51 575.174,1445.47 594.715,1445.41 614.255,1445.62 633.795,1445.71 653.336,1445.69 672.876,1445.43 692.416,1445.54 711.957,1445.52 731.497,1445.54 \n  751.037,1445.49 770.577,1445.53 790.118,1445.7 809.658,1445.56 829.198,1445.5 848.739,1445.56 868.279,1445.61 887.819,1445.7 907.36,1445.65 926.9,1445.67 \n  946.44,1445.58 965.981,1445.71 985.521,1445.54 1005.06,1445.47 1024.6,1445.48 1044.14,1445.43 1063.68,1445.51 1083.22,1445.66 1102.76,1445.63 1122.3,1445.68 \n  1141.84,1445.56 1161.38,1445.48 1180.92,1445.49 1200.46,1445.44 1220,1445.55 1239.54,1445.47 1259.09,1445.54 1278.63,1445.52 1298.17,1445.56 1317.71,1445.51 \n  1337.25,1445.66 1356.79,1445.62 1376.33,1445.49 1395.87,1445.59 1415.41,1445.45 1434.95,1445.49 1454.49,1445.62 1474.03,1445.72 1493.57,1445.69 1513.11,1445.43 \n  1532.65,1445.47 1552.19,1445.48 1571.73,1445.52 1591.27,1445.61 1610.81,1445.47 1630.35,1445.59 1649.89,1445.71 1669.43,1445.59 1688.97,1445.47 1708.51,1445.59 \n  1728.05,1445.47 1747.59,1445.52 1767.13,1445.69 1786.67,1445.59 1806.21,1445.64 1825.75,1445.44 1845.29,1445.67 1864.83,1445.59 1884.37,1445.49 1903.92,1445.58 \n  1923.46,1445.54 1943,1445.63 1962.54,1445.62 1982.08,1445.53 2001.62,1445.68 2021.16,1445.54 2040.7,1445.49 2060.24,1445.58 2079.78,1445.55 2099.32,1445.53 \n  2118.86,1445.67 2138.4,1445.7 2157.94,1445.65 2177.48,1445.61 2197.02,1445.58 2216.56,1445.49 2236.1,1445.71 2255.64,1445.58 2275.18,1445.66 2294.72,1445.54 \n  \n  \"/>\n<path clip-path=\"url(#clip200)\" d=\"\nM2005.55 216.178 L2284.4 216.178 L2284.4 95.2176 L2005.55 95.2176  Z\n  \" fill=\"#ffffff\" fill-rule=\"evenodd\" fill-opacity=\"1\"/>\n<polyline clip-path=\"url(#clip200)\" style=\"stroke:#000000; stroke-width:4; stroke-opacity:1; fill:none\" points=\"\n  2005.55,216.178 2284.4,216.178 2284.4,95.2176 2005.55,95.2176 2005.55,216.178 \n  \"/>\n<polyline clip-path=\"url(#clip200)\" style=\"stroke:#009af9; stroke-width:4; stroke-opacity:1; fill:none\" points=\"\n  2028.33,155.698 2165.03,155.698 \n  \"/>\n<path clip-path=\"url(#clip200)\" d=\"M 0 0 M2201.66 175.385 Q2199.85 180.015 2198.14 181.427 Q2196.43 182.839 2193.56 182.839 L2190.16 182.839 L2190.16 179.274 L2192.66 179.274 Q2194.41 179.274 2195.39 178.44 Q2196.36 177.607 2197.54 174.505 L2198.3 172.561 L2187.82 147.052 L2192.33 147.052 L2200.43 167.329 L2208.54 147.052 L2213.05 147.052 L2201.66 175.385 Z\" fill=\"#000000\" fill-rule=\"evenodd\" fill-opacity=\"1\" /><path clip-path=\"url(#clip200)\" d=\"M 0 0 M2218.93 169.042 L2226.57 169.042 L2226.57 142.677 L2218.26 144.343 L2218.26 140.084 L2226.52 138.418 L2231.2 138.418 L2231.2 169.042 L2238.84 169.042 L2238.84 172.978 L2218.93 172.978 L2218.93 169.042 Z\" fill=\"#000000\" fill-rule=\"evenodd\" fill-opacity=\"1\" /></svg>\n"
     },
     "metadata": {},
     "execution_count": 14
    }
   ],
   "source": [
    "plot(check[5][:,1,1])"
   ]
  },
  {
   "cell_type": "code",
   "execution_count": 10,
   "metadata": {},
   "outputs": [],
   "source": []
  },
  {
   "cell_type": "code",
   "execution_count": 8,
   "metadata": {},
   "outputs": [
    {
     "output_type": "stream",
     "name": "stdout",
     "text": [
      "-2\t100.0\t0.009649301956094317\t5.763548660295008\t\t4\n",
      "-2\t100.0\t0.0044934808496536124\t7.693269095329374\t\t4\n"
     ]
    },
    {
     "output_type": "execute_result",
     "data": {
      "text/plain": [
       "0.0044934808496536124"
      ]
     },
     "metadata": {},
     "execution_count": 8
    }
   ],
   "source": [
    "save_values(sess,param_model_val,tf_variables,q_t_x, q_t_y,p,\"w\")\n",
    "\n",
    "print_status(sess,loss,diff_eval,T_exp,T_,N_k_dis_,tf_variables)\n",
    "ScipyOptimizerMinimize(sess, opt_LFGS_sum,feed_dict = Dict(tf_variables.lambda => ones(1)*T_,tf_variables.N_k_dis=>8))\n",
    "print_status(sess,loss,diff_eval,T_exp,T_,N_k_dis_,tf_variables)\n",
    "\n",
    "check_diff = run(sess,diff_eval,feed_dict = Dict(tf_variables.lambda => ones(1)*T_,tf_variables.N_k_dis=>N_k_dis_))"
   ]
  },
  {
   "cell_type": "code",
   "execution_count": null,
   "metadata": {},
   "outputs": [],
   "source": []
  },
  {
   "cell_type": "code",
   "execution_count": 9,
   "metadata": {},
   "outputs": [
    {
     "output_type": "execute_result",
     "data": {
      "text/plain": [
       "0"
      ]
     },
     "metadata": {},
     "execution_count": 9
    }
   ],
   "source": [
    "  T_exp_final =0\n",
    "\n",
    "\n"
   ]
  },
  {
   "cell_type": "code",
   "execution_count": 10,
   "metadata": {},
   "outputs": [
    {
     "output_type": "stream",
     "name": "stdout",
     "text": [
      "-2\t100.0\t0.0044934808496536124\t7.693269095329374\t\t4\n-2"
     ]
    }
   ],
   "source": [
    "\n",
    "while T_exp <= T_exp_final\n",
    "\n",
    "    T_=  10.0 ^ (-T_exp) \n",
    "\n",
    "    print_status(sess,loss,diff_eval,T_exp,T_,N_k_dis_,tf_variables)\n",
    "    check_diff_ = run(sess,diff_eval,feed_dict = Dict(tf_variables.lambda => ones(1)*T_,tf_variables.N_k_dis=>N_k_dis_))  \n",
    "    print_status(sess,loss,diff_eval,T_exp,T_,N_k_dis_,tf_variables)\n",
    "    ScipyOptimizerMinimize(sess, opt_LFGS,feed_dict = Dict(tf_variables.lambda => ones(1)*T_,tf_variables.N_k_dis=>N_k_dis_))\n",
    "    print_status(sess,loss,diff_eval,T_exp,T_,N_k_dis_,tf_variables)\n",
    "    if round(T_exp,digits=2)%1 == 0\n",
    "\n",
    "        save_values(sess,param_model_val,tf_variables,q_t_x, q_t_y,p)\n",
    "        check_diff_ = run(sess,diff_eval,feed_dict = Dict(tf_variables.lambda => ones(1)*T_,tf_variables.N_k_dis=>N_k_dis_))  \n",
    "        N_k_dis_ = update_K_p(sess,param_model_val,tf_variables,check_diff_,N_k_dis_,p_pre_soft_max)\n",
    "\n",
    "    end\n",
    "\n",
    "\n",
    "    T_exp += 0.1\n",
    "end\n"
   ]
  }
 ]
}