{
 "metadata": {
  "language_info": {
   "codemirror_mode": {
    "name": "ipython",
    "version": 3
   },
   "file_extension": ".py",
   "mimetype": "text/x-python",
   "name": "python",
   "nbconvert_exporter": "python",
   "pygments_lexer": "ipython3",
   "version": "3.8.10"
  },
  "orig_nbformat": 2,
  "kernelspec": {
   "name": "python3810jvsc74a57bd04b52351028b39e813c82a08b1f92f8b08c926f93d8b7c782ac06736618b2486c",
   "display_name": "Python 3.8.10 64-bit ('PythonSoftwareFoundation.Python.3.8_qbz5n2kfra8p0')"
  },
  "metadata": {
   "interpreter": {
    "hash": "4b52351028b39e813c82a08b1f92f8b08c926f93d8b7c782ac06736618b2486c"
   }
  }
 },
 "nbformat": 4,
 "nbformat_minor": 2,
 "cells": [
  {
   "cell_type": "code",
   "execution_count": 1,
   "metadata": {},
   "outputs": [],
   "source": [
    "N_steps_list = [5,10,20,50]"
   ]
  },
  {
   "cell_type": "code",
   "execution_count": 2,
   "metadata": {},
   "outputs": [],
   "source": [
    "for N_steps in N_steps_list:\n",
    "\n",
    "    filename = f\"run_N_steps_{N_steps}.sh\"\n",
    "    f = open(filename, \"w\")\n",
    "    f.write(f\"\"\"#!/bin/bash\n",
    "#SBATCH --job-name dbelivan_ADCME_init_200\n",
    "#SBATCH --ntasks=1\n",
    "#SBATCH --gres=gpu:v100:1\n",
    "#SBATCH --partition=gpu\n",
    "#SBATCH --mem=64GB\n",
    "#SBATCH --time=48:00:00\n",
    "#SBATCH --error=/home/dbelivan/research/check_core_200_N_steps_{N_steps}_lbfg.err\n",
    "#SBATCH --output=/home/dbelivan/research/check_core_200_N_steps_{N_steps}_lbfg.out\n",
    "#\n",
    "#\n",
    "echo \"start script\"\n",
    "module --ignore-cache load \"cuda/cuda-10.1\"\n",
    "nvcc --version\n",
    "#\n",
    "#\n",
    "cd Optimization\n",
    "/home/dbelivan/julia-1.5.3/bin/julia core_2.jl 200 {N_steps}\n",
    "#\n",
    "echo \"check end of script\"\n",
    "# end script\"\"\")\n",
    "    f.close()"
   ]
  },
  {
   "cell_type": "code",
   "execution_count": null,
   "metadata": {},
   "outputs": [],
   "source": []
  }
 ]
}