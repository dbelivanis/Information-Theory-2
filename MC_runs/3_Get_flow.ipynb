{
 "cells": [
  {
   "source": [
    "### Libraries"
   ],
   "cell_type": "markdown",
   "metadata": {}
  },
  {
   "cell_type": "code",
   "execution_count": 1,
   "metadata": {},
   "outputs": [],
   "source": [
    "import matplotlib.pyplot as plt\n",
    "from scipy import stats\n",
    "import numpy as np\n",
    "import pandas as pd\n",
    "import time\n",
    "from tqdm.notebook import tnrange, tqdm\n",
    "import os"
   ]
  },
  {
   "source": [
    "### Inputs parameters"
   ],
   "cell_type": "markdown",
   "metadata": {}
  },
  {
   "cell_type": "code",
   "execution_count": 2,
   "metadata": {},
   "outputs": [],
   "source": [
    "Ntsteps = 1800\n",
    "Ninterfaces = 63\n",
    "Nx = 64\n",
    "Ny = Nx\n",
    "Nr = 100\n",
    "L = 1.\n",
    "dx = L/Nx\n",
    "dy = dx"
   ]
  },
  {
   "cell_type": "code",
   "execution_count": 3,
   "metadata": {},
   "outputs": [],
   "source": [
    "# run_name = 'Run_no_zero_flow_Run_1610993549'./../../MC_runs/Run_no_zero_flow_no_oscilations_Run_Run_1620834677/MC/runs/\n",
    "folder_name = './../../MC_runs/Run_no_zero_flow_no_oscilations_Run_Run_1620834677/MC/runs/'"
   ]
  },
  {
   "source": [
    "### Create aux variables"
   ],
   "cell_type": "markdown",
   "metadata": {}
  },
  {
   "cell_type": "code",
   "execution_count": 4,
   "metadata": {},
   "outputs": [],
   "source": [
    "k=np.zeros(Nx*Ny)\n",
    "qcell = np.zeros((Ny,Ntsteps))\n",
    "q_x = np.zeros((Nr,Ntsteps))\n",
    "q_y = np.zeros((Nr,Ntsteps))\n",
    "\n",
    "HMC = np.zeros((Nr+2,Nx,Ntsteps))"
   ]
  },
  {
   "cell_type": "code",
   "execution_count": 5,
   "metadata": {},
   "outputs": [],
   "source": [
    "def harm_2(a,b):\n",
    "    \n",
    "    harm = 1/a+1/b\n",
    "    harm = 2/harm\n",
    "    \n",
    "    return harm"
   ]
  },
  {
   "cell_type": "code",
   "execution_count": 6,
   "metadata": {},
   "outputs": [
    {
     "output_type": "display_data",
     "data": {
      "text/plain": "  0%|          | 0/100 [00:00<?, ?it/s]",
      "application/vnd.jupyter.widget-view+json": {
       "version_major": 2,
       "version_minor": 0,
       "model_id": "a7759f84322343389afe0a5524f27a2a"
      }
     },
     "metadata": {}
    }
   ],
   "source": [
    "q_tot_x = list()\n",
    "q_tot_y = list()\n",
    "\n",
    "for ir in tnrange(1,101):\n",
    "#     print(ir)\n",
    "    #     time.sleep(10)\n",
    "    f = open(f'./{folder_name}/{ir}/6_months_run.hed')\n",
    "    f_k = open(f'./{folder_name}/{ir}/karray_1.0.txt')\n",
    "\n",
    "    hmc = np.loadtxt(f)\n",
    "    K = np.loadtxt(f_k)\n",
    "\n",
    "    P = hmc.reshape((Ntsteps,64,64))\n",
    "    K = K.reshape((64,64)) \n",
    "\n",
    "    dP_x_u = P[:,15:3*16:16, 15:3*16:16] - P[:,15:3*16:16, 15+1:3*16+1:16]\n",
    "    k_x_u = harm_2(K[15:3*16:16,15:3*16:16],K[15:3*16:16,15+1:3*16+1:16])\n",
    "\n",
    "    dP_x_d = P[:,15+1:4*16:16, 15:3*16:16] - P[:,15+1:4*16:16, 15+1:3*16+1:16]\n",
    "    k_x_d = harm_2(K[15+1:4*16:16,15:3*16:16],K[15+1:4*16:16,15+1:3*16+1:16])\n",
    "\n",
    "\n",
    "    q_x = (dP_x_u*k_x_u+dP_x_d*k_x_d)/(2*dx)\n",
    "\n",
    "\n",
    "\n",
    "\n",
    "\n",
    "    dP_y_l = P[:,15:3*16:16, 15:3*16:16] - P[:,15+1:3*16+1:16, 15:3*16:16]\n",
    "    k_y_l = harm_2(K[15:3*16:16,15:3*16:16],K[15+1:3*16+1:16,15:3*16:16])\n",
    "\n",
    "    dP_y_r = P[:,15:3*16:16, 15+1:3*16+1:16] - P[:,15+1:4*16:16, 15+1:3*16+1:16]\n",
    "    k_y_r = harm_2(K[15:3*16:16,15+1:3*16+1:16],K[15+1:4*16:16,15+1:3*16+1:16])\n",
    "\n",
    "\n",
    "    q_y = (dP_y_l*k_y_l+dP_y_r*k_y_r)/(2*dx)\n",
    "\n",
    "    q_tot_x.append(q_x)\n",
    "    q_tot_y.append(q_y)\n"
   ]
  },
  {
   "source": [
    "### Save parameters"
   ],
   "cell_type": "markdown",
   "metadata": {}
  },
  {
   "cell_type": "code",
   "execution_count": 7,
   "metadata": {},
   "outputs": [],
   "source": [
    "q_x_list = np.reshape(np.array(q_tot_x),(100,1800,9))\n",
    "q_y_list = np.reshape(np.array(q_tot_y),(100,1800,9))"
   ]
  },
  {
   "cell_type": "code",
   "execution_count": 8,
   "metadata": {},
   "outputs": [],
   "source": [
    "os.mkdir(f'./{folder_name}/../flow')"
   ]
  },
  {
   "cell_type": "code",
   "execution_count": 9,
   "metadata": {},
   "outputs": [],
   "source": [
    "for i in range(0,9):\n",
    "    \n",
    "    np.savetxt(f'./{folder_name}/../flow/Q_x_{i+1}.txt',q_x_list[:,:,i])"
   ]
  },
  {
   "cell_type": "code",
   "execution_count": 10,
   "metadata": {},
   "outputs": [],
   "source": [
    "for i in range(0,9):\n",
    "    \n",
    "    np.savetxt(f'./{folder_name}/../flow/Q_y_{i+1}.txt',q_y_list[:,:,i])"
   ]
  },
  {
   "cell_type": "code",
   "execution_count": 11,
   "metadata": {},
   "outputs": [],
   "source": [
    "\n",
    "\n",
    "# np.savetxt(f'./{folder_name}/exitq_x_check.txt',np.reshape(np.array(q_tot_x),(1,-1)))\n",
    "# np.savetxt(f'./{folder_name}/exitq_y_check.txt',np.reshape(np.array(q_tot_y),(1,-1)))"
   ]
  },
  {
   "cell_type": "code",
   "execution_count": 13,
   "metadata": {},
   "outputs": [
    {
     "output_type": "execute_result",
     "data": {
      "text/plain": [
       "'./../../MC_runs/Run_no_zero_flow_no_oscilations_Run_Run_1620834677/MC/runs/'"
      ]
     },
     "metadata": {},
     "execution_count": 13
    }
   ],
   "source": [
    "folder_name"
   ]
  },
  {
   "cell_type": "code",
   "execution_count": 19,
   "metadata": {},
   "outputs": [
    {
     "output_type": "execute_result",
     "data": {
      "text/plain": [
       "[<matplotlib.lines.Line2D at 0x1acd07dca08>]"
      ]
     },
     "metadata": {},
     "execution_count": 19
    },
    {
     "output_type": "display_data",
     "data": {
      "text/plain": "<Figure size 432x288 with 1 Axes>",
      "image/svg+xml": "<?xml version=\"1.0\" encoding=\"utf-8\" standalone=\"no\"?>\r\n<!DOCTYPE svg PUBLIC \"-//W3C//DTD SVG 1.1//EN\"\r\n  \"http://www.w3.org/Graphics/SVG/1.1/DTD/svg11.dtd\">\r\n<!-- Created with matplotlib (https://matplotlib.org/) -->\r\n<svg height=\"259.116562pt\" version=\"1.1\" viewBox=\"0 0 372.103125 259.116562\" width=\"372.103125pt\" xmlns=\"http://www.w3.org/2000/svg\" xmlns:xlink=\"http://www.w3.org/1999/xlink\">\r\n <defs>\r\n  <style type=\"text/css\">\r\n*{stroke-linecap:butt;stroke-linejoin:round;}\r\n  </style>\r\n </defs>\r\n <g id=\"figure_1\">\r\n  <g id=\"patch_1\">\r\n   <path d=\"M 0 259.116562 \r\nL 372.103125 259.116562 \r\nL 372.103125 0 \r\nL 0 0 \r\nz\r\n\" style=\"fill:none;\"/>\r\n  </g>\r\n  <g id=\"axes_1\">\r\n   <g id=\"patch_2\">\r\n    <path d=\"M 30.103125 235.238437 \r\nL 364.903125 235.238437 \r\nL 364.903125 17.798437 \r\nL 30.103125 17.798437 \r\nz\r\n\" style=\"fill:#ffffff;\"/>\r\n   </g>\r\n   <g id=\"matplotlib.axis_1\">\r\n    <g id=\"xtick_1\">\r\n     <g id=\"line2d_1\">\r\n      <defs>\r\n       <path d=\"M 0 0 \r\nL 0 3.5 \r\n\" id=\"m2ecd37c5f9\" style=\"stroke:#000000;stroke-width:0.8;\"/>\r\n      </defs>\r\n      <g>\r\n       <use style=\"stroke:#000000;stroke-width:0.8;\" x=\"45.321307\" xlink:href=\"#m2ecd37c5f9\" y=\"235.238437\"/>\r\n      </g>\r\n     </g>\r\n     <g id=\"text_1\">\r\n      <!-- 0 -->\r\n      <defs>\r\n       <path d=\"M 31.78125 66.40625 \r\nQ 24.171875 66.40625 20.328125 58.90625 \r\nQ 16.5 51.421875 16.5 36.375 \r\nQ 16.5 21.390625 20.328125 13.890625 \r\nQ 24.171875 6.390625 31.78125 6.390625 \r\nQ 39.453125 6.390625 43.28125 13.890625 \r\nQ 47.125 21.390625 47.125 36.375 \r\nQ 47.125 51.421875 43.28125 58.90625 \r\nQ 39.453125 66.40625 31.78125 66.40625 \r\nz\r\nM 31.78125 74.21875 \r\nQ 44.046875 74.21875 50.515625 64.515625 \r\nQ 56.984375 54.828125 56.984375 36.375 \r\nQ 56.984375 17.96875 50.515625 8.265625 \r\nQ 44.046875 -1.421875 31.78125 -1.421875 \r\nQ 19.53125 -1.421875 13.0625 8.265625 \r\nQ 6.59375 17.96875 6.59375 36.375 \r\nQ 6.59375 54.828125 13.0625 64.515625 \r\nQ 19.53125 74.21875 31.78125 74.21875 \r\nz\r\n\" id=\"DejaVuSans-48\"/>\r\n      </defs>\r\n      <g transform=\"translate(42.140057 249.836875)scale(0.1 -0.1)\">\r\n       <use xlink:href=\"#DejaVuSans-48\"/>\r\n      </g>\r\n     </g>\r\n    </g>\r\n    <g id=\"xtick_2\">\r\n     <g id=\"line2d_2\">\r\n      <g>\r\n       <use style=\"stroke:#000000;stroke-width:0.8;\" x=\"87.617532\" xlink:href=\"#m2ecd37c5f9\" y=\"235.238437\"/>\r\n      </g>\r\n     </g>\r\n     <g id=\"text_2\">\r\n      <!-- 250 -->\r\n      <defs>\r\n       <path d=\"M 19.1875 8.296875 \r\nL 53.609375 8.296875 \r\nL 53.609375 0 \r\nL 7.328125 0 \r\nL 7.328125 8.296875 \r\nQ 12.9375 14.109375 22.625 23.890625 \r\nQ 32.328125 33.6875 34.8125 36.53125 \r\nQ 39.546875 41.84375 41.421875 45.53125 \r\nQ 43.3125 49.21875 43.3125 52.78125 \r\nQ 43.3125 58.59375 39.234375 62.25 \r\nQ 35.15625 65.921875 28.609375 65.921875 \r\nQ 23.96875 65.921875 18.8125 64.3125 \r\nQ 13.671875 62.703125 7.8125 59.421875 \r\nL 7.8125 69.390625 \r\nQ 13.765625 71.78125 18.9375 73 \r\nQ 24.125 74.21875 28.421875 74.21875 \r\nQ 39.75 74.21875 46.484375 68.546875 \r\nQ 53.21875 62.890625 53.21875 53.421875 \r\nQ 53.21875 48.921875 51.53125 44.890625 \r\nQ 49.859375 40.875 45.40625 35.40625 \r\nQ 44.1875 33.984375 37.640625 27.21875 \r\nQ 31.109375 20.453125 19.1875 8.296875 \r\nz\r\n\" id=\"DejaVuSans-50\"/>\r\n       <path d=\"M 10.796875 72.90625 \r\nL 49.515625 72.90625 \r\nL 49.515625 64.59375 \r\nL 19.828125 64.59375 \r\nL 19.828125 46.734375 \r\nQ 21.96875 47.46875 24.109375 47.828125 \r\nQ 26.265625 48.1875 28.421875 48.1875 \r\nQ 40.625 48.1875 47.75 41.5 \r\nQ 54.890625 34.8125 54.890625 23.390625 \r\nQ 54.890625 11.625 47.5625 5.09375 \r\nQ 40.234375 -1.421875 26.90625 -1.421875 \r\nQ 22.3125 -1.421875 17.546875 -0.640625 \r\nQ 12.796875 0.140625 7.71875 1.703125 \r\nL 7.71875 11.625 \r\nQ 12.109375 9.234375 16.796875 8.0625 \r\nQ 21.484375 6.890625 26.703125 6.890625 \r\nQ 35.15625 6.890625 40.078125 11.328125 \r\nQ 45.015625 15.765625 45.015625 23.390625 \r\nQ 45.015625 31 40.078125 35.4375 \r\nQ 35.15625 39.890625 26.703125 39.890625 \r\nQ 22.75 39.890625 18.8125 39.015625 \r\nQ 14.890625 38.140625 10.796875 36.28125 \r\nz\r\n\" id=\"DejaVuSans-53\"/>\r\n      </defs>\r\n      <g transform=\"translate(78.073782 249.836875)scale(0.1 -0.1)\">\r\n       <use xlink:href=\"#DejaVuSans-50\"/>\r\n       <use x=\"63.623047\" xlink:href=\"#DejaVuSans-53\"/>\r\n       <use x=\"127.246094\" xlink:href=\"#DejaVuSans-48\"/>\r\n      </g>\r\n     </g>\r\n    </g>\r\n    <g id=\"xtick_3\">\r\n     <g id=\"line2d_3\">\r\n      <g>\r\n       <use style=\"stroke:#000000;stroke-width:0.8;\" x=\"129.913757\" xlink:href=\"#m2ecd37c5f9\" y=\"235.238437\"/>\r\n      </g>\r\n     </g>\r\n     <g id=\"text_3\">\r\n      <!-- 500 -->\r\n      <g transform=\"translate(120.370007 249.836875)scale(0.1 -0.1)\">\r\n       <use xlink:href=\"#DejaVuSans-53\"/>\r\n       <use x=\"63.623047\" xlink:href=\"#DejaVuSans-48\"/>\r\n       <use x=\"127.246094\" xlink:href=\"#DejaVuSans-48\"/>\r\n      </g>\r\n     </g>\r\n    </g>\r\n    <g id=\"xtick_4\">\r\n     <g id=\"line2d_4\">\r\n      <g>\r\n       <use style=\"stroke:#000000;stroke-width:0.8;\" x=\"172.209982\" xlink:href=\"#m2ecd37c5f9\" y=\"235.238437\"/>\r\n      </g>\r\n     </g>\r\n     <g id=\"text_4\">\r\n      <!-- 750 -->\r\n      <defs>\r\n       <path d=\"M 8.203125 72.90625 \r\nL 55.078125 72.90625 \r\nL 55.078125 68.703125 \r\nL 28.609375 0 \r\nL 18.3125 0 \r\nL 43.21875 64.59375 \r\nL 8.203125 64.59375 \r\nz\r\n\" id=\"DejaVuSans-55\"/>\r\n      </defs>\r\n      <g transform=\"translate(162.666232 249.836875)scale(0.1 -0.1)\">\r\n       <use xlink:href=\"#DejaVuSans-55\"/>\r\n       <use x=\"63.623047\" xlink:href=\"#DejaVuSans-53\"/>\r\n       <use x=\"127.246094\" xlink:href=\"#DejaVuSans-48\"/>\r\n      </g>\r\n     </g>\r\n    </g>\r\n    <g id=\"xtick_5\">\r\n     <g id=\"line2d_5\">\r\n      <g>\r\n       <use style=\"stroke:#000000;stroke-width:0.8;\" x=\"214.506208\" xlink:href=\"#m2ecd37c5f9\" y=\"235.238437\"/>\r\n      </g>\r\n     </g>\r\n     <g id=\"text_5\">\r\n      <!-- 1000 -->\r\n      <defs>\r\n       <path d=\"M 12.40625 8.296875 \r\nL 28.515625 8.296875 \r\nL 28.515625 63.921875 \r\nL 10.984375 60.40625 \r\nL 10.984375 69.390625 \r\nL 28.421875 72.90625 \r\nL 38.28125 72.90625 \r\nL 38.28125 8.296875 \r\nL 54.390625 8.296875 \r\nL 54.390625 0 \r\nL 12.40625 0 \r\nz\r\n\" id=\"DejaVuSans-49\"/>\r\n      </defs>\r\n      <g transform=\"translate(201.781208 249.836875)scale(0.1 -0.1)\">\r\n       <use xlink:href=\"#DejaVuSans-49\"/>\r\n       <use x=\"63.623047\" xlink:href=\"#DejaVuSans-48\"/>\r\n       <use x=\"127.246094\" xlink:href=\"#DejaVuSans-48\"/>\r\n       <use x=\"190.869141\" xlink:href=\"#DejaVuSans-48\"/>\r\n      </g>\r\n     </g>\r\n    </g>\r\n    <g id=\"xtick_6\">\r\n     <g id=\"line2d_6\">\r\n      <g>\r\n       <use style=\"stroke:#000000;stroke-width:0.8;\" x=\"256.802433\" xlink:href=\"#m2ecd37c5f9\" y=\"235.238437\"/>\r\n      </g>\r\n     </g>\r\n     <g id=\"text_6\">\r\n      <!-- 1250 -->\r\n      <g transform=\"translate(244.077433 249.836875)scale(0.1 -0.1)\">\r\n       <use xlink:href=\"#DejaVuSans-49\"/>\r\n       <use x=\"63.623047\" xlink:href=\"#DejaVuSans-50\"/>\r\n       <use x=\"127.246094\" xlink:href=\"#DejaVuSans-53\"/>\r\n       <use x=\"190.869141\" xlink:href=\"#DejaVuSans-48\"/>\r\n      </g>\r\n     </g>\r\n    </g>\r\n    <g id=\"xtick_7\">\r\n     <g id=\"line2d_7\">\r\n      <g>\r\n       <use style=\"stroke:#000000;stroke-width:0.8;\" x=\"299.098658\" xlink:href=\"#m2ecd37c5f9\" y=\"235.238437\"/>\r\n      </g>\r\n     </g>\r\n     <g id=\"text_7\">\r\n      <!-- 1500 -->\r\n      <g transform=\"translate(286.373658 249.836875)scale(0.1 -0.1)\">\r\n       <use xlink:href=\"#DejaVuSans-49\"/>\r\n       <use x=\"63.623047\" xlink:href=\"#DejaVuSans-53\"/>\r\n       <use x=\"127.246094\" xlink:href=\"#DejaVuSans-48\"/>\r\n       <use x=\"190.869141\" xlink:href=\"#DejaVuSans-48\"/>\r\n      </g>\r\n     </g>\r\n    </g>\r\n    <g id=\"xtick_8\">\r\n     <g id=\"line2d_8\">\r\n      <g>\r\n       <use style=\"stroke:#000000;stroke-width:0.8;\" x=\"341.394883\" xlink:href=\"#m2ecd37c5f9\" y=\"235.238437\"/>\r\n      </g>\r\n     </g>\r\n     <g id=\"text_8\">\r\n      <!-- 1750 -->\r\n      <g transform=\"translate(328.669883 249.836875)scale(0.1 -0.1)\">\r\n       <use xlink:href=\"#DejaVuSans-49\"/>\r\n       <use x=\"63.623047\" xlink:href=\"#DejaVuSans-55\"/>\r\n       <use x=\"127.246094\" xlink:href=\"#DejaVuSans-53\"/>\r\n       <use x=\"190.869141\" xlink:href=\"#DejaVuSans-48\"/>\r\n      </g>\r\n     </g>\r\n    </g>\r\n   </g>\r\n   <g id=\"matplotlib.axis_2\">\r\n    <g id=\"ytick_1\">\r\n     <g id=\"line2d_9\">\r\n      <defs>\r\n       <path d=\"M 0 0 \r\nL -3.5 0 \r\n\" id=\"md3eb0b28a1\" style=\"stroke:#000000;stroke-width:0.8;\"/>\r\n      </defs>\r\n      <g>\r\n       <use style=\"stroke:#000000;stroke-width:0.8;\" x=\"30.103125\" xlink:href=\"#md3eb0b28a1\" y=\"234.970039\"/>\r\n      </g>\r\n     </g>\r\n     <g id=\"text_9\">\r\n      <!-- 0.2 -->\r\n      <defs>\r\n       <path d=\"M 10.6875 12.40625 \r\nL 21 12.40625 \r\nL 21 0 \r\nL 10.6875 0 \r\nz\r\n\" id=\"DejaVuSans-46\"/>\r\n      </defs>\r\n      <g transform=\"translate(7.2 238.769258)scale(0.1 -0.1)\">\r\n       <use xlink:href=\"#DejaVuSans-48\"/>\r\n       <use x=\"63.623047\" xlink:href=\"#DejaVuSans-46\"/>\r\n       <use x=\"95.410156\" xlink:href=\"#DejaVuSans-50\"/>\r\n      </g>\r\n     </g>\r\n    </g>\r\n    <g id=\"ytick_2\">\r\n     <g id=\"line2d_10\">\r\n      <g>\r\n       <use style=\"stroke:#000000;stroke-width:0.8;\" x=\"30.103125\" xlink:href=\"#md3eb0b28a1\" y=\"197.567492\"/>\r\n      </g>\r\n     </g>\r\n     <g id=\"text_10\">\r\n      <!-- 0.4 -->\r\n      <defs>\r\n       <path d=\"M 37.796875 64.3125 \r\nL 12.890625 25.390625 \r\nL 37.796875 25.390625 \r\nz\r\nM 35.203125 72.90625 \r\nL 47.609375 72.90625 \r\nL 47.609375 25.390625 \r\nL 58.015625 25.390625 \r\nL 58.015625 17.1875 \r\nL 47.609375 17.1875 \r\nL 47.609375 0 \r\nL 37.796875 0 \r\nL 37.796875 17.1875 \r\nL 4.890625 17.1875 \r\nL 4.890625 26.703125 \r\nz\r\n\" id=\"DejaVuSans-52\"/>\r\n      </defs>\r\n      <g transform=\"translate(7.2 201.36671)scale(0.1 -0.1)\">\r\n       <use xlink:href=\"#DejaVuSans-48\"/>\r\n       <use x=\"63.623047\" xlink:href=\"#DejaVuSans-46\"/>\r\n       <use x=\"95.410156\" xlink:href=\"#DejaVuSans-52\"/>\r\n      </g>\r\n     </g>\r\n    </g>\r\n    <g id=\"ytick_3\">\r\n     <g id=\"line2d_11\">\r\n      <g>\r\n       <use style=\"stroke:#000000;stroke-width:0.8;\" x=\"30.103125\" xlink:href=\"#md3eb0b28a1\" y=\"160.164944\"/>\r\n      </g>\r\n     </g>\r\n     <g id=\"text_11\">\r\n      <!-- 0.6 -->\r\n      <defs>\r\n       <path d=\"M 33.015625 40.375 \r\nQ 26.375 40.375 22.484375 35.828125 \r\nQ 18.609375 31.296875 18.609375 23.390625 \r\nQ 18.609375 15.53125 22.484375 10.953125 \r\nQ 26.375 6.390625 33.015625 6.390625 \r\nQ 39.65625 6.390625 43.53125 10.953125 \r\nQ 47.40625 15.53125 47.40625 23.390625 \r\nQ 47.40625 31.296875 43.53125 35.828125 \r\nQ 39.65625 40.375 33.015625 40.375 \r\nz\r\nM 52.59375 71.296875 \r\nL 52.59375 62.3125 \r\nQ 48.875 64.0625 45.09375 64.984375 \r\nQ 41.3125 65.921875 37.59375 65.921875 \r\nQ 27.828125 65.921875 22.671875 59.328125 \r\nQ 17.53125 52.734375 16.796875 39.40625 \r\nQ 19.671875 43.65625 24.015625 45.921875 \r\nQ 28.375 48.1875 33.59375 48.1875 \r\nQ 44.578125 48.1875 50.953125 41.515625 \r\nQ 57.328125 34.859375 57.328125 23.390625 \r\nQ 57.328125 12.15625 50.6875 5.359375 \r\nQ 44.046875 -1.421875 33.015625 -1.421875 \r\nQ 20.359375 -1.421875 13.671875 8.265625 \r\nQ 6.984375 17.96875 6.984375 36.375 \r\nQ 6.984375 53.65625 15.1875 63.9375 \r\nQ 23.390625 74.21875 37.203125 74.21875 \r\nQ 40.921875 74.21875 44.703125 73.484375 \r\nQ 48.484375 72.75 52.59375 71.296875 \r\nz\r\n\" id=\"DejaVuSans-54\"/>\r\n      </defs>\r\n      <g transform=\"translate(7.2 163.964163)scale(0.1 -0.1)\">\r\n       <use xlink:href=\"#DejaVuSans-48\"/>\r\n       <use x=\"63.623047\" xlink:href=\"#DejaVuSans-46\"/>\r\n       <use x=\"95.410156\" xlink:href=\"#DejaVuSans-54\"/>\r\n      </g>\r\n     </g>\r\n    </g>\r\n    <g id=\"ytick_4\">\r\n     <g id=\"line2d_12\">\r\n      <g>\r\n       <use style=\"stroke:#000000;stroke-width:0.8;\" x=\"30.103125\" xlink:href=\"#md3eb0b28a1\" y=\"122.762397\"/>\r\n      </g>\r\n     </g>\r\n     <g id=\"text_12\">\r\n      <!-- 0.8 -->\r\n      <defs>\r\n       <path d=\"M 31.78125 34.625 \r\nQ 24.75 34.625 20.71875 30.859375 \r\nQ 16.703125 27.09375 16.703125 20.515625 \r\nQ 16.703125 13.921875 20.71875 10.15625 \r\nQ 24.75 6.390625 31.78125 6.390625 \r\nQ 38.8125 6.390625 42.859375 10.171875 \r\nQ 46.921875 13.96875 46.921875 20.515625 \r\nQ 46.921875 27.09375 42.890625 30.859375 \r\nQ 38.875 34.625 31.78125 34.625 \r\nz\r\nM 21.921875 38.8125 \r\nQ 15.578125 40.375 12.03125 44.71875 \r\nQ 8.5 49.078125 8.5 55.328125 \r\nQ 8.5 64.0625 14.71875 69.140625 \r\nQ 20.953125 74.21875 31.78125 74.21875 \r\nQ 42.671875 74.21875 48.875 69.140625 \r\nQ 55.078125 64.0625 55.078125 55.328125 \r\nQ 55.078125 49.078125 51.53125 44.71875 \r\nQ 48 40.375 41.703125 38.8125 \r\nQ 48.828125 37.15625 52.796875 32.3125 \r\nQ 56.78125 27.484375 56.78125 20.515625 \r\nQ 56.78125 9.90625 50.3125 4.234375 \r\nQ 43.84375 -1.421875 31.78125 -1.421875 \r\nQ 19.734375 -1.421875 13.25 4.234375 \r\nQ 6.78125 9.90625 6.78125 20.515625 \r\nQ 6.78125 27.484375 10.78125 32.3125 \r\nQ 14.796875 37.15625 21.921875 38.8125 \r\nz\r\nM 18.3125 54.390625 \r\nQ 18.3125 48.734375 21.84375 45.5625 \r\nQ 25.390625 42.390625 31.78125 42.390625 \r\nQ 38.140625 42.390625 41.71875 45.5625 \r\nQ 45.3125 48.734375 45.3125 54.390625 \r\nQ 45.3125 60.0625 41.71875 63.234375 \r\nQ 38.140625 66.40625 31.78125 66.40625 \r\nQ 25.390625 66.40625 21.84375 63.234375 \r\nQ 18.3125 60.0625 18.3125 54.390625 \r\nz\r\n\" id=\"DejaVuSans-56\"/>\r\n      </defs>\r\n      <g transform=\"translate(7.2 126.561615)scale(0.1 -0.1)\">\r\n       <use xlink:href=\"#DejaVuSans-48\"/>\r\n       <use x=\"63.623047\" xlink:href=\"#DejaVuSans-46\"/>\r\n       <use x=\"95.410156\" xlink:href=\"#DejaVuSans-56\"/>\r\n      </g>\r\n     </g>\r\n    </g>\r\n    <g id=\"ytick_5\">\r\n     <g id=\"line2d_13\">\r\n      <g>\r\n       <use style=\"stroke:#000000;stroke-width:0.8;\" x=\"30.103125\" xlink:href=\"#md3eb0b28a1\" y=\"85.359849\"/>\r\n      </g>\r\n     </g>\r\n     <g id=\"text_13\">\r\n      <!-- 1.0 -->\r\n      <g transform=\"translate(7.2 89.159068)scale(0.1 -0.1)\">\r\n       <use xlink:href=\"#DejaVuSans-49\"/>\r\n       <use x=\"63.623047\" xlink:href=\"#DejaVuSans-46\"/>\r\n       <use x=\"95.410156\" xlink:href=\"#DejaVuSans-48\"/>\r\n      </g>\r\n     </g>\r\n    </g>\r\n    <g id=\"ytick_6\">\r\n     <g id=\"line2d_14\">\r\n      <g>\r\n       <use style=\"stroke:#000000;stroke-width:0.8;\" x=\"30.103125\" xlink:href=\"#md3eb0b28a1\" y=\"47.957302\"/>\r\n      </g>\r\n     </g>\r\n     <g id=\"text_14\">\r\n      <!-- 1.2 -->\r\n      <g transform=\"translate(7.2 51.75652)scale(0.1 -0.1)\">\r\n       <use xlink:href=\"#DejaVuSans-49\"/>\r\n       <use x=\"63.623047\" xlink:href=\"#DejaVuSans-46\"/>\r\n       <use x=\"95.410156\" xlink:href=\"#DejaVuSans-50\"/>\r\n      </g>\r\n     </g>\r\n    </g>\r\n    <g id=\"text_15\">\r\n     <!-- 1e−6 -->\r\n     <defs>\r\n      <path d=\"M 56.203125 29.59375 \r\nL 56.203125 25.203125 \r\nL 14.890625 25.203125 \r\nQ 15.484375 15.921875 20.484375 11.0625 \r\nQ 25.484375 6.203125 34.421875 6.203125 \r\nQ 39.59375 6.203125 44.453125 7.46875 \r\nQ 49.3125 8.734375 54.109375 11.28125 \r\nL 54.109375 2.78125 \r\nQ 49.265625 0.734375 44.1875 -0.34375 \r\nQ 39.109375 -1.421875 33.890625 -1.421875 \r\nQ 20.796875 -1.421875 13.15625 6.1875 \r\nQ 5.515625 13.8125 5.515625 26.8125 \r\nQ 5.515625 40.234375 12.765625 48.109375 \r\nQ 20.015625 56 32.328125 56 \r\nQ 43.359375 56 49.78125 48.890625 \r\nQ 56.203125 41.796875 56.203125 29.59375 \r\nz\r\nM 47.21875 32.234375 \r\nQ 47.125 39.59375 43.09375 43.984375 \r\nQ 39.0625 48.390625 32.421875 48.390625 \r\nQ 24.90625 48.390625 20.390625 44.140625 \r\nQ 15.875 39.890625 15.1875 32.171875 \r\nz\r\n\" id=\"DejaVuSans-101\"/>\r\n      <path d=\"M 10.59375 35.5 \r\nL 73.1875 35.5 \r\nL 73.1875 27.203125 \r\nL 10.59375 27.203125 \r\nz\r\n\" id=\"DejaVuSans-8722\"/>\r\n     </defs>\r\n     <g transform=\"translate(30.103125 14.798437)scale(0.1 -0.1)\">\r\n      <use xlink:href=\"#DejaVuSans-49\"/>\r\n      <use x=\"63.623047\" xlink:href=\"#DejaVuSans-101\"/>\r\n      <use x=\"125.146484\" xlink:href=\"#DejaVuSans-8722\"/>\r\n      <use x=\"208.935547\" xlink:href=\"#DejaVuSans-54\"/>\r\n     </g>\r\n    </g>\r\n   </g>\r\n   <g id=\"line2d_15\">\r\n    <path clip-path=\"url(#p9808ca5f25)\" d=\"M 45.321307 27.682074 \r\nL 45.998046 39.341195 \r\nL 50.058484 96.890359 \r\nL 51.411963 112.769105 \r\nL 52.765442 125.996461 \r\nL 53.949737 135.508872 \r\nL 54.795661 141.494296 \r\nL 56.14914 149.453464 \r\nL 58.010174 158.095275 \r\nL 59.532838 163.818558 \r\nL 61.732242 170.37285 \r\nL 62.747352 172.875874 \r\nL 63.424091 174.429117 \r\nL 64.100831 175.868586 \r\nL 66.469419 180.45413 \r\nL 66.976974 181.210957 \r\nL 67.484529 182.121147 \r\nL 67.822899 182.650426 \r\nL 69.345563 184.886311 \r\nL 70.022302 185.796501 \r\nL 72.390891 188.902987 \r\nL 72.729261 189.244308 \r\nL 73.575185 190.268273 \r\nL 73.913555 190.609594 \r\nL 74.590295 191.36642 \r\nL 76.620513 193.488532 \r\nL 78.481547 195.269322 \r\nL 78.989102 195.798601 \r\nL 82.203615 198.603355 \r\nL 82.3728 198.642946 \r\nL 82.880355 199.098041 \r\nL 83.04954 199.172224 \r\nL 83.218725 199.399772 \r\nL 83.387909 199.439362 \r\nL 84.064649 200.042824 \r\nL 86.264053 201.635657 \r\nL 86.602423 201.863205 \r\nL 91.847155 205.311012 \r\nL 92.016339 205.311012 \r\nL 92.523894 205.726517 \r\nL 93.031449 205.954064 \r\nL 93.200634 206.107429 \r\nL 93.369819 206.107429 \r\nL 93.708188 206.334976 \r\nL 94.215743 206.636707 \r\nL 95.230853 207.205576 \r\nL 96.245962 207.734855 \r\nL 97.261071 208.303724 \r\nL 99.62966 209.441462 \r\nL 100.137215 209.703602 \r\nL 100.813954 209.97074 \r\nL 101.321509 210.237878 \r\nL 101.829064 210.425835 \r\nL 102.505803 210.767157 \r\nL 102.674988 210.767157 \r\nL 103.013358 210.994704 \r\nL 103.182543 210.994704 \r\nL 103.859282 211.336026 \r\nL 105.720316 212.092852 \r\nL 105.889501 212.092852 \r\nL 106.397056 212.35999 \r\nL 107.073796 212.547947 \r\nL 107.58135 212.775495 \r\nL 107.750535 212.775495 \r\nL 108.25809 213.077226 \r\nL 108.427275 213.042633 \r\nL 108.59646 213.191 \r\nL 108.765645 213.191 \r\nL 109.273199 213.418547 \r\nL 109.442384 213.418547 \r\nL 109.949939 213.646095 \r\nL 110.119124 213.646095 \r\nL 110.626678 213.873642 \r\nL 112.318527 214.328738 \r\nL 112.995267 214.670059 \r\nL 113.502822 214.744242 \r\nL 113.672007 214.783833 \r\nL 113.841192 214.97179 \r\nL 114.010377 214.897607 \r\nL 114.348746 215.085564 \r\nL 114.687116 215.125154 \r\nL 115.87141 215.540659 \r\nL 116.20978 215.540659 \r\nL 116.54815 215.654433 \r\nL 118.070814 216.109528 \r\nL 118.578369 216.337076 \r\nL 118.747554 216.223302 \r\nL 119.255108 216.450849 \r\nL 119.593478 216.450849 \r\nL 119.931848 216.638807 \r\nL 120.101033 216.638807 \r\nL 120.270218 216.75258 \r\nL 120.439403 216.678397 \r\nL 121.285327 216.980128 \r\nL 121.623697 217.019718 \r\nL 122.469622 217.281859 \r\nL 126.022504 218.004092 \r\nL 126.191689 218.004092 \r\nL 126.530059 218.117866 \r\nL 127.206799 218.305823 \r\nL 129.237018 218.686735 \r\nL 129.744572 218.760918 \r\nL 129.913757 218.874692 \r\nL 130.082942 218.800509 \r\nL 130.759682 218.988466 \r\nL 130.928867 218.988466 \r\nL 131.267236 219.10224 \r\nL 131.436421 219.10224 \r\nL 131.774791 219.216014 \r\nL 131.943976 219.216014 \r\nL 132.113161 219.329787 \r\nL 132.282346 219.216014 \r\nL 132.620716 219.329787 \r\nL 133.974195 219.557335 \r\nL 134.14338 219.557335 \r\nL 134.312565 219.671109 \r\nL 134.481749 219.596925 \r\nL 134.650934 219.745292 \r\nL 135.666044 219.824473 \r\nL 136.342783 220.01243 \r\nL 136.850338 220.086614 \r\nL 137.357893 220.126204 \r\nL 137.865448 220.200387 \r\nL 138.711372 220.314161 \r\nL 138.880557 220.314161 \r\nL 139.218927 220.427935 \r\nL 139.726481 220.467525 \r\nL 139.895666 220.541709 \r\nL 140.064851 220.467525 \r\nL 140.403221 220.581299 \r\nL 140.572406 220.541709 \r\nL 140.741591 220.655482 \r\nL 140.910776 220.581299 \r\nL 141.079961 220.695073 \r\nL 141.249146 220.655482 \r\nL 141.587515 220.769256 \r\nL 142.264255 220.769256 \r\nL 142.602625 220.88303 \r\nL 142.940995 220.92262 \r\nL 143.110179 220.996804 \r\nL 143.279364 220.92262 \r\nL 143.617734 220.996804 \r\nL 143.956104 221.036394 \r\nL 144.294474 221.110578 \r\nL 145.140398 221.184761 \r\nL 146.155508 221.338125 \r\nL 147.001432 221.412309 \r\nL 147.678172 221.526082 \r\nL 148.016542 221.451899 \r\nL 148.354911 221.565673 \r\nL 148.693281 221.639856 \r\nL 149.200836 221.679447 \r\nL 149.877575 221.75363 \r\nL 150.215945 221.79322 \r\nL 150.554315 221.79322 \r\nL 151.06187 221.867404 \r\nL 151.738609 221.981178 \r\nL 152.076979 221.906994 \r\nL 152.415349 221.946585 \r\nL 153.430458 222.094951 \r\nL 153.768828 222.094951 \r\nL 154.614753 222.208725 \r\nL 155.460677 222.248316 \r\nL 155.799047 222.362089 \r\nL 155.968232 222.248316 \r\nL 156.306602 222.322499 \r\nL 156.475787 222.322499 \r\nL 156.814156 222.436273 \r\nL 156.983341 222.362089 \r\nL 157.152526 222.436273 \r\nL 157.321711 222.362089 \r\nL 157.998451 222.550047 \r\nL 159.521115 222.62423 \r\nL 160.028669 222.66382 \r\nL 161.043779 222.703411 \r\nL 161.382149 222.777594 \r\nL 162.397258 222.817185 \r\nL 162.566443 222.891368 \r\nL 162.735628 222.777594 \r\nL 163.073998 222.891368 \r\nL 164.258292 222.930958 \r\nL 164.596662 223.005142 \r\nL 165.442586 223.079325 \r\nL 165.950141 223.118916 \r\nL 167.30362 223.118916 \r\nL 167.472805 223.232689 \r\nL 167.64199 223.118916 \r\nL 167.98036 223.232689 \r\nL 169.672209 223.27228 \r\nL 169.841394 223.346463 \r\nL 170.010579 223.27228 \r\nL 170.348948 223.346463 \r\nL 171.702428 223.420647 \r\nL 172.040797 223.460237 \r\nL 172.379167 223.460237 \r\nL 173.732646 223.53442 \r\nL 174.240201 223.574011 \r\nL 175.59368 223.574011 \r\nL 175.762865 223.687785 \r\nL 176.27042 223.613601 \r\nL 176.777975 223.761968 \r\nL 177.454714 223.687785 \r\nL 177.623899 223.761968 \r\nL 177.793084 223.687785 \r\nL 177.962269 223.801558 \r\nL 178.469824 223.687785 \r\nL 178.977378 223.801558 \r\nL 180.330858 223.875742 \r\nL 180.669227 223.875742 \r\nL 180.838412 223.801558 \r\nL 181.345967 223.915332 \r\nL 184.052925 223.989516 \r\nL 184.391295 224.029106 \r\nL 184.729665 223.989516 \r\nL 185.406405 224.103289 \r\nL 185.57559 224.029106 \r\nL 185.913959 224.103289 \r\nL 186.252329 224.029106 \r\nL 186.421514 224.14288 \r\nL 187.098254 224.068696 \r\nL 187.774993 224.14288 \r\nL 188.113363 224.14288 \r\nL 190.651137 224.217063 \r\nL 190.989506 224.256654 \r\nL 193.86565 224.330837 \r\nL 194.204019 224.330837 \r\nL 196.234238 224.370427 \r\nL 196.572608 224.444611 \r\nL 196.910978 224.444611 \r\nL 199.787121 224.484201 \r\nL 199.956306 224.558385 \r\nL 200.463861 224.444611 \r\nL 200.802231 224.484201 \r\nL 202.324895 224.484201 \r\nL 202.49408 224.597975 \r\nL 203.001634 224.558385 \r\nL 204.862668 224.632568 \r\nL 205.031853 224.672158 \r\nL 205.201038 224.558385 \r\nL 205.708593 224.597975 \r\nL 208.246366 224.672158 \r\nL 208.584736 224.672158 \r\nL 209.43066 224.711749 \r\nL 209.599845 224.785932 \r\nL 210.1074 224.672158 \r\nL 211.799249 224.746342 \r\nL 212.137619 224.785932 \r\nL 212.475989 224.711749 \r\nL 212.983543 224.711749 \r\nL 216.028872 224.785932 \r\nL 216.198057 224.860116 \r\nL 216.536426 224.825523 \r\nL 217.043981 224.785932 \r\nL 217.213166 224.860116 \r\nL 217.551536 224.825523 \r\nL 217.720721 224.899706 \r\nL 218.05909 224.825523 \r\nL 224.488117 224.899706 \r\nL 224.995671 224.939296 \r\nL 225.503226 224.899706 \r\nL 226.856705 224.899706 \r\nL 227.02589 225.01348 \r\nL 227.195075 224.899706 \r\nL 227.533445 224.939296 \r\nL 227.871815 224.973889 \r\nL 228.548554 224.899706 \r\nL 228.717739 225.01348 \r\nL 229.056109 224.899706 \r\nL 229.225294 224.973889 \r\nL 229.563664 224.939296 \r\nL 229.902033 225.01348 \r\nL 230.071218 224.899706 \r\nL 230.578773 225.01348 \r\nL 230.917143 224.939296 \r\nL 231.255513 225.01348 \r\nL 240.053128 225.01348 \r\nL 240.222312 225.127254 \r\nL 240.391497 225.01348 \r\nL 240.729867 225.087663 \r\nL 241.068237 225.05307 \r\nL 241.744977 225.127254 \r\nL 241.914161 225.01348 \r\nL 242.083346 225.127254 \r\nL 242.252531 225.01348 \r\nL 242.421716 225.127254 \r\nL 242.590901 225.01348 \r\nL 242.760086 225.127254 \r\nL 243.098456 225.127254 \r\nL 243.267641 225.127254 \r\nL 243.436826 225.01348 \r\nL 243.60601 225.127254 \r\nL 243.775195 225.01348 \r\nL 243.94438 225.127254 \r\nL 244.113565 225.01348 \r\nL 244.451935 225.127254 \r\nL 244.95949 225.087663 \r\nL 245.297859 225.127254 \r\nL 245.636229 225.05307 \r\nL 245.805414 225.127254 \r\nL 245.974599 225.01348 \r\nL 246.312969 225.127254 \r\nL 246.482154 225.01348 \r\nL 246.820524 225.127254 \r\nL 247.328078 225.05307 \r\nL 248.004818 225.127254 \r\nL 248.343188 225.05307 \r\nL 248.681557 225.127254 \r\nL 249.019927 225.127254 \r\nL 258.325097 225.166844 \r\nL 258.663467 225.201437 \r\nL 286.578975 225.241027 \r\nL 286.74816 225.315211 \r\nL 287.08653 225.241027 \r\nL 308.234643 225.241027 \r\nL 308.403827 225.354801 \r\nL 308.911382 225.241027 \r\nL 309.249752 225.354801 \r\nL 309.588122 225.241027 \r\nL 309.926492 225.315211 \r\nL 310.095676 225.354801 \r\nL 310.434046 225.241027 \r\nL 310.772416 225.315211 \r\nL 310.941601 225.354801 \r\nL 311.279971 225.241027 \r\nL 311.618341 225.315211 \r\nL 311.787525 225.354801 \r\nL 312.125895 225.241027 \r\nL 312.464265 225.315211 \r\nL 312.802635 225.280618 \r\nL 313.141005 225.241027 \r\nL 313.479374 225.315211 \r\nL 313.986929 225.241027 \r\nL 314.325299 225.315211 \r\nL 314.832854 225.241027 \r\nL 315.171223 225.315211 \r\nL 349.684943 225.315211 \r\nL 349.684943 225.315211 \r\n\" style=\"fill:none;stroke:#1f77b4;stroke-linecap:square;stroke-width:1.5;\"/>\r\n   </g>\r\n   <g id=\"patch_3\">\r\n    <path d=\"M 30.103125 235.238437 \r\nL 30.103125 17.798437 \r\n\" style=\"fill:none;stroke:#000000;stroke-linecap:square;stroke-linejoin:miter;stroke-width:0.8;\"/>\r\n   </g>\r\n   <g id=\"patch_4\">\r\n    <path d=\"M 364.903125 235.238437 \r\nL 364.903125 17.798437 \r\n\" style=\"fill:none;stroke:#000000;stroke-linecap:square;stroke-linejoin:miter;stroke-width:0.8;\"/>\r\n   </g>\r\n   <g id=\"patch_5\">\r\n    <path d=\"M 30.103125 235.238437 \r\nL 364.903125 235.238437 \r\n\" style=\"fill:none;stroke:#000000;stroke-linecap:square;stroke-linejoin:miter;stroke-width:0.8;\"/>\r\n   </g>\r\n   <g id=\"patch_6\">\r\n    <path d=\"M 30.103125 17.798437 \r\nL 364.903125 17.798437 \r\n\" style=\"fill:none;stroke:#000000;stroke-linecap:square;stroke-linejoin:miter;stroke-width:0.8;\"/>\r\n   </g>\r\n  </g>\r\n </g>\r\n <defs>\r\n  <clipPath id=\"p9808ca5f25\">\r\n   <rect height=\"217.44\" width=\"334.8\" x=\"30.103125\" y=\"17.798437\"/>\r\n  </clipPath>\r\n </defs>\r\n</svg>\r\n",
      "image/png": "[encoded data removed]"
     },
     "metadata": {
      "needs_background": "light"
     }
    }
   ],
   "source": [
    "plt.plot(q_y_list[50,:,5])"
   ]
  },
  {
   "cell_type": "code",
   "execution_count": null,
   "metadata": {},
   "outputs": [],
   "source": []
  }
 ],
 "metadata": {
  "kernelspec": {
   "name": "python377jvsc74a57bd020f7963641347b5b0f89ee34a62aa3cbfa3478e5b0bceec5777dd19f814e2f1a",
   "display_name": "Python 3.7.7 64-bit ('research': conda)"
  },
  "language_info": {
   "codemirror_mode": {
    "name": "ipython",
    "version": 3
   },
   "file_extension": ".py",
   "mimetype": "text/x-python",
   "name": "python",
   "nbconvert_exporter": "python",
   "pygments_lexer": "ipython3",
   "version": "3.7.7"
  }
 },
 "nbformat": 4,
 "nbformat_minor": 4
}