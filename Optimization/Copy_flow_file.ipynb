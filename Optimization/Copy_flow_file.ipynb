{
 "metadata": {
  "language_info": {
   "codemirror_mode": {
    "name": "ipython",
    "version": 3
   },
   "file_extension": ".py",
   "mimetype": "text/x-python",
   "name": "python",
   "nbconvert_exporter": "python",
   "pygments_lexer": "ipython3",
   "version": "3.7.7"
  },
  "orig_nbformat": 2,
  "kernelspec": {
   "name": "python377jvsc74a57bd020f7963641347b5b0f89ee34a62aa3cbfa3478e5b0bceec5777dd19f814e2f1a",
   "display_name": "Python 3.7.7 64-bit (conda)"
  }
 },
 "nbformat": 4,
 "nbformat_minor": 2,
 "cells": [
  {
   "cell_type": "code",
   "execution_count": 1,
   "metadata": {},
   "outputs": [],
   "source": [
    "import os \n",
    "import shutil\n",
    "import time"
   ]
  },
  {
   "cell_type": "code",
   "execution_count": 2,
   "metadata": {},
   "outputs": [],
   "source": [
    "\n",
    "\n",
    "# './../../MC_runs/Run_no_zero_flow_no_oscilations_Run_Run_1620834677/MC/runs/'\n",
    "\n",
    "run_name = \"Run_no_zero_flow_no_oscilations_Run_Run_1623326650\"\n"
   ]
  },
  {
   "cell_type": "code",
   "execution_count": 3,
   "metadata": {},
   "outputs": [],
   "source": [
    "os.mkdir(f'{run_name}')"
   ]
  },
  {
   "cell_type": "code",
   "execution_count": 4,
   "metadata": {},
   "outputs": [],
   "source": [
    "for i in range(1,10):\n",
    "    src_file = f\"./../../MC_runs/{run_name}/MC/flow/Q_x_{i}.txt\"\n",
    "    dst_file = f\"./{run_name}/Q_x_{i}.txt\"\n",
    "    shutil.copyfile(src_file, dst_file)"
   ]
  },
  {
   "cell_type": "code",
   "execution_count": 5,
   "metadata": {},
   "outputs": [],
   "source": [
    "for i in range(1,10):\n",
    "    src_file = f\"./../../MC_runs/{run_name}/MC/flow/Q_y_{i}.txt\"\n",
    "    dst_file = f\"./{run_name}/Q_y_{i}.txt\"\n",
    "    shutil.copyfile(src_file, dst_file)"
   ]
  },
  {
   "cell_type": "code",
   "execution_count": 7,
   "metadata": {},
   "outputs": [
    {
     "output_type": "execute_result",
     "data": {
      "text/plain": [
       "'./Run_no_zero_flow_no_oscilations_Run_Run_1623326650/K_x.txt'"
      ]
     },
     "metadata": {},
     "execution_count": 7
    }
   ],
   "source": [
    "src_file = f\"./../../MC_runs/{run_name}/MC/flow/K_x.txt\"\n",
    "dst_file = f\"./{run_name}/K_x.txt\"\n",
    "shutil.copyfile(src_file, dst_file)"
   ]
  },
  {
   "cell_type": "code",
   "execution_count": null,
   "metadata": {},
   "outputs": [],
   "source": [
    "src_file = f\"./../../MC_runs/{run_name}/MC/flow/K_y.txt\"\n",
    "dst_file = f\"./{run_name}/K_y.txt\"\n",
    "shutil.copyfile(src_file, dst_file)"
   ]
  }
 ]
}