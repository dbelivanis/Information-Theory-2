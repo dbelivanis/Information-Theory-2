{
 "cells": [
  {
   "cell_type": "markdown",
   "metadata": {},
   "source": [
    "## Load Libraries"
   ]
  },
  {
   "cell_type": "code",
   "execution_count": 2,
   "metadata": {},
   "outputs": [
    {
     "name": "stderr",
     "output_type": "stream",
     "text": [
      "2022-03-11 14:40:34.975097: I tensorflow/stream_executor/platform/default/dso_loader.cc:44] Successfully opened dynamic library cudart64_100.dll\n"
     ]
    },
    {
     "data": {
      "text/plain": [
       "Main.param"
      ]
     },
     "execution_count": 2,
     "metadata": {},
     "output_type": "execute_result"
    }
   ],
   "source": [
    "include(\"./param.jl\")\n"
   ]
  },
  {
   "cell_type": "code",
   "execution_count": 3,
   "metadata": {},
   "outputs": [
    {
     "name": "stderr",
     "output_type": "stream",
     "text": [
      "WARNING: using param.param in module aux_functions conflicts with an existing identifier.\n"
     ]
    },
    {
     "data": {
      "text/plain": [
       "Main.aux_functions"
      ]
     },
     "execution_count": 3,
     "metadata": {},
     "output_type": "execute_result"
    }
   ],
   "source": [
    "include(\"./aux_functions.jl\")\n"
   ]
  },
  {
   "cell_type": "code",
   "execution_count": 4,
   "metadata": {},
   "outputs": [],
   "source": [
    "using Main.aux_functions\n",
    "using Main.param"
   ]
  },
  {
   "cell_type": "code",
   "execution_count": 5,
   "metadata": {},
   "outputs": [],
   "source": [
    "using ADCME\n",
    "using SparseArrays\n",
    "\n",
    "using DelimitedFiles\n",
    "using Dates\n",
    "using Plots"
   ]
  },
  {
   "cell_type": "code",
   "execution_count": 6,
   "metadata": {},
   "outputs": [
    {
     "name": "stderr",
     "output_type": "stream",
     "text": [
      "2022-03-11 14:41:46.697516: I tensorflow/core/platform/cpu_feature_guard.cc:142] Your CPU supports instructions that this TensorFlow binary was not compiled to use: AVX2\n",
      "2022-03-11 14:41:46.735738: I tensorflow/stream_executor/platform/default/dso_loader.cc:44] Successfully opened dynamic library nvcuda.dll\n",
      "2022-03-11 14:41:46.904718: I tensorflow/core/common_runtime/gpu/gpu_device.cc:1618] Found device 0 with properties: \n",
      "name: GeForce GTX 1650 major: 7 minor: 5 memoryClockRate(GHz): 1.56\n",
      "pciBusID: 0000:01:00.0\n",
      "2022-03-11 14:41:46.904823: I tensorflow/stream_executor/platform/default/dso_loader.cc:44] Successfully opened dynamic library cudart64_100.dll\n",
      "2022-03-11 14:41:46.958795: I tensorflow/stream_executor/platform/default/dso_loader.cc:44] Successfully opened dynamic library cublas64_100.dll\n",
      "2022-03-11 14:41:47.005185: I tensorflow/stream_executor/platform/default/dso_loader.cc:44] Successfully opened dynamic library cufft64_100.dll\n",
      "2022-03-11 14:41:47.023532: I tensorflow/stream_executor/platform/default/dso_loader.cc:44] Successfully opened dynamic library curand64_100.dll\n",
      "2022-03-11 14:41:47.102816: I tensorflow/stream_executor/platform/default/dso_loader.cc:44] Successfully opened dynamic library cusolver64_100.dll\n",
      "2022-03-11 14:41:47.336727: I tensorflow/stream_executor/platform/default/dso_loader.cc:44] Successfully opened dynamic library cusparse64_100.dll\n",
      "2022-03-11 14:41:47.760130: I tensorflow/stream_executor/platform/default/dso_loader.cc:44] Successfully opened dynamic library cudnn64_7.dll\n",
      "2022-03-11 14:41:47.760334: I tensorflow/core/common_runtime/gpu/gpu_device.cc:1746] Adding visible gpu devices: 0\n",
      "2022-03-11 14:41:49.311132: I tensorflow/core/common_runtime/gpu/gpu_device.cc:1159] Device interconnect StreamExecutor with strength 1 edge matrix:\n",
      "2022-03-11 14:41:49.311176: I tensorflow/core/common_runtime/gpu/gpu_device.cc:1165]      0 \n",
      "2022-03-11 14:41:49.311192: I tensorflow/core/common_runtime/gpu/gpu_device.cc:1178] 0:   N \n",
      "2022-03-11 14:41:49.312160: I tensorflow/core/common_runtime/gpu/gpu_device.cc:1304] Created TensorFlow device (/job:localhost/replica:0/task:0/device:GPU:0 with 2919 MB memory) -> physical GPU (device: 0, name: GeForce GTX 1650, pci bus id: 0000:01:00.0, compute capability: 7.5)\n"
     ]
    }
   ],
   "source": [
    "x = Variable(ones(10, 2) * 5)\n",
    "loss = x^2\n",
    "\n",
    "# opt_LFGS = ScipyOptimizerInterface(loss * 1e5; method = \"L-BFGS-B\", bounds = Dict(tf_variables.k_x_t_log => [-13.0, -11.5]), options = Dict(\"maxiter\" => maxiter * 2, \"ftol\" => 1e-14, \"gtol\" => 1e-14))\n",
    "opt_LFGS = ScipyOptimizerInterface(loss * 1e5; method = \"L-BFGS-B\", var_to_bounds = Dict(x => [-13.0, -11.5]), options = Dict(\"maxiter\" => 2, \"ftol\" => 1e-14, \"gtol\" => 1e-14))\n",
    "\n",
    "sess = Session();\n",
    "init(sess);\n"
   ]
  },
  {
   "cell_type": "code",
   "execution_count": 38,
   "metadata": {},
   "outputs": [],
   "source": [
    "ScipyOptimizerMinimize(sess, opt_LFGS)\n"
   ]
  },
  {
   "cell_type": "code",
   "execution_count": 36,
   "metadata": {},
   "outputs": [
    {
     "name": "stdout",
     "output_type": "stream",
     "text": [
      "iter 0, current loss=[1.0 1.0; 1.0 1.0; 1.0 1.0; 1.0 1.0; "
     ]
    },
    {
     "name": "stderr",
     "output_type": "stream",
     "text": [
      "┌ Info: Optimization starts...\n",
      "└ @ ADCME C:\\Users\\dbeli\\.julia\\packages\\ADCME\\cupNK\\src\\optim.jl:332\n"
     ]
    },
    {
     "name": "stdout",
     "output_type": "stream",
     "text": [
      "1.0 1.0; 1.0 1.0; 1.0 1.0; 1.0 1.0; 1.0 1.0; 1.0 1.0]\n"
     ]
    },
    {
     "data": {
      "text/plain": [
       "Any[]"
      ]
     },
     "execution_count": 36,
     "metadata": {},
     "output_type": "execute_result"
    }
   ],
   "source": [
    "BFGS!(sess, loss, bounds=Dict(x=>[1.0,3.0]))"
   ]
  },
  {
   "cell_type": "code",
   "execution_count": 39,
   "metadata": {},
   "outputs": [
    {
     "data": {
      "text/plain": [
       "10×2 Matrix{Float64}:\n",
       " -11.5  -11.5\n",
       " -11.5  -11.5\n",
       " -11.5  -11.5\n",
       " -11.5  -11.5\n",
       " -11.5  -11.5\n",
       " -11.5  -11.5\n",
       " -11.5  -11.5\n",
       " -11.5  -11.5\n",
       " -11.5  -11.5\n",
       " -11.5  -11.5"
      ]
     },
     "execution_count": 39,
     "metadata": {},
     "output_type": "execute_result"
    }
   ],
   "source": [
    "run(sess,x)"
   ]
  },
  {
   "cell_type": "code",
   "execution_count": 8,
   "metadata": {},
   "outputs": [
    {
     "data": {
      "text/plain": [
       "5-element Vector{Float64}:\n",
       "   0.0\n",
       "   0.0\n",
       "   0.0\n",
       " -Inf\n",
       "   0.0"
      ]
     },
     "execution_count": 8,
     "metadata": {},
     "output_type": "execute_result"
    }
   ],
   "source": [
    "bd"
   ]
  },
  {
   "cell_type": "code",
   "execution_count": 7,
   "metadata": {},
   "outputs": [],
   "source": [
    "param_model_val = param_model();"
   ]
  },
  {
   "cell_type": "code",
   "execution_count": 7,
   "metadata": {},
   "outputs": [],
   "source": [
    "aux_functions.Darcy_flow_solver(param_model_val);"
   ]
  },
  {
   "cell_type": "code",
   "execution_count": 8,
   "metadata": {},
   "outputs": [],
   "source": [
    "# global model_param = param_model_val"
   ]
  },
  {
   "cell_type": "markdown",
   "metadata": {},
   "source": [
    "## Inputs"
   ]
  },
  {
   "cell_type": "code",
   "execution_count": 9,
   "metadata": {},
   "outputs": [],
   "source": [
    "run_name = \"Run_no_zero_flow_Run_1611143123\"\n",
    "\n",
    "Lx = 1000\n",
    "Ly = 1000\n",
    "\n",
    "T_h = 18000\n",
    "\n",
    "N_x = 21\n",
    "N_y = 21\n",
    "\n",
    "N_steps = 10\n",
    "\n",
    "N_k = 64\n",
    "\n",
    "## Fine scale Inputs\n",
    "\n",
    "N_steps_fine = N_steps\n",
    "N_k_fine = 100\n",
    "N_y_fine = 1;"
   ]
  },
  {
   "cell_type": "code",
   "execution_count": 10,
   "metadata": {},
   "outputs": [],
   "source": [
    "# aux_functions.add_param(\"N_x\",N_x)\n",
    "# aux_functions.add_param(\"N_y\",N_y)\n",
    "# aux_functions.add_param(\"N_k\",N_k)\n",
    "# aux_functions.add_param(\"T\",T_h)\n",
    "# aux_functions.add_param(\"Lx\",Lx)\n",
    "# aux_functions.add_param(\"Ly\",Ly)\n",
    "# aux_functions.add_param(\"N_steps\",N_steps)\n",
    "# aux_functions.add_param(\"N_k_fine\",N_k_fine)\n",
    "# aux_functions.add_param(\"run_name\",run_name);\n"
   ]
  },
  {
   "cell_type": "markdown",
   "metadata": {},
   "source": [
    "## Calculations"
   ]
  },
  {
   "cell_type": "code",
   "execution_count": 11,
   "metadata": {},
   "outputs": [
    {
     "data": {
      "text/plain": [
       "\"EXP_2021_03_11_143717_\""
      ]
     },
     "execution_count": 11,
     "metadata": {},
     "output_type": "execute_result"
    }
   ],
   "source": [
    "exp_name = string(\"EXP_\" , Dates.format(now(), \"yyyy_mm_dd_HHMMSS\"),'_')\n"
   ]
  },
  {
   "cell_type": "code",
   "execution_count": null,
   "metadata": {},
   "outputs": [],
   "source": []
  },
  {
   "cell_type": "code",
   "execution_count": null,
   "metadata": {},
   "outputs": [],
   "source": []
  },
  {
   "cell_type": "code",
   "execution_count": null,
   "metadata": {},
   "outputs": [],
   "source": []
  },
  {
   "cell_type": "code",
   "execution_count": null,
   "metadata": {},
   "outputs": [],
   "source": []
  },
  {
   "cell_type": "code",
   "execution_count": 12,
   "metadata": {},
   "outputs": [
    {
     "ename": "MethodError",
     "evalue": "MethodError: no method matching iterate(::Main.param.aux_matrix)\nClosest candidates are:\n  iterate(!Matched::Core.SimpleVector) at essentials.jl:603\n  iterate(!Matched::Core.SimpleVector, !Matched::Any) at essentials.jl:603\n  iterate(!Matched::ExponentialBackOff) at error.jl:253\n  ...",
     "output_type": "error",
     "traceback": [
      "MethodError: no method matching iterate(::Main.param.aux_matrix)\nClosest candidates are:\n  iterate(!Matched::Core.SimpleVector) at essentials.jl:603\n  iterate(!Matched::Core.SimpleVector, !Matched::Any) at essentials.jl:603\n  iterate(!Matched::ExponentialBackOff) at error.jl:253\n  ...",
      "",
      "Stacktrace:",
      " [1] indexed_iterate(::Main.param.aux_matrix, ::Int64) at ./tuple.jl:84",
      " [2] top-level scope at In[12]:1"
     ]
    }
   ],
   "source": [
    "m2_m, m3_m, m4_m, m5_m, m2_m_1, m3_m_1, m4_m_1, m5_m_1  = aux_functions.Multi_point_flux_aux_matrix(param_model_val);"
   ]
  },
  {
   "cell_type": "code",
   "execution_count": 13,
   "metadata": {},
   "outputs": [
    {
     "ename": "UndefVarError",
     "evalue": "UndefVarError: init_initial_conditions not defined",
     "output_type": "error",
     "traceback": [
      "UndefVarError: init_initial_conditions not defined",
      "",
      "Stacktrace:",
      " [1] getproperty(::Module, ::Symbol) at ./Base.jl:26",
      " [2] top-level scope at In[13]:1"
     ]
    }
   ],
   "source": [
    "aux_functions.init_initial_conditions();"
   ]
  },
  {
   "cell_type": "code",
   "execution_count": null,
   "metadata": {},
   "outputs": [],
   "source": [
    "aux_functions.init_prob()"
   ]
  },
  {
   "cell_type": "code",
   "execution_count": null,
   "metadata": {},
   "outputs": [],
   "source": [
    "aux_functions.initialize_sess()"
   ]
  },
  {
   "cell_type": "code",
   "execution_count": null,
   "metadata": {},
   "outputs": [],
   "source": [
    "N_k_dis_ = 4\n",
    "\n",
    "T_exp = -10\n",
    "\n",
    "T_=  10.0 .^ -T_exp"
   ]
  },
  {
   "cell_type": "code",
   "execution_count": null,
   "metadata": {},
   "outputs": [],
   "source": [
    "aux_functions.check_diff(T_,N_k_dis_)"
   ]
  },
  {
   "cell_type": "code",
   "execution_count": null,
   "metadata": {},
   "outputs": [],
   "source": [
    "aux_functions.optimize(aux_functions.opt_LFGS_sum,T_,N_k_dis_)"
   ]
  },
  {
   "cell_type": "code",
   "execution_count": null,
   "metadata": {},
   "outputs": [],
   "source": [
    "aux_functions.check_diff(T_,N_k_dis_)"
   ]
  },
  {
   "cell_type": "code",
   "execution_count": null,
   "metadata": {},
   "outputs": [],
   "source": []
  }
 ],
 "metadata": {
  "kernelspec": {
   "display_name": "Julia 1.6.1",
   "language": "julia",
   "name": "julia-1.6"
  },
  "language_info": {
   "file_extension": ".jl",
   "mimetype": "application/julia",
   "name": "julia",
   "version": "1.6.1"
  }
 },
 "nbformat": 4,
 "nbformat_minor": 4
}
