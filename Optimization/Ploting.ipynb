{
 "cells": [
  {
   "cell_type": "code",
   "execution_count": 6,
   "metadata": {},
   "outputs": [],
   "source": [
    "import pandas as pd\n",
    "import numpy as np\n",
    "import math\n",
    "from scipy import special\n",
    "import matplotlib.pyplot as plt\n",
    "import statsmodels.stats.weightstats as sm\n",
    "\n"
   ]
  },
  {
   "cell_type": "code",
   "execution_count": 7,
   "metadata": {},
   "outputs": [
    {
     "name": "stdout",
     "output_type": "stream",
     "text": [
      " Volume in drive D is Misc\n",
      " Volume Serial Number is 12AE-9D59\n",
      "\n",
      " Directory of D:\\Projects\\ADCME-diff\\2d_v01\n",
      "\n",
      "10/12/2020  01:06 PM    <DIR>          .\n",
      "10/12/2020  01:06 PM    <DIR>          ..\n",
      "06/14/2020  09:39 PM    <DIR>          .ipynb_checkpoints\n",
      "06/17/2020  02:48 AM           319,359 ADCME_darcy_V_1D_run-Clean.ipynb\n",
      "06/14/2020  09:49 AM    <DIR>          data\n",
      "06/14/2020  10:10 AM         3,667,598 EXP_2020_06_13_235302_k_x.txt\n",
      "06/14/2020  10:10 AM         3,628,800 EXP_2020_06_13_235302_k_y.txt\n",
      "06/14/2020  10:10 AM             8,521 EXP_2020_06_13_235302_p.txt\n",
      "06/14/2020  10:10 AM         3,665,080 EXP_2020_06_13_235302_q_x.txt\n",
      "06/14/2020  10:10 AM         3,665,080 EXP_2020_06_13_235302_q_y.txt\n",
      "06/14/2020  10:06 PM         1,211,598 EXP_2020_06_14_114500_k_x.txt\n",
      "06/14/2020  10:06 PM         1,211,598 EXP_2020_06_14_114500_k_y.txt\n",
      "06/14/2020  10:06 PM             2,784 EXP_2020_06_14_114500_p.txt\n",
      "06/14/2020  10:06 PM         1,235,754 EXP_2020_06_14_114500_q_x.txt\n",
      "06/14/2020  10:06 PM         1,235,754 EXP_2020_06_14_114500_q_y.txt\n",
      "06/14/2020  10:53 PM         2,446,737 EXP_2020_06_14_121413_k_x.txt\n",
      "06/14/2020  10:53 PM         2,446,737 EXP_2020_06_14_121413_k_y.txt\n",
      "06/14/2020  10:53 PM             5,692 EXP_2020_06_14_121413_p.txt\n",
      "06/14/2020  10:53 PM         2,459,025 EXP_2020_06_14_121413_q_x.txt\n",
      "06/14/2020  10:53 PM         2,459,025 EXP_2020_06_14_121413_q_y.txt\n",
      "06/14/2020  11:25 PM         3,053,291 EXP_2020_06_14_125658_k_x.txt\n",
      "06/14/2020  11:25 PM         3,053,291 EXP_2020_06_14_125658_k_y.txt\n",
      "06/14/2020  11:25 PM             7,056 EXP_2020_06_14_125658_p.txt\n",
      "06/14/2020  11:25 PM         3,078,561 EXP_2020_06_14_125658_q_x.txt\n",
      "06/14/2020  11:25 PM         3,078,561 EXP_2020_06_14_125658_q_y.txt\n",
      "06/15/2020  03:24 AM         6,005,234 EXP_2020_06_14_150727_k_x.txt\n",
      "06/15/2020  03:24 AM         6,005,234 EXP_2020_06_14_150727_k_y.txt\n",
      "06/15/2020  03:24 AM            13,992 EXP_2020_06_14_150727_p.txt\n",
      "06/15/2020  03:24 AM         6,156,404 EXP_2020_06_14_150727_q_x.txt\n",
      "06/15/2020  03:24 AM         6,329,379 EXP_2020_06_14_150727_q_y.txt\n",
      "06/15/2020  05:23 AM         7,201,736 EXP_2020_06_14_184829_k_x.txt\n",
      "06/15/2020  05:23 AM         7,267,018 EXP_2020_06_14_184829_k_y.txt\n",
      "06/15/2020  05:23 AM            16,919 EXP_2020_06_14_184829_p.txt\n",
      "06/15/2020  05:23 AM         7,393,647 EXP_2020_06_14_184829_q_x.txt\n",
      "06/15/2020  05:23 AM         7,718,690 EXP_2020_06_14_184829_q_y.txt\n",
      "06/15/2020  10:48 AM         6,400,163 EXP_2020_06_15_001947_k_x.txt\n",
      "06/15/2020  10:48 AM         6,466,423 EXP_2020_06_15_001947_k_y.txt\n",
      "06/15/2020  10:48 AM            22,337 EXP_2020_06_15_001947_p.txt\n",
      "06/15/2020  10:48 AM         6,565,127 EXP_2020_06_15_001947_q_x.txt\n",
      "06/15/2020  10:48 AM         6,858,638 EXP_2020_06_15_001947_q_y.txt\n",
      "06/16/2020  09:43 AM         9,226,482 EXP_2020_06_15_093422_k_x.txt\n",
      "06/16/2020  09:43 AM         9,337,001 EXP_2020_06_15_093422_k_y.txt\n",
      "06/16/2020  09:43 AM            32,637 EXP_2020_06_15_093422_p.txt\n",
      "06/16/2020  09:43 AM         9,441,917 EXP_2020_06_15_093422_q_x.txt\n",
      "06/16/2020  09:43 AM         9,657,771 EXP_2020_06_15_093422_q_y.txt\n",
      "10/12/2020  01:06 PM            92,979 Ploting.ipynb\n",
      "              42 File(s)    160,149,630 bytes\n",
      "               4 Dir(s)  460,366,041,088 bytes free\n"
     ]
    }
   ],
   "source": [
    "ls"
   ]
  },
  {
   "cell_type": "code",
   "execution_count": 8,
   "metadata": {},
   "outputs": [],
   "source": [
    "df_k_imp = pd.read_csv(\"./EXP_2020_06_14_184829_k_x.txt\",sep='\\t',header=None)"
   ]
  },
  {
   "cell_type": "code",
   "execution_count": 9,
   "metadata": {},
   "outputs": [],
   "source": [
    "df_q_imp = pd.read_csv(\"./EXP_2020_06_14_184829_p.txt\",sep='\\t',header=None)"
   ]
  },
  {
   "cell_type": "code",
   "execution_count": 10,
   "metadata": {},
   "outputs": [
    {
     "data": {
      "text/html": [
       "<div>\n",
       "<style scoped>\n",
       "    .dataframe tbody tr th:only-of-type {\n",
       "        vertical-align: middle;\n",
       "    }\n",
       "\n",
       "    .dataframe tbody tr th {\n",
       "        vertical-align: top;\n",
       "    }\n",
       "\n",
       "    .dataframe thead th {\n",
       "        text-align: right;\n",
       "    }\n",
       "</style>\n",
       "<table border=\"1\" class=\"dataframe\">\n",
       "  <thead>\n",
       "    <tr style=\"text-align: right;\">\n",
       "      <th></th>\n",
       "      <th>0</th>\n",
       "      <th>1</th>\n",
       "      <th>2</th>\n",
       "      <th>3</th>\n",
       "      <th>4</th>\n",
       "      <th>5</th>\n",
       "      <th>6</th>\n",
       "      <th>7</th>\n",
       "      <th>8</th>\n",
       "      <th>9</th>\n",
       "      <th>...</th>\n",
       "      <th>54</th>\n",
       "      <th>55</th>\n",
       "      <th>56</th>\n",
       "      <th>57</th>\n",
       "      <th>58</th>\n",
       "      <th>59</th>\n",
       "      <th>60</th>\n",
       "      <th>61</th>\n",
       "      <th>62</th>\n",
       "      <th>63</th>\n",
       "    </tr>\n",
       "  </thead>\n",
       "  <tbody>\n",
       "    <tr>\n",
       "      <th>0</th>\n",
       "      <td>0.178291</td>\n",
       "      <td>0.262228</td>\n",
       "      <td>0.178029</td>\n",
       "      <td>0.381452</td>\n",
       "      <td>7.277301e-45</td>\n",
       "      <td>6.204503e-45</td>\n",
       "      <td>1.268666e-44</td>\n",
       "      <td>1.428092e-44</td>\n",
       "      <td>8.151153e-45</td>\n",
       "      <td>8.726932e-45</td>\n",
       "      <td>...</td>\n",
       "      <td>6.210873e-45</td>\n",
       "      <td>9.720277e-45</td>\n",
       "      <td>1.142011e-44</td>\n",
       "      <td>8.984603e-45</td>\n",
       "      <td>1.092362e-44</td>\n",
       "      <td>1.051543e-44</td>\n",
       "      <td>8.034946e-45</td>\n",
       "      <td>6.452224e-45</td>\n",
       "      <td>9.086774e-45</td>\n",
       "      <td>1.224253e-44</td>\n",
       "    </tr>\n",
       "    <tr>\n",
       "      <th>1</th>\n",
       "      <td>0.080263</td>\n",
       "      <td>0.178082</td>\n",
       "      <td>0.080063</td>\n",
       "      <td>0.661591</td>\n",
       "      <td>5.085403e-45</td>\n",
       "      <td>4.335728e-45</td>\n",
       "      <td>8.865482e-45</td>\n",
       "      <td>9.979555e-45</td>\n",
       "      <td>5.696054e-45</td>\n",
       "      <td>6.098410e-45</td>\n",
       "      <td>...</td>\n",
       "      <td>4.340180e-45</td>\n",
       "      <td>6.792563e-45</td>\n",
       "      <td>7.980412e-45</td>\n",
       "      <td>6.278472e-45</td>\n",
       "      <td>7.633462e-45</td>\n",
       "      <td>7.348217e-45</td>\n",
       "      <td>5.614848e-45</td>\n",
       "      <td>4.508836e-45</td>\n",
       "      <td>6.349869e-45</td>\n",
       "      <td>8.555126e-45</td>\n",
       "    </tr>\n",
       "    <tr>\n",
       "      <th>2</th>\n",
       "      <td>0.076781</td>\n",
       "      <td>0.172031</td>\n",
       "      <td>0.076446</td>\n",
       "      <td>0.674742</td>\n",
       "      <td>4.953056e-45</td>\n",
       "      <td>4.222891e-45</td>\n",
       "      <td>8.634758e-45</td>\n",
       "      <td>9.719837e-45</td>\n",
       "      <td>5.547815e-45</td>\n",
       "      <td>5.939700e-45</td>\n",
       "      <td>...</td>\n",
       "      <td>4.227227e-45</td>\n",
       "      <td>6.615787e-45</td>\n",
       "      <td>7.772722e-45</td>\n",
       "      <td>6.115075e-45</td>\n",
       "      <td>7.434801e-45</td>\n",
       "      <td>7.156980e-45</td>\n",
       "      <td>5.468722e-45</td>\n",
       "      <td>4.391494e-45</td>\n",
       "      <td>6.184614e-45</td>\n",
       "      <td>8.332479e-45</td>\n",
       "    </tr>\n",
       "    <tr>\n",
       "      <th>3</th>\n",
       "      <td>0.073098</td>\n",
       "      <td>0.164720</td>\n",
       "      <td>0.072893</td>\n",
       "      <td>0.689289</td>\n",
       "      <td>4.808066e-45</td>\n",
       "      <td>4.099275e-45</td>\n",
       "      <td>8.381994e-45</td>\n",
       "      <td>9.435309e-45</td>\n",
       "      <td>5.385414e-45</td>\n",
       "      <td>5.765827e-45</td>\n",
       "      <td>...</td>\n",
       "      <td>4.103484e-45</td>\n",
       "      <td>6.422124e-45</td>\n",
       "      <td>7.545192e-45</td>\n",
       "      <td>5.936069e-45</td>\n",
       "      <td>7.217163e-45</td>\n",
       "      <td>6.947474e-45</td>\n",
       "      <td>5.308637e-45</td>\n",
       "      <td>4.262942e-45</td>\n",
       "      <td>6.003573e-45</td>\n",
       "      <td>8.088564e-45</td>\n",
       "    </tr>\n",
       "    <tr>\n",
       "      <th>4</th>\n",
       "      <td>0.069390</td>\n",
       "      <td>0.157369</td>\n",
       "      <td>0.068990</td>\n",
       "      <td>0.704251</td>\n",
       "      <td>4.652845e-45</td>\n",
       "      <td>3.966936e-45</td>\n",
       "      <td>8.111394e-45</td>\n",
       "      <td>9.130705e-45</td>\n",
       "      <td>5.211554e-45</td>\n",
       "      <td>5.579686e-45</td>\n",
       "      <td>...</td>\n",
       "      <td>3.971009e-45</td>\n",
       "      <td>6.214795e-45</td>\n",
       "      <td>7.301606e-45</td>\n",
       "      <td>5.744432e-45</td>\n",
       "      <td>6.984168e-45</td>\n",
       "      <td>6.723186e-45</td>\n",
       "      <td>5.137255e-45</td>\n",
       "      <td>4.125320e-45</td>\n",
       "      <td>5.809756e-45</td>\n",
       "      <td>7.827436e-45</td>\n",
       "    </tr>\n",
       "    <tr>\n",
       "      <th>5</th>\n",
       "      <td>0.065706</td>\n",
       "      <td>0.150119</td>\n",
       "      <td>0.065209</td>\n",
       "      <td>0.718966</td>\n",
       "      <td>4.495726e-45</td>\n",
       "      <td>3.832979e-45</td>\n",
       "      <td>7.837485e-45</td>\n",
       "      <td>8.822375e-45</td>\n",
       "      <td>5.035568e-45</td>\n",
       "      <td>5.391269e-45</td>\n",
       "      <td>...</td>\n",
       "      <td>3.836915e-45</td>\n",
       "      <td>6.004932e-45</td>\n",
       "      <td>7.055043e-45</td>\n",
       "      <td>5.550452e-45</td>\n",
       "      <td>6.748324e-45</td>\n",
       "      <td>6.496155e-45</td>\n",
       "      <td>4.963779e-45</td>\n",
       "      <td>3.986014e-45</td>\n",
       "      <td>5.613570e-45</td>\n",
       "      <td>7.563116e-45</td>\n",
       "    </tr>\n",
       "    <tr>\n",
       "      <th>6</th>\n",
       "      <td>0.062109</td>\n",
       "      <td>0.142086</td>\n",
       "      <td>0.061600</td>\n",
       "      <td>0.734204</td>\n",
       "      <td>4.333236e-45</td>\n",
       "      <td>3.694443e-45</td>\n",
       "      <td>7.554214e-45</td>\n",
       "      <td>8.503507e-45</td>\n",
       "      <td>4.853567e-45</td>\n",
       "      <td>5.196412e-45</td>\n",
       "      <td>...</td>\n",
       "      <td>3.698236e-45</td>\n",
       "      <td>5.787895e-45</td>\n",
       "      <td>6.800052e-45</td>\n",
       "      <td>5.349841e-45</td>\n",
       "      <td>6.504418e-45</td>\n",
       "      <td>6.261363e-45</td>\n",
       "      <td>4.784372e-45</td>\n",
       "      <td>3.841947e-45</td>\n",
       "      <td>5.410678e-45</td>\n",
       "      <td>7.289762e-45</td>\n",
       "    </tr>\n",
       "    <tr>\n",
       "      <th>7</th>\n",
       "      <td>0.058441</td>\n",
       "      <td>0.134325</td>\n",
       "      <td>0.057868</td>\n",
       "      <td>0.749366</td>\n",
       "      <td>4.164260e-45</td>\n",
       "      <td>3.550376e-45</td>\n",
       "      <td>7.259634e-45</td>\n",
       "      <td>8.171909e-45</td>\n",
       "      <td>4.664300e-45</td>\n",
       "      <td>4.993776e-45</td>\n",
       "      <td>...</td>\n",
       "      <td>3.554022e-45</td>\n",
       "      <td>5.562193e-45</td>\n",
       "      <td>6.534881e-45</td>\n",
       "      <td>5.141222e-45</td>\n",
       "      <td>6.250775e-45</td>\n",
       "      <td>6.017199e-45</td>\n",
       "      <td>4.597803e-45</td>\n",
       "      <td>3.692129e-45</td>\n",
       "      <td>5.199686e-45</td>\n",
       "      <td>7.005494e-45</td>\n",
       "    </tr>\n",
       "    <tr>\n",
       "      <th>8</th>\n",
       "      <td>0.124642</td>\n",
       "      <td>0.268882</td>\n",
       "      <td>0.106464</td>\n",
       "      <td>0.500012</td>\n",
       "      <td>6.300688e-45</td>\n",
       "      <td>5.371859e-45</td>\n",
       "      <td>1.098411e-44</td>\n",
       "      <td>1.236442e-44</td>\n",
       "      <td>7.057269e-45</td>\n",
       "      <td>7.555778e-45</td>\n",
       "      <td>...</td>\n",
       "      <td>5.377375e-45</td>\n",
       "      <td>8.415817e-45</td>\n",
       "      <td>9.887531e-45</td>\n",
       "      <td>7.778871e-45</td>\n",
       "      <td>9.457669e-45</td>\n",
       "      <td>9.104258e-45</td>\n",
       "      <td>6.956657e-45</td>\n",
       "      <td>5.586336e-45</td>\n",
       "      <td>7.867330e-45</td>\n",
       "      <td>1.059959e-44</td>\n",
       "    </tr>\n",
       "    <tr>\n",
       "      <th>9</th>\n",
       "      <td>0.181303</td>\n",
       "      <td>0.155210</td>\n",
       "      <td>0.158272</td>\n",
       "      <td>0.505215</td>\n",
       "      <td>6.677087e-45</td>\n",
       "      <td>5.692771e-45</td>\n",
       "      <td>1.164030e-44</td>\n",
       "      <td>1.310306e-44</td>\n",
       "      <td>7.478866e-45</td>\n",
       "      <td>8.007156e-45</td>\n",
       "      <td>...</td>\n",
       "      <td>5.698616e-45</td>\n",
       "      <td>8.918572e-45</td>\n",
       "      <td>1.047821e-44</td>\n",
       "      <td>8.243575e-45</td>\n",
       "      <td>1.002266e-44</td>\n",
       "      <td>9.648140e-45</td>\n",
       "      <td>7.372243e-45</td>\n",
       "      <td>5.920060e-45</td>\n",
       "      <td>8.337319e-45</td>\n",
       "      <td>1.123280e-44</td>\n",
       "    </tr>\n",
       "    <tr>\n",
       "      <th>10</th>\n",
       "      <td>0.097359</td>\n",
       "      <td>0.085595</td>\n",
       "      <td>0.083991</td>\n",
       "      <td>0.257922</td>\n",
       "      <td>7.329085e-02</td>\n",
       "      <td>7.184757e-02</td>\n",
       "      <td>7.673815e-02</td>\n",
       "      <td>2.532559e-01</td>\n",
       "      <td>3.781492e-45</td>\n",
       "      <td>4.032458e-45</td>\n",
       "      <td>...</td>\n",
       "      <td>2.881560e-45</td>\n",
       "      <td>4.515896e-45</td>\n",
       "      <td>5.271650e-45</td>\n",
       "      <td>4.163824e-45</td>\n",
       "      <td>5.060362e-45</td>\n",
       "      <td>4.882116e-45</td>\n",
       "      <td>3.712172e-45</td>\n",
       "      <td>2.984150e-45</td>\n",
       "      <td>4.217780e-45</td>\n",
       "      <td>5.675598e-45</td>\n",
       "    </tr>\n",
       "    <tr>\n",
       "      <th>11</th>\n",
       "      <td>0.039024</td>\n",
       "      <td>0.041596</td>\n",
       "      <td>0.034953</td>\n",
       "      <td>0.150070</td>\n",
       "      <td>3.436901e-02</td>\n",
       "      <td>3.440586e-02</td>\n",
       "      <td>2.828599e-02</td>\n",
       "      <td>1.447952e-01</td>\n",
       "      <td>4.489509e-02</td>\n",
       "      <td>5.088064e-02</td>\n",
       "      <td>...</td>\n",
       "      <td>1.386695e-45</td>\n",
       "      <td>2.166901e-45</td>\n",
       "      <td>2.540798e-45</td>\n",
       "      <td>2.007891e-45</td>\n",
       "      <td>2.431149e-45</td>\n",
       "      <td>2.341606e-45</td>\n",
       "      <td>1.779798e-45</td>\n",
       "      <td>1.431032e-45</td>\n",
       "      <td>2.027566e-45</td>\n",
       "      <td>2.734972e-45</td>\n",
       "    </tr>\n",
       "  </tbody>\n",
       "</table>\n",
       "<p>12 rows × 64 columns</p>\n",
       "</div>"
      ],
      "text/plain": [
       "          0         1         2         3             4             5   \\\n",
       "0   0.178291  0.262228  0.178029  0.381452  7.277301e-45  6.204503e-45   \n",
       "1   0.080263  0.178082  0.080063  0.661591  5.085403e-45  4.335728e-45   \n",
       "2   0.076781  0.172031  0.076446  0.674742  4.953056e-45  4.222891e-45   \n",
       "3   0.073098  0.164720  0.072893  0.689289  4.808066e-45  4.099275e-45   \n",
       "4   0.069390  0.157369  0.068990  0.704251  4.652845e-45  3.966936e-45   \n",
       "5   0.065706  0.150119  0.065209  0.718966  4.495726e-45  3.832979e-45   \n",
       "6   0.062109  0.142086  0.061600  0.734204  4.333236e-45  3.694443e-45   \n",
       "7   0.058441  0.134325  0.057868  0.749366  4.164260e-45  3.550376e-45   \n",
       "8   0.124642  0.268882  0.106464  0.500012  6.300688e-45  5.371859e-45   \n",
       "9   0.181303  0.155210  0.158272  0.505215  6.677087e-45  5.692771e-45   \n",
       "10  0.097359  0.085595  0.083991  0.257922  7.329085e-02  7.184757e-02   \n",
       "11  0.039024  0.041596  0.034953  0.150070  3.436901e-02  3.440586e-02   \n",
       "\n",
       "              6             7             8             9   ...            54  \\\n",
       "0   1.268666e-44  1.428092e-44  8.151153e-45  8.726932e-45  ...  6.210873e-45   \n",
       "1   8.865482e-45  9.979555e-45  5.696054e-45  6.098410e-45  ...  4.340180e-45   \n",
       "2   8.634758e-45  9.719837e-45  5.547815e-45  5.939700e-45  ...  4.227227e-45   \n",
       "3   8.381994e-45  9.435309e-45  5.385414e-45  5.765827e-45  ...  4.103484e-45   \n",
       "4   8.111394e-45  9.130705e-45  5.211554e-45  5.579686e-45  ...  3.971009e-45   \n",
       "5   7.837485e-45  8.822375e-45  5.035568e-45  5.391269e-45  ...  3.836915e-45   \n",
       "6   7.554214e-45  8.503507e-45  4.853567e-45  5.196412e-45  ...  3.698236e-45   \n",
       "7   7.259634e-45  8.171909e-45  4.664300e-45  4.993776e-45  ...  3.554022e-45   \n",
       "8   1.098411e-44  1.236442e-44  7.057269e-45  7.555778e-45  ...  5.377375e-45   \n",
       "9   1.164030e-44  1.310306e-44  7.478866e-45  8.007156e-45  ...  5.698616e-45   \n",
       "10  7.673815e-02  2.532559e-01  3.781492e-45  4.032458e-45  ...  2.881560e-45   \n",
       "11  2.828599e-02  1.447952e-01  4.489509e-02  5.088064e-02  ...  1.386695e-45   \n",
       "\n",
       "              55            56            57            58            59  \\\n",
       "0   9.720277e-45  1.142011e-44  8.984603e-45  1.092362e-44  1.051543e-44   \n",
       "1   6.792563e-45  7.980412e-45  6.278472e-45  7.633462e-45  7.348217e-45   \n",
       "2   6.615787e-45  7.772722e-45  6.115075e-45  7.434801e-45  7.156980e-45   \n",
       "3   6.422124e-45  7.545192e-45  5.936069e-45  7.217163e-45  6.947474e-45   \n",
       "4   6.214795e-45  7.301606e-45  5.744432e-45  6.984168e-45  6.723186e-45   \n",
       "5   6.004932e-45  7.055043e-45  5.550452e-45  6.748324e-45  6.496155e-45   \n",
       "6   5.787895e-45  6.800052e-45  5.349841e-45  6.504418e-45  6.261363e-45   \n",
       "7   5.562193e-45  6.534881e-45  5.141222e-45  6.250775e-45  6.017199e-45   \n",
       "8   8.415817e-45  9.887531e-45  7.778871e-45  9.457669e-45  9.104258e-45   \n",
       "9   8.918572e-45  1.047821e-44  8.243575e-45  1.002266e-44  9.648140e-45   \n",
       "10  4.515896e-45  5.271650e-45  4.163824e-45  5.060362e-45  4.882116e-45   \n",
       "11  2.166901e-45  2.540798e-45  2.007891e-45  2.431149e-45  2.341606e-45   \n",
       "\n",
       "              60            61            62            63  \n",
       "0   8.034946e-45  6.452224e-45  9.086774e-45  1.224253e-44  \n",
       "1   5.614848e-45  4.508836e-45  6.349869e-45  8.555126e-45  \n",
       "2   5.468722e-45  4.391494e-45  6.184614e-45  8.332479e-45  \n",
       "3   5.308637e-45  4.262942e-45  6.003573e-45  8.088564e-45  \n",
       "4   5.137255e-45  4.125320e-45  5.809756e-45  7.827436e-45  \n",
       "5   4.963779e-45  3.986014e-45  5.613570e-45  7.563116e-45  \n",
       "6   4.784372e-45  3.841947e-45  5.410678e-45  7.289762e-45  \n",
       "7   4.597803e-45  3.692129e-45  5.199686e-45  7.005494e-45  \n",
       "8   6.956657e-45  5.586336e-45  7.867330e-45  1.059959e-44  \n",
       "9   7.372243e-45  5.920060e-45  8.337319e-45  1.123280e-44  \n",
       "10  3.712172e-45  2.984150e-45  4.217780e-45  5.675598e-45  \n",
       "11  1.779798e-45  1.431032e-45  2.027566e-45  2.734972e-45  \n",
       "\n",
       "[12 rows x 64 columns]"
      ]
     },
     "execution_count": 10,
     "metadata": {},
     "output_type": "execute_result"
    }
   ],
   "source": [
    "df_q_imp"
   ]
  },
  {
   "cell_type": "code",
   "execution_count": 11,
   "metadata": {},
   "outputs": [
    {
     "data": {
      "text/plain": [
       "(1, 64)"
      ]
     },
     "execution_count": 11,
     "metadata": {},
     "output_type": "execute_result"
    }
   ],
   "source": [
    "df_q_imp.values[-1:,:].shape"
   ]
  },
  {
   "cell_type": "code",
   "execution_count": 12,
   "metadata": {},
   "outputs": [],
   "source": [
    "K_imp = df_k_imp.values[-64:,:].T\n",
    "q_imp = df_q_imp.values[-1,:].T"
   ]
  },
  {
   "cell_type": "code",
   "execution_count": 13,
   "metadata": {},
   "outputs": [],
   "source": [
    "\n",
    "ly = 0.11 * 1000\n",
    "sigma_Y = 0.5\n",
    "K_G = math.exp(-11.5)\n",
    "\n",
    "# K_eff =  np.array([np.sum(k*q_.T) for k in K_])\n",
    "# # K_A = math.exp(sigma_Y**2/2 -4.5 )\n",
    "# K_A = np.exp(-11.5+sigma_Y**2/2)#K_G*(1+sigma_Y**2/2)\n",
    "# K_st = K_G\n",
    "# b_eff = (K_eff-K_st) /(K_A - K_st)\n",
    "\n",
    "# K_A - K_st"
   ]
  },
  {
   "cell_type": "code",
   "execution_count": 14,
   "metadata": {},
   "outputs": [],
   "source": [
    "K_eff_imp =  np.array([np.sum(k*q_imp.T) for k in K_imp])\n",
    "# K_A = math.exp(sigma_Y**2/2 -4.5 )\n",
    "K_A = np.exp(-11.5+sigma_Y**2/2)#K_G*(1+sigma_Y**2/2)\n",
    "K_st = K_G\n",
    "b_eff_imp = (K_eff_imp-K_st) /(K_A - K_st)\n"
   ]
  },
  {
   "cell_type": "code",
   "execution_count": 15,
   "metadata": {},
   "outputs": [
    {
     "data": {
      "text/plain": [
       "(450,)"
      ]
     },
     "execution_count": 15,
     "metadata": {},
     "output_type": "execute_result"
    }
   ],
   "source": [
    "b_eff_imp.shape"
   ]
  },
  {
   "cell_type": "code",
   "execution_count": 16,
   "metadata": {},
   "outputs": [
    {
     "data": {
      "text/plain": [
       "97200"
      ]
     },
     "execution_count": 16,
     "metadata": {},
     "output_type": "execute_result"
    }
   ],
   "source": [
    "t = np.arange(1,1801)*54\n",
    "t[-1]"
   ]
  },
  {
   "cell_type": "code",
   "execution_count": 17,
   "metadata": {},
   "outputs": [
    {
     "data": {
      "text/plain": [
       "array([4.46280992e-02, 8.92561983e-02, 1.33884298e-01, ...,\n",
       "       8.02413223e+01, 8.02859504e+01, 8.03305785e+01])"
      ]
     },
     "execution_count": 17,
     "metadata": {},
     "output_type": "execute_result"
    }
   ],
   "source": [
    "t_bar = t / (ly**2) * 1e-5 /1e-6\n",
    "t_bar"
   ]
  },
  {
   "cell_type": "code",
   "execution_count": 18,
   "metadata": {},
   "outputs": [
    {
     "data": {
      "text/plain": [
       "(450,)"
      ]
     },
     "execution_count": 18,
     "metadata": {},
     "output_type": "execute_result"
    }
   ],
   "source": [
    "t_bar[0::4].shape"
   ]
  },
  {
   "cell_type": "code",
   "execution_count": null,
   "metadata": {},
   "outputs": [],
   "source": []
  },
  {
   "cell_type": "code",
   "execution_count": 19,
   "metadata": {},
   "outputs": [],
   "source": [
    "b_2 = 1 - (math.pi * t_bar)**0.5 * np.exp(t_bar) * special.erfc(t_bar ** 0.5)\n",
    "b_1 = (np.exp(t_bar) * special.erfc(t_bar ** 0.5))"
   ]
  },
  {
   "cell_type": "code",
   "execution_count": 20,
   "metadata": {},
   "outputs": [
    {
     "data": {
      "text/plain": [
       "(450,)"
      ]
     },
     "execution_count": 20,
     "metadata": {},
     "output_type": "execute_result"
    }
   ],
   "source": [
    "b_eff_imp.shape"
   ]
  },
  {
   "cell_type": "code",
   "execution_count": 21,
   "metadata": {},
   "outputs": [
    {
     "data": {
      "text/plain": [
       "[<matplotlib.lines.Line2D at 0x24ec4957888>]"
      ]
     },
     "execution_count": 21,
     "metadata": {},
     "output_type": "execute_result"
    },
    {
     "data": {
      "image/png": "[encoded data removed]",
      "text/plain": [
       "<Figure size 432x288 with 1 Axes>"
      ]
     },
     "metadata": {
      "needs_background": "light"
     },
     "output_type": "display_data"
    }
   ],
   "source": [
    "plt.plot(t_bar[::4],b_eff_imp)\n",
    "\n",
    "\n",
    "# plt.xlabel(r'Time (t)')\n",
    "# plt.ylabel(r'Effective Permeability $K_{eff}$')\n",
    "# plt.axis([0, 5, 1, 1.25])\n",
    "\n",
    "# plt.savefig('plot_K', dpi=300)"
   ]
  },
  {
   "cell_type": "code",
   "execution_count": 22,
   "metadata": {},
   "outputs": [
    {
     "ename": "NameError",
     "evalue": "name 'b_eff' is not defined",
     "output_type": "error",
     "traceback": [
      "\u001b[1;31m---------------------------------------------------------------------------\u001b[0m",
      "\u001b[1;31mNameError\u001b[0m                                 Traceback (most recent call last)",
      "\u001b[1;32m<ipython-input-22-072a73f1ab84>\u001b[0m in \u001b[0;36m<module>\u001b[1;34m\u001b[0m\n\u001b[0;32m      1\u001b[0m \u001b[0mplt\u001b[0m\u001b[1;33m.\u001b[0m\u001b[0mplot\u001b[0m\u001b[1;33m(\u001b[0m\u001b[0mt_bar\u001b[0m\u001b[1;33m,\u001b[0m\u001b[0mb_1\u001b[0m\u001b[1;33m)\u001b[0m\u001b[1;33m\u001b[0m\u001b[1;33m\u001b[0m\u001b[0m\n\u001b[0;32m      2\u001b[0m \u001b[0mplt\u001b[0m\u001b[1;33m.\u001b[0m\u001b[0mplot\u001b[0m\u001b[1;33m(\u001b[0m\u001b[0mt_bar\u001b[0m\u001b[1;33m,\u001b[0m\u001b[0mb_2\u001b[0m\u001b[1;33m)\u001b[0m\u001b[1;33m\u001b[0m\u001b[1;33m\u001b[0m\u001b[0m\n\u001b[1;32m----> 3\u001b[1;33m \u001b[0mplt\u001b[0m\u001b[1;33m.\u001b[0m\u001b[0mplot\u001b[0m\u001b[1;33m(\u001b[0m\u001b[0mt_bar\u001b[0m\u001b[1;33m,\u001b[0m\u001b[0mb_eff\u001b[0m\u001b[1;33m)\u001b[0m\u001b[1;33m\u001b[0m\u001b[1;33m\u001b[0m\u001b[0m\n\u001b[0m\u001b[0;32m      4\u001b[0m \u001b[1;33m\u001b[0m\u001b[0m\n\u001b[0;32m      5\u001b[0m \u001b[0mplt\u001b[0m\u001b[1;33m.\u001b[0m\u001b[0mplot\u001b[0m\u001b[1;33m(\u001b[0m\u001b[0mt_bar\u001b[0m\u001b[1;33m[\u001b[0m\u001b[1;33m:\u001b[0m\u001b[1;33m:\u001b[0m\u001b[1;36m4\u001b[0m\u001b[1;33m]\u001b[0m\u001b[1;33m,\u001b[0m\u001b[0mb_eff_imp\u001b[0m\u001b[1;33m)\u001b[0m\u001b[1;33m\u001b[0m\u001b[1;33m\u001b[0m\u001b[0m\n",
      "\u001b[1;31mNameError\u001b[0m: name 'b_eff' is not defined"
     ]
    },
    {
     "data": {
      "image/png": "[encoded data removed]",
      "text/plain": [
       "<Figure size 432x288 with 1 Axes>"
      ]
     },
     "metadata": {
      "needs_background": "light"
     },
     "output_type": "display_data"
    }
   ],
   "source": [
    "plt.plot(t_bar,b_1)\n",
    "plt.plot(t_bar,b_2)\n",
    "plt.plot(t_bar,b_eff)\n",
    "\n",
    "plt.plot(t_bar[::4],b_eff_imp)\n",
    "\n",
    "plt.xlabel(r'Normalized Time ($\\bar {t}$)')\n",
    "plt.ylabel(r'$b$')\n",
    "plt.legend((r'$b_1$',r'$b_2$','$b_{eff}$','$b_{eff_imp}$'))\n",
    "\n",
    "# plt.axis([0, 500, 0, 0.55])\n",
    "\n",
    "# plt.plot(t_bar,1/(2*t_bar))\n",
    "\n",
    "plt.savefig('plot_b', dpi=300)"
   ]
  },
  {
   "cell_type": "code",
   "execution_count": 23,
   "metadata": {},
   "outputs": [
    {
     "data": {
      "text/plain": [
       "array([0.80004435, 0.73545434, 0.6914812 , ..., 0.06259804, 0.06258085,\n",
       "       0.06256368])"
      ]
     },
     "execution_count": 23,
     "metadata": {},
     "output_type": "execute_result"
    }
   ],
   "source": [
    "b_1"
   ]
  },
  {
   "cell_type": "code",
   "execution_count": 24,
   "metadata": {},
   "outputs": [
    {
     "ename": "NameError",
     "evalue": "name 'df_K' is not defined",
     "output_type": "error",
     "traceback": [
      "\u001b[1;31m---------------------------------------------------------------------------\u001b[0m",
      "\u001b[1;31mNameError\u001b[0m                                 Traceback (most recent call last)",
      "\u001b[1;32m<ipython-input-24-44a98f601c34>\u001b[0m in \u001b[0;36m<module>\u001b[1;34m\u001b[0m\n\u001b[1;32m----> 1\u001b[1;33m \u001b[0mx1_2d\u001b[0m \u001b[1;33m=\u001b[0m \u001b[0mdf_K\u001b[0m\u001b[1;33m.\u001b[0m\u001b[0mvalues\u001b[0m\u001b[1;33m.\u001b[0m\u001b[0mT\u001b[0m\u001b[1;33m\u001b[0m\u001b[1;33m\u001b[0m\u001b[0m\n\u001b[0m\u001b[0;32m      2\u001b[0m \u001b[0mw1\u001b[0m \u001b[1;33m=\u001b[0m \u001b[0mdf_q\u001b[0m\u001b[1;33m.\u001b[0m\u001b[0mvalues\u001b[0m\u001b[1;33m[\u001b[0m\u001b[1;33m:\u001b[0m\u001b[1;33m,\u001b[0m\u001b[1;36m0\u001b[0m\u001b[1;33m]\u001b[0m\u001b[1;33m\u001b[0m\u001b[1;33m\u001b[0m\u001b[0m\n\u001b[0;32m      3\u001b[0m \u001b[0md1\u001b[0m \u001b[1;33m=\u001b[0m \u001b[0msm\u001b[0m\u001b[1;33m.\u001b[0m\u001b[0mDescrStatsW\u001b[0m\u001b[1;33m(\u001b[0m\u001b[0mx1_2d\u001b[0m\u001b[1;33m,\u001b[0m \u001b[0mweights\u001b[0m\u001b[1;33m=\u001b[0m\u001b[0mw1\u001b[0m\u001b[1;33m)\u001b[0m\u001b[1;33m\u001b[0m\u001b[1;33m\u001b[0m\u001b[0m\n\u001b[0;32m      4\u001b[0m \u001b[0mdf_mean\u001b[0m \u001b[1;33m=\u001b[0m \u001b[0md1\u001b[0m\u001b[1;33m.\u001b[0m\u001b[0mmean\u001b[0m\u001b[1;33m\u001b[0m\u001b[1;33m\u001b[0m\u001b[0m\n\u001b[0;32m      5\u001b[0m \u001b[1;33m\u001b[0m\u001b[0m\n",
      "\u001b[1;31mNameError\u001b[0m: name 'df_K' is not defined"
     ]
    }
   ],
   "source": [
    "x1_2d = df_K.values.T\n",
    "w1 = df_q.values[:,0]\n",
    "d1 = sm.DescrStatsW(x1_2d, weights=w1)\n",
    "df_mean = d1.mean\n",
    "\n",
    "\n"
   ]
  },
  {
   "cell_type": "code",
   "execution_count": 25,
   "metadata": {},
   "outputs": [
    {
     "ename": "NameError",
     "evalue": "name 'd1' is not defined",
     "output_type": "error",
     "traceback": [
      "\u001b[1;31m---------------------------------------------------------------------------\u001b[0m",
      "\u001b[1;31mNameError\u001b[0m                                 Traceback (most recent call last)",
      "\u001b[1;32m<ipython-input-25-3a89fc8cead9>\u001b[0m in \u001b[0;36m<module>\u001b[1;34m\u001b[0m\n\u001b[1;32m----> 1\u001b[1;33m \u001b[0mdf_perc\u001b[0m \u001b[1;33m=\u001b[0m \u001b[0md1\u001b[0m\u001b[1;33m.\u001b[0m\u001b[0mquantile\u001b[0m\u001b[1;33m(\u001b[0m\u001b[1;33m[\u001b[0m\u001b[1;36m0.25\u001b[0m\u001b[1;33m,\u001b[0m\u001b[1;36m0.5\u001b[0m\u001b[1;33m,\u001b[0m\u001b[1;36m0.75\u001b[0m\u001b[1;33m]\u001b[0m\u001b[1;33m)\u001b[0m\u001b[1;33m.\u001b[0m\u001b[0mvalues\u001b[0m\u001b[1;33m.\u001b[0m\u001b[0mT\u001b[0m\u001b[1;33m\u001b[0m\u001b[1;33m\u001b[0m\u001b[0m\n\u001b[0m",
      "\u001b[1;31mNameError\u001b[0m: name 'd1' is not defined"
     ]
    }
   ],
   "source": [
    "df_perc = d1.quantile([0.25,0.5,0.75]).values.T"
   ]
  },
  {
   "cell_type": "code",
   "execution_count": 26,
   "metadata": {},
   "outputs": [
    {
     "ename": "NameError",
     "evalue": "name 'df_perc' is not defined",
     "output_type": "error",
     "traceback": [
      "\u001b[1;31m---------------------------------------------------------------------------\u001b[0m",
      "\u001b[1;31mNameError\u001b[0m                                 Traceback (most recent call last)",
      "\u001b[1;32m<ipython-input-26-66c669dc2147>\u001b[0m in \u001b[0;36m<module>\u001b[1;34m\u001b[0m\n\u001b[1;32m----> 1\u001b[1;33m \u001b[0mdf_perc\u001b[0m\u001b[1;33m.\u001b[0m\u001b[0mshape\u001b[0m\u001b[1;33m\u001b[0m\u001b[1;33m\u001b[0m\u001b[0m\n\u001b[0m",
      "\u001b[1;31mNameError\u001b[0m: name 'df_perc' is not defined"
     ]
    }
   ],
   "source": [
    "df_perc.shape"
   ]
  },
  {
   "cell_type": "code",
   "execution_count": null,
   "metadata": {},
   "outputs": [],
   "source": []
  },
  {
   "cell_type": "code",
   "execution_count": 27,
   "metadata": {},
   "outputs": [
    {
     "ename": "NameError",
     "evalue": "name 'df_perc' is not defined",
     "output_type": "error",
     "traceback": [
      "\u001b[1;31m---------------------------------------------------------------------------\u001b[0m",
      "\u001b[1;31mNameError\u001b[0m                                 Traceback (most recent call last)",
      "\u001b[1;32m<ipython-input-27-7488ed8335af>\u001b[0m in \u001b[0;36m<module>\u001b[1;34m\u001b[0m\n\u001b[1;32m----> 1\u001b[1;33m \u001b[0mplt\u001b[0m\u001b[1;33m.\u001b[0m\u001b[0mplot\u001b[0m\u001b[1;33m(\u001b[0m\u001b[0mt\u001b[0m\u001b[1;33m,\u001b[0m\u001b[0mdf_perc\u001b[0m\u001b[1;33m[\u001b[0m\u001b[1;33m:\u001b[0m\u001b[1;33m,\u001b[0m\u001b[1;36m0\u001b[0m\u001b[1;33m]\u001b[0m\u001b[1;33m,\u001b[0m\u001b[1;34m'k'\u001b[0m\u001b[1;33m,\u001b[0m\u001b[0mlabel\u001b[0m\u001b[1;33m=\u001b[0m\u001b[1;34mr'$25^{th} percentile$'\u001b[0m\u001b[1;33m)\u001b[0m\u001b[1;33m\u001b[0m\u001b[1;33m\u001b[0m\u001b[0m\n\u001b[0m\u001b[0;32m      2\u001b[0m \u001b[1;33m\u001b[0m\u001b[0m\n\u001b[0;32m      3\u001b[0m \u001b[0mplt\u001b[0m\u001b[1;33m.\u001b[0m\u001b[0mplot\u001b[0m\u001b[1;33m(\u001b[0m\u001b[0mt\u001b[0m\u001b[1;33m,\u001b[0m\u001b[0mdf_perc\u001b[0m\u001b[1;33m[\u001b[0m\u001b[1;33m:\u001b[0m\u001b[1;33m,\u001b[0m\u001b[1;36m1\u001b[0m\u001b[1;33m]\u001b[0m\u001b[1;33m,\u001b[0m\u001b[1;34m'--'\u001b[0m\u001b[1;33m,\u001b[0m\u001b[0mlabel\u001b[0m\u001b[1;33m=\u001b[0m\u001b[1;34mr'$Median$'\u001b[0m\u001b[1;33m)\u001b[0m\u001b[1;33m\u001b[0m\u001b[1;33m\u001b[0m\u001b[0m\n\u001b[0;32m      4\u001b[0m \u001b[0mplt\u001b[0m\u001b[1;33m.\u001b[0m\u001b[0mplot\u001b[0m\u001b[1;33m(\u001b[0m\u001b[0mt\u001b[0m\u001b[1;33m,\u001b[0m\u001b[0mdf_perc\u001b[0m\u001b[1;33m[\u001b[0m\u001b[1;33m:\u001b[0m\u001b[1;33m,\u001b[0m\u001b[1;36m2\u001b[0m\u001b[1;33m]\u001b[0m\u001b[1;33m,\u001b[0m\u001b[1;34m'k'\u001b[0m\u001b[1;33m,\u001b[0m\u001b[0mlabel\u001b[0m\u001b[1;33m=\u001b[0m\u001b[1;34mr'$75^{th} percentile$'\u001b[0m\u001b[1;33m)\u001b[0m\u001b[1;33m\u001b[0m\u001b[1;33m\u001b[0m\u001b[0m\n\u001b[0;32m      5\u001b[0m \u001b[0mplt\u001b[0m\u001b[1;33m.\u001b[0m\u001b[0mplot\u001b[0m\u001b[1;33m(\u001b[0m\u001b[0mt\u001b[0m\u001b[1;33m,\u001b[0m\u001b[0mdf_mean\u001b[0m\u001b[1;33m,\u001b[0m\u001b[0mlabel\u001b[0m\u001b[1;33m=\u001b[0m\u001b[1;34mr'$Mean$'\u001b[0m\u001b[1;33m)\u001b[0m\u001b[1;33m\u001b[0m\u001b[1;33m\u001b[0m\u001b[0m\n",
      "\u001b[1;31mNameError\u001b[0m: name 'df_perc' is not defined"
     ]
    }
   ],
   "source": [
    "plt.plot(t,df_perc[:,0],'k',label=r'$25^{th} percentile$')\n",
    "\n",
    "plt.plot(t,df_perc[:,1],'--',label=r'$Median$')\n",
    "plt.plot(t,df_perc[:,2],'k',label=r'$75^{th} percentile$')\n",
    "plt.plot(t,df_mean,label=r'$Mean$')\n",
    "\n",
    "# plt.axis([0, 5, 0.50, 2])\n",
    "\n",
    "plt.xlabel(r'Time (t)')\n",
    "plt.ylabel(r'Effective Permeability ($K$)')\n",
    "ax.set_yscale('log')\n",
    "plt.legend()\n",
    "\n",
    "plt.savefig('plot_percentile', dpi=300)"
   ]
  },
  {
   "cell_type": "code",
   "execution_count": null,
   "metadata": {},
   "outputs": [],
   "source": [
    "Num_coarse = 1\n",
    "Num_dx = 21\n",
    "dx = 1000/20\n",
    "P_initial = np.zeros([Num_coarse,Num_dx,1])+2-2/1000*np.reshape(np.arange(0,1000+dx,dx),[1,Num_dx,1])\n",
    "\n",
    "\n"
   ]
  },
  {
   "cell_type": "code",
   "execution_count": null,
   "metadata": {},
   "outputs": [],
   "source": [
    "P_initial"
   ]
  },
  {
   "cell_type": "code",
   "execution_count": null,
   "metadata": {},
   "outputs": [],
   "source": [
    "q[-1]/DP[-1]"
   ]
  },
  {
   "cell_type": "code",
   "execution_count": null,
   "metadata": {},
   "outputs": [],
   "source": [
    "DP[0]"
   ]
  },
  {
   "cell_type": "code",
   "execution_count": null,
   "metadata": {},
   "outputs": [],
   "source": []
  }
 ],
 "metadata": {
  "kernelspec": {
   "display_name": "Python 3",
   "language": "python",
   "name": "python3"
  },
  "language_info": {
   "codemirror_mode": {
    "name": "ipython",
    "version": 3
   },
   "file_extension": ".py",
   "mimetype": "text/x-python",
   "name": "python",
   "nbconvert_exporter": "python",
   "pygments_lexer": "ipython3",
   "version": "3.7.7"
  }
 },
 "nbformat": 4,
 "nbformat_minor": 2
}
