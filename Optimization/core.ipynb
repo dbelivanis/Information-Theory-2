{
 "metadata": {
  "language_info": {
   "codemirror_mode": {
    "name": "ipython",
    "version": 3
   },
   "file_extension": ".py",
   "mimetype": "text/x-python",
   "name": "python",
   "nbconvert_exporter": "python",
   "pygments_lexer": "ipython3",
   "version": "3.8.5-final"
  },
  "orig_nbformat": 2,
  "kernelspec": {
   "name": "julia-1.4",
   "display_name": "Julia 1.4.1",
   "language": "julia"
  }
 },
 "nbformat": 4,
 "nbformat_minor": 2,
 "cells": [
  {
   "cell_type": "code",
   "execution_count": 1,
   "metadata": {},
   "outputs": [
    {
     "output_type": "stream",
     "name": "stderr",
     "text": [
      "WARNING: using param.param in module aux_functions conflicts with an existing identifier.\nWARNING: could not import HDF5.HDF5Group into _hdf5_implementation\nWARNING: could not import HDF5.HDF5Dataset into _hdf5_implementation\n┌ Warning: Error requiring `HDF5` from `Plots`\n│   exception = (LoadError(\"/home/dimitrios/.julia/packages/Plots/uCh2y/src/backends/hdf5.jl\", 162, UndefVarError(:HDF5Group)), Union{Ptr{Nothing}, Base.InterpreterIP}[Ptr{Nothing} @0x00007f1199b45843, Ptr{Nothing} @0x00007f1199bd217c, Ptr{Nothing} @0x00007f1199bd273b, Ptr{Nothing} @0x00007f1199bd2389, Ptr{Nothing} @0x00007f1199bd28f0, Ptr{Nothing} @0x00007f1199bd39c8, Ptr{Nothing} @0x00007f1199bd4616, Base.InterpreterIP in top-level CodeInfo for Plots._hdf5_implementation at statement 4, Ptr{Nothing} @0x00007f1199bece08, Ptr{Nothing} @0x00007f1199bed78e, Ptr{Nothing} @0x00007f1199bed13a, Ptr{Nothing} @0x00007f1199bed3c8, Ptr{Nothing} @0x00007f1199bc8105, Ptr{Nothing} @0x00007f1199bee15d, Ptr{Nothing} @0x00007f118be7dfa1, Ptr{Nothing} @0x00007f1152c1e4dc, Ptr{Nothing} @0x00007f1199bd275b, Ptr{Nothing} @0x00007f1199bd2389, Ptr{Nothing} @0x00007f1199bd28f0, Ptr{Nothing} @0x00007f1199bd39c8, Ptr{Nothing} @0x00007f1199bd4616, Base.InterpreterIP in top-level CodeInfo for Plots at statement 10, Ptr{Nothing} @0x00007f1199bece08, Ptr{Nothing} @0x00007f1199bedf20, Ptr{Nothing} @0x00007f1152c0b001, Ptr{Nothing} @0x00007f1152c0b02c, Ptr{Nothing} @0x00007f1152c0aa84, Ptr{Nothing} @0x00007f1152c0a807, Ptr{Nothing} @0x00007f1152c0a81c, Ptr{Nothing} @0x00007f1152c0a672, Ptr{Nothing} @0x00007f1152c0a005, Ptr{Nothing} @0x00007f1152c0a02c, Ptr{Nothing} @0x00007f1152bf85e5, Ptr{Nothing} @0x00007f1152bf8c68, Ptr{Nothing} @0x00007f1152bf94ec, Ptr{Nothing} @0x00007f1199bec4d1, Ptr{Nothing} @0x00007f1199be3bfc, Ptr{Nothing} @0x00007f1185c0f9ce, Ptr{Nothing} @0x00007f1185c11512, Ptr{Nothing} @0x00007f1185c1616b, Ptr{Nothing} @0x00007f1185c18324, Ptr{Nothing} @0x00007f1185c04a42, Ptr{Nothing} @0x00007f1199bec113, Ptr{Nothing} @0x00007f1199bed266, Ptr{Nothing} @0x00007f1199bed78e, Ptr{Nothing} @0x00007f1199bed13a, Ptr{Nothing} @0x00007f1199bc8105, Ptr{Nothing} @0x00007f1199bee15d, Ptr{Nothing} @0x00007f118c00523b, Ptr{Nothing} @0x00007f1199bd275b, Ptr{Nothing} @0x00007f1199bd2389, Ptr{Nothing} @0x00007f1199bd28f0, Ptr{Nothing} @0x00007f1199bd39c8, Ptr{Nothing} @0x00007f1199bd4616, Base.InterpreterIP in top-level CodeInfo for Main at statement 0, Ptr{Nothing} @0x00007f1199bece08, Ptr{Nothing} @0x00007f1199bed3c8, Ptr{Nothing} @0x00007f1199bedf20, Ptr{Nothing} @0x00007f1185ba7036, Ptr{Nothing} @0x00007f1185ba2d5e, Ptr{Nothing} @0x00007f1199bcadf8, Ptr{Nothing} @0x00007f1199bcb565, Ptr{Nothing} @0x00007f1185b957c2, Ptr{Nothing} @0x00007f1185b9599e, Ptr{Nothing} @0x00007f1185b959bc, Ptr{Nothing} @0x00007f1199bd7cbb, Ptr{Nothing} @0x0000000000000000])\n└ @ Requires /home/dimitrios/.julia/packages/Requires/035xH/src/require.jl:44\n"
     ]
    }
   ],
   "source": [
    "include(\"./param.jl\");\n",
    "include(\"./aux_functions.jl\");"
   ]
  },
  {
   "cell_type": "code",
   "execution_count": 2,
   "metadata": {},
   "outputs": [],
   "source": [
    "using Main.aux_functions\n",
    "using Main.param"
   ]
  },
  {
   "cell_type": "code",
   "execution_count": 1,
   "metadata": {},
   "outputs": [
    {
     "output_type": "stream",
     "name": "stderr",
     "text": [
      "WARNING: could not import HDF5.HDF5Group into _hdf5_implementation\nWARNING: could not import HDF5.HDF5Dataset into _hdf5_implementation\n┌ Warning: Error requiring `HDF5` from `Plots`\n│   exception = (LoadError(\"/home/dimitrios/.julia/packages/Plots/uCh2y/src/backends/hdf5.jl\", 162, UndefVarError(:HDF5Group)), Union{Ptr{Nothing}, Base.InterpreterIP}[Ptr{Nothing} @0x00007f62a82f0843, Ptr{Nothing} @0x00007f62a837d17c, Ptr{Nothing} @0x00007f62a837d73b, Ptr{Nothing} @0x00007f62a837d389, Ptr{Nothing} @0x00007f62a837d8f0, Ptr{Nothing} @0x00007f62a837e9c8, Ptr{Nothing} @0x00007f62a837f616, Base.InterpreterIP in top-level CodeInfo for Plots._hdf5_implementation at statement 4, Ptr{Nothing} @0x00007f62a8397e08, Ptr{Nothing} @0x00007f62a839878e, Ptr{Nothing} @0x00007f62a839813a, Ptr{Nothing} @0x00007f62a83983c8, Ptr{Nothing} @0x00007f62a8373105, Ptr{Nothing} @0x00007f62a839915d, Ptr{Nothing} @0x00007f629a634fa1, Ptr{Nothing} @0x00007f626317b54c, Ptr{Nothing} @0x00007f62a837d75b, Ptr{Nothing} @0x00007f62a837d389, Ptr{Nothing} @0x00007f62a837d8f0, Ptr{Nothing} @0x00007f62a837e9c8, Ptr{Nothing} @0x00007f62a837f616, Base.InterpreterIP in top-level CodeInfo for Plots at statement 10, Ptr{Nothing} @0x00007f62a8397e08, Ptr{Nothing} @0x00007f62a8398f20, Ptr{Nothing} @0x00007f6263168071, Ptr{Nothing} @0x00007f626316809c, Ptr{Nothing} @0x00007f6263167af4, Ptr{Nothing} @0x00007f6263167877, Ptr{Nothing} @0x00007f626316788c, Ptr{Nothing} @0x00007f62631676e2, Ptr{Nothing} @0x00007f6263167075, Ptr{Nothing} @0x00007f626316709c, Ptr{Nothing} @0x00007f6263155575, Ptr{Nothing} @0x00007f6263155bf8, Ptr{Nothing} @0x00007f626315647c, Ptr{Nothing} @0x00007f62a83974d1, Ptr{Nothing} @0x00007f62a838ebfc, Ptr{Nothing} @0x00007f62943c34de, Ptr{Nothing} @0x00007f62943c5022, Ptr{Nothing} @0x00007f62943c9c7b, Ptr{Nothing} @0x00007f62943cbe34, Ptr{Nothing} @0x00007f62943b8552, Ptr{Nothing} @0x00007f62a8397113, Ptr{Nothing} @0x00007f62a8398266, Ptr{Nothing} @0x00007f62a837ef7d, Ptr{Nothing} @0x00007f62a837f616, Base.InterpreterIP in top-level CodeInfo for Main at statement 0, Ptr{Nothing} @0x00007f62a8397e08, Ptr{Nothing} @0x00007f62a8398f20, Ptr{Nothing} @0x00007f629435e036, Ptr{Nothing} @0x00007f6294359d5e, Ptr{Nothing} @0x00007f62a8375df8, Ptr{Nothing} @0x00007f62a8376565, Ptr{Nothing} @0x00007f629434c7c2, Ptr{Nothing} @0x00007f629434c99e, Ptr{Nothing} @0x00007f629434c9bc, Ptr{Nothing} @0x00007f62a8382cbb, Ptr{Nothing} @0x0000000000000000])\n└ @ Requires /home/dimitrios/.julia/packages/Requires/035xH/src/require.jl:44\n"
     ]
    }
   ],
   "source": [
    "using ADCME\n",
    "using SparseArrays\n",
    "\n",
    "using DelimitedFiles\n",
    "using Dates\n",
    "using Plots"
   ]
  },
  {
   "cell_type": "code",
   "execution_count": 2,
   "metadata": {},
   "outputs": [
    {
     "output_type": "execute_result",
     "data": {
      "text/plain": [
       "\"23:52\""
      ]
     },
     "metadata": {},
     "execution_count": 2
    }
   ],
   "source": [
    "Dates.format(now(), \"HH:MM\") "
   ]
  },
  {
   "cell_type": "code",
   "execution_count": 4,
   "metadata": {},
   "outputs": [],
   "source": [
    "param_model_val = param_model();\n",
    "tf_variables, h_t, q_t_x, q_t_y = Darcy_flow_solver(param_model_val);"
   ]
  },
  {
   "source": [
    "loss, opt_ADAM, opt_LFGS, opt_ADAM_sum, opt_LFGS_sum, diff_eval,p_pre_soft_max, p = Info_upscale(tf_variables,param_model_val,q_t_x, q_t_y)"
   ],
   "cell_type": "code",
   "metadata": {},
   "execution_count": 5,
   "outputs": [
    {
     "output_type": "stream",
     "name": "stdout",
     "text": [
      "3.41659009037476e-5/home/dimitrios/.julia/adcme/lib/python3.7/site-packages/tensorflow_core/python/framework/indexed_slices.py:424: UserWarning: Converting sparse IndexedSlices to a dense Tensor of unknown shape. This may consume a large amount of memory.\n",
      "  \"Converting sparse IndexedSlices to a dense Tensor of unknown shape. \"\n",
      "/home/dimitrios/.julia/adcme/lib/python3.7/site-packages/tensorflow_core/python/framework/indexed_slices.py:424: UserWarning: Converting sparse IndexedSlices to a dense Tensor of unknown shape. This may consume a large amount of memory.\n",
      "  \"Converting sparse IndexedSlices to a dense Tensor of unknown shape. \"\n",
      "/home/dimitrios/.julia/adcme/lib/python3.7/site-packages/tensorflow_core/python/framework/indexed_slices.py:424: UserWarning: Converting sparse IndexedSlices to a dense Tensor of unknown shape. This may consume a large amount of memory.\n",
      "  \"Converting sparse IndexedSlices to a dense Tensor of unknown shape. \"\n",
      "/home/dimitrios/.julia/adcme/lib/python3.7/site-packages/tensorflow_core/python/framework/indexed_slices.py:424: UserWarning: Converting sparse IndexedSlices to a dense Tensor of unknown shape. This may consume a large amount of memory.\n",
      "  \"Converting sparse IndexedSlices to a dense Tensor of unknown shape. \"\n"
     ]
    },
    {
     "output_type": "execute_result",
     "data": {
      "text/plain": [
       "(PyObject <tf.Tensor 'add_72:0' shape=() dtype=float64>, PyObject <tf.Operation 'Adam' type=NoOp>, PyObject <tensorflow.contrib.opt.python.training.external_optimizer.ScipyOptimizerInterface object at 0x7f10b38fc5d0>, PyObject <tf.Operation 'Adam_1' type=NoOp>, PyObject <tensorflow.contrib.opt.python.training.external_optimizer.ScipyOptimizerInterface object at 0x7f10b232f410>, PyObject <tf.Tensor 'Max_1:0' shape=() dtype=float64>, PyObject <tf.Variable 'Variable_3:0' shape=(1, 64) dtype=float64_ref>, PyObject <tf.Tensor 'Softmax:0' shape=(1, 64) dtype=float64>)"
      ]
     },
     "metadata": {},
     "execution_count": 5
    }
   ]
  },
  {
   "cell_type": "code",
   "execution_count": 6,
   "metadata": {},
   "outputs": [
    {
     "output_type": "stream",
     "name": "stderr",
     "text": [
      "2021-03-17 13:16:18.230757: I tensorflow/core/platform/cpu_feature_guard.cc:142] Your CPU supports instructions that this TensorFlow binary was not compiled to use: SSE4.1 SSE4.2 AVX AVX2 FMA\n2021-03-17 13:16:18.256761: I tensorflow/core/platform/profile_utils/cpu_utils.cc:94] CPU Frequency: 2599990000 Hz\n2021-03-17 13:16:18.257205: I tensorflow/compiler/xla/service/service.cc:168] XLA service 0x556473a57eb0 initialized for platform Host (this does not guarantee that XLA will be used). Devices:\n2021-03-17 13:16:18.257220: I tensorflow/compiler/xla/service/service.cc:176]   StreamExecutor device (0): Host, Default Version\n2021-03-17 13:16:18.258534: I tensorflow/stream_executor/platform/default/dso_loader.cc:44] Successfully opened dynamic library libcuda.so.1\n2021-03-17 13:16:18.320631: I tensorflow/stream_executor/cuda/cuda_gpu_executor.cc:983] successful NUMA node read from SysFS had negative value (-1), but there must be at least one NUMA node, so returning NUMA node zero\n2021-03-17 13:16:18.320959: I tensorflow/compiler/xla/service/service.cc:168] XLA service 0x5564748c4600 initialized for platform CUDA (this does not guarantee that XLA will be used). Devices:\n2021-03-17 13:16:18.320972: I tensorflow/compiler/xla/service/service.cc:176]   StreamExecutor device (0): GeForce GTX 1650, Compute Capability 7.5\n2021-03-17 13:16:18.321095: I tensorflow/stream_executor/cuda/cuda_gpu_executor.cc:983] successful NUMA node read from SysFS had negative value (-1), but there must be at least one NUMA node, so returning NUMA node zero\n2021-03-17 13:16:18.321322: I tensorflow/core/common_runtime/gpu/gpu_device.cc:1618] Found device 0 with properties: \nname: GeForce GTX 1650 major: 7 minor: 5 memoryClockRate(GHz): 1.56\npciBusID: 0000:01:00.0\n2021-03-17 13:16:18.321464: I tensorflow/stream_executor/platform/default/dso_loader.cc:44] Successfully opened dynamic library libcudart.so.10.0\n2021-03-17 13:16:18.322168: I tensorflow/stream_executor/platform/default/dso_loader.cc:44] Successfully opened dynamic library libcublas.so.10.0\n2021-03-17 13:16:18.322796: I tensorflow/stream_executor/platform/default/dso_loader.cc:44] Successfully opened dynamic library libcufft.so.10.0\n2021-03-17 13:16:18.322951: I tensorflow/stream_executor/platform/default/dso_loader.cc:44] Successfully opened dynamic library libcurand.so.10.0\n2021-03-17 13:16:18.323764: I tensorflow/stream_executor/platform/default/dso_loader.cc:44] Successfully opened dynamic library libcusolver.so.10.0\n2021-03-17 13:16:18.324360: I tensorflow/stream_executor/platform/default/dso_loader.cc:44] Successfully opened dynamic library libcusparse.so.10.0\n2021-03-17 13:16:18.326177: I tensorflow/stream_executor/platform/default/dso_loader.cc:44] Successfully opened dynamic library libcudnn.so.7\n2021-03-17 13:16:18.326247: I tensorflow/stream_executor/cuda/cuda_gpu_executor.cc:983] successful NUMA node read from SysFS had negative value (-1), but there must be at least one NUMA node, so returning NUMA node zero\n2021-03-17 13:16:18.326519: I tensorflow/stream_executor/cuda/cuda_gpu_executor.cc:983] successful NUMA node read from SysFS had negative value (-1), but there must be at least one NUMA node, so returning NUMA node zero\n2021-03-17 13:16:18.326732: I tensorflow/core/common_runtime/gpu/gpu_device.cc:1746] Adding visible gpu devices: 0\n2021-03-17 13:16:18.326756: I tensorflow/stream_executor/platform/default/dso_loader.cc:44] Successfully opened dynamic library libcudart.so.10.0\n2021-03-17 13:16:18.327071: I tensorflow/core/common_runtime/gpu/gpu_device.cc:1159] Device interconnect StreamExecutor with strength 1 edge matrix:\n2021-03-17 13:16:18.327079: I tensorflow/core/common_runtime/gpu/gpu_device.cc:1165]      0 \n2021-03-17 13:16:18.327083: I tensorflow/core/common_runtime/gpu/gpu_device.cc:1178] 0:   N \n2021-03-17 13:16:18.327150: I tensorflow/stream_executor/cuda/cuda_gpu_executor.cc:983] successful NUMA node read from SysFS had negative value (-1), but there must be at least one NUMA node, so returning NUMA node zero\n2021-03-17 13:16:18.327397: I tensorflow/stream_executor/cuda/cuda_gpu_executor.cc:983] successful NUMA node read from SysFS had negative value (-1), but there must be at least one NUMA node, so returning NUMA node zero\n2021-03-17 13:16:18.327624: I tensorflow/core/common_runtime/gpu/gpu_device.cc:1304] Created TensorFlow device (/job:localhost/replica:0/task:0/device:GPU:0 with 2612 MB memory) -> physical GPU (device: 0, name: GeForce GTX 1650, pci bus id: 0000:01:00.0, compute capability: 7.5)\n"
     ]
    }
   ],
   "source": [
    "sess = Session(); init(sess);\n"
   ]
  },
  {
   "cell_type": "code",
   "execution_count": 7,
   "metadata": {},
   "outputs": [
    {
     "output_type": "execute_result",
     "data": {
      "text/plain": [
       "100.0"
      ]
     },
     "metadata": {},
     "execution_count": 7
    }
   ],
   "source": [
    "N_k_dis_ = 4\n",
    "T_exp = -2\n",
    "T_=  10.0 .^ -T_exp\n"
   ]
  },
  {
   "cell_type": "code",
   "execution_count": 8,
   "metadata": {},
   "outputs": [],
   "source": []
  },
  {
   "cell_type": "code",
   "execution_count": 9,
   "metadata": {},
   "outputs": [],
   "source": []
  },
  {
   "cell_type": "code",
   "execution_count": 10,
   "metadata": {},
   "outputs": [],
   "source": []
  },
  {
   "cell_type": "code",
   "execution_count": 8,
   "metadata": {},
   "outputs": [
    {
     "output_type": "stream",
     "name": "stdout",
     "text": [
      "-2\t100.0\t0.009649301956094317\t5.763548660295008\t\t4\n",
      "-2\t100.0\t0.0044934808496536124\t7.693269095329374\t\t4\n"
     ]
    },
    {
     "output_type": "execute_result",
     "data": {
      "text/plain": [
       "0.0044934808496536124"
      ]
     },
     "metadata": {},
     "execution_count": 8
    }
   ],
   "source": [
    "save_values(sess,param_model_val,tf_variables,q_t_x, q_t_y,p,\"w\")\n",
    "\n",
    "print_status(sess,loss,diff_eval,T_exp,T_,N_k_dis_,tf_variables)\n",
    "ScipyOptimizerMinimize(sess, opt_LFGS_sum,feed_dict = Dict(tf_variables.lambda => ones(1)*T_,tf_variables.N_k_dis=>8))\n",
    "print_status(sess,loss,diff_eval,T_exp,T_,N_k_dis_,tf_variables)\n",
    "\n",
    "check_diff = run(sess,diff_eval,feed_dict = Dict(tf_variables.lambda => ones(1)*T_,tf_variables.N_k_dis=>N_k_dis_))"
   ]
  },
  {
   "cell_type": "code",
   "execution_count": null,
   "metadata": {},
   "outputs": [],
   "source": []
  },
  {
   "cell_type": "code",
   "execution_count": 9,
   "metadata": {},
   "outputs": [
    {
     "output_type": "execute_result",
     "data": {
      "text/plain": [
       "0"
      ]
     },
     "metadata": {},
     "execution_count": 9
    }
   ],
   "source": [
    "  T_exp_final =0\n",
    "\n",
    "\n"
   ]
  },
  {
   "cell_type": "code",
   "execution_count": 10,
   "metadata": {},
   "outputs": [
    {
     "output_type": "stream",
     "name": "stdout",
     "text": [
      "-2\t100.0\t0.0044934808496536124\t7.693269095329374\t\t4\n-2"
     ]
    }
   ],
   "source": [
    "\n",
    "while T_exp <= T_exp_final\n",
    "\n",
    "    T_=  10.0 ^ (-T_exp) \n",
    "\n",
    "    print_status(sess,loss,diff_eval,T_exp,T_,N_k_dis_,tf_variables)\n",
    "    check_diff_ = run(sess,diff_eval,feed_dict = Dict(tf_variables.lambda => ones(1)*T_,tf_variables.N_k_dis=>N_k_dis_))  \n",
    "    print_status(sess,loss,diff_eval,T_exp,T_,N_k_dis_,tf_variables)\n",
    "    ScipyOptimizerMinimize(sess, opt_LFGS,feed_dict = Dict(tf_variables.lambda => ones(1)*T_,tf_variables.N_k_dis=>N_k_dis_))\n",
    "    print_status(sess,loss,diff_eval,T_exp,T_,N_k_dis_,tf_variables)\n",
    "    if round(T_exp,digits=2)%1 == 0\n",
    "\n",
    "        save_values(sess,param_model_val,tf_variables,q_t_x, q_t_y,p)\n",
    "        check_diff_ = run(sess,diff_eval,feed_dict = Dict(tf_variables.lambda => ones(1)*T_,tf_variables.N_k_dis=>N_k_dis_))  \n",
    "        N_k_dis_ = update_K_p(sess,param_model_val,tf_variables,check_diff_,N_k_dis_,p_pre_soft_max)\n",
    "\n",
    "    end\n",
    "\n",
    "\n",
    "    T_exp += 0.1\n",
    "end\n"
   ]
  }
 ]
}