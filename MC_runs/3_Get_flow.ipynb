{
 "cells": [
  {
   "cell_type": "markdown",
   "source": [
    "### Libraries"
   ],
   "metadata": {}
  },
  {
   "cell_type": "code",
   "execution_count": 1,
   "source": [
    "import matplotlib.pyplot as plt\r\n",
    "from scipy import stats\r\n",
    "import numpy as np\r\n",
    "import pandas as pd\r\n",
    "import time\r\n",
    "from tqdm.notebook import tnrange, tqdm\r\n",
    "import os"
   ],
   "outputs": [],
   "metadata": {}
  },
  {
   "cell_type": "markdown",
   "source": [
    "### Inputs parameters"
   ],
   "metadata": {}
  },
  {
   "cell_type": "code",
   "execution_count": 2,
   "source": [
    "Ntsteps = 1800\r\n",
    "Ninterfaces = 63\r\n",
    "Nx = 64\r\n",
    "Ny = Nx\r\n",
    "Nr = 100\r\n",
    "L = 1000.\r\n",
    "dx = L/Nx\r\n",
    "dy = dx"
   ],
   "outputs": [],
   "metadata": {}
  },
  {
   "cell_type": "code",
   "execution_count": 7,
   "source": [
    "# run_name = 'Run_no_zero_flow_Run_1610993549'./../../MC_runs/Run_no_zero_flow_no_oscilations_Run_Run_1620834677/MC/runs/\r\n",
    "folder_name = './../../../MC_runs/Run_no_zero_flow_no_oscilations_Run_Run_1633563563/MC/runs/'"
   ],
   "outputs": [],
   "metadata": {}
  },
  {
   "cell_type": "markdown",
   "source": [
    "### Create aux variables"
   ],
   "metadata": {}
  },
  {
   "cell_type": "code",
   "execution_count": 8,
   "source": [
    "k=np.zeros(Nx*Ny)\r\n",
    "qcell = np.zeros((Ny,Ntsteps))\r\n",
    "q_x = np.zeros((Nr,Ntsteps))\r\n",
    "q_y = np.zeros((Nr,Ntsteps))\r\n",
    "\r\n",
    "HMC = np.zeros((Nr+2,Nx,Ntsteps))"
   ],
   "outputs": [],
   "metadata": {}
  },
  {
   "cell_type": "code",
   "execution_count": 9,
   "source": [
    "def harm_2(a,b):\r\n",
    "    \r\n",
    "    harm = 1/a+1/b\r\n",
    "    harm = 2/harm\r\n",
    "    \r\n",
    "    return harm"
   ],
   "outputs": [],
   "metadata": {}
  },
  {
   "cell_type": "code",
   "execution_count": 10,
   "source": [
    "q_tot_x = list()\r\n",
    "q_tot_y = list()\r\n",
    "\r\n",
    "for ir in tnrange(1,101):\r\n",
    "#     print(ir)\r\n",
    "    #     time.sleep(10)\r\n",
    "    f = open(f'./{folder_name}/{ir}/6_months_run.hed')\r\n",
    "    f_k = open(f'./{folder_name}/{ir}/karray_1.0.txt')\r\n",
    "\r\n",
    "    hmc = np.loadtxt(f)\r\n",
    "    K = np.loadtxt(f_k)\r\n",
    "\r\n",
    "    P = hmc.reshape((Ntsteps,64,64))\r\n",
    "    K = K.reshape((64,64)) \r\n",
    "\r\n",
    "    dP_x_u = P[:,15:3*16:16, 15:3*16:16] - P[:,15:3*16:16, 15+1:3*16+1:16]\r\n",
    "    k_x_u = harm_2(K[15:3*16:16,15:3*16:16],K[15:3*16:16,15+1:3*16+1:16])\r\n",
    "\r\n",
    "    dP_x_d = P[:,15+1:4*16:16, 15:3*16:16] - P[:,15+1:4*16:16, 15+1:3*16+1:16]\r\n",
    "    k_x_d = harm_2(K[15+1:4*16:16,15:3*16:16],K[15+1:4*16:16,15+1:3*16+1:16])\r\n",
    "\r\n",
    "\r\n",
    "    q_x = (dP_x_u*k_x_u+dP_x_d*k_x_d)/(2*dx)\r\n",
    "\r\n",
    "\r\n",
    "\r\n",
    "\r\n",
    "\r\n",
    "    dP_y_l = P[:,15:3*16:16, 15:3*16:16] - P[:,15+1:3*16+1:16, 15:3*16:16]\r\n",
    "    k_y_l = harm_2(K[15:3*16:16,15:3*16:16],K[15+1:3*16+1:16,15:3*16:16])\r\n",
    "\r\n",
    "    dP_y_r = P[:,15:3*16:16, 15+1:3*16+1:16] - P[:,15+1:4*16:16, 15+1:3*16+1:16]\r\n",
    "    k_y_r = harm_2(K[15:3*16:16,15+1:3*16+1:16],K[15+1:4*16:16,15+1:3*16+1:16])\r\n",
    "\r\n",
    "\r\n",
    "    q_y = (dP_y_l*k_y_l+dP_y_r*k_y_r)/(2*dx)\r\n",
    "\r\n",
    "    q_tot_x.append(q_x)\r\n",
    "    q_tot_y.append(q_y)\r\n"
   ],
   "outputs": [
    {
     "output_type": "display_data",
     "data": {
      "application/vnd.jupyter.widget-view+json": {
       "version_major": 2,
       "version_minor": 0,
       "model_id": "a37a7110bac849ea972009389d5ea3fd"
      },
      "text/plain": [
       "HBox(children=(FloatProgress(value=0.0), HTML(value='')))"
      ]
     },
     "metadata": {}
    },
    {
     "output_type": "stream",
     "name": "stdout",
     "text": [
      "\n"
     ]
    }
   ],
   "metadata": {}
  },
  {
   "cell_type": "markdown",
   "source": [
    "### Save parameters"
   ],
   "metadata": {}
  },
  {
   "cell_type": "code",
   "execution_count": 11,
   "source": [
    "q_x_list = np.reshape(np.array(q_tot_x),(100,1800,9))\r\n",
    "q_y_list = np.reshape(np.array(q_tot_y),(100,1800,9))"
   ],
   "outputs": [],
   "metadata": {}
  },
  {
   "cell_type": "code",
   "execution_count": 12,
   "source": [
    "os.mkdir(f'./{folder_name}/../flow')"
   ],
   "outputs": [],
   "metadata": {}
  },
  {
   "cell_type": "code",
   "execution_count": 13,
   "source": [
    "for i in range(0,9):\r\n",
    "    \r\n",
    "    np.savetxt(f'./{folder_name}/../flow/Q_x_{i+1}.txt',q_x_list[:,:,i])"
   ],
   "outputs": [],
   "metadata": {}
  },
  {
   "cell_type": "code",
   "execution_count": 14,
   "source": [
    "for i in range(0,9):\r\n",
    "    \r\n",
    "    np.savetxt(f'./{folder_name}/../flow/Q_y_{i+1}.txt',q_y_list[:,:,i])"
   ],
   "outputs": [],
   "metadata": {}
  },
  {
   "cell_type": "code",
   "execution_count": 15,
   "source": [
    "\r\n",
    "\r\n",
    "# np.savetxt(f'./{folder_name}/exitq_x_check.txt',np.reshape(np.array(q_tot_x),(1,-1)))\r\n",
    "# np.savetxt(f'./{folder_name}/exitq_y_check.txt',np.reshape(np.array(q_tot_y),(1,-1)))"
   ],
   "outputs": [],
   "metadata": {}
  },
  {
   "cell_type": "code",
   "execution_count": 16,
   "source": [
    "folder_name"
   ],
   "outputs": [
    {
     "output_type": "execute_result",
     "data": {
      "text/plain": [
       "'./../../../MC_runs/Run_no_zero_flow_no_oscilations_Run_Run_1633563563/MC/runs/'"
      ]
     },
     "metadata": {},
     "execution_count": 16
    }
   ],
   "metadata": {}
  },
  {
   "cell_type": "code",
   "execution_count": 22,
   "source": [
    "plt.plot(np.min(q_x_list,axis=0)[:,4]/((P[:,0,0]-1)/1000))"
   ],
   "outputs": [
    {
     "output_type": "execute_result",
     "data": {
      "text/plain": [
       "[<matplotlib.lines.Line2D at 0x20aebcd8d00>]"
      ]
     },
     "metadata": {},
     "execution_count": 22
    },
    {
     "output_type": "display_data",
     "data": {
      "image/png": "[encoded data removed]",
      "text/plain": [
       "<Figure size 432x288 with 1 Axes>"
      ]
     },
     "metadata": {
      "needs_background": "light"
     }
    }
   ],
   "metadata": {}
  },
  {
   "cell_type": "code",
   "execution_count": 19,
   "source": [
    "plt.plot(np.min(q_y_list,axis=0)[:,4]/((P[:,0,0]-P[:,-1,0])/1000))"
   ],
   "outputs": [
    {
     "output_type": "execute_result",
     "data": {
      "text/plain": [
       "[<matplotlib.lines.Line2D at 0x20aeab94220>]"
      ]
     },
     "metadata": {},
     "execution_count": 19
    },
    {
     "output_type": "display_data",
     "data": {
      "image/png": "[encoded data removed]",
      "text/plain": [
       "<Figure size 432x288 with 1 Axes>"
      ]
     },
     "metadata": {
      "needs_background": "light"
     }
    }
   ],
   "metadata": {}
  },
  {
   "cell_type": "code",
   "execution_count": 23,
   "source": [
    "plt.plot(np.mean(q_x_list,axis=0)[:,4])"
   ],
   "outputs": [
    {
     "output_type": "execute_result",
     "data": {
      "text/plain": [
       "[<matplotlib.lines.Line2D at 0x20ae9b47520>]"
      ]
     },
     "metadata": {},
     "execution_count": 23
    },
    {
     "output_type": "display_data",
     "data": {
      "image/png": "[encoded data removed]",
      "text/plain": [
       "<Figure size 432x288 with 1 Axes>"
      ]
     },
     "metadata": {
      "needs_background": "light"
     }
    }
   ],
   "metadata": {}
  },
  {
   "cell_type": "code",
   "execution_count": 24,
   "source": [
    "K_X = np.mean(q_x_list,axis=0)[:,4]/((P[:,32,0]-1)/1000)"
   ],
   "outputs": [],
   "metadata": {}
  },
  {
   "cell_type": "code",
   "execution_count": 25,
   "source": [
    "np.savetxt(f'./{folder_name}/../flow/K_X.txt',K_X)"
   ],
   "outputs": [],
   "metadata": {}
  },
  {
   "cell_type": "code",
   "execution_count": 26,
   "source": [
    "K_Y = np.mean(q_y_list,axis=0)[:,4]/((P[:,0,0]-P[:,-1,0])/1000)\r\n",
    "np.savetxt(f'./{folder_name}/../flow/K_Y.txt',K_Y)"
   ],
   "outputs": [],
   "metadata": {}
  },
  {
   "cell_type": "code",
   "execution_count": 27,
   "source": [
    "plt.plot(np.mean(q_y_list,axis=0)[:,4])"
   ],
   "outputs": [
    {
     "output_type": "execute_result",
     "data": {
      "text/plain": [
       "[<matplotlib.lines.Line2D at 0x20aebd5d9d0>]"
      ]
     },
     "metadata": {},
     "execution_count": 27
    },
    {
     "output_type": "display_data",
     "data": {
      "image/png": "[encoded data removed]",
      "text/plain": [
       "<Figure size 432x288 with 1 Axes>"
      ]
     },
     "metadata": {
      "needs_background": "light"
     }
    }
   ],
   "metadata": {}
  },
  {
   "cell_type": "code",
   "execution_count": 32,
   "source": [
    "plt.plot(np.mean(q_x_list,axis=0)[:,4])"
   ],
   "outputs": [
    {
     "output_type": "execute_result",
     "data": {
      "text/plain": [
       "[<matplotlib.lines.Line2D at 0x20ad18f5430>]"
      ]
     },
     "metadata": {},
     "execution_count": 32
    },
    {
     "output_type": "display_data",
     "data": {
      "image/png": "[encoded data removed]",
      "text/plain": [
       "<Figure size 432x288 with 1 Axes>"
      ]
     },
     "metadata": {
      "needs_background": "light"
     }
    }
   ],
   "metadata": {}
  },
  {
   "cell_type": "code",
   "execution_count": 28,
   "source": [
    "plt.plot((P[:,0,0]-1)/1000)\r\n",
    "plt.plot((P[:,32,0]-1)/1000)"
   ],
   "outputs": [
    {
     "output_type": "execute_result",
     "data": {
      "text/plain": [
       "[<matplotlib.lines.Line2D at 0x20ad4b00d60>]"
      ]
     },
     "metadata": {},
     "execution_count": 28
    },
    {
     "output_type": "display_data",
     "data": {
      "image/png": "[encoded data removed]",
      "text/plain": [
       "<Figure size 432x288 with 1 Axes>"
      ]
     },
     "metadata": {
      "needs_background": "light"
     }
    }
   ],
   "metadata": {}
  },
  {
   "cell_type": "code",
   "execution_count": null,
   "source": [],
   "outputs": [],
   "metadata": {}
  }
 ],
 "metadata": {
  "kernelspec": {
   "name": "python3",
   "display_name": "Python 3.8.3 64-bit (conda)"
  },
  "language_info": {
   "codemirror_mode": {
    "name": "ipython",
    "version": 3
   },
   "file_extension": ".py",
   "mimetype": "text/x-python",
   "name": "python",
   "nbconvert_exporter": "python",
   "pygments_lexer": "ipython3",
   "version": "3.8.3"
  },
  "metadata": {
   "interpreter": {
    "hash": "7c064f03fa71180975df69d190232b6514895e24ca57203e9c57b5522809105e"
   }
  },
  "interpreter": {
   "hash": "48fdaef39db0d403f1b596fa2f6e595a4cabdd2040b33d548e7350b44efa854f"
  }
 },
 "nbformat": 4,
 "nbformat_minor": 4
}