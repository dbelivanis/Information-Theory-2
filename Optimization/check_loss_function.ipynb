{
 "metadata": {
  "language_info": {
   "codemirror_mode": {
    "name": "ipython",
    "version": 3
   },
   "file_extension": ".py",
   "mimetype": "text/x-python",
   "name": "python",
   "nbconvert_exporter": "python",
   "pygments_lexer": "ipython3",
   "version": "3.8.10"
  },
  "orig_nbformat": 2,
  "kernelspec": {
   "name": "python3810jvsc74a57bd04b52351028b39e813c82a08b1f92f8b08c926f93d8b7c782ac06736618b2486c",
   "display_name": "Python 3.8.10 64-bit ('PythonSoftwareFoundation.Python.3.8_qbz5n2kfra8p0')"
  },
  "metadata": {
   "interpreter": {
    "hash": "4b52351028b39e813c82a08b1f92f8b08c926f93d8b7c782ac06736618b2486c"
   }
  }
 },
 "nbformat": 4,
 "nbformat_minor": 2,
 "cells": [
  {
   "cell_type": "code",
   "execution_count": 1,
   "metadata": {},
   "outputs": [
    {
     "output_type": "stream",
     "name": "stderr",
     "text": [
      "2021-06-02 11:26:18.815339: I tensorflow/stream_executor/platform/default/dso_loader.cc:44] Successfully opened dynamic library cudart64_100.dll\nWARNING: using param.param in module aux_functions conflicts with an existing identifier.\n"
     ]
    }
   ],
   "source": [
    "include(\"./param.jl\");\n",
    "include(\"./aux_functions.jl\");"
   ]
  },
  {
   "cell_type": "code",
   "execution_count": 2,
   "metadata": {},
   "outputs": [],
   "source": [
    "using Main.aux_functions\n",
    "using Main.param"
   ]
  },
  {
   "cell_type": "code",
   "execution_count": 3,
   "metadata": {},
   "outputs": [],
   "source": [
    "using ADCME\n",
    "using SparseArrays\n",
    "\n",
    "using DelimitedFiles\n",
    "using Dates\n",
    "using Plots"
   ]
  },
  {
   "cell_type": "code",
   "execution_count": 4,
   "metadata": {},
   "outputs": [],
   "source": [
    "param_model_val = param_model(N_steps=3);\n",
    "tf_variables, h_t, q_t_x, q_t_y = Darcy_flow_solver(param_model_val);\n",
    "# momment2, y_x_list, y_y_list = load_QoIs(param_model_val);"
   ]
  },
  {
   "cell_type": "code",
   "execution_count": 5,
   "metadata": {},
   "outputs": [
    {
     "output_type": "execute_result",
     "data": {
      "text/plain": [
       "loss_function (generic function with 1 method)"
      ]
     },
     "metadata": {},
     "execution_count": 5
    }
   ],
   "source": [
    "    function loss_function(lambda,p,y_t,q_t)\n",
    "    \n",
    "        q_t = tf.slice(q_t,constant([0,0,0],dtype=Int32),constant([-1,-1,1],dtype=Int32))\n",
    "\n",
    "        dw = tf.squared_difference(constant(reshape(transpose(y_t),(model_param.N_steps,model_param.N_k_fine,1))),constant(reshape(q_t,(model_param.N_steps,1,model_param.N_k))))\n",
    "\n",
    "        dw_2_sum = tf.reduce_mean(dw) \n",
    "\n",
    "        dw_2_mean = tf.reduce_sum(tf.reduce_mean(dw,axis=0).*p)/model_param.N_k_fine\n",
    "\n",
    "        momment2 = reshape(std(y_t,dims=1),(model_param.N_steps,1,1)).^2;\n",
    "\n",
    "        dw = tf.reduce_sum(dw ./ momment2,axis=0)\n",
    "        # dw = tf.reduce_sum(dw ,axis=0)\n",
    "\n",
    "        dw_min = tf.reduce_min(dw,1,keepdims=true)\n",
    "        dw_m_min = -dw + dw_min\n",
    "\n",
    "        F = p .* tf.exp(dw_m_min/lambda)\n",
    "\n",
    "        F = tf.reduce_sum(F,1,keep_dims=true)\n",
    "\n",
    "        F = tf.log(F)- dw_min/lambda\n",
    "\n",
    "        loss = - tf.reduce_sum(F)/model_param.N_k_fine\n",
    "\n",
    "        return loss , dw_2_sum\n",
    "    end"
   ]
  },
  {
   "cell_type": "code",
   "execution_count": 6,
   "metadata": {},
   "outputs": [
    {
     "output_type": "stream",
     "name": "stdout",
     "text": [
      "2.830469177224561e-5C:\\Users\\dbeli\\.julia\\adcme\\lib\\site-packages\\tensorflow_core\\python\\framework\\indexed_slices.py:424: UserWarning: Converting sparse IndexedSlices to a dense Tensor of unknown shape. This may consume a large amount of memory.\n",
      "  \"Converting sparse IndexedSlices to a dense Tensor of unknown shape. \"\n",
      "C:\\Users\\dbeli\\.julia\\adcme\\lib\\site-packages\\tensorflow_core\\python\\framework\\indexed_slices.py:424: UserWarning: Converting sparse IndexedSlices to a dense Tensor of unknown shape. This may consume a large amount of memory.\n",
      "  \"Converting sparse IndexedSlices to a dense Tensor of unknown shape. \"\n",
      "C:\\Users\\dbeli\\.julia\\adcme\\lib\\site-packages\\tensorflow_core\\python\\framework\\indexed_slices.py:424: UserWarning: Converting sparse IndexedSlices to a dense Tensor of unknown shape. This may consume a large amount of memory.\n",
      "  \"Converting sparse IndexedSlices to a dense Tensor of unknown shape. \"\n",
      "C:\\Users\\dbeli\\.julia\\adcme\\lib\\site-packages\\tensorflow_core\\python\\framework\\indexed_slices.py:424: UserWarning: Converting sparse IndexedSlices to a dense Tensor of unknown shape. This may consume a large amount of memory.\n",
      "  \"Converting sparse IndexedSlices to a dense Tensor of unknown shape. \"\n"
     ]
    },
    {
     "output_type": "execute_result",
     "data": {
      "text/plain": [
       "(PyObject <tf.Tensor 'add_72:0' shape=() dtype=float64>, PyObject <tf.Tensor 'add_73:0' shape=() dtype=float64>, PyObject <tf.Operation 'Adam' type=NoOp>, PyObject <tensorflow.contrib.opt.python.training.external_optimizer.ScipyOptimizerInterface object at 0x000000009D659808>, PyObject <tf.Operation 'Adam_1' type=NoOp>, PyObject <tensorflow.contrib.opt.python.training.external_optimizer.ScipyOptimizerInterface object at 0x000000009E87B788>, PyObject <tf.Tensor 'Max_1:0' shape=() dtype=float64>, PyObject <tf.Variable 'Variable_3:0' shape=(1, 64) dtype=float64_ref>, PyObject <tf.Tensor 'Softmax:0' shape=(1, 64) dtype=float64>)"
      ]
     },
     "metadata": {},
     "execution_count": 6
    }
   ],
   "source": [
    "#     # function Info_upscale(tf_variables,model_param,q_t_x, q_t_y,maxiter=400)\n",
    "maxiter=50\n",
    "\n",
    "\n",
    "model_param =param_model_val\n",
    "momment2, y_x_list, y_y_list = load_QoIs(model_param)\n",
    "\n",
    "\n",
    "# N_k_dis_ = 4\n",
    "# p_pre_soft_max_values = ones(1,model_param.N_k) .+ (1e0 .* rand(1,model_param.N_k)) ;\n",
    "\n",
    "\n",
    "\n",
    "\n",
    "# for i = 1:N_k_dis_\n",
    "#     p_pre_soft_max_values[1,i] +=100\n",
    "# end\n",
    "# print(momment2)\n",
    "# p_pre_soft_max = tf.Variable(p_pre_soft_max_values)\n",
    "# p = tf.nn.softmax(p_pre_soft_max,1)\n",
    "\n",
    "# sess = Session(); init(sess);\n",
    "\n",
    "\n",
    "\n",
    "# loss_x_list = [loss_function(tf_variables.lambda,p,y_x_list[ii],q_t_x[ii]) for ii = 1:model_param.N_points]\n",
    "# loss_y_list = [loss_function(tf_variables.lambda,p,y_y_list[ii],q_t_y[ii]) for ii = 1:model_param.N_points];\n",
    "\n",
    "# loss_x = loss_x_list[5][1] #+ loss_x_list[4][1] \n",
    "# loss_y = loss_y_list[5][1] #+ loss_y_list[4][1] \n",
    "# loss = loss_x + loss_y \n",
    "\n",
    "# dw_x = loss_x_list[5][2]# + loss_x_list[4][2] \n",
    "# dw_y = loss_y_list[5][2]# + loss_x_list[4][2] \n",
    "\n",
    "\n",
    "# dw_2_sum = dw_x + dw_y\n",
    "\n",
    "# sort_list = [tf.sort(tf.slice(q_t_x[ii],[0,0,0],[model_param.N_steps,tf_variables.N_k_dis,1]),axis=1) for ii=5]\n",
    "# diff_list = [tf.reduce_max(tf.reduce_min((tf.slice(sort_list[ii],[0,1,0],[-1,-1,-1])-\n",
    "# (tf.slice(sort_list[ii],[0,0,0],[-1,tf_variables.N_k_dis-1,-1])))./tf.reduce_mean(sort_list[ii],axis=1,keep_dims=true),axis=1)) for ii =1]\n",
    "# diff_eval =  tf.reduce_max(tf.stack(diff_list))\n",
    "\n",
    "# opt_ADAM = tf.train.AdamOptimizer(learning_rate=0.001).minimize(loss* 1e5) \n",
    "# opt_LFGS = ScipyOptimizerInterface(loss* 1e5; method=\"L-BFGS-B\", options=Dict(\"maxiter\"=> 400, \"ftol\"=>1e-10, \"gtol\"=>1e-8))\n",
    "# opt_ADAM_sum = tf.train.AdamOptimizer(learning_rate=0.001).minimize(dw_2_sum)\n",
    "# opt_LFGS_sum = ScipyOptimizerInterface(dw_2_sum * 1e5; method=\"L-BFGS-B\", options=Dict(\"maxiter\"=> maxiter, \"ftol\"=>1e-12, \"gtol\"=>1e-16))\n",
    "\n",
    "\n",
    "\n",
    "loss,dw_2, opt_ADAM, opt_LFGS, opt_ADAM_sum, opt_LFGS_sum, diff_eval,p_pre_soft_max, p = Info_upscale(tf_variables,param_model_val,q_t_x, q_t_y,100)\n",
    "\n",
    "\n",
    "    #     return loss_y,dw_2_sum , opt_ADAM, opt_LFGS, opt_ADAM_sum, opt_LFGS_sum, diff_eval,p_pre_soft_max, p\n",
    "    # end"
   ]
  },
  {
   "cell_type": "code",
   "execution_count": 7,
   "metadata": {},
   "outputs": [
    {
     "output_type": "stream",
     "name": "stderr",
     "text": [
      "2021-06-02 11:26:58.783850: I tensorflow/core/platform/cpu_feature_guard.cc:142] Your CPU supports instructions that this TensorFlow binary was not compiled to use: AVX2\n2021-06-02 11:26:58.788363: I tensorflow/stream_executor/platform/default/dso_loader.cc:44] Successfully opened dynamic library nvcuda.dll\n2021-06-02 11:26:58.817599: I tensorflow/core/common_runtime/gpu/gpu_device.cc:1618] Found device 0 with properties: \nname: GeForce GTX 1650 major: 7 minor: 5 memoryClockRate(GHz): 1.56\npciBusID: 0000:01:00.0\n2021-06-02 11:26:58.817622: I tensorflow/stream_executor/platform/default/dso_loader.cc:44] Successfully opened dynamic library cudart64_100.dll\n2021-06-02 11:26:58.820167: I tensorflow/stream_executor/platform/default/dso_loader.cc:44] Successfully opened dynamic library cublas64_100.dll\n2021-06-02 11:26:58.822672: I tensorflow/stream_executor/platform/default/dso_loader.cc:44] Successfully opened dynamic library cufft64_100.dll\n2021-06-02 11:26:58.823822: I tensorflow/stream_executor/platform/default/dso_loader.cc:44] Successfully opened dynamic library curand64_100.dll\n2021-06-02 11:26:58.828028: I tensorflow/stream_executor/platform/default/dso_loader.cc:44] Successfully opened dynamic library cusolver64_100.dll\n2021-06-02 11:26:58.830520: I tensorflow/stream_executor/platform/default/dso_loader.cc:44] Successfully opened dynamic library cusparse64_100.dll\n2021-06-02 11:26:58.837880: I tensorflow/stream_executor/platform/default/dso_loader.cc:44] Successfully opened dynamic library cudnn64_7.dll\n2021-06-02 11:26:58.837949: I tensorflow/core/common_runtime/gpu/gpu_device.cc:1746] Adding visible gpu devices: 0\n2021-06-02 11:26:59.357686: I tensorflow/core/common_runtime/gpu/gpu_device.cc:1159] Device interconnect StreamExecutor with strength 1 edge matrix:\n2021-06-02 11:26:59.357708: I tensorflow/core/common_runtime/gpu/gpu_device.cc:1165]      0 \n2021-06-02 11:26:59.357713: I tensorflow/core/common_runtime/gpu/gpu_device.cc:1178] 0:   N \n2021-06-02 11:26:59.357897: I tensorflow/core/common_runtime/gpu/gpu_device.cc:1304] Created TensorFlow device (/job:localhost/replica:0/task:0/device:GPU:0 with 2919 MB memory) -> physical GPU (device: 0, name: GeForce GTX 1650, pci bus id: 0000:01:00.0, compute capability: 7.5)\n"
     ]
    }
   ],
   "source": [
    "sess = Session(); init(sess);"
   ]
  },
  {
   "cell_type": "code",
   "execution_count": 15,
   "metadata": {},
   "outputs": [
    {
     "output_type": "execute_result",
     "data": {
      "image/svg+xml": "<?xml version=\"1.0\" encoding=\"utf-8\"?>\n<svg xmlns=\"http://www.w3.org/2000/svg\" xmlns:xlink=\"http://www.w3.org/1999/xlink\" width=\"600\" height=\"400\" viewBox=\"0 0 2400 1600\">\n<defs>\n  <clipPath id=\"clip790\">\n    <rect x=\"0\" y=\"0\" width=\"2400\" height=\"1600\"/>\n  </clipPath>\n</defs>\n<path clip-path=\"url(#clip790)\" d=\"\nM0 1600 L2400 1600 L2400 0 L0 0  Z\n  \" fill=\"#ffffff\" fill-rule=\"evenodd\" fill-opacity=\"1\"/>\n<defs>\n  <clipPath id=\"clip791\">\n    <rect x=\"480\" y=\"0\" width=\"1681\" height=\"1600\"/>\n  </clipPath>\n</defs>\n<path clip-path=\"url(#clip790)\" d=\"\nM363.731 1486.45 L2352.76 1486.45 L2352.76 47.2441 L363.731 47.2441  Z\n  \" fill=\"#ffffff\" fill-rule=\"evenodd\" fill-opacity=\"1\"/>\n<defs>\n  <clipPath id=\"clip792\">\n    <rect x=\"363\" y=\"47\" width=\"1990\" height=\"1440\"/>\n  </clipPath>\n</defs>\n<polyline clip-path=\"url(#clip792)\" style=\"stroke:#000000; stroke-width:2; stroke-opacity:0.1; fill:none\" points=\"\n  420.024,1486.45 420.024,47.2441 \n  \"/>\n<polyline clip-path=\"url(#clip792)\" style=\"stroke:#000000; stroke-width:2; stroke-opacity:0.1; fill:none\" points=\"\n  889.134,1486.45 889.134,47.2441 \n  \"/>\n<polyline clip-path=\"url(#clip792)\" style=\"stroke:#000000; stroke-width:2; stroke-opacity:0.1; fill:none\" points=\"\n  1358.24,1486.45 1358.24,47.2441 \n  \"/>\n<polyline clip-path=\"url(#clip792)\" style=\"stroke:#000000; stroke-width:2; stroke-opacity:0.1; fill:none\" points=\"\n  1827.35,1486.45 1827.35,47.2441 \n  \"/>\n<polyline clip-path=\"url(#clip792)\" style=\"stroke:#000000; stroke-width:2; stroke-opacity:0.1; fill:none\" points=\"\n  2296.46,1486.45 2296.46,47.2441 \n  \"/>\n<polyline clip-path=\"url(#clip790)\" style=\"stroke:#000000; stroke-width:4; stroke-opacity:1; fill:none\" points=\"\n  363.731,1486.45 2352.76,1486.45 \n  \"/>\n<polyline clip-path=\"url(#clip790)\" style=\"stroke:#000000; stroke-width:4; stroke-opacity:1; fill:none\" points=\"\n  420.024,1486.45 420.024,1469.18 \n  \"/>\n<polyline clip-path=\"url(#clip790)\" style=\"stroke:#000000; stroke-width:4; stroke-opacity:1; fill:none\" points=\"\n  889.134,1486.45 889.134,1469.18 \n  \"/>\n<polyline clip-path=\"url(#clip790)\" style=\"stroke:#000000; stroke-width:4; stroke-opacity:1; fill:none\" points=\"\n  1358.24,1486.45 1358.24,1469.18 \n  \"/>\n<polyline clip-path=\"url(#clip790)\" style=\"stroke:#000000; stroke-width:4; stroke-opacity:1; fill:none\" points=\"\n  1827.35,1486.45 1827.35,1469.18 \n  \"/>\n<polyline clip-path=\"url(#clip790)\" style=\"stroke:#000000; stroke-width:4; stroke-opacity:1; fill:none\" points=\"\n  2296.46,1486.45 2296.46,1469.18 \n  \"/>\n<path clip-path=\"url(#clip790)\" d=\"M 0 0 M387.177 1543.18 L394.816 1543.18 L394.816 1516.82 L386.506 1518.49 L386.506 1514.23 L394.77 1512.56 L399.446 1512.56 L399.446 1543.18 L407.085 1543.18 L407.085 1547.12 L387.177 1547.12 L387.177 1543.18 Z\" fill=\"#000000\" fill-rule=\"evenodd\" fill-opacity=\"1\" /><path clip-path=\"url(#clip790)\" d=\"M 0 0 M416.529 1541.24 L421.413 1541.24 L421.413 1547.12 L416.529 1547.12 L416.529 1541.24 Z\" fill=\"#000000\" fill-rule=\"evenodd\" fill-opacity=\"1\" /><path clip-path=\"url(#clip790)\" d=\"M 0 0 M441.598 1515.64 Q437.987 1515.64 436.158 1519.2 Q434.353 1522.75 434.353 1529.87 Q434.353 1536.98 436.158 1540.55 Q437.987 1544.09 441.598 1544.09 Q445.232 1544.09 447.038 1540.55 Q448.867 1536.98 448.867 1529.87 Q448.867 1522.75 447.038 1519.2 Q445.232 1515.64 441.598 1515.64 M441.598 1511.93 Q447.408 1511.93 450.464 1516.54 Q453.543 1521.12 453.543 1529.87 Q453.543 1538.6 450.464 1543.21 Q447.408 1547.79 441.598 1547.79 Q435.788 1547.79 432.709 1543.21 Q429.654 1538.6 429.654 1529.87 Q429.654 1521.12 432.709 1516.54 Q435.788 1511.93 441.598 1511.93 Z\" fill=\"#000000\" fill-rule=\"evenodd\" fill-opacity=\"1\" /><path clip-path=\"url(#clip790)\" d=\"M 0 0 M856.785 1543.18 L864.423 1543.18 L864.423 1516.82 L856.113 1518.49 L856.113 1514.23 L864.377 1512.56 L869.053 1512.56 L869.053 1543.18 L876.692 1543.18 L876.692 1547.12 L856.785 1547.12 L856.785 1543.18 Z\" fill=\"#000000\" fill-rule=\"evenodd\" fill-opacity=\"1\" /><path clip-path=\"url(#clip790)\" d=\"M 0 0 M886.136 1541.24 L891.02 1541.24 L891.02 1547.12 L886.136 1547.12 L886.136 1541.24 Z\" fill=\"#000000\" fill-rule=\"evenodd\" fill-opacity=\"1\" /><path clip-path=\"url(#clip790)\" d=\"M 0 0 M901.252 1512.56 L919.608 1512.56 L919.608 1516.5 L905.534 1516.5 L905.534 1524.97 Q906.553 1524.62 907.571 1524.46 Q908.59 1524.27 909.608 1524.27 Q915.395 1524.27 918.775 1527.44 Q922.155 1530.62 922.155 1536.03 Q922.155 1541.61 918.682 1544.71 Q915.21 1547.79 908.891 1547.79 Q906.715 1547.79 904.446 1547.42 Q902.201 1547.05 899.794 1546.31 L899.794 1541.61 Q901.877 1542.74 904.099 1543.3 Q906.321 1543.86 908.798 1543.86 Q912.803 1543.86 915.141 1541.75 Q917.479 1539.64 917.479 1536.03 Q917.479 1532.42 915.141 1530.31 Q912.803 1528.21 908.798 1528.21 Q906.923 1528.21 905.048 1528.62 Q903.196 1529.04 901.252 1529.92 L901.252 1512.56 Z\" fill=\"#000000\" fill-rule=\"evenodd\" fill-opacity=\"1\" /><path clip-path=\"url(#clip790)\" d=\"M 0 0 M1329.48 1543.18 L1345.8 1543.18 L1345.8 1547.12 L1323.86 1547.12 L1323.86 1543.18 Q1326.52 1540.43 1331.1 1535.8 Q1335.71 1531.15 1336.89 1529.81 Q1339.13 1527.28 1340.01 1525.55 Q1340.92 1523.79 1340.92 1522.1 Q1340.92 1519.34 1338.97 1517.61 Q1337.05 1515.87 1333.95 1515.87 Q1331.75 1515.87 1329.3 1516.63 Q1326.87 1517.4 1324.09 1518.95 L1324.09 1514.23 Q1326.91 1513.09 1329.37 1512.51 Q1331.82 1511.93 1333.86 1511.93 Q1339.23 1511.93 1342.42 1514.62 Q1345.62 1517.31 1345.62 1521.8 Q1345.62 1523.93 1344.81 1525.85 Q1344.02 1527.74 1341.91 1530.34 Q1341.33 1531.01 1338.23 1534.23 Q1335.13 1537.42 1329.48 1543.18 Z\" fill=\"#000000\" fill-rule=\"evenodd\" fill-opacity=\"1\" /><path clip-path=\"url(#clip790)\" d=\"M 0 0 M1355.62 1541.24 L1360.5 1541.24 L1360.5 1547.12 L1355.62 1547.12 L1355.62 1541.24 Z\" fill=\"#000000\" fill-rule=\"evenodd\" fill-opacity=\"1\" /><path clip-path=\"url(#clip790)\" d=\"M 0 0 M1380.69 1515.64 Q1377.07 1515.64 1375.25 1519.2 Q1373.44 1522.75 1373.44 1529.87 Q1373.44 1536.98 1375.25 1540.55 Q1377.07 1544.09 1380.69 1544.09 Q1384.32 1544.09 1386.13 1540.55 Q1387.95 1536.98 1387.95 1529.87 Q1387.95 1522.75 1386.13 1519.2 Q1384.32 1515.64 1380.69 1515.64 M1380.69 1511.93 Q1386.5 1511.93 1389.55 1516.54 Q1392.63 1521.12 1392.63 1529.87 Q1392.63 1538.6 1389.55 1543.21 Q1386.5 1547.79 1380.69 1547.79 Q1374.88 1547.79 1371.8 1543.21 Q1368.74 1538.6 1368.74 1529.87 Q1368.74 1521.12 1371.8 1516.54 Q1374.88 1511.93 1380.69 1511.93 Z\" fill=\"#000000\" fill-rule=\"evenodd\" fill-opacity=\"1\" /><path clip-path=\"url(#clip790)\" d=\"M 0 0 M1799.09 1543.18 L1815.41 1543.18 L1815.41 1547.12 L1793.46 1547.12 L1793.46 1543.18 Q1796.13 1540.43 1800.71 1535.8 Q1805.32 1531.15 1806.5 1529.81 Q1808.74 1527.28 1809.62 1525.55 Q1810.52 1523.79 1810.52 1522.1 Q1810.52 1519.34 1808.58 1517.61 Q1806.66 1515.87 1803.56 1515.87 Q1801.36 1515.87 1798.9 1516.63 Q1796.47 1517.4 1793.7 1518.95 L1793.7 1514.23 Q1796.52 1513.09 1798.97 1512.51 Q1801.43 1511.93 1803.46 1511.93 Q1808.83 1511.93 1812.03 1514.62 Q1815.22 1517.31 1815.22 1521.8 Q1815.22 1523.93 1814.41 1525.85 Q1813.63 1527.74 1811.52 1530.34 Q1810.94 1531.01 1807.84 1534.23 Q1804.74 1537.42 1799.09 1543.18 Z\" fill=\"#000000\" fill-rule=\"evenodd\" fill-opacity=\"1\" /><path clip-path=\"url(#clip790)\" d=\"M 0 0 M1825.22 1541.24 L1830.11 1541.24 L1830.11 1547.12 L1825.22 1547.12 L1825.22 1541.24 Z\" fill=\"#000000\" fill-rule=\"evenodd\" fill-opacity=\"1\" /><path clip-path=\"url(#clip790)\" d=\"M 0 0 M1840.34 1512.56 L1858.7 1512.56 L1858.7 1516.5 L1844.62 1516.5 L1844.62 1524.97 Q1845.64 1524.62 1846.66 1524.46 Q1847.68 1524.27 1848.7 1524.27 Q1854.48 1524.27 1857.86 1527.44 Q1861.24 1530.62 1861.24 1536.03 Q1861.24 1541.61 1857.77 1544.71 Q1854.3 1547.79 1847.98 1547.79 Q1845.8 1547.79 1843.53 1547.42 Q1841.29 1547.05 1838.88 1546.31 L1838.88 1541.61 Q1840.96 1542.74 1843.19 1543.3 Q1845.41 1543.86 1847.89 1543.86 Q1851.89 1543.86 1854.23 1541.75 Q1856.57 1539.64 1856.57 1536.03 Q1856.57 1532.42 1854.23 1530.31 Q1851.89 1528.21 1847.89 1528.21 Q1846.01 1528.21 1844.14 1528.62 Q1842.28 1529.04 1840.34 1529.92 L1840.34 1512.56 Z\" fill=\"#000000\" fill-rule=\"evenodd\" fill-opacity=\"1\" /><path clip-path=\"url(#clip790)\" d=\"M 0 0 M2277.77 1528.49 Q2281.13 1529.2 2283 1531.47 Q2284.9 1533.74 2284.9 1537.07 Q2284.9 1542.19 2281.38 1544.99 Q2277.86 1547.79 2271.38 1547.79 Q2269.21 1547.79 2266.89 1547.35 Q2264.6 1546.93 2262.15 1546.08 L2262.15 1541.56 Q2264.09 1542.7 2266.41 1543.28 Q2268.72 1543.86 2271.24 1543.86 Q2275.64 1543.86 2277.93 1542.12 Q2280.25 1540.38 2280.25 1537.07 Q2280.25 1534.02 2278.09 1532.31 Q2275.97 1530.57 2272.15 1530.57 L2268.12 1530.57 L2268.12 1526.73 L2272.33 1526.73 Q2275.78 1526.73 2277.61 1525.36 Q2279.44 1523.97 2279.44 1521.38 Q2279.44 1518.72 2277.54 1517.31 Q2275.66 1515.87 2272.15 1515.87 Q2270.22 1515.87 2268.03 1516.29 Q2265.83 1516.7 2263.19 1517.58 L2263.19 1513.42 Q2265.85 1512.68 2268.16 1512.31 Q2270.5 1511.93 2272.56 1511.93 Q2277.89 1511.93 2280.99 1514.37 Q2284.09 1516.77 2284.09 1520.89 Q2284.09 1523.76 2282.45 1525.75 Q2280.8 1527.72 2277.77 1528.49 Z\" fill=\"#000000\" fill-rule=\"evenodd\" fill-opacity=\"1\" /><path clip-path=\"url(#clip790)\" d=\"M 0 0 M2293.77 1541.24 L2298.65 1541.24 L2298.65 1547.12 L2293.77 1547.12 L2293.77 1541.24 Z\" fill=\"#000000\" fill-rule=\"evenodd\" fill-opacity=\"1\" /><path clip-path=\"url(#clip790)\" d=\"M 0 0 M2318.84 1515.64 Q2315.22 1515.64 2313.4 1519.2 Q2311.59 1522.75 2311.59 1529.87 Q2311.59 1536.98 2313.4 1540.55 Q2315.22 1544.09 2318.84 1544.09 Q2322.47 1544.09 2324.28 1540.55 Q2326.1 1536.98 2326.1 1529.87 Q2326.1 1522.75 2324.28 1519.2 Q2322.47 1515.64 2318.84 1515.64 M2318.84 1511.93 Q2324.65 1511.93 2327.7 1516.54 Q2330.78 1521.12 2330.78 1529.87 Q2330.78 1538.6 2327.7 1543.21 Q2324.65 1547.79 2318.84 1547.79 Q2313.03 1547.79 2309.95 1543.21 Q2306.89 1538.6 2306.89 1529.87 Q2306.89 1521.12 2309.95 1516.54 Q2313.03 1511.93 2318.84 1511.93 Z\" fill=\"#000000\" fill-rule=\"evenodd\" fill-opacity=\"1\" /><polyline clip-path=\"url(#clip792)\" style=\"stroke:#000000; stroke-width:2; stroke-opacity:0.1; fill:none\" points=\"\n  363.731,1307.09 2352.76,1307.09 \n  \"/>\n<polyline clip-path=\"url(#clip792)\" style=\"stroke:#000000; stroke-width:2; stroke-opacity:0.1; fill:none\" points=\"\n  363.731,1021 2352.76,1021 \n  \"/>\n<polyline clip-path=\"url(#clip792)\" style=\"stroke:#000000; stroke-width:2; stroke-opacity:0.1; fill:none\" points=\"\n  363.731,734.915 2352.76,734.915 \n  \"/>\n<polyline clip-path=\"url(#clip792)\" style=\"stroke:#000000; stroke-width:2; stroke-opacity:0.1; fill:none\" points=\"\n  363.731,448.828 2352.76,448.828 \n  \"/>\n<polyline clip-path=\"url(#clip792)\" style=\"stroke:#000000; stroke-width:2; stroke-opacity:0.1; fill:none\" points=\"\n  363.731,162.74 2352.76,162.74 \n  \"/>\n<polyline clip-path=\"url(#clip790)\" style=\"stroke:#000000; stroke-width:4; stroke-opacity:1; fill:none\" points=\"\n  363.731,1486.45 363.731,47.2441 \n  \"/>\n<polyline clip-path=\"url(#clip790)\" style=\"stroke:#000000; stroke-width:4; stroke-opacity:1; fill:none\" points=\"\n  363.731,1307.09 387.599,1307.09 \n  \"/>\n<polyline clip-path=\"url(#clip790)\" style=\"stroke:#000000; stroke-width:4; stroke-opacity:1; fill:none\" points=\"\n  363.731,1021 387.599,1021 \n  \"/>\n<polyline clip-path=\"url(#clip790)\" style=\"stroke:#000000; stroke-width:4; stroke-opacity:1; fill:none\" points=\"\n  363.731,734.915 387.599,734.915 \n  \"/>\n<polyline clip-path=\"url(#clip790)\" style=\"stroke:#000000; stroke-width:4; stroke-opacity:1; fill:none\" points=\"\n  363.731,448.828 387.599,448.828 \n  \"/>\n<polyline clip-path=\"url(#clip790)\" style=\"stroke:#000000; stroke-width:4; stroke-opacity:1; fill:none\" points=\"\n  363.731,162.74 387.599,162.74 \n  \"/>\n<path clip-path=\"url(#clip790)\" d=\"M 0 0 M51.6634 1326.88 L59.3023 1326.88 L59.3023 1300.52 L50.9921 1302.18 L50.9921 1297.92 L59.256 1296.26 L63.9319 1296.26 L63.9319 1326.88 L71.5707 1326.88 L71.5707 1330.82 L51.6634 1330.82 L51.6634 1326.88 Z\" fill=\"#000000\" fill-rule=\"evenodd\" fill-opacity=\"1\" /><path clip-path=\"url(#clip790)\" d=\"M 0 0 M81.0151 1324.94 L85.8993 1324.94 L85.8993 1330.82 L81.0151 1330.82 L81.0151 1324.94 Z\" fill=\"#000000\" fill-rule=\"evenodd\" fill-opacity=\"1\" /><path clip-path=\"url(#clip790)\" d=\"M 0 0 M96.8947 1326.88 L104.534 1326.88 L104.534 1300.52 L96.2234 1302.18 L96.2234 1297.92 L104.487 1296.26 L109.163 1296.26 L109.163 1326.88 L116.802 1326.88 L116.802 1330.82 L96.8947 1330.82 L96.8947 1326.88 Z\" fill=\"#000000\" fill-rule=\"evenodd\" fill-opacity=\"1\" /><path clip-path=\"url(#clip790)\" d=\"M 0 0 M126.293 1296.26 L144.649 1296.26 L144.649 1300.19 L130.575 1300.19 L130.575 1308.67 Q131.594 1308.32 132.612 1308.16 Q133.631 1307.97 134.649 1307.97 Q140.436 1307.97 143.816 1311.14 Q147.195 1314.31 147.195 1319.73 Q147.195 1325.31 143.723 1328.41 Q140.251 1331.49 133.931 1331.49 Q131.756 1331.49 129.487 1331.12 Q127.242 1330.75 124.834 1330.01 L124.834 1325.31 Q126.918 1326.44 129.14 1327 Q131.362 1327.55 133.839 1327.55 Q137.844 1327.55 140.181 1325.45 Q142.519 1323.34 142.519 1319.73 Q142.519 1316.12 140.181 1314.01 Q137.844 1311.91 133.839 1311.91 Q131.964 1311.91 130.089 1312.32 Q128.237 1312.74 126.293 1313.62 L126.293 1296.26 Z\" fill=\"#000000\" fill-rule=\"evenodd\" fill-opacity=\"1\" /><path clip-path=\"url(#clip790)\" d=\"M 0 0 M166.408 1299.34 Q162.797 1299.34 160.968 1302.9 Q159.163 1306.44 159.163 1313.57 Q159.163 1320.68 160.968 1324.24 Q162.797 1327.79 166.408 1327.79 Q170.042 1327.79 171.848 1324.24 Q173.677 1320.68 173.677 1313.57 Q173.677 1306.44 171.848 1302.9 Q170.042 1299.34 166.408 1299.34 M166.408 1295.63 Q172.218 1295.63 175.274 1300.24 Q178.353 1304.82 178.353 1313.57 Q178.353 1322.3 175.274 1326.91 Q172.218 1331.49 166.408 1331.49 Q160.598 1331.49 157.519 1326.91 Q154.464 1322.3 154.464 1313.57 Q154.464 1304.82 157.519 1300.24 Q160.598 1295.63 166.408 1295.63 Z\" fill=\"#000000\" fill-rule=\"evenodd\" fill-opacity=\"1\" /><path clip-path=\"url(#clip790)\" d=\"M 0 0 M214.741 1305.36 L204.163 1315.98 L214.741 1326.56 L211.987 1329.36 L201.362 1318.73 L190.737 1329.36 L188.005 1326.56 L198.561 1315.98 L188.005 1305.36 L190.737 1302.55 L201.362 1313.18 L211.987 1302.55 L214.741 1305.36 Z\" fill=\"#000000\" fill-rule=\"evenodd\" fill-opacity=\"1\" /><path clip-path=\"url(#clip790)\" d=\"M 0 0 M227.102 1326.88 L234.741 1326.88 L234.741 1300.52 L226.431 1302.18 L226.431 1297.92 L234.695 1296.26 L239.371 1296.26 L239.371 1326.88 L247.01 1326.88 L247.01 1330.82 L227.102 1330.82 L227.102 1326.88 Z\" fill=\"#000000\" fill-rule=\"evenodd\" fill-opacity=\"1\" /><path clip-path=\"url(#clip790)\" d=\"M 0 0 M266.454 1299.34 Q262.843 1299.34 261.014 1302.9 Q259.209 1306.44 259.209 1313.57 Q259.209 1320.68 261.014 1324.24 Q262.843 1327.79 266.454 1327.79 Q270.088 1327.79 271.894 1324.24 Q273.722 1320.68 273.722 1313.57 Q273.722 1306.44 271.894 1302.9 Q270.088 1299.34 266.454 1299.34 M266.454 1295.63 Q272.264 1295.63 275.32 1300.24 Q278.398 1304.82 278.398 1313.57 Q278.398 1322.3 275.32 1326.91 Q272.264 1331.49 266.454 1331.49 Q260.644 1331.49 257.565 1326.91 Q254.51 1322.3 254.51 1313.57 Q254.51 1304.82 257.565 1300.24 Q260.644 1295.63 266.454 1295.63 Z\" fill=\"#000000\" fill-rule=\"evenodd\" fill-opacity=\"1\" /><path clip-path=\"url(#clip790)\" d=\"M 0 0 M278.398 1289.73 L302.51 1289.73 L302.51 1292.93 L278.398 1292.93 L278.398 1289.73 Z\" fill=\"#000000\" fill-rule=\"evenodd\" fill-opacity=\"1\" /><path clip-path=\"url(#clip790)\" d=\"M 0 0 M310.748 1275.33 L325.662 1275.33 L325.662 1278.53 L314.227 1278.53 L314.227 1285.41 Q315.055 1285.13 315.882 1284.99 Q316.71 1284.84 317.537 1284.84 Q322.239 1284.84 324.985 1287.42 Q327.731 1290 327.731 1294.4 Q327.731 1298.93 324.91 1301.45 Q322.089 1303.95 316.954 1303.95 Q315.186 1303.95 313.343 1303.65 Q311.519 1303.35 309.563 1302.75 L309.563 1298.93 Q311.255 1299.85 313.061 1300.3 Q314.867 1300.76 316.879 1300.76 Q320.133 1300.76 322.032 1299.04 Q323.932 1297.33 323.932 1294.4 Q323.932 1291.46 322.032 1289.75 Q320.133 1288.04 316.879 1288.04 Q315.356 1288.04 313.832 1288.38 Q312.328 1288.72 310.748 1289.43 L310.748 1275.33 Z\" fill=\"#000000\" fill-rule=\"evenodd\" fill-opacity=\"1\" /><path clip-path=\"url(#clip790)\" d=\"M 0 0 M51.6634 1040.8 L59.3023 1040.8 L59.3023 1014.43 L50.9921 1016.1 L50.9921 1011.84 L59.256 1010.17 L63.9319 1010.17 L63.9319 1040.8 L71.5707 1040.8 L71.5707 1044.73 L51.6634 1044.73 L51.6634 1040.8 Z\" fill=\"#000000\" fill-rule=\"evenodd\" fill-opacity=\"1\" /><path clip-path=\"url(#clip790)\" d=\"M 0 0 M81.0151 1038.85 L85.8993 1038.85 L85.8993 1044.73 L81.0151 1044.73 L81.0151 1038.85 Z\" fill=\"#000000\" fill-rule=\"evenodd\" fill-opacity=\"1\" /><path clip-path=\"url(#clip790)\" d=\"M 0 0 M100.112 1040.8 L116.432 1040.8 L116.432 1044.73 L94.4873 1044.73 L94.4873 1040.8 Q97.1493 1038.04 101.733 1033.41 Q106.339 1028.76 107.52 1027.42 Q109.765 1024.89 110.645 1023.16 Q111.547 1021.4 111.547 1019.71 Q111.547 1016.95 109.603 1015.22 Q107.682 1013.48 104.58 1013.48 Q102.381 1013.48 99.927 1014.24 Q97.4965 1015.01 94.7187 1016.56 L94.7187 1011.84 Q97.5428 1010.7 99.9965 1010.12 Q102.45 1009.55 104.487 1009.55 Q109.858 1009.55 113.052 1012.23 Q116.246 1014.92 116.246 1019.41 Q116.246 1021.54 115.436 1023.46 Q114.649 1025.36 112.543 1027.95 Q111.964 1028.62 108.862 1031.84 Q105.76 1035.03 100.112 1040.8 Z\" fill=\"#000000\" fill-rule=\"evenodd\" fill-opacity=\"1\" /><path clip-path=\"url(#clip790)\" d=\"M 0 0 M136.246 1013.25 Q132.635 1013.25 130.807 1016.81 Q129.001 1020.36 129.001 1027.49 Q129.001 1034.59 130.807 1038.16 Q132.635 1041.7 136.246 1041.7 Q139.881 1041.7 141.686 1038.16 Q143.515 1034.59 143.515 1027.49 Q143.515 1020.36 141.686 1016.81 Q139.881 1013.25 136.246 1013.25 M136.246 1009.55 Q142.056 1009.55 145.112 1014.15 Q148.191 1018.74 148.191 1027.49 Q148.191 1036.21 145.112 1040.82 Q142.056 1045.4 136.246 1045.4 Q130.436 1045.4 127.357 1040.82 Q124.302 1036.21 124.302 1027.49 Q124.302 1018.74 127.357 1014.15 Q130.436 1009.55 136.246 1009.55 Z\" fill=\"#000000\" fill-rule=\"evenodd\" fill-opacity=\"1\" /><path clip-path=\"url(#clip790)\" d=\"M 0 0 M166.408 1013.25 Q162.797 1013.25 160.968 1016.81 Q159.163 1020.36 159.163 1027.49 Q159.163 1034.59 160.968 1038.16 Q162.797 1041.7 166.408 1041.7 Q170.042 1041.7 171.848 1038.16 Q173.677 1034.59 173.677 1027.49 Q173.677 1020.36 171.848 1016.81 Q170.042 1013.25 166.408 1013.25 M166.408 1009.55 Q172.218 1009.55 175.274 1014.15 Q178.353 1018.74 178.353 1027.49 Q178.353 1036.21 175.274 1040.82 Q172.218 1045.4 166.408 1045.4 Q160.598 1045.4 157.519 1040.82 Q154.464 1036.21 154.464 1027.49 Q154.464 1018.74 157.519 1014.15 Q160.598 1009.55 166.408 1009.55 Z\" fill=\"#000000\" fill-rule=\"evenodd\" fill-opacity=\"1\" /><path clip-path=\"url(#clip790)\" d=\"M 0 0 M214.741 1019.27 L204.163 1029.89 L214.741 1040.47 L211.987 1043.27 L201.362 1032.65 L190.737 1043.27 L188.005 1040.47 L198.561 1029.89 L188.005 1019.27 L190.737 1016.47 L201.362 1027.09 L211.987 1016.47 L214.741 1019.27 Z\" fill=\"#000000\" fill-rule=\"evenodd\" fill-opacity=\"1\" /><path clip-path=\"url(#clip790)\" d=\"M 0 0 M227.102 1040.8 L234.741 1040.8 L234.741 1014.43 L226.431 1016.1 L226.431 1011.84 L234.695 1010.17 L239.371 1010.17 L239.371 1040.8 L247.01 1040.8 L247.01 1044.73 L227.102 1044.73 L227.102 1040.8 Z\" fill=\"#000000\" fill-rule=\"evenodd\" fill-opacity=\"1\" /><path clip-path=\"url(#clip790)\" d=\"M 0 0 M266.454 1013.25 Q262.843 1013.25 261.014 1016.81 Q259.209 1020.36 259.209 1027.49 Q259.209 1034.59 261.014 1038.16 Q262.843 1041.7 266.454 1041.7 Q270.088 1041.7 271.894 1038.16 Q273.722 1034.59 273.722 1027.49 Q273.722 1020.36 271.894 1016.81 Q270.088 1013.25 266.454 1013.25 M266.454 1009.55 Q272.264 1009.55 275.32 1014.15 Q278.398 1018.74 278.398 1027.49 Q278.398 1036.21 275.32 1040.82 Q272.264 1045.4 266.454 1045.4 Q260.644 1045.4 257.565 1040.82 Q254.51 1036.21 254.51 1027.49 Q254.51 1018.74 257.565 1014.15 Q260.644 1009.55 266.454 1009.55 Z\" fill=\"#000000\" fill-rule=\"evenodd\" fill-opacity=\"1\" /><path clip-path=\"url(#clip790)\" d=\"M 0 0 M278.398 1003.65 L302.51 1003.65 L302.51 1006.84 L278.398 1006.84 L278.398 1003.65 Z\" fill=\"#000000\" fill-rule=\"evenodd\" fill-opacity=\"1\" /><path clip-path=\"url(#clip790)\" d=\"M 0 0 M310.748 989.24 L325.662 989.24 L325.662 992.438 L314.227 992.438 L314.227 999.321 Q315.055 999.039 315.882 998.907 Q316.71 998.757 317.537 998.757 Q322.239 998.757 324.985 1001.33 Q327.731 1003.91 327.731 1008.31 Q327.731 1012.84 324.91 1015.36 Q322.089 1017.87 316.954 1017.87 Q315.186 1017.87 313.343 1017.56 Q311.519 1017.26 309.563 1016.66 L309.563 1012.84 Q311.255 1013.77 313.061 1014.22 Q314.867 1014.67 316.879 1014.67 Q320.133 1014.67 322.032 1012.96 Q323.932 1011.25 323.932 1008.31 Q323.932 1005.38 322.032 1003.67 Q320.133 1001.95 316.879 1001.95 Q315.356 1001.95 313.832 1002.29 Q312.328 1002.63 310.748 1003.35 L310.748 989.24 Z\" fill=\"#000000\" fill-rule=\"evenodd\" fill-opacity=\"1\" /><path clip-path=\"url(#clip790)\" d=\"M 0 0 M51.6634 754.708 L59.3023 754.708 L59.3023 728.342 L50.9921 730.009 L50.9921 725.75 L59.256 724.083 L63.9319 724.083 L63.9319 754.708 L71.5707 754.708 L71.5707 758.643 L51.6634 758.643 L51.6634 754.708 Z\" fill=\"#000000\" fill-rule=\"evenodd\" fill-opacity=\"1\" /><path clip-path=\"url(#clip790)\" d=\"M 0 0 M81.0151 752.763 L85.8993 752.763 L85.8993 758.643 L81.0151 758.643 L81.0151 752.763 Z\" fill=\"#000000\" fill-rule=\"evenodd\" fill-opacity=\"1\" /><path clip-path=\"url(#clip790)\" d=\"M 0 0 M100.112 754.708 L116.432 754.708 L116.432 758.643 L94.4873 758.643 L94.4873 754.708 Q97.1493 751.953 101.733 747.324 Q106.339 742.671 107.52 741.328 Q109.765 738.805 110.645 737.069 Q111.547 735.31 111.547 733.62 Q111.547 730.865 109.603 729.129 Q107.682 727.393 104.58 727.393 Q102.381 727.393 99.927 728.157 Q97.4965 728.921 94.7187 730.472 L94.7187 725.75 Q97.5428 724.615 99.9965 724.037 Q102.45 723.458 104.487 723.458 Q109.858 723.458 113.052 726.143 Q116.246 728.828 116.246 733.319 Q116.246 735.449 115.436 737.37 Q114.649 739.268 112.543 741.861 Q111.964 742.532 108.862 745.75 Q105.76 748.944 100.112 754.708 Z\" fill=\"#000000\" fill-rule=\"evenodd\" fill-opacity=\"1\" /><path clip-path=\"url(#clip790)\" d=\"M 0 0 M126.293 724.083 L144.649 724.083 L144.649 728.018 L130.575 728.018 L130.575 736.49 Q131.594 736.143 132.612 735.981 Q133.631 735.796 134.649 735.796 Q140.436 735.796 143.816 738.967 Q147.195 742.139 147.195 747.555 Q147.195 753.134 143.723 756.236 Q140.251 759.314 133.931 759.314 Q131.756 759.314 129.487 758.944 Q127.242 758.574 124.834 757.833 L124.834 753.134 Q126.918 754.268 129.14 754.824 Q131.362 755.379 133.839 755.379 Q137.844 755.379 140.181 753.273 Q142.519 751.166 142.519 747.555 Q142.519 743.944 140.181 741.838 Q137.844 739.731 133.839 739.731 Q131.964 739.731 130.089 740.148 Q128.237 740.564 126.293 741.444 L126.293 724.083 Z\" fill=\"#000000\" fill-rule=\"evenodd\" fill-opacity=\"1\" /><path clip-path=\"url(#clip790)\" d=\"M 0 0 M166.408 727.162 Q162.797 727.162 160.968 730.727 Q159.163 734.268 159.163 741.398 Q159.163 748.504 160.968 752.069 Q162.797 755.611 166.408 755.611 Q170.042 755.611 171.848 752.069 Q173.677 748.504 173.677 741.398 Q173.677 734.268 171.848 730.727 Q170.042 727.162 166.408 727.162 M166.408 723.458 Q172.218 723.458 175.274 728.065 Q178.353 732.648 178.353 741.398 Q178.353 750.125 175.274 754.731 Q172.218 759.314 166.408 759.314 Q160.598 759.314 157.519 754.731 Q154.464 750.125 154.464 741.398 Q154.464 732.648 157.519 728.065 Q160.598 723.458 166.408 723.458 Z\" fill=\"#000000\" fill-rule=\"evenodd\" fill-opacity=\"1\" /><path clip-path=\"url(#clip790)\" d=\"M 0 0 M214.741 733.18 L204.163 743.805 L214.741 754.384 L211.987 757.185 L201.362 746.56 L190.737 757.185 L188.005 754.384 L198.561 743.805 L188.005 733.18 L190.737 730.379 L201.362 741.004 L211.987 730.379 L214.741 733.18 Z\" fill=\"#000000\" fill-rule=\"evenodd\" fill-opacity=\"1\" /><path clip-path=\"url(#clip790)\" d=\"M 0 0 M227.102 754.708 L234.741 754.708 L234.741 728.342 L226.431 730.009 L226.431 725.75 L234.695 724.083 L239.371 724.083 L239.371 754.708 L247.01 754.708 L247.01 758.643 L227.102 758.643 L227.102 754.708 Z\" fill=\"#000000\" fill-rule=\"evenodd\" fill-opacity=\"1\" /><path clip-path=\"url(#clip790)\" d=\"M 0 0 M266.454 727.162 Q262.843 727.162 261.014 730.727 Q259.209 734.268 259.209 741.398 Q259.209 748.504 261.014 752.069 Q262.843 755.611 266.454 755.611 Q270.088 755.611 271.894 752.069 Q273.722 748.504 273.722 741.398 Q273.722 734.268 271.894 730.727 Q270.088 727.162 266.454 727.162 M266.454 723.458 Q272.264 723.458 275.32 728.065 Q278.398 732.648 278.398 741.398 Q278.398 750.125 275.32 754.731 Q272.264 759.314 266.454 759.314 Q260.644 759.314 257.565 754.731 Q254.51 750.125 254.51 741.398 Q254.51 732.648 257.565 728.065 Q260.644 723.458 266.454 723.458 Z\" fill=\"#000000\" fill-rule=\"evenodd\" fill-opacity=\"1\" /><path clip-path=\"url(#clip790)\" d=\"M 0 0 M278.398 717.559 L302.51 717.559 L302.51 720.757 L278.398 720.757 L278.398 717.559 Z\" fill=\"#000000\" fill-rule=\"evenodd\" fill-opacity=\"1\" /><path clip-path=\"url(#clip790)\" d=\"M 0 0 M310.748 703.153 L325.662 703.153 L325.662 706.35 L314.227 706.35 L314.227 713.234 Q315.055 712.952 315.882 712.82 Q316.71 712.669 317.537 712.669 Q322.239 712.669 324.985 715.246 Q327.731 717.823 327.731 722.224 Q327.731 726.756 324.91 729.277 Q322.089 731.778 316.954 731.778 Q315.186 731.778 313.343 731.477 Q311.519 731.176 309.563 730.574 L309.563 726.756 Q311.255 727.678 313.061 728.129 Q314.867 728.581 316.879 728.581 Q320.133 728.581 322.032 726.869 Q323.932 725.158 323.932 722.224 Q323.932 719.29 322.032 717.578 Q320.133 715.867 316.879 715.867 Q315.356 715.867 313.832 716.205 Q312.328 716.544 310.748 717.258 L310.748 703.153 Z\" fill=\"#000000\" fill-rule=\"evenodd\" fill-opacity=\"1\" /><path clip-path=\"url(#clip790)\" d=\"M 0 0 M51.6634 468.62 L59.3023 468.62 L59.3023 442.255 L50.9921 443.921 L50.9921 439.662 L59.256 437.996 L63.9319 437.996 L63.9319 468.62 L71.5707 468.62 L71.5707 472.556 L51.6634 472.556 L51.6634 468.62 Z\" fill=\"#000000\" fill-rule=\"evenodd\" fill-opacity=\"1\" /><path clip-path=\"url(#clip790)\" d=\"M 0 0 M81.0151 466.676 L85.8993 466.676 L85.8993 472.556 L81.0151 472.556 L81.0151 466.676 Z\" fill=\"#000000\" fill-rule=\"evenodd\" fill-opacity=\"1\" /><path clip-path=\"url(#clip790)\" d=\"M 0 0 M110.251 453.921 Q113.608 454.639 115.483 456.907 Q117.381 459.176 117.381 462.509 Q117.381 467.625 113.862 470.426 Q110.344 473.227 103.862 473.227 Q101.686 473.227 99.3715 472.787 Q97.0798 472.37 94.6262 471.514 L94.6262 467 Q96.5706 468.134 98.8854 468.713 Q101.2 469.292 103.723 469.292 Q108.121 469.292 110.413 467.556 Q112.728 465.819 112.728 462.509 Q112.728 459.454 110.575 457.741 Q108.446 456.005 104.626 456.005 L100.598 456.005 L100.598 452.162 L104.811 452.162 Q108.26 452.162 110.089 450.796 Q111.918 449.408 111.918 446.815 Q111.918 444.153 110.02 442.741 Q108.145 441.306 104.626 441.306 Q102.705 441.306 100.506 441.722 Q98.3067 442.139 95.6678 443.019 L95.6678 438.852 Q98.3298 438.111 100.645 437.741 Q102.983 437.371 105.043 437.371 Q110.367 437.371 113.469 439.801 Q116.57 442.208 116.57 446.329 Q116.57 449.199 114.927 451.19 Q113.283 453.158 110.251 453.921 Z\" fill=\"#000000\" fill-rule=\"evenodd\" fill-opacity=\"1\" /><path clip-path=\"url(#clip790)\" d=\"M 0 0 M136.246 441.074 Q132.635 441.074 130.807 444.639 Q129.001 448.181 129.001 455.31 Q129.001 462.417 130.807 465.982 Q132.635 469.523 136.246 469.523 Q139.881 469.523 141.686 465.982 Q143.515 462.417 143.515 455.31 Q143.515 448.181 141.686 444.639 Q139.881 441.074 136.246 441.074 M136.246 437.371 Q142.056 437.371 145.112 441.977 Q148.191 446.56 148.191 455.31 Q148.191 464.037 145.112 468.644 Q142.056 473.227 136.246 473.227 Q130.436 473.227 127.357 468.644 Q124.302 464.037 124.302 455.31 Q124.302 446.56 127.357 441.977 Q130.436 437.371 136.246 437.371 Z\" fill=\"#000000\" fill-rule=\"evenodd\" fill-opacity=\"1\" /><path clip-path=\"url(#clip790)\" d=\"M 0 0 M166.408 441.074 Q162.797 441.074 160.968 444.639 Q159.163 448.181 159.163 455.31 Q159.163 462.417 160.968 465.982 Q162.797 469.523 166.408 469.523 Q170.042 469.523 171.848 465.982 Q173.677 462.417 173.677 455.31 Q173.677 448.181 171.848 444.639 Q170.042 441.074 166.408 441.074 M166.408 437.371 Q172.218 437.371 175.274 441.977 Q178.353 446.56 178.353 455.31 Q178.353 464.037 175.274 468.644 Q172.218 473.227 166.408 473.227 Q160.598 473.227 157.519 468.644 Q154.464 464.037 154.464 455.31 Q154.464 446.56 157.519 441.977 Q160.598 437.371 166.408 437.371 Z\" fill=\"#000000\" fill-rule=\"evenodd\" fill-opacity=\"1\" /><path clip-path=\"url(#clip790)\" d=\"M 0 0 M214.741 447.093 L204.163 457.718 L214.741 468.296 L211.987 471.097 L201.362 460.472 L190.737 471.097 L188.005 468.296 L198.561 457.718 L188.005 447.093 L190.737 444.292 L201.362 454.917 L211.987 444.292 L214.741 447.093 Z\" fill=\"#000000\" fill-rule=\"evenodd\" fill-opacity=\"1\" /><path clip-path=\"url(#clip790)\" d=\"M 0 0 M227.102 468.62 L234.741 468.62 L234.741 442.255 L226.431 443.921 L226.431 439.662 L234.695 437.996 L239.371 437.996 L239.371 468.62 L247.01 468.62 L247.01 472.556 L227.102 472.556 L227.102 468.62 Z\" fill=\"#000000\" fill-rule=\"evenodd\" fill-opacity=\"1\" /><path clip-path=\"url(#clip790)\" d=\"M 0 0 M266.454 441.074 Q262.843 441.074 261.014 444.639 Q259.209 448.181 259.209 455.31 Q259.209 462.417 261.014 465.982 Q262.843 469.523 266.454 469.523 Q270.088 469.523 271.894 465.982 Q273.722 462.417 273.722 455.31 Q273.722 448.181 271.894 444.639 Q270.088 441.074 266.454 441.074 M266.454 437.371 Q272.264 437.371 275.32 441.977 Q278.398 446.56 278.398 455.31 Q278.398 464.037 275.32 468.644 Q272.264 473.227 266.454 473.227 Q260.644 473.227 257.565 468.644 Q254.51 464.037 254.51 455.31 Q254.51 446.56 257.565 441.977 Q260.644 437.371 266.454 437.371 Z\" fill=\"#000000\" fill-rule=\"evenodd\" fill-opacity=\"1\" /><path clip-path=\"url(#clip790)\" d=\"M 0 0 M278.398 431.472 L302.51 431.472 L302.51 434.669 L278.398 434.669 L278.398 431.472 Z\" fill=\"#000000\" fill-rule=\"evenodd\" fill-opacity=\"1\" /><path clip-path=\"url(#clip790)\" d=\"M 0 0 M310.748 417.065 L325.662 417.065 L325.662 420.262 L314.227 420.262 L314.227 427.146 Q315.055 426.864 315.882 426.732 Q316.71 426.582 317.537 426.582 Q322.239 426.582 324.985 429.159 Q327.731 431.735 327.731 436.136 Q327.731 440.669 324.91 443.189 Q322.089 445.691 316.954 445.691 Q315.186 445.691 313.343 445.39 Q311.519 445.089 309.563 444.487 L309.563 440.669 Q311.255 441.59 313.061 442.042 Q314.867 442.493 316.879 442.493 Q320.133 442.493 322.032 440.782 Q323.932 439.07 323.932 436.136 Q323.932 433.202 322.032 431.491 Q320.133 429.779 316.879 429.779 Q315.356 429.779 313.832 430.118 Q312.328 430.456 310.748 431.171 L310.748 417.065 Z\" fill=\"#000000\" fill-rule=\"evenodd\" fill-opacity=\"1\" /><path clip-path=\"url(#clip790)\" d=\"M 0 0 M51.6634 182.533 L59.3023 182.533 L59.3023 156.167 L50.9921 157.834 L50.9921 153.575 L59.256 151.908 L63.9319 151.908 L63.9319 182.533 L71.5707 182.533 L71.5707 186.468 L51.6634 186.468 L51.6634 182.533 Z\" fill=\"#000000\" fill-rule=\"evenodd\" fill-opacity=\"1\" /><path clip-path=\"url(#clip790)\" d=\"M 0 0 M81.0151 180.588 L85.8993 180.588 L85.8993 186.468 L81.0151 186.468 L81.0151 180.588 Z\" fill=\"#000000\" fill-rule=\"evenodd\" fill-opacity=\"1\" /><path clip-path=\"url(#clip790)\" d=\"M 0 0 M110.251 167.834 Q113.608 168.551 115.483 170.82 Q117.381 173.088 117.381 176.422 Q117.381 181.538 113.862 184.338 Q110.344 187.139 103.862 187.139 Q101.686 187.139 99.3715 186.7 Q97.0798 186.283 94.6262 185.426 L94.6262 180.913 Q96.5706 182.047 98.8854 182.625 Q101.2 183.204 103.723 183.204 Q108.121 183.204 110.413 181.468 Q112.728 179.732 112.728 176.422 Q112.728 173.366 110.575 171.653 Q108.446 169.917 104.626 169.917 L100.598 169.917 L100.598 166.075 L104.811 166.075 Q108.26 166.075 110.089 164.709 Q111.918 163.32 111.918 160.727 Q111.918 158.065 110.02 156.653 Q108.145 155.218 104.626 155.218 Q102.705 155.218 100.506 155.635 Q98.3067 156.052 95.6678 156.931 L95.6678 152.765 Q98.3298 152.024 100.645 151.653 Q102.983 151.283 105.043 151.283 Q110.367 151.283 113.469 153.714 Q116.57 156.121 116.57 160.241 Q116.57 163.112 114.927 165.102 Q113.283 167.07 110.251 167.834 Z\" fill=\"#000000\" fill-rule=\"evenodd\" fill-opacity=\"1\" /><path clip-path=\"url(#clip790)\" d=\"M 0 0 M126.293 151.908 L144.649 151.908 L144.649 155.843 L130.575 155.843 L130.575 164.315 Q131.594 163.968 132.612 163.806 Q133.631 163.621 134.649 163.621 Q140.436 163.621 143.816 166.792 Q147.195 169.963 147.195 175.38 Q147.195 180.959 143.723 184.061 Q140.251 187.139 133.931 187.139 Q131.756 187.139 129.487 186.769 Q127.242 186.399 124.834 185.658 L124.834 180.959 Q126.918 182.093 129.14 182.649 Q131.362 183.204 133.839 183.204 Q137.844 183.204 140.181 181.098 Q142.519 178.991 142.519 175.38 Q142.519 171.769 140.181 169.663 Q137.844 167.556 133.839 167.556 Q131.964 167.556 130.089 167.973 Q128.237 168.389 126.293 169.269 L126.293 151.908 Z\" fill=\"#000000\" fill-rule=\"evenodd\" fill-opacity=\"1\" /><path clip-path=\"url(#clip790)\" d=\"M 0 0 M166.408 154.987 Q162.797 154.987 160.968 158.552 Q159.163 162.093 159.163 169.223 Q159.163 176.329 160.968 179.894 Q162.797 183.436 166.408 183.436 Q170.042 183.436 171.848 179.894 Q173.677 176.329 173.677 169.223 Q173.677 162.093 171.848 158.552 Q170.042 154.987 166.408 154.987 M166.408 151.283 Q172.218 151.283 175.274 155.889 Q178.353 160.473 178.353 169.223 Q178.353 177.95 175.274 182.556 Q172.218 187.139 166.408 187.139 Q160.598 187.139 157.519 182.556 Q154.464 177.95 154.464 169.223 Q154.464 160.473 157.519 155.889 Q160.598 151.283 166.408 151.283 Z\" fill=\"#000000\" fill-rule=\"evenodd\" fill-opacity=\"1\" /><path clip-path=\"url(#clip790)\" d=\"M 0 0 M214.741 161.005 L204.163 171.63 L214.741 182.209 L211.987 185.01 L201.362 174.385 L190.737 185.01 L188.005 182.209 L198.561 171.63 L188.005 161.005 L190.737 158.204 L201.362 168.829 L211.987 158.204 L214.741 161.005 Z\" fill=\"#000000\" fill-rule=\"evenodd\" fill-opacity=\"1\" /><path clip-path=\"url(#clip790)\" d=\"M 0 0 M227.102 182.533 L234.741 182.533 L234.741 156.167 L226.431 157.834 L226.431 153.575 L234.695 151.908 L239.371 151.908 L239.371 182.533 L247.01 182.533 L247.01 186.468 L227.102 186.468 L227.102 182.533 Z\" fill=\"#000000\" fill-rule=\"evenodd\" fill-opacity=\"1\" /><path clip-path=\"url(#clip790)\" d=\"M 0 0 M266.454 154.987 Q262.843 154.987 261.014 158.552 Q259.209 162.093 259.209 169.223 Q259.209 176.329 261.014 179.894 Q262.843 183.436 266.454 183.436 Q270.088 183.436 271.894 179.894 Q273.722 176.329 273.722 169.223 Q273.722 162.093 271.894 158.552 Q270.088 154.987 266.454 154.987 M266.454 151.283 Q272.264 151.283 275.32 155.889 Q278.398 160.473 278.398 169.223 Q278.398 177.95 275.32 182.556 Q272.264 187.139 266.454 187.139 Q260.644 187.139 257.565 182.556 Q254.51 177.95 254.51 169.223 Q254.51 160.473 257.565 155.889 Q260.644 151.283 266.454 151.283 Z\" fill=\"#000000\" fill-rule=\"evenodd\" fill-opacity=\"1\" /><path clip-path=\"url(#clip790)\" d=\"M 0 0 M278.398 145.384 L302.51 145.384 L302.51 148.582 L278.398 148.582 L278.398 145.384 Z\" fill=\"#000000\" fill-rule=\"evenodd\" fill-opacity=\"1\" /><path clip-path=\"url(#clip790)\" d=\"M 0 0 M310.748 130.978 L325.662 130.978 L325.662 134.175 L314.227 134.175 L314.227 141.059 Q315.055 140.776 315.882 140.645 Q316.71 140.494 317.537 140.494 Q322.239 140.494 324.985 143.071 Q327.731 145.648 327.731 150.049 Q327.731 154.581 324.91 157.102 Q322.089 159.603 316.954 159.603 Q315.186 159.603 313.343 159.302 Q311.519 159.001 309.563 158.399 L309.563 154.581 Q311.255 155.503 313.061 155.954 Q314.867 156.406 316.879 156.406 Q320.133 156.406 322.032 154.694 Q323.932 152.983 323.932 150.049 Q323.932 147.115 322.032 145.403 Q320.133 143.692 316.879 143.692 Q315.356 143.692 313.832 144.03 Q312.328 144.369 310.748 145.083 L310.748 130.978 Z\" fill=\"#000000\" fill-rule=\"evenodd\" fill-opacity=\"1\" /><polyline clip-path=\"url(#clip792)\" style=\"stroke:#009af9; stroke-width:4; stroke-opacity:1; fill:none\" points=\"\n  420.024,88.2882 1358.24,1391.6 2296.46,1445.72 \n  \"/>\n<polyline clip-path=\"url(#clip792)\" style=\"stroke:#e26f46; stroke-width:4; stroke-opacity:1; fill:none\" points=\"\n  420.024,88.4831 1358.24,1389.78 2296.46,1444.69 \n  \"/>\n<polyline clip-path=\"url(#clip792)\" style=\"stroke:#3da44d; stroke-width:4; stroke-opacity:1; fill:none\" points=\"\n  420.024,87.9763 1358.24,1389.78 2296.46,1444.69 \n  \"/>\n<polyline clip-path=\"url(#clip792)\" style=\"stroke:#c271d2; stroke-width:4; stroke-opacity:1; fill:none\" points=\"\n  420.024,88.7854 1358.24,1389.79 2296.46,1444.7 \n  \"/>\n<path clip-path=\"url(#clip790)\" d=\"\nM2011.31 397.618 L2286.46 397.618 L2286.46 95.2176 L2011.31 95.2176  Z\n  \" fill=\"#ffffff\" fill-rule=\"evenodd\" fill-opacity=\"1\"/>\n<polyline clip-path=\"url(#clip790)\" style=\"stroke:#000000; stroke-width:4; stroke-opacity:1; fill:none\" points=\"\n  2011.31,397.618 2286.46,397.618 2286.46,95.2176 2011.31,95.2176 2011.31,397.618 \n  \"/>\n<polyline clip-path=\"url(#clip790)\" style=\"stroke:#009af9; stroke-width:4; stroke-opacity:1; fill:none\" points=\"\n  2033.41,155.698 2166.01,155.698 \n  \"/>\n<path clip-path=\"url(#clip790)\" d=\"M 0 0 M2201.95 175.385 Q2200.15 180.015 2198.44 181.427 Q2196.72 182.839 2193.85 182.839 L2190.45 182.839 L2190.45 179.274 L2192.95 179.274 Q2194.71 179.274 2195.68 178.44 Q2196.65 177.607 2197.83 174.505 L2198.6 172.561 L2188.11 147.052 L2192.63 147.052 L2200.73 167.329 L2208.83 147.052 L2213.34 147.052 L2201.95 175.385 Z\" fill=\"#000000\" fill-rule=\"evenodd\" fill-opacity=\"1\" /><path clip-path=\"url(#clip790)\" d=\"M 0 0 M2220.63 169.042 L2228.27 169.042 L2228.27 142.677 L2219.96 144.343 L2219.96 140.084 L2228.23 138.418 L2232.9 138.418 L2232.9 169.042 L2240.54 169.042 L2240.54 172.978 L2220.63 172.978 L2220.63 169.042 Z\" fill=\"#000000\" fill-rule=\"evenodd\" fill-opacity=\"1\" /><polyline clip-path=\"url(#clip790)\" style=\"stroke:#e26f46; stroke-width:4; stroke-opacity:1; fill:none\" points=\"\n  2033.41,216.178 2166.01,216.178 \n  \"/>\n<path clip-path=\"url(#clip790)\" d=\"M 0 0 M2201.95 235.865 Q2200.15 240.495 2198.44 241.907 Q2196.72 243.319 2193.85 243.319 L2190.45 243.319 L2190.45 239.754 L2192.95 239.754 Q2194.71 239.754 2195.68 238.92 Q2196.65 238.087 2197.83 234.985 L2198.6 233.041 L2188.11 207.532 L2192.63 207.532 L2200.73 227.809 L2208.83 207.532 L2213.34 207.532 L2201.95 235.865 Z\" fill=\"#000000\" fill-rule=\"evenodd\" fill-opacity=\"1\" /><path clip-path=\"url(#clip790)\" d=\"M 0 0 M2223.85 229.522 L2240.17 229.522 L2240.17 233.458 L2218.23 233.458 L2218.23 229.522 Q2220.89 226.768 2225.47 222.138 Q2230.08 217.485 2231.26 216.143 Q2233.5 213.62 2234.38 211.884 Q2235.29 210.124 2235.29 208.435 Q2235.29 205.68 2233.34 203.944 Q2231.42 202.208 2228.32 202.208 Q2226.12 202.208 2223.67 202.972 Q2221.24 203.735 2218.46 205.286 L2218.46 200.564 Q2221.28 199.43 2223.74 198.851 Q2226.19 198.273 2228.23 198.273 Q2233.6 198.273 2236.79 200.958 Q2239.99 203.643 2239.99 208.134 Q2239.99 210.263 2239.18 212.185 Q2238.39 214.083 2236.28 216.675 Q2235.7 217.347 2232.6 220.564 Q2229.5 223.759 2223.85 229.522 Z\" fill=\"#000000\" fill-rule=\"evenodd\" fill-opacity=\"1\" /><polyline clip-path=\"url(#clip790)\" style=\"stroke:#3da44d; stroke-width:4; stroke-opacity:1; fill:none\" points=\"\n  2033.41,276.658 2166.01,276.658 \n  \"/>\n<path clip-path=\"url(#clip790)\" d=\"M 0 0 M2201.95 296.345 Q2200.15 300.975 2198.44 302.387 Q2196.72 303.799 2193.85 303.799 L2190.45 303.799 L2190.45 300.234 L2192.95 300.234 Q2194.71 300.234 2195.68 299.4 Q2196.65 298.567 2197.83 295.465 L2198.6 293.521 L2188.11 268.012 L2192.63 268.012 L2200.73 288.289 L2208.83 268.012 L2213.34 268.012 L2201.95 296.345 Z\" fill=\"#000000\" fill-rule=\"evenodd\" fill-opacity=\"1\" /><path clip-path=\"url(#clip790)\" d=\"M 0 0 M2233.99 275.303 Q2237.35 276.021 2239.22 278.289 Q2241.12 280.558 2241.12 283.891 Q2241.12 289.007 2237.6 291.808 Q2234.08 294.609 2227.6 294.609 Q2225.43 294.609 2223.11 294.169 Q2220.82 293.752 2218.37 292.896 L2218.37 288.382 Q2220.31 289.516 2222.63 290.095 Q2224.94 290.674 2227.46 290.674 Q2231.86 290.674 2234.15 288.938 Q2236.47 287.201 2236.47 283.891 Q2236.47 280.836 2234.31 279.123 Q2232.19 277.387 2228.37 277.387 L2224.34 277.387 L2224.34 273.544 L2228.55 273.544 Q2232 273.544 2233.83 272.178 Q2235.66 270.79 2235.66 268.197 Q2235.66 265.535 2233.76 264.123 Q2231.88 262.688 2228.37 262.688 Q2226.44 262.688 2224.25 263.104 Q2222.05 263.521 2219.41 264.401 L2219.41 260.234 Q2222.07 259.493 2224.38 259.123 Q2226.72 258.753 2228.78 258.753 Q2234.11 258.753 2237.21 261.183 Q2240.31 263.59 2240.31 267.711 Q2240.31 270.581 2238.67 272.572 Q2237.02 274.54 2233.99 275.303 Z\" fill=\"#000000\" fill-rule=\"evenodd\" fill-opacity=\"1\" /><polyline clip-path=\"url(#clip790)\" style=\"stroke:#c271d2; stroke-width:4; stroke-opacity:1; fill:none\" points=\"\n  2033.41,337.138 2166.01,337.138 \n  \"/>\n<path clip-path=\"url(#clip790)\" d=\"M 0 0 M2201.95 356.825 Q2200.15 361.455 2198.44 362.867 Q2196.72 364.279 2193.85 364.279 L2190.45 364.279 L2190.45 360.714 L2192.95 360.714 Q2194.71 360.714 2195.68 359.88 Q2196.65 359.047 2197.83 355.945 L2198.6 354.001 L2188.11 328.492 L2192.63 328.492 L2200.73 348.769 L2208.83 328.492 L2213.34 328.492 L2201.95 356.825 Z\" fill=\"#000000\" fill-rule=\"evenodd\" fill-opacity=\"1\" /><path clip-path=\"url(#clip790)\" d=\"M 0 0 M2232.67 323.932 L2220.87 342.381 L2232.67 342.381 L2232.67 323.932 M2231.44 319.858 L2237.32 319.858 L2237.32 342.381 L2242.25 342.381 L2242.25 346.269 L2237.32 346.269 L2237.32 354.418 L2232.67 354.418 L2232.67 346.269 L2217.07 346.269 L2217.07 341.756 L2231.44 319.858 Z\" fill=\"#000000\" fill-rule=\"evenodd\" fill-opacity=\"1\" /></svg>\n"
     },
     "metadata": {},
     "execution_count": 15
    }
   ],
   "source": [
    "run(sess,loss)\n",
    "q_check = run(sess,q_t_x)[5];\n",
    "p_check = run(sess,p);\n",
    "\n",
    "\n",
    "plot(mean(y_x_list[5],dims=1)[1,:])\n",
    "# plot!(q_check[:,3,1])\n",
    "plot!(sum(q_check .* p_check,dims=2)[:,1,1])\n",
    "\n",
    "plot!(maximum(q_check,dims=2)[:,1,1])\n",
    "plot!(minimum(q_check,dims=2)[:,1,1])\n",
    "\n"
   ]
  },
  {
   "cell_type": "code",
   "execution_count": 16,
   "metadata": {},
   "outputs": [
    {
     "output_type": "execute_result",
     "data": {
      "text/plain": [
       "5.963395876455984e-10"
      ]
     },
     "metadata": {},
     "execution_count": 16
    }
   ],
   "source": [
    "\n",
    "# check_diff_ = run(sess,diff_eval,feed_dict = Dict(tf_variables.lambda => ones(1)*1,tf_variables.N_k_dis=>64))  \n",
    "# N_k_dis_ = aux_functions.update_K_p(sess,param_model_val,tf_variables,check_diff_,64,p_pre_soft_max)\n",
    "\n",
    "\n",
    "# p_check[1:5]\n",
    "run(sess,loss,feed_dict = Dict(tf_variables.lambda => ones(1)*T_,tf_variables.N_k_dis=>64))\n"
   ]
  },
  {
   "cell_type": "code",
   "execution_count": null,
   "metadata": {},
   "outputs": [],
   "source": [
    "p_check\n",
    "# q_check[:,1:4,1]"
   ]
  },
  {
   "cell_type": "code",
   "execution_count": 14,
   "metadata": {},
   "outputs": [],
   "source": [
    "T_ = 1e10\n",
    "\n",
    "# BFGS!(sess,dw_2*1e5,options=Dict(\"maxiter\"=> 50, \"ftol\"=>1e-18, \"gtol\"=>1e-18),feed_dict = Dict(tf_variables.lambda => ones(1)*T_,tf_variables.N_k_dis=>64))\n",
    "\n",
    "ScipyOptimizerMinimize(sess, opt_LFGS_sum,feed_dict = Dict(tf_variables.lambda => ones(1)*T_,tf_variables.N_k_dis=>64))\n"
   ]
  },
  {
   "cell_type": "code",
   "execution_count": 40,
   "metadata": {},
   "outputs": [
    {
     "output_type": "stream",
     "name": "stderr",
     "text": [
      "C:\\Users\\dbeli\\.julia\\adcme\\lib\\site-packages\\tensorflow_core\\python\\framework\\indexed_slices.py:424: UserWarning: Converting sparse IndexedSlices to a dense Tensor of unknown shape. This may consume a large amount of memory.\n",
      "  \"Converting sparse IndexedSlices to a dense Tensor of unknown shape. \"\n",
      "┌ Info: Optimization starts...\n",
      "└ @ ADCME C:\\Users\\dbeli\\.julia\\packages\\ADCME\\cupNK\\src\\optim.jl:332\n",
      "iter 0, current loss=5.951373788947781e15\n",
      "iter 1, current loss=5.412523808210669e15\n",
      "iter 2, current loss=5.951373787093723e15\n",
      "iter 3, current loss=5.223811174619806e15\n",
      "iter 4, current loss=5.305337302806063e15\n",
      "iter 5, current loss=5.130302445184474e15\n",
      "iter 6, current loss=5.13013656866739e15\n",
      "iter 7, current loss=5.130136306586389e15\n",
      "================ STEP 0 ===============\n",
      "iter 8, current loss=5.662538101898143e15\n",
      "iter 9, current loss=5.130136306472796e15\n",
      "================ STEP 1 ===============\n",
      "iter 10, current loss=5.130084826244282e15\n",
      "iter 11, current loss=5.129878913110922e15\n",
      "iter 12, current loss=5.129055379903898e15\n",
      "iter 13, current loss=5.125763171958338e15\n",
      "iter 14, current loss=5.112625786376913e15\n",
      "iter 15, current loss=5.06061924156125e15\n",
      "iter 16, current loss=4.863370050028363e15\n",
      "================ STEP 2 ===============\n",
      "iter 17, current loss=4.133440406081527e15\n",
      "================ STEP 3 ===============\n",
      "iter 18, current loss=3.337081433404819e15\n",
      "================ STEP 4 ===============\n",
      "iter 19, current loss=3.13456119784786e15\n",
      "================ STEP 5 ===============\n",
      "iter 20, current loss=3.0213863524035095e15\n",
      "================ STEP 6 ===============\n",
      "iter 21, current loss=2.890143559378587e15\n",
      "iter 22, current loss=2.813728566066243e15\n",
      "================ STEP 7 ===============\n",
      "iter 23, current loss=2.767464436573966e15\n",
      "================ STEP 8 ===============\n",
      "iter 24, current loss=2.7368796424486135e15\n",
      "================ STEP 9 ===============\n",
      "iter 25, current loss=2.720529259233727e15\n",
      "================ STEP 10 ===============\n",
      "iter 26, current loss=2.6739776469621785e15\n",
      "================ STEP 11 ===============\n",
      "iter 27, current loss=2.64441727554574e15\n",
      "================ STEP 12 ===============\n",
      "iter 28, current loss=2.617164816166953e15\n",
      "================ STEP 13 ===============\n",
      "iter 29, current loss=2.609362289377674e15\n",
      "================ STEP 14 ===============\n",
      "iter 30, current loss=2.5974840528670875e15\n",
      "================ STEP 15 ===============\n",
      "iter 31, current loss=2.557502464081619e15\n",
      "iter 32, current loss=3.4723162516606235e15\n",
      "iter 33, current loss=2.550299579036836e15\n",
      "iter 34, current loss=2.5355186265476945e15\n",
      "iter 35, current loss=2.5333396373173845e15\n",
      "================ STEP 16 ===============\n",
      "iter 36, current loss=4.800302442540493e15\n",
      "iter 37, current loss=2.5267345718636545e15\n",
      "================ STEP 17 ===============\n",
      "iter 38, current loss=2.490171655498901e15\n",
      "================ STEP 18 ===============\n",
      "iter 39, current loss=2.4010578061158575e15\n",
      "================ STEP 19 ===============\n",
      "iter 40, current loss=2.363807718143005e15\n",
      "================ STEP 20 ===============\n",
      "iter 41, current loss=2.3195452026391455e15\n",
      "================ STEP 21 ===============\n",
      "iter 42, current loss=2.306838993272339e15\n",
      "================ STEP 22 ===============\n",
      "iter 43, current loss=2.3010817356427275e15\n",
      "================ STEP 23 ===============\n",
      "iter 44, current loss=2.2972360841061285e15\n",
      "================ STEP 24 ===============\n",
      "iter 45, current loss=2.2946535589587925e15\n",
      "================ STEP 25 ===============\n",
      "iter 46, current loss=2.2922245646901175e15\n",
      "================ STEP 26 ===============\n",
      "iter 47, current loss=2.2877382453996365e15\n",
      "================ STEP 27 ===============\n",
      "iter 48, current loss=2.283327896225239e15\n",
      "================ STEP 28 ===============\n",
      "iter 49, current loss=2.280762771539098e15\n",
      "================ STEP 29 ===============\n",
      "iter 50, current loss=2.2786548953239525e15\n",
      "================ STEP 30 ===============\n",
      "iter 51, current loss=2.277412262811982e15\n",
      "================ STEP 31 ===============\n",
      "iter 52, current loss=2.2766604798815955e15\n",
      "================ STEP 32 ===============\n",
      "iter 53, current loss=2.275966309871303e15\n",
      "================ STEP 33 ===============\n",
      "iter 54, current loss=2.27525363935171e15\n",
      "================ STEP 34 ===============\n",
      "iter 55, current loss=2.275266825459398e15\n",
      "iter 56, current loss=2.274895834883956e15\n",
      "================ STEP 35 ===============\n",
      "iter 57, current loss=2.2747406812885005e15\n",
      "================ STEP 36 ===============\n",
      "iter 58, current loss=2.274637600602317e15\n",
      "================ STEP 37 ===============\n",
      "iter 59, current loss=2.274497760577382e15\n",
      "================ STEP 38 ===============\n",
      "iter 60, current loss=2.2744449657595795e15\n",
      "================ STEP 39 ===============\n",
      "iter 61, current loss=2.2743136935450075e15\n",
      "================ STEP 40 ===============\n",
      "iter 62, current loss=2.274268731880096e15\n",
      "================ STEP 41 ===============\n",
      "iter 63, current loss=2.2741919663616615e15\n",
      "================ STEP 42 ===============\n",
      "iter 64, current loss=2.274081088761153e15\n",
      "================ STEP 43 ===============\n",
      "iter 65, current loss=2.2739508287661135e15\n",
      "================ STEP 44 ===============\n",
      "iter 66, current loss=2.273810532402842e15\n",
      "================ STEP 45 ===============\n",
      "iter 67, current loss=2.273771326123804e15\n",
      "================ STEP 46 ===============\n",
      "iter 68, current loss=2.2737348886792065e15\n",
      "================ STEP 47 ===============\n",
      "iter 69, current loss=2.273697440502973e15\n",
      "================ STEP 48 ===============\n",
      "iter 70, current loss=2.273657696258195e15\n",
      "================ STEP 49 ===============\n",
      "iter 71, current loss=2.273552165274636e15\n",
      "================ STEP 50 ===============\n",
      "iter 72, current loss=2.2734423320992185e15\n",
      "================ STEP 51 ===============\n",
      "iter 73, current loss=2.2735492939298155e15\n",
      "iter 74, current loss=2.2733083254963585e15\n",
      "================ STEP 52 ===============\n",
      "iter 75, current loss=2.2730149518735625e15\n",
      "================ STEP 53 ===============\n",
      "iter 76, current loss=2.2725580458615225e15\n",
      "================ STEP 54 ===============\n",
      "iter 77, current loss=2.272480563987067e15\n",
      "iter 78, current loss=2.272165479559464e15\n",
      "================ STEP 55 ===============\n",
      "iter 79, current loss=2.2715141836503325e15\n",
      "================ STEP 56 ===============\n",
      "iter 80, current loss=2.2733724644411065e15\n",
      "iter 81, current loss=2.27080081711065e15\n",
      "================ STEP 57 ===============\n",
      "iter 82, current loss=2.26990364071918e15\n",
      "================ STEP 58 ===============\n",
      "iter 83, current loss=2.269488613034472e15\n",
      "================ STEP 59 ===============\n",
      "iter 84, current loss=2.2689186584628005e15\n",
      "================ STEP 60 ===============\n",
      "iter 85, current loss=2.2691942712754245e15\n",
      "iter 86, current loss=2.2685950141956585e15\n",
      "================ STEP 61 ===============\n",
      "iter 87, current loss=2.268329143496042e15\n",
      "================ STEP 62 ===============\n",
      "iter 88, current loss=2.26807169872148e15\n",
      "================ STEP 63 ===============\n",
      "iter 89, current loss=2.2678683282603755e15\n",
      "================ STEP 64 ===============\n",
      "iter 90, current loss=2.267863582043664e15\n",
      "iter 91, current loss=2.26775388679921e15\n",
      "================ STEP 65 ===============\n",
      "iter 92, current loss=2.267584962217667e15\n",
      "================ STEP 66 ===============\n",
      "iter 93, current loss=2.267359288717605e15\n",
      "================ STEP 67 ===============\n",
      "iter 94, current loss=2.267058223600843e15\n",
      "================ STEP 68 ===============\n",
      "iter 95, current loss=2.266744882003264e15\n",
      "================ STEP 69 ===============\n",
      "iter 96, current loss=2.2665296448193555e15\n",
      "================ STEP 70 ===============\n",
      "iter 97, current loss=2.266211450676711e15\n",
      "================ STEP 71 ===============\n",
      "iter 98, current loss=2.265942116842002e15\n",
      "================ STEP 72 ===============\n",
      "iter 99, current loss=2.265559776917701e15\n",
      "================ STEP 73 ===============\n",
      "iter 100, current loss=2.2647219278601445e15\n",
      "================ STEP 74 ===============\n",
      "iter 101, current loss=2.2636559503230985e15\n",
      "================ STEP 75 ===============\n",
      "iter 102, current loss=2.262756452617643e15\n",
      "iter 103, current loss=2.2624467252959625e15\n",
      "================ STEP 76 ===============\n",
      "iter 104, current loss=2.261287058209398e15\n",
      "iter 105, current loss=2.260666727578606e15\n",
      "================ STEP 77 ===============\n",
      "iter 106, current loss=2.257425986970319e15\n",
      "================ STEP 78 ===============\n",
      "iter 107, current loss=2.2524123438004255e15\n",
      "================ STEP 79 ===============\n",
      "iter 108, current loss=2.24881078321412e15\n",
      "================ STEP 80 ===============\n",
      "iter 109, current loss=2.244465192690119e15\n",
      "================ STEP 81 ===============\n",
      "iter 110, current loss=2.2404488874172438e15\n",
      "================ STEP 82 ===============\n",
      "iter 111, current loss=2.2366836591322345e15\n",
      "================ STEP 83 ===============\n",
      "iter 112, current loss=2.235314710828086e15\n",
      "iter 113, current loss=2.2337050700324402e15\n",
      "================ STEP 84 ===============\n",
      "iter 114, current loss=2.2309108800407728e15\n",
      "================ STEP 85 ===============\n",
      "iter 115, current loss=2.2300929834813762e15\n",
      "================ STEP 86 ===============\n",
      "iter 116, current loss=2.2296436866608888e15\n",
      "================ STEP 87 ===============\n",
      "iter 117, current loss=2.2291862504190322e15\n",
      "================ STEP 88 ===============\n",
      "iter 118, current loss=2.2287917848408025e15\n",
      "================ STEP 89 ===============\n",
      "iter 119, current loss=2.2283657158003845e15\n",
      "================ STEP 90 ===============\n",
      "iter 120, current loss=2.2278790475197282e15\n",
      "================ STEP 91 ===============\n",
      "iter 121, current loss=2.2274106866855435e15\n",
      "================ STEP 92 ===============\n",
      "iter 122, current loss=2.2261180222898115e15\n",
      "================ STEP 93 ===============\n",
      "iter 123, current loss=2.2252152052466845e15\n",
      "================ STEP 94 ===============\n",
      "iter 124, current loss=2.224406543048301e15\n",
      "================ STEP 95 ===============\n",
      "iter 125, current loss=2.2229502872619952e15\n",
      "================ STEP 96 ===============\n",
      "iter 126, current loss=2.222138535425087e15\n",
      "================ STEP 97 ===============\n",
      "iter 127, current loss=2.221200849910309e15\n",
      "================ STEP 98 ===============\n",
      "iter 128, current loss=2.2209218505894355e15\n",
      "iter 129, current loss=2.2203629258121765e15\n",
      "================ STEP 99 ===============\n"
     ]
    },
    {
     "output_type": "execute_result",
     "data": {
      "text/plain": [
       "100-element Vector{Any}:\n",
       " 5.130136306586389e15\n",
       " 5.130136306472796e15\n",
       " 4.863370050028363e15\n",
       " 4.133440406081527e15\n",
       " 3.337081433404819e15\n",
       " 3.13456119784786e15\n",
       " 3.0213863524035095e15\n",
       " 2.813728566066243e15\n",
       " 2.767464436573966e15\n",
       " 2.7368796424486135e15\n",
       " 2.720529259233727e15\n",
       " 2.6739776469621785e15\n",
       " 2.64441727554574e15\n",
       " ⋮\n",
       " 2.2291862504190322e15\n",
       " 2.2287917848408025e15\n",
       " 2.2283657158003845e15\n",
       " 2.2278790475197282e15\n",
       " 2.2274106866855435e15\n",
       " 2.2261180222898115e15\n",
       " 2.2252152052466845e15\n",
       " 2.224406543048301e15\n",
       " 2.2229502872619952e15\n",
       " 2.222138535425087e15\n",
       " 2.221200849910309e15\n",
       " 2.2203629258121765e15"
      ]
     },
     "metadata": {},
     "execution_count": 40
    }
   ],
   "source": [
    "# BFGS!(sess,loss*1e5,options=Dict(\"maxiter\"=> 12, \"ftol\"=>1e-18, \"gtol\"=>1e-18))\n",
    "BFGS!(sess,loss*1e15,options=Dict(\"maxiter\"=> 100, \"ftol\"=>1e-12, \"gtol\"=>1e-12),feed_dict = Dict(tf_variables.lambda => ones(1)*1e0,tf_variables.N_k_dis=>8))\n"
   ]
  },
  {
   "cell_type": "code",
   "execution_count": null,
   "metadata": {},
   "outputs": [],
   "source": [
    "N_k_dis_ = update_K_p(sess,param_model_val,tf_variables,check_diff_,N_k_dis_,p_pre_soft_max"
   ]
  },
  {
   "cell_type": "code",
   "execution_count": null,
   "metadata": {},
   "outputs": [],
   "source": [
    "run(sess,tf_variables.N_k_dis)"
   ]
  },
  {
   "cell_type": "code",
   "execution_count": null,
   "metadata": {},
   "outputs": [],
   "source": [
    "# run(sess,dw_2)*1e5\n",
    "N_k_dis_"
   ]
  },
  {
   "cell_type": "code",
   "execution_count": 35,
   "metadata": {},
   "outputs": [
    {
     "output_type": "error",
     "ename": "LoadError",
     "evalue": "UndefVarError: dw_2_mean not defined",
     "traceback": [
      "UndefVarError: dw_2_mean not defined",
      "",
      "Stacktrace:",
      " [1] top-level scope",
      "   @ In[35]:4",
      " [2] eval",
      "   @ .\\boot.jl:360 [inlined]",
      " [3] include_string(mapexpr::typeof(REPL.softscope), mod::Module, code::String, filename::String)",
      "   @ Base .\\loading.jl:1094"
     ]
    }
   ],
   "source": [
    "\n",
    "T_ = 1e10\n",
    "# ScipyOptimizerMinimize(sess, opt_LFGS_sum,feed_dict = Dict(tf_variables.lambda => ones(1)*T_,tf_variables.N_k_dis=>N_k_dis_))\n",
    "BFGS!(sess,dw_2_mean*1e5,options=Dict(\"maxiter\"=> 100, \"ftol\"=>1e-18, \"gtol\"=>1e-18),feed_dict = Dict(tf_variables.lambda => ones(1)*1e3,tf_variables.N_k_dis=>16))\n",
    "\n",
    "# for i=1:100\n",
    "\n",
    "\n",
    "# print(i)\n",
    "# run(sess,opt_ADAM_sum)\n",
    "# end"
   ]
  },
  {
   "cell_type": "code",
   "execution_count": null,
   "metadata": {},
   "outputs": [],
   "source": [
    "plot(mean(y_x_list[5],dims=1)[1,:])"
   ]
  },
  {
   "cell_type": "code",
   "execution_count": null,
   "metadata": {},
   "outputs": [],
   "source": [
    "plot!(run(sess,q_t_x)[5][:,2,1])\n",
    "\n"
   ]
  },
  {
   "cell_type": "code",
   "execution_count": null,
   "metadata": {},
   "outputs": [],
   "source": [
    "plot(mean(y_y_list[5],dims=1)[1,:])"
   ]
  },
  {
   "cell_type": "code",
   "execution_count": null,
   "metadata": {},
   "outputs": [],
   "source": [
    "plot!(run(sess,q_t_y)[5][:,2,1])\n"
   ]
  },
  {
   "cell_type": "code",
   "execution_count": null,
   "metadata": {},
   "outputs": [],
   "source": [
    "aux_functions.multiply_K(sess,param_model_val,tf_variables,+2*log(10))"
   ]
  },
  {
   "cell_type": "code",
   "execution_count": null,
   "metadata": {},
   "outputs": [],
   "source": [
    "# check = run(sess,q_t_x)"
   ]
  },
  {
   "cell_type": "code",
   "execution_count": null,
   "metadata": {},
   "outputs": [],
   "source": [
    "# flow_x,flow_y,loss_save,loss_y_save = run(sess,[q_t_x,q_t_y,dw_2,loss])\n",
    "\n",
    "# flow_x_save = flow_x[5][:,4,1]\n",
    "# flow_y_save = flow_y[5][:,4,1]\n",
    "# exp_name = \"loss_y_minus_function_check_\"\n",
    "# open(string(exp_name,\"flow_x.txt\"),\"w\") do io\n",
    "#     writedlm(io, flow_x_save)\n",
    "# end\n",
    "\n",
    "# open(string(exp_name,\"flow_y.txt\"),\"w\") do io\n",
    "#     writedlm(io, flow_y_save)\n",
    "# end\n",
    "\n",
    "# open(string(exp_name,\"loss.txt\"),\"w\") do io\n",
    "#     writedlm(io, loss_save)\n",
    "# end\n",
    "\n",
    "# open(string(exp_name,\"loss_y.txt\"),\"w\") do io\n",
    "#     writedlm(io, loss_y_save)\n",
    "# end\n",
    "\n",
    "\n",
    "\n"
   ]
  },
  {
   "cell_type": "code",
   "execution_count": null,
   "metadata": {},
   "outputs": [],
   "source": [
    "\n",
    "\n",
    "\n",
    "# for i = 1:20\n",
    "\n",
    "#         aux_functions.multiply_K(sess,param_model_val,tf_variables,+log(1.1))\n",
    "#         flow_x,flow_y,loss_save,loss_y_save = run(sess,[q_t_x,q_t_y,dw_2,loss])\n",
    "\n",
    "\n",
    "#         flow_x_save = flow_x[5][:,4,1]\n",
    "#         flow_y_save = flow_y[5][:,4,1]\n",
    "\n",
    "        \n",
    "        \n",
    "#         open(string(exp_name,\"flow_x.txt\"),\"a\") do io\n",
    "#                 writedlm(io, flow_x_save)\n",
    "#         end\n",
    "\n",
    "#         open(string(exp_name,\"flow_y.txt\"),\"a\") do io\n",
    "#                 writedlm(io, flow_y_save)\n",
    "#         end\n",
    "\n",
    "#         open(string(exp_name,\"loss.txt\"),\"a\") do io\n",
    "#                 writedlm(io, loss_save)\n",
    "#         end\n",
    "\n",
    "#         open(string(exp_name,\"loss_y.txt\"),\"a\") do io\n",
    "#                 writedlm(io, loss_y_save)\n",
    "#         end\n",
    "# end"
   ]
  },
  {
   "cell_type": "code",
   "execution_count": 17,
   "metadata": {},
   "outputs": [
    {
     "output_type": "execute_result",
     "data": {
      "image/svg+xml": "<?xml version=\"1.0\" encoding=\"utf-8\"?>\n<svg xmlns=\"http://www.w3.org/2000/svg\" xmlns:xlink=\"http://www.w3.org/1999/xlink\" width=\"600\" height=\"400\" viewBox=\"0 0 2400 1600\">\n<defs>\n  <clipPath id=\"clip830\">\n    <rect x=\"0\" y=\"0\" width=\"2400\" height=\"1600\"/>\n  </clipPath>\n</defs>\n<path clip-path=\"url(#clip830)\" d=\"\nM0 1600 L2400 1600 L2400 0 L0 0  Z\n  \" fill=\"#ffffff\" fill-rule=\"evenodd\" fill-opacity=\"1\"/>\n<defs>\n  <clipPath id=\"clip831\">\n    <rect x=\"480\" y=\"0\" width=\"1681\" height=\"1600\"/>\n  </clipPath>\n</defs>\n<path clip-path=\"url(#clip830)\" d=\"\nM336.246 1486.45 L2352.76 1486.45 L2352.76 47.2441 L336.246 47.2441  Z\n  \" fill=\"#ffffff\" fill-rule=\"evenodd\" fill-opacity=\"1\"/>\n<defs>\n  <clipPath id=\"clip832\">\n    <rect x=\"336\" y=\"47\" width=\"2018\" height=\"1440\"/>\n  </clipPath>\n</defs>\n<polyline clip-path=\"url(#clip832)\" style=\"stroke:#000000; stroke-width:2; stroke-opacity:0.1; fill:none\" points=\"\n  393.317,1486.45 393.317,47.2441 \n  \"/>\n<polyline clip-path=\"url(#clip832)\" style=\"stroke:#000000; stroke-width:2; stroke-opacity:0.1; fill:none\" points=\"\n  868.909,1486.45 868.909,47.2441 \n  \"/>\n<polyline clip-path=\"url(#clip832)\" style=\"stroke:#000000; stroke-width:2; stroke-opacity:0.1; fill:none\" points=\"\n  1344.5,1486.45 1344.5,47.2441 \n  \"/>\n<polyline clip-path=\"url(#clip832)\" style=\"stroke:#000000; stroke-width:2; stroke-opacity:0.1; fill:none\" points=\"\n  1820.09,1486.45 1820.09,47.2441 \n  \"/>\n<polyline clip-path=\"url(#clip832)\" style=\"stroke:#000000; stroke-width:2; stroke-opacity:0.1; fill:none\" points=\"\n  2295.68,1486.45 2295.68,47.2441 \n  \"/>\n<polyline clip-path=\"url(#clip830)\" style=\"stroke:#000000; stroke-width:4; stroke-opacity:1; fill:none\" points=\"\n  336.246,1486.45 2352.76,1486.45 \n  \"/>\n<polyline clip-path=\"url(#clip830)\" style=\"stroke:#000000; stroke-width:4; stroke-opacity:1; fill:none\" points=\"\n  393.317,1486.45 393.317,1469.18 \n  \"/>\n<polyline clip-path=\"url(#clip830)\" style=\"stroke:#000000; stroke-width:4; stroke-opacity:1; fill:none\" points=\"\n  868.909,1486.45 868.909,1469.18 \n  \"/>\n<polyline clip-path=\"url(#clip830)\" style=\"stroke:#000000; stroke-width:4; stroke-opacity:1; fill:none\" points=\"\n  1344.5,1486.45 1344.5,1469.18 \n  \"/>\n<polyline clip-path=\"url(#clip830)\" style=\"stroke:#000000; stroke-width:4; stroke-opacity:1; fill:none\" points=\"\n  1820.09,1486.45 1820.09,1469.18 \n  \"/>\n<polyline clip-path=\"url(#clip830)\" style=\"stroke:#000000; stroke-width:4; stroke-opacity:1; fill:none\" points=\"\n  2295.68,1486.45 2295.68,1469.18 \n  \"/>\n<path clip-path=\"url(#clip830)\" d=\"M 0 0 M360.47 1543.18 L368.109 1543.18 L368.109 1516.82 L359.798 1518.49 L359.798 1514.23 L368.062 1512.56 L372.738 1512.56 L372.738 1543.18 L380.377 1543.18 L380.377 1547.12 L360.47 1547.12 L360.47 1543.18 Z\" fill=\"#000000\" fill-rule=\"evenodd\" fill-opacity=\"1\" /><path clip-path=\"url(#clip830)\" d=\"M 0 0 M389.821 1541.24 L394.706 1541.24 L394.706 1547.12 L389.821 1547.12 L389.821 1541.24 Z\" fill=\"#000000\" fill-rule=\"evenodd\" fill-opacity=\"1\" /><path clip-path=\"url(#clip830)\" d=\"M 0 0 M414.891 1515.64 Q411.28 1515.64 409.451 1519.2 Q407.645 1522.75 407.645 1529.87 Q407.645 1536.98 409.451 1540.55 Q411.28 1544.09 414.891 1544.09 Q418.525 1544.09 420.33 1540.55 Q422.159 1536.98 422.159 1529.87 Q422.159 1522.75 420.33 1519.2 Q418.525 1515.64 414.891 1515.64 M414.891 1511.93 Q420.701 1511.93 423.756 1516.54 Q426.835 1521.12 426.835 1529.87 Q426.835 1538.6 423.756 1543.21 Q420.701 1547.79 414.891 1547.79 Q409.081 1547.79 406.002 1543.21 Q402.946 1538.6 402.946 1529.87 Q402.946 1521.12 406.002 1516.54 Q409.081 1511.93 414.891 1511.93 Z\" fill=\"#000000\" fill-rule=\"evenodd\" fill-opacity=\"1\" /><path clip-path=\"url(#clip830)\" d=\"M 0 0 M836.559 1543.18 L844.198 1543.18 L844.198 1516.82 L835.888 1518.49 L835.888 1514.23 L844.152 1512.56 L848.828 1512.56 L848.828 1543.18 L856.467 1543.18 L856.467 1547.12 L836.559 1547.12 L836.559 1543.18 Z\" fill=\"#000000\" fill-rule=\"evenodd\" fill-opacity=\"1\" /><path clip-path=\"url(#clip830)\" d=\"M 0 0 M865.911 1541.24 L870.795 1541.24 L870.795 1547.12 L865.911 1547.12 L865.911 1541.24 Z\" fill=\"#000000\" fill-rule=\"evenodd\" fill-opacity=\"1\" /><path clip-path=\"url(#clip830)\" d=\"M 0 0 M881.027 1512.56 L899.383 1512.56 L899.383 1516.5 L885.309 1516.5 L885.309 1524.97 Q886.328 1524.62 887.346 1524.46 Q888.365 1524.27 889.383 1524.27 Q895.17 1524.27 898.55 1527.44 Q901.929 1530.62 901.929 1536.03 Q901.929 1541.61 898.457 1544.71 Q894.985 1547.79 888.666 1547.79 Q886.49 1547.79 884.221 1547.42 Q881.976 1547.05 879.568 1546.31 L879.568 1541.61 Q881.652 1542.74 883.874 1543.3 Q886.096 1543.86 888.573 1543.86 Q892.578 1543.86 894.916 1541.75 Q897.254 1539.64 897.254 1536.03 Q897.254 1532.42 894.916 1530.31 Q892.578 1528.21 888.573 1528.21 Q886.698 1528.21 884.823 1528.62 Q882.971 1529.04 881.027 1529.92 L881.027 1512.56 Z\" fill=\"#000000\" fill-rule=\"evenodd\" fill-opacity=\"1\" /><path clip-path=\"url(#clip830)\" d=\"M 0 0 M1315.74 1543.18 L1332.06 1543.18 L1332.06 1547.12 L1310.11 1547.12 L1310.11 1543.18 Q1312.78 1540.43 1317.36 1535.8 Q1321.97 1531.15 1323.15 1529.81 Q1325.39 1527.28 1326.27 1525.55 Q1327.17 1523.79 1327.17 1522.1 Q1327.17 1519.34 1325.23 1517.61 Q1323.31 1515.87 1320.21 1515.87 Q1318.01 1515.87 1315.55 1516.63 Q1313.12 1517.4 1310.35 1518.95 L1310.35 1514.23 Q1313.17 1513.09 1315.62 1512.51 Q1318.08 1511.93 1320.11 1511.93 Q1325.48 1511.93 1328.68 1514.62 Q1331.87 1517.31 1331.87 1521.8 Q1331.87 1523.93 1331.06 1525.85 Q1330.28 1527.74 1328.17 1530.34 Q1327.59 1531.01 1324.49 1534.23 Q1321.39 1537.42 1315.74 1543.18 Z\" fill=\"#000000\" fill-rule=\"evenodd\" fill-opacity=\"1\" /><path clip-path=\"url(#clip830)\" d=\"M 0 0 M1341.87 1541.24 L1346.76 1541.24 L1346.76 1547.12 L1341.87 1547.12 L1341.87 1541.24 Z\" fill=\"#000000\" fill-rule=\"evenodd\" fill-opacity=\"1\" /><path clip-path=\"url(#clip830)\" d=\"M 0 0 M1366.94 1515.64 Q1363.33 1515.64 1361.5 1519.2 Q1359.7 1522.75 1359.7 1529.87 Q1359.7 1536.98 1361.5 1540.55 Q1363.33 1544.09 1366.94 1544.09 Q1370.58 1544.09 1372.38 1540.55 Q1374.21 1536.98 1374.21 1529.87 Q1374.21 1522.75 1372.38 1519.2 Q1370.58 1515.64 1366.94 1515.64 M1366.94 1511.93 Q1372.75 1511.93 1375.81 1516.54 Q1378.89 1521.12 1378.89 1529.87 Q1378.89 1538.6 1375.81 1543.21 Q1372.75 1547.79 1366.94 1547.79 Q1361.13 1547.79 1358.05 1543.21 Q1355 1538.6 1355 1529.87 Q1355 1521.12 1358.05 1516.54 Q1361.13 1511.93 1366.94 1511.93 Z\" fill=\"#000000\" fill-rule=\"evenodd\" fill-opacity=\"1\" /><path clip-path=\"url(#clip830)\" d=\"M 0 0 M1791.83 1543.18 L1808.15 1543.18 L1808.15 1547.12 L1786.2 1547.12 L1786.2 1543.18 Q1788.87 1540.43 1793.45 1535.8 Q1798.06 1531.15 1799.24 1529.81 Q1801.48 1527.28 1802.36 1525.55 Q1803.26 1523.79 1803.26 1522.1 Q1803.26 1519.34 1801.32 1517.61 Q1799.4 1515.87 1796.3 1515.87 Q1794.1 1515.87 1791.64 1516.63 Q1789.21 1517.4 1786.44 1518.95 L1786.44 1514.23 Q1789.26 1513.09 1791.71 1512.51 Q1794.17 1511.93 1796.2 1511.93 Q1801.57 1511.93 1804.77 1514.62 Q1807.96 1517.31 1807.96 1521.8 Q1807.96 1523.93 1807.15 1525.85 Q1806.37 1527.74 1804.26 1530.34 Q1803.68 1531.01 1800.58 1534.23 Q1797.48 1537.42 1791.83 1543.18 Z\" fill=\"#000000\" fill-rule=\"evenodd\" fill-opacity=\"1\" /><path clip-path=\"url(#clip830)\" d=\"M 0 0 M1817.96 1541.24 L1822.85 1541.24 L1822.85 1547.12 L1817.96 1547.12 L1817.96 1541.24 Z\" fill=\"#000000\" fill-rule=\"evenodd\" fill-opacity=\"1\" /><path clip-path=\"url(#clip830)\" d=\"M 0 0 M1833.08 1512.56 L1851.44 1512.56 L1851.44 1516.5 L1837.36 1516.5 L1837.36 1524.97 Q1838.38 1524.62 1839.4 1524.46 Q1840.42 1524.27 1841.44 1524.27 Q1847.22 1524.27 1850.6 1527.44 Q1853.98 1530.62 1853.98 1536.03 Q1853.98 1541.61 1850.51 1544.71 Q1847.04 1547.79 1840.72 1547.79 Q1838.54 1547.79 1836.27 1547.42 Q1834.03 1547.05 1831.62 1546.31 L1831.62 1541.61 Q1833.7 1542.74 1835.93 1543.3 Q1838.15 1543.86 1840.63 1543.86 Q1844.63 1543.86 1846.97 1541.75 Q1849.31 1539.64 1849.31 1536.03 Q1849.31 1532.42 1846.97 1530.31 Q1844.63 1528.21 1840.63 1528.21 Q1838.75 1528.21 1836.88 1528.62 Q1835.02 1529.04 1833.08 1529.92 L1833.08 1512.56 Z\" fill=\"#000000\" fill-rule=\"evenodd\" fill-opacity=\"1\" /><path clip-path=\"url(#clip830)\" d=\"M 0 0 M2276.99 1528.49 Q2280.35 1529.2 2282.22 1531.47 Q2284.12 1533.74 2284.12 1537.07 Q2284.12 1542.19 2280.6 1544.99 Q2277.09 1547.79 2270.6 1547.79 Q2268.43 1547.79 2266.11 1547.35 Q2263.82 1546.93 2261.37 1546.08 L2261.37 1541.56 Q2263.31 1542.7 2265.63 1543.28 Q2267.94 1543.86 2270.47 1543.86 Q2274.86 1543.86 2277.15 1542.12 Q2279.47 1540.38 2279.47 1537.07 Q2279.47 1534.02 2277.32 1532.31 Q2275.19 1530.57 2271.37 1530.57 L2267.34 1530.57 L2267.34 1526.73 L2271.55 1526.73 Q2275 1526.73 2276.83 1525.36 Q2278.66 1523.97 2278.66 1521.38 Q2278.66 1518.72 2276.76 1517.31 Q2274.89 1515.87 2271.37 1515.87 Q2269.45 1515.87 2267.25 1516.29 Q2265.05 1516.7 2262.41 1517.58 L2262.41 1513.42 Q2265.07 1512.68 2267.39 1512.31 Q2269.72 1511.93 2271.78 1511.93 Q2277.11 1511.93 2280.21 1514.37 Q2283.31 1516.77 2283.31 1520.89 Q2283.31 1523.76 2281.67 1525.75 Q2280.03 1527.72 2276.99 1528.49 Z\" fill=\"#000000\" fill-rule=\"evenodd\" fill-opacity=\"1\" /><path clip-path=\"url(#clip830)\" d=\"M 0 0 M2292.99 1541.24 L2297.87 1541.24 L2297.87 1547.12 L2292.99 1547.12 L2292.99 1541.24 Z\" fill=\"#000000\" fill-rule=\"evenodd\" fill-opacity=\"1\" /><path clip-path=\"url(#clip830)\" d=\"M 0 0 M2318.06 1515.64 Q2314.45 1515.64 2312.62 1519.2 Q2310.81 1522.75 2310.81 1529.87 Q2310.81 1536.98 2312.62 1540.55 Q2314.45 1544.09 2318.06 1544.09 Q2321.69 1544.09 2323.5 1540.55 Q2325.33 1536.98 2325.33 1529.87 Q2325.33 1522.75 2323.5 1519.2 Q2321.69 1515.64 2318.06 1515.64 M2318.06 1511.93 Q2323.87 1511.93 2326.92 1516.54 Q2330 1521.12 2330 1529.87 Q2330 1538.6 2326.92 1543.21 Q2323.87 1547.79 2318.06 1547.79 Q2312.25 1547.79 2309.17 1543.21 Q2306.11 1538.6 2306.11 1529.87 Q2306.11 1521.12 2309.17 1516.54 Q2312.25 1511.93 2318.06 1511.93 Z\" fill=\"#000000\" fill-rule=\"evenodd\" fill-opacity=\"1\" /><polyline clip-path=\"url(#clip832)\" style=\"stroke:#000000; stroke-width:2; stroke-opacity:0.1; fill:none\" points=\"\n  336.246,1207.65 2352.76,1207.65 \n  \"/>\n<polyline clip-path=\"url(#clip832)\" style=\"stroke:#000000; stroke-width:2; stroke-opacity:0.1; fill:none\" points=\"\n  336.246,903.198 2352.76,903.198 \n  \"/>\n<polyline clip-path=\"url(#clip832)\" style=\"stroke:#000000; stroke-width:2; stroke-opacity:0.1; fill:none\" points=\"\n  336.246,598.749 2352.76,598.749 \n  \"/>\n<polyline clip-path=\"url(#clip832)\" style=\"stroke:#000000; stroke-width:2; stroke-opacity:0.1; fill:none\" points=\"\n  336.246,294.3 2352.76,294.3 \n  \"/>\n<polyline clip-path=\"url(#clip830)\" style=\"stroke:#000000; stroke-width:4; stroke-opacity:1; fill:none\" points=\"\n  336.246,1486.45 336.246,47.2441 \n  \"/>\n<polyline clip-path=\"url(#clip830)\" style=\"stroke:#000000; stroke-width:4; stroke-opacity:1; fill:none\" points=\"\n  336.246,1207.65 360.444,1207.65 \n  \"/>\n<polyline clip-path=\"url(#clip830)\" style=\"stroke:#000000; stroke-width:4; stroke-opacity:1; fill:none\" points=\"\n  336.246,903.198 360.444,903.198 \n  \"/>\n<polyline clip-path=\"url(#clip830)\" style=\"stroke:#000000; stroke-width:4; stroke-opacity:1; fill:none\" points=\"\n  336.246,598.749 360.444,598.749 \n  \"/>\n<polyline clip-path=\"url(#clip830)\" style=\"stroke:#000000; stroke-width:4; stroke-opacity:1; fill:none\" points=\"\n  336.246,294.3 360.444,294.3 \n  \"/>\n<path clip-path=\"url(#clip830)\" d=\"M 0 0 M53.3995 1227.44 L61.0384 1227.44 L61.0384 1201.07 L52.7282 1202.74 L52.7282 1198.48 L60.9921 1196.82 L65.668 1196.82 L65.668 1227.44 L73.3068 1227.44 L73.3068 1231.38 L53.3995 1231.38 L53.3995 1227.44 Z\" fill=\"#000000\" fill-rule=\"evenodd\" fill-opacity=\"1\" /><path clip-path=\"url(#clip830)\" d=\"M 0 0 M82.7512 1225.5 L87.6354 1225.5 L87.6354 1231.38 L82.7512 1231.38 L82.7512 1225.5 Z\" fill=\"#000000\" fill-rule=\"evenodd\" fill-opacity=\"1\" /><path clip-path=\"url(#clip830)\" d=\"M 0 0 M107.821 1199.89 Q104.209 1199.89 102.381 1203.46 Q100.575 1207 100.575 1214.13 Q100.575 1221.24 102.381 1224.8 Q104.209 1228.34 107.821 1228.34 Q111.455 1228.34 113.26 1224.8 Q115.089 1221.24 115.089 1214.13 Q115.089 1207 113.26 1203.46 Q111.455 1199.89 107.821 1199.89 M107.821 1196.19 Q113.631 1196.19 116.686 1200.8 Q119.765 1205.38 119.765 1214.13 Q119.765 1222.86 116.686 1227.46 Q113.631 1232.05 107.821 1232.05 Q102.01 1232.05 98.9317 1227.46 Q95.8761 1222.86 95.8761 1214.13 Q95.8761 1205.38 98.9317 1200.8 Q102.01 1196.19 107.821 1196.19 Z\" fill=\"#000000\" fill-rule=\"evenodd\" fill-opacity=\"1\" /><path clip-path=\"url(#clip830)\" d=\"M 0 0 M137.982 1199.89 Q134.371 1199.89 132.543 1203.46 Q130.737 1207 130.737 1214.13 Q130.737 1221.24 132.543 1224.8 Q134.371 1228.34 137.982 1228.34 Q141.617 1228.34 143.422 1224.8 Q145.251 1221.24 145.251 1214.13 Q145.251 1207 143.422 1203.46 Q141.617 1199.89 137.982 1199.89 M137.982 1196.19 Q143.793 1196.19 146.848 1200.8 Q149.927 1205.38 149.927 1214.13 Q149.927 1222.86 146.848 1227.46 Q143.793 1232.05 137.982 1232.05 Q132.172 1232.05 129.094 1227.46 Q126.038 1222.86 126.038 1214.13 Q126.038 1205.38 129.094 1200.8 Q132.172 1196.19 137.982 1196.19 Z\" fill=\"#000000\" fill-rule=\"evenodd\" fill-opacity=\"1\" /><path clip-path=\"url(#clip830)\" d=\"M 0 0 M186.315 1205.91 L175.737 1216.54 L186.315 1227.12 L183.561 1229.92 L172.936 1219.29 L162.311 1229.92 L159.58 1227.12 L170.135 1216.54 L159.58 1205.91 L162.311 1203.11 L172.936 1213.74 L183.561 1203.11 L186.315 1205.91 Z\" fill=\"#000000\" fill-rule=\"evenodd\" fill-opacity=\"1\" /><path clip-path=\"url(#clip830)\" d=\"M 0 0 M198.677 1227.44 L206.315 1227.44 L206.315 1201.07 L198.005 1202.74 L198.005 1198.48 L206.269 1196.82 L210.945 1196.82 L210.945 1227.44 L218.584 1227.44 L218.584 1231.38 L198.677 1231.38 L198.677 1227.44 Z\" fill=\"#000000\" fill-rule=\"evenodd\" fill-opacity=\"1\" /><path clip-path=\"url(#clip830)\" d=\"M 0 0 M238.028 1199.89 Q234.417 1199.89 232.588 1203.46 Q230.783 1207 230.783 1214.13 Q230.783 1221.24 232.588 1224.8 Q234.417 1228.34 238.028 1228.34 Q241.662 1228.34 243.468 1224.8 Q245.297 1221.24 245.297 1214.13 Q245.297 1207 243.468 1203.46 Q241.662 1199.89 238.028 1199.89 M238.028 1196.19 Q243.838 1196.19 246.894 1200.8 Q249.973 1205.38 249.973 1214.13 Q249.973 1222.86 246.894 1227.46 Q243.838 1232.05 238.028 1232.05 Q232.218 1232.05 229.139 1227.46 Q226.084 1222.86 226.084 1214.13 Q226.084 1205.38 229.139 1200.8 Q232.218 1196.19 238.028 1196.19 Z\" fill=\"#000000\" fill-rule=\"evenodd\" fill-opacity=\"1\" /><path clip-path=\"url(#clip830)\" d=\"M 0 0 M249.973 1190.29 L274.084 1190.29 L274.084 1193.49 L249.973 1193.49 L249.973 1190.29 Z\" fill=\"#000000\" fill-rule=\"evenodd\" fill-opacity=\"1\" /><path clip-path=\"url(#clip830)\" d=\"M 0 0 M290.879 1188.41 Q288.322 1188.41 286.817 1190.16 Q285.331 1191.91 285.331 1194.96 Q285.331 1197.98 286.817 1199.75 Q288.322 1201.5 290.879 1201.5 Q293.437 1201.5 294.923 1199.75 Q296.428 1197.98 296.428 1194.96 Q296.428 1191.91 294.923 1190.16 Q293.437 1188.41 290.879 1188.41 M298.421 1176.51 L298.421 1179.97 Q296.992 1179.29 295.525 1178.93 Q294.077 1178.57 292.647 1178.57 Q288.886 1178.57 286.892 1181.11 Q284.917 1183.65 284.635 1188.79 Q285.745 1187.15 287.419 1186.29 Q289.093 1185.4 291.105 1185.4 Q295.337 1185.4 297.782 1187.98 Q300.246 1190.54 300.246 1194.96 Q300.246 1199.28 297.688 1201.9 Q295.13 1204.51 290.879 1204.51 Q286.008 1204.51 283.432 1200.79 Q280.855 1197.04 280.855 1189.95 Q280.855 1183.3 284.015 1179.35 Q287.174 1175.38 292.497 1175.38 Q293.926 1175.38 295.374 1175.66 Q296.842 1175.94 298.421 1176.51 Z\" fill=\"#000000\" fill-rule=\"evenodd\" fill-opacity=\"1\" /><path clip-path=\"url(#clip830)\" d=\"M 0 0 M53.3995 922.991 L61.0384 922.991 L61.0384 896.625 L52.7282 898.292 L52.7282 894.033 L60.9921 892.366 L65.668 892.366 L65.668 922.991 L73.3068 922.991 L73.3068 926.926 L53.3995 926.926 L53.3995 922.991 Z\" fill=\"#000000\" fill-rule=\"evenodd\" fill-opacity=\"1\" /><path clip-path=\"url(#clip830)\" d=\"M 0 0 M82.7512 921.046 L87.6354 921.046 L87.6354 926.926 L82.7512 926.926 L82.7512 921.046 Z\" fill=\"#000000\" fill-rule=\"evenodd\" fill-opacity=\"1\" /><path clip-path=\"url(#clip830)\" d=\"M 0 0 M97.8669 892.366 L116.223 892.366 L116.223 896.301 L102.149 896.301 L102.149 904.773 Q103.168 904.426 104.186 904.264 Q105.205 904.079 106.223 904.079 Q112.01 904.079 115.39 907.25 Q118.77 910.421 118.77 915.838 Q118.77 921.417 115.297 924.519 Q111.825 927.597 105.506 927.597 Q103.33 927.597 101.061 927.227 Q98.8159 926.857 96.4085 926.116 L96.4085 921.417 Q98.4919 922.551 100.714 923.107 Q102.936 923.662 105.413 923.662 Q109.418 923.662 111.756 921.556 Q114.094 919.449 114.094 915.838 Q114.094 912.227 111.756 910.12 Q109.418 908.014 105.413 908.014 Q103.538 908.014 101.663 908.431 Q99.8113 908.847 97.8669 909.727 L97.8669 892.366 Z\" fill=\"#000000\" fill-rule=\"evenodd\" fill-opacity=\"1\" /><path clip-path=\"url(#clip830)\" d=\"M 0 0 M137.982 895.445 Q134.371 895.445 132.543 899.009 Q130.737 902.551 130.737 909.681 Q130.737 916.787 132.543 920.352 Q134.371 923.894 137.982 923.894 Q141.617 923.894 143.422 920.352 Q145.251 916.787 145.251 909.681 Q145.251 902.551 143.422 899.009 Q141.617 895.445 137.982 895.445 M137.982 891.741 Q143.793 891.741 146.848 896.347 Q149.927 900.931 149.927 909.681 Q149.927 918.407 146.848 923.014 Q143.793 927.597 137.982 927.597 Q132.172 927.597 129.094 923.014 Q126.038 918.407 126.038 909.681 Q126.038 900.931 129.094 896.347 Q132.172 891.741 137.982 891.741 Z\" fill=\"#000000\" fill-rule=\"evenodd\" fill-opacity=\"1\" /><path clip-path=\"url(#clip830)\" d=\"M 0 0 M186.315 901.463 L175.737 912.088 L186.315 922.667 L183.561 925.468 L172.936 914.843 L162.311 925.468 L159.58 922.667 L170.135 912.088 L159.58 901.463 L162.311 898.662 L172.936 909.287 L183.561 898.662 L186.315 901.463 Z\" fill=\"#000000\" fill-rule=\"evenodd\" fill-opacity=\"1\" /><path clip-path=\"url(#clip830)\" d=\"M 0 0 M198.677 922.991 L206.315 922.991 L206.315 896.625 L198.005 898.292 L198.005 894.033 L206.269 892.366 L210.945 892.366 L210.945 922.991 L218.584 922.991 L218.584 926.926 L198.677 926.926 L198.677 922.991 Z\" fill=\"#000000\" fill-rule=\"evenodd\" fill-opacity=\"1\" /><path clip-path=\"url(#clip830)\" d=\"M 0 0 M238.028 895.445 Q234.417 895.445 232.588 899.009 Q230.783 902.551 230.783 909.681 Q230.783 916.787 232.588 920.352 Q234.417 923.894 238.028 923.894 Q241.662 923.894 243.468 920.352 Q245.297 916.787 245.297 909.681 Q245.297 902.551 243.468 899.009 Q241.662 895.445 238.028 895.445 M238.028 891.741 Q243.838 891.741 246.894 896.347 Q249.973 900.931 249.973 909.681 Q249.973 918.407 246.894 923.014 Q243.838 927.597 238.028 927.597 Q232.218 927.597 229.139 923.014 Q226.084 918.407 226.084 909.681 Q226.084 900.931 229.139 896.347 Q232.218 891.741 238.028 891.741 Z\" fill=\"#000000\" fill-rule=\"evenodd\" fill-opacity=\"1\" /><path clip-path=\"url(#clip830)\" d=\"M 0 0 M249.973 885.842 L274.084 885.842 L274.084 889.04 L249.973 889.04 L249.973 885.842 Z\" fill=\"#000000\" fill-rule=\"evenodd\" fill-opacity=\"1\" /><path clip-path=\"url(#clip830)\" d=\"M 0 0 M290.879 883.962 Q288.322 883.962 286.817 885.711 Q285.331 887.46 285.331 890.507 Q285.331 893.535 286.817 895.303 Q288.322 897.052 290.879 897.052 Q293.437 897.052 294.923 895.303 Q296.428 893.535 296.428 890.507 Q296.428 887.46 294.923 885.711 Q293.437 883.962 290.879 883.962 M298.421 872.056 L298.421 875.517 Q296.992 874.84 295.525 874.482 Q294.077 874.125 292.647 874.125 Q288.886 874.125 286.892 876.664 Q284.917 879.203 284.635 884.338 Q285.745 882.701 287.419 881.836 Q289.093 880.952 291.105 880.952 Q295.337 880.952 297.782 883.529 Q300.246 886.087 300.246 890.507 Q300.246 894.832 297.688 897.447 Q295.13 900.061 290.879 900.061 Q286.008 900.061 283.432 896.337 Q280.855 892.594 280.855 885.504 Q280.855 878.846 284.015 874.896 Q287.174 870.928 292.497 870.928 Q293.926 870.928 295.374 871.21 Q296.842 871.492 298.421 872.056 Z\" fill=\"#000000\" fill-rule=\"evenodd\" fill-opacity=\"1\" /><path clip-path=\"url(#clip830)\" d=\"M 0 0 M56.6171 618.541 L72.9365 618.541 L72.9365 622.477 L50.9921 622.477 L50.9921 618.541 Q53.6541 615.787 58.2375 611.157 Q62.8439 606.504 64.0245 605.162 Q66.2698 602.639 67.1494 600.903 Q68.0522 599.143 68.0522 597.454 Q68.0522 594.699 66.1078 592.963 Q64.1865 591.227 61.0847 591.227 Q58.8856 591.227 56.4319 591.991 Q54.0014 592.755 51.2236 594.305 L51.2236 589.583 Q54.0477 588.449 56.5014 587.87 Q58.955 587.292 60.9921 587.292 Q66.3624 587.292 69.5568 589.977 Q72.7513 592.662 72.7513 597.153 Q72.7513 599.282 71.9411 601.204 Q71.1541 603.102 69.0476 605.694 Q68.4689 606.366 65.367 609.583 Q62.2652 612.778 56.6171 618.541 Z\" fill=\"#000000\" fill-rule=\"evenodd\" fill-opacity=\"1\" /><path clip-path=\"url(#clip830)\" d=\"M 0 0 M82.7512 616.597 L87.6354 616.597 L87.6354 622.477 L82.7512 622.477 L82.7512 616.597 Z\" fill=\"#000000\" fill-rule=\"evenodd\" fill-opacity=\"1\" /><path clip-path=\"url(#clip830)\" d=\"M 0 0 M107.821 590.995 Q104.209 590.995 102.381 594.56 Q100.575 598.102 100.575 605.231 Q100.575 612.338 102.381 615.903 Q104.209 619.444 107.821 619.444 Q111.455 619.444 113.26 615.903 Q115.089 612.338 115.089 605.231 Q115.089 598.102 113.26 594.56 Q111.455 590.995 107.821 590.995 M107.821 587.292 Q113.631 587.292 116.686 591.898 Q119.765 596.481 119.765 605.231 Q119.765 613.958 116.686 618.565 Q113.631 623.148 107.821 623.148 Q102.01 623.148 98.9317 618.565 Q95.8761 613.958 95.8761 605.231 Q95.8761 596.481 98.9317 591.898 Q102.01 587.292 107.821 587.292 Z\" fill=\"#000000\" fill-rule=\"evenodd\" fill-opacity=\"1\" /><path clip-path=\"url(#clip830)\" d=\"M 0 0 M137.982 590.995 Q134.371 590.995 132.543 594.56 Q130.737 598.102 130.737 605.231 Q130.737 612.338 132.543 615.903 Q134.371 619.444 137.982 619.444 Q141.617 619.444 143.422 615.903 Q145.251 612.338 145.251 605.231 Q145.251 598.102 143.422 594.56 Q141.617 590.995 137.982 590.995 M137.982 587.292 Q143.793 587.292 146.848 591.898 Q149.927 596.481 149.927 605.231 Q149.927 613.958 146.848 618.565 Q143.793 623.148 137.982 623.148 Q132.172 623.148 129.094 618.565 Q126.038 613.958 126.038 605.231 Q126.038 596.481 129.094 591.898 Q132.172 587.292 137.982 587.292 Z\" fill=\"#000000\" fill-rule=\"evenodd\" fill-opacity=\"1\" /><path clip-path=\"url(#clip830)\" d=\"M 0 0 M186.315 597.014 L175.737 607.639 L186.315 618.217 L183.561 621.018 L172.936 610.393 L162.311 621.018 L159.58 618.217 L170.135 607.639 L159.58 597.014 L162.311 594.213 L172.936 604.838 L183.561 594.213 L186.315 597.014 Z\" fill=\"#000000\" fill-rule=\"evenodd\" fill-opacity=\"1\" /><path clip-path=\"url(#clip830)\" d=\"M 0 0 M198.677 618.541 L206.315 618.541 L206.315 592.176 L198.005 593.842 L198.005 589.583 L206.269 587.917 L210.945 587.917 L210.945 618.541 L218.584 618.541 L218.584 622.477 L198.677 622.477 L198.677 618.541 Z\" fill=\"#000000\" fill-rule=\"evenodd\" fill-opacity=\"1\" /><path clip-path=\"url(#clip830)\" d=\"M 0 0 M238.028 590.995 Q234.417 590.995 232.588 594.56 Q230.783 598.102 230.783 605.231 Q230.783 612.338 232.588 615.903 Q234.417 619.444 238.028 619.444 Q241.662 619.444 243.468 615.903 Q245.297 612.338 245.297 605.231 Q245.297 598.102 243.468 594.56 Q241.662 590.995 238.028 590.995 M238.028 587.292 Q243.838 587.292 246.894 591.898 Q249.973 596.481 249.973 605.231 Q249.973 613.958 246.894 618.565 Q243.838 623.148 238.028 623.148 Q232.218 623.148 229.139 618.565 Q226.084 613.958 226.084 605.231 Q226.084 596.481 229.139 591.898 Q232.218 587.292 238.028 587.292 Z\" fill=\"#000000\" fill-rule=\"evenodd\" fill-opacity=\"1\" /><path clip-path=\"url(#clip830)\" d=\"M 0 0 M249.973 581.393 L274.084 581.393 L274.084 584.59 L249.973 584.59 L249.973 581.393 Z\" fill=\"#000000\" fill-rule=\"evenodd\" fill-opacity=\"1\" /><path clip-path=\"url(#clip830)\" d=\"M 0 0 M290.879 579.512 Q288.322 579.512 286.817 581.261 Q285.331 583.01 285.331 586.057 Q285.331 589.085 286.817 590.853 Q288.322 592.602 290.879 592.602 Q293.437 592.602 294.923 590.853 Q296.428 589.085 296.428 586.057 Q296.428 583.01 294.923 581.261 Q293.437 579.512 290.879 579.512 M298.421 567.607 L298.421 571.067 Q296.992 570.39 295.525 570.033 Q294.077 569.676 292.647 569.676 Q288.886 569.676 286.892 572.215 Q284.917 574.754 284.635 579.888 Q285.745 578.252 287.419 577.387 Q289.093 576.503 291.105 576.503 Q295.337 576.503 297.782 579.08 Q300.246 581.637 300.246 586.057 Q300.246 590.383 297.688 592.997 Q295.13 595.612 290.879 595.612 Q286.008 595.612 283.432 591.888 Q280.855 588.145 280.855 581.054 Q280.855 574.396 284.015 570.447 Q287.174 566.478 292.497 566.478 Q293.926 566.478 295.374 566.76 Q296.842 567.043 298.421 567.607 Z\" fill=\"#000000\" fill-rule=\"evenodd\" fill-opacity=\"1\" /><path clip-path=\"url(#clip830)\" d=\"M 0 0 M56.6171 314.092 L72.9365 314.092 L72.9365 318.027 L50.9921 318.027 L50.9921 314.092 Q53.6541 311.337 58.2375 306.708 Q62.8439 302.055 64.0245 300.712 Q66.2698 298.189 67.1494 296.453 Q68.0522 294.694 68.0522 293.004 Q68.0522 290.25 66.1078 288.513 Q64.1865 286.777 61.0847 286.777 Q58.8856 286.777 56.4319 287.541 Q54.0014 288.305 51.2236 289.856 L51.2236 285.134 Q54.0477 284 56.5014 283.421 Q58.955 282.842 60.9921 282.842 Q66.3624 282.842 69.5568 285.527 Q72.7513 288.213 72.7513 292.703 Q72.7513 294.833 71.9411 296.754 Q71.1541 298.652 69.0476 301.245 Q68.4689 301.916 65.367 305.134 Q62.2652 308.328 56.6171 314.092 Z\" fill=\"#000000\" fill-rule=\"evenodd\" fill-opacity=\"1\" /><path clip-path=\"url(#clip830)\" d=\"M 0 0 M82.7512 312.148 L87.6354 312.148 L87.6354 318.027 L82.7512 318.027 L82.7512 312.148 Z\" fill=\"#000000\" fill-rule=\"evenodd\" fill-opacity=\"1\" /><path clip-path=\"url(#clip830)\" d=\"M 0 0 M97.8669 283.467 L116.223 283.467 L116.223 287.402 L102.149 287.402 L102.149 295.875 Q103.168 295.527 104.186 295.365 Q105.205 295.18 106.223 295.18 Q112.01 295.18 115.39 298.351 Q118.77 301.523 118.77 306.939 Q118.77 312.518 115.297 315.62 Q111.825 318.699 105.506 318.699 Q103.33 318.699 101.061 318.328 Q98.8159 317.958 96.4085 317.217 L96.4085 312.518 Q98.4919 313.652 100.714 314.208 Q102.936 314.763 105.413 314.763 Q109.418 314.763 111.756 312.657 Q114.094 310.55 114.094 306.939 Q114.094 303.328 111.756 301.222 Q109.418 299.115 105.413 299.115 Q103.538 299.115 101.663 299.532 Q99.8113 299.949 97.8669 300.828 L97.8669 283.467 Z\" fill=\"#000000\" fill-rule=\"evenodd\" fill-opacity=\"1\" /><path clip-path=\"url(#clip830)\" d=\"M 0 0 M137.982 286.546 Q134.371 286.546 132.543 290.111 Q130.737 293.652 130.737 300.782 Q130.737 307.888 132.543 311.453 Q134.371 314.995 137.982 314.995 Q141.617 314.995 143.422 311.453 Q145.251 307.888 145.251 300.782 Q145.251 293.652 143.422 290.111 Q141.617 286.546 137.982 286.546 M137.982 282.842 Q143.793 282.842 146.848 287.449 Q149.927 292.032 149.927 300.782 Q149.927 309.509 146.848 314.115 Q143.793 318.699 137.982 318.699 Q132.172 318.699 129.094 314.115 Q126.038 309.509 126.038 300.782 Q126.038 292.032 129.094 287.449 Q132.172 282.842 137.982 282.842 Z\" fill=\"#000000\" fill-rule=\"evenodd\" fill-opacity=\"1\" /><path clip-path=\"url(#clip830)\" d=\"M 0 0 M186.315 292.564 L175.737 303.189 L186.315 313.768 L183.561 316.569 L172.936 305.944 L162.311 316.569 L159.58 313.768 L170.135 303.189 L159.58 292.564 L162.311 289.763 L172.936 300.388 L183.561 289.763 L186.315 292.564 Z\" fill=\"#000000\" fill-rule=\"evenodd\" fill-opacity=\"1\" /><path clip-path=\"url(#clip830)\" d=\"M 0 0 M198.677 314.092 L206.315 314.092 L206.315 287.726 L198.005 289.393 L198.005 285.134 L206.269 283.467 L210.945 283.467 L210.945 314.092 L218.584 314.092 L218.584 318.027 L198.677 318.027 L198.677 314.092 Z\" fill=\"#000000\" fill-rule=\"evenodd\" fill-opacity=\"1\" /><path clip-path=\"url(#clip830)\" d=\"M 0 0 M238.028 286.546 Q234.417 286.546 232.588 290.111 Q230.783 293.652 230.783 300.782 Q230.783 307.888 232.588 311.453 Q234.417 314.995 238.028 314.995 Q241.662 314.995 243.468 311.453 Q245.297 307.888 245.297 300.782 Q245.297 293.652 243.468 290.111 Q241.662 286.546 238.028 286.546 M238.028 282.842 Q243.838 282.842 246.894 287.449 Q249.973 292.032 249.973 300.782 Q249.973 309.509 246.894 314.115 Q243.838 318.699 238.028 318.699 Q232.218 318.699 229.139 314.115 Q226.084 309.509 226.084 300.782 Q226.084 292.032 229.139 287.449 Q232.218 282.842 238.028 282.842 Z\" fill=\"#000000\" fill-rule=\"evenodd\" fill-opacity=\"1\" /><path clip-path=\"url(#clip830)\" d=\"M 0 0 M249.973 276.944 L274.084 276.944 L274.084 280.141 L249.973 280.141 L249.973 276.944 Z\" fill=\"#000000\" fill-rule=\"evenodd\" fill-opacity=\"1\" /><path clip-path=\"url(#clip830)\" d=\"M 0 0 M290.879 275.063 Q288.322 275.063 286.817 276.812 Q285.331 278.561 285.331 281.608 Q285.331 284.636 286.817 286.404 Q288.322 288.153 290.879 288.153 Q293.437 288.153 294.923 286.404 Q296.428 284.636 296.428 281.608 Q296.428 278.561 294.923 276.812 Q293.437 275.063 290.879 275.063 M298.421 263.157 L298.421 266.618 Q296.992 265.941 295.525 265.584 Q294.077 265.226 292.647 265.226 Q288.886 265.226 286.892 267.765 Q284.917 270.304 284.635 275.439 Q285.745 273.803 287.419 272.938 Q289.093 272.054 291.105 272.054 Q295.337 272.054 297.782 274.63 Q300.246 277.188 300.246 281.608 Q300.246 285.934 297.688 288.548 Q295.13 291.162 290.879 291.162 Q286.008 291.162 283.432 287.438 Q280.855 283.696 280.855 276.605 Q280.855 269.947 284.015 265.997 Q287.174 262.029 292.497 262.029 Q293.926 262.029 295.374 262.311 Q296.842 262.593 298.421 263.157 Z\" fill=\"#000000\" fill-rule=\"evenodd\" fill-opacity=\"1\" /><polyline clip-path=\"url(#clip832)\" style=\"stroke:#009af9; stroke-width:4; stroke-opacity:1; fill:none\" points=\"\n  393.317,90.5355 1344.5,1399.42 2295.68,1427.36 \n  \"/>\n<polyline clip-path=\"url(#clip832)\" style=\"stroke:#e26f46; stroke-width:4; stroke-opacity:1; fill:none\" points=\"\n  393.317,90.2857 1344.5,1433.12 2295.68,1445.66 \n  \"/>\n<polyline clip-path=\"url(#clip832)\" style=\"stroke:#3da44d; stroke-width:4; stroke-opacity:1; fill:none\" points=\"\n  393.317,87.9763 1344.5,1433.09 2295.68,1445.62 \n  \"/>\n<polyline clip-path=\"url(#clip832)\" style=\"stroke:#c271d2; stroke-width:4; stroke-opacity:1; fill:none\" points=\"\n  393.317,99.3427 1344.5,1433.18 2295.68,1445.72 \n  \"/>\n<path clip-path=\"url(#clip830)\" d=\"\nM2007.34 397.618 L2285.54 397.618 L2285.54 95.2176 L2007.34 95.2176  Z\n  \" fill=\"#ffffff\" fill-rule=\"evenodd\" fill-opacity=\"1\"/>\n<polyline clip-path=\"url(#clip830)\" style=\"stroke:#000000; stroke-width:4; stroke-opacity:1; fill:none\" points=\"\n  2007.34,397.618 2285.54,397.618 2285.54,95.2176 2007.34,95.2176 2007.34,397.618 \n  \"/>\n<polyline clip-path=\"url(#clip830)\" style=\"stroke:#009af9; stroke-width:4; stroke-opacity:1; fill:none\" points=\"\n  2029.74,155.698 2164.18,155.698 \n  \"/>\n<path clip-path=\"url(#clip830)\" d=\"M 0 0 M2200.43 175.385 Q2198.62 180.015 2196.91 181.427 Q2195.2 182.839 2192.33 182.839 L2188.92 182.839 L2188.92 179.274 L2191.42 179.274 Q2193.18 179.274 2194.15 178.44 Q2195.13 177.607 2196.31 174.505 L2197.07 172.561 L2186.58 147.052 L2191.1 147.052 L2199.2 167.329 L2207.3 147.052 L2211.82 147.052 L2200.43 175.385 Z\" fill=\"#000000\" fill-rule=\"evenodd\" fill-opacity=\"1\" /><path clip-path=\"url(#clip830)\" d=\"M 0 0 M2219.11 169.042 L2226.75 169.042 L2226.75 142.677 L2218.44 144.343 L2218.44 140.084 L2226.7 138.418 L2231.38 138.418 L2231.38 169.042 L2239.01 169.042 L2239.01 172.978 L2219.11 172.978 L2219.11 169.042 Z\" fill=\"#000000\" fill-rule=\"evenodd\" fill-opacity=\"1\" /><polyline clip-path=\"url(#clip830)\" style=\"stroke:#e26f46; stroke-width:4; stroke-opacity:1; fill:none\" points=\"\n  2029.74,216.178 2164.18,216.178 \n  \"/>\n<path clip-path=\"url(#clip830)\" d=\"M 0 0 M2200.43 235.865 Q2198.62 240.495 2196.91 241.907 Q2195.2 243.319 2192.33 243.319 L2188.92 243.319 L2188.92 239.754 L2191.42 239.754 Q2193.18 239.754 2194.15 238.92 Q2195.13 238.087 2196.31 234.985 L2197.07 233.041 L2186.58 207.532 L2191.1 207.532 L2199.2 227.809 L2207.3 207.532 L2211.82 207.532 L2200.43 235.865 Z\" fill=\"#000000\" fill-rule=\"evenodd\" fill-opacity=\"1\" /><path clip-path=\"url(#clip830)\" d=\"M 0 0 M2222.32 229.522 L2238.64 229.522 L2238.64 233.458 L2216.7 233.458 L2216.7 229.522 Q2219.36 226.768 2223.95 222.138 Q2228.55 217.485 2229.73 216.143 Q2231.98 213.62 2232.86 211.884 Q2233.76 210.124 2233.76 208.435 Q2233.76 205.68 2231.82 203.944 Q2229.89 202.208 2226.79 202.208 Q2224.59 202.208 2222.14 202.972 Q2219.71 203.735 2216.93 205.286 L2216.93 200.564 Q2219.76 199.43 2222.21 198.851 Q2224.66 198.273 2226.7 198.273 Q2232.07 198.273 2235.26 200.958 Q2238.46 203.643 2238.46 208.134 Q2238.46 210.263 2237.65 212.185 Q2236.86 214.083 2234.76 216.675 Q2234.18 217.347 2231.07 220.564 Q2227.97 223.759 2222.32 229.522 Z\" fill=\"#000000\" fill-rule=\"evenodd\" fill-opacity=\"1\" /><polyline clip-path=\"url(#clip830)\" style=\"stroke:#3da44d; stroke-width:4; stroke-opacity:1; fill:none\" points=\"\n  2029.74,276.658 2164.18,276.658 \n  \"/>\n<path clip-path=\"url(#clip830)\" d=\"M 0 0 M2200.43 296.345 Q2198.62 300.975 2196.91 302.387 Q2195.2 303.799 2192.33 303.799 L2188.92 303.799 L2188.92 300.234 L2191.42 300.234 Q2193.18 300.234 2194.15 299.4 Q2195.13 298.567 2196.31 295.465 L2197.07 293.521 L2186.58 268.012 L2191.1 268.012 L2199.2 288.289 L2207.3 268.012 L2211.82 268.012 L2200.43 296.345 Z\" fill=\"#000000\" fill-rule=\"evenodd\" fill-opacity=\"1\" /><path clip-path=\"url(#clip830)\" d=\"M 0 0 M2232.46 275.303 Q2235.82 276.021 2237.7 278.289 Q2239.59 280.558 2239.59 283.891 Q2239.59 289.007 2236.07 291.808 Q2232.56 294.609 2226.07 294.609 Q2223.9 294.609 2221.58 294.169 Q2219.29 293.752 2216.84 292.896 L2216.84 288.382 Q2218.78 289.516 2221.1 290.095 Q2223.41 290.674 2225.94 290.674 Q2230.33 290.674 2232.63 288.938 Q2234.94 287.201 2234.94 283.891 Q2234.94 280.836 2232.79 279.123 Q2230.66 277.387 2226.84 277.387 L2222.81 277.387 L2222.81 273.544 L2227.02 273.544 Q2230.47 273.544 2232.3 272.178 Q2234.13 270.79 2234.13 268.197 Q2234.13 265.535 2232.23 264.123 Q2230.36 262.688 2226.84 262.688 Q2224.92 262.688 2222.72 263.104 Q2220.52 263.521 2217.88 264.401 L2217.88 260.234 Q2220.54 259.493 2222.86 259.123 Q2225.2 258.753 2227.26 258.753 Q2232.58 258.753 2235.68 261.183 Q2238.78 263.59 2238.78 267.711 Q2238.78 270.581 2237.14 272.572 Q2235.5 274.54 2232.46 275.303 Z\" fill=\"#000000\" fill-rule=\"evenodd\" fill-opacity=\"1\" /><polyline clip-path=\"url(#clip830)\" style=\"stroke:#c271d2; stroke-width:4; stroke-opacity:1; fill:none\" points=\"\n  2029.74,337.138 2164.18,337.138 \n  \"/>\n<path clip-path=\"url(#clip830)\" d=\"M 0 0 M2200.43 356.825 Q2198.62 361.455 2196.91 362.867 Q2195.2 364.279 2192.33 364.279 L2188.92 364.279 L2188.92 360.714 L2191.42 360.714 Q2193.18 360.714 2194.15 359.88 Q2195.13 359.047 2196.31 355.945 L2197.07 354.001 L2186.58 328.492 L2191.1 328.492 L2199.2 348.769 L2207.3 328.492 L2211.82 328.492 L2200.43 356.825 Z\" fill=\"#000000\" fill-rule=\"evenodd\" fill-opacity=\"1\" /><path clip-path=\"url(#clip830)\" d=\"M 0 0 M2231.14 323.932 L2219.34 342.381 L2231.14 342.381 L2231.14 323.932 M2229.92 319.858 L2235.8 319.858 L2235.8 342.381 L2240.73 342.381 L2240.73 346.269 L2235.8 346.269 L2235.8 354.418 L2231.14 354.418 L2231.14 346.269 L2215.54 346.269 L2215.54 341.756 L2229.92 319.858 Z\" fill=\"#000000\" fill-rule=\"evenodd\" fill-opacity=\"1\" /></svg>\n"
     },
     "metadata": {},
     "execution_count": 17
    }
   ],
   "source": [
    "run(sess,loss)\n",
    "q_check = run(sess,q_t_y)[5];\n",
    "p_check = run(sess,p);\n",
    "\n",
    "\n",
    "plot(mean(y_y_list[5],dims=1)[1,:])\n",
    "# plot!(q_check[:,3,1])\n",
    "plot!(sum(q_check .* p_check,dims=2)[:,1,1])\n",
    "plot!(maximum(q_check,dims=2)[:,1,1])\n",
    "plot!(minimum(q_check,dims=2)[:,1,1])\n",
    "\n",
    "\n"
   ]
  },
  {
   "cell_type": "code",
   "execution_count": 12,
   "metadata": {},
   "outputs": [
    {
     "output_type": "execute_result",
     "data": {
      "text/plain": [
       "1.3622262875013346e-8"
      ]
     },
     "metadata": {},
     "execution_count": 12
    }
   ],
   "source": [
    "1.3622262875013346e-8"
   ]
  },
  {
   "cell_type": "code",
   "execution_count": null,
   "metadata": {},
   "outputs": [],
   "source": []
  },
  {
   "cell_type": "code",
   "execution_count": null,
   "metadata": {},
   "outputs": [],
   "source": []
  },
  {
   "cell_type": "code",
   "execution_count": null,
   "metadata": {},
   "outputs": [],
   "source": []
  },
  {
   "cell_type": "code",
   "execution_count": null,
   "metadata": {},
   "outputs": [],
   "source": []
  },
  {
   "cell_type": "code",
   "execution_count": null,
   "metadata": {},
   "outputs": [],
   "source": []
  },
  {
   "cell_type": "code",
   "execution_count": null,
   "metadata": {},
   "outputs": [],
   "source": []
  }
 ]
}