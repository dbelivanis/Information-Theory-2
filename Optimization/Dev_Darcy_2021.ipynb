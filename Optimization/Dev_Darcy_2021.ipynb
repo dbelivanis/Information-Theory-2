{
 "cells": [
  {
   "cell_type": "markdown",
   "metadata": {},
   "source": [
    "## Load Libraries"
   ]
  },
  {
   "cell_type": "code",
   "execution_count": 2,
   "metadata": {},
   "outputs": [
    {
     "output_type": "execute_result",
     "data": {
      "text/plain": [
       "Main.param"
      ]
     },
     "metadata": {},
     "execution_count": 2
    }
   ],
   "source": [
    "include(\"./param.jl\")\n"
   ]
  },
  {
   "cell_type": "code",
   "execution_count": 3,
   "metadata": {},
   "outputs": [
    {
     "output_type": "stream",
     "name": "stderr",
     "text": [
      "WARNING: using param.param in module aux_functions conflicts with an existing identifier.\nWARNING: could not import HDF5.HDF5Group into _hdf5_implementation\nWARNING: could not import HDF5.HDF5Dataset into _hdf5_implementation\n┌ Warning: Error requiring `HDF5` from `Plots`\n│   exception = (LoadError(\"/home/dimitrios/.julia/packages/Plots/uCh2y/src/backends/hdf5.jl\", 162, UndefVarError(:HDF5Group)), Union{Ptr{Nothing}, Base.InterpreterIP}[Ptr{Nothing} @0x00007fa7cba3d843, Ptr{Nothing} @0x00007fa7cbaca17c, Ptr{Nothing} @0x00007fa7cbaca73b, Ptr{Nothing} @0x00007fa7cbaca389, Ptr{Nothing} @0x00007fa7cbaca8f0, Ptr{Nothing} @0x00007fa7cbacb9c8, Ptr{Nothing} @0x00007fa7cbacc616, Base.InterpreterIP in top-level CodeInfo for Plots._hdf5_implementation at statement 4, Ptr{Nothing} @0x00007fa7cbae4e08, Ptr{Nothing} @0x00007fa7cbae578e, Ptr{Nothing} @0x00007fa7cbae513a, Ptr{Nothing} @0x00007fa7cbae53c8, Ptr{Nothing} @0x00007fa7cbac0105, Ptr{Nothing} @0x00007fa7cbae615d, Ptr{Nothing} @0x00007fa7bdd75fa1, Ptr{Nothing} @0x00007fa784705e7c, Ptr{Nothing} @0x00007fa7cbaca75b, Ptr{Nothing} @0x00007fa7cbaca389, Ptr{Nothing} @0x00007fa7cbaca8f0, Ptr{Nothing} @0x00007fa7cbacb9c8, Ptr{Nothing} @0x00007fa7cbacc616, Base.InterpreterIP in top-level CodeInfo for Plots at statement 10, Ptr{Nothing} @0x00007fa7cbae4e08, Ptr{Nothing} @0x00007fa7cbae5f20, Ptr{Nothing} @0x00007fa7846f29a1, Ptr{Nothing} @0x00007fa7846f29cc, Ptr{Nothing} @0x00007fa7846f2424, Ptr{Nothing} @0x00007fa7846f21a7, Ptr{Nothing} @0x00007fa7846f21bc, Ptr{Nothing} @0x00007fa7846f2012, Ptr{Nothing} @0x00007fa7846f19a5, Ptr{Nothing} @0x00007fa7846f19cc, Ptr{Nothing} @0x00007fa7846dff95, Ptr{Nothing} @0x00007fa7846e0618, Ptr{Nothing} @0x00007fa7846e0e9c, Ptr{Nothing} @0x00007fa7cbae44d1, Ptr{Nothing} @0x00007fa7cbadbbfc, Ptr{Nothing} @0x00007fa7b7b0cb0e, Ptr{Nothing} @0x00007fa7b7b0e652, Ptr{Nothing} @0x00007fa7b7b132ab, Ptr{Nothing} @0x00007fa7b7b15464, Ptr{Nothing} @0x00007fa7b7b01b82, Ptr{Nothing} @0x00007fa7cbae4113, Ptr{Nothing} @0x00007fa7cbae5266, Ptr{Nothing} @0x00007fa7cbae578e, Ptr{Nothing} @0x00007fa7cbae513a, Ptr{Nothing} @0x00007fa7cbac0105, Ptr{Nothing} @0x00007fa7cbae615d, Ptr{Nothing} @0x00007fa7bdefd23b, Ptr{Nothing} @0x00007fa7cbaca75b, Ptr{Nothing} @0x00007fa7cbaca389, Ptr{Nothing} @0x00007fa7cbaca8f0, Ptr{Nothing} @0x00007fa7cbacb9c8, Ptr{Nothing} @0x00007fa7cbacc616, Base.InterpreterIP in top-level CodeInfo for Main at statement 0, Ptr{Nothing} @0x00007fa7cbae4e08, Ptr{Nothing} @0x00007fa7cbae5f20, Ptr{Nothing} @0x00007fa78469d1e5, Ptr{Nothing} @0x00007fa78469bb5f, Ptr{Nothing} @0x00007fa7cbac2df8, Ptr{Nothing} @0x00007fa7cbac3565, Ptr{Nothing} @0x00007fa7b7a8d7c2, Ptr{Nothing} @0x00007fa7b7a8d99e, Ptr{Nothing} @0x00007fa7b7a8d9bc, Ptr{Nothing} @0x00007fa7cbacfcbb, Ptr{Nothing} @0x0000000000000000])\n└ @ Requires /home/dimitrios/.julia/packages/Requires/035xH/src/require.jl:44\n"
     ]
    },
    {
     "output_type": "execute_result",
     "data": {
      "text/plain": [
       "Main.aux_functions"
      ]
     },
     "metadata": {},
     "execution_count": 3
    }
   ],
   "source": [
    "include(\"./aux_functions.jl\")\n"
   ]
  },
  {
   "cell_type": "code",
   "execution_count": 4,
   "metadata": {},
   "outputs": [],
   "source": [
    "using Main.aux_functions\n",
    "using Main.param"
   ]
  },
  {
   "cell_type": "code",
   "execution_count": 5,
   "metadata": {},
   "outputs": [],
   "source": [
    "using ADCME\n",
    "using SparseArrays\n",
    "\n",
    "using DelimitedFiles\n",
    "using Dates\n",
    "using Plots"
   ]
  },
  {
   "cell_type": "code",
   "execution_count": 6,
   "metadata": {},
   "outputs": [],
   "source": [
    "param_model_val = param_model();"
   ]
  },
  {
   "cell_type": "code",
   "execution_count": 7,
   "metadata": {},
   "outputs": [],
   "source": [
    "aux_functions.Darcy_flow_solver(param_model_val);"
   ]
  },
  {
   "cell_type": "code",
   "execution_count": 8,
   "metadata": {},
   "outputs": [],
   "source": [
    "# global model_param = param_model_val"
   ]
  },
  {
   "cell_type": "markdown",
   "metadata": {},
   "source": [
    "## Inputs"
   ]
  },
  {
   "cell_type": "code",
   "execution_count": 9,
   "metadata": {},
   "outputs": [],
   "source": [
    "run_name = \"Run_no_zero_flow_Run_1611143123\"\n",
    "\n",
    "Lx = 1000\n",
    "Ly = 1000\n",
    "\n",
    "T_h = 18000\n",
    "\n",
    "N_x = 21\n",
    "N_y = 21\n",
    "\n",
    "N_steps = 10\n",
    "\n",
    "N_k = 64\n",
    "\n",
    "## Fine scale Inputs\n",
    "\n",
    "N_steps_fine = N_steps\n",
    "N_k_fine = 100\n",
    "N_y_fine = 1;"
   ]
  },
  {
   "cell_type": "code",
   "execution_count": 10,
   "metadata": {},
   "outputs": [],
   "source": [
    "# aux_functions.add_param(\"N_x\",N_x)\n",
    "# aux_functions.add_param(\"N_y\",N_y)\n",
    "# aux_functions.add_param(\"N_k\",N_k)\n",
    "# aux_functions.add_param(\"T\",T_h)\n",
    "# aux_functions.add_param(\"Lx\",Lx)\n",
    "# aux_functions.add_param(\"Ly\",Ly)\n",
    "# aux_functions.add_param(\"N_steps\",N_steps)\n",
    "# aux_functions.add_param(\"N_k_fine\",N_k_fine)\n",
    "# aux_functions.add_param(\"run_name\",run_name);\n"
   ]
  },
  {
   "cell_type": "markdown",
   "metadata": {},
   "source": [
    "## Calculations"
   ]
  },
  {
   "cell_type": "code",
   "execution_count": 11,
   "metadata": {},
   "outputs": [
    {
     "output_type": "execute_result",
     "data": {
      "text/plain": [
       "\"EXP_2021_03_11_143717_\""
      ]
     },
     "metadata": {},
     "execution_count": 11
    }
   ],
   "source": [
    "exp_name = string(\"EXP_\" , Dates.format(now(), \"yyyy_mm_dd_HHMMSS\"),'_')\n"
   ]
  },
  {
   "cell_type": "code",
   "execution_count": null,
   "metadata": {},
   "outputs": [],
   "source": []
  },
  {
   "cell_type": "code",
   "execution_count": null,
   "metadata": {},
   "outputs": [],
   "source": []
  },
  {
   "cell_type": "code",
   "execution_count": null,
   "metadata": {},
   "outputs": [],
   "source": []
  },
  {
   "cell_type": "code",
   "execution_count": null,
   "metadata": {},
   "outputs": [],
   "source": []
  },
  {
   "cell_type": "code",
   "execution_count": 12,
   "metadata": {},
   "outputs": [
    {
     "output_type": "error",
     "ename": "MethodError",
     "evalue": "MethodError: no method matching iterate(::Main.param.aux_matrix)\nClosest candidates are:\n  iterate(!Matched::Core.SimpleVector) at essentials.jl:603\n  iterate(!Matched::Core.SimpleVector, !Matched::Any) at essentials.jl:603\n  iterate(!Matched::ExponentialBackOff) at error.jl:253\n  ...",
     "traceback": [
      "MethodError: no method matching iterate(::Main.param.aux_matrix)\nClosest candidates are:\n  iterate(!Matched::Core.SimpleVector) at essentials.jl:603\n  iterate(!Matched::Core.SimpleVector, !Matched::Any) at essentials.jl:603\n  iterate(!Matched::ExponentialBackOff) at error.jl:253\n  ...",
      "",
      "Stacktrace:",
      " [1] indexed_iterate(::Main.param.aux_matrix, ::Int64) at ./tuple.jl:84",
      " [2] top-level scope at In[12]:1"
     ]
    }
   ],
   "source": [
    "m2_m, m3_m, m4_m, m5_m, m2_m_1, m3_m_1, m4_m_1, m5_m_1  = aux_functions.Multi_point_flux_aux_matrix(param_model_val);"
   ]
  },
  {
   "cell_type": "code",
   "execution_count": 13,
   "metadata": {},
   "outputs": [
    {
     "output_type": "error",
     "ename": "UndefVarError",
     "evalue": "UndefVarError: init_initial_conditions not defined",
     "traceback": [
      "UndefVarError: init_initial_conditions not defined",
      "",
      "Stacktrace:",
      " [1] getproperty(::Module, ::Symbol) at ./Base.jl:26",
      " [2] top-level scope at In[13]:1"
     ]
    }
   ],
   "source": [
    "aux_functions.init_initial_conditions();"
   ]
  },
  {
   "cell_type": "code",
   "execution_count": null,
   "metadata": {},
   "outputs": [],
   "source": [
    "aux_functions.init_prob()"
   ]
  },
  {
   "cell_type": "code",
   "execution_count": null,
   "metadata": {},
   "outputs": [],
   "source": [
    "aux_functions.initialize_sess()"
   ]
  },
  {
   "cell_type": "code",
   "execution_count": null,
   "metadata": {},
   "outputs": [],
   "source": [
    "N_k_dis_ = 4\n",
    "\n",
    "T_exp = -10\n",
    "\n",
    "T_=  10.0 .^ -T_exp"
   ]
  },
  {
   "cell_type": "code",
   "execution_count": null,
   "metadata": {},
   "outputs": [],
   "source": [
    "aux_functions.check_diff(T_,N_k_dis_)"
   ]
  },
  {
   "cell_type": "code",
   "execution_count": null,
   "metadata": {},
   "outputs": [],
   "source": [
    "aux_functions.optimize(aux_functions.opt_LFGS_sum,T_,N_k_dis_)"
   ]
  },
  {
   "cell_type": "code",
   "execution_count": null,
   "metadata": {},
   "outputs": [],
   "source": [
    "aux_functions.check_diff(T_,N_k_dis_)"
   ]
  },
  {
   "cell_type": "code",
   "execution_count": null,
   "metadata": {},
   "outputs": [],
   "source": []
  }
 ],
 "metadata": {
  "kernelspec": {
   "display_name": "Julia 1.4.1",
   "language": "julia",
   "name": "julia-1.4"
  },
  "language_info": {
   "file_extension": ".jl",
   "mimetype": "application/julia",
   "name": "julia",
   "version": "1.4.1"
  }
 },
 "nbformat": 4,
 "nbformat_minor": 4
}